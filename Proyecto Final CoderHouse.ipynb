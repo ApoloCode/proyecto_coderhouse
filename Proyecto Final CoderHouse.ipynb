{
 "cells": [
  {
   "cell_type": "markdown",
   "source": "# Business Understanding",
   "metadata": {
    "datalore": {
     "type": "MD",
     "hide_input_from_viewers": false,
     "hide_output_from_viewers": false
    },
    "cell_id": "12229c53-1402-4063-bb5a-68fb2d335cf0",
    "deepnote_app_coordinates": {
     "x": 0,
     "y": null,
     "w": 12,
     "h": 5
    },
    "deepnote_cell_type": "markdown",
    "deepnote_cell_height": 81.60000610351562
   }
  },
  {
   "cell_type": "markdown",
   "source": "## Objetivo\n \nEl objetivo de mi proyecto final será hacer una modelo que haga la predicción de que si una persona sera buen o mal cliente con base en su historial crediticio y algunos parametros de su solicitud de credito",
   "metadata": {
    "datalore": {
     "type": "MD",
     "hide_input_from_viewers": false,
     "hide_output_from_viewers": false
    },
    "cell_id": "00001-b3b2221f-3ee6-4d30-b3ef-bbac85f6f011",
    "deepnote_app_coordinates": {
     "x": 0,
     "y": 6,
     "w": 12,
     "h": 5
    },
    "deepnote_cell_type": "markdown",
    "deepnote_cell_height": 130.39999389648438
   }
  },
  {
   "cell_type": "code",
   "metadata": {
    "datalore": {
     "type": "CODE",
     "hide_input_from_viewers": false,
     "hide_output_from_viewers": false
    },
    "cell_id": "00002-d8d676e3-7a0c-4f58-81f1-61454e812d9f",
    "deepnote_to_be_reexecuted": false,
    "source_hash": "d0edbfea",
    "execution_start": 1647917687179,
    "execution_millis": 3393,
    "deepnote_app_coordinates": {
     "x": 0,
     "y": 12,
     "w": 12,
     "h": 5
    },
    "deepnote_cell_type": "code",
    "deepnote_cell_height": 170.60000610351562
   },
   "source": "# Importamos las librerias\nimport pandas as pd\nimport numpy as np\nimport plotly.express as px\nimport seaborn as sns\nimport matplotlib.pyplot as plt",
   "outputs": [],
   "execution_count": null
  },
  {
   "cell_type": "markdown",
   "source": "## Obtener información",
   "metadata": {
    "datalore": {
     "type": "MD",
     "hide_input_from_viewers": false,
     "hide_output_from_viewers": false
    },
    "cell_id": "00003-e8234bd1-3aa3-4fa1-9d4c-db0f2103afaa",
    "deepnote_app_coordinates": {
     "x": 0,
     "y": 18,
     "w": 12,
     "h": 5
    },
    "deepnote_cell_type": "markdown",
    "deepnote_cell_height": 69.60000610351562
   }
  },
  {
   "cell_type": "markdown",
   "source": "La información que ocuparemos fue conseguida de la página Kaggle (https://www.kaggle.com/rikdifos/credit-card-approval-prediction) y son 2 archivos:\n\n1) credit_record.csv: Este archivo contiene la siguiente información:\n   \n    a) ID: Id del cliente\n\n    b) MONTHS_BALANCE: El mes de la información recopilada (este mes, el anterior, etc.)\n\n    c) STATUS: El status del credito del cliente\n2) application_record.csv\n   \n    a) ID: Id del solicitante\n    \n    b) CODE_GENDER: Género\n\n    c) FLAG_OWN_CAR: ¿El solicitante tiene un carro?\n\n    d) FLAG_OWN_REALTY: ¿El solicitante tiene una propiedad?\n\n    e) CNT_CHILDREN: Número de hijos\n\n    f) AMT_INCOME_TOTAL: Ingreso anual en dolares\n\n    g) NAME_INCOME_TYPE: Categoria del ingreso\n\n    h) NAME_EDUCATION_TYPE: Nivel de estudios\n\n    i) NAME_FAMILY_STATUS: Estado civil\n\n    j) NAME_HOUSING_TYPE: Modalidad de vivienda\n\n    k) DAYS_BIRTH: Dias de nacido (cuenta hacia atras)\n\n    l) DAYS_EMPLOYED: Dias empleado (cuenta hacia atras, si el número es positivo significa desempleado)\n\n    m) FLAG_MOBIL: ¿El solicitante tiene teléfono móvil?\n\n    n) FLAG_WORK_PHONE: ¿El solicitante tiene telefono de trabajo?\n\n    ñ) FLAG_PHONE: ¿El solicitante tiene telefono?\n \n    o) FLAG_EMAIL: ¿El solicitante tiene e-mail?\n\n    p) OCCUPATION_TYPE: Tipo de ocupación\n    \n    q) CNT_FAM_MEMBERS: Tamaño de la familia",
   "metadata": {
    "datalore": {
     "type": "MD",
     "hide_input_from_viewers": false,
     "hide_output_from_viewers": false
    },
    "cell_id": "00004-fa9bb87c-5b7a-4d1e-99d2-654eb6381b8d",
    "deepnote_app_coordinates": {
     "x": 0,
     "y": 24,
     "w": 12,
     "h": 5
    },
    "deepnote_cell_type": "markdown",
    "deepnote_cell_height": 914.5999755859375
   }
  },
  {
   "cell_type": "code",
   "metadata": {
    "datalore": {
     "type": "CODE",
     "hide_input_from_viewers": false,
     "hide_output_from_viewers": false
    },
    "cell_id": "00006-18e41a50-7ee3-4df6-b2a6-261fccd05b81",
    "deepnote_to_be_reexecuted": false,
    "source_hash": "c9fb58a2",
    "execution_start": 1647917690578,
    "execution_millis": 1263,
    "deepnote_app_coordinates": {
     "x": 0,
     "y": 30,
     "w": 12,
     "h": 5
    },
    "deepnote_cell_type": "code",
    "deepnote_cell_height": 134.60000610351562
   },
   "source": "## Obtenemos el dataset del historial crediticio\nhistorial_credito = pd.read_csv('data/credit_record.csv')\n## Obtenemos el dataset del registro de aplicación de credito\nregistro_aplicacion = pd.read_csv('data/application_record.csv')",
   "outputs": [],
   "execution_count": null
  },
  {
   "cell_type": "code",
   "metadata": {
    "datalore": {
     "type": "CODE",
     "hide_input_from_viewers": false,
     "hide_output_from_viewers": false
    },
    "cell_id": "00007-fac2b1d0-dbf6-4deb-ae23-69af53ea77ec",
    "deepnote_to_be_reexecuted": false,
    "source_hash": "c404f4b",
    "execution_start": 1647917691921,
    "execution_millis": 34,
    "deepnote_app_coordinates": {
     "x": 0,
     "y": 36,
     "w": 12,
     "h": 5
    },
    "deepnote_cell_type": "code",
    "deepnote_cell_height": 409
   },
   "source": "registro_aplicacion.head()",
   "outputs": [
    {
     "output_type": "execute_result",
     "execution_count": 4,
     "data": {
      "application/vnd.deepnote.dataframe.v3+json": {
       "column_count": 18,
       "row_count": 5,
       "columns": [
        {
         "name": "ID",
         "dtype": "int64",
         "stats": {
          "unique_count": 5,
          "nan_count": 0,
          "min": "5008804",
          "max": "5008809",
          "histogram": [
           {
            "bin_start": 5008804,
            "bin_end": 5008804.5,
            "count": 1
           },
           {
            "bin_start": 5008804.5,
            "bin_end": 5008805,
            "count": 0
           },
           {
            "bin_start": 5008805,
            "bin_end": 5008805.5,
            "count": 1
           },
           {
            "bin_start": 5008805.5,
            "bin_end": 5008806,
            "count": 0
           },
           {
            "bin_start": 5008806,
            "bin_end": 5008806.5,
            "count": 1
           },
           {
            "bin_start": 5008806.5,
            "bin_end": 5008807,
            "count": 0
           },
           {
            "bin_start": 5008807,
            "bin_end": 5008807.5,
            "count": 0
           },
           {
            "bin_start": 5008807.5,
            "bin_end": 5008808,
            "count": 0
           },
           {
            "bin_start": 5008808,
            "bin_end": 5008808.5,
            "count": 1
           },
           {
            "bin_start": 5008808.5,
            "bin_end": 5008809,
            "count": 1
           }
          ]
         }
        },
        {
         "name": "CODE_GENDER",
         "dtype": "object",
         "stats": {
          "unique_count": 2,
          "nan_count": 0,
          "categories": [
           {
            "name": "M",
            "count": 3
           },
           {
            "name": "F",
            "count": 2
           }
          ]
         }
        },
        {
         "name": "FLAG_OWN_CAR",
         "dtype": "object",
         "stats": {
          "unique_count": 2,
          "nan_count": 0,
          "categories": [
           {
            "name": "Y",
            "count": 3
           },
           {
            "name": "N",
            "count": 2
           }
          ]
         }
        },
        {
         "name": "FLAG_OWN_REALTY",
         "dtype": "object",
         "stats": {
          "unique_count": 1,
          "nan_count": 0,
          "categories": [
           {
            "name": "Y",
            "count": 5
           }
          ]
         }
        },
        {
         "name": "CNT_CHILDREN",
         "dtype": "int64",
         "stats": {
          "unique_count": 1,
          "nan_count": 0,
          "min": "0",
          "max": "0",
          "histogram": [
           {
            "bin_start": -0.5,
            "bin_end": -0.4,
            "count": 0
           },
           {
            "bin_start": -0.4,
            "bin_end": -0.3,
            "count": 0
           },
           {
            "bin_start": -0.3,
            "bin_end": -0.19999999999999996,
            "count": 0
           },
           {
            "bin_start": -0.19999999999999996,
            "bin_end": -0.09999999999999998,
            "count": 0
           },
           {
            "bin_start": -0.09999999999999998,
            "bin_end": 0,
            "count": 0
           },
           {
            "bin_start": 0,
            "bin_end": 0.10000000000000009,
            "count": 5
           },
           {
            "bin_start": 0.10000000000000009,
            "bin_end": 0.20000000000000007,
            "count": 0
           },
           {
            "bin_start": 0.20000000000000007,
            "bin_end": 0.30000000000000004,
            "count": 0
           },
           {
            "bin_start": 0.30000000000000004,
            "bin_end": 0.4,
            "count": 0
           },
           {
            "bin_start": 0.4,
            "bin_end": 0.5,
            "count": 0
           }
          ]
         }
        },
        {
         "name": "AMT_INCOME_TOTAL",
         "dtype": "float64",
         "stats": {
          "unique_count": 3,
          "nan_count": 0,
          "min": "112500.0",
          "max": "427500.0",
          "histogram": [
           {
            "bin_start": 112500,
            "bin_end": 144000,
            "count": 1
           },
           {
            "bin_start": 144000,
            "bin_end": 175500,
            "count": 0
           },
           {
            "bin_start": 175500,
            "bin_end": 207000,
            "count": 0
           },
           {
            "bin_start": 207000,
            "bin_end": 238500,
            "count": 0
           },
           {
            "bin_start": 238500,
            "bin_end": 270000,
            "count": 0
           },
           {
            "bin_start": 270000,
            "bin_end": 301500,
            "count": 2
           },
           {
            "bin_start": 301500,
            "bin_end": 333000,
            "count": 0
           },
           {
            "bin_start": 333000,
            "bin_end": 364500,
            "count": 0
           },
           {
            "bin_start": 364500,
            "bin_end": 396000,
            "count": 0
           },
           {
            "bin_start": 396000,
            "bin_end": 427500,
            "count": 2
           }
          ]
         }
        },
        {
         "name": "NAME_INCOME_TYPE",
         "dtype": "object",
         "stats": {
          "unique_count": 2,
          "nan_count": 0,
          "categories": [
           {
            "name": "Working",
            "count": 3
           },
           {
            "name": "Commercial associate",
            "count": 2
           }
          ]
         }
        },
        {
         "name": "NAME_EDUCATION_TYPE",
         "dtype": "object",
         "stats": {
          "unique_count": 2,
          "nan_count": 0,
          "categories": [
           {
            "name": "Secondary / secondary special",
            "count": 3
           },
           {
            "name": "Higher education",
            "count": 2
           }
          ]
         }
        },
        {
         "name": "NAME_FAMILY_STATUS",
         "dtype": "object",
         "stats": {
          "unique_count": 3,
          "nan_count": 0,
          "categories": [
           {
            "name": "Civil marriage",
            "count": 2
           },
           {
            "name": "Single / not married",
            "count": 2
           },
           {
            "name": "Married",
            "count": 1
           }
          ]
         }
        },
        {
         "name": "NAME_HOUSING_TYPE",
         "dtype": "object",
         "stats": {
          "unique_count": 2,
          "nan_count": 0,
          "categories": [
           {
            "name": "House / apartment",
            "count": 3
           },
           {
            "name": "Rented apartment",
            "count": 2
           }
          ]
         }
        },
        {
         "name": "DAYS_BIRTH",
         "dtype": "int64",
         "stats": {
          "unique_count": 3,
          "nan_count": 0,
          "min": "-21474",
          "max": "-12005",
          "histogram": [
           {
            "bin_start": -21474,
            "bin_end": -20527.1,
            "count": 1
           },
           {
            "bin_start": -20527.1,
            "bin_end": -19580.2,
            "count": 0
           },
           {
            "bin_start": -19580.2,
            "bin_end": -18633.3,
            "count": 2
           },
           {
            "bin_start": -18633.3,
            "bin_end": -17686.4,
            "count": 0
           },
           {
            "bin_start": -17686.4,
            "bin_end": -16739.5,
            "count": 0
           },
           {
            "bin_start": -16739.5,
            "bin_end": -15792.6,
            "count": 0
           },
           {
            "bin_start": -15792.6,
            "bin_end": -14845.7,
            "count": 0
           },
           {
            "bin_start": -14845.7,
            "bin_end": -13898.8,
            "count": 0
           },
           {
            "bin_start": -13898.8,
            "bin_end": -12951.9,
            "count": 0
           },
           {
            "bin_start": -12951.9,
            "bin_end": -12005,
            "count": 2
           }
          ]
         }
        },
        {
         "name": "DAYS_EMPLOYED",
         "dtype": "int64",
         "stats": {
          "unique_count": 3,
          "nan_count": 0,
          "min": "-4542",
          "max": "-1134",
          "histogram": [
           {
            "bin_start": -4542,
            "bin_end": -4201.2,
            "count": 2
           },
           {
            "bin_start": -4201.2,
            "bin_end": -3860.4,
            "count": 0
           },
           {
            "bin_start": -3860.4,
            "bin_end": -3519.6,
            "count": 0
           },
           {
            "bin_start": -3519.6,
            "bin_end": -3178.8,
            "count": 0
           },
           {
            "bin_start": -3178.8,
            "bin_end": -2838,
            "count": 2
           },
           {
            "bin_start": -2838,
            "bin_end": -2497.2,
            "count": 0
           },
           {
            "bin_start": -2497.2,
            "bin_end": -2156.4,
            "count": 0
           },
           {
            "bin_start": -2156.4,
            "bin_end": -1815.6,
            "count": 0
           },
           {
            "bin_start": -1815.6,
            "bin_end": -1474.7999999999997,
            "count": 0
           },
           {
            "bin_start": -1474.7999999999997,
            "bin_end": -1134,
            "count": 1
           }
          ]
         }
        },
        {
         "name": "FLAG_MOBIL",
         "dtype": "int64",
         "stats": {
          "unique_count": 1,
          "nan_count": 0,
          "min": "1",
          "max": "1",
          "histogram": [
           {
            "bin_start": 0.5,
            "bin_end": 0.6,
            "count": 0
           },
           {
            "bin_start": 0.6,
            "bin_end": 0.7,
            "count": 0
           },
           {
            "bin_start": 0.7,
            "bin_end": 0.8,
            "count": 0
           },
           {
            "bin_start": 0.8,
            "bin_end": 0.9,
            "count": 0
           },
           {
            "bin_start": 0.9,
            "bin_end": 1,
            "count": 0
           },
           {
            "bin_start": 1,
            "bin_end": 1.1,
            "count": 5
           },
           {
            "bin_start": 1.1,
            "bin_end": 1.2000000000000002,
            "count": 0
           },
           {
            "bin_start": 1.2000000000000002,
            "bin_end": 1.3,
            "count": 0
           },
           {
            "bin_start": 1.3,
            "bin_end": 1.4,
            "count": 0
           },
           {
            "bin_start": 1.4,
            "bin_end": 1.5,
            "count": 0
           }
          ]
         }
        },
        {
         "name": "FLAG_WORK_PHONE",
         "dtype": "int64",
         "stats": {
          "unique_count": 2,
          "nan_count": 0,
          "min": "0",
          "max": "1",
          "histogram": [
           {
            "bin_start": 0,
            "bin_end": 0.1,
            "count": 3
           },
           {
            "bin_start": 0.1,
            "bin_end": 0.2,
            "count": 0
           },
           {
            "bin_start": 0.2,
            "bin_end": 0.30000000000000004,
            "count": 0
           },
           {
            "bin_start": 0.30000000000000004,
            "bin_end": 0.4,
            "count": 0
           },
           {
            "bin_start": 0.4,
            "bin_end": 0.5,
            "count": 0
           },
           {
            "bin_start": 0.5,
            "bin_end": 0.6000000000000001,
            "count": 0
           },
           {
            "bin_start": 0.6000000000000001,
            "bin_end": 0.7000000000000001,
            "count": 0
           },
           {
            "bin_start": 0.7000000000000001,
            "bin_end": 0.8,
            "count": 0
           },
           {
            "bin_start": 0.8,
            "bin_end": 0.9,
            "count": 0
           },
           {
            "bin_start": 0.9,
            "bin_end": 1,
            "count": 2
           }
          ]
         }
        },
        {
         "name": "FLAG_PHONE",
         "dtype": "int64",
         "stats": {
          "unique_count": 2,
          "nan_count": 0,
          "min": "0",
          "max": "1",
          "histogram": [
           {
            "bin_start": 0,
            "bin_end": 0.1,
            "count": 3
           },
           {
            "bin_start": 0.1,
            "bin_end": 0.2,
            "count": 0
           },
           {
            "bin_start": 0.2,
            "bin_end": 0.30000000000000004,
            "count": 0
           },
           {
            "bin_start": 0.30000000000000004,
            "bin_end": 0.4,
            "count": 0
           },
           {
            "bin_start": 0.4,
            "bin_end": 0.5,
            "count": 0
           },
           {
            "bin_start": 0.5,
            "bin_end": 0.6000000000000001,
            "count": 0
           },
           {
            "bin_start": 0.6000000000000001,
            "bin_end": 0.7000000000000001,
            "count": 0
           },
           {
            "bin_start": 0.7000000000000001,
            "bin_end": 0.8,
            "count": 0
           },
           {
            "bin_start": 0.8,
            "bin_end": 0.9,
            "count": 0
           },
           {
            "bin_start": 0.9,
            "bin_end": 1,
            "count": 2
           }
          ]
         }
        },
        {
         "name": "FLAG_EMAIL",
         "dtype": "int64",
         "stats": {
          "unique_count": 2,
          "nan_count": 0,
          "min": "0",
          "max": "1",
          "histogram": [
           {
            "bin_start": 0,
            "bin_end": 0.1,
            "count": 3
           },
           {
            "bin_start": 0.1,
            "bin_end": 0.2,
            "count": 0
           },
           {
            "bin_start": 0.2,
            "bin_end": 0.30000000000000004,
            "count": 0
           },
           {
            "bin_start": 0.30000000000000004,
            "bin_end": 0.4,
            "count": 0
           },
           {
            "bin_start": 0.4,
            "bin_end": 0.5,
            "count": 0
           },
           {
            "bin_start": 0.5,
            "bin_end": 0.6000000000000001,
            "count": 0
           },
           {
            "bin_start": 0.6000000000000001,
            "bin_end": 0.7000000000000001,
            "count": 0
           },
           {
            "bin_start": 0.7000000000000001,
            "bin_end": 0.8,
            "count": 0
           },
           {
            "bin_start": 0.8,
            "bin_end": 0.9,
            "count": 0
           },
           {
            "bin_start": 0.9,
            "bin_end": 1,
            "count": 2
           }
          ]
         }
        },
        {
         "name": "OCCUPATION_TYPE",
         "dtype": "object",
         "stats": {
          "unique_count": 2,
          "nan_count": 2,
          "categories": [
           {
            "name": "Sales staff",
            "count": 2
           },
           {
            "name": "Security staff",
            "count": 1
           },
           {
            "name": "Missing",
            "count": 2
           }
          ]
         }
        },
        {
         "name": "CNT_FAM_MEMBERS",
         "dtype": "float64",
         "stats": {
          "unique_count": 2,
          "nan_count": 0,
          "min": "1.0",
          "max": "2.0",
          "histogram": [
           {
            "bin_start": 1,
            "bin_end": 1.1,
            "count": 2
           },
           {
            "bin_start": 1.1,
            "bin_end": 1.2,
            "count": 0
           },
           {
            "bin_start": 1.2,
            "bin_end": 1.3,
            "count": 0
           },
           {
            "bin_start": 1.3,
            "bin_end": 1.4,
            "count": 0
           },
           {
            "bin_start": 1.4,
            "bin_end": 1.5,
            "count": 0
           },
           {
            "bin_start": 1.5,
            "bin_end": 1.6,
            "count": 0
           },
           {
            "bin_start": 1.6,
            "bin_end": 1.7000000000000002,
            "count": 0
           },
           {
            "bin_start": 1.7000000000000002,
            "bin_end": 1.8,
            "count": 0
           },
           {
            "bin_start": 1.8,
            "bin_end": 1.9,
            "count": 0
           },
           {
            "bin_start": 1.9,
            "bin_end": 2,
            "count": 3
           }
          ]
         }
        },
        {
         "name": "_deepnote_index_column",
         "dtype": "int64"
        }
       ],
       "rows": [
        {
         "ID": 5008804,
         "CODE_GENDER": "M",
         "FLAG_OWN_CAR": "Y",
         "FLAG_OWN_REALTY": "Y",
         "CNT_CHILDREN": 0,
         "AMT_INCOME_TOTAL": 427500,
         "NAME_INCOME_TYPE": "Working",
         "NAME_EDUCATION_TYPE": "Higher education",
         "NAME_FAMILY_STATUS": "Civil marriage",
         "NAME_HOUSING_TYPE": "Rented apartment",
         "DAYS_BIRTH": -12005,
         "DAYS_EMPLOYED": -4542,
         "FLAG_MOBIL": 1,
         "FLAG_WORK_PHONE": 1,
         "FLAG_PHONE": 0,
         "FLAG_EMAIL": 0,
         "OCCUPATION_TYPE": "nan",
         "CNT_FAM_MEMBERS": 2,
         "_deepnote_index_column": 0
        },
        {
         "ID": 5008805,
         "CODE_GENDER": "M",
         "FLAG_OWN_CAR": "Y",
         "FLAG_OWN_REALTY": "Y",
         "CNT_CHILDREN": 0,
         "AMT_INCOME_TOTAL": 427500,
         "NAME_INCOME_TYPE": "Working",
         "NAME_EDUCATION_TYPE": "Higher education",
         "NAME_FAMILY_STATUS": "Civil marriage",
         "NAME_HOUSING_TYPE": "Rented apartment",
         "DAYS_BIRTH": -12005,
         "DAYS_EMPLOYED": -4542,
         "FLAG_MOBIL": 1,
         "FLAG_WORK_PHONE": 1,
         "FLAG_PHONE": 0,
         "FLAG_EMAIL": 0,
         "OCCUPATION_TYPE": "nan",
         "CNT_FAM_MEMBERS": 2,
         "_deepnote_index_column": 1
        },
        {
         "ID": 5008806,
         "CODE_GENDER": "M",
         "FLAG_OWN_CAR": "Y",
         "FLAG_OWN_REALTY": "Y",
         "CNT_CHILDREN": 0,
         "AMT_INCOME_TOTAL": 112500,
         "NAME_INCOME_TYPE": "Working",
         "NAME_EDUCATION_TYPE": "Secondary / secondary special",
         "NAME_FAMILY_STATUS": "Married",
         "NAME_HOUSING_TYPE": "House / apartment",
         "DAYS_BIRTH": -21474,
         "DAYS_EMPLOYED": -1134,
         "FLAG_MOBIL": 1,
         "FLAG_WORK_PHONE": 0,
         "FLAG_PHONE": 0,
         "FLAG_EMAIL": 0,
         "OCCUPATION_TYPE": "Security staff",
         "CNT_FAM_MEMBERS": 2,
         "_deepnote_index_column": 2
        },
        {
         "ID": 5008808,
         "CODE_GENDER": "F",
         "FLAG_OWN_CAR": "N",
         "FLAG_OWN_REALTY": "Y",
         "CNT_CHILDREN": 0,
         "AMT_INCOME_TOTAL": 270000,
         "NAME_INCOME_TYPE": "Commercial associate",
         "NAME_EDUCATION_TYPE": "Secondary / secondary special",
         "NAME_FAMILY_STATUS": "Single / not married",
         "NAME_HOUSING_TYPE": "House / apartment",
         "DAYS_BIRTH": -19110,
         "DAYS_EMPLOYED": -3051,
         "FLAG_MOBIL": 1,
         "FLAG_WORK_PHONE": 0,
         "FLAG_PHONE": 1,
         "FLAG_EMAIL": 1,
         "OCCUPATION_TYPE": "Sales staff",
         "CNT_FAM_MEMBERS": 1,
         "_deepnote_index_column": 3
        },
        {
         "ID": 5008809,
         "CODE_GENDER": "F",
         "FLAG_OWN_CAR": "N",
         "FLAG_OWN_REALTY": "Y",
         "CNT_CHILDREN": 0,
         "AMT_INCOME_TOTAL": 270000,
         "NAME_INCOME_TYPE": "Commercial associate",
         "NAME_EDUCATION_TYPE": "Secondary / secondary special",
         "NAME_FAMILY_STATUS": "Single / not married",
         "NAME_HOUSING_TYPE": "House / apartment",
         "DAYS_BIRTH": -19110,
         "DAYS_EMPLOYED": -3051,
         "FLAG_MOBIL": 1,
         "FLAG_WORK_PHONE": 0,
         "FLAG_PHONE": 1,
         "FLAG_EMAIL": 1,
         "OCCUPATION_TYPE": "Sales staff",
         "CNT_FAM_MEMBERS": 1,
         "_deepnote_index_column": 4
        }
       ]
      },
      "text/plain": "        ID CODE_GENDER FLAG_OWN_CAR FLAG_OWN_REALTY  CNT_CHILDREN  \\\n0  5008804           M            Y               Y             0   \n1  5008805           M            Y               Y             0   \n2  5008806           M            Y               Y             0   \n3  5008808           F            N               Y             0   \n4  5008809           F            N               Y             0   \n\n   AMT_INCOME_TOTAL      NAME_INCOME_TYPE            NAME_EDUCATION_TYPE  \\\n0          427500.0               Working               Higher education   \n1          427500.0               Working               Higher education   \n2          112500.0               Working  Secondary / secondary special   \n3          270000.0  Commercial associate  Secondary / secondary special   \n4          270000.0  Commercial associate  Secondary / secondary special   \n\n     NAME_FAMILY_STATUS  NAME_HOUSING_TYPE  DAYS_BIRTH  DAYS_EMPLOYED  \\\n0        Civil marriage   Rented apartment      -12005          -4542   \n1        Civil marriage   Rented apartment      -12005          -4542   \n2               Married  House / apartment      -21474          -1134   \n3  Single / not married  House / apartment      -19110          -3051   \n4  Single / not married  House / apartment      -19110          -3051   \n\n   FLAG_MOBIL  FLAG_WORK_PHONE  FLAG_PHONE  FLAG_EMAIL OCCUPATION_TYPE  \\\n0           1                1           0           0             NaN   \n1           1                1           0           0             NaN   \n2           1                0           0           0  Security staff   \n3           1                0           1           1     Sales staff   \n4           1                0           1           1     Sales staff   \n\n   CNT_FAM_MEMBERS  \n0              2.0  \n1              2.0  \n2              2.0  \n3              1.0  \n4              1.0  ",
      "text/html": "<div>\n<style scoped>\n    .dataframe tbody tr th:only-of-type {\n        vertical-align: middle;\n    }\n\n    .dataframe tbody tr th {\n        vertical-align: top;\n    }\n\n    .dataframe thead th {\n        text-align: right;\n    }\n</style>\n<table border=\"1\" class=\"dataframe\">\n  <thead>\n    <tr style=\"text-align: right;\">\n      <th></th>\n      <th>ID</th>\n      <th>CODE_GENDER</th>\n      <th>FLAG_OWN_CAR</th>\n      <th>FLAG_OWN_REALTY</th>\n      <th>CNT_CHILDREN</th>\n      <th>AMT_INCOME_TOTAL</th>\n      <th>NAME_INCOME_TYPE</th>\n      <th>NAME_EDUCATION_TYPE</th>\n      <th>NAME_FAMILY_STATUS</th>\n      <th>NAME_HOUSING_TYPE</th>\n      <th>DAYS_BIRTH</th>\n      <th>DAYS_EMPLOYED</th>\n      <th>FLAG_MOBIL</th>\n      <th>FLAG_WORK_PHONE</th>\n      <th>FLAG_PHONE</th>\n      <th>FLAG_EMAIL</th>\n      <th>OCCUPATION_TYPE</th>\n      <th>CNT_FAM_MEMBERS</th>\n    </tr>\n  </thead>\n  <tbody>\n    <tr>\n      <th>0</th>\n      <td>5008804</td>\n      <td>M</td>\n      <td>Y</td>\n      <td>Y</td>\n      <td>0</td>\n      <td>427500.0</td>\n      <td>Working</td>\n      <td>Higher education</td>\n      <td>Civil marriage</td>\n      <td>Rented apartment</td>\n      <td>-12005</td>\n      <td>-4542</td>\n      <td>1</td>\n      <td>1</td>\n      <td>0</td>\n      <td>0</td>\n      <td>NaN</td>\n      <td>2.0</td>\n    </tr>\n    <tr>\n      <th>1</th>\n      <td>5008805</td>\n      <td>M</td>\n      <td>Y</td>\n      <td>Y</td>\n      <td>0</td>\n      <td>427500.0</td>\n      <td>Working</td>\n      <td>Higher education</td>\n      <td>Civil marriage</td>\n      <td>Rented apartment</td>\n      <td>-12005</td>\n      <td>-4542</td>\n      <td>1</td>\n      <td>1</td>\n      <td>0</td>\n      <td>0</td>\n      <td>NaN</td>\n      <td>2.0</td>\n    </tr>\n    <tr>\n      <th>2</th>\n      <td>5008806</td>\n      <td>M</td>\n      <td>Y</td>\n      <td>Y</td>\n      <td>0</td>\n      <td>112500.0</td>\n      <td>Working</td>\n      <td>Secondary / secondary special</td>\n      <td>Married</td>\n      <td>House / apartment</td>\n      <td>-21474</td>\n      <td>-1134</td>\n      <td>1</td>\n      <td>0</td>\n      <td>0</td>\n      <td>0</td>\n      <td>Security staff</td>\n      <td>2.0</td>\n    </tr>\n    <tr>\n      <th>3</th>\n      <td>5008808</td>\n      <td>F</td>\n      <td>N</td>\n      <td>Y</td>\n      <td>0</td>\n      <td>270000.0</td>\n      <td>Commercial associate</td>\n      <td>Secondary / secondary special</td>\n      <td>Single / not married</td>\n      <td>House / apartment</td>\n      <td>-19110</td>\n      <td>-3051</td>\n      <td>1</td>\n      <td>0</td>\n      <td>1</td>\n      <td>1</td>\n      <td>Sales staff</td>\n      <td>1.0</td>\n    </tr>\n    <tr>\n      <th>4</th>\n      <td>5008809</td>\n      <td>F</td>\n      <td>N</td>\n      <td>Y</td>\n      <td>0</td>\n      <td>270000.0</td>\n      <td>Commercial associate</td>\n      <td>Secondary / secondary special</td>\n      <td>Single / not married</td>\n      <td>House / apartment</td>\n      <td>-19110</td>\n      <td>-3051</td>\n      <td>1</td>\n      <td>0</td>\n      <td>1</td>\n      <td>1</td>\n      <td>Sales staff</td>\n      <td>1.0</td>\n    </tr>\n  </tbody>\n</table>\n</div>"
     },
     "metadata": {}
    }
   ],
   "execution_count": null
  },
  {
   "cell_type": "code",
   "metadata": {
    "datalore": {
     "type": "CODE",
     "hide_input_from_viewers": false,
     "hide_output_from_viewers": false
    },
    "cell_id": "00008-d020d6c7-a87b-4adc-91f5-ef67ba8ad9b8",
    "deepnote_to_be_reexecuted": false,
    "source_hash": "d8f7443e",
    "execution_start": 1647917692034,
    "execution_millis": 4,
    "deepnote_app_coordinates": {
     "x": 0,
     "y": 42,
     "w": 12,
     "h": 5
    },
    "deepnote_cell_type": "code",
    "deepnote_cell_height": 392.20001220703125
   },
   "source": "historial_credito.head()",
   "outputs": [
    {
     "output_type": "execute_result",
     "execution_count": 5,
     "data": {
      "application/vnd.deepnote.dataframe.v3+json": {
       "column_count": 3,
       "row_count": 5,
       "columns": [
        {
         "name": "ID",
         "dtype": "int64",
         "stats": {
          "unique_count": 2,
          "nan_count": 0,
          "min": "5001711",
          "max": "5001712",
          "histogram": [
           {
            "bin_start": 5001711,
            "bin_end": 5001711.1,
            "count": 4
           },
           {
            "bin_start": 5001711.1,
            "bin_end": 5001711.2,
            "count": 0
           },
           {
            "bin_start": 5001711.2,
            "bin_end": 5001711.3,
            "count": 0
           },
           {
            "bin_start": 5001711.3,
            "bin_end": 5001711.4,
            "count": 0
           },
           {
            "bin_start": 5001711.4,
            "bin_end": 5001711.5,
            "count": 0
           },
           {
            "bin_start": 5001711.5,
            "bin_end": 5001711.6,
            "count": 0
           },
           {
            "bin_start": 5001711.6,
            "bin_end": 5001711.7,
            "count": 0
           },
           {
            "bin_start": 5001711.7,
            "bin_end": 5001711.8,
            "count": 0
           },
           {
            "bin_start": 5001711.8,
            "bin_end": 5001711.9,
            "count": 0
           },
           {
            "bin_start": 5001711.9,
            "bin_end": 5001712,
            "count": 1
           }
          ]
         }
        },
        {
         "name": "MONTHS_BALANCE",
         "dtype": "int64",
         "stats": {
          "unique_count": 4,
          "nan_count": 0,
          "min": "-3",
          "max": "0",
          "histogram": [
           {
            "bin_start": -3,
            "bin_end": -2.7,
            "count": 1
           },
           {
            "bin_start": -2.7,
            "bin_end": -2.4,
            "count": 0
           },
           {
            "bin_start": -2.4,
            "bin_end": -2.1,
            "count": 0
           },
           {
            "bin_start": -2.1,
            "bin_end": -1.8,
            "count": 1
           },
           {
            "bin_start": -1.8,
            "bin_end": -1.5,
            "count": 0
           },
           {
            "bin_start": -1.5,
            "bin_end": -1.2000000000000002,
            "count": 0
           },
           {
            "bin_start": -1.2000000000000002,
            "bin_end": -0.8999999999999999,
            "count": 1
           },
           {
            "bin_start": -0.8999999999999999,
            "bin_end": -0.6000000000000001,
            "count": 0
           },
           {
            "bin_start": -0.6000000000000001,
            "bin_end": -0.30000000000000027,
            "count": 0
           },
           {
            "bin_start": -0.30000000000000027,
            "bin_end": 0,
            "count": 2
           }
          ]
         }
        },
        {
         "name": "STATUS",
         "dtype": "object",
         "stats": {
          "unique_count": 3,
          "nan_count": 0,
          "categories": [
           {
            "name": "0",
            "count": 3
           },
           {
            "name": "X",
            "count": 1
           },
           {
            "name": "C",
            "count": 1
           }
          ]
         }
        },
        {
         "name": "_deepnote_index_column",
         "dtype": "int64"
        }
       ],
       "rows": [
        {
         "ID": 5001711,
         "MONTHS_BALANCE": 0,
         "STATUS": "X",
         "_deepnote_index_column": 0
        },
        {
         "ID": 5001711,
         "MONTHS_BALANCE": -1,
         "STATUS": "0",
         "_deepnote_index_column": 1
        },
        {
         "ID": 5001711,
         "MONTHS_BALANCE": -2,
         "STATUS": "0",
         "_deepnote_index_column": 2
        },
        {
         "ID": 5001711,
         "MONTHS_BALANCE": -3,
         "STATUS": "0",
         "_deepnote_index_column": 3
        },
        {
         "ID": 5001712,
         "MONTHS_BALANCE": 0,
         "STATUS": "C",
         "_deepnote_index_column": 4
        }
       ]
      },
      "text/plain": "        ID  MONTHS_BALANCE STATUS\n0  5001711               0      X\n1  5001711              -1      0\n2  5001711              -2      0\n3  5001711              -3      0\n4  5001712               0      C",
      "text/html": "<div>\n<style scoped>\n    .dataframe tbody tr th:only-of-type {\n        vertical-align: middle;\n    }\n\n    .dataframe tbody tr th {\n        vertical-align: top;\n    }\n\n    .dataframe thead th {\n        text-align: right;\n    }\n</style>\n<table border=\"1\" class=\"dataframe\">\n  <thead>\n    <tr style=\"text-align: right;\">\n      <th></th>\n      <th>ID</th>\n      <th>MONTHS_BALANCE</th>\n      <th>STATUS</th>\n    </tr>\n  </thead>\n  <tbody>\n    <tr>\n      <th>0</th>\n      <td>5001711</td>\n      <td>0</td>\n      <td>X</td>\n    </tr>\n    <tr>\n      <th>1</th>\n      <td>5001711</td>\n      <td>-1</td>\n      <td>0</td>\n    </tr>\n    <tr>\n      <th>2</th>\n      <td>5001711</td>\n      <td>-2</td>\n      <td>0</td>\n    </tr>\n    <tr>\n      <th>3</th>\n      <td>5001711</td>\n      <td>-3</td>\n      <td>0</td>\n    </tr>\n    <tr>\n      <th>4</th>\n      <td>5001712</td>\n      <td>0</td>\n      <td>C</td>\n    </tr>\n  </tbody>\n</table>\n</div>"
     },
     "metadata": {}
    }
   ],
   "execution_count": null
  },
  {
   "cell_type": "code",
   "metadata": {
    "datalore": {
     "type": "CODE",
     "hide_input_from_viewers": false,
     "hide_output_from_viewers": false
    },
    "cell_id": "00009-e04e78de-502d-4649-9311-731dbd94551b",
    "deepnote_to_be_reexecuted": false,
    "source_hash": "6f8b8fbd",
    "execution_start": 1647917692194,
    "execution_millis": 23,
    "deepnote_app_coordinates": {
     "x": 0,
     "y": 48,
     "w": 12,
     "h": 5
    },
    "deepnote_cell_type": "code",
    "deepnote_cell_height": 347.3999938964844
   },
   "source": "## Info de los datasets\nprint(historial_credito.shape)\nhistorial_credito.info()",
   "outputs": [
    {
     "name": "stdout",
     "text": "(1048575, 3)\n<class 'pandas.core.frame.DataFrame'>\nRangeIndex: 1048575 entries, 0 to 1048574\nData columns (total 3 columns):\n #   Column          Non-Null Count    Dtype \n---  ------          --------------    ----- \n 0   ID              1048575 non-null  int64 \n 1   MONTHS_BALANCE  1048575 non-null  int64 \n 2   STATUS          1048575 non-null  object\ndtypes: int64(2), object(1)\nmemory usage: 24.0+ MB\n",
     "output_type": "stream"
    }
   ],
   "execution_count": null
  },
  {
   "cell_type": "code",
   "metadata": {
    "datalore": {
     "type": "CODE",
     "hide_input_from_viewers": false,
     "hide_output_from_viewers": false
    },
    "cell_id": "00010-bfa95424-1afb-49be-af7a-4ea48d272291",
    "deepnote_to_be_reexecuted": false,
    "source_hash": "aed6d2ff",
    "execution_start": 1647917692223,
    "execution_millis": 827,
    "deepnote_app_coordinates": {
     "x": 0,
     "y": 54,
     "w": 12,
     "h": 5
    },
    "deepnote_cell_type": "code",
    "deepnote_cell_height": 629.4000244140625
   },
   "source": "print(registro_aplicacion.shape)\nregistro_aplicacion.info()",
   "outputs": [
    {
     "name": "stdout",
     "text": "(438557, 18)\n<class 'pandas.core.frame.DataFrame'>\nRangeIndex: 438557 entries, 0 to 438556\nData columns (total 18 columns):\n #   Column               Non-Null Count   Dtype  \n---  ------               --------------   -----  \n 0   ID                   438557 non-null  int64  \n 1   CODE_GENDER          438557 non-null  object \n 2   FLAG_OWN_CAR         438557 non-null  object \n 3   FLAG_OWN_REALTY      438557 non-null  object \n 4   CNT_CHILDREN         438557 non-null  int64  \n 5   AMT_INCOME_TOTAL     438557 non-null  float64\n 6   NAME_INCOME_TYPE     438557 non-null  object \n 7   NAME_EDUCATION_TYPE  438557 non-null  object \n 8   NAME_FAMILY_STATUS   438557 non-null  object \n 9   NAME_HOUSING_TYPE    438557 non-null  object \n 10  DAYS_BIRTH           438557 non-null  int64  \n 11  DAYS_EMPLOYED        438557 non-null  int64  \n 12  FLAG_MOBIL           438557 non-null  int64  \n 13  FLAG_WORK_PHONE      438557 non-null  int64  \n 14  FLAG_PHONE           438557 non-null  int64  \n 15  FLAG_EMAIL           438557 non-null  int64  \n 16  OCCUPATION_TYPE      304354 non-null  object \n 17  CNT_FAM_MEMBERS      438557 non-null  float64\ndtypes: float64(2), int64(8), object(8)\nmemory usage: 60.2+ MB\n",
     "output_type": "stream"
    }
   ],
   "execution_count": null
  },
  {
   "cell_type": "code",
   "metadata": {
    "datalore": {
     "type": "CODE",
     "hide_input_from_viewers": false,
     "hide_output_from_viewers": false
    },
    "cell_id": "00011-ffedf810-0112-4b70-a2aa-482ae0d5d0be",
    "deepnote_to_be_reexecuted": false,
    "source_hash": "3c78a24e",
    "execution_start": 1647917693795,
    "execution_millis": 848,
    "deepnote_table_state": {
     "pageSize": 25,
     "pageIndex": 0,
     "filters": [],
     "sortBy": []
    },
    "deepnote_table_loading": false,
    "deepnote_app_coordinates": {
     "x": 0,
     "y": 60,
     "w": 12,
     "h": 5
    },
    "deepnote_cell_type": "code",
    "deepnote_cell_height": 961.2000122070312
   },
   "source": "## Numero de datos nulos y su porcentaje en las columnas\nporcentaje_nulos = registro_aplicacion.isnull().mean().round(4) * 100\npd.merge(registro_aplicacion.isnull().sum().reset_index(), porcentaje_nulos.reset_index(), how='inner', on='index', suffixes=(\"_Valores Nulos\", \"_Porcentaje de valores nulos\"))",
   "outputs": [
    {
     "output_type": "execute_result",
     "execution_count": 8,
     "data": {
      "application/vnd.deepnote.dataframe.v3+json": {
       "column_count": 3,
       "row_count": 18,
       "columns": [
        {
         "name": "index",
         "dtype": "object",
         "stats": {
          "unique_count": 18,
          "nan_count": 0,
          "categories": [
           {
            "name": "ID",
            "count": 1
           },
           {
            "name": "CODE_GENDER",
            "count": 1
           },
           {
            "name": "16 others",
            "count": 16
           }
          ]
         }
        },
        {
         "name": "0_Valores Nulos",
         "dtype": "int64",
         "stats": {
          "unique_count": 2,
          "nan_count": 0,
          "min": "0",
          "max": "134203",
          "histogram": [
           {
            "bin_start": 0,
            "bin_end": 13420.3,
            "count": 17
           },
           {
            "bin_start": 13420.3,
            "bin_end": 26840.6,
            "count": 0
           },
           {
            "bin_start": 26840.6,
            "bin_end": 40260.899999999994,
            "count": 0
           },
           {
            "bin_start": 40260.899999999994,
            "bin_end": 53681.2,
            "count": 0
           },
           {
            "bin_start": 53681.2,
            "bin_end": 67101.5,
            "count": 0
           },
           {
            "bin_start": 67101.5,
            "bin_end": 80521.79999999999,
            "count": 0
           },
           {
            "bin_start": 80521.79999999999,
            "bin_end": 93942.09999999999,
            "count": 0
           },
           {
            "bin_start": 93942.09999999999,
            "bin_end": 107362.4,
            "count": 0
           },
           {
            "bin_start": 107362.4,
            "bin_end": 120782.7,
            "count": 0
           },
           {
            "bin_start": 120782.7,
            "bin_end": 134203,
            "count": 1
           }
          ]
         }
        },
        {
         "name": "0_Porcentaje de valores nulos",
         "dtype": "float64",
         "stats": {
          "unique_count": 2,
          "nan_count": 0,
          "min": "0.0",
          "max": "30.599999999999998",
          "histogram": [
           {
            "bin_start": 0,
            "bin_end": 3.0599999999999996,
            "count": 17
           },
           {
            "bin_start": 3.0599999999999996,
            "bin_end": 6.119999999999999,
            "count": 0
           },
           {
            "bin_start": 6.119999999999999,
            "bin_end": 9.18,
            "count": 0
           },
           {
            "bin_start": 9.18,
            "bin_end": 12.239999999999998,
            "count": 0
           },
           {
            "bin_start": 12.239999999999998,
            "bin_end": 15.299999999999997,
            "count": 0
           },
           {
            "bin_start": 15.299999999999997,
            "bin_end": 18.36,
            "count": 0
           },
           {
            "bin_start": 18.36,
            "bin_end": 21.419999999999998,
            "count": 0
           },
           {
            "bin_start": 21.419999999999998,
            "bin_end": 24.479999999999997,
            "count": 0
           },
           {
            "bin_start": 24.479999999999997,
            "bin_end": 27.539999999999996,
            "count": 0
           },
           {
            "bin_start": 27.539999999999996,
            "bin_end": 30.599999999999998,
            "count": 1
           }
          ]
         }
        },
        {
         "name": "_deepnote_index_column",
         "dtype": "int64"
        }
       ],
       "rows": [
        {
         "index": "ID",
         "0_Valores Nulos": 0,
         "0_Porcentaje de valores nulos": 0,
         "_deepnote_index_column": 0
        },
        {
         "index": "CODE_GENDER",
         "0_Valores Nulos": 0,
         "0_Porcentaje de valores nulos": 0,
         "_deepnote_index_column": 1
        },
        {
         "index": "FLAG_OWN_CAR",
         "0_Valores Nulos": 0,
         "0_Porcentaje de valores nulos": 0,
         "_deepnote_index_column": 2
        },
        {
         "index": "FLAG_OWN_REALTY",
         "0_Valores Nulos": 0,
         "0_Porcentaje de valores nulos": 0,
         "_deepnote_index_column": 3
        },
        {
         "index": "CNT_CHILDREN",
         "0_Valores Nulos": 0,
         "0_Porcentaje de valores nulos": 0,
         "_deepnote_index_column": 4
        },
        {
         "index": "AMT_INCOME_TOTAL",
         "0_Valores Nulos": 0,
         "0_Porcentaje de valores nulos": 0,
         "_deepnote_index_column": 5
        },
        {
         "index": "NAME_INCOME_TYPE",
         "0_Valores Nulos": 0,
         "0_Porcentaje de valores nulos": 0,
         "_deepnote_index_column": 6
        },
        {
         "index": "NAME_EDUCATION_TYPE",
         "0_Valores Nulos": 0,
         "0_Porcentaje de valores nulos": 0,
         "_deepnote_index_column": 7
        },
        {
         "index": "NAME_FAMILY_STATUS",
         "0_Valores Nulos": 0,
         "0_Porcentaje de valores nulos": 0,
         "_deepnote_index_column": 8
        },
        {
         "index": "NAME_HOUSING_TYPE",
         "0_Valores Nulos": 0,
         "0_Porcentaje de valores nulos": 0,
         "_deepnote_index_column": 9
        },
        {
         "index": "DAYS_BIRTH",
         "0_Valores Nulos": 0,
         "0_Porcentaje de valores nulos": 0,
         "_deepnote_index_column": 10
        },
        {
         "index": "DAYS_EMPLOYED",
         "0_Valores Nulos": 0,
         "0_Porcentaje de valores nulos": 0,
         "_deepnote_index_column": 11
        },
        {
         "index": "FLAG_MOBIL",
         "0_Valores Nulos": 0,
         "0_Porcentaje de valores nulos": 0,
         "_deepnote_index_column": 12
        },
        {
         "index": "FLAG_WORK_PHONE",
         "0_Valores Nulos": 0,
         "0_Porcentaje de valores nulos": 0,
         "_deepnote_index_column": 13
        },
        {
         "index": "FLAG_PHONE",
         "0_Valores Nulos": 0,
         "0_Porcentaje de valores nulos": 0,
         "_deepnote_index_column": 14
        },
        {
         "index": "FLAG_EMAIL",
         "0_Valores Nulos": 0,
         "0_Porcentaje de valores nulos": 0,
         "_deepnote_index_column": 15
        },
        {
         "index": "OCCUPATION_TYPE",
         "0_Valores Nulos": 134203,
         "0_Porcentaje de valores nulos": 30.599999999999998,
         "_deepnote_index_column": 16
        },
        {
         "index": "CNT_FAM_MEMBERS",
         "0_Valores Nulos": 0,
         "0_Porcentaje de valores nulos": 0,
         "_deepnote_index_column": 17
        }
       ]
      },
      "text/plain": "                  index  0_Valores Nulos  0_Porcentaje de valores nulos\n0                    ID                0                            0.0\n1           CODE_GENDER                0                            0.0\n2          FLAG_OWN_CAR                0                            0.0\n3       FLAG_OWN_REALTY                0                            0.0\n4          CNT_CHILDREN                0                            0.0\n5      AMT_INCOME_TOTAL                0                            0.0\n6      NAME_INCOME_TYPE                0                            0.0\n7   NAME_EDUCATION_TYPE                0                            0.0\n8    NAME_FAMILY_STATUS                0                            0.0\n9     NAME_HOUSING_TYPE                0                            0.0\n10           DAYS_BIRTH                0                            0.0\n11        DAYS_EMPLOYED                0                            0.0\n12           FLAG_MOBIL                0                            0.0\n13      FLAG_WORK_PHONE                0                            0.0\n14           FLAG_PHONE                0                            0.0\n15           FLAG_EMAIL                0                            0.0\n16      OCCUPATION_TYPE           134203                           30.6\n17      CNT_FAM_MEMBERS                0                            0.0",
      "text/html": "<div>\n<style scoped>\n    .dataframe tbody tr th:only-of-type {\n        vertical-align: middle;\n    }\n\n    .dataframe tbody tr th {\n        vertical-align: top;\n    }\n\n    .dataframe thead th {\n        text-align: right;\n    }\n</style>\n<table border=\"1\" class=\"dataframe\">\n  <thead>\n    <tr style=\"text-align: right;\">\n      <th></th>\n      <th>index</th>\n      <th>0_Valores Nulos</th>\n      <th>0_Porcentaje de valores nulos</th>\n    </tr>\n  </thead>\n  <tbody>\n    <tr>\n      <th>0</th>\n      <td>ID</td>\n      <td>0</td>\n      <td>0.0</td>\n    </tr>\n    <tr>\n      <th>1</th>\n      <td>CODE_GENDER</td>\n      <td>0</td>\n      <td>0.0</td>\n    </tr>\n    <tr>\n      <th>2</th>\n      <td>FLAG_OWN_CAR</td>\n      <td>0</td>\n      <td>0.0</td>\n    </tr>\n    <tr>\n      <th>3</th>\n      <td>FLAG_OWN_REALTY</td>\n      <td>0</td>\n      <td>0.0</td>\n    </tr>\n    <tr>\n      <th>4</th>\n      <td>CNT_CHILDREN</td>\n      <td>0</td>\n      <td>0.0</td>\n    </tr>\n    <tr>\n      <th>5</th>\n      <td>AMT_INCOME_TOTAL</td>\n      <td>0</td>\n      <td>0.0</td>\n    </tr>\n    <tr>\n      <th>6</th>\n      <td>NAME_INCOME_TYPE</td>\n      <td>0</td>\n      <td>0.0</td>\n    </tr>\n    <tr>\n      <th>7</th>\n      <td>NAME_EDUCATION_TYPE</td>\n      <td>0</td>\n      <td>0.0</td>\n    </tr>\n    <tr>\n      <th>8</th>\n      <td>NAME_FAMILY_STATUS</td>\n      <td>0</td>\n      <td>0.0</td>\n    </tr>\n    <tr>\n      <th>9</th>\n      <td>NAME_HOUSING_TYPE</td>\n      <td>0</td>\n      <td>0.0</td>\n    </tr>\n    <tr>\n      <th>10</th>\n      <td>DAYS_BIRTH</td>\n      <td>0</td>\n      <td>0.0</td>\n    </tr>\n    <tr>\n      <th>11</th>\n      <td>DAYS_EMPLOYED</td>\n      <td>0</td>\n      <td>0.0</td>\n    </tr>\n    <tr>\n      <th>12</th>\n      <td>FLAG_MOBIL</td>\n      <td>0</td>\n      <td>0.0</td>\n    </tr>\n    <tr>\n      <th>13</th>\n      <td>FLAG_WORK_PHONE</td>\n      <td>0</td>\n      <td>0.0</td>\n    </tr>\n    <tr>\n      <th>14</th>\n      <td>FLAG_PHONE</td>\n      <td>0</td>\n      <td>0.0</td>\n    </tr>\n    <tr>\n      <th>15</th>\n      <td>FLAG_EMAIL</td>\n      <td>0</td>\n      <td>0.0</td>\n    </tr>\n    <tr>\n      <th>16</th>\n      <td>OCCUPATION_TYPE</td>\n      <td>134203</td>\n      <td>30.6</td>\n    </tr>\n    <tr>\n      <th>17</th>\n      <td>CNT_FAM_MEMBERS</td>\n      <td>0</td>\n      <td>0.0</td>\n    </tr>\n  </tbody>\n</table>\n</div>"
     },
     "metadata": {}
    }
   ],
   "execution_count": null
  },
  {
   "cell_type": "markdown",
   "source": "### Datos Nulos\nLa data del historial crediticio no presenta nulos, sin embargo la data de la solicitud presenta en su penultima columna (Tipo de Ocupación) 134,203 datos nulos que representa el 30.59% de los datos.",
   "metadata": {
    "datalore": {
     "type": "MD",
     "hide_input_from_viewers": false,
     "hide_output_from_viewers": false
    },
    "cell_id": "00012-b4219223-c24e-4df7-bb86-a00242d062bc",
    "deepnote_app_coordinates": {
     "x": 0,
     "y": 66,
     "w": 12,
     "h": 5
    },
    "deepnote_cell_type": "markdown",
    "deepnote_cell_height": 122.39999389648438
   }
  },
  {
   "cell_type": "markdown",
   "source": "## Data Wrangling ",
   "metadata": {
    "datalore": {
     "type": "MD",
     "hide_input_from_viewers": false,
     "hide_output_from_viewers": false
    },
    "cell_id": "00013-cf67f2c5-3401-4886-8465-7d7d8c7bf0ae",
    "deepnote_app_coordinates": {
     "x": 0,
     "y": 72,
     "w": 12,
     "h": 5
    },
    "deepnote_cell_type": "markdown",
    "deepnote_cell_height": 69.60000610351562
   }
  },
  {
   "cell_type": "code",
   "metadata": {
    "datalore": {
     "type": "CODE",
     "hide_input_from_viewers": false,
     "hide_output_from_viewers": false
    },
    "cell_id": "00014-7364a78a-ecc7-453c-818a-ef9d18fd7b3d",
    "deepnote_to_be_reexecuted": false,
    "source_hash": "15da4123",
    "execution_start": 1647917694652,
    "execution_millis": 1702,
    "deepnote_app_coordinates": {
     "x": 0,
     "y": 78,
     "w": 12,
     "h": 5
    },
    "deepnote_cell_type": "code",
    "deepnote_cell_height": 650
   },
   "source": "## Combinar ambos dataframes para hacer un concentrado por ID\ndata = pd.merge(historial_credito, registro_aplicacion, how='inner', on='ID')\ndata",
   "outputs": [
    {
     "output_type": "execute_result",
     "execution_count": 9,
     "data": {
      "application/vnd.deepnote.dataframe.v3+json": {
       "column_count": 20,
       "row_count": 777715,
       "columns": [
        {
         "name": "ID",
         "dtype": "int64"
        },
        {
         "name": "MONTHS_BALANCE",
         "dtype": "int64"
        },
        {
         "name": "STATUS",
         "dtype": "object"
        },
        {
         "name": "CODE_GENDER",
         "dtype": "object"
        },
        {
         "name": "FLAG_OWN_CAR",
         "dtype": "object"
        },
        {
         "name": "FLAG_OWN_REALTY",
         "dtype": "object"
        },
        {
         "name": "CNT_CHILDREN",
         "dtype": "int64"
        },
        {
         "name": "AMT_INCOME_TOTAL",
         "dtype": "float64"
        },
        {
         "name": "NAME_INCOME_TYPE",
         "dtype": "object"
        },
        {
         "name": "NAME_EDUCATION_TYPE",
         "dtype": "object"
        },
        {
         "name": "NAME_FAMILY_STATUS",
         "dtype": "object"
        },
        {
         "name": "NAME_HOUSING_TYPE",
         "dtype": "object"
        },
        {
         "name": "DAYS_BIRTH",
         "dtype": "int64"
        },
        {
         "name": "DAYS_EMPLOYED",
         "dtype": "int64"
        },
        {
         "name": "FLAG_MOBIL",
         "dtype": "int64"
        },
        {
         "name": "FLAG_WORK_PHONE",
         "dtype": "int64"
        },
        {
         "name": "FLAG_PHONE",
         "dtype": "int64"
        },
        {
         "name": "FLAG_EMAIL",
         "dtype": "int64"
        },
        {
         "name": "OCCUPATION_TYPE",
         "dtype": "object"
        },
        {
         "name": "CNT_FAM_MEMBERS",
         "dtype": "float64"
        },
        {
         "name": "_deepnote_index_column",
         "dtype": "int64"
        }
       ],
       "rows": [
        {
         "ID": 5008804,
         "MONTHS_BALANCE": 0,
         "STATUS": "C",
         "CODE_GENDER": "M",
         "FLAG_OWN_CAR": "Y",
         "FLAG_OWN_REALTY": "Y",
         "CNT_CHILDREN": 0,
         "AMT_INCOME_TOTAL": 427500,
         "NAME_INCOME_TYPE": "Working",
         "NAME_EDUCATION_TYPE": "Higher education",
         "NAME_FAMILY_STATUS": "Civil marriage",
         "NAME_HOUSING_TYPE": "Rented apartment",
         "DAYS_BIRTH": -12005,
         "DAYS_EMPLOYED": -4542,
         "FLAG_MOBIL": 1,
         "FLAG_WORK_PHONE": 1,
         "FLAG_PHONE": 0,
         "FLAG_EMAIL": 0,
         "OCCUPATION_TYPE": "nan",
         "CNT_FAM_MEMBERS": 2,
         "_deepnote_index_column": 0
        },
        {
         "ID": 5008804,
         "MONTHS_BALANCE": -1,
         "STATUS": "C",
         "CODE_GENDER": "M",
         "FLAG_OWN_CAR": "Y",
         "FLAG_OWN_REALTY": "Y",
         "CNT_CHILDREN": 0,
         "AMT_INCOME_TOTAL": 427500,
         "NAME_INCOME_TYPE": "Working",
         "NAME_EDUCATION_TYPE": "Higher education",
         "NAME_FAMILY_STATUS": "Civil marriage",
         "NAME_HOUSING_TYPE": "Rented apartment",
         "DAYS_BIRTH": -12005,
         "DAYS_EMPLOYED": -4542,
         "FLAG_MOBIL": 1,
         "FLAG_WORK_PHONE": 1,
         "FLAG_PHONE": 0,
         "FLAG_EMAIL": 0,
         "OCCUPATION_TYPE": "nan",
         "CNT_FAM_MEMBERS": 2,
         "_deepnote_index_column": 1
        },
        {
         "ID": 5008804,
         "MONTHS_BALANCE": -2,
         "STATUS": "C",
         "CODE_GENDER": "M",
         "FLAG_OWN_CAR": "Y",
         "FLAG_OWN_REALTY": "Y",
         "CNT_CHILDREN": 0,
         "AMT_INCOME_TOTAL": 427500,
         "NAME_INCOME_TYPE": "Working",
         "NAME_EDUCATION_TYPE": "Higher education",
         "NAME_FAMILY_STATUS": "Civil marriage",
         "NAME_HOUSING_TYPE": "Rented apartment",
         "DAYS_BIRTH": -12005,
         "DAYS_EMPLOYED": -4542,
         "FLAG_MOBIL": 1,
         "FLAG_WORK_PHONE": 1,
         "FLAG_PHONE": 0,
         "FLAG_EMAIL": 0,
         "OCCUPATION_TYPE": "nan",
         "CNT_FAM_MEMBERS": 2,
         "_deepnote_index_column": 2
        },
        {
         "ID": 5008804,
         "MONTHS_BALANCE": -3,
         "STATUS": "C",
         "CODE_GENDER": "M",
         "FLAG_OWN_CAR": "Y",
         "FLAG_OWN_REALTY": "Y",
         "CNT_CHILDREN": 0,
         "AMT_INCOME_TOTAL": 427500,
         "NAME_INCOME_TYPE": "Working",
         "NAME_EDUCATION_TYPE": "Higher education",
         "NAME_FAMILY_STATUS": "Civil marriage",
         "NAME_HOUSING_TYPE": "Rented apartment",
         "DAYS_BIRTH": -12005,
         "DAYS_EMPLOYED": -4542,
         "FLAG_MOBIL": 1,
         "FLAG_WORK_PHONE": 1,
         "FLAG_PHONE": 0,
         "FLAG_EMAIL": 0,
         "OCCUPATION_TYPE": "nan",
         "CNT_FAM_MEMBERS": 2,
         "_deepnote_index_column": 3
        },
        {
         "ID": 5008804,
         "MONTHS_BALANCE": -4,
         "STATUS": "C",
         "CODE_GENDER": "M",
         "FLAG_OWN_CAR": "Y",
         "FLAG_OWN_REALTY": "Y",
         "CNT_CHILDREN": 0,
         "AMT_INCOME_TOTAL": 427500,
         "NAME_INCOME_TYPE": "Working",
         "NAME_EDUCATION_TYPE": "Higher education",
         "NAME_FAMILY_STATUS": "Civil marriage",
         "NAME_HOUSING_TYPE": "Rented apartment",
         "DAYS_BIRTH": -12005,
         "DAYS_EMPLOYED": -4542,
         "FLAG_MOBIL": 1,
         "FLAG_WORK_PHONE": 1,
         "FLAG_PHONE": 0,
         "FLAG_EMAIL": 0,
         "OCCUPATION_TYPE": "nan",
         "CNT_FAM_MEMBERS": 2,
         "_deepnote_index_column": 4
        },
        {
         "ID": 5008804,
         "MONTHS_BALANCE": -5,
         "STATUS": "C",
         "CODE_GENDER": "M",
         "FLAG_OWN_CAR": "Y",
         "FLAG_OWN_REALTY": "Y",
         "CNT_CHILDREN": 0,
         "AMT_INCOME_TOTAL": 427500,
         "NAME_INCOME_TYPE": "Working",
         "NAME_EDUCATION_TYPE": "Higher education",
         "NAME_FAMILY_STATUS": "Civil marriage",
         "NAME_HOUSING_TYPE": "Rented apartment",
         "DAYS_BIRTH": -12005,
         "DAYS_EMPLOYED": -4542,
         "FLAG_MOBIL": 1,
         "FLAG_WORK_PHONE": 1,
         "FLAG_PHONE": 0,
         "FLAG_EMAIL": 0,
         "OCCUPATION_TYPE": "nan",
         "CNT_FAM_MEMBERS": 2,
         "_deepnote_index_column": 5
        },
        {
         "ID": 5008804,
         "MONTHS_BALANCE": -6,
         "STATUS": "C",
         "CODE_GENDER": "M",
         "FLAG_OWN_CAR": "Y",
         "FLAG_OWN_REALTY": "Y",
         "CNT_CHILDREN": 0,
         "AMT_INCOME_TOTAL": 427500,
         "NAME_INCOME_TYPE": "Working",
         "NAME_EDUCATION_TYPE": "Higher education",
         "NAME_FAMILY_STATUS": "Civil marriage",
         "NAME_HOUSING_TYPE": "Rented apartment",
         "DAYS_BIRTH": -12005,
         "DAYS_EMPLOYED": -4542,
         "FLAG_MOBIL": 1,
         "FLAG_WORK_PHONE": 1,
         "FLAG_PHONE": 0,
         "FLAG_EMAIL": 0,
         "OCCUPATION_TYPE": "nan",
         "CNT_FAM_MEMBERS": 2,
         "_deepnote_index_column": 6
        },
        {
         "ID": 5008804,
         "MONTHS_BALANCE": -7,
         "STATUS": "C",
         "CODE_GENDER": "M",
         "FLAG_OWN_CAR": "Y",
         "FLAG_OWN_REALTY": "Y",
         "CNT_CHILDREN": 0,
         "AMT_INCOME_TOTAL": 427500,
         "NAME_INCOME_TYPE": "Working",
         "NAME_EDUCATION_TYPE": "Higher education",
         "NAME_FAMILY_STATUS": "Civil marriage",
         "NAME_HOUSING_TYPE": "Rented apartment",
         "DAYS_BIRTH": -12005,
         "DAYS_EMPLOYED": -4542,
         "FLAG_MOBIL": 1,
         "FLAG_WORK_PHONE": 1,
         "FLAG_PHONE": 0,
         "FLAG_EMAIL": 0,
         "OCCUPATION_TYPE": "nan",
         "CNT_FAM_MEMBERS": 2,
         "_deepnote_index_column": 7
        },
        {
         "ID": 5008804,
         "MONTHS_BALANCE": -8,
         "STATUS": "C",
         "CODE_GENDER": "M",
         "FLAG_OWN_CAR": "Y",
         "FLAG_OWN_REALTY": "Y",
         "CNT_CHILDREN": 0,
         "AMT_INCOME_TOTAL": 427500,
         "NAME_INCOME_TYPE": "Working",
         "NAME_EDUCATION_TYPE": "Higher education",
         "NAME_FAMILY_STATUS": "Civil marriage",
         "NAME_HOUSING_TYPE": "Rented apartment",
         "DAYS_BIRTH": -12005,
         "DAYS_EMPLOYED": -4542,
         "FLAG_MOBIL": 1,
         "FLAG_WORK_PHONE": 1,
         "FLAG_PHONE": 0,
         "FLAG_EMAIL": 0,
         "OCCUPATION_TYPE": "nan",
         "CNT_FAM_MEMBERS": 2,
         "_deepnote_index_column": 8
        },
        {
         "ID": 5008804,
         "MONTHS_BALANCE": -9,
         "STATUS": "C",
         "CODE_GENDER": "M",
         "FLAG_OWN_CAR": "Y",
         "FLAG_OWN_REALTY": "Y",
         "CNT_CHILDREN": 0,
         "AMT_INCOME_TOTAL": 427500,
         "NAME_INCOME_TYPE": "Working",
         "NAME_EDUCATION_TYPE": "Higher education",
         "NAME_FAMILY_STATUS": "Civil marriage",
         "NAME_HOUSING_TYPE": "Rented apartment",
         "DAYS_BIRTH": -12005,
         "DAYS_EMPLOYED": -4542,
         "FLAG_MOBIL": 1,
         "FLAG_WORK_PHONE": 1,
         "FLAG_PHONE": 0,
         "FLAG_EMAIL": 0,
         "OCCUPATION_TYPE": "nan",
         "CNT_FAM_MEMBERS": 2,
         "_deepnote_index_column": 9
        }
       ]
      },
      "text/plain": "             ID  MONTHS_BALANCE STATUS CODE_GENDER FLAG_OWN_CAR  \\\n0       5008804               0      C           M            Y   \n1       5008804              -1      C           M            Y   \n2       5008804              -2      C           M            Y   \n3       5008804              -3      C           M            Y   \n4       5008804              -4      C           M            Y   \n...         ...             ...    ...         ...          ...   \n777710  5150487             -25      C           M            Y   \n777711  5150487             -26      C           M            Y   \n777712  5150487             -27      C           M            Y   \n777713  5150487             -28      C           M            Y   \n777714  5150487             -29      C           M            Y   \n\n       FLAG_OWN_REALTY  CNT_CHILDREN  AMT_INCOME_TOTAL NAME_INCOME_TYPE  \\\n0                    Y             0          427500.0          Working   \n1                    Y             0          427500.0          Working   \n2                    Y             0          427500.0          Working   \n3                    Y             0          427500.0          Working   \n4                    Y             0          427500.0          Working   \n...                ...           ...               ...              ...   \n777710               N             0          202500.0          Working   \n777711               N             0          202500.0          Working   \n777712               N             0          202500.0          Working   \n777713               N             0          202500.0          Working   \n777714               N             0          202500.0          Working   \n\n                  NAME_EDUCATION_TYPE NAME_FAMILY_STATUS  NAME_HOUSING_TYPE  \\\n0                    Higher education     Civil marriage   Rented apartment   \n1                    Higher education     Civil marriage   Rented apartment   \n2                    Higher education     Civil marriage   Rented apartment   \n3                    Higher education     Civil marriage   Rented apartment   \n4                    Higher education     Civil marriage   Rented apartment   \n...                               ...                ...                ...   \n777710  Secondary / secondary special            Married  House / apartment   \n777711  Secondary / secondary special            Married  House / apartment   \n777712  Secondary / secondary special            Married  House / apartment   \n777713  Secondary / secondary special            Married  House / apartment   \n777714  Secondary / secondary special            Married  House / apartment   \n\n        DAYS_BIRTH  DAYS_EMPLOYED  FLAG_MOBIL  FLAG_WORK_PHONE  FLAG_PHONE  \\\n0           -12005          -4542           1                1           0   \n1           -12005          -4542           1                1           0   \n2           -12005          -4542           1                1           0   \n3           -12005          -4542           1                1           0   \n4           -12005          -4542           1                1           0   \n...            ...            ...         ...              ...         ...   \n777710      -19398          -2166           1                0           0   \n777711      -19398          -2166           1                0           0   \n777712      -19398          -2166           1                0           0   \n777713      -19398          -2166           1                0           0   \n777714      -19398          -2166           1                0           0   \n\n        FLAG_EMAIL OCCUPATION_TYPE  CNT_FAM_MEMBERS  \n0                0             NaN              2.0  \n1                0             NaN              2.0  \n2                0             NaN              2.0  \n3                0             NaN              2.0  \n4                0             NaN              2.0  \n...            ...             ...              ...  \n777710           0         Drivers              2.0  \n777711           0         Drivers              2.0  \n777712           0         Drivers              2.0  \n777713           0         Drivers              2.0  \n777714           0         Drivers              2.0  \n\n[777715 rows x 20 columns]",
      "text/html": "<div>\n<style scoped>\n    .dataframe tbody tr th:only-of-type {\n        vertical-align: middle;\n    }\n\n    .dataframe tbody tr th {\n        vertical-align: top;\n    }\n\n    .dataframe thead th {\n        text-align: right;\n    }\n</style>\n<table border=\"1\" class=\"dataframe\">\n  <thead>\n    <tr style=\"text-align: right;\">\n      <th></th>\n      <th>ID</th>\n      <th>MONTHS_BALANCE</th>\n      <th>STATUS</th>\n      <th>CODE_GENDER</th>\n      <th>FLAG_OWN_CAR</th>\n      <th>FLAG_OWN_REALTY</th>\n      <th>CNT_CHILDREN</th>\n      <th>AMT_INCOME_TOTAL</th>\n      <th>NAME_INCOME_TYPE</th>\n      <th>NAME_EDUCATION_TYPE</th>\n      <th>NAME_FAMILY_STATUS</th>\n      <th>NAME_HOUSING_TYPE</th>\n      <th>DAYS_BIRTH</th>\n      <th>DAYS_EMPLOYED</th>\n      <th>FLAG_MOBIL</th>\n      <th>FLAG_WORK_PHONE</th>\n      <th>FLAG_PHONE</th>\n      <th>FLAG_EMAIL</th>\n      <th>OCCUPATION_TYPE</th>\n      <th>CNT_FAM_MEMBERS</th>\n    </tr>\n  </thead>\n  <tbody>\n    <tr>\n      <th>0</th>\n      <td>5008804</td>\n      <td>0</td>\n      <td>C</td>\n      <td>M</td>\n      <td>Y</td>\n      <td>Y</td>\n      <td>0</td>\n      <td>427500.0</td>\n      <td>Working</td>\n      <td>Higher education</td>\n      <td>Civil marriage</td>\n      <td>Rented apartment</td>\n      <td>-12005</td>\n      <td>-4542</td>\n      <td>1</td>\n      <td>1</td>\n      <td>0</td>\n      <td>0</td>\n      <td>NaN</td>\n      <td>2.0</td>\n    </tr>\n    <tr>\n      <th>1</th>\n      <td>5008804</td>\n      <td>-1</td>\n      <td>C</td>\n      <td>M</td>\n      <td>Y</td>\n      <td>Y</td>\n      <td>0</td>\n      <td>427500.0</td>\n      <td>Working</td>\n      <td>Higher education</td>\n      <td>Civil marriage</td>\n      <td>Rented apartment</td>\n      <td>-12005</td>\n      <td>-4542</td>\n      <td>1</td>\n      <td>1</td>\n      <td>0</td>\n      <td>0</td>\n      <td>NaN</td>\n      <td>2.0</td>\n    </tr>\n    <tr>\n      <th>2</th>\n      <td>5008804</td>\n      <td>-2</td>\n      <td>C</td>\n      <td>M</td>\n      <td>Y</td>\n      <td>Y</td>\n      <td>0</td>\n      <td>427500.0</td>\n      <td>Working</td>\n      <td>Higher education</td>\n      <td>Civil marriage</td>\n      <td>Rented apartment</td>\n      <td>-12005</td>\n      <td>-4542</td>\n      <td>1</td>\n      <td>1</td>\n      <td>0</td>\n      <td>0</td>\n      <td>NaN</td>\n      <td>2.0</td>\n    </tr>\n    <tr>\n      <th>3</th>\n      <td>5008804</td>\n      <td>-3</td>\n      <td>C</td>\n      <td>M</td>\n      <td>Y</td>\n      <td>Y</td>\n      <td>0</td>\n      <td>427500.0</td>\n      <td>Working</td>\n      <td>Higher education</td>\n      <td>Civil marriage</td>\n      <td>Rented apartment</td>\n      <td>-12005</td>\n      <td>-4542</td>\n      <td>1</td>\n      <td>1</td>\n      <td>0</td>\n      <td>0</td>\n      <td>NaN</td>\n      <td>2.0</td>\n    </tr>\n    <tr>\n      <th>4</th>\n      <td>5008804</td>\n      <td>-4</td>\n      <td>C</td>\n      <td>M</td>\n      <td>Y</td>\n      <td>Y</td>\n      <td>0</td>\n      <td>427500.0</td>\n      <td>Working</td>\n      <td>Higher education</td>\n      <td>Civil marriage</td>\n      <td>Rented apartment</td>\n      <td>-12005</td>\n      <td>-4542</td>\n      <td>1</td>\n      <td>1</td>\n      <td>0</td>\n      <td>0</td>\n      <td>NaN</td>\n      <td>2.0</td>\n    </tr>\n    <tr>\n      <th>...</th>\n      <td>...</td>\n      <td>...</td>\n      <td>...</td>\n      <td>...</td>\n      <td>...</td>\n      <td>...</td>\n      <td>...</td>\n      <td>...</td>\n      <td>...</td>\n      <td>...</td>\n      <td>...</td>\n      <td>...</td>\n      <td>...</td>\n      <td>...</td>\n      <td>...</td>\n      <td>...</td>\n      <td>...</td>\n      <td>...</td>\n      <td>...</td>\n      <td>...</td>\n    </tr>\n    <tr>\n      <th>777710</th>\n      <td>5150487</td>\n      <td>-25</td>\n      <td>C</td>\n      <td>M</td>\n      <td>Y</td>\n      <td>N</td>\n      <td>0</td>\n      <td>202500.0</td>\n      <td>Working</td>\n      <td>Secondary / secondary special</td>\n      <td>Married</td>\n      <td>House / apartment</td>\n      <td>-19398</td>\n      <td>-2166</td>\n      <td>1</td>\n      <td>0</td>\n      <td>0</td>\n      <td>0</td>\n      <td>Drivers</td>\n      <td>2.0</td>\n    </tr>\n    <tr>\n      <th>777711</th>\n      <td>5150487</td>\n      <td>-26</td>\n      <td>C</td>\n      <td>M</td>\n      <td>Y</td>\n      <td>N</td>\n      <td>0</td>\n      <td>202500.0</td>\n      <td>Working</td>\n      <td>Secondary / secondary special</td>\n      <td>Married</td>\n      <td>House / apartment</td>\n      <td>-19398</td>\n      <td>-2166</td>\n      <td>1</td>\n      <td>0</td>\n      <td>0</td>\n      <td>0</td>\n      <td>Drivers</td>\n      <td>2.0</td>\n    </tr>\n    <tr>\n      <th>777712</th>\n      <td>5150487</td>\n      <td>-27</td>\n      <td>C</td>\n      <td>M</td>\n      <td>Y</td>\n      <td>N</td>\n      <td>0</td>\n      <td>202500.0</td>\n      <td>Working</td>\n      <td>Secondary / secondary special</td>\n      <td>Married</td>\n      <td>House / apartment</td>\n      <td>-19398</td>\n      <td>-2166</td>\n      <td>1</td>\n      <td>0</td>\n      <td>0</td>\n      <td>0</td>\n      <td>Drivers</td>\n      <td>2.0</td>\n    </tr>\n    <tr>\n      <th>777713</th>\n      <td>5150487</td>\n      <td>-28</td>\n      <td>C</td>\n      <td>M</td>\n      <td>Y</td>\n      <td>N</td>\n      <td>0</td>\n      <td>202500.0</td>\n      <td>Working</td>\n      <td>Secondary / secondary special</td>\n      <td>Married</td>\n      <td>House / apartment</td>\n      <td>-19398</td>\n      <td>-2166</td>\n      <td>1</td>\n      <td>0</td>\n      <td>0</td>\n      <td>0</td>\n      <td>Drivers</td>\n      <td>2.0</td>\n    </tr>\n    <tr>\n      <th>777714</th>\n      <td>5150487</td>\n      <td>-29</td>\n      <td>C</td>\n      <td>M</td>\n      <td>Y</td>\n      <td>N</td>\n      <td>0</td>\n      <td>202500.0</td>\n      <td>Working</td>\n      <td>Secondary / secondary special</td>\n      <td>Married</td>\n      <td>House / apartment</td>\n      <td>-19398</td>\n      <td>-2166</td>\n      <td>1</td>\n      <td>0</td>\n      <td>0</td>\n      <td>0</td>\n      <td>Drivers</td>\n      <td>2.0</td>\n    </tr>\n  </tbody>\n</table>\n<p>777715 rows × 20 columns</p>\n</div>"
     },
     "metadata": {}
    }
   ],
   "execution_count": null
  },
  {
   "cell_type": "markdown",
   "source": "Tomando en cuenta nuestro dataset unificado, hay columnas que consideramos no son muy utiles para nuestro análisis. Entre ellas estan:\n\n1) NAME_INCOME_TYPE (Consideramos que no afecta al analisis la categoria del ingreso)\n2) OCCUPATION_TYPE (El tipo de ocupación no es relevante para nuestro análisis, ademas que casi un tercio de los datos son nulos)\n3) FLAG_WORK_PHONE (No afecta a nuestro analisis si el cliente tiene telefono de su trabajo)\n4) FLAG_PHONE (No afecta a nuestro analisis si el cliente tiene telefono fijo)\n5) FLAG_MOBIL (No afecta a nuestro análisis si el cliente tiene teléfono movil)\n6) FLAG_EMAIL (No afecta a nuestro análisis si el cliente tiene correo)\n\nPor lo tanto, las eliminaremos",
   "metadata": {
    "datalore": {
     "type": "MD",
     "hide_input_from_viewers": false,
     "hide_output_from_viewers": false
    },
    "cell_id": "00015-9b977dee-e833-4fd9-bee2-5ffcbe5db402",
    "deepnote_app_coordinates": {
     "x": 0,
     "y": 84,
     "w": 12,
     "h": 5
    },
    "deepnote_cell_type": "markdown",
    "deepnote_cell_height": 251.8000030517578
   }
  },
  {
   "cell_type": "code",
   "metadata": {
    "datalore": {
     "type": "CODE",
     "hide_input_from_viewers": false,
     "hide_output_from_viewers": false
    },
    "cell_id": "00016-a41e21c1-27b0-410a-ba6e-b1d5dc11d965",
    "deepnote_to_be_reexecuted": false,
    "source_hash": "44223090",
    "execution_start": 1647917696408,
    "execution_millis": 167,
    "deepnote_app_coordinates": {
     "x": 0,
     "y": 90,
     "w": 12,
     "h": 5
    },
    "deepnote_cell_type": "code",
    "deepnote_cell_height": 98.60000610351562
   },
   "source": "## Eliminamos columnas que no vamos a ocupar\ndata.drop(['NAME_INCOME_TYPE', 'FLAG_PHONE', 'FLAG_MOBIL', 'FLAG_EMAIL', 'FLAG_WORK_PHONE', 'OCCUPATION_TYPE'], axis=1, inplace=True)",
   "outputs": [],
   "execution_count": null
  },
  {
   "cell_type": "markdown",
   "source": "En nuestro datos tenemos información de varios meses del historial crediticio, para este análisis nos centraremos exclusivamente en el ultimo més de actividad",
   "metadata": {
    "datalore": {
     "type": "MD",
     "hide_input_from_viewers": false,
     "hide_output_from_viewers": false
    },
    "cell_id": "00017-a40b3934-df61-42e4-93fd-64f66d7c20a0",
    "deepnote_app_coordinates": {
     "x": 0,
     "y": 96,
     "w": 12,
     "h": 5
    },
    "deepnote_cell_type": "markdown",
    "deepnote_cell_height": 74.39999389648438
   }
  },
  {
   "cell_type": "code",
   "metadata": {
    "datalore": {
     "type": "CODE",
     "hide_input_from_viewers": false,
     "hide_output_from_viewers": false
    },
    "cell_id": "00018-a336438d-10c5-4dae-890d-4c9638a014ad",
    "deepnote_to_be_reexecuted": false,
    "source_hash": "b89ebf34",
    "execution_start": 1647917696624,
    "execution_millis": 226,
    "deepnote_app_coordinates": {
     "x": 0,
     "y": 102,
     "w": 12,
     "h": 5
    },
    "deepnote_cell_type": "code",
    "deepnote_cell_height": 650
   },
   "source": "## Nos quedamos con el último mes de actividad\ndata = data[data['MONTHS_BALANCE'] == 0]\ndata",
   "outputs": [
    {
     "output_type": "execute_result",
     "execution_count": 11,
     "data": {
      "application/vnd.deepnote.dataframe.v3+json": {
       "column_count": 14,
       "row_count": 24672,
       "columns": [
        {
         "name": "ID",
         "dtype": "int64",
         "stats": {
          "unique_count": 24672,
          "nan_count": 0,
          "min": "5008804",
          "max": "5150487",
          "histogram": [
           {
            "bin_start": 5008804,
            "bin_end": 5022972.3,
            "count": 2151
           },
           {
            "bin_start": 5022972.3,
            "bin_end": 5037140.6,
            "count": 2944
           },
           {
            "bin_start": 5037140.6,
            "bin_end": 5051308.9,
            "count": 2499
           },
           {
            "bin_start": 5051308.9,
            "bin_end": 5065477.2,
            "count": 2864
           },
           {
            "bin_start": 5065477.2,
            "bin_end": 5079645.5,
            "count": 2252
           },
           {
            "bin_start": 5079645.5,
            "bin_end": 5093813.8,
            "count": 2350
           },
           {
            "bin_start": 5093813.8,
            "bin_end": 5107982.1,
            "count": 2193
           },
           {
            "bin_start": 5107982.1,
            "bin_end": 5122150.4,
            "count": 3050
           },
           {
            "bin_start": 5122150.4,
            "bin_end": 5136318.7,
            "count": 1385
           },
           {
            "bin_start": 5136318.7,
            "bin_end": 5150487,
            "count": 2984
           }
          ]
         }
        },
        {
         "name": "MONTHS_BALANCE",
         "dtype": "int64",
         "stats": {
          "unique_count": 1,
          "nan_count": 0,
          "min": "0",
          "max": "0",
          "histogram": [
           {
            "bin_start": -0.5,
            "bin_end": -0.4,
            "count": 0
           },
           {
            "bin_start": -0.4,
            "bin_end": -0.3,
            "count": 0
           },
           {
            "bin_start": -0.3,
            "bin_end": -0.19999999999999996,
            "count": 0
           },
           {
            "bin_start": -0.19999999999999996,
            "bin_end": -0.09999999999999998,
            "count": 0
           },
           {
            "bin_start": -0.09999999999999998,
            "bin_end": 0,
            "count": 0
           },
           {
            "bin_start": 0,
            "bin_end": 0.10000000000000009,
            "count": 24672
           },
           {
            "bin_start": 0.10000000000000009,
            "bin_end": 0.20000000000000007,
            "count": 0
           },
           {
            "bin_start": 0.20000000000000007,
            "bin_end": 0.30000000000000004,
            "count": 0
           },
           {
            "bin_start": 0.30000000000000004,
            "bin_end": 0.4,
            "count": 0
           },
           {
            "bin_start": 0.4,
            "bin_end": 0.5,
            "count": 0
           }
          ]
         }
        },
        {
         "name": "STATUS",
         "dtype": "object",
         "stats": {
          "unique_count": 8,
          "nan_count": 0,
          "categories": [
           {
            "name": "C",
            "count": 12974
           },
           {
            "name": "0",
            "count": 6886
           },
           {
            "name": "6 others",
            "count": 4812
           }
          ]
         }
        },
        {
         "name": "CODE_GENDER",
         "dtype": "object",
         "stats": {
          "unique_count": 2,
          "nan_count": 0,
          "categories": [
           {
            "name": "F",
            "count": 16406
           },
           {
            "name": "M",
            "count": 8266
           }
          ]
         }
        },
        {
         "name": "FLAG_OWN_CAR",
         "dtype": "object"
        },
        {
         "name": "FLAG_OWN_REALTY",
         "dtype": "object"
        },
        {
         "name": "CNT_CHILDREN",
         "dtype": "int64"
        },
        {
         "name": "AMT_INCOME_TOTAL",
         "dtype": "float64"
        },
        {
         "name": "NAME_EDUCATION_TYPE",
         "dtype": "object"
        },
        {
         "name": "NAME_FAMILY_STATUS",
         "dtype": "object"
        },
        {
         "name": "NAME_HOUSING_TYPE",
         "dtype": "object"
        },
        {
         "name": "DAYS_BIRTH",
         "dtype": "int64"
        },
        {
         "name": "DAYS_EMPLOYED",
         "dtype": "int64"
        },
        {
         "name": "CNT_FAM_MEMBERS",
         "dtype": "float64"
        },
        {
         "name": "_deepnote_index_column",
         "dtype": "int64"
        }
       ],
       "rows": [
        {
         "ID": 5008804,
         "MONTHS_BALANCE": 0,
         "STATUS": "C",
         "CODE_GENDER": "M",
         "FLAG_OWN_CAR": "Y",
         "FLAG_OWN_REALTY": "Y",
         "CNT_CHILDREN": 0,
         "AMT_INCOME_TOTAL": 427500,
         "NAME_EDUCATION_TYPE": "Higher education",
         "NAME_FAMILY_STATUS": "Civil marriage",
         "NAME_HOUSING_TYPE": "Rented apartment",
         "DAYS_BIRTH": -12005,
         "DAYS_EMPLOYED": -4542,
         "CNT_FAM_MEMBERS": 2,
         "_deepnote_index_column": 0
        },
        {
         "ID": 5008805,
         "MONTHS_BALANCE": 0,
         "STATUS": "C",
         "CODE_GENDER": "M",
         "FLAG_OWN_CAR": "Y",
         "FLAG_OWN_REALTY": "Y",
         "CNT_CHILDREN": 0,
         "AMT_INCOME_TOTAL": 427500,
         "NAME_EDUCATION_TYPE": "Higher education",
         "NAME_FAMILY_STATUS": "Civil marriage",
         "NAME_HOUSING_TYPE": "Rented apartment",
         "DAYS_BIRTH": -12005,
         "DAYS_EMPLOYED": -4542,
         "CNT_FAM_MEMBERS": 2,
         "_deepnote_index_column": 16
        },
        {
         "ID": 5008806,
         "MONTHS_BALANCE": 0,
         "STATUS": "C",
         "CODE_GENDER": "M",
         "FLAG_OWN_CAR": "Y",
         "FLAG_OWN_REALTY": "Y",
         "CNT_CHILDREN": 0,
         "AMT_INCOME_TOTAL": 112500,
         "NAME_EDUCATION_TYPE": "Secondary / secondary special",
         "NAME_FAMILY_STATUS": "Married",
         "NAME_HOUSING_TYPE": "House / apartment",
         "DAYS_BIRTH": -21474,
         "DAYS_EMPLOYED": -1134,
         "CNT_FAM_MEMBERS": 2,
         "_deepnote_index_column": 31
        },
        {
         "ID": 5008808,
         "MONTHS_BALANCE": 0,
         "STATUS": "0",
         "CODE_GENDER": "F",
         "FLAG_OWN_CAR": "N",
         "FLAG_OWN_REALTY": "Y",
         "CNT_CHILDREN": 0,
         "AMT_INCOME_TOTAL": 270000,
         "NAME_EDUCATION_TYPE": "Secondary / secondary special",
         "NAME_FAMILY_STATUS": "Single / not married",
         "NAME_HOUSING_TYPE": "House / apartment",
         "DAYS_BIRTH": -19110,
         "DAYS_EMPLOYED": -3051,
         "CNT_FAM_MEMBERS": 1,
         "_deepnote_index_column": 61
        },
        {
         "ID": 5008810,
         "MONTHS_BALANCE": 0,
         "STATUS": "C",
         "CODE_GENDER": "F",
         "FLAG_OWN_CAR": "N",
         "FLAG_OWN_REALTY": "Y",
         "CNT_CHILDREN": 0,
         "AMT_INCOME_TOTAL": 270000,
         "NAME_EDUCATION_TYPE": "Secondary / secondary special",
         "NAME_FAMILY_STATUS": "Single / not married",
         "NAME_HOUSING_TYPE": "House / apartment",
         "DAYS_BIRTH": -19110,
         "DAYS_EMPLOYED": -3051,
         "CNT_FAM_MEMBERS": 1,
         "_deepnote_index_column": 71
        },
        {
         "ID": 5008811,
         "MONTHS_BALANCE": 0,
         "STATUS": "C",
         "CODE_GENDER": "F",
         "FLAG_OWN_CAR": "N",
         "FLAG_OWN_REALTY": "Y",
         "CNT_CHILDREN": 0,
         "AMT_INCOME_TOTAL": 270000,
         "NAME_EDUCATION_TYPE": "Secondary / secondary special",
         "NAME_FAMILY_STATUS": "Single / not married",
         "NAME_HOUSING_TYPE": "House / apartment",
         "DAYS_BIRTH": -19110,
         "DAYS_EMPLOYED": -3051,
         "CNT_FAM_MEMBERS": 1,
         "_deepnote_index_column": 98
        },
        {
         "ID": 5008813,
         "MONTHS_BALANCE": 0,
         "STATUS": "0",
         "CODE_GENDER": "F",
         "FLAG_OWN_CAR": "N",
         "FLAG_OWN_REALTY": "Y",
         "CNT_CHILDREN": 0,
         "AMT_INCOME_TOTAL": 283500,
         "NAME_EDUCATION_TYPE": "Higher education",
         "NAME_FAMILY_STATUS": "Separated",
         "NAME_HOUSING_TYPE": "House / apartment",
         "DAYS_BIRTH": -22464,
         "DAYS_EMPLOYED": 365243,
         "CNT_FAM_MEMBERS": 1,
         "_deepnote_index_column": 154
        },
        {
         "ID": 5008815,
         "MONTHS_BALANCE": 0,
         "STATUS": "0",
         "CODE_GENDER": "M",
         "FLAG_OWN_CAR": "Y",
         "FLAG_OWN_REALTY": "Y",
         "CNT_CHILDREN": 0,
         "AMT_INCOME_TOTAL": 270000,
         "NAME_EDUCATION_TYPE": "Higher education",
         "NAME_FAMILY_STATUS": "Married",
         "NAME_HOUSING_TYPE": "House / apartment",
         "DAYS_BIRTH": -16872,
         "DAYS_EMPLOYED": -769,
         "CNT_FAM_MEMBERS": 2,
         "_deepnote_index_column": 188
        },
        {
         "ID": 5008821,
         "MONTHS_BALANCE": 0,
         "STATUS": "X",
         "CODE_GENDER": "M",
         "FLAG_OWN_CAR": "Y",
         "FLAG_OWN_REALTY": "Y",
         "CNT_CHILDREN": 0,
         "AMT_INCOME_TOTAL": 135000,
         "NAME_EDUCATION_TYPE": "Secondary / secondary special",
         "NAME_FAMILY_STATUS": "Married",
         "NAME_HOUSING_TYPE": "House / apartment",
         "DAYS_BIRTH": -17778,
         "DAYS_EMPLOYED": -1194,
         "CNT_FAM_MEMBERS": 2,
         "_deepnote_index_column": 211
        },
        {
         "ID": 5008824,
         "MONTHS_BALANCE": 0,
         "STATUS": "0",
         "CODE_GENDER": "M",
         "FLAG_OWN_CAR": "Y",
         "FLAG_OWN_REALTY": "Y",
         "CNT_CHILDREN": 0,
         "AMT_INCOME_TOTAL": 135000,
         "NAME_EDUCATION_TYPE": "Secondary / secondary special",
         "NAME_FAMILY_STATUS": "Married",
         "NAME_HOUSING_TYPE": "House / apartment",
         "DAYS_BIRTH": -17778,
         "DAYS_EMPLOYED": -1194,
         "CNT_FAM_MEMBERS": 2,
         "_deepnote_index_column": 234
        }
       ]
      },
      "text/plain": "             ID  MONTHS_BALANCE STATUS CODE_GENDER FLAG_OWN_CAR  \\\n0       5008804               0      C           M            Y   \n16      5008805               0      C           M            Y   \n31      5008806               0      C           M            Y   \n61      5008808               0      0           F            N   \n71      5008810               0      C           F            N   \n...         ...             ...    ...         ...          ...   \n777591  5150481               0      X           F            Y   \n777652  5150483               0      X           F            Y   \n777670  5150484               0      C           F            Y   \n777683  5150485               0      0           F            Y   \n777685  5150487               0      C           M            Y   \n\n       FLAG_OWN_REALTY  CNT_CHILDREN  AMT_INCOME_TOTAL  \\\n0                    Y             0          427500.0   \n16                   Y             0          427500.0   \n31                   Y             0          112500.0   \n61                   Y             0          270000.0   \n71                   Y             0          270000.0   \n...                ...           ...               ...   \n777591               Y             1          157500.0   \n777652               Y             1          157500.0   \n777670               Y             1          157500.0   \n777683               Y             1          157500.0   \n777685               N             0          202500.0   \n\n                  NAME_EDUCATION_TYPE    NAME_FAMILY_STATUS  \\\n0                    Higher education        Civil marriage   \n16                   Higher education        Civil marriage   \n31      Secondary / secondary special               Married   \n61      Secondary / secondary special  Single / not married   \n71      Secondary / secondary special  Single / not married   \n...                               ...                   ...   \n777591  Secondary / secondary special               Married   \n777652  Secondary / secondary special               Married   \n777670  Secondary / secondary special               Married   \n777683  Secondary / secondary special               Married   \n777685  Secondary / secondary special               Married   \n\n        NAME_HOUSING_TYPE  DAYS_BIRTH  DAYS_EMPLOYED  CNT_FAM_MEMBERS  \n0        Rented apartment      -12005          -4542              2.0  \n16       Rented apartment      -12005          -4542              2.0  \n31      House / apartment      -21474          -1134              2.0  \n61      House / apartment      -19110          -3051              1.0  \n71      House / apartment      -19110          -3051              1.0  \n...                   ...         ...            ...              ...  \n777591  House / apartment      -10808          -1739              3.0  \n777652  House / apartment      -10808          -1739              3.0  \n777670  House / apartment      -10808          -1739              3.0  \n777683  House / apartment      -10808          -1739              3.0  \n777685  House / apartment      -19398          -2166              2.0  \n\n[24672 rows x 14 columns]",
      "text/html": "<div>\n<style scoped>\n    .dataframe tbody tr th:only-of-type {\n        vertical-align: middle;\n    }\n\n    .dataframe tbody tr th {\n        vertical-align: top;\n    }\n\n    .dataframe thead th {\n        text-align: right;\n    }\n</style>\n<table border=\"1\" class=\"dataframe\">\n  <thead>\n    <tr style=\"text-align: right;\">\n      <th></th>\n      <th>ID</th>\n      <th>MONTHS_BALANCE</th>\n      <th>STATUS</th>\n      <th>CODE_GENDER</th>\n      <th>FLAG_OWN_CAR</th>\n      <th>FLAG_OWN_REALTY</th>\n      <th>CNT_CHILDREN</th>\n      <th>AMT_INCOME_TOTAL</th>\n      <th>NAME_EDUCATION_TYPE</th>\n      <th>NAME_FAMILY_STATUS</th>\n      <th>NAME_HOUSING_TYPE</th>\n      <th>DAYS_BIRTH</th>\n      <th>DAYS_EMPLOYED</th>\n      <th>CNT_FAM_MEMBERS</th>\n    </tr>\n  </thead>\n  <tbody>\n    <tr>\n      <th>0</th>\n      <td>5008804</td>\n      <td>0</td>\n      <td>C</td>\n      <td>M</td>\n      <td>Y</td>\n      <td>Y</td>\n      <td>0</td>\n      <td>427500.0</td>\n      <td>Higher education</td>\n      <td>Civil marriage</td>\n      <td>Rented apartment</td>\n      <td>-12005</td>\n      <td>-4542</td>\n      <td>2.0</td>\n    </tr>\n    <tr>\n      <th>16</th>\n      <td>5008805</td>\n      <td>0</td>\n      <td>C</td>\n      <td>M</td>\n      <td>Y</td>\n      <td>Y</td>\n      <td>0</td>\n      <td>427500.0</td>\n      <td>Higher education</td>\n      <td>Civil marriage</td>\n      <td>Rented apartment</td>\n      <td>-12005</td>\n      <td>-4542</td>\n      <td>2.0</td>\n    </tr>\n    <tr>\n      <th>31</th>\n      <td>5008806</td>\n      <td>0</td>\n      <td>C</td>\n      <td>M</td>\n      <td>Y</td>\n      <td>Y</td>\n      <td>0</td>\n      <td>112500.0</td>\n      <td>Secondary / secondary special</td>\n      <td>Married</td>\n      <td>House / apartment</td>\n      <td>-21474</td>\n      <td>-1134</td>\n      <td>2.0</td>\n    </tr>\n    <tr>\n      <th>61</th>\n      <td>5008808</td>\n      <td>0</td>\n      <td>0</td>\n      <td>F</td>\n      <td>N</td>\n      <td>Y</td>\n      <td>0</td>\n      <td>270000.0</td>\n      <td>Secondary / secondary special</td>\n      <td>Single / not married</td>\n      <td>House / apartment</td>\n      <td>-19110</td>\n      <td>-3051</td>\n      <td>1.0</td>\n    </tr>\n    <tr>\n      <th>71</th>\n      <td>5008810</td>\n      <td>0</td>\n      <td>C</td>\n      <td>F</td>\n      <td>N</td>\n      <td>Y</td>\n      <td>0</td>\n      <td>270000.0</td>\n      <td>Secondary / secondary special</td>\n      <td>Single / not married</td>\n      <td>House / apartment</td>\n      <td>-19110</td>\n      <td>-3051</td>\n      <td>1.0</td>\n    </tr>\n    <tr>\n      <th>...</th>\n      <td>...</td>\n      <td>...</td>\n      <td>...</td>\n      <td>...</td>\n      <td>...</td>\n      <td>...</td>\n      <td>...</td>\n      <td>...</td>\n      <td>...</td>\n      <td>...</td>\n      <td>...</td>\n      <td>...</td>\n      <td>...</td>\n      <td>...</td>\n    </tr>\n    <tr>\n      <th>777591</th>\n      <td>5150481</td>\n      <td>0</td>\n      <td>X</td>\n      <td>F</td>\n      <td>Y</td>\n      <td>Y</td>\n      <td>1</td>\n      <td>157500.0</td>\n      <td>Secondary / secondary special</td>\n      <td>Married</td>\n      <td>House / apartment</td>\n      <td>-10808</td>\n      <td>-1739</td>\n      <td>3.0</td>\n    </tr>\n    <tr>\n      <th>777652</th>\n      <td>5150483</td>\n      <td>0</td>\n      <td>X</td>\n      <td>F</td>\n      <td>Y</td>\n      <td>Y</td>\n      <td>1</td>\n      <td>157500.0</td>\n      <td>Secondary / secondary special</td>\n      <td>Married</td>\n      <td>House / apartment</td>\n      <td>-10808</td>\n      <td>-1739</td>\n      <td>3.0</td>\n    </tr>\n    <tr>\n      <th>777670</th>\n      <td>5150484</td>\n      <td>0</td>\n      <td>C</td>\n      <td>F</td>\n      <td>Y</td>\n      <td>Y</td>\n      <td>1</td>\n      <td>157500.0</td>\n      <td>Secondary / secondary special</td>\n      <td>Married</td>\n      <td>House / apartment</td>\n      <td>-10808</td>\n      <td>-1739</td>\n      <td>3.0</td>\n    </tr>\n    <tr>\n      <th>777683</th>\n      <td>5150485</td>\n      <td>0</td>\n      <td>0</td>\n      <td>F</td>\n      <td>Y</td>\n      <td>Y</td>\n      <td>1</td>\n      <td>157500.0</td>\n      <td>Secondary / secondary special</td>\n      <td>Married</td>\n      <td>House / apartment</td>\n      <td>-10808</td>\n      <td>-1739</td>\n      <td>3.0</td>\n    </tr>\n    <tr>\n      <th>777685</th>\n      <td>5150487</td>\n      <td>0</td>\n      <td>C</td>\n      <td>M</td>\n      <td>Y</td>\n      <td>N</td>\n      <td>0</td>\n      <td>202500.0</td>\n      <td>Secondary / secondary special</td>\n      <td>Married</td>\n      <td>House / apartment</td>\n      <td>-19398</td>\n      <td>-2166</td>\n      <td>2.0</td>\n    </tr>\n  </tbody>\n</table>\n<p>24672 rows × 14 columns</p>\n</div>"
     },
     "metadata": {}
    }
   ],
   "execution_count": null
  },
  {
   "cell_type": "markdown",
   "source": "Las variables DAYS_BIRTH y DAYS_EMPLOYED podemos transformarlas para que sean más claras. La primera la pasaremos a Edad para conocer la edad del cliente y la segunda la pasaremos a ser una variable booleana de Empleo o Desempleo",
   "metadata": {
    "datalore": {
     "type": "MD",
     "hide_input_from_viewers": false,
     "hide_output_from_viewers": false
    },
    "cell_id": "00019-19bc87d3-4ff0-44dc-abb6-1a23e6e9eac5",
    "deepnote_app_coordinates": {
     "x": 0,
     "y": 108,
     "w": 12,
     "h": 5
    },
    "deepnote_cell_type": "markdown",
    "deepnote_cell_height": 74.39999389648438
   }
  },
  {
   "cell_type": "code",
   "metadata": {
    "datalore": {
     "type": "CODE",
     "hide_input_from_viewers": false,
     "hide_output_from_viewers": false
    },
    "cell_id": "00020-8a27bfbe-3b97-4c52-9b37-03c364eded24",
    "deepnote_to_be_reexecuted": false,
    "source_hash": "bff02836",
    "execution_start": 1647917696804,
    "execution_millis": 216,
    "deepnote_app_coordinates": {
     "x": 0,
     "y": 114,
     "w": 12,
     "h": 5
    },
    "deepnote_cell_type": "code",
    "deepnote_cell_height": 1059.800048828125
   },
   "source": "## Creamos la variable edad\ndata['Edad'] = (data['DAYS_BIRTH'] / 365) * -1\n\n## Funcion lambda\ntiene_empleo = lambda x: True if x < 0 else False\n\n# Aplicamos la función a la nueva variable\ndata['Empleo'] = data.DAYS_EMPLOYED.apply(tiene_empleo)\n\n## Presentamos el DataFrame\ndata",
   "outputs": [
    {
     "name": "stderr",
     "text": "<ipython-input-12-735bc8430817>:2: SettingWithCopyWarning: \nA value is trying to be set on a copy of a slice from a DataFrame.\nTry using .loc[row_indexer,col_indexer] = value instead\n\nSee the caveats in the documentation: https://pandas.pydata.org/pandas-docs/stable/user_guide/indexing.html#returning-a-view-versus-a-copy\n  data['Edad'] = (data['DAYS_BIRTH'] / 365) * -1\n<ipython-input-12-735bc8430817>:8: SettingWithCopyWarning: \nA value is trying to be set on a copy of a slice from a DataFrame.\nTry using .loc[row_indexer,col_indexer] = value instead\n\nSee the caveats in the documentation: https://pandas.pydata.org/pandas-docs/stable/user_guide/indexing.html#returning-a-view-versus-a-copy\n  data['Empleo'] = data.DAYS_EMPLOYED.apply(tiene_empleo)\n",
     "output_type": "stream"
    },
    {
     "output_type": "execute_result",
     "execution_count": 12,
     "data": {
      "application/vnd.deepnote.dataframe.v3+json": {
       "column_count": 16,
       "row_count": 24672,
       "columns": [
        {
         "name": "ID",
         "dtype": "int64",
         "stats": {
          "unique_count": 24672,
          "nan_count": 0,
          "min": "5008804",
          "max": "5150487",
          "histogram": [
           {
            "bin_start": 5008804,
            "bin_end": 5022972.3,
            "count": 2151
           },
           {
            "bin_start": 5022972.3,
            "bin_end": 5037140.6,
            "count": 2944
           },
           {
            "bin_start": 5037140.6,
            "bin_end": 5051308.9,
            "count": 2499
           },
           {
            "bin_start": 5051308.9,
            "bin_end": 5065477.2,
            "count": 2864
           },
           {
            "bin_start": 5065477.2,
            "bin_end": 5079645.5,
            "count": 2252
           },
           {
            "bin_start": 5079645.5,
            "bin_end": 5093813.8,
            "count": 2350
           },
           {
            "bin_start": 5093813.8,
            "bin_end": 5107982.1,
            "count": 2193
           },
           {
            "bin_start": 5107982.1,
            "bin_end": 5122150.4,
            "count": 3050
           },
           {
            "bin_start": 5122150.4,
            "bin_end": 5136318.7,
            "count": 1385
           },
           {
            "bin_start": 5136318.7,
            "bin_end": 5150487,
            "count": 2984
           }
          ]
         }
        },
        {
         "name": "MONTHS_BALANCE",
         "dtype": "int64",
         "stats": {
          "unique_count": 1,
          "nan_count": 0,
          "min": "0",
          "max": "0",
          "histogram": [
           {
            "bin_start": -0.5,
            "bin_end": -0.4,
            "count": 0
           },
           {
            "bin_start": -0.4,
            "bin_end": -0.3,
            "count": 0
           },
           {
            "bin_start": -0.3,
            "bin_end": -0.19999999999999996,
            "count": 0
           },
           {
            "bin_start": -0.19999999999999996,
            "bin_end": -0.09999999999999998,
            "count": 0
           },
           {
            "bin_start": -0.09999999999999998,
            "bin_end": 0,
            "count": 0
           },
           {
            "bin_start": 0,
            "bin_end": 0.10000000000000009,
            "count": 24672
           },
           {
            "bin_start": 0.10000000000000009,
            "bin_end": 0.20000000000000007,
            "count": 0
           },
           {
            "bin_start": 0.20000000000000007,
            "bin_end": 0.30000000000000004,
            "count": 0
           },
           {
            "bin_start": 0.30000000000000004,
            "bin_end": 0.4,
            "count": 0
           },
           {
            "bin_start": 0.4,
            "bin_end": 0.5,
            "count": 0
           }
          ]
         }
        },
        {
         "name": "STATUS",
         "dtype": "object",
         "stats": {
          "unique_count": 8,
          "nan_count": 0,
          "categories": [
           {
            "name": "C",
            "count": 12974
           },
           {
            "name": "0",
            "count": 6886
           },
           {
            "name": "6 others",
            "count": 4812
           }
          ]
         }
        },
        {
         "name": "CODE_GENDER",
         "dtype": "object",
         "stats": {
          "unique_count": 2,
          "nan_count": 0,
          "categories": [
           {
            "name": "F",
            "count": 16406
           },
           {
            "name": "M",
            "count": 8266
           }
          ]
         }
        },
        {
         "name": "FLAG_OWN_CAR",
         "dtype": "object"
        },
        {
         "name": "FLAG_OWN_REALTY",
         "dtype": "object"
        },
        {
         "name": "CNT_CHILDREN",
         "dtype": "int64"
        },
        {
         "name": "AMT_INCOME_TOTAL",
         "dtype": "float64"
        },
        {
         "name": "NAME_EDUCATION_TYPE",
         "dtype": "object"
        },
        {
         "name": "NAME_FAMILY_STATUS",
         "dtype": "object"
        },
        {
         "name": "NAME_HOUSING_TYPE",
         "dtype": "object"
        },
        {
         "name": "DAYS_BIRTH",
         "dtype": "int64"
        },
        {
         "name": "DAYS_EMPLOYED",
         "dtype": "int64"
        },
        {
         "name": "CNT_FAM_MEMBERS",
         "dtype": "float64"
        },
        {
         "name": "Edad",
         "dtype": "float64"
        },
        {
         "name": "Empleo",
         "dtype": "bool"
        },
        {
         "name": "_deepnote_index_column",
         "dtype": "int64"
        }
       ],
       "rows": [
        {
         "ID": 5008804,
         "MONTHS_BALANCE": 0,
         "STATUS": "C",
         "CODE_GENDER": "M",
         "FLAG_OWN_CAR": "Y",
         "FLAG_OWN_REALTY": "Y",
         "CNT_CHILDREN": 0,
         "AMT_INCOME_TOTAL": 427500,
         "NAME_EDUCATION_TYPE": "Higher education",
         "NAME_FAMILY_STATUS": "Civil marriage",
         "NAME_HOUSING_TYPE": "Rented apartment",
         "DAYS_BIRTH": -12005,
         "DAYS_EMPLOYED": -4542,
         "CNT_FAM_MEMBERS": 2,
         "Edad": 32.89041095890411,
         "Empleo": true,
         "_deepnote_index_column": 0
        },
        {
         "ID": 5008805,
         "MONTHS_BALANCE": 0,
         "STATUS": "C",
         "CODE_GENDER": "M",
         "FLAG_OWN_CAR": "Y",
         "FLAG_OWN_REALTY": "Y",
         "CNT_CHILDREN": 0,
         "AMT_INCOME_TOTAL": 427500,
         "NAME_EDUCATION_TYPE": "Higher education",
         "NAME_FAMILY_STATUS": "Civil marriage",
         "NAME_HOUSING_TYPE": "Rented apartment",
         "DAYS_BIRTH": -12005,
         "DAYS_EMPLOYED": -4542,
         "CNT_FAM_MEMBERS": 2,
         "Edad": 32.89041095890411,
         "Empleo": true,
         "_deepnote_index_column": 16
        },
        {
         "ID": 5008806,
         "MONTHS_BALANCE": 0,
         "STATUS": "C",
         "CODE_GENDER": "M",
         "FLAG_OWN_CAR": "Y",
         "FLAG_OWN_REALTY": "Y",
         "CNT_CHILDREN": 0,
         "AMT_INCOME_TOTAL": 112500,
         "NAME_EDUCATION_TYPE": "Secondary / secondary special",
         "NAME_FAMILY_STATUS": "Married",
         "NAME_HOUSING_TYPE": "House / apartment",
         "DAYS_BIRTH": -21474,
         "DAYS_EMPLOYED": -1134,
         "CNT_FAM_MEMBERS": 2,
         "Edad": 58.83287671232877,
         "Empleo": true,
         "_deepnote_index_column": 31
        },
        {
         "ID": 5008808,
         "MONTHS_BALANCE": 0,
         "STATUS": "0",
         "CODE_GENDER": "F",
         "FLAG_OWN_CAR": "N",
         "FLAG_OWN_REALTY": "Y",
         "CNT_CHILDREN": 0,
         "AMT_INCOME_TOTAL": 270000,
         "NAME_EDUCATION_TYPE": "Secondary / secondary special",
         "NAME_FAMILY_STATUS": "Single / not married",
         "NAME_HOUSING_TYPE": "House / apartment",
         "DAYS_BIRTH": -19110,
         "DAYS_EMPLOYED": -3051,
         "CNT_FAM_MEMBERS": 1,
         "Edad": 52.35616438356164,
         "Empleo": true,
         "_deepnote_index_column": 61
        },
        {
         "ID": 5008810,
         "MONTHS_BALANCE": 0,
         "STATUS": "C",
         "CODE_GENDER": "F",
         "FLAG_OWN_CAR": "N",
         "FLAG_OWN_REALTY": "Y",
         "CNT_CHILDREN": 0,
         "AMT_INCOME_TOTAL": 270000,
         "NAME_EDUCATION_TYPE": "Secondary / secondary special",
         "NAME_FAMILY_STATUS": "Single / not married",
         "NAME_HOUSING_TYPE": "House / apartment",
         "DAYS_BIRTH": -19110,
         "DAYS_EMPLOYED": -3051,
         "CNT_FAM_MEMBERS": 1,
         "Edad": 52.35616438356164,
         "Empleo": true,
         "_deepnote_index_column": 71
        },
        {
         "ID": 5008811,
         "MONTHS_BALANCE": 0,
         "STATUS": "C",
         "CODE_GENDER": "F",
         "FLAG_OWN_CAR": "N",
         "FLAG_OWN_REALTY": "Y",
         "CNT_CHILDREN": 0,
         "AMT_INCOME_TOTAL": 270000,
         "NAME_EDUCATION_TYPE": "Secondary / secondary special",
         "NAME_FAMILY_STATUS": "Single / not married",
         "NAME_HOUSING_TYPE": "House / apartment",
         "DAYS_BIRTH": -19110,
         "DAYS_EMPLOYED": -3051,
         "CNT_FAM_MEMBERS": 1,
         "Edad": 52.35616438356164,
         "Empleo": true,
         "_deepnote_index_column": 98
        },
        {
         "ID": 5008813,
         "MONTHS_BALANCE": 0,
         "STATUS": "0",
         "CODE_GENDER": "F",
         "FLAG_OWN_CAR": "N",
         "FLAG_OWN_REALTY": "Y",
         "CNT_CHILDREN": 0,
         "AMT_INCOME_TOTAL": 283500,
         "NAME_EDUCATION_TYPE": "Higher education",
         "NAME_FAMILY_STATUS": "Separated",
         "NAME_HOUSING_TYPE": "House / apartment",
         "DAYS_BIRTH": -22464,
         "DAYS_EMPLOYED": 365243,
         "CNT_FAM_MEMBERS": 1,
         "Edad": 61.54520547945206,
         "Empleo": false,
         "_deepnote_index_column": 154
        },
        {
         "ID": 5008815,
         "MONTHS_BALANCE": 0,
         "STATUS": "0",
         "CODE_GENDER": "M",
         "FLAG_OWN_CAR": "Y",
         "FLAG_OWN_REALTY": "Y",
         "CNT_CHILDREN": 0,
         "AMT_INCOME_TOTAL": 270000,
         "NAME_EDUCATION_TYPE": "Higher education",
         "NAME_FAMILY_STATUS": "Married",
         "NAME_HOUSING_TYPE": "House / apartment",
         "DAYS_BIRTH": -16872,
         "DAYS_EMPLOYED": -769,
         "CNT_FAM_MEMBERS": 2,
         "Edad": 46.224657534246575,
         "Empleo": true,
         "_deepnote_index_column": 188
        },
        {
         "ID": 5008821,
         "MONTHS_BALANCE": 0,
         "STATUS": "X",
         "CODE_GENDER": "M",
         "FLAG_OWN_CAR": "Y",
         "FLAG_OWN_REALTY": "Y",
         "CNT_CHILDREN": 0,
         "AMT_INCOME_TOTAL": 135000,
         "NAME_EDUCATION_TYPE": "Secondary / secondary special",
         "NAME_FAMILY_STATUS": "Married",
         "NAME_HOUSING_TYPE": "House / apartment",
         "DAYS_BIRTH": -17778,
         "DAYS_EMPLOYED": -1194,
         "CNT_FAM_MEMBERS": 2,
         "Edad": 48.706849315068496,
         "Empleo": true,
         "_deepnote_index_column": 211
        },
        {
         "ID": 5008824,
         "MONTHS_BALANCE": 0,
         "STATUS": "0",
         "CODE_GENDER": "M",
         "FLAG_OWN_CAR": "Y",
         "FLAG_OWN_REALTY": "Y",
         "CNT_CHILDREN": 0,
         "AMT_INCOME_TOTAL": 135000,
         "NAME_EDUCATION_TYPE": "Secondary / secondary special",
         "NAME_FAMILY_STATUS": "Married",
         "NAME_HOUSING_TYPE": "House / apartment",
         "DAYS_BIRTH": -17778,
         "DAYS_EMPLOYED": -1194,
         "CNT_FAM_MEMBERS": 2,
         "Edad": 48.706849315068496,
         "Empleo": true,
         "_deepnote_index_column": 234
        }
       ]
      },
      "text/plain": "             ID  MONTHS_BALANCE STATUS CODE_GENDER FLAG_OWN_CAR  \\\n0       5008804               0      C           M            Y   \n16      5008805               0      C           M            Y   \n31      5008806               0      C           M            Y   \n61      5008808               0      0           F            N   \n71      5008810               0      C           F            N   \n...         ...             ...    ...         ...          ...   \n777591  5150481               0      X           F            Y   \n777652  5150483               0      X           F            Y   \n777670  5150484               0      C           F            Y   \n777683  5150485               0      0           F            Y   \n777685  5150487               0      C           M            Y   \n\n       FLAG_OWN_REALTY  CNT_CHILDREN  AMT_INCOME_TOTAL  \\\n0                    Y             0          427500.0   \n16                   Y             0          427500.0   \n31                   Y             0          112500.0   \n61                   Y             0          270000.0   \n71                   Y             0          270000.0   \n...                ...           ...               ...   \n777591               Y             1          157500.0   \n777652               Y             1          157500.0   \n777670               Y             1          157500.0   \n777683               Y             1          157500.0   \n777685               N             0          202500.0   \n\n                  NAME_EDUCATION_TYPE    NAME_FAMILY_STATUS  \\\n0                    Higher education        Civil marriage   \n16                   Higher education        Civil marriage   \n31      Secondary / secondary special               Married   \n61      Secondary / secondary special  Single / not married   \n71      Secondary / secondary special  Single / not married   \n...                               ...                   ...   \n777591  Secondary / secondary special               Married   \n777652  Secondary / secondary special               Married   \n777670  Secondary / secondary special               Married   \n777683  Secondary / secondary special               Married   \n777685  Secondary / secondary special               Married   \n\n        NAME_HOUSING_TYPE  DAYS_BIRTH  DAYS_EMPLOYED  CNT_FAM_MEMBERS  \\\n0        Rented apartment      -12005          -4542              2.0   \n16       Rented apartment      -12005          -4542              2.0   \n31      House / apartment      -21474          -1134              2.0   \n61      House / apartment      -19110          -3051              1.0   \n71      House / apartment      -19110          -3051              1.0   \n...                   ...         ...            ...              ...   \n777591  House / apartment      -10808          -1739              3.0   \n777652  House / apartment      -10808          -1739              3.0   \n777670  House / apartment      -10808          -1739              3.0   \n777683  House / apartment      -10808          -1739              3.0   \n777685  House / apartment      -19398          -2166              2.0   \n\n             Edad  Empleo  \n0       32.890411    True  \n16      32.890411    True  \n31      58.832877    True  \n61      52.356164    True  \n71      52.356164    True  \n...           ...     ...  \n777591  29.610959    True  \n777652  29.610959    True  \n777670  29.610959    True  \n777683  29.610959    True  \n777685  53.145205    True  \n\n[24672 rows x 16 columns]",
      "text/html": "<div>\n<style scoped>\n    .dataframe tbody tr th:only-of-type {\n        vertical-align: middle;\n    }\n\n    .dataframe tbody tr th {\n        vertical-align: top;\n    }\n\n    .dataframe thead th {\n        text-align: right;\n    }\n</style>\n<table border=\"1\" class=\"dataframe\">\n  <thead>\n    <tr style=\"text-align: right;\">\n      <th></th>\n      <th>ID</th>\n      <th>MONTHS_BALANCE</th>\n      <th>STATUS</th>\n      <th>CODE_GENDER</th>\n      <th>FLAG_OWN_CAR</th>\n      <th>FLAG_OWN_REALTY</th>\n      <th>CNT_CHILDREN</th>\n      <th>AMT_INCOME_TOTAL</th>\n      <th>NAME_EDUCATION_TYPE</th>\n      <th>NAME_FAMILY_STATUS</th>\n      <th>NAME_HOUSING_TYPE</th>\n      <th>DAYS_BIRTH</th>\n      <th>DAYS_EMPLOYED</th>\n      <th>CNT_FAM_MEMBERS</th>\n      <th>Edad</th>\n      <th>Empleo</th>\n    </tr>\n  </thead>\n  <tbody>\n    <tr>\n      <th>0</th>\n      <td>5008804</td>\n      <td>0</td>\n      <td>C</td>\n      <td>M</td>\n      <td>Y</td>\n      <td>Y</td>\n      <td>0</td>\n      <td>427500.0</td>\n      <td>Higher education</td>\n      <td>Civil marriage</td>\n      <td>Rented apartment</td>\n      <td>-12005</td>\n      <td>-4542</td>\n      <td>2.0</td>\n      <td>32.890411</td>\n      <td>True</td>\n    </tr>\n    <tr>\n      <th>16</th>\n      <td>5008805</td>\n      <td>0</td>\n      <td>C</td>\n      <td>M</td>\n      <td>Y</td>\n      <td>Y</td>\n      <td>0</td>\n      <td>427500.0</td>\n      <td>Higher education</td>\n      <td>Civil marriage</td>\n      <td>Rented apartment</td>\n      <td>-12005</td>\n      <td>-4542</td>\n      <td>2.0</td>\n      <td>32.890411</td>\n      <td>True</td>\n    </tr>\n    <tr>\n      <th>31</th>\n      <td>5008806</td>\n      <td>0</td>\n      <td>C</td>\n      <td>M</td>\n      <td>Y</td>\n      <td>Y</td>\n      <td>0</td>\n      <td>112500.0</td>\n      <td>Secondary / secondary special</td>\n      <td>Married</td>\n      <td>House / apartment</td>\n      <td>-21474</td>\n      <td>-1134</td>\n      <td>2.0</td>\n      <td>58.832877</td>\n      <td>True</td>\n    </tr>\n    <tr>\n      <th>61</th>\n      <td>5008808</td>\n      <td>0</td>\n      <td>0</td>\n      <td>F</td>\n      <td>N</td>\n      <td>Y</td>\n      <td>0</td>\n      <td>270000.0</td>\n      <td>Secondary / secondary special</td>\n      <td>Single / not married</td>\n      <td>House / apartment</td>\n      <td>-19110</td>\n      <td>-3051</td>\n      <td>1.0</td>\n      <td>52.356164</td>\n      <td>True</td>\n    </tr>\n    <tr>\n      <th>71</th>\n      <td>5008810</td>\n      <td>0</td>\n      <td>C</td>\n      <td>F</td>\n      <td>N</td>\n      <td>Y</td>\n      <td>0</td>\n      <td>270000.0</td>\n      <td>Secondary / secondary special</td>\n      <td>Single / not married</td>\n      <td>House / apartment</td>\n      <td>-19110</td>\n      <td>-3051</td>\n      <td>1.0</td>\n      <td>52.356164</td>\n      <td>True</td>\n    </tr>\n    <tr>\n      <th>...</th>\n      <td>...</td>\n      <td>...</td>\n      <td>...</td>\n      <td>...</td>\n      <td>...</td>\n      <td>...</td>\n      <td>...</td>\n      <td>...</td>\n      <td>...</td>\n      <td>...</td>\n      <td>...</td>\n      <td>...</td>\n      <td>...</td>\n      <td>...</td>\n      <td>...</td>\n      <td>...</td>\n    </tr>\n    <tr>\n      <th>777591</th>\n      <td>5150481</td>\n      <td>0</td>\n      <td>X</td>\n      <td>F</td>\n      <td>Y</td>\n      <td>Y</td>\n      <td>1</td>\n      <td>157500.0</td>\n      <td>Secondary / secondary special</td>\n      <td>Married</td>\n      <td>House / apartment</td>\n      <td>-10808</td>\n      <td>-1739</td>\n      <td>3.0</td>\n      <td>29.610959</td>\n      <td>True</td>\n    </tr>\n    <tr>\n      <th>777652</th>\n      <td>5150483</td>\n      <td>0</td>\n      <td>X</td>\n      <td>F</td>\n      <td>Y</td>\n      <td>Y</td>\n      <td>1</td>\n      <td>157500.0</td>\n      <td>Secondary / secondary special</td>\n      <td>Married</td>\n      <td>House / apartment</td>\n      <td>-10808</td>\n      <td>-1739</td>\n      <td>3.0</td>\n      <td>29.610959</td>\n      <td>True</td>\n    </tr>\n    <tr>\n      <th>777670</th>\n      <td>5150484</td>\n      <td>0</td>\n      <td>C</td>\n      <td>F</td>\n      <td>Y</td>\n      <td>Y</td>\n      <td>1</td>\n      <td>157500.0</td>\n      <td>Secondary / secondary special</td>\n      <td>Married</td>\n      <td>House / apartment</td>\n      <td>-10808</td>\n      <td>-1739</td>\n      <td>3.0</td>\n      <td>29.610959</td>\n      <td>True</td>\n    </tr>\n    <tr>\n      <th>777683</th>\n      <td>5150485</td>\n      <td>0</td>\n      <td>0</td>\n      <td>F</td>\n      <td>Y</td>\n      <td>Y</td>\n      <td>1</td>\n      <td>157500.0</td>\n      <td>Secondary / secondary special</td>\n      <td>Married</td>\n      <td>House / apartment</td>\n      <td>-10808</td>\n      <td>-1739</td>\n      <td>3.0</td>\n      <td>29.610959</td>\n      <td>True</td>\n    </tr>\n    <tr>\n      <th>777685</th>\n      <td>5150487</td>\n      <td>0</td>\n      <td>C</td>\n      <td>M</td>\n      <td>Y</td>\n      <td>N</td>\n      <td>0</td>\n      <td>202500.0</td>\n      <td>Secondary / secondary special</td>\n      <td>Married</td>\n      <td>House / apartment</td>\n      <td>-19398</td>\n      <td>-2166</td>\n      <td>2.0</td>\n      <td>53.145205</td>\n      <td>True</td>\n    </tr>\n  </tbody>\n</table>\n<p>24672 rows × 16 columns</p>\n</div>"
     },
     "metadata": {}
    }
   ],
   "execution_count": null
  },
  {
   "cell_type": "code",
   "metadata": {
    "datalore": {
     "type": "CODE",
     "hide_input_from_viewers": false,
     "hide_output_from_viewers": false
    },
    "cell_id": "00021-6aa4791e-a57f-4068-a8ee-b62232e3eb96",
    "deepnote_to_be_reexecuted": false,
    "source_hash": "8e0db788",
    "execution_start": 1647917697076,
    "execution_millis": 6,
    "deepnote_app_coordinates": {
     "x": 0,
     "y": 120,
     "w": 12,
     "h": 5
    },
    "deepnote_cell_type": "code",
    "deepnote_cell_height": 209.39999389648438
   },
   "source": "# Eliminamos las variables antiguas\ndata.drop(['DAYS_BIRTH', 'DAYS_EMPLOYED'], axis=1, inplace=True)",
   "outputs": [
    {
     "name": "stderr",
     "text": "<ipython-input-13-160f3f9f692b>:2: SettingWithCopyWarning: \nA value is trying to be set on a copy of a slice from a DataFrame\n\nSee the caveats in the documentation: https://pandas.pydata.org/pandas-docs/stable/user_guide/indexing.html#returning-a-view-versus-a-copy\n  data.drop(['DAYS_BIRTH', 'DAYS_EMPLOYED'], axis=1, inplace=True)\n",
     "output_type": "stream"
    }
   ],
   "execution_count": null
  },
  {
   "cell_type": "code",
   "metadata": {
    "datalore": {
     "type": "CODE",
     "hide_input_from_viewers": false,
     "hide_output_from_viewers": false
    },
    "cell_id": "00022-2aeea95f-2863-4238-b961-3dbda3a99da0",
    "deepnote_to_be_reexecuted": false,
    "source_hash": "3bdfd1bf",
    "execution_start": 1647917697077,
    "execution_millis": 41,
    "deepnote_app_coordinates": {
     "x": 0,
     "y": 126,
     "w": 12,
     "h": 5
    },
    "deepnote_cell_type": "code",
    "deepnote_cell_height": 377.3999938964844
   },
   "source": "# Checamos el tipo de dato de edad\nprint(data.Edad.dtypes)\n\n# Lo pasamos a entero\ndata['Edad'] = data['Edad'].astype(int)\n\n# Volvemos a checar el tipo de dato de edad\nprint(data.Edad.dtypes)",
   "outputs": [
    {
     "name": "stdout",
     "text": "float64\nint64\n<ipython-input-14-7a285713298a>:5: SettingWithCopyWarning: \nA value is trying to be set on a copy of a slice from a DataFrame.\nTry using .loc[row_indexer,col_indexer] = value instead\n\nSee the caveats in the documentation: https://pandas.pydata.org/pandas-docs/stable/user_guide/indexing.html#returning-a-view-versus-a-copy\n  data['Edad'] = data['Edad'].astype(int)\n",
     "output_type": "stream"
    }
   ],
   "execution_count": null
  },
  {
   "cell_type": "markdown",
   "source": "#### Variable Target",
   "metadata": {
    "cell_id": "f55a9251-f910-48c2-a6ba-4580ce3b8f94",
    "tags": [],
    "deepnote_app_coordinates": {
     "x": 0,
     "y": 132,
     "w": 12,
     "h": 5
    },
    "deepnote_cell_type": "markdown",
    "deepnote_cell_height": 53.600006103515625
   }
  },
  {
   "cell_type": "markdown",
   "source": "Como se comento al inicio, nuestro objetivo es clasificar a los clientes en buenos o malos para asi decidir si otorgar o no el crédito, con esto en mente vamos a ocupar algoritmos de clasificación y vamos a necesitar nuestra variable target (buen cliente o mal cliente)",
   "metadata": {
    "datalore": {
     "type": "MD",
     "hide_input_from_viewers": false,
     "hide_output_from_viewers": false
    },
    "cell_id": "00051-586093d8-6fb6-4011-9f52-a5579802847c",
    "deepnote_app_coordinates": {
     "x": 0,
     "y": 138,
     "w": 12,
     "h": 5
    },
    "deepnote_cell_type": "markdown",
    "deepnote_cell_height": 74.39999389648438
   }
  },
  {
   "cell_type": "markdown",
   "source": "Como tal, los datos no nos proporcionan este variable target, por lo que vamos a crearla con base a la columna STATUS de nuestro dataset, vamos a catalogar como buenos clientes (con el número 1) a las personas que tengan este status (C, X, 0) ya que son personas que no tienen un prestamo, lo han pagado por completo este mes o tienen un mes de vencido. El resto de status (1-5) seran catalogados como malos clientes (con número 0) ya que tienen algun atraso mayor a 30 dias en sus prestamos.",
   "metadata": {
    "datalore": {
     "type": "MD",
     "hide_input_from_viewers": false,
     "hide_output_from_viewers": false
    },
    "cell_id": "00052-e888e21b-e13d-4999-8c41-e25a93621b6c",
    "deepnote_app_coordinates": {
     "x": 0,
     "y": 144,
     "w": 12,
     "h": 5
    },
    "deepnote_cell_type": "markdown",
    "deepnote_cell_height": 119.19999694824219
   }
  },
  {
   "cell_type": "code",
   "metadata": {
    "datalore": {
     "type": "CODE",
     "hide_input_from_viewers": false,
     "hide_output_from_viewers": false
    },
    "cell_id": "00054-2868de17-e89b-42fc-9cc7-6e5507a30f70",
    "deepnote_to_be_reexecuted": false,
    "source_hash": "c9466d4e",
    "execution_start": 1647917697117,
    "execution_millis": 227,
    "deepnote_app_coordinates": {
     "x": 0,
     "y": 150,
     "w": 12,
     "h": 5
    },
    "deepnote_cell_type": "code",
    "deepnote_cell_height": 813.7999877929688
   },
   "source": "# Vamos a renombrar la variable STATUS como target y vamos a reorganizar su contenido\ntarget = lambda x: 1 if x in ('C', 'X', '0') else 0\ndata['Target'] = data.STATUS.apply(target)\ndata",
   "outputs": [
    {
     "name": "stderr",
     "text": "<ipython-input-15-9f1714e3feac>:3: SettingWithCopyWarning: \nA value is trying to be set on a copy of a slice from a DataFrame.\nTry using .loc[row_indexer,col_indexer] = value instead\n\nSee the caveats in the documentation: https://pandas.pydata.org/pandas-docs/stable/user_guide/indexing.html#returning-a-view-versus-a-copy\n  data['Target'] = data.STATUS.apply(target)\n",
     "output_type": "stream"
    },
    {
     "output_type": "execute_result",
     "execution_count": 15,
     "data": {
      "application/vnd.deepnote.dataframe.v3+json": {
       "column_count": 15,
       "row_count": 24672,
       "columns": [
        {
         "name": "ID",
         "dtype": "int64",
         "stats": {
          "unique_count": 24672,
          "nan_count": 0,
          "min": "5008804",
          "max": "5150487",
          "histogram": [
           {
            "bin_start": 5008804,
            "bin_end": 5022972.3,
            "count": 2151
           },
           {
            "bin_start": 5022972.3,
            "bin_end": 5037140.6,
            "count": 2944
           },
           {
            "bin_start": 5037140.6,
            "bin_end": 5051308.9,
            "count": 2499
           },
           {
            "bin_start": 5051308.9,
            "bin_end": 5065477.2,
            "count": 2864
           },
           {
            "bin_start": 5065477.2,
            "bin_end": 5079645.5,
            "count": 2252
           },
           {
            "bin_start": 5079645.5,
            "bin_end": 5093813.8,
            "count": 2350
           },
           {
            "bin_start": 5093813.8,
            "bin_end": 5107982.1,
            "count": 2193
           },
           {
            "bin_start": 5107982.1,
            "bin_end": 5122150.4,
            "count": 3050
           },
           {
            "bin_start": 5122150.4,
            "bin_end": 5136318.7,
            "count": 1385
           },
           {
            "bin_start": 5136318.7,
            "bin_end": 5150487,
            "count": 2984
           }
          ]
         }
        },
        {
         "name": "MONTHS_BALANCE",
         "dtype": "int64",
         "stats": {
          "unique_count": 1,
          "nan_count": 0,
          "min": "0",
          "max": "0",
          "histogram": [
           {
            "bin_start": -0.5,
            "bin_end": -0.4,
            "count": 0
           },
           {
            "bin_start": -0.4,
            "bin_end": -0.3,
            "count": 0
           },
           {
            "bin_start": -0.3,
            "bin_end": -0.19999999999999996,
            "count": 0
           },
           {
            "bin_start": -0.19999999999999996,
            "bin_end": -0.09999999999999998,
            "count": 0
           },
           {
            "bin_start": -0.09999999999999998,
            "bin_end": 0,
            "count": 0
           },
           {
            "bin_start": 0,
            "bin_end": 0.10000000000000009,
            "count": 24672
           },
           {
            "bin_start": 0.10000000000000009,
            "bin_end": 0.20000000000000007,
            "count": 0
           },
           {
            "bin_start": 0.20000000000000007,
            "bin_end": 0.30000000000000004,
            "count": 0
           },
           {
            "bin_start": 0.30000000000000004,
            "bin_end": 0.4,
            "count": 0
           },
           {
            "bin_start": 0.4,
            "bin_end": 0.5,
            "count": 0
           }
          ]
         }
        },
        {
         "name": "STATUS",
         "dtype": "object",
         "stats": {
          "unique_count": 8,
          "nan_count": 0,
          "categories": [
           {
            "name": "C",
            "count": 12974
           },
           {
            "name": "0",
            "count": 6886
           },
           {
            "name": "6 others",
            "count": 4812
           }
          ]
         }
        },
        {
         "name": "CODE_GENDER",
         "dtype": "object",
         "stats": {
          "unique_count": 2,
          "nan_count": 0,
          "categories": [
           {
            "name": "F",
            "count": 16406
           },
           {
            "name": "M",
            "count": 8266
           }
          ]
         }
        },
        {
         "name": "FLAG_OWN_CAR",
         "dtype": "object"
        },
        {
         "name": "FLAG_OWN_REALTY",
         "dtype": "object"
        },
        {
         "name": "CNT_CHILDREN",
         "dtype": "int64"
        },
        {
         "name": "AMT_INCOME_TOTAL",
         "dtype": "float64"
        },
        {
         "name": "NAME_EDUCATION_TYPE",
         "dtype": "object"
        },
        {
         "name": "NAME_FAMILY_STATUS",
         "dtype": "object"
        },
        {
         "name": "NAME_HOUSING_TYPE",
         "dtype": "object"
        },
        {
         "name": "CNT_FAM_MEMBERS",
         "dtype": "float64"
        },
        {
         "name": "Edad",
         "dtype": "int64"
        },
        {
         "name": "Empleo",
         "dtype": "bool"
        },
        {
         "name": "Target",
         "dtype": "int64"
        },
        {
         "name": "_deepnote_index_column",
         "dtype": "int64"
        }
       ],
       "rows": [
        {
         "ID": 5008804,
         "MONTHS_BALANCE": 0,
         "STATUS": "C",
         "CODE_GENDER": "M",
         "FLAG_OWN_CAR": "Y",
         "FLAG_OWN_REALTY": "Y",
         "CNT_CHILDREN": 0,
         "AMT_INCOME_TOTAL": 427500,
         "NAME_EDUCATION_TYPE": "Higher education",
         "NAME_FAMILY_STATUS": "Civil marriage",
         "NAME_HOUSING_TYPE": "Rented apartment",
         "CNT_FAM_MEMBERS": 2,
         "Edad": 32,
         "Empleo": true,
         "Target": 1,
         "_deepnote_index_column": 0
        },
        {
         "ID": 5008805,
         "MONTHS_BALANCE": 0,
         "STATUS": "C",
         "CODE_GENDER": "M",
         "FLAG_OWN_CAR": "Y",
         "FLAG_OWN_REALTY": "Y",
         "CNT_CHILDREN": 0,
         "AMT_INCOME_TOTAL": 427500,
         "NAME_EDUCATION_TYPE": "Higher education",
         "NAME_FAMILY_STATUS": "Civil marriage",
         "NAME_HOUSING_TYPE": "Rented apartment",
         "CNT_FAM_MEMBERS": 2,
         "Edad": 32,
         "Empleo": true,
         "Target": 1,
         "_deepnote_index_column": 16
        },
        {
         "ID": 5008806,
         "MONTHS_BALANCE": 0,
         "STATUS": "C",
         "CODE_GENDER": "M",
         "FLAG_OWN_CAR": "Y",
         "FLAG_OWN_REALTY": "Y",
         "CNT_CHILDREN": 0,
         "AMT_INCOME_TOTAL": 112500,
         "NAME_EDUCATION_TYPE": "Secondary / secondary special",
         "NAME_FAMILY_STATUS": "Married",
         "NAME_HOUSING_TYPE": "House / apartment",
         "CNT_FAM_MEMBERS": 2,
         "Edad": 58,
         "Empleo": true,
         "Target": 1,
         "_deepnote_index_column": 31
        },
        {
         "ID": 5008808,
         "MONTHS_BALANCE": 0,
         "STATUS": "0",
         "CODE_GENDER": "F",
         "FLAG_OWN_CAR": "N",
         "FLAG_OWN_REALTY": "Y",
         "CNT_CHILDREN": 0,
         "AMT_INCOME_TOTAL": 270000,
         "NAME_EDUCATION_TYPE": "Secondary / secondary special",
         "NAME_FAMILY_STATUS": "Single / not married",
         "NAME_HOUSING_TYPE": "House / apartment",
         "CNT_FAM_MEMBERS": 1,
         "Edad": 52,
         "Empleo": true,
         "Target": 1,
         "_deepnote_index_column": 61
        },
        {
         "ID": 5008810,
         "MONTHS_BALANCE": 0,
         "STATUS": "C",
         "CODE_GENDER": "F",
         "FLAG_OWN_CAR": "N",
         "FLAG_OWN_REALTY": "Y",
         "CNT_CHILDREN": 0,
         "AMT_INCOME_TOTAL": 270000,
         "NAME_EDUCATION_TYPE": "Secondary / secondary special",
         "NAME_FAMILY_STATUS": "Single / not married",
         "NAME_HOUSING_TYPE": "House / apartment",
         "CNT_FAM_MEMBERS": 1,
         "Edad": 52,
         "Empleo": true,
         "Target": 1,
         "_deepnote_index_column": 71
        },
        {
         "ID": 5008811,
         "MONTHS_BALANCE": 0,
         "STATUS": "C",
         "CODE_GENDER": "F",
         "FLAG_OWN_CAR": "N",
         "FLAG_OWN_REALTY": "Y",
         "CNT_CHILDREN": 0,
         "AMT_INCOME_TOTAL": 270000,
         "NAME_EDUCATION_TYPE": "Secondary / secondary special",
         "NAME_FAMILY_STATUS": "Single / not married",
         "NAME_HOUSING_TYPE": "House / apartment",
         "CNT_FAM_MEMBERS": 1,
         "Edad": 52,
         "Empleo": true,
         "Target": 1,
         "_deepnote_index_column": 98
        },
        {
         "ID": 5008813,
         "MONTHS_BALANCE": 0,
         "STATUS": "0",
         "CODE_GENDER": "F",
         "FLAG_OWN_CAR": "N",
         "FLAG_OWN_REALTY": "Y",
         "CNT_CHILDREN": 0,
         "AMT_INCOME_TOTAL": 283500,
         "NAME_EDUCATION_TYPE": "Higher education",
         "NAME_FAMILY_STATUS": "Separated",
         "NAME_HOUSING_TYPE": "House / apartment",
         "CNT_FAM_MEMBERS": 1,
         "Edad": 61,
         "Empleo": false,
         "Target": 1,
         "_deepnote_index_column": 154
        },
        {
         "ID": 5008815,
         "MONTHS_BALANCE": 0,
         "STATUS": "0",
         "CODE_GENDER": "M",
         "FLAG_OWN_CAR": "Y",
         "FLAG_OWN_REALTY": "Y",
         "CNT_CHILDREN": 0,
         "AMT_INCOME_TOTAL": 270000,
         "NAME_EDUCATION_TYPE": "Higher education",
         "NAME_FAMILY_STATUS": "Married",
         "NAME_HOUSING_TYPE": "House / apartment",
         "CNT_FAM_MEMBERS": 2,
         "Edad": 46,
         "Empleo": true,
         "Target": 1,
         "_deepnote_index_column": 188
        },
        {
         "ID": 5008821,
         "MONTHS_BALANCE": 0,
         "STATUS": "X",
         "CODE_GENDER": "M",
         "FLAG_OWN_CAR": "Y",
         "FLAG_OWN_REALTY": "Y",
         "CNT_CHILDREN": 0,
         "AMT_INCOME_TOTAL": 135000,
         "NAME_EDUCATION_TYPE": "Secondary / secondary special",
         "NAME_FAMILY_STATUS": "Married",
         "NAME_HOUSING_TYPE": "House / apartment",
         "CNT_FAM_MEMBERS": 2,
         "Edad": 48,
         "Empleo": true,
         "Target": 1,
         "_deepnote_index_column": 211
        },
        {
         "ID": 5008824,
         "MONTHS_BALANCE": 0,
         "STATUS": "0",
         "CODE_GENDER": "M",
         "FLAG_OWN_CAR": "Y",
         "FLAG_OWN_REALTY": "Y",
         "CNT_CHILDREN": 0,
         "AMT_INCOME_TOTAL": 135000,
         "NAME_EDUCATION_TYPE": "Secondary / secondary special",
         "NAME_FAMILY_STATUS": "Married",
         "NAME_HOUSING_TYPE": "House / apartment",
         "CNT_FAM_MEMBERS": 2,
         "Edad": 48,
         "Empleo": true,
         "Target": 1,
         "_deepnote_index_column": 234
        }
       ]
      },
      "text/plain": "             ID  MONTHS_BALANCE STATUS CODE_GENDER FLAG_OWN_CAR  \\\n0       5008804               0      C           M            Y   \n16      5008805               0      C           M            Y   \n31      5008806               0      C           M            Y   \n61      5008808               0      0           F            N   \n71      5008810               0      C           F            N   \n...         ...             ...    ...         ...          ...   \n777591  5150481               0      X           F            Y   \n777652  5150483               0      X           F            Y   \n777670  5150484               0      C           F            Y   \n777683  5150485               0      0           F            Y   \n777685  5150487               0      C           M            Y   \n\n       FLAG_OWN_REALTY  CNT_CHILDREN  AMT_INCOME_TOTAL  \\\n0                    Y             0          427500.0   \n16                   Y             0          427500.0   \n31                   Y             0          112500.0   \n61                   Y             0          270000.0   \n71                   Y             0          270000.0   \n...                ...           ...               ...   \n777591               Y             1          157500.0   \n777652               Y             1          157500.0   \n777670               Y             1          157500.0   \n777683               Y             1          157500.0   \n777685               N             0          202500.0   \n\n                  NAME_EDUCATION_TYPE    NAME_FAMILY_STATUS  \\\n0                    Higher education        Civil marriage   \n16                   Higher education        Civil marriage   \n31      Secondary / secondary special               Married   \n61      Secondary / secondary special  Single / not married   \n71      Secondary / secondary special  Single / not married   \n...                               ...                   ...   \n777591  Secondary / secondary special               Married   \n777652  Secondary / secondary special               Married   \n777670  Secondary / secondary special               Married   \n777683  Secondary / secondary special               Married   \n777685  Secondary / secondary special               Married   \n\n        NAME_HOUSING_TYPE  CNT_FAM_MEMBERS  Edad  Empleo  Target  \n0        Rented apartment              2.0    32    True       1  \n16       Rented apartment              2.0    32    True       1  \n31      House / apartment              2.0    58    True       1  \n61      House / apartment              1.0    52    True       1  \n71      House / apartment              1.0    52    True       1  \n...                   ...              ...   ...     ...     ...  \n777591  House / apartment              3.0    29    True       1  \n777652  House / apartment              3.0    29    True       1  \n777670  House / apartment              3.0    29    True       1  \n777683  House / apartment              3.0    29    True       1  \n777685  House / apartment              2.0    53    True       1  \n\n[24672 rows x 15 columns]",
      "text/html": "<div>\n<style scoped>\n    .dataframe tbody tr th:only-of-type {\n        vertical-align: middle;\n    }\n\n    .dataframe tbody tr th {\n        vertical-align: top;\n    }\n\n    .dataframe thead th {\n        text-align: right;\n    }\n</style>\n<table border=\"1\" class=\"dataframe\">\n  <thead>\n    <tr style=\"text-align: right;\">\n      <th></th>\n      <th>ID</th>\n      <th>MONTHS_BALANCE</th>\n      <th>STATUS</th>\n      <th>CODE_GENDER</th>\n      <th>FLAG_OWN_CAR</th>\n      <th>FLAG_OWN_REALTY</th>\n      <th>CNT_CHILDREN</th>\n      <th>AMT_INCOME_TOTAL</th>\n      <th>NAME_EDUCATION_TYPE</th>\n      <th>NAME_FAMILY_STATUS</th>\n      <th>NAME_HOUSING_TYPE</th>\n      <th>CNT_FAM_MEMBERS</th>\n      <th>Edad</th>\n      <th>Empleo</th>\n      <th>Target</th>\n    </tr>\n  </thead>\n  <tbody>\n    <tr>\n      <th>0</th>\n      <td>5008804</td>\n      <td>0</td>\n      <td>C</td>\n      <td>M</td>\n      <td>Y</td>\n      <td>Y</td>\n      <td>0</td>\n      <td>427500.0</td>\n      <td>Higher education</td>\n      <td>Civil marriage</td>\n      <td>Rented apartment</td>\n      <td>2.0</td>\n      <td>32</td>\n      <td>True</td>\n      <td>1</td>\n    </tr>\n    <tr>\n      <th>16</th>\n      <td>5008805</td>\n      <td>0</td>\n      <td>C</td>\n      <td>M</td>\n      <td>Y</td>\n      <td>Y</td>\n      <td>0</td>\n      <td>427500.0</td>\n      <td>Higher education</td>\n      <td>Civil marriage</td>\n      <td>Rented apartment</td>\n      <td>2.0</td>\n      <td>32</td>\n      <td>True</td>\n      <td>1</td>\n    </tr>\n    <tr>\n      <th>31</th>\n      <td>5008806</td>\n      <td>0</td>\n      <td>C</td>\n      <td>M</td>\n      <td>Y</td>\n      <td>Y</td>\n      <td>0</td>\n      <td>112500.0</td>\n      <td>Secondary / secondary special</td>\n      <td>Married</td>\n      <td>House / apartment</td>\n      <td>2.0</td>\n      <td>58</td>\n      <td>True</td>\n      <td>1</td>\n    </tr>\n    <tr>\n      <th>61</th>\n      <td>5008808</td>\n      <td>0</td>\n      <td>0</td>\n      <td>F</td>\n      <td>N</td>\n      <td>Y</td>\n      <td>0</td>\n      <td>270000.0</td>\n      <td>Secondary / secondary special</td>\n      <td>Single / not married</td>\n      <td>House / apartment</td>\n      <td>1.0</td>\n      <td>52</td>\n      <td>True</td>\n      <td>1</td>\n    </tr>\n    <tr>\n      <th>71</th>\n      <td>5008810</td>\n      <td>0</td>\n      <td>C</td>\n      <td>F</td>\n      <td>N</td>\n      <td>Y</td>\n      <td>0</td>\n      <td>270000.0</td>\n      <td>Secondary / secondary special</td>\n      <td>Single / not married</td>\n      <td>House / apartment</td>\n      <td>1.0</td>\n      <td>52</td>\n      <td>True</td>\n      <td>1</td>\n    </tr>\n    <tr>\n      <th>...</th>\n      <td>...</td>\n      <td>...</td>\n      <td>...</td>\n      <td>...</td>\n      <td>...</td>\n      <td>...</td>\n      <td>...</td>\n      <td>...</td>\n      <td>...</td>\n      <td>...</td>\n      <td>...</td>\n      <td>...</td>\n      <td>...</td>\n      <td>...</td>\n      <td>...</td>\n    </tr>\n    <tr>\n      <th>777591</th>\n      <td>5150481</td>\n      <td>0</td>\n      <td>X</td>\n      <td>F</td>\n      <td>Y</td>\n      <td>Y</td>\n      <td>1</td>\n      <td>157500.0</td>\n      <td>Secondary / secondary special</td>\n      <td>Married</td>\n      <td>House / apartment</td>\n      <td>3.0</td>\n      <td>29</td>\n      <td>True</td>\n      <td>1</td>\n    </tr>\n    <tr>\n      <th>777652</th>\n      <td>5150483</td>\n      <td>0</td>\n      <td>X</td>\n      <td>F</td>\n      <td>Y</td>\n      <td>Y</td>\n      <td>1</td>\n      <td>157500.0</td>\n      <td>Secondary / secondary special</td>\n      <td>Married</td>\n      <td>House / apartment</td>\n      <td>3.0</td>\n      <td>29</td>\n      <td>True</td>\n      <td>1</td>\n    </tr>\n    <tr>\n      <th>777670</th>\n      <td>5150484</td>\n      <td>0</td>\n      <td>C</td>\n      <td>F</td>\n      <td>Y</td>\n      <td>Y</td>\n      <td>1</td>\n      <td>157500.0</td>\n      <td>Secondary / secondary special</td>\n      <td>Married</td>\n      <td>House / apartment</td>\n      <td>3.0</td>\n      <td>29</td>\n      <td>True</td>\n      <td>1</td>\n    </tr>\n    <tr>\n      <th>777683</th>\n      <td>5150485</td>\n      <td>0</td>\n      <td>0</td>\n      <td>F</td>\n      <td>Y</td>\n      <td>Y</td>\n      <td>1</td>\n      <td>157500.0</td>\n      <td>Secondary / secondary special</td>\n      <td>Married</td>\n      <td>House / apartment</td>\n      <td>3.0</td>\n      <td>29</td>\n      <td>True</td>\n      <td>1</td>\n    </tr>\n    <tr>\n      <th>777685</th>\n      <td>5150487</td>\n      <td>0</td>\n      <td>C</td>\n      <td>M</td>\n      <td>Y</td>\n      <td>N</td>\n      <td>0</td>\n      <td>202500.0</td>\n      <td>Secondary / secondary special</td>\n      <td>Married</td>\n      <td>House / apartment</td>\n      <td>2.0</td>\n      <td>53</td>\n      <td>True</td>\n      <td>1</td>\n    </tr>\n  </tbody>\n</table>\n<p>24672 rows × 15 columns</p>\n</div>"
     },
     "metadata": {}
    }
   ],
   "execution_count": null
  },
  {
   "cell_type": "code",
   "metadata": {
    "datalore": {
     "type": "CODE",
     "hide_input_from_viewers": false,
     "hide_output_from_viewers": false
    },
    "cell_id": "00055-96a382bf-098e-41eb-8875-103103bcd32d",
    "deepnote_to_be_reexecuted": false,
    "source_hash": "be059294",
    "execution_start": 1647917697396,
    "execution_millis": 1,
    "deepnote_app_coordinates": {
     "x": 0,
     "y": 156,
     "w": 12,
     "h": 5
    },
    "deepnote_cell_type": "code",
    "deepnote_cell_height": 174.39999389648438,
    "deepnote_output_heights": [
     60
    ]
   },
   "source": "# Vemos como esta la proporción de los buenos con los malos\ndata.Target.value_counts()",
   "outputs": [
    {
     "output_type": "execute_result",
     "execution_count": 16,
     "data": {
      "text/plain": "1    24347\n0      325\nName: Target, dtype: int64"
     },
     "metadata": {}
    }
   ],
   "execution_count": null
  },
  {
   "cell_type": "markdown",
   "source": "Como podemos ver, la proporción entre buenos y malos clientes es bastante grande. Habra que tenerlo muy en cuenta a la hora de hacer nuestro modelo de machine learning.",
   "metadata": {
    "cell_id": "ade05c7f-8fb5-430d-85fb-236e80dcd774",
    "tags": [],
    "deepnote_app_coordinates": {
     "x": 0,
     "y": 162,
     "w": 12,
     "h": 5
    },
    "deepnote_cell_type": "markdown",
    "deepnote_cell_height": 74.39999389648438
   }
  },
  {
   "cell_type": "markdown",
   "source": "Como último paso,vamos a eliminar las variables MONTHS_BALANCE, STATUS, CODE_GENDER, NAME_FAMILY_STATUS, NAME_HOUSING_TYPE y NAME_EDUCATION_TYPE ya que no seran consideradas para la predicción. Junto a esto, tambien pasaremos el ID a que sea el indice y convertiremos las variables booleanas (FLAG_OWN_CAR, FLAG_OWN_REALTY, Empleo) a su contra parte en número.",
   "metadata": {
    "datalore": {
     "type": "MD",
     "hide_input_from_viewers": false,
     "hide_output_from_viewers": false
    },
    "cell_id": "00067-5eb93bd0-18b2-4ee8-9f37-673c8cf95426",
    "deepnote_app_coordinates": {
     "x": 0,
     "y": 168,
     "w": 12,
     "h": 5
    },
    "deepnote_cell_type": "markdown",
    "deepnote_cell_height": 119.19999694824219
   }
  },
  {
   "cell_type": "code",
   "metadata": {
    "datalore": {
     "type": "CODE",
     "hide_input_from_viewers": false,
     "hide_output_from_viewers": false
    },
    "cell_id": "00068-bdd6aa60-eef1-425a-ace9-c697a3082692",
    "deepnote_to_be_reexecuted": false,
    "source_hash": "b77a55fc",
    "execution_start": 1647917697397,
    "execution_millis": 195,
    "deepnote_app_coordinates": {
     "x": 0,
     "y": 174,
     "w": 12,
     "h": 5
    },
    "deepnote_cell_type": "code",
    "deepnote_cell_height": 650
   },
   "source": "# Eliminamos las columnas no necesarias\ndata_procesada = data.drop(['MONTHS_BALANCE', 'STATUS', 'CODE_GENDER', 'NAME_FAMILY_STATUS', 'NAME_EDUCATION_TYPE', 'NAME_HOUSING_TYPE'], axis=1)\ndata_procesada",
   "outputs": [
    {
     "output_type": "execute_result",
     "execution_count": 17,
     "data": {
      "application/vnd.deepnote.dataframe.v3+json": {
       "column_count": 9,
       "row_count": 24672,
       "columns": [
        {
         "name": "ID",
         "dtype": "int64",
         "stats": {
          "unique_count": 24672,
          "nan_count": 0,
          "min": "5008804",
          "max": "5150487",
          "histogram": [
           {
            "bin_start": 5008804,
            "bin_end": 5022972.3,
            "count": 2151
           },
           {
            "bin_start": 5022972.3,
            "bin_end": 5037140.6,
            "count": 2944
           },
           {
            "bin_start": 5037140.6,
            "bin_end": 5051308.9,
            "count": 2499
           },
           {
            "bin_start": 5051308.9,
            "bin_end": 5065477.2,
            "count": 2864
           },
           {
            "bin_start": 5065477.2,
            "bin_end": 5079645.5,
            "count": 2252
           },
           {
            "bin_start": 5079645.5,
            "bin_end": 5093813.8,
            "count": 2350
           },
           {
            "bin_start": 5093813.8,
            "bin_end": 5107982.1,
            "count": 2193
           },
           {
            "bin_start": 5107982.1,
            "bin_end": 5122150.4,
            "count": 3050
           },
           {
            "bin_start": 5122150.4,
            "bin_end": 5136318.7,
            "count": 1385
           },
           {
            "bin_start": 5136318.7,
            "bin_end": 5150487,
            "count": 2984
           }
          ]
         }
        },
        {
         "name": "FLAG_OWN_CAR",
         "dtype": "object",
         "stats": {
          "unique_count": 2,
          "nan_count": 0,
          "categories": [
           {
            "name": "N",
            "count": 15301
           },
           {
            "name": "Y",
            "count": 9371
           }
          ]
         }
        },
        {
         "name": "FLAG_OWN_REALTY",
         "dtype": "object",
         "stats": {
          "unique_count": 2,
          "nan_count": 0,
          "categories": [
           {
            "name": "Y",
            "count": 16293
           },
           {
            "name": "N",
            "count": 8379
           }
          ]
         }
        },
        {
         "name": "CNT_CHILDREN",
         "dtype": "int64",
         "stats": {
          "unique_count": 8,
          "nan_count": 0,
          "min": "0",
          "max": "19",
          "histogram": [
           {
            "bin_start": 0,
            "bin_end": 1.9,
            "count": 22175
           },
           {
            "bin_start": 1.9,
            "bin_end": 3.8,
            "count": 2445
           },
           {
            "bin_start": 3.8,
            "bin_end": 5.699999999999999,
            "count": 48
           },
           {
            "bin_start": 5.699999999999999,
            "bin_end": 7.6,
            "count": 0
           },
           {
            "bin_start": 7.6,
            "bin_end": 9.5,
            "count": 0
           },
           {
            "bin_start": 9.5,
            "bin_end": 11.399999999999999,
            "count": 0
           },
           {
            "bin_start": 11.399999999999999,
            "bin_end": 13.299999999999999,
            "count": 0
           },
           {
            "bin_start": 13.299999999999999,
            "bin_end": 15.2,
            "count": 3
           },
           {
            "bin_start": 15.2,
            "bin_end": 17.099999999999998,
            "count": 0
           },
           {
            "bin_start": 17.099999999999998,
            "bin_end": 19,
            "count": 1
           }
          ]
         }
        },
        {
         "name": "AMT_INCOME_TOTAL",
         "dtype": "float64"
        },
        {
         "name": "CNT_FAM_MEMBERS",
         "dtype": "float64"
        },
        {
         "name": "Edad",
         "dtype": "int64"
        },
        {
         "name": "Empleo",
         "dtype": "bool"
        },
        {
         "name": "Target",
         "dtype": "int64"
        },
        {
         "name": "_deepnote_index_column",
         "dtype": "int64"
        }
       ],
       "rows": [
        {
         "ID": 5008804,
         "FLAG_OWN_CAR": "Y",
         "FLAG_OWN_REALTY": "Y",
         "CNT_CHILDREN": 0,
         "AMT_INCOME_TOTAL": 427500,
         "CNT_FAM_MEMBERS": 2,
         "Edad": 32,
         "Empleo": true,
         "Target": 1,
         "_deepnote_index_column": 0
        },
        {
         "ID": 5008805,
         "FLAG_OWN_CAR": "Y",
         "FLAG_OWN_REALTY": "Y",
         "CNT_CHILDREN": 0,
         "AMT_INCOME_TOTAL": 427500,
         "CNT_FAM_MEMBERS": 2,
         "Edad": 32,
         "Empleo": true,
         "Target": 1,
         "_deepnote_index_column": 16
        },
        {
         "ID": 5008806,
         "FLAG_OWN_CAR": "Y",
         "FLAG_OWN_REALTY": "Y",
         "CNT_CHILDREN": 0,
         "AMT_INCOME_TOTAL": 112500,
         "CNT_FAM_MEMBERS": 2,
         "Edad": 58,
         "Empleo": true,
         "Target": 1,
         "_deepnote_index_column": 31
        },
        {
         "ID": 5008808,
         "FLAG_OWN_CAR": "N",
         "FLAG_OWN_REALTY": "Y",
         "CNT_CHILDREN": 0,
         "AMT_INCOME_TOTAL": 270000,
         "CNT_FAM_MEMBERS": 1,
         "Edad": 52,
         "Empleo": true,
         "Target": 1,
         "_deepnote_index_column": 61
        },
        {
         "ID": 5008810,
         "FLAG_OWN_CAR": "N",
         "FLAG_OWN_REALTY": "Y",
         "CNT_CHILDREN": 0,
         "AMT_INCOME_TOTAL": 270000,
         "CNT_FAM_MEMBERS": 1,
         "Edad": 52,
         "Empleo": true,
         "Target": 1,
         "_deepnote_index_column": 71
        },
        {
         "ID": 5008811,
         "FLAG_OWN_CAR": "N",
         "FLAG_OWN_REALTY": "Y",
         "CNT_CHILDREN": 0,
         "AMT_INCOME_TOTAL": 270000,
         "CNT_FAM_MEMBERS": 1,
         "Edad": 52,
         "Empleo": true,
         "Target": 1,
         "_deepnote_index_column": 98
        },
        {
         "ID": 5008813,
         "FLAG_OWN_CAR": "N",
         "FLAG_OWN_REALTY": "Y",
         "CNT_CHILDREN": 0,
         "AMT_INCOME_TOTAL": 283500,
         "CNT_FAM_MEMBERS": 1,
         "Edad": 61,
         "Empleo": false,
         "Target": 1,
         "_deepnote_index_column": 154
        },
        {
         "ID": 5008815,
         "FLAG_OWN_CAR": "Y",
         "FLAG_OWN_REALTY": "Y",
         "CNT_CHILDREN": 0,
         "AMT_INCOME_TOTAL": 270000,
         "CNT_FAM_MEMBERS": 2,
         "Edad": 46,
         "Empleo": true,
         "Target": 1,
         "_deepnote_index_column": 188
        },
        {
         "ID": 5008821,
         "FLAG_OWN_CAR": "Y",
         "FLAG_OWN_REALTY": "Y",
         "CNT_CHILDREN": 0,
         "AMT_INCOME_TOTAL": 135000,
         "CNT_FAM_MEMBERS": 2,
         "Edad": 48,
         "Empleo": true,
         "Target": 1,
         "_deepnote_index_column": 211
        },
        {
         "ID": 5008824,
         "FLAG_OWN_CAR": "Y",
         "FLAG_OWN_REALTY": "Y",
         "CNT_CHILDREN": 0,
         "AMT_INCOME_TOTAL": 135000,
         "CNT_FAM_MEMBERS": 2,
         "Edad": 48,
         "Empleo": true,
         "Target": 1,
         "_deepnote_index_column": 234
        }
       ]
      },
      "text/plain": "             ID FLAG_OWN_CAR FLAG_OWN_REALTY  CNT_CHILDREN  AMT_INCOME_TOTAL  \\\n0       5008804            Y               Y             0          427500.0   \n16      5008805            Y               Y             0          427500.0   \n31      5008806            Y               Y             0          112500.0   \n61      5008808            N               Y             0          270000.0   \n71      5008810            N               Y             0          270000.0   \n...         ...          ...             ...           ...               ...   \n777591  5150481            Y               Y             1          157500.0   \n777652  5150483            Y               Y             1          157500.0   \n777670  5150484            Y               Y             1          157500.0   \n777683  5150485            Y               Y             1          157500.0   \n777685  5150487            Y               N             0          202500.0   \n\n        CNT_FAM_MEMBERS  Edad  Empleo  Target  \n0                   2.0    32    True       1  \n16                  2.0    32    True       1  \n31                  2.0    58    True       1  \n61                  1.0    52    True       1  \n71                  1.0    52    True       1  \n...                 ...   ...     ...     ...  \n777591              3.0    29    True       1  \n777652              3.0    29    True       1  \n777670              3.0    29    True       1  \n777683              3.0    29    True       1  \n777685              2.0    53    True       1  \n\n[24672 rows x 9 columns]",
      "text/html": "<div>\n<style scoped>\n    .dataframe tbody tr th:only-of-type {\n        vertical-align: middle;\n    }\n\n    .dataframe tbody tr th {\n        vertical-align: top;\n    }\n\n    .dataframe thead th {\n        text-align: right;\n    }\n</style>\n<table border=\"1\" class=\"dataframe\">\n  <thead>\n    <tr style=\"text-align: right;\">\n      <th></th>\n      <th>ID</th>\n      <th>FLAG_OWN_CAR</th>\n      <th>FLAG_OWN_REALTY</th>\n      <th>CNT_CHILDREN</th>\n      <th>AMT_INCOME_TOTAL</th>\n      <th>CNT_FAM_MEMBERS</th>\n      <th>Edad</th>\n      <th>Empleo</th>\n      <th>Target</th>\n    </tr>\n  </thead>\n  <tbody>\n    <tr>\n      <th>0</th>\n      <td>5008804</td>\n      <td>Y</td>\n      <td>Y</td>\n      <td>0</td>\n      <td>427500.0</td>\n      <td>2.0</td>\n      <td>32</td>\n      <td>True</td>\n      <td>1</td>\n    </tr>\n    <tr>\n      <th>16</th>\n      <td>5008805</td>\n      <td>Y</td>\n      <td>Y</td>\n      <td>0</td>\n      <td>427500.0</td>\n      <td>2.0</td>\n      <td>32</td>\n      <td>True</td>\n      <td>1</td>\n    </tr>\n    <tr>\n      <th>31</th>\n      <td>5008806</td>\n      <td>Y</td>\n      <td>Y</td>\n      <td>0</td>\n      <td>112500.0</td>\n      <td>2.0</td>\n      <td>58</td>\n      <td>True</td>\n      <td>1</td>\n    </tr>\n    <tr>\n      <th>61</th>\n      <td>5008808</td>\n      <td>N</td>\n      <td>Y</td>\n      <td>0</td>\n      <td>270000.0</td>\n      <td>1.0</td>\n      <td>52</td>\n      <td>True</td>\n      <td>1</td>\n    </tr>\n    <tr>\n      <th>71</th>\n      <td>5008810</td>\n      <td>N</td>\n      <td>Y</td>\n      <td>0</td>\n      <td>270000.0</td>\n      <td>1.0</td>\n      <td>52</td>\n      <td>True</td>\n      <td>1</td>\n    </tr>\n    <tr>\n      <th>...</th>\n      <td>...</td>\n      <td>...</td>\n      <td>...</td>\n      <td>...</td>\n      <td>...</td>\n      <td>...</td>\n      <td>...</td>\n      <td>...</td>\n      <td>...</td>\n    </tr>\n    <tr>\n      <th>777591</th>\n      <td>5150481</td>\n      <td>Y</td>\n      <td>Y</td>\n      <td>1</td>\n      <td>157500.0</td>\n      <td>3.0</td>\n      <td>29</td>\n      <td>True</td>\n      <td>1</td>\n    </tr>\n    <tr>\n      <th>777652</th>\n      <td>5150483</td>\n      <td>Y</td>\n      <td>Y</td>\n      <td>1</td>\n      <td>157500.0</td>\n      <td>3.0</td>\n      <td>29</td>\n      <td>True</td>\n      <td>1</td>\n    </tr>\n    <tr>\n      <th>777670</th>\n      <td>5150484</td>\n      <td>Y</td>\n      <td>Y</td>\n      <td>1</td>\n      <td>157500.0</td>\n      <td>3.0</td>\n      <td>29</td>\n      <td>True</td>\n      <td>1</td>\n    </tr>\n    <tr>\n      <th>777683</th>\n      <td>5150485</td>\n      <td>Y</td>\n      <td>Y</td>\n      <td>1</td>\n      <td>157500.0</td>\n      <td>3.0</td>\n      <td>29</td>\n      <td>True</td>\n      <td>1</td>\n    </tr>\n    <tr>\n      <th>777685</th>\n      <td>5150487</td>\n      <td>Y</td>\n      <td>N</td>\n      <td>0</td>\n      <td>202500.0</td>\n      <td>2.0</td>\n      <td>53</td>\n      <td>True</td>\n      <td>1</td>\n    </tr>\n  </tbody>\n</table>\n<p>24672 rows × 9 columns</p>\n</div>"
     },
     "metadata": {}
    }
   ],
   "execution_count": null
  },
  {
   "cell_type": "code",
   "metadata": {
    "datalore": {
     "type": "CODE",
     "hide_input_from_viewers": false,
     "hide_output_from_viewers": false
    },
    "cell_id": "00069-d7e45ded-6351-4cf9-ae3a-ade17497986e",
    "deepnote_to_be_reexecuted": false,
    "source_hash": "ce914d1",
    "execution_start": 1647917697595,
    "execution_millis": 35729044,
    "deepnote_app_coordinates": {
     "x": 0,
     "y": 180,
     "w": 12,
     "h": 5
    },
    "deepnote_cell_type": "code",
    "deepnote_cell_height": 98.60000610351562
   },
   "source": "# Ponemos el ID como index\ndata_procesada.set_index('ID', inplace=True)",
   "outputs": [],
   "execution_count": null
  },
  {
   "cell_type": "code",
   "metadata": {
    "datalore": {
     "type": "CODE",
     "hide_input_from_viewers": false,
     "hide_output_from_viewers": false
    },
    "cell_id": "00065-4ba490f6-993a-487b-b227-8e0a73181760",
    "deepnote_to_be_reexecuted": false,
    "source_hash": "9106210d",
    "execution_start": 1647917697640,
    "execution_millis": 1,
    "deepnote_app_coordinates": {
     "x": 0,
     "y": 186,
     "w": 12,
     "h": 5
    },
    "deepnote_cell_type": "code",
    "deepnote_cell_height": 134.60000610351562
   },
   "source": "# Hacemos el cambio de variables booleanas a número\ndata_procesada.FLAG_OWN_CAR = data_procesada.FLAG_OWN_CAR.replace({\"Y\": 1, \"N\": 0})\ndata_procesada.FLAG_OWN_REALTY = data_procesada.FLAG_OWN_REALTY.replace({\"Y\": 1, \"N\": 0})\ndata_procesada.Empleo = data_procesada.Empleo.replace({True: 1, False: 0})",
   "outputs": [],
   "execution_count": null
  },
  {
   "cell_type": "markdown",
   "source": "Una vez hecho estos ajustes, nuestros datos estan listos para ser ocupados en nuestros siguientes pasos.",
   "metadata": {
    "datalore": {
     "type": "MD",
     "hide_input_from_viewers": false,
     "hide_output_from_viewers": false
    },
    "cell_id": "00070-2fbdf12b-0247-462d-a592-397d03afdb51",
    "deepnote_app_coordinates": {
     "x": 0,
     "y": 192,
     "w": 12,
     "h": 5
    },
    "deepnote_cell_type": "markdown",
    "deepnote_cell_height": 52
   }
  },
  {
   "cell_type": "code",
   "metadata": {
    "cell_id": "45d75e85-b4eb-42d3-8b22-369291f7967a",
    "tags": [],
    "deepnote_to_be_reexecuted": false,
    "source_hash": "69edd7d7",
    "execution_start": 1647917697684,
    "execution_millis": 29,
    "deepnote_app_coordinates": {
     "x": 0,
     "y": 198,
     "w": 12,
     "h": 5
    },
    "deepnote_cell_type": "code",
    "deepnote_cell_height": 614
   },
   "source": "data_procesada",
   "outputs": [
    {
     "output_type": "execute_result",
     "execution_count": 20,
     "data": {
      "application/vnd.deepnote.dataframe.v3+json": {
       "column_count": 8,
       "row_count": 24672,
       "columns": [
        {
         "name": "FLAG_OWN_CAR",
         "dtype": "int64",
         "stats": {
          "unique_count": 2,
          "nan_count": 0,
          "min": "0",
          "max": "1",
          "histogram": [
           {
            "bin_start": 0,
            "bin_end": 0.1,
            "count": 15301
           },
           {
            "bin_start": 0.1,
            "bin_end": 0.2,
            "count": 0
           },
           {
            "bin_start": 0.2,
            "bin_end": 0.30000000000000004,
            "count": 0
           },
           {
            "bin_start": 0.30000000000000004,
            "bin_end": 0.4,
            "count": 0
           },
           {
            "bin_start": 0.4,
            "bin_end": 0.5,
            "count": 0
           },
           {
            "bin_start": 0.5,
            "bin_end": 0.6000000000000001,
            "count": 0
           },
           {
            "bin_start": 0.6000000000000001,
            "bin_end": 0.7000000000000001,
            "count": 0
           },
           {
            "bin_start": 0.7000000000000001,
            "bin_end": 0.8,
            "count": 0
           },
           {
            "bin_start": 0.8,
            "bin_end": 0.9,
            "count": 0
           },
           {
            "bin_start": 0.9,
            "bin_end": 1,
            "count": 9371
           }
          ]
         }
        },
        {
         "name": "FLAG_OWN_REALTY",
         "dtype": "int64",
         "stats": {
          "unique_count": 2,
          "nan_count": 0,
          "min": "0",
          "max": "1",
          "histogram": [
           {
            "bin_start": 0,
            "bin_end": 0.1,
            "count": 8379
           },
           {
            "bin_start": 0.1,
            "bin_end": 0.2,
            "count": 0
           },
           {
            "bin_start": 0.2,
            "bin_end": 0.30000000000000004,
            "count": 0
           },
           {
            "bin_start": 0.30000000000000004,
            "bin_end": 0.4,
            "count": 0
           },
           {
            "bin_start": 0.4,
            "bin_end": 0.5,
            "count": 0
           },
           {
            "bin_start": 0.5,
            "bin_end": 0.6000000000000001,
            "count": 0
           },
           {
            "bin_start": 0.6000000000000001,
            "bin_end": 0.7000000000000001,
            "count": 0
           },
           {
            "bin_start": 0.7000000000000001,
            "bin_end": 0.8,
            "count": 0
           },
           {
            "bin_start": 0.8,
            "bin_end": 0.9,
            "count": 0
           },
           {
            "bin_start": 0.9,
            "bin_end": 1,
            "count": 16293
           }
          ]
         }
        },
        {
         "name": "CNT_CHILDREN",
         "dtype": "int64",
         "stats": {
          "unique_count": 8,
          "nan_count": 0,
          "min": "0",
          "max": "19",
          "histogram": [
           {
            "bin_start": 0,
            "bin_end": 1.9,
            "count": 22175
           },
           {
            "bin_start": 1.9,
            "bin_end": 3.8,
            "count": 2445
           },
           {
            "bin_start": 3.8,
            "bin_end": 5.699999999999999,
            "count": 48
           },
           {
            "bin_start": 5.699999999999999,
            "bin_end": 7.6,
            "count": 0
           },
           {
            "bin_start": 7.6,
            "bin_end": 9.5,
            "count": 0
           },
           {
            "bin_start": 9.5,
            "bin_end": 11.399999999999999,
            "count": 0
           },
           {
            "bin_start": 11.399999999999999,
            "bin_end": 13.299999999999999,
            "count": 0
           },
           {
            "bin_start": 13.299999999999999,
            "bin_end": 15.2,
            "count": 3
           },
           {
            "bin_start": 15.2,
            "bin_end": 17.099999999999998,
            "count": 0
           },
           {
            "bin_start": 17.099999999999998,
            "bin_end": 19,
            "count": 1
           }
          ]
         }
        },
        {
         "name": "AMT_INCOME_TOTAL",
         "dtype": "float64",
         "stats": {
          "unique_count": 255,
          "nan_count": 0,
          "min": "27000.0",
          "max": "1575000.0",
          "histogram": [
           {
            "bin_start": 27000,
            "bin_end": 181800,
            "count": 15171
           },
           {
            "bin_start": 181800,
            "bin_end": 336600,
            "count": 7708
           },
           {
            "bin_start": 336600,
            "bin_end": 491400,
            "count": 1439
           },
           {
            "bin_start": 491400,
            "bin_end": 646200,
            "count": 182
           },
           {
            "bin_start": 646200,
            "bin_end": 801000,
            "count": 118
           },
           {
            "bin_start": 801000,
            "bin_end": 955800,
            "count": 40
           },
           {
            "bin_start": 955800,
            "bin_end": 1110600,
            "count": 3
           },
           {
            "bin_start": 1110600,
            "bin_end": 1265400,
            "count": 3
           },
           {
            "bin_start": 1265400,
            "bin_end": 1420200,
            "count": 3
           },
           {
            "bin_start": 1420200,
            "bin_end": 1575000,
            "count": 5
           }
          ]
         }
        },
        {
         "name": "CNT_FAM_MEMBERS",
         "dtype": "float64"
        },
        {
         "name": "Edad",
         "dtype": "int64"
        },
        {
         "name": "Empleo",
         "dtype": "int64"
        },
        {
         "name": "Target",
         "dtype": "int64"
        },
        {
         "name": "_deepnote_index_column",
         "dtype": "int64"
        }
       ],
       "rows": [
        {
         "FLAG_OWN_CAR": 1,
         "FLAG_OWN_REALTY": 1,
         "CNT_CHILDREN": 0,
         "AMT_INCOME_TOTAL": 427500,
         "CNT_FAM_MEMBERS": 2,
         "Edad": 32,
         "Empleo": 1,
         "Target": 1,
         "_deepnote_index_column": 5008804
        },
        {
         "FLAG_OWN_CAR": 1,
         "FLAG_OWN_REALTY": 1,
         "CNT_CHILDREN": 0,
         "AMT_INCOME_TOTAL": 427500,
         "CNT_FAM_MEMBERS": 2,
         "Edad": 32,
         "Empleo": 1,
         "Target": 1,
         "_deepnote_index_column": 5008805
        },
        {
         "FLAG_OWN_CAR": 1,
         "FLAG_OWN_REALTY": 1,
         "CNT_CHILDREN": 0,
         "AMT_INCOME_TOTAL": 112500,
         "CNT_FAM_MEMBERS": 2,
         "Edad": 58,
         "Empleo": 1,
         "Target": 1,
         "_deepnote_index_column": 5008806
        },
        {
         "FLAG_OWN_CAR": 0,
         "FLAG_OWN_REALTY": 1,
         "CNT_CHILDREN": 0,
         "AMT_INCOME_TOTAL": 270000,
         "CNT_FAM_MEMBERS": 1,
         "Edad": 52,
         "Empleo": 1,
         "Target": 1,
         "_deepnote_index_column": 5008808
        },
        {
         "FLAG_OWN_CAR": 0,
         "FLAG_OWN_REALTY": 1,
         "CNT_CHILDREN": 0,
         "AMT_INCOME_TOTAL": 270000,
         "CNT_FAM_MEMBERS": 1,
         "Edad": 52,
         "Empleo": 1,
         "Target": 1,
         "_deepnote_index_column": 5008810
        },
        {
         "FLAG_OWN_CAR": 0,
         "FLAG_OWN_REALTY": 1,
         "CNT_CHILDREN": 0,
         "AMT_INCOME_TOTAL": 270000,
         "CNT_FAM_MEMBERS": 1,
         "Edad": 52,
         "Empleo": 1,
         "Target": 1,
         "_deepnote_index_column": 5008811
        },
        {
         "FLAG_OWN_CAR": 0,
         "FLAG_OWN_REALTY": 1,
         "CNT_CHILDREN": 0,
         "AMT_INCOME_TOTAL": 283500,
         "CNT_FAM_MEMBERS": 1,
         "Edad": 61,
         "Empleo": 0,
         "Target": 1,
         "_deepnote_index_column": 5008813
        },
        {
         "FLAG_OWN_CAR": 1,
         "FLAG_OWN_REALTY": 1,
         "CNT_CHILDREN": 0,
         "AMT_INCOME_TOTAL": 270000,
         "CNT_FAM_MEMBERS": 2,
         "Edad": 46,
         "Empleo": 1,
         "Target": 1,
         "_deepnote_index_column": 5008815
        },
        {
         "FLAG_OWN_CAR": 1,
         "FLAG_OWN_REALTY": 1,
         "CNT_CHILDREN": 0,
         "AMT_INCOME_TOTAL": 135000,
         "CNT_FAM_MEMBERS": 2,
         "Edad": 48,
         "Empleo": 1,
         "Target": 1,
         "_deepnote_index_column": 5008821
        },
        {
         "FLAG_OWN_CAR": 1,
         "FLAG_OWN_REALTY": 1,
         "CNT_CHILDREN": 0,
         "AMT_INCOME_TOTAL": 135000,
         "CNT_FAM_MEMBERS": 2,
         "Edad": 48,
         "Empleo": 1,
         "Target": 1,
         "_deepnote_index_column": 5008824
        }
       ]
      },
      "text/plain": "         FLAG_OWN_CAR  FLAG_OWN_REALTY  CNT_CHILDREN  AMT_INCOME_TOTAL  \\\nID                                                                       \n5008804             1                1             0          427500.0   \n5008805             1                1             0          427500.0   \n5008806             1                1             0          112500.0   \n5008808             0                1             0          270000.0   \n5008810             0                1             0          270000.0   \n...               ...              ...           ...               ...   \n5150481             1                1             1          157500.0   \n5150483             1                1             1          157500.0   \n5150484             1                1             1          157500.0   \n5150485             1                1             1          157500.0   \n5150487             1                0             0          202500.0   \n\n         CNT_FAM_MEMBERS  Edad  Empleo  Target  \nID                                              \n5008804              2.0    32       1       1  \n5008805              2.0    32       1       1  \n5008806              2.0    58       1       1  \n5008808              1.0    52       1       1  \n5008810              1.0    52       1       1  \n...                  ...   ...     ...     ...  \n5150481              3.0    29       1       1  \n5150483              3.0    29       1       1  \n5150484              3.0    29       1       1  \n5150485              3.0    29       1       1  \n5150487              2.0    53       1       1  \n\n[24672 rows x 8 columns]",
      "text/html": "<div>\n<style scoped>\n    .dataframe tbody tr th:only-of-type {\n        vertical-align: middle;\n    }\n\n    .dataframe tbody tr th {\n        vertical-align: top;\n    }\n\n    .dataframe thead th {\n        text-align: right;\n    }\n</style>\n<table border=\"1\" class=\"dataframe\">\n  <thead>\n    <tr style=\"text-align: right;\">\n      <th></th>\n      <th>FLAG_OWN_CAR</th>\n      <th>FLAG_OWN_REALTY</th>\n      <th>CNT_CHILDREN</th>\n      <th>AMT_INCOME_TOTAL</th>\n      <th>CNT_FAM_MEMBERS</th>\n      <th>Edad</th>\n      <th>Empleo</th>\n      <th>Target</th>\n    </tr>\n    <tr>\n      <th>ID</th>\n      <th></th>\n      <th></th>\n      <th></th>\n      <th></th>\n      <th></th>\n      <th></th>\n      <th></th>\n      <th></th>\n    </tr>\n  </thead>\n  <tbody>\n    <tr>\n      <th>5008804</th>\n      <td>1</td>\n      <td>1</td>\n      <td>0</td>\n      <td>427500.0</td>\n      <td>2.0</td>\n      <td>32</td>\n      <td>1</td>\n      <td>1</td>\n    </tr>\n    <tr>\n      <th>5008805</th>\n      <td>1</td>\n      <td>1</td>\n      <td>0</td>\n      <td>427500.0</td>\n      <td>2.0</td>\n      <td>32</td>\n      <td>1</td>\n      <td>1</td>\n    </tr>\n    <tr>\n      <th>5008806</th>\n      <td>1</td>\n      <td>1</td>\n      <td>0</td>\n      <td>112500.0</td>\n      <td>2.0</td>\n      <td>58</td>\n      <td>1</td>\n      <td>1</td>\n    </tr>\n    <tr>\n      <th>5008808</th>\n      <td>0</td>\n      <td>1</td>\n      <td>0</td>\n      <td>270000.0</td>\n      <td>1.0</td>\n      <td>52</td>\n      <td>1</td>\n      <td>1</td>\n    </tr>\n    <tr>\n      <th>5008810</th>\n      <td>0</td>\n      <td>1</td>\n      <td>0</td>\n      <td>270000.0</td>\n      <td>1.0</td>\n      <td>52</td>\n      <td>1</td>\n      <td>1</td>\n    </tr>\n    <tr>\n      <th>...</th>\n      <td>...</td>\n      <td>...</td>\n      <td>...</td>\n      <td>...</td>\n      <td>...</td>\n      <td>...</td>\n      <td>...</td>\n      <td>...</td>\n    </tr>\n    <tr>\n      <th>5150481</th>\n      <td>1</td>\n      <td>1</td>\n      <td>1</td>\n      <td>157500.0</td>\n      <td>3.0</td>\n      <td>29</td>\n      <td>1</td>\n      <td>1</td>\n    </tr>\n    <tr>\n      <th>5150483</th>\n      <td>1</td>\n      <td>1</td>\n      <td>1</td>\n      <td>157500.0</td>\n      <td>3.0</td>\n      <td>29</td>\n      <td>1</td>\n      <td>1</td>\n    </tr>\n    <tr>\n      <th>5150484</th>\n      <td>1</td>\n      <td>1</td>\n      <td>1</td>\n      <td>157500.0</td>\n      <td>3.0</td>\n      <td>29</td>\n      <td>1</td>\n      <td>1</td>\n    </tr>\n    <tr>\n      <th>5150485</th>\n      <td>1</td>\n      <td>1</td>\n      <td>1</td>\n      <td>157500.0</td>\n      <td>3.0</td>\n      <td>29</td>\n      <td>1</td>\n      <td>1</td>\n    </tr>\n    <tr>\n      <th>5150487</th>\n      <td>1</td>\n      <td>0</td>\n      <td>0</td>\n      <td>202500.0</td>\n      <td>2.0</td>\n      <td>53</td>\n      <td>1</td>\n      <td>1</td>\n    </tr>\n  </tbody>\n</table>\n<p>24672 rows × 8 columns</p>\n</div>"
     },
     "metadata": {}
    }
   ],
   "execution_count": null
  },
  {
   "cell_type": "markdown",
   "source": "## Exploratory Data Analysis (EDA)",
   "metadata": {
    "datalore": {
     "type": "MD",
     "hide_input_from_viewers": false,
     "hide_output_from_viewers": false
    },
    "cell_id": "00023-0b3f329e-5cf8-4c16-80cf-3ab3aebc804c",
    "deepnote_app_coordinates": {
     "x": 0,
     "y": 204,
     "w": 12,
     "h": 5
    },
    "deepnote_cell_type": "markdown",
    "deepnote_cell_height": 69.60000610351562
   }
  },
  {
   "cell_type": "markdown",
   "source": "### Análisis Estadístico",
   "metadata": {
    "datalore": {
     "type": "MD",
     "hide_input_from_viewers": false,
     "hide_output_from_viewers": false
    },
    "cell_id": "00024-fb661eb2-ca57-45dc-b70a-47681dc82956",
    "deepnote_app_coordinates": {
     "x": 0,
     "y": 210,
     "w": 12,
     "h": 5
    },
    "deepnote_cell_type": "markdown",
    "deepnote_cell_height": 61.600006103515625
   }
  },
  {
   "cell_type": "code",
   "metadata": {
    "datalore": {
     "type": "CODE",
     "hide_input_from_viewers": false,
     "hide_output_from_viewers": false
    },
    "cell_id": "00025-02f91455-62cd-4892-984a-d890ac36b597",
    "deepnote_to_be_reexecuted": false,
    "source_hash": "4b8e82ef",
    "execution_start": 1647917697764,
    "execution_millis": 32,
    "deepnote_table_state": {
     "pageSize": 25,
     "pageIndex": 0,
     "filters": [],
     "sortBy": []
    },
    "deepnote_table_loading": false,
    "deepnote_app_coordinates": {
     "x": 0,
     "y": 216,
     "w": 12,
     "h": 5
    },
    "deepnote_cell_type": "code",
    "deepnote_cell_height": 532
   },
   "source": "data_procesada.describe().round()",
   "outputs": [
    {
     "output_type": "execute_result",
     "execution_count": 21,
     "data": {
      "application/vnd.deepnote.dataframe.v3+json": {
       "column_count": 8,
       "row_count": 8,
       "columns": [
        {
         "name": "FLAG_OWN_CAR",
         "dtype": "float64",
         "stats": {
          "unique_count": 3,
          "nan_count": 0,
          "min": "0.0",
          "max": "24672.0",
          "histogram": [
           {
            "bin_start": 0,
            "bin_end": 2467.2,
            "count": 7
           },
           {
            "bin_start": 2467.2,
            "bin_end": 4934.4,
            "count": 0
           },
           {
            "bin_start": 4934.4,
            "bin_end": 7401.599999999999,
            "count": 0
           },
           {
            "bin_start": 7401.599999999999,
            "bin_end": 9868.8,
            "count": 0
           },
           {
            "bin_start": 9868.8,
            "bin_end": 12336,
            "count": 0
           },
           {
            "bin_start": 12336,
            "bin_end": 14803.199999999999,
            "count": 0
           },
           {
            "bin_start": 14803.199999999999,
            "bin_end": 17270.399999999998,
            "count": 0
           },
           {
            "bin_start": 17270.399999999998,
            "bin_end": 19737.6,
            "count": 0
           },
           {
            "bin_start": 19737.6,
            "bin_end": 22204.8,
            "count": 0
           },
           {
            "bin_start": 22204.8,
            "bin_end": 24672,
            "count": 1
           }
          ]
         }
        },
        {
         "name": "FLAG_OWN_REALTY",
         "dtype": "float64",
         "stats": {
          "unique_count": 3,
          "nan_count": 0,
          "min": "0.0",
          "max": "24672.0",
          "histogram": [
           {
            "bin_start": 0,
            "bin_end": 2467.2,
            "count": 7
           },
           {
            "bin_start": 2467.2,
            "bin_end": 4934.4,
            "count": 0
           },
           {
            "bin_start": 4934.4,
            "bin_end": 7401.599999999999,
            "count": 0
           },
           {
            "bin_start": 7401.599999999999,
            "bin_end": 9868.8,
            "count": 0
           },
           {
            "bin_start": 9868.8,
            "bin_end": 12336,
            "count": 0
           },
           {
            "bin_start": 12336,
            "bin_end": 14803.199999999999,
            "count": 0
           },
           {
            "bin_start": 14803.199999999999,
            "bin_end": 17270.399999999998,
            "count": 0
           },
           {
            "bin_start": 17270.399999999998,
            "bin_end": 19737.6,
            "count": 0
           },
           {
            "bin_start": 19737.6,
            "bin_end": 22204.8,
            "count": 0
           },
           {
            "bin_start": 22204.8,
            "bin_end": 24672,
            "count": 1
           }
          ]
         }
        },
        {
         "name": "CNT_CHILDREN",
         "dtype": "float64",
         "stats": {
          "unique_count": 4,
          "nan_count": 0,
          "min": "0.0",
          "max": "24672.0",
          "histogram": [
           {
            "bin_start": 0,
            "bin_end": 2467.2,
            "count": 7
           },
           {
            "bin_start": 2467.2,
            "bin_end": 4934.4,
            "count": 0
           },
           {
            "bin_start": 4934.4,
            "bin_end": 7401.599999999999,
            "count": 0
           },
           {
            "bin_start": 7401.599999999999,
            "bin_end": 9868.8,
            "count": 0
           },
           {
            "bin_start": 9868.8,
            "bin_end": 12336,
            "count": 0
           },
           {
            "bin_start": 12336,
            "bin_end": 14803.199999999999,
            "count": 0
           },
           {
            "bin_start": 14803.199999999999,
            "bin_end": 17270.399999999998,
            "count": 0
           },
           {
            "bin_start": 17270.399999999998,
            "bin_end": 19737.6,
            "count": 0
           },
           {
            "bin_start": 19737.6,
            "bin_end": 22204.8,
            "count": 0
           },
           {
            "bin_start": 22204.8,
            "bin_end": 24672,
            "count": 1
           }
          ]
         }
        },
        {
         "name": "AMT_INCOME_TOTAL",
         "dtype": "float64",
         "stats": {
          "unique_count": 8,
          "nan_count": 0,
          "min": "24672.0",
          "max": "1575000.0",
          "histogram": [
           {
            "bin_start": 24672,
            "bin_end": 179704.8,
            "count": 5
           },
           {
            "bin_start": 179704.8,
            "bin_end": 334737.6,
            "count": 2
           },
           {
            "bin_start": 334737.6,
            "bin_end": 489770.39999999997,
            "count": 0
           },
           {
            "bin_start": 489770.39999999997,
            "bin_end": 644803.2,
            "count": 0
           },
           {
            "bin_start": 644803.2,
            "bin_end": 799836,
            "count": 0
           },
           {
            "bin_start": 799836,
            "bin_end": 954868.7999999999,
            "count": 0
           },
           {
            "bin_start": 954868.7999999999,
            "bin_end": 1109901.5999999999,
            "count": 0
           },
           {
            "bin_start": 1109901.5999999999,
            "bin_end": 1264934.4,
            "count": 0
           },
           {
            "bin_start": 1264934.4,
            "bin_end": 1419967.2,
            "count": 0
           },
           {
            "bin_start": 1419967.2,
            "bin_end": 1575000,
            "count": 1
           }
          ]
         }
        },
        {
         "name": "CNT_FAM_MEMBERS",
         "dtype": "float64",
         "stats": {
          "unique_count": 5,
          "nan_count": 0,
          "min": "1.0",
          "max": "24672.0",
          "histogram": [
           {
            "bin_start": 1,
            "bin_end": 2468.1,
            "count": 7
           },
           {
            "bin_start": 2468.1,
            "bin_end": 4935.2,
            "count": 0
           },
           {
            "bin_start": 4935.2,
            "bin_end": 7402.299999999999,
            "count": 0
           },
           {
            "bin_start": 7402.299999999999,
            "bin_end": 9869.4,
            "count": 0
           },
           {
            "bin_start": 9869.4,
            "bin_end": 12336.5,
            "count": 0
           },
           {
            "bin_start": 12336.5,
            "bin_end": 14803.599999999999,
            "count": 0
           },
           {
            "bin_start": 14803.599999999999,
            "bin_end": 17270.7,
            "count": 0
           },
           {
            "bin_start": 17270.7,
            "bin_end": 19737.8,
            "count": 0
           },
           {
            "bin_start": 19737.8,
            "bin_end": 22204.899999999998,
            "count": 0
           },
           {
            "bin_start": 22204.899999999998,
            "bin_end": 24672,
            "count": 1
           }
          ]
         }
        },
        {
         "name": "Edad",
         "dtype": "float64",
         "stats": {
          "unique_count": 8,
          "nan_count": 0,
          "min": "11.0",
          "max": "24672.0",
          "histogram": [
           {
            "bin_start": 11,
            "bin_end": 2477.1,
            "count": 7
           },
           {
            "bin_start": 2477.1,
            "bin_end": 4943.2,
            "count": 0
           },
           {
            "bin_start": 4943.2,
            "bin_end": 7409.299999999999,
            "count": 0
           },
           {
            "bin_start": 7409.299999999999,
            "bin_end": 9875.4,
            "count": 0
           },
           {
            "bin_start": 9875.4,
            "bin_end": 12341.5,
            "count": 0
           },
           {
            "bin_start": 12341.5,
            "bin_end": 14807.599999999999,
            "count": 0
           },
           {
            "bin_start": 14807.599999999999,
            "bin_end": 17273.7,
            "count": 0
           },
           {
            "bin_start": 17273.7,
            "bin_end": 19739.8,
            "count": 0
           },
           {
            "bin_start": 19739.8,
            "bin_end": 22205.899999999998,
            "count": 0
           },
           {
            "bin_start": 22205.899999999998,
            "bin_end": 24672,
            "count": 1
           }
          ]
         }
        },
        {
         "name": "Empleo",
         "dtype": "float64",
         "stats": {
          "unique_count": 3,
          "nan_count": 0,
          "min": "0.0",
          "max": "24672.0",
          "histogram": [
           {
            "bin_start": 0,
            "bin_end": 2467.2,
            "count": 7
           },
           {
            "bin_start": 2467.2,
            "bin_end": 4934.4,
            "count": 0
           },
           {
            "bin_start": 4934.4,
            "bin_end": 7401.599999999999,
            "count": 0
           },
           {
            "bin_start": 7401.599999999999,
            "bin_end": 9868.8,
            "count": 0
           },
           {
            "bin_start": 9868.8,
            "bin_end": 12336,
            "count": 0
           },
           {
            "bin_start": 12336,
            "bin_end": 14803.199999999999,
            "count": 0
           },
           {
            "bin_start": 14803.199999999999,
            "bin_end": 17270.399999999998,
            "count": 0
           },
           {
            "bin_start": 17270.399999999998,
            "bin_end": 19737.6,
            "count": 0
           },
           {
            "bin_start": 19737.6,
            "bin_end": 22204.8,
            "count": 0
           },
           {
            "bin_start": 22204.8,
            "bin_end": 24672,
            "count": 1
           }
          ]
         }
        },
        {
         "name": "Target",
         "dtype": "float64",
         "stats": {
          "unique_count": 3,
          "nan_count": 0,
          "min": "0.0",
          "max": "24672.0",
          "histogram": [
           {
            "bin_start": 0,
            "bin_end": 2467.2,
            "count": 7
           },
           {
            "bin_start": 2467.2,
            "bin_end": 4934.4,
            "count": 0
           },
           {
            "bin_start": 4934.4,
            "bin_end": 7401.599999999999,
            "count": 0
           },
           {
            "bin_start": 7401.599999999999,
            "bin_end": 9868.8,
            "count": 0
           },
           {
            "bin_start": 9868.8,
            "bin_end": 12336,
            "count": 0
           },
           {
            "bin_start": 12336,
            "bin_end": 14803.199999999999,
            "count": 0
           },
           {
            "bin_start": 14803.199999999999,
            "bin_end": 17270.399999999998,
            "count": 0
           },
           {
            "bin_start": 17270.399999999998,
            "bin_end": 19737.6,
            "count": 0
           },
           {
            "bin_start": 19737.6,
            "bin_end": 22204.8,
            "count": 0
           },
           {
            "bin_start": 22204.8,
            "bin_end": 24672,
            "count": 1
           }
          ]
         }
        },
        {
         "name": "_deepnote_index_column",
         "dtype": "object"
        }
       ],
       "rows": [
        {
         "FLAG_OWN_CAR": 24672,
         "FLAG_OWN_REALTY": 24672,
         "CNT_CHILDREN": 24672,
         "AMT_INCOME_TOTAL": 24672,
         "CNT_FAM_MEMBERS": 24672,
         "Edad": 24672,
         "Empleo": 24672,
         "Target": 24672,
         "_deepnote_index_column": "count"
        },
        {
         "FLAG_OWN_CAR": 0,
         "FLAG_OWN_REALTY": 1,
         "CNT_CHILDREN": 0,
         "AMT_INCOME_TOTAL": 187075,
         "CNT_FAM_MEMBERS": 2,
         "Edad": 43,
         "Empleo": 1,
         "Target": 1,
         "_deepnote_index_column": "mean"
        },
        {
         "FLAG_OWN_CAR": 0,
         "FLAG_OWN_REALTY": 0,
         "CNT_CHILDREN": 1,
         "AMT_INCOME_TOTAL": 102095,
         "CNT_FAM_MEMBERS": 1,
         "Edad": 11,
         "Empleo": 0,
         "Target": 0,
         "_deepnote_index_column": "std"
        },
        {
         "FLAG_OWN_CAR": 0,
         "FLAG_OWN_REALTY": 0,
         "CNT_CHILDREN": 0,
         "AMT_INCOME_TOTAL": 27000,
         "CNT_FAM_MEMBERS": 1,
         "Edad": 20,
         "Empleo": 0,
         "Target": 0,
         "_deepnote_index_column": "min"
        },
        {
         "FLAG_OWN_CAR": 0,
         "FLAG_OWN_REALTY": 0,
         "CNT_CHILDREN": 0,
         "AMT_INCOME_TOTAL": 121500,
         "CNT_FAM_MEMBERS": 2,
         "Edad": 34,
         "Empleo": 1,
         "Target": 1,
         "_deepnote_index_column": "25%"
        },
        {
         "FLAG_OWN_CAR": 0,
         "FLAG_OWN_REALTY": 1,
         "CNT_CHILDREN": 0,
         "AMT_INCOME_TOTAL": 157500,
         "CNT_FAM_MEMBERS": 2,
         "Edad": 42,
         "Empleo": 1,
         "Target": 1,
         "_deepnote_index_column": "50%"
        },
        {
         "FLAG_OWN_CAR": 1,
         "FLAG_OWN_REALTY": 1,
         "CNT_CHILDREN": 1,
         "AMT_INCOME_TOTAL": 225000,
         "CNT_FAM_MEMBERS": 3,
         "Edad": 53,
         "Empleo": 1,
         "Target": 1,
         "_deepnote_index_column": "75%"
        },
        {
         "FLAG_OWN_CAR": 1,
         "FLAG_OWN_REALTY": 1,
         "CNT_CHILDREN": 19,
         "AMT_INCOME_TOTAL": 1575000,
         "CNT_FAM_MEMBERS": 20,
         "Edad": 68,
         "Empleo": 1,
         "Target": 1,
         "_deepnote_index_column": "max"
        }
       ]
      },
      "text/plain": "       FLAG_OWN_CAR  FLAG_OWN_REALTY  CNT_CHILDREN  AMT_INCOME_TOTAL  \\\ncount       24672.0          24672.0       24672.0           24672.0   \nmean            0.0              1.0           0.0          187075.0   \nstd             0.0              0.0           1.0          102095.0   \nmin             0.0              0.0           0.0           27000.0   \n25%             0.0              0.0           0.0          121500.0   \n50%             0.0              1.0           0.0          157500.0   \n75%             1.0              1.0           1.0          225000.0   \nmax             1.0              1.0          19.0         1575000.0   \n\n       CNT_FAM_MEMBERS     Edad   Empleo   Target  \ncount          24672.0  24672.0  24672.0  24672.0  \nmean               2.0     43.0      1.0      1.0  \nstd                1.0     11.0      0.0      0.0  \nmin                1.0     20.0      0.0      0.0  \n25%                2.0     34.0      1.0      1.0  \n50%                2.0     42.0      1.0      1.0  \n75%                3.0     53.0      1.0      1.0  \nmax               20.0     68.0      1.0      1.0  ",
      "text/html": "<div>\n<style scoped>\n    .dataframe tbody tr th:only-of-type {\n        vertical-align: middle;\n    }\n\n    .dataframe tbody tr th {\n        vertical-align: top;\n    }\n\n    .dataframe thead th {\n        text-align: right;\n    }\n</style>\n<table border=\"1\" class=\"dataframe\">\n  <thead>\n    <tr style=\"text-align: right;\">\n      <th></th>\n      <th>FLAG_OWN_CAR</th>\n      <th>FLAG_OWN_REALTY</th>\n      <th>CNT_CHILDREN</th>\n      <th>AMT_INCOME_TOTAL</th>\n      <th>CNT_FAM_MEMBERS</th>\n      <th>Edad</th>\n      <th>Empleo</th>\n      <th>Target</th>\n    </tr>\n  </thead>\n  <tbody>\n    <tr>\n      <th>count</th>\n      <td>24672.0</td>\n      <td>24672.0</td>\n      <td>24672.0</td>\n      <td>24672.0</td>\n      <td>24672.0</td>\n      <td>24672.0</td>\n      <td>24672.0</td>\n      <td>24672.0</td>\n    </tr>\n    <tr>\n      <th>mean</th>\n      <td>0.0</td>\n      <td>1.0</td>\n      <td>0.0</td>\n      <td>187075.0</td>\n      <td>2.0</td>\n      <td>43.0</td>\n      <td>1.0</td>\n      <td>1.0</td>\n    </tr>\n    <tr>\n      <th>std</th>\n      <td>0.0</td>\n      <td>0.0</td>\n      <td>1.0</td>\n      <td>102095.0</td>\n      <td>1.0</td>\n      <td>11.0</td>\n      <td>0.0</td>\n      <td>0.0</td>\n    </tr>\n    <tr>\n      <th>min</th>\n      <td>0.0</td>\n      <td>0.0</td>\n      <td>0.0</td>\n      <td>27000.0</td>\n      <td>1.0</td>\n      <td>20.0</td>\n      <td>0.0</td>\n      <td>0.0</td>\n    </tr>\n    <tr>\n      <th>25%</th>\n      <td>0.0</td>\n      <td>0.0</td>\n      <td>0.0</td>\n      <td>121500.0</td>\n      <td>2.0</td>\n      <td>34.0</td>\n      <td>1.0</td>\n      <td>1.0</td>\n    </tr>\n    <tr>\n      <th>50%</th>\n      <td>0.0</td>\n      <td>1.0</td>\n      <td>0.0</td>\n      <td>157500.0</td>\n      <td>2.0</td>\n      <td>42.0</td>\n      <td>1.0</td>\n      <td>1.0</td>\n    </tr>\n    <tr>\n      <th>75%</th>\n      <td>1.0</td>\n      <td>1.0</td>\n      <td>1.0</td>\n      <td>225000.0</td>\n      <td>3.0</td>\n      <td>53.0</td>\n      <td>1.0</td>\n      <td>1.0</td>\n    </tr>\n    <tr>\n      <th>max</th>\n      <td>1.0</td>\n      <td>1.0</td>\n      <td>19.0</td>\n      <td>1575000.0</td>\n      <td>20.0</td>\n      <td>68.0</td>\n      <td>1.0</td>\n      <td>1.0</td>\n    </tr>\n  </tbody>\n</table>\n</div>"
     },
     "metadata": {}
    }
   ],
   "execution_count": null
  },
  {
   "cell_type": "markdown",
   "source": "Junto con los datos estadisticos del dataset, veremos unas graficas para ver la distribución de nuestros datos",
   "metadata": {
    "datalore": {
     "type": "MD",
     "hide_input_from_viewers": false,
     "hide_output_from_viewers": false
    },
    "cell_id": "00026-a4ad2a71-80d0-45dc-b270-be4e5031ff9e",
    "deepnote_app_coordinates": {
     "x": 0,
     "y": 222,
     "w": 12,
     "h": 5
    },
    "deepnote_cell_type": "markdown",
    "deepnote_cell_height": 52
   }
  },
  {
   "cell_type": "markdown",
   "source": "#### Distribución de las variables",
   "metadata": {
    "cell_id": "6ec2d36e-8efc-48c8-bcf4-9c61a342fb92",
    "tags": [],
    "deepnote_app_coordinates": {
     "x": 0,
     "y": 228,
     "w": 12,
     "h": 5
    },
    "deepnote_cell_type": "markdown",
    "deepnote_cell_height": 53.600006103515625
   }
  },
  {
   "cell_type": "code",
   "metadata": {
    "datalore": {
     "type": "CODE",
     "hide_input_from_viewers": false,
     "hide_output_from_viewers": false
    },
    "cell_id": "00027-e3ad5349-482e-4566-acff-a7f7aab2a3ac",
    "deepnote_to_be_reexecuted": false,
    "source_hash": "65d7475a",
    "execution_start": 1647917697852,
    "execution_millis": 4817,
    "deepnote_app_coordinates": {
     "x": 0,
     "y": 234,
     "w": 12,
     "h": 5
    },
    "deepnote_cell_type": "code",
    "deepnote_cell_height": 1068,
    "deepnote_output_heights": [
     null,
     465
    ]
   },
   "source": "# Histogramas\n\nfig, axs = plt.subplots(ncols=4, nrows=2, figsize=(20,10))\nindex = 0\naxs = axs.flatten()\nfor k,v in data_procesada.items():\n    sns.distplot(v, ax=axs[index])\n    index += 1\nplt.tight_layout(pad=0.4, w_pad=0.5, h_pad=5.0)",
   "outputs": [
    {
     "name": "stderr",
     "text": "/shared-libs/python3.9/py/lib/python3.9/site-packages/seaborn/distributions.py:2619: FutureWarning: `distplot` is a deprecated function and will be removed in a future version. Please adapt your code to use either `displot` (a figure-level function with similar flexibility) or `histplot` (an axes-level function for histograms).\n  warnings.warn(msg, FutureWarning)\n/shared-libs/python3.9/py/lib/python3.9/site-packages/seaborn/distributions.py:2619: FutureWarning: `distplot` is a deprecated function and will be removed in a future version. Please adapt your code to use either `displot` (a figure-level function with similar flexibility) or `histplot` (an axes-level function for histograms).\n  warnings.warn(msg, FutureWarning)\n/shared-libs/python3.9/py/lib/python3.9/site-packages/seaborn/distributions.py:2619: FutureWarning: `distplot` is a deprecated function and will be removed in a future version. Please adapt your code to use either `displot` (a figure-level function with similar flexibility) or `histplot` (an axes-level function for histograms).\n  warnings.warn(msg, FutureWarning)\n/shared-libs/python3.9/py/lib/python3.9/site-packages/seaborn/distributions.py:2619: FutureWarning: `distplot` is a deprecated function and will be removed in a future version. Please adapt your code to use either `displot` (a figure-level function with similar flexibility) or `histplot` (an axes-level function for histograms).\n  warnings.warn(msg, FutureWarning)\n/shared-libs/python3.9/py/lib/python3.9/site-packages/seaborn/distributions.py:2619: FutureWarning: `distplot` is a deprecated function and will be removed in a future version. Please adapt your code to use either `displot` (a figure-level function with similar flexibility) or `histplot` (an axes-level function for histograms).\n  warnings.warn(msg, FutureWarning)\n/shared-libs/python3.9/py/lib/python3.9/site-packages/seaborn/distributions.py:2619: FutureWarning: `distplot` is a deprecated function and will be removed in a future version. Please adapt your code to use either `displot` (a figure-level function with similar flexibility) or `histplot` (an axes-level function for histograms).\n  warnings.warn(msg, FutureWarning)\n/shared-libs/python3.9/py/lib/python3.9/site-packages/seaborn/distributions.py:2619: FutureWarning: `distplot` is a deprecated function and will be removed in a future version. Please adapt your code to use either `displot` (a figure-level function with similar flexibility) or `histplot` (an axes-level function for histograms).\n  warnings.warn(msg, FutureWarning)\n/shared-libs/python3.9/py/lib/python3.9/site-packages/seaborn/distributions.py:2619: FutureWarning: `distplot` is a deprecated function and will be removed in a future version. Please adapt your code to use either `displot` (a figure-level function with similar flexibility) or `histplot` (an axes-level function for histograms).\n  warnings.warn(msg, FutureWarning)\n",
     "output_type": "stream"
    },
    {
     "data": {
      "text/plain": "<Figure size 1440x720 with 8 Axes>",
      "image/png": "[encoded data removed]"
     },
     "metadata": {
      "needs_background": "light",
      "image/png": {
       "width": 1446,
       "height": 726
      }
     },
     "output_type": "display_data"
    }
   ],
   "execution_count": null
  },
  {
   "cell_type": "markdown",
   "source": "Como podemos ver en las gráficas, tenemos varias situaciones con los datos:\n\n1) Las variables FLAG_OWN_CAR, FLAG_OWN_REALTY, Empleo y Target son variables discretas y su distribución esta entre el 0 y 1. De estas podemos ver que Target y Empleo estan desbalanceadas con casi todos los datos de un lado\n\n2) Las variables CNT_CHILDREN, AMT_INCOME_TOTAL y CNT_FAM_MEMBERS presentan datos outliers y junto a esto la variable de Ingreso Anual Total (AMT_INCOME_TOTAL) tiene una distribución asimétrica.",
   "metadata": {
    "datalore": {
     "type": "MD",
     "hide_input_from_viewers": false,
     "hide_output_from_viewers": false
    },
    "cell_id": "00028-6009287b-521b-4741-9314-0f683890dd6d",
    "deepnote_app_coordinates": {
     "x": 0,
     "y": 240,
     "w": 12,
     "h": 5
    },
    "deepnote_cell_type": "markdown",
    "deepnote_cell_height": 172.60000610351562
   }
  },
  {
   "cell_type": "markdown",
   "source": "### Valores extremos u outliers",
   "metadata": {
    "datalore": {
     "type": "MD",
     "hide_input_from_viewers": false,
     "hide_output_from_viewers": false
    },
    "cell_id": "00029-23f145c5-e8ae-4435-b98e-9f5e78f81979",
    "deepnote_app_coordinates": {
     "x": 0,
     "y": 246,
     "w": 12,
     "h": 5
    },
    "deepnote_cell_type": "markdown",
    "deepnote_cell_height": 61.600006103515625
   }
  },
  {
   "cell_type": "markdown",
   "source": "Vamos a verficar estas variables más a fondo para ver sus valores extremos.",
   "metadata": {
    "datalore": {
     "type": "MD",
     "hide_input_from_viewers": false,
     "hide_output_from_viewers": false
    },
    "cell_id": "00030-fbab4aa6-fbc0-430d-8e23-b3bea7edf6d6",
    "deepnote_app_coordinates": {
     "x": 0,
     "y": 252,
     "w": 12,
     "h": 5
    },
    "deepnote_cell_type": "markdown",
    "deepnote_cell_height": 52
   }
  },
  {
   "cell_type": "code",
   "metadata": {
    "datalore": {
     "type": "CODE",
     "hide_input_from_viewers": false,
     "hide_output_from_viewers": false
    },
    "cell_id": "00031-764d4179-6b4a-4a2e-bf6a-3240915d5935",
    "deepnote_to_be_reexecuted": false,
    "source_hash": "f9df3aee",
    "execution_start": 1647917702883,
    "execution_millis": 1217,
    "deepnote_app_coordinates": {
     "x": 0,
     "y": 258,
     "w": 12,
     "h": 5
    },
    "deepnote_cell_type": "code",
    "deepnote_cell_height": 705.4000244140625,
    "deepnote_output_heights": [
     465
    ]
   },
   "source": "from scipy import stats\n\nfig, axs = plt.subplots(ncols=4, nrows=2, figsize=(20,10))\nindex = 0\naxs = axs.flatten()\nfor k,v in data_procesada.items():\n    sns.boxplot(y=k, data=data_procesada, ax=axs[index])\n    index += 1\nplt.tight_layout(pad=0.4, w_pad=0.5, h_pad=5.0)",
   "outputs": [
    {
     "data": {
      "text/plain": "<Figure size 1440x720 with 8 Axes>",
      "image/png": "[encoded data removed]"
     },
     "metadata": {
      "needs_background": "light",
      "image/png": {
       "width": 1446,
       "height": 726
      }
     },
     "output_type": "display_data"
    }
   ],
   "execution_count": null
  },
  {
   "cell_type": "markdown",
   "source": "Como muestran las gráficas, confirmamos que las variables que habiamos identificado antes (CNT_CHILDREN, AMT_INCOME_TOTAL y CNT_FAM_MEMBERS) tienen outliers que pueden afectar nuestro modelo, veamos el porcentaje por columna.",
   "metadata": {
    "datalore": {
     "type": "MD",
     "hide_input_from_viewers": false,
     "hide_output_from_viewers": false
    },
    "cell_id": "00032-a742f497-31fa-4053-a276-b75eb4f31b2e",
    "deepnote_app_coordinates": {
     "x": 0,
     "y": 264,
     "w": 12,
     "h": 5
    },
    "deepnote_cell_type": "markdown",
    "deepnote_cell_height": 74.39999389648438
   }
  },
  {
   "cell_type": "code",
   "metadata": {
    "cell_id": "7b373fb3-e874-4613-92f0-475342a7d1b0",
    "tags": [],
    "deepnote_to_be_reexecuted": false,
    "source_hash": "c9ee789d",
    "execution_start": 1647917704115,
    "execution_millis": 43,
    "deepnote_app_coordinates": {
     "x": 0,
     "y": 270,
     "w": 12,
     "h": 5
    },
    "deepnote_cell_type": "code",
    "deepnote_cell_height": 359.3999938964844
   },
   "source": "for k, v in data_procesada.items():\n    q1 = v.quantile(0.25)\n    q3 = v.quantile(0.75)\n    irq = q3 - q1\n    v_col = v[(v <= q1 - 1.5 * irq) | (v >= q3 + 1.5 * irq)]\n    perc = np.shape(v_col)[0] * 100.0 / np.shape(data_procesada)[0]\n    print(\"Variable %s outliers = %.2f%%\" % (k, perc))",
   "outputs": [
    {
     "name": "stdout",
     "text": "Variable FLAG_OWN_CAR outliers = 0.00%\nVariable FLAG_OWN_REALTY outliers = 0.00%\nVariable CNT_CHILDREN outliers = 1.41%\nVariable AMT_INCOME_TOTAL outliers = 4.27%\nVariable CNT_FAM_MEMBERS outliers = 1.34%\nVariable Edad outliers = 0.00%\nVariable Empleo outliers = 100.00%\nVariable Target outliers = 100.00%\n",
     "output_type": "stream"
    }
   ],
   "execution_count": null
  },
  {
   "cell_type": "markdown",
   "source": "Como podemos ver, los outliers en esas variables no pasan del 5% de los datos por lo que procederemos a borrar esos datos con el fin de que no hagan ruido al hacer nuestro modelo de predición.",
   "metadata": {
    "cell_id": "2aa920b8-79df-4560-9261-454193452103",
    "tags": [],
    "deepnote_app_coordinates": {
     "x": 0,
     "y": 276,
     "w": 12,
     "h": 5
    },
    "deepnote_cell_type": "markdown",
    "deepnote_cell_height": 74.39999389648438
   }
  },
  {
   "cell_type": "code",
   "metadata": {
    "datalore": {
     "type": "CODE",
     "hide_input_from_viewers": false,
     "hide_output_from_viewers": false
    },
    "cell_id": "00061-af04e178-4e60-4512-b9f2-f5a54328ab10",
    "deepnote_to_be_reexecuted": false,
    "source_hash": "4eedd589",
    "execution_start": 1647917704164,
    "execution_millis": 41,
    "deepnote_app_coordinates": {
     "x": 0,
     "y": 282,
     "w": 12,
     "h": 5
    },
    "deepnote_cell_type": "code",
    "deepnote_cell_height": 207.39999389648438
   },
   "source": "data_limpia = data_procesada[data_procesada.AMT_INCOME_TOTAL <= 387000]\ndata_limpia = data_limpia[data_procesada.CNT_CHILDREN <= 2]\ndata_limpia = data_limpia[data_procesada.CNT_FAM_MEMBERS <= 4]",
   "outputs": [
    {
     "name": "stderr",
     "text": "<ipython-input-25-bf4e26441da1>:2: UserWarning: Boolean Series key will be reindexed to match DataFrame index.\n  data_limpia = data_limpia[data_procesada.CNT_CHILDREN <= 2]\n<ipython-input-25-bf4e26441da1>:3: UserWarning: Boolean Series key will be reindexed to match DataFrame index.\n  data_limpia = data_limpia[data_procesada.CNT_FAM_MEMBERS <= 4]\n",
     "output_type": "stream"
    }
   ],
   "execution_count": null
  },
  {
   "cell_type": "code",
   "metadata": {
    "datalore": {
     "type": "CODE",
     "hide_input_from_viewers": false,
     "hide_output_from_viewers": false
    },
    "cell_id": "00062-13b8cf96-6c39-4cbe-a4ab-e470bfa568df",
    "deepnote_to_be_reexecuted": false,
    "source_hash": "15b28f3",
    "execution_start": 1647917704207,
    "execution_millis": 0,
    "deepnote_app_coordinates": {
     "x": 0,
     "y": 288,
     "w": 12,
     "h": 5
    },
    "deepnote_cell_type": "code",
    "deepnote_cell_height": 167.39999389648438
   },
   "source": "# Comparamos las filas entre dataframes\nprint(data_procesada.shape)\nprint(data_limpia.shape)",
   "outputs": [
    {
     "name": "stdout",
     "text": "(24672, 8)\n(23409, 8)\n",
     "output_type": "stream"
    }
   ],
   "execution_count": null
  },
  {
   "cell_type": "code",
   "metadata": {
    "datalore": {
     "type": "CODE",
     "hide_input_from_viewers": false,
     "hide_output_from_viewers": false
    },
    "cell_id": "00063-bf6cd0cd-7bc8-4a80-87ba-3a1a160e884a",
    "deepnote_to_be_reexecuted": false,
    "source_hash": "9a9be0fb",
    "execution_start": 1647917704216,
    "execution_millis": 558,
    "deepnote_app_coordinates": {
     "x": 0,
     "y": 294,
     "w": 12,
     "h": 5
    },
    "deepnote_cell_type": "code",
    "deepnote_cell_height": 607.4000244140625,
    "deepnote_output_heights": [
     367
    ]
   },
   "source": "# Checamos que ya no haya outliers\nvariables = ['CNT_CHILDREN', 'AMT_INCOME_TOTAL', 'CNT_FAM_MEMBERS']\n\nfig, axes = plt.subplots(1, len(variables), figsize=(15,6))\n\nfor ax, variable in zip(axes, variables):\n    ax = sns.boxplot( y=variable, data=data_limpia, ax=ax)\nplt.tight_layout()\nplt.show()",
   "outputs": [
    {
     "data": {
      "text/plain": "<Figure size 1080x432 with 3 Axes>",
      "image/png": "[encoded data removed]"
     },
     "metadata": {
      "needs_background": "light",
      "image/png": {
       "width": 1072,
       "height": 424
      }
     },
     "output_type": "display_data"
    }
   ],
   "execution_count": null
  },
  {
   "cell_type": "markdown",
   "source": "### Correlación",
   "metadata": {
    "datalore": {
     "type": "MD",
     "hide_input_from_viewers": false,
     "hide_output_from_viewers": false
    },
    "cell_id": "00033-a6fa17de-5392-48be-b67a-d1b38c3b744a",
    "deepnote_app_coordinates": {
     "x": 0,
     "y": 300,
     "w": 12,
     "h": 5
    },
    "deepnote_cell_type": "markdown",
    "deepnote_cell_height": 61.600006103515625
   }
  },
  {
   "cell_type": "markdown",
   "source": "Para terminar nuestro análisis, veremos la correlación de nuestras variables para ver como se relacionan entre ellas.",
   "metadata": {
    "datalore": {
     "type": "MD",
     "hide_input_from_viewers": false,
     "hide_output_from_viewers": false
    },
    "cell_id": "00034-b25c08c1-bfc1-4224-b2c4-17a5469ed537",
    "deepnote_app_coordinates": {
     "x": 0,
     "y": 306,
     "w": 12,
     "h": 5
    },
    "deepnote_cell_type": "markdown",
    "deepnote_cell_height": 52
   }
  },
  {
   "cell_type": "code",
   "metadata": {
    "datalore": {
     "type": "CODE",
     "hide_input_from_viewers": false,
     "hide_output_from_viewers": false
    },
    "cell_id": "00035-5159717c-c9b3-4286-86d8-86c0f3e77e2f",
    "deepnote_to_be_reexecuted": false,
    "source_hash": "a28c8e2a",
    "execution_start": 1647917704781,
    "execution_millis": 1108,
    "deepnote_app_coordinates": {
     "x": 0,
     "y": 312,
     "w": 12,
     "h": 5
    },
    "deepnote_cell_type": "code",
    "deepnote_cell_height": 712.2000122070312,
    "deepnote_output_heights": [
     21,
     474
    ]
   },
   "source": "#Resulta más intuitivo ver la matriz de correlación a través de un gráfico - heatmap de seaborn\n\nplt.figure(figsize=(20,10)) #Defino el tamaño del grafico\n\n## Definimos la correlación\nsns.heatmap(data_limpia.corr(), annot=True)",
   "outputs": [
    {
     "output_type": "execute_result",
     "execution_count": 28,
     "data": {
      "text/plain": "<AxesSubplot:>"
     },
     "metadata": {}
    },
    {
     "data": {
      "text/plain": "<Figure size 1440x720 with 2 Axes>",
      "image/png": "[encoded data removed]"
     },
     "metadata": {
      "needs_background": "light",
      "image/png": {
       "width": 1131,
       "height": 579
      }
     },
     "output_type": "display_data"
    }
   ],
   "execution_count": null
  },
  {
   "cell_type": "markdown",
   "source": "Como podemos observar en el gráfico, nuestra variable target tiene nula correlación con todas las demás variables, esto sin embago, significa que no hay relación lineal más no que carece de algun tipo de relación. Tambien podemos ver que las variables CNT_CHILDREN (Número de hijos) y CNT_FAM_MEMBERS (Número de integrantes de la famila) estan fuertemente correlacionadas positivamente, por lo tanto si una sube, la otra tambien (lo cual era de esperarse debido a que es facil ver su relacion lineal).\nPor otro lado, las variables Edad y Empleo estan fuertemente correlacionadas negativamente, esto significa que si una sube la otra baja y viceversa, en este caso si la edad sube es mas posible que la persona no este empleada, lo cual tambien tiene todo el sentido del mundo. Las personas mientras mas edad tienen, es mas posible que se jubilen y queden \"desempleados\", además que generalmente se busca mano de obra joven y hay muchas posibilidades.\nOtras variables correlacionadas aunque no tan fuerte positivamente son el ingreso anual Total y el empleo o tambien el empleo con la cantidad de hijos.",
   "metadata": {
    "datalore": {
     "type": "MD",
     "hide_input_from_viewers": false,
     "hide_output_from_viewers": false
    },
    "cell_id": "00036-35c4661a-c455-4e74-9f06-40b11d0423c0",
    "deepnote_app_coordinates": {
     "x": 0,
     "y": 318,
     "w": 12,
     "h": 5
    },
    "deepnote_cell_type": "markdown",
    "deepnote_cell_height": 231.1999969482422
   }
  },
  {
   "cell_type": "markdown",
   "source": "## Análisis Multivariado",
   "metadata": {
    "datalore": {
     "type": "MD",
     "hide_input_from_viewers": false,
     "hide_output_from_viewers": false
    },
    "cell_id": "00037-3b2b19f6-42cb-4a90-9551-e35d73fa6307",
    "deepnote_app_coordinates": {
     "x": 0,
     "y": 324,
     "w": 12,
     "h": 5
    },
    "deepnote_cell_type": "markdown",
    "deepnote_cell_height": 69.60000610351562
   }
  },
  {
   "cell_type": "markdown",
   "source": "Por ultimo haremos un análisis multivariado tomando como eje la variable Ingreso Anual Total y como se distribuye con las demas variables",
   "metadata": {
    "datalore": {
     "type": "MD",
     "hide_input_from_viewers": false,
     "hide_output_from_viewers": false
    },
    "cell_id": "00038-61ee5ed8-f220-41ce-a429-71cebc75c8b9",
    "deepnote_app_coordinates": {
     "x": 0,
     "y": 330,
     "w": 12,
     "h": 5
    },
    "deepnote_cell_type": "markdown",
    "deepnote_cell_height": 52
   }
  },
  {
   "cell_type": "code",
   "metadata": {
    "datalore": {
     "type": "CODE",
     "hide_input_from_viewers": false,
     "hide_output_from_viewers": false
    },
    "cell_id": "00040-2f75cd4a-0393-43ed-b1b6-47b567322a08",
    "deepnote_to_be_reexecuted": false,
    "source_hash": "b73597bb",
    "execution_start": 1647917705889,
    "execution_millis": 2800,
    "deepnote_app_coordinates": {
     "x": 0,
     "y": 336,
     "w": 12,
     "h": 5
    },
    "deepnote_cell_type": "code",
    "deepnote_cell_height": 641.4000244140625,
    "deepnote_output_heights": [
     527
    ]
   },
   "source": "fig = px.scatter(data_limpia, x=\"Edad\", y=\"AMT_INCOME_TOTAL\", color=\"Target\")\nfig.show()",
   "outputs": [
    {
     "data": {
      "text/html": "<html>\n<head><meta charset=\"utf-8\" /></head>\n<body>\n    <div>            <script src=\"https://cdnjs.cloudflare.com/ajax/libs/mathjax/2.7.5/MathJax.js?config=TeX-AMS-MML_SVG\"></script><script type=\"text/javascript\">if (window.MathJax) {MathJax.Hub.Config({SVG: {font: \"STIX-Web\"}});}</script>                <script type=\"text/javascript\">window.PlotlyConfig = {MathJaxConfig: 'local'};</script>\n        <script src=\"https://cdn.plot.ly/plotly-2.9.0.min.js\"></script>                <div id=\"0c3d6f3a-41a5-425e-98cc-1a1e740b5465\" class=\"plotly-graph-div\" style=\"height:525px; width:100%;\"></div>            <script type=\"text/javascript\">                                    window.PLOTLYENV=window.PLOTLYENV || {};                                    if (document.getElementById(\"0c3d6f3a-41a5-425e-98cc-1a1e740b5465\")) {                    Plotly.newPlot(                        \"0c3d6f3a-41a5-425e-98cc-1a1e740b5465\",                        [{\"hovertemplate\":\"Edad=%{x}<br>AMT_INCOME_TOTAL=%{y}<br>Target=%{marker.color}<extra></extra>\",\"legendgroup\":\"\",\"marker\":{\"color\":[1,1,1,1,1,1,1,1,1,1,1,1,1,1,1,1,1,1,1,1,1,1,1,1,1,1,1,1,1,1,1,1,1,1,1,1,1,1,1,1,1,1,1,1,1,1,1,1,1,1,1,1,1,1,1,1,0,1,1,1,1,1,1,1,1,1,1,1,1,1,1,1,1,1,1,1,1,1,1,1,1,1,1,1,1,1,1,1,1,1,1,1,1,1,1,1,1,1,1,1,1,1,1,1,1,1,1,1,1,1,1,1,1,1,1,1,1,1,1,1,1,1,1,1,1,1,1,1,1,1,1,1,1,1,1,1,1,1,1,1,1,1,1,1,1,1,1,1,1,1,1,1,1,1,1,1,1,1,1,1,1,1,1,1,1,1,1,1,1,1,1,1,1,1,1,1,1,1,1,1,1,1,1,1,1,1,1,1,1,1,1,1,1,1,1,1,1,1,1,1,1,1,1,1,1,1,1,1,1,1,1,1,1,1,1,1,1,1,1,1,1,1,1,1,1,1,1,1,1,1,1,1,1,1,1,1,1,1,1,0,1,1,1,1,1,1,1,1,1,1,1,1,1,1,1,1,1,1,1,1,1,1,1,1,1,1,1,1,1,1,1,1,1,1,1,1,1,1,1,1,1,1,1,1,1,1,1,1,1,1,1,1,0,1,1,1,1,1,1,1,1,1,1,1,1,1,1,1,1,1,1,1,1,1,1,1,1,1,1,1,1,1,1,1,1,1,1,1,1,1,1,1,1,1,1,1,1,1,1,1,1,1,1,1,1,1,1,1,1,0,1,1,1,1,1,1,1,1,1,1,1,1,1,1,1,0,1,1,1,1,1,1,1,1,1,1,1,1,1,1,1,1,1,1,1,1,1,1,1,1,1,1,1,1,1,1,1,1,1,1,1,1,1,1,1,1,1,1,1,1,1,1,1,1,1,1,1,1,1,1,1,1,1,1,1,1,1,1,1,1,1,1,1,1,1,1,1,1,1,1,1,1,1,1,1,1,1,1,1,1,1,1,1,1,1,1,1,1,1,1,1,1,1,1,1,1,1,1,1,1,1,1,1,1,1,1,1,1,1,1,0,1,1,0,1,1,1,1,1,1,1,1,1,1,1,1,1,1,1,1,1,1,1,1,1,1,1,1,1,1,1,1,1,1,1,1,1,1,1,1,1,1,1,1,1,1,1,1,1,1,1,1,1,1,1,1,1,1,1,1,1,1,1,1,1,1,1,1,1,1,1,1,1,1,1,1,1,1,1,1,1,1,1,0,1,1,1,1,0,1,1,1,1,1,1,1,1,1,1,1,1,1,1,1,1,1,1,1,1,1,1,1,1,1,1,1,1,1,1,1,1,1,1,1,1,1,1,1,1,1,1,1,1,1,1,1,1,1,1,1,1,1,1,1,1,1,1,1,1,1,1,1,1,1,1,1,1,1,0,1,1,1,1,1,1,1,1,1,1,1,1,1,1,1,1,1,1,1,1,1,1,1,1,1,1,1,1,1,1,1,1,1,1,1,1,1,1,1,1,1,1,1,1,1,1,1,1,1,1,1,1,1,1,1,0,1,1,1,1,1,1,1,1,1,1,1,1,1,1,1,1,1,1,1,1,1,1,1,1,1,1,1,1,1,1,1,1,1,1,1,1,1,1,1,1,1,1,1,1,1,1,1,1,1,1,1,1,1,1,1,1,1,1,1,1,1,1,1,1,1,1,1,1,1,1,1,1,1,1,1,1,1,1,1,1,1,1,1,1,1,1,1,1,1,1,1,1,1,1,1,1,1,1,1,1,1,1,1,1,1,1,1,1,1,1,1,1,1,1,1,1,1,1,1,1,1,1,1,1,1,1,1,1,1,1,1,1,1,1,1,1,1,1,1,1,1,1,1,1,1,1,1,1,1,1,1,1,1,1,1,1,1,1,1,1,1,1,1,1,1,1,1,1,1,1,1,1,1,1,1,1,1,1,1,1,1,1,1,1,1,1,1,1,1,1,1,1,1,1,1,1,1,1,1,1,1,1,1,1,1,1,1,1,1,1,1,1,1,1,1,1,1,1,1,0,1,1,1,1,1,1,1,1,1,1,1,1,1,1,1,1,1,1,1,1,1,1,1,1,1,1,1,1,1,1,1,1,1,1,1,1,1,1,1,1,1,1,1,1,1,1,1,1,1,1,1,1,1,1,1,1,1,1,1,1,1,1,1,1,1,1,1,1,1,1,1,1,1,1,1,1,1,1,1,1,1,1,1,1,1,1,1,1,1,1,1,1,1,1,1,1,1,1,1,1,1,1,1,1,1,1,1,1,1,1,1,1,1,1,1,1,1,1,1,1,1,1,1,1,1,1,1,1,1,1,1,1,1,1,1,1,1,1,1,1,1,1,1,1,1,1,1,1,1,1,1,1,1,1,1,1,1,1,1,1,1,1,1,1,1,1,1,1,1,1,1,1,1,1,1,1,1,1,1,1,1,1,1,1,1,1,1,1,1,1,1,1,1,1,1,1,1,1,1,1,1,1,1,1,1,1,1,1,1,1,1,1,1,1,1,1,1,1,1,1,1,1,1,1,1,1,1,1,1,1,1,1,1,1,1,1,1,1,1,1,1,1,1,1,1,1,1,1,1,1,1,1,1,1,1,1,1,1,1,1,1,1,1,1,1,1,0,1,1,1,1,1,1,1,1,1,1,1,1,1,1,1,1,1,1,1,1,1,1,1,1,1,1,1,1,1,1,1,1,1,1,1,1,1,1,1,1,1,1,1,1,1,1,1,1,1,1,1,1,1,1,1,1,1,1,1,1,1,1,1,1,1,1,1,1,1,1,1,1,0,1,1,1,1,0,1,1,1,1,1,1,1,1,1,1,1,1,1,1,1,1,1,1,1,1,1,1,1,1,1,1,1,1,1,1,1,1,1,1,1,1,1,1,1,1,1,1,1,1,1,1,1,1,0,1,1,1,1,1,1,1,1,0,1,1,1,1,1,1,1,1,1,1,1,1,1,1,1,1,1,1,1,1,1,1,1,1,1,1,1,1,1,1,1,1,1,1,1,1,1,1,1,1,1,1,1,1,1,1,1,1,1,1,1,1,1,1,1,1,1,1,1,0,1,1,1,1,1,1,1,1,1,1,1,1,1,1,1,1,0,1,1,1,1,1,1,1,1,1,1,1,1,1,1,1,1,1,1,1,1,1,1,1,1,1,1,1,1,1,1,1,1,1,1,1,1,1,1,1,1,1,1,1,1,1,1,1,1,1,1,1,1,1,1,1,1,1,1,1,1,1,1,1,1,1,1,1,1,1,1,1,1,1,1,1,1,1,1,1,1,1,1,1,1,1,1,1,1,1,1,1,0,1,1,1,1,1,1,1,1,1,1,1,1,1,1,1,1,1,1,1,1,1,1,1,1,1,1,1,1,1,1,1,1,1,1,1,1,1,1,1,1,1,1,1,1,1,1,1,1,1,1,1,1,1,1,1,1,0,0,1,1,1,1,1,1,1,1,1,1,1,0,1,1,1,1,1,1,1,1,1,1,1,1,1,1,1,1,1,1,1,1,1,1,1,1,1,1,1,1,1,1,1,1,1,1,1,1,1,1,1,1,1,1,1,1,1,1,1,1,1,1,1,1,1,1,1,1,1,1,1,1,1,1,1,1,1,1,1,1,1,1,1,1,1,1,1,1,1,1,1,1,1,1,1,1,1,1,1,1,1,1,1,1,1,1,1,1,1,1,1,1,1,1,1,1,1,1,1,1,1,1,1,1,1,1,1,1,1,1,1,1,1,1,1,1,1,1,1,1,1,1,1,1,1,1,1,1,1,1,1,1,1,1,1,1,1,1,1,1,1,1,1,1,1,1,1,1,1,1,1,1,1,1,1,1,1,1,1,1,1,1,1,1,1,1,1,1,1,1,1,1,1,1,1,1,1,1,1,1,1,1,1,1,1,1,1,1,1,1,1,1,1,1,1,1,1,1,1,1,1,1,1,1,1,1,0,1,1,1,1,1,1,1,1,1,1,1,1,1,1,1,1,1,1,1,1,1,1,1,1,1,1,0,1,1,1,1,1,1,1,1,1,1,1,1,1,1,1,1,1,1,1,1,1,1,1,1,1,1,1,1,1,1,1,1,1,1,1,1,1,1,1,1,1,1,0,1,1,1,1,1,1,1,1,1,1,1,1,1,1,1,1,1,1,1,1,1,1,1,1,1,1,1,1,1,1,1,1,1,1,1,1,1,1,1,1,1,1,1,1,1,1,1,1,1,1,1,1,1,1,1,1,1,1,1,1,1,1,1,1,1,1,1,1,1,1,1,1,1,1,1,1,1,1,1,1,1,1,1,1,1,1,1,1,1,1,1,1,1,1,1,1,1,1,1,1,1,1,1,1,1,1,1,1,1,1,1,1,1,1,1,1,1,1,1,1,1,1,1,1,1,1,1,1,1,1,1,1,1,1,1,1,1,1,1,1,1,1,1,1,1,1,1,1,1,1,1,1,1,1,1,1,1,1,1,1,1,1,1,1,1,1,1,1,1,1,1,1,1,1,1,1,1,1,1,1,1,1,1,1,1,1,1,1,1,1,1,1,1,1,1,1,1,1,1,1,1,1,1,1,1,1,1,1,1,1,1,1,1,1,1,1,1,1,1,1,1,1,1,1,1,1,1,1,1,1,1,1,1,1,1,1,1,1,1,1,1,1,1,1,1,1,1,1,1,1,1,1,1,1,1,1,1,1,1,1,1,1,1,1,1,1,1,1,1,1,1,1,1,1,1,1,1,1,1,1,1,1,1,1,1,1,1,1,1,1,1,1,1,1,1,1,1,1,1,1,1,1,1,1,1,1,1,1,1,1,1,1,1,1,1,1,1,1,1,1,1,1,1,1,1,1,1,1,1,1,1,1,1,1,1,1,1,1,1,1,1,1,1,1,1,1,1,1,1,1,1,1,1,1,1,1,1,1,1,1,1,1,0,1,1,0,1,1,1,1,1,1,1,1,1,1,1,1,1,1,1,1,1,1,1,1,1,1,1,1,1,1,1,1,1,1,1,1,1,1,1,1,1,1,1,1,1,1,1,1,1,1,1,1,1,1,1,1,1,1,1,1,1,1,1,1,1,1,1,1,1,1,1,1,1,1,1,1,1,1,1,1,1,1,1,1,1,1,1,1,1,1,1,1,1,1,1,1,1,1,1,1,1,1,1,1,1,1,1,1,1,1,1,1,1,1,1,1,1,1,1,1,1,1,1,1,1,1,1,1,1,1,1,1,1,1,1,1,1,1,1,1,1,1,1,1,1,1,1,1,1,1,1,1,1,1,1,1,1,1,1,1,1,1,1,1,1,1,1,1,1,1,1,1,1,1,1,1,1,1,1,1,1,1,1,1,1,1,1,1,1,1,1,1,1,1,1,1,1,1,1,1,1,1,1,1,1,1,1,1,1,1,1,1,1,1,1,1,1,1,1,1,1,1,1,1,1,1,1,1,1,1,1,1,1,1,1,1,1,1,1,1,1,1,1,1,1,1,1,1,1,1,1,1,1,1,1,1,1,1,1,1,1,1,1,1,1,1,1,1,1,1,1,1,1,1,1,1,1,1,1,1,1,1,1,1,1,1,1,1,1,1,1,1,1,1,1,1,1,1,1,1,1,1,1,1,1,1,1,1,1,1,1,1,1,1,1,1,1,1,1,1,1,1,1,1,1,1,1,1,1,1,1,1,1,1,1,1,1,1,1,1,1,1,1,1,1,1,1,1,1,1,1,0,1,1,1,1,1,1,1,1,1,1,1,1,1,1,1,1,1,1,1,1,1,1,1,1,1,1,1,1,1,1,1,1,1,1,1,1,1,1,1,1,1,1,1,1,1,1,1,1,1,1,1,1,1,1,1,1,1,1,1,1,1,1,1,1,1,1,1,1,1,1,1,1,1,1,1,1,1,1,1,1,1,1,1,1,1,1,1,1,1,1,1,1,1,1,1,1,1,1,1,1,1,1,1,1,1,1,1,1,1,1,1,1,1,1,1,1,1,1,1,1,1,1,1,1,1,1,1,1,1,1,1,1,1,1,1,1,1,1,1,1,1,1,1,1,1,1,1,1,1,1,1,1,1,1,0,1,1,1,1,1,1,1,1,1,1,1,1,1,1,1,1,1,1,1,1,1,1,1,1,1,1,1,1,1,1,1,1,1,1,1,1,1,1,1,1,1,1,1,1,1,1,1,1,1,1,1,1,1,1,1,1,1,1,1,1,1,1,1,1,0,1,1,1,1,1,1,1,1,1,1,1,1,1,1,1,1,1,1,1,1,1,1,1,1,1,1,1,1,1,1,1,1,1,1,1,1,1,1,1,1,1,1,1,1,1,1,1,1,1,1,1,1,1,1,1,1,1,1,1,1,1,1,1,1,1,1,1,1,1,1,1,1,1,1,1,1,1,1,1,1,1,1,1,1,1,1,1,1,1,1,1,1,1,1,1,1,1,1,1,1,1,1,1,1,1,1,1,1,1,1,1,1,1,1,1,1,1,1,1,1,1,1,1,1,1,1,1,1,1,1,1,1,1,1,1,1,1,1,1,1,1,1,1,1,1,1,1,1,1,1,1,1,1,1,1,1,1,1,1,1,1,1,1,1,1,1,1,1,1,1,1,0,1,1,1,1,1,1,1,1,1,1,1,1,1,1,1,1,1,1,1,1,1,1,1,1,1,1,1,1,1,1,1,1,1,1,1,1,1,1,1,0,1,1,1,1,1,1,1,1,1,1,1,1,1,1,1,1,1,1,1,1,1,1,1,1,1,1,1,1,1,1,1,1,1,1,1,1,1,1,1,1,1,1,1,1,1,1,1,1,1,1,1,1,1,1,1,1,1,1,1,1,1,1,1,1,1,1,1,1,1,1,1,1,1,1,0,1,1,1,1,1,1,1,1,1,1,1,1,1,1,1,1,1,1,1,1,1,1,1,1,1,1,1,1,1,1,1,1,1,1,1,1,1,1,1,1,1,1,1,1,1,1,1,1,1,1,1,1,1,1,1,1,1,1,1,1,1,1,1,1,1,1,1,1,1,1,1,1,0,1,1,1,1,1,1,1,1,1,1,1,1,1,1,1,1,1,1,1,1,1,1,1,1,1,1,1,1,1,1,1,1,0,1,1,1,1,1,1,1,1,1,1,1,1,1,1,1,1,1,1,1,1,1,1,1,1,1,1,1,1,1,1,1,1,1,1,1,1,1,1,1,1,1,1,1,1,1,1,1,1,1,1,1,1,1,0,1,1,1,1,1,1,1,1,1,1,1,1,1,1,1,1,1,1,1,1,1,1,1,1,1,1,1,1,1,1,1,1,1,1,1,1,1,1,1,1,1,1,1,1,1,1,1,1,1,1,1,1,1,1,1,1,1,1,1,1,1,1,1,1,1,1,1,1,1,1,1,1,1,1,1,1,1,1,1,1,1,1,1,1,1,1,1,1,1,1,1,1,1,1,1,1,1,1,1,1,1,1,1,1,1,1,1,1,1,1,1,1,1,1,1,1,1,1,1,1,1,1,1,1,1,1,1,1,1,1,1,1,1,1,1,1,1,1,1,1,1,1,1,1,1,1,1,1,1,1,1,1,1,1,1,1,1,1,0,1,1,1,1,1,1,1,1,1,1,1,1,1,1,1,1,1,1,1,1,1,1,1,1,1,1,1,1,1,1,1,1,1,1,1,1,1,1,1,1,1,1,1,1,1,1,1,1,1,1,1,1,1,1,1,1,1,1,1,1,1,1,1,1,1,1,1,1,1,1,1,1,1,1,1,1,1,1,1,1,1,1,1,1,1,1,1,1,1,1,1,1,1,1,1,1,1,1,1,1,1,1,1,1,1,1,1,1,1,1,1,1,1,1,1,1,1,1,1,1,1,1,1,1,1,1,1,1,1,1,1,1,1,1,1,1,1,1,1,1,1,1,0,1,1,1,1,1,1,1,1,1,1,1,1,1,1,1,1,1,1,1,1,1,1,1,1,1,1,1,1,0,1,1,1,1,1,1,1,1,1,1,1,1,1,1,1,1,1,1,1,1,1,1,1,0,1,1,1,1,1,1,1,1,1,1,1,1,1,1,1,1,1,1,1,1,1,1,1,1,1,1,1,1,1,1,1,1,1,1,1,1,1,1,1,1,1,1,1,1,1,1,1,1,1,1,1,1,1,1,1,1,1,1,1,1,1,1,1,1,1,1,1,1,1,1,1,1,1,1,1,1,1,1,1,1,1,1,1,1,1,1,1,1,1,1,1,1,1,1,1,1,1,1,1,1,0,1,0,1,1,1,1,1,1,1,1,1,0,1,1,1,1,1,1,1,1,1,1,1,1,1,1,1,1,1,1,1,1,1,1,1,1,1,1,1,1,1,0,1,1,1,1,1,1,1,1,1,1,1,1,1,1,1,1,1,1,1,1,1,1,1,1,1,1,1,1,1,1,1,1,1,1,1,1,1,1,1,1,1,1,1,1,1,1,1,1,1,1,1,1,1,1,1,1,1,1,1,1,1,1,1,1,1,1,1,1,1,1,1,1,1,1,1,1,1,1,1,1,1,1,1,1,1,1,1,1,1,1,1,1,1,1,1,1,1,1,1,1,1,1,1,1,1,1,1,1,1,1,1,1,0,1,1,1,1,1,1,1,1,1,1,1,1,1,1,1,1,1,1,1,1,1,1,1,1,1,1,1,1,1,1,1,1,1,1,1,1,1,1,1,1,1,1,1,1,1,1,1,1,1,1,1,1,1,1,1,1,1,1,1,1,1,1,1,1,1,1,1,1,1,1,1,1,1,1,1,1,1,1,1,1,1,1,1,1,1,1,1,1,1,1,1,1,1,1,1,1,1,1,0,1,0,1,1,1,1,1,1,1,1,1,1,1,1,1,1,1,1,1,1,1,1,1,1,1,1,1,1,1,1,1,1,1,1,1,1,1,1,1,1,1,1,1,1,1,1,1,1,1,1,1,1,1,1,1,1,1,1,1,1,1,1,1,1,1,1,1,1,1,1,1,1,1,1,1,1,1,1,1,1,1,1,1,1,1,1,1,1,1,1,1,1,1,1,1,1,1,1,1,1,1,1,1,1,1,1,1,1,1,1,1,1,1,1,1,1,1,1,1,1,1,1,1,1,1,1,1,1,1,1,1,1,1,1,1,1,1,1,1,1,0,1,1,1,1,1,1,1,1,1,1,1,1,1,1,1,1,1,1,1,1,1,1,1,1,1,1,1,1,1,1,1,1,1,1,0,1,1,1,1,1,1,1,0,1,1,1,1,1,1,1,1,1,1,1,1,1,1,1,1,1,1,1,1,1,1,1,1,1,1,1,1,1,1,0,1,1,1,1,1,1,1,1,1,1,1,1,1,1,1,1,1,1,1,1,1,1,1,1,1,1,1,1,1,1,1,1,1,1,1,1,1,1,1,1,1,1,1,1,1,1,1,1,1,1,1,1,1,1,1,1,1,1,1,1,1,1,1,1,1,1,1,1,1,1,1,1,1,1,1,1,1,1,1,1,1,1,1,1,1,1,1,1,1,1,1,1,1,1,1,1,1,1,1,1,1,1,1,1,1,1,1,1,1,1,1,1,1,1,1,1,1,1,1,1,1,1,1,1,1,1,0,1,1,1,1,1,1,1,1,1,1,1,1,1,1,1,1,1,1,1,1,1,1,1,1,1,1,1,1,1,1,1,1,1,1,1,1,1,1,1,1,1,1,1,1,1,1,1,1,1,1,1,0,1,1,1,1,1,1,1,1,1,1,1,1,1,1,1,0,1,1,1,1,1,1,1,1,1,1,1,1,1,1,1,1,1,1,1,1,1,1,1,1,1,1,1,1,1,1,1,1,1,1,1,1,1,1,1,1,1,1,1,1,1,1,1,1,1,1,1,1,1,1,1,1,1,1,1,1,1,1,1,1,1,1,1,1,1,1,1,1,1,1,1,1,1,1,1,1,1,1,1,1,1,1,1,1,1,1,1,1,1,1,1,1,1,1,1,1,1,1,1,1,1,1,1,1,1,1,1,1,1,1,1,1,1,1,1,1,1,1,1,1,1,1,1,1,1,1,1,1,1,0,1,1,1,1,1,1,1,1,0,1,1,1,1,1,1,1,1,1,1,1,1,1,1,1,1,1,1,1,1,1,1,1,1,1,1,1,1,1,1,1,1,1,1,1,1,1,1,1,1,1,1,1,1,1,1,1,1,1,1,1,1,1,1,1,1,1,1,1,1,1,1,1,1,1,1,1,1,0,1,1,1,1,1,1,1,1,1,1,1,1,1,1,1,1,1,1,1,1,1,1,1,1,1,1,1,1,1,1,1,1,1,1,1,1,1,0,1,1,1,1,1,1,1,1,1,1,1,1,1,1,1,1,1,1,1,1,1,1,1,1,1,1,1,1,1,1,1,1,1,1,1,1,1,1,1,1,1,1,1,1,1,1,1,1,1,1,1,1,1,1,1,1,1,1,1,1,1,1,1,1,1,1,1,1,1,1,1,1,1,1,1,1,1,1,1,1,1,1,1,1,1,1,1,1,1,1,1,1,1,1,1,1,1,1,1,1,1,1,1,1,1,1,1,1,1,1,1,1,1,1,1,1,1,1,1,1,1,0,1,1,1,1,1,1,1,1,1,1,1,1,1,1,1,1,1,1,1,1,1,1,1,1,1,1,1,1,1,1,1,1,1,1,1,1,1,1,1,1,1,1,1,1,1,1,1,1,1,1,1,1,1,1,1,1,1,1,1,1,1,1,1,1,1,1,1,1,1,1,1,1,1,1,1,1,1,1,1,1,1,1,1,1,1,1,1,1,1,1,1,1,1,1,1,1,1,1,1,1,1,1,1,1,1,1,1,1,1,1,1,1,1,1,1,1,1,1,1,1,1,1,1,1,1,1,1,1,1,1,1,1,1,1,1,1,1,1,1,1,1,1,1,1,1,1,1,1,1,1,1,1,1,1,1,1,0,1,1,1,1,1,1,1,1,1,1,1,1,1,1,1,1,1,1,1,1,1,1,1,1,1,1,1,1,1,1,1,1,1,1,1,1,1,1,1,1,1,1,1,1,1,1,1,1,1,1,1,0,0,1,1,1,1,1,1,1,1,1,1,1,1,1,1,1,1,1,1,1,1,1,1,1,1,1,1,1,1,1,1,1,1,1,1,1,1,1,1,1,1,1,1,1,1,1,1,1,1,1,1,1,1,1,1,1,1,1,1,1,1,1,1,1,1,1,1,1,1,1,1,1,1,1,1,1,1,1,1,1,1,1,1,1,1,1,1,1,1,1,1,1,1,1,1,1,1,1,1,1,1,1,1,1,1,1,1,1,1,1,1,1,1,1,1,1,1,1,1,1,1,1,1,1,1,1,1,1,1,1,1,1,1,1,1,0,1,1,1,1,1,1,1,1,1,1,1,1,1,1,1,1,1,1,1,1,1,1,1,1,1,1,1,1,1,1,1,1,1,1,1,1,1,1,1,1,1,1,1,1,1,1,1,1,1,1,1,1,1,1,1,1,1,1,1,1,1,1,1,1,1,1,1,1,1,1,1,1,1,1,1,1,1,1,1,1,1,1,1,1,1,1,1,1,1,1,1,1,1,1,1,1,1,1,1,1,1,1,1,1,1,1,1,1,1,1,1,1,1,1,1,1,1,1,1,1,1,1,1,1,1,1,1,1,1,1,1,1,1,1,1,1,1,1,1,1,1,1,1,1,1,1,1,1,1,1,1,1,1,1,1,1,1,0,1,1,1,1,1,1,1,1,1,0,1,1,1,1,1,1,1,1,1,1,1,1,1,1,1,1,1,1,1,1,1,1,1,1,1,1,1,1,1,1,1,1,1,1,1,1,1,1,1,1,1,1,1,1,1,1,1,1,1,1,1,1,1,1,1,1,1,1,1,1,1,1,1,1,1,1,1,1,1,1,1,1,1,1,1,1,1,1,1,1,1,1,1,1,1,1,1,1,1,1,1,1,1,1,1,1,1,1,1,1,1,1,1,1,1,1,1,1,1,1,1,1,1,1,1,1,1,1,1,1,1,1,1,1,1,1,1,1,1,1,1,1,1,1,1,1,1,1,1,1,1,0,1,1,1,1,1,1,1,1,1,1,1,1,1,1,1,1,1,1,1,1,1,1,1,1,1,1,1,1,1,1,1,1,1,1,1,1,1,1,1,1,1,1,1,1,1,1,1,1,1,1,1,1,1,1,1,1,1,1,1,1,1,1,1,1,1,1,1,1,1,1,1,1,1,1,1,1,1,1,1,1,1,1,1,1,1,1,1,1,1,1,1,1,1,1,1,1,1,1,1,1,1,1,1,1,1,1,1,1,1,1,1,1,1,1,1,1,1,1,1,1,1,1,1,1,1,1,1,1,1,1,1,1,1,1,1,1,1,1,1,1,1,1,1,1,1,1,1,1,1,1,1,1,1,1,1,1,1,1,1,1,1,1,1,1,1,1,1,1,1,1,1,1,1,1,1,1,1,1,1,1,1,1,1,1,1,1,1,1,1,1,1,1,1,1,1,1,1,1,1,1,1,1,1,1,1,1,1,1,1,1,1,1,1,1,1,1,1,1,1,1,1,1,1,1,1,1,1,1,1,1,1,1,1,1,1,1,1,1,1,1,1,1,1,1,1,1,1,1,1,1,1,1,1,1,1,1,1,1,1,1,1,1,1,1,1,1,1,1,1,1,1,1,1,1,1,1,1,1,1,1,1,1,0,1,1,1,1,1,1,1,1,1,1,1,1,1,1,1,1,1,1,1,1,1,1,1,1,1,1,1,1,1,1,1,1,1,1,1,1,1,1,1,1,1,1,1,1,1,1,1,1,1,1,1,1,1,1,1,1,1,1,1,1,1,1,1,1,1,1,1,1,1,1,1,1,1,1,1,1,1,1,1,1,1,1,1,1,1,1,1,1,1,1,1,1,1,1,1,1,1,1,1,1,1,1,1,1,1,1,1,1,1,1,1,1,1,1,1,1,1,1,1,1,1,1,1,1,1,1,1,1,1,1,1,1,1,1,1,1,1,1,1,1,0,1,1,1,1,1,1,1,1,1,1,1,1,1,1,1,1,1,1,1,1,1,1,1,1,1,1,1,1,1,1,1,1,1,1,1,1,1,1,1,1,1,1,1,1,1,1,1,1,1,1,1,1,1,1,1,1,1,1,1,1,1,1,1,1,1,1,1,1,1,1,1,1,1,1,1,1,1,1,1,1,1,1,1,1,1,1,1,1,1,1,1,1,1,1,1,1,1,1,1,1,1,1,1,1,1,1,1,1,1,1,1,1,1,1,1,1,1,1,1,1,1,1,1,1,1,1,1,1,1,1,0,1,1,1,1,1,1,1,1,1,1,1,1,1,1,1,1,1,1,1,1,1,1,1,1,1,1,1,1,1,1,1,1,1,1,1,1,1,1,1,1,1,1,1,1,1,1,1,1,1,1,1,1,1,1,1,1,1,1,1,1,1,1,1,1,1,1,1,1,1,1,1,1,1,1,1,1,1,1,1,1,1,1,1,1,1,1,1,1,1,1,1,1,1,1,1,1,1,1,1,1,1,1,1,1,1,1,1,1,1,1,1,1,1,1,1,1,1,1,1,1,1,1,0,1,1,1,1,1,1,1,1,1,1,1,1,1,1,1,1,1,1,1,1,1,1,1,1,1,1,1,1,1,1,1,1,1,1,1,1,1,1,1,1,1,1,1,1,1,1,1,1,1,1,1,1,1,1,1,1,1,1,1,1,1,1,1,1,1,1,1,1,1,1,1,1,1,1,1,1,1,1,1,1,1,1,1,1,1,1,1,1,1,1,1,1,1,1,1,1,1,1,1,1,1,1,1,1,1,1,1,1,1,1,1,1,1,1,1,1,1,1,1,1,1,1,1,1,1,1,1,1,1,1,1,1,1,1,1,1,1,1,1,1,1,1,1,1,1,1,1,1,1,1,1,1,1,1,1,1,1,1,1,1,1,1,1,1,1,1,1,1,1,1,1,1,1,1,1,1,1,1,1,1,1,1,1,1,1,1,1,1,1,1,1,1,1,1,1,1,1,1,1,1,1,1,1,1,1,1,1,1,1,1,1,1,1,1,1,1,1,1,1,1,1,1,1,1,1,1,1,1,1,0,1,1,1,0,1,1,1,1,1,1,1,1,1,1,1,1,1,1,1,1,1,1,1,1,1,1,1,1,1,1,1,1,1,1,1,1,1,1,1,1,1,1,1,1,1,1,1,1,1,1,1,1,1,1,1,1,1,1,1,1,1,1,1,1,1,1,1,1,1,1,1,1,1,1,1,1,1,1,1,1,1,1,1,1,1,1,1,1,1,1,1,1,1,1,1,1,1,1,1,1,1,1,1,1,1,1,1,1,1,1,1,1,1,1,1,1,1,1,1,1,1,1,1,1,1,1,1,1,1,1,1,1,1,1,1,1,1,1,1,1,1,1,1,1,1,1,1,1,1,1,1,1,1,1,1,1,1,1,1,1,1,1,1,1,1,1,1,1,1,1,1,1,1,1,1,1,1,1,1,1,1,1,1,1,1,1,1,1,1,1,1,1,1,1,1,1,1,1,1,1,1,1,1,1,1,1,1,1,1,1,0,1,1,1,1,1,1,1,1,1,1,1,1,1,1,1,1,1,1,1,1,1,1,1,1,1,1,1,1,1,1,1,1,1,1,1,1,1,1,1,1,1,1,1,1,1,1,1,1,1,1,1,1,1,1,1,1,1,1,1,1,1,1,1,1,1,1,1,1,1,1,1,1,1,1,1,1,1,1,1,1,1,1,1,1,1,1,1,1,1,1,1,1,1,1,1,1,1,1,1,1,1,1,1,1,1,1,1,1,1,1,1,1,1,1,1,1,1,1,1,1,1,1,1,1,1,1,1,1,1,1,1,1,1,1,0,1,1,1,1,1,1,1,1,1,1,1,1,1,1,1,1,1,1,1,1,1,1,1,1,1,1,1,1,1,1,1,1,1,1,1,1,1,1,1,1,1,1,1,1,1,1,1,1,1,1,1,1,1,1,1,1,1,1,1,1,1,1,1,1,1,1,1,1,1,1,1,1,1,1,1,1,1,1,1,1,1,1,1,1,1,1,1,1,1,1,1,1,1,1,1,1,1,1,1,1,1,1,1,1,1,1,1,1,1,1,1,1,1,1,1,1,1,1,1,1,1,1,1,1,1,1,1,1,1,1,1,1,1,1,1,1,1,1,1,1,1,1,1,1,1,1,0,1,1,1,1,1,1,1,1,1,1,1,1,1,1,1,1,1,1,1,1,1,1,1,1,1,1,1,1,1,1,1,1,1,1,1,1,1,1,1,1,1,1,1,1,1,1,1,1,1,1,1,1,1,1,1,1,1,1,1,1,1,1,1,1,1,1,1,1,1,1,1,1,1,1,1,1,1,1,1,1,1,1,1,1,1,1,1,1,1,1,1,1,1,1,1,1,1,1,1,1,1,1,1,1,1,1,1,1,1,1,1,1,1,1,1,1,1,1,1,1,1,1,1,1,1,1,1,1,1,1,1,1,1,1,1,1,1,1,1,1,1,1,1,1,1,1,1,1,1,1,1,1,1,1,1,1,1,1,1,1,1,1,1,1,1,1,1,1,1,1,1,1,1,1,1,1,1,1,1,1,1,1,1,1,1,1,1,1,1,1,1,1,1,1,1,1,1,1,1,1,1,1,1,1,1,1,1,1,1,1,1,1,1,1,1,1,1,1,1,1,1,1,1,1,1,1,1,1,1,1,1,1,1,1,1,1,1,1,1,1,1,1,1,1,1,1,1,1,1,1,1,1,1,1,1,1,1,1,1,1,1,1,1,1,1,1,1,1,1,1,1,1,1,1,1,1,1,1,1,1,1,1,0,1,1,1,1,1,1,1,1,1,1,1,1,1,1,1,1,1,1,1,0,1,1,1,1,1,1,1,1,1,1,1,1,1,1,1,1,1,1,1,1,1,1,1,1,1,1,1,1,1,1,1,1,1,1,1,1,1,1,1,1,1,1,1,1,1,1,1,1,1,1,1,1,1,1,1,1,1,1,1,1,1,1,1,1,1,1,1,1,1,1,1,1,1,1,1,1,1,1,1,1,1,1,1,1,1,1,1,1,1,1,1,0,1,1,1,1,1,1,1,0,1,1,1,1,1,1,1,1,1,1,1,1,1,1,1,1,1,1,1,1,1,1,1,1,1,1,1,1,1,1,1,1,1,1,1,1,1,1,1,1,1,1,1,1,1,1,1,1,1,1,1,1,1,1,1,1,1,1,1,1,1,1,1,1,1,1,1,1,1,1,1,1,1,1,1,1,1,1,1,1,1,1,0,0,0,1,1,0,0,1,1,1,1,1,1,1,1,1,1,1,1,1,1,1,1,1,1,1,1,1,1,1,1,1,1,1,1,1,1,1,1,1,1,1,1,1,1,1,1,1,1,1,1,1,1,1,1,1,1,1,1,1,1,1,1,1,1,1,1,1,1,1,1,1,1,1,1,1,1,1,1,1,1,1,1,1,1,1,1,1,1,1,1,1,1,1,1,1,1,1,1,1,1,1,1,1,1,1,1,1,1,1,1,1,1,1,1,1,1,1,1,1,1,1,1,1,1,1,1,1,1,1,1,1,1,1,1,1,1,1,1,1,1,1,1,1,1,1,1,1,1,1,1,1,1,1,1,1,1,1,1,1,1,1,1,1,1,1,1,1,1,1,1,1,1,1,1,1,1,1,1,1,1,1,1,1,1,1,1,1,1,1,1,1,1,1,1,1,1,1,1,1,1,1,1,1,1,1,1,1,1,1,1,1,1,1,1,1,1,1,1,1,1,1,1,1,1,1,1,1,1,1,1,1,1,1,1,1,1,1,1,1,1,1,1,1,1,1,1,1,1,1,1,1,1,1,1,1,1,1,1,1,1,1,1,1,1,1,1,1,1,1,1,1,1,1,1,1,1,1,1,1,1,1,1,1,1,1,1,1,1,1,1,1,1,1,1,1,1,1,1,1,1,1,1,1,1,1,1,1,1,1,1,1,1,1,1,1,1,1,1,1,1,1,1,1,1,1,1,1,1,1,1,1,1,1,1,1,1,1,1,1,1,1,1,1,1,1,1,1,1,1,1,1,1,1,1,1,1,1,1,1,1,1,1,1,1,1,1,1,1,1,1,1,1,1,1,1,1,1,1,1,1,1,1,1,1,1,1,1,1,1,1,1,1,1,1,1,1,1,1,1,1,1,1,1,1,1,1,1,1,1,1,1,1,1,1,1,1,1,1,1,1,1,1,1,1,1,1,1,1,1,1,1,1,1,1,1,1,1,1,1,1,1,1,1,1,1,1,1,1,1,1,1,1,1,1,1,1,1,1,1,1,1,1,1,1,1,1,1,1,1,1,1,1,1,1,1,1,1,1,1,1,1,1,1,1,1,1,1,1,1,1,1,1,1,1,1,1,1,1,1,1,1,1,1,1,1,1,1,1,1,1,1,1,1,1,1,1,1,1,1,1,1,1,1,1,1,1,1,1,1,1,1,1,1,1,1,1,1,1,1,1,1,1,1,1,1,1,1,1,1,1,1,1,1,1,1,1,1,1,1,1,1,1,1,1,1,1,1,1,1,1,1,1,1,1,1,1,1,1,1,1,1,1,1,1,1,1,1,1,1,1,1,1,1,1,1,1,0,1,1,1,1,1,1,1,1,1,1,1,1,1,1,1,1,1,1,1,1,1,1,1,1,1,1,1,1,1,1,1,1,1,1,1,1,1,1,1,1,1,1,1,1,1,1,1,1,1,1,1,1,1,1,1,1,1,1,1,1,1,1,1,1,1,1,1,1,1,1,1,1,1,1,1,1,1,1,1,1,1,1,1,1,1,1,1,1,1,1,1,1,1,1,1,1,1,1,1,1,1,1,1,1,1,1,1,1,1,1,1,1,1,1,1,1,1,1,1,1,1,1,1,1,1,1,1,1,1,1,1,1,1,1,1,1,1,1,1,1,1,1,1,1,1,1,1,1,1,1,1,1,1,1,1,1,1,1,1,1,1,1,1,1,1,1,1,1,1,1,1,1,1,1,1,1,1,1,1,1,1,1,1,1,1,1,1,1,0,1,1,1,1,1,1,1,1,1,1,1,1,1,1,1,1,1,0,1,1,1,1,1,1,1,1,1,1,1,1,1,1,1,1,1,1,1,1,1,1,1,1,1,1,1,1,1,1,1,1,1,1,1,1,1,1,1,1,1,1,1,1,1,1,1,1,1,1,1,1,1,1,1,1,1,1,1,1,1,1,1,1,1,1,1,1,1,1,1,1,1,1,1,1,1,1,1,1,1,1,1,1,1,1,1,1,1,1,1,1,1,1,1,1,1,1,1,1,1,1,1,1,1,1,1,1,1,1,1,1,1,1,1,1,1,1,1,1,1,1,1,1,1,1,1,1,1,1,1,1,1,1,1,1,1,1,1,1,1,1,1,1,1,1,1,1,1,1,1,1,1,1,1,1,1,1,1,1,1,1,1,1,1,1,1,1,1,1,1,1,1,1,1,1,1,1,1,1,1,1,1,1,1,1,1,1,1,1,1,1,1,1,1,1,1,1,1,1,1,1,1,1,1,1,1,1,1,1,1,1,1,1,1,1,0,0,1,1,1,1,1,1,1,1,1,1,1,1,1,1,1,1,1,1,1,1,1,1,1,1,1,1,1,1,1,1,1,1,1,1,1,1,1,1,1,1,1,1,1,1,1,1,0,0,1,1,1,1,1,1,1,1,1,1,1,1,1,1,1,1,1,1,1,1,1,1,1,1,1,1,1,1,1,1,1,1,1,1,1,1,1,1,1,1,1,1,1,1,1,1,1,1,1,1,1,1,1,1,1,1,1,1,1,1,1,1,1,1,1,1,1,1,1,1,1,1,1,1,1,1,1,1,1,1,1,1,1,1,1,1,1,0,1,1,1,1,1,1,1,1,1,1,1,1,1,1,1,1,1,1,1,1,1,1,1,1,1,1,1,1,1,1,1,1,1,1,1,1,1,1,1,1,1,1,1,1,1,1,1,1,1,1,1,1,1,1,1,1,1,1,1,1,1,1,1,1,1,1,0,1,1,1,1,1,1,1,1,1,1,1,1,1,1,1,1,1,1,1,1,1,1,1,1,1,1,1,1,1,1,1,1,1,1,1,1,1,1,1,1,1,1,1,1,1,1,1,1,1,1,1,1,1,1,1,1,1,1,1,1,1,1,1,1,1,1,1,1,1,1,1,1,1,1,1,1,1,1,1,1,1,1,1,1,1,1,1,1,1,1,1,1,1,1,1,1,1,1,1,1,1,1,1,1,1,1,1,1,1,1,0,1,0,1,1,1,1,1,1,1,1,1,1,1,1,1,1,1,1,1,1,1,1,1,1,1,1,1,1,1,1,1,1,1,1,0,1,0,1,1,1,1,1,1,1,1,1,1,1,1,1,1,1,1,1,1,1,1,1,1,1,1,1,1,1,1,1,1,1,1,1,1,1,1,1,1,1,1,1,1,1,1,1,1,1,1,1,1,1,1,1,1,1,1,1,1,1,1,1,1,1,1,1,1,1,1,1,1,1,1,1,1,1,1,1,1,1,1,1,1,1,1,1,1,1,1,1,1,1,1,1,1,1,1,1,1,1,1,1,1,1,1,1,1,1,1,1,1,1,1,1,1,1,1,1,1,1,1,1,1,1,1,1,1,1,1,1,1,1,1,1,1,1,1,1,1,1,1,1,1,1,1,1,1,1,1,1,1,1,1,1,1,1,1,1,1,1,1,1,1,1,1,1,1,1,1,1,1,1,1,1,1,1,1,1,1,1,1,1,1,1,1,1,1,1,1,1,1,1,1,1,1,1,1,1,1,1,1,1,1,1,1,1,1,1,0,1,1,1,1,1,1,1,1,1,1,1,1,1,1,1,1,1,1,1,1,1,1,1,1,1,1,1,1,1,1,1,1,1,1,1,1,1,1,1,1,1,1,1,1,1,1,1,1,1,1,1,1,1,1,1,1,1,1,1,1,1,1,1,1,1,1,1,1,1,1,1,1,1,1,1,1,1,1,1,1,1,1,1,1,1,1,1,1,1,1,1,1,1,1,1,1,1,1,1,1,1,1,1,1,1,1,1,1,1,1,1,1,1,1,1,1,1,1,1,1,1,1,1,1,1,1,1,0,1,1,1,1,1,1,1,1,1,1,1,1,1,1,1,1,1,1,1,1,1,1,1,1,1,1,1,1,1,1,1,1,1,1,1,1,1,1,1,1,1,1,1,1,1,1,1,1,1,1,1,1,1,1,1,1,1,1,1,1,1,1,1,1,1,1,1,1,1,1,1,1,1,1,1,1,1,1,1,1,1,1,1,1,1,1,1,1,1,1,1,1,1,1,1,1,1,1,1,1,1,1,1,1,1,1,1,1,1,1,1,1,1,1,1,1,1,1,1,1,1,1,1,1,1,1,1,0,1,1,1,1,1,1,1,1,1,1,1,1,1,1,1,1,1,1,1,1,1,1,1,1,1,1,1,1,1,1,1,1,1,1,1,1,1,0,1,1,1,1,1,1,1,1,1,1,1,1,1,1,1,1,1,1,0,1,1,1,1,1,1,1,1,1,1,1,1,1,1,1,1,1,1,1,1,1,0,1,1,1,1,1,1,1,1,1,1,1,1,1,1,1,1,1,1,1,1,1,1,1,1,1,1,1,1,1,1,1,1,1,1,1,1,1,1,1,1,1,1,1,1,1,1,1,1,1,1,1,1,1,1,1,1,1,1,1,1,1,1,1,1,1,1,1,1,1,1,1,1,1,1,1,1,1,1,1,1,0,1,1,1,1,1,1,1,1,1,1,1,1,1,1,1,1,1,1,1,1,1,1,1,1,1,1,1,1,1,1,1,1,1,1,1,1,1,1,1,1,1,1,1,1,1,1,1,1,1,1,1,1,1,1,1,1,1,1,1,1,1,1,1,1,1,1,1,1,1,1,1,1,1,1,1,1,1,1,1,1,1,1,1,1,1,1,1,1,1,1,1,1,1,1,1,1,1,1,1,1,1,1,1,1,1,1,1,1,1,1,1,1,1,1,1,1,1,1,1,1,1,1,1,1,1,1,1,1,1,1,1,1,1,1,1,1,1,1,1,1,1,1,1,1,1,1,1,1,1,1,1,1,1,1,1,1,1,1,1,1,1,1,1,1,1,1,1,1,1,1,1,1,1,1,1,1,1,1,1,1,1,1,1,1,1,1,1,1,1,1,1,1,1,1,1,1,1,1,1,1,1,1,1,1,1,1,1,1,1,1,1,1,1,1,1,1,0,1,1,1,1,1,1,1,1,1,1,1,1,1,1,1,0,1,1,1,1,1,1,1,1,1,1,1,1,1,1,1,1,1,1,1,1,1,1,1,1,1,1,1,1,1,1,1,1,1,1,1,1,1,1,1,1,1,1,1,1,1,1,1,1,1,1,1,1,1,1,1,1,1,1,1,1,1,0,1,1,1,1,1,1,1,1,1,1,1,1,1,1,1,1,1,1,1,1,1,1,1,1,1,1,1,1,1,1,1,1,1,1,1,1,1,1,1,1,1,1,1,1,1,1,1,1,1,1,1,1,1,1,1,1,1,1,1,1,1,1,1,1,1,0,1,1,1,1,1,1,1,1,1,1,1,1,1,1,1,1,1,1,1,1,1,1,1,1,1,1,1,1,1,1,1,1,1,1,1,1,1,1,1,1,1,1,1,1,1,1,1,1,1,1,1,1,1,1,1,1,1,1,1,1,1,1,1,1,1,1,1,1,1,1,1,1,1,1,1,1,1,1,1,1,1,1,1,1,1,1,1,1,1,1,1,1,1,1,1,1,1,1,1,1,1,1,1,1,1,1,1,1,1,1,1,1,1,1,1,1,0,1,1,1,1,1,1,1,1,1,1,1,1,1,1,1,1,1,1,1,1,1,1,1,1,1,1,1,1,1,1,1,1,1,1,1,1,1,1,1,1,1,1,1,1,1,1,1,1,1,1,1,1,1,1,1,1,1,1,1,1,1,1,1,1,1,1,1,1,1,1,1,1,1,1,1,1,1,1,1,1,1,1,1,1,1,1,1,1,1,1,1,1,1,1,1,1,1,1,1,1,1,1,1,1,1,1,1,1,1,1,1,1,1,1,1,1,1,1,1,1,1,1,1,1,1,1,1,1,1,1,1,1,1,1,1,1,1,1,1,1,1,1,1,1,1,1,1,1,1,1,1,1,1,1,1,1,1,1,1,1,1,1,1,1,1,1,1,1,1,1,1,1,1,1,1,1,1,1,1,1,1,1,1,1,1,1,1,1,1,1,1,1,1,1,1,1,1,1,1,1,1,1,1,1,1,1,1,1,1,1,1,1,1,1,1,1,1,1,1,1,1,1,1,1,1,1,1,1,1,1,1,1,1,1,1,1,1,1,1,1,1,1,1,1,1,1,1,1,1,1,1,1,1,1,1,1,1,1,1,1,0,1,1,1,1,1,1,1,1,1,1,1,1,1,1,1,1,1,1,1,1,1,1,1,1,1,1,1,1,1,1,1,1,1,1,1,1,1,1,1,1,1,1,1,1,1,1,1,1,1,1,1,1,1,1,1,1,1,1,1,1,1,1,1,1,1,1,1,0,1,1,1,1,1,1,1,1,1,1,1,1,1,1,1,1,1,1,1,1,1,1,1,1,1,1,1,1,1,1,1,1,1,1,1,1,1,1,1,1,1,1,1,1,1,1,1,1,1,1,1,1,1,1,1,1,1,1,1,1,1,1,1,1,1,1,1,1,1,1,1,1,1,1,0,1,1,1,1,1,1,1,0,1,1,1,1,1,1,1,1,1,1,1,1,1,1,1,1,1,1,1,1,1,1,1,1,1,1,1,1,1,1,1,1,1,1,1,1,1,1,1,1,1,1,1,1,0,1,1,1,1,1,1,1,1,1,1,1,1,1,1,1,1,1,1,1,1,1,1,1,1,1,1,1,1,1,1,1,1,1,1,1,1,1,1,1,1,1,1,1,1,1,1,1,1,1,1,1,1,1,1,1,1,1,1,1,1,1,1,1,1,1,1,1,1,1,1,1,1,1,1,1,1,1,1,1,1,1,1,1,1,1,1,1,1,1,1,1,1,1,1,1,1,1,1,1,1,1,1,1,1,1,1,1,1,1,1,1,1,1,1,1,1,1,1,1,1,1,1,1,1,1,1,1,1,1,1,1,1,1,1,1,1,1,1,1,1,1,1,1,1,1,1,1,1,1,1,1,1,1,1,1,1,1,1,1,1,1,1,1,1,1,1,1,1,1,1,1,1,1,1,1,1,1,1,1,1,1,1,1,1,1,1,1,1,1,1,1,1,1,1,1,1,1,1,1,1,1,1,1,1,1,1,1,1,1,1,1,1,1,1,1,1,1,1,1,1,1,1,1,1,1,1,1,1,1,1,1,1,1,1,1,1,1,1,1,1,1,1,1,1,1,1,1,1,1,1,1,1,1,1,1,1,1,1,1,1,1,1,1,1,1,1,1,1,1,1,1,1,1,1,1,1,1,1,1,1,1,1,1,1,1,1,1,1,1,1,1,1,1,1,1,1,1,1,1,1,1,1,1,1,1,1,1,1,1,1,1,1,1,1,1,1,1,1,1,1,1,1,1,1,1,1,1,1,1,1,1,1,1,1,1,1,1,1,1,1,1,1,1,1,1,1,1,1,1,1,1,1,1,1,1,1,1,1,1,1,1,1,1,1,1,1,1,1,1,1,1,1,1,1,1,1,1,1,1,1,1,1,1,1,1,1,1,1,1,1,1,1,1,1,1,1,1,1,1,1,1,1,1,1,1,1,1,1,1,1,1,1,1,1,1,1,1,1,1,1,1,1,1,1,1,1,1,1,1,1,1,1,1,1,1,1,1,1,1,0,1,1,1,1,1,1,1,1,1,1,1,1,1,1,1,1,1,1,1,1,0,1,1,1,1,1,1,1,1,1,1,1,1,1,1,1,1,1,1,1,1,1,1,1,1,1,1,1,1,1,1,1,1,1,1,1,1,1,1,1,1,1,1,1,1,1,1,1,1,1,1,1,1,1,1,1,1,1,1,1,1,1,0,1,1,1,1,1,1,1,1,1,1,1,1,1,1,1,1,1,1,1,1,1,1,1,1,1,1,1,1,1,1,1,1,1,1,1,1,1,1,1,1,1,1,1,1,1,1,1,1,1,1,1,1,1,1,1,1,1,1,1,1,1,1,1,1,1,1,1,1,1,1,1,1,1,1,1,1,0,1,1,1,1,1,1,1,1,1,1,1,1,1,1,1,1,1,1,1,1,1,1,1,1,1,1,1,1,1,1,1,1,1,1,1,1,1,1,1,1,1,1,1,1,1,1,1,1,1,1,1,1,1,1,1,1,1,1,1,1,1,1,1,1,1,1,1,1,1,1,1,1,1,1,1,1,1,1,1,1,1,1,1,1,1,1,1,1,1,1,1,1,1,1,1,1,1,1,1,1,1,1,1,1,1,1,1,1,1,1,1,1,1,1,1,1,1,1,1,1,1,1,1,1,1,1,1,1,1,1,1,1,1,1,1,1,1,1,1,1,1,1,1,1,1,1,1,1,1,1,1,1,1,1,1,1,1,1,1,1,1,1,1,1,1,1,1,1,1,1,1,1,1,1,1,1,1,1,1,1,1,1,1,1,1,1,1,1,1,1,1,1,1,1,1,1,1,1,1,1,1,1,1,1,1,1,1,1,1,1,1,1,1,1,1,1,1,1,1,1,1,1,1,1,1,1,1,1,1,1,1,1,1,1,1,1,1,1,1,1,1,1,1,1,1,1,1,1,1,1,1,1,1,1,1,1,1,1,1,1,1,1,0,1,1,1,1,1,1,1,1,1,1,1,1,1,1,1,1,1,1,1,1,1,1,1,1,1,1,1,1,1,1,1,1,1,1,1,1,1,1,1,1,1,1,1,1,1,1,1,1,1,1,1,1,1,1,1,1,1,1,1,1,1,1,1,1,1,1,1,1,1,1,1,1,1,1,1,1,1,1,1,1,1,1,1,1,1,1,1,1,1,1,1,1,1,1,1,1,1,1,1,1,1,1,1,1,1,1,1,1,1,0,1,1,1,1,1,1,1,1,1,1,1,1,1,1,1,1,1,1,1,1,1,1,1,1,1,1,1,1,1,1,1,1,1,1,1,1,1,1,1,1,1,1,1,1,1,1,1,1,1,1,1,1,1,1,1,1,1,1,1,1,1,1,1,1,1,1,1,1,1,1,1,1,1,1,1,1,1,1,1,1,1,1,1,1,1,1,1,1,1,1,1,1,1,1,1,1,1,1,1,1,1,1,1,1,1,1,1,1,1,1,1,1,1,1,1,1,1,1,1,1,1,1,1,1,1,1,1,1,1,1,1,1,1,1,1,1,1,1,1,1,1,1,1,1,1,1,1,1,1,1,1,1,1,1,1,1,1,1,1,1,1,1,1,1,1,1,1,1,1,1,1,1,1,1,1,1,1,1,1,1,1,1,1,1,1,1,1,1,1,1,0,1,1,1,1,1,1,1,1,1,1,1,1,1,1,1,1,1,1,1,1,1,1,1,1,1,1,1,1,1,1,1,1,1,1,1,1,1,1,1,1,1,1,1,1,1,1,1,1,1,1,1,1,1,1,1,1,1,1,1,1,1,1,1,1,1,1,1,1,1,1,1,1,1,0,1,1,1,1,1,1,0,1,1,1,1,1,1,1,1,1,1,1,1,1,1,1,1,1,1,1,0,1,1,1,1,1,1,1,1,1,1,1,1,1,1,1,1,1,1,1,1,1,1,1,1,1,1,1,1,1,1,1,1,1,1,1,1,1,1,1,1,1,1,1,1,1,1,1,1,1,1,1,1,1,1,1,1,1,1,0,1,1,1,1,1,1,1,1,1,1,1,1,1,1,1,1,1,1,1,1,1,1,1,1,1,1,1,1,1,1,1,1,1,1,1,1,1,1,1,1,1,1,1,1,1,1,1,1,1,1,1,1,1,1,1,1,1,1,1,1,1,1,1,1,1,1,1,1,1,1,1,1,1,1,1,1,1,1,1,1,1,1,1,1,1,1,1,1,1,1,1,1,1,1,1,1,1,1,1,1,1,1,1,1,1,1,1,1,1,1,1,1,1,1,1,1,1,1,1,1,1,1,1,1,1,1,1,1,1,1,1,1,1,1,1,1,1,1,1,1,1,1,1,1,1,1,1,1,1,1,1,1,1,1,1,1,1,1,1,1,1,1,1,1,1,0,1,1,1,1,0,1,1,1,1,1,1,1,1,1,1,1,1,1,1,1,1,1,0,1,1,1,1,1,1,1,1,0,1,1,1,1,1,1,1,1,1,1,1,1,1,1,1,1,1,1,1,1,1,1,1,1,1,1,1,1,1,1,1,1,1,1,1,1,1,1,1,1,1,1,1,1,1,1,1,1,1,1,1,1,1,1,1,1,1,1,1,1,1,1,1,0,1,0,0,1,1,1,1,1,1,1,1,1,1,1,1,1,1,1,1,0,0,1,1,1,1,1,1,1,1,1,1,1,1,1,0,1,1,1,1,1,1,1,1,1,1,1,1,1,1,1,1,1,1,1,1,1,1,1,1,1,1,1,1,1,1,1,1,1,1,1,1,1,1,1,1,1,1,1,1,1,1,1,1,1,1,1,1,1,1,1,1,1,1,1,1,1,1,1,1,1,1,1,1,1,1,1,1,1,1,1,1,1,1,1,1,1,1,1,1,1,1,1,1,1,1,1,1,1,1,1,1,1,1,1,1,1,1,1,1,1,1,1,1,1,1,1,1,1,1,1,1,1,1,1,1,1,1,1,1,1,1,1,1,1,1,1,1,1,1,1,1,1,1,1,1,1,1,1,1,1,1,1,1,1,1,1,1,1,1,1,1,1,1,1,1,1,1,1,0,1,1,1,1,1,1,1,1,1,1,1,1,1,1,1,1,1,1,1,1,1,1,1,1,1,1,1,1,1,1,1,1,1,1,1,1,1,1,1,1,1,1,0,1,1,1,1,1,1,1,1,0,1,1,1,1,1,1,1,1,1,1,1,1,1,1,1,1,1,1,1,1,1,1,1,1,1,1,1,1,1,1,1,1,1,1,1,1,1,1,1,1,0,1,1,1,1,1,1,1,1,1,1,1,1,1,1,1,1,1,1,1,1,1,1,1,1,1,1,1,1,1,1,1,0,1,1,1,1,1,1,1,1,1,1,1,1,1,1,1,1,1,1,1,1,1,1,1,1,1,1,1,1,1,1,1,1,1,1,1,1,1,1,1,1,1,1,1,1,1,1,1,1,1,1,1,1,1,1,1,1,1,1,1,1,1,1,1,1,1,1,1,1,1,1,1,1,1,1,1,1,1,1,0,1,1,1,1,1,1,1,1,1,1,1,1,1,1,1,1,1,1,1,1,1,1,1,1,1,1,1,1,1,1,1,1,1,1,1,1,1,1,1,1,1,1,1,1,1,1,1,1,1,1,1,1,1,1,1,1,1,1,1,1,1,1,1,1,1,1,1,1,1,1,1,1,1,1,1,1,1,1,0,1,1,1,1,1,1,1,1,1,1,1,1,1,1,1,1,1,1,1,1,1,1,1,1,1,1,1,1,1,1,1,1,1,1,1,1,1,1,1,1,1,1,1,1,1,1,1,1,1,1,1,1,1,1,1,1,1,1,1,0,1,1,1,1,1,1,1,1,1,1,1,1,1,1,1,1,1,1,1,1,1,1,1,1,1,1,1,1,1,1,1,1,1,1,1,1,1,1,1,1,1,1,1,1,1,1,1,1,1,1,1,1,1,1,1,1,1,1,1,1,1,1,1,1,1,1,1,1,1,1,1,1,1,1,1,1,1,1,1,1,1,1,1,1,1,1,1,1,1,1,1,1,1,1,1,1,0,1,1,1,1,1,1,1,1,1,1,1,1,1,1,1,1,1,1,1,1,1,1,1,1,1,1,1,1,1,1,1,1,1,1,1,1,1,1,1,1,1,1,1,1,1,1,1,1,1,1,1,1,1,1,1,1,1,1,1,1,1,1,1,1,1,1,1,1,1,1,1,1,1,1,1,1,1,1,1,1,1,1,1,1,1,1,1,1,1,0,1,1,1,1,1,1,1,1,1,1,1,1,1,1,1,1,1,1,1,1,1,1,1,1,1,1,1,1,1,1,1,1,1,1,1,1,1,1,1,1,1,1,1,1,1,1,1,1,1,1,1,1,1,1,1,1,1,1,1,1,1,1,1,1,1,1,1,1,1,1,1,1,1,1,1,1,1,1,1,1,1,1,1,1,1,1,1,1,1,1,1,1,1,1,1,1,1,1,1,1,1,1,1,1,1,1,1,1,1,1,1,1,1,1,1,1,1,1,1,1,1,1,1,1,1,1,1,1,1,1,1,1,1,1,1,1,1,1,1,1,1,1,1,1,1,1,1,1,1,1,1,1,1,1,1,1,1,1,1,1,1,1,1,1,1,1,0,1,1,1,1,1,1,1,1,1,1,1,1,1,1,1,1,1,1,1,1,1,1,1,1,1,1,1,1,1,1,1,1,1,1,1,1,1,1,1,1,1,1,1,0,1,1,1,1,1,1,1,1,1,1,1,1,1,1,1,1,1,1,1,1,1,1,1,1,1,1,1,1,1,1,1,1,1,1,1,1,1,1,1,1,1,1,1,1,1,1,1,1,1,1,1,1,1,1,1,1,1,1,1,1,1,1,1,1,1,1,1,1,1,1,1,1,1,1,1,1,1,1,1,1,1,1,1,1,1,1,1,1,1,1,1,1,1,1,1,1,1,1,1,1,1,1,1,1,1,1,1,1,1,1,1,1,1,1,1,1,1,1,1,1,1,1,1,1,1,1,1,1,1,1,1,1,1,1,1,1,1,1,1,1,1,1,1,1,1,1,1,1,1,1,1,1,1,1,1,1,1,1,1,1,1,1,1,1,1,1,1,1,1,1,1,1,1,1,1,1,1,1,1,1,1,1,1,1,1,1,1,1,1,1,1,1,1,1,1,1,1,1,1,1,1,1,1,1,1,1,1,1,1,1,1,1,1,1,1,1,1,1,1,1,1,1,1,1,1,1,1,1,1,1,1,1,1,1,1,1,1,1,1,1,1,1,1,1,1,1,1,1,1,1,1,1,1,1,1,1,1,1,1,1,1,1,1,1,1,1,1,1,1,1,1,1,1,1,1,1,1,1,1,1,1,1,1,1,1,1,1,1,1,1,1,1,1,1,1,1,1,1,1,1,1,1,1,0,1,1,1,1,1,1,1,1,1,1,1,1,1,1,1,1,1,1,1,1,1,1,1,1,1,1,1,1,1,1,1,1,1,1,1,1,1,1,1,1,1,1,1,1,1,1,1,1,1,1,1,1,1,1,1,1,1,1,1,1,1,1,1,1,1,1,1,1,1,1,1,1,1,1,1,1,1,1,1,1,1,1,1,1,1,1,1,1,1,1,1,1,1,1,1,1,1,1,1,1,1,1,1,1,1,1,1,1,1,1,1,1,1,1,1,1,1,1,0,1,1,1,1,1,1,1,1,1,1,1,1,1,1,1,1,1,1,1,1,1,1,1,1,1,1,1,1,1,1,1,1,1,1,1,1,1,1,1,1,1,1,1,1,1,1,1,1,1,1,1,1,1,1,1,1,1,1,1,1,1,1,1,1,1,1,1,1,1,1,1,1,1,1,1,1,1,1,1,1,1,1,1,1,1,1,1,1,1,1,1,1,1,1,1,1,1,1,1,1,1,1,1,1,1,1,1,1,1,1,1,1,1,1,1,1,1,1,1,1,1,1,1,1,1,1,1,1,1,1,1,1,1,1,1,1,1,1,1,1,1,1,1,1,1,1,1,1,1,1,1,1,1,1,1,1,1,1,1,1,1,1,1,1,1,1,1,1,1,1,1,1,1,1,1,1,1,1,1,1,0,1,1,1,1,1,1,1,0,1,1,1,1,1,1,1,1,1,1,1,1,1,1,1,1,1,1,1,1,1,1,1,1,1,1,1,1,1,1,1,1,1,1,1,1,1,1,1,1,1,1,1,1,1,1,1,1,1,1,1,1,1,1,1,1,1,1,1,1,1,1,0,1,1,1,1,1,1,1,1,1,1,1,1,1,1,1,1,1,1,1,1,1,1,1,1,1,1,1,1,1,1,1,1,1,1,1,1,0,1,1,1,1,1,1,1,1,1,1,1,1,1,1,1,1,1,1,1,1,1,1,1,1,1,1,1,1,1,1,1,1,1,1,1,1,1,1,1,1,1,1,1,1,1,1,1,1,1,1,1,1,1,1,1,1,1,1,1,1,1,1,1,1,1,1,1,1,1,1,1,1,1,1,1,1,1,1,1,1,1,1,1,1,1,1,1,1,1,1,1,1,1,1,1,1,1,1,1,1,1,1,1,1,1,1,1,1,1,1,1,1,1,1,1,1,1,1,1,1,1,1,1,1,1,1,1,1,1,1,1,1,1,1,1,1,1,1,1,1,1,1,1,1,1,1,1,1,1,1,0,1,1,1,1,1,1,1,1,1,1,1,1,1,1,1,1,1,1,1,1,1,1,1,1,1,1,1,1,1,1,1,1,1,1,1,1,1,1,1,1,1,1,1,1,1,1,1,1,1,1,1,1,1,1,1,1,1,1,1,1,1,1,1,1,1,1,1,1,1,1,1,1,1,1,1,1,1,1,1,1,1,1,1,1,1,1,1,1,1,1,1,1,1,1,1,1,1,1,1,1,1,1,1,1,1,1,1,1,1,1,1,1,1,1,1,1,1,1,1,1,1,1,1,1,1,1,1,1,1,1,1,1,1,1,1,1,1,1,1,1,1,1,1,1,1,1,1,1,1,1,1,1,0,1,1,1,1,1,1,1,1,1,1,1,1,1,1,1,1,1,1,1,1,1,1,1,1,1,1,1,1,1,1,1,1,1,1,1,1,1,1,1,1,1,1,1,1,1,1,1,1,1,1,1,1,1,1,1,1,1,1,1,1,1,1,1,1,1,1,1,1,1,1,1,1,1,1,1,1,1,1,1,1,1,1,1,1,1,1,1,1,1,1,1,1,1,1,1,1,1,1,1,1,1,1,1,1,1,1,1,1,1,1,1,1,1,1,1,1,1,1,1,1,1,1,1,1,1,1,1,1,1,1,1,1,1,1,0,0,1,1,1,1,1,1,1,1,1,1,1,1,1,1,1,1,1,1,1,1,1,1,1,1,1,1,1,1,1,1,1,1,1,1,1,1,1,1,1,1,1,1,1,1,1,1,1,1,1,1,1,1,1,1,1,1,1,0,1,0,1,1,1,1,1,1,1,1,1,1,1,1,1,1,1,1,1,1,1,1,1,1,1,1,1,1,1,1,1,1,1,1,1,1,1,1,1,1,1,1,1,1,1,1,1,1,1,1,1,1,1,1,1,1,1,1,1,1,1,1,1,1,1,1,1,1,1,1,1,1,1,1,1,1,1,1,1,1,0,1,1,1,1,1,1,1,1,1,1,1,1,1,1,1,1,1,1,1,1,1,1,1,1,1,1,1,1,1,0,1,1,1,1,1,1,1,1,1,1,1,1,1,1,1,1,1,1,1,1,1,1,1,1,1,1,1,1,1,1,1,1,1,1,1,1,1,1,1,1,1,1,1,1,1,1,1,1,1,1,1,1,1,1,1,1,1,1,1,1,1,1,1,1,1,1,1,1,1,1,1,1,1,1,1,1,1,1,1,1,1,1,1,1,1,1,1,1,1,1,1,1,1,1,1,1,1,1,1,1,1,1,1,1,1,1,1,1,1,1,1,1,1,1,1,1,1,1,1,1,1,1,1,1,1,1,1,1,1,1,1,1,1,1,1,1,1,1,1,1,1,1,1,1,1,1,1,1,1,1,1,1,1,1,1,1,1,1,1,1,1,1,1,1,1,1,1,1,1,1,1,1,1,1,1,1,1,1,1,1,1,1,1,1,1,1,1,1,1,1,1,1,1,1,1,1,1,1,1,1,1,1,1,1,1,1,1,1,1,1,1,1,1,1,1,1,1,1,0,1,1,0,0,1,0,1,1,1,1,1,1,1,1,1,1,1,1,1,1,1,1,1,1,1,1,1,1,1,1,1,1,1,1,1,1,1,1,1,1,1,1,1,1,1,1,1,1,1,1,1,1,1,1,1,1,1,1,1,1,1,1,1,1,1,1,1,1,1,1,1,1,1,1,1,1,1,1,1,1,1,1,1,1,1,1,1,1,1,1,1,1,1,1,1,1,1,1,1,0,1,1,1,1,1,1,1,1,1,1,1,1,1,1,1,1,1,1,1,1,1,1,1,1,1,1,1,1,1,1,1,1,1,1,1,1,1,1,1,1,1,1,1,1,1,1,1,1,1,1,1,1,1,1,1,1,1,1,1,1,1,1,1,1,1,1,1,1,1,1,1,1,1,1,1,1,1,1,1,1,1,1,1,1,1,1,1,1,1,1,1,1,1,1,1,1,1,1,1,1,1,1,1,1,1,1,1,1,1,1,1,1,1,1,1,1,1,1,1,1,1,1,1,1,1,1,1,1,1,1,1,1,1,1,1,1,1,1,1,1,0,1,1,1,1,1,1,1,1,1,1,1,1,1,1,1,1,1,1,1,1,1,1,1,1,1,1,1,1,1,1,1,1,1,1,1,1,1,1,1,1,1,1,1,1,1,1,1,1,1,1,1,1,1,1,1,1,1,1,1,1,1,1,1,1,1,1,1,1,1,1,1,1,1,1,1,1,1,1,1,1,1,1,1,1,1,1,1,1,1,1,1,1,1,1,1,1,1,1,1,1,1,1,1,1,1,1,1,1,1,1,1,1,1,1,1,1,1,1,1,1,1,1,1,1,1,1,1,1,1,1,1,1,1,0,1,1,1,1,1,1,1,1,1,1,1,1,1,1,1,1,1,1,1,1,1,1,1,1,1,1,1,1,1,1,1,1,1,1,1,1,1,1,1,1,1,1,1,1,1,1,1,1,1,1,0,1,1,1,1,1,1,1,1,1,1,1,1,1,1,1,1,1,1,1,1,1,1,1,1,1,1,1,1,1,1,1,1,1,1,1,1,1,1,1,1,1,1,1,0,1,1,1,1,1,1,1,1,1,1,1,1,1,1,1,1,1,1,1,1,1,1,1,1,1,1,1,1,1,1,1,1,1,1,1,1,1,1,1,1,1,1,1,1,1,1,1,1,1,1,1,1,1,1,1,1,1,1,1,1,1,1,1,1,1,1,1,1,1,1,0,1,1,1,1,1,1,1,1,1,1,1,1,1,1,1,1,1,1,1,1,1,1,1,1,1,1,1,1,1,1,1,1,1,1,1,1,1,1,1,1,1,1,1,1,1,1,1,1,1,1,1,1,1,1,1,1,1,1,1,1,1,1,1,1,1,1,1,1,1,1,1,1,1,1,1,1,1,1,1,1,1,1,1,1,1,1,1,1,1,1,1,1,1,1,1,1,1,1,1,1,1,1,1,1,1,1,1,1,1,1,1,1,1,1,1,1,1,1,1,1,1,1,1,1,1,1,1,1,1,1,1,1,1,1,1,1,1,1,1,1,1,1,1,1,1,1,1,1,1,1,1,1,1,1,1,1,1,1,1,1,1,1,1,1,1,1,1,1,1,1,1,1,1,1,1,1,1,1,1,1,1,1,1,1,1,1,1,1,1,1,1,1,1,1,1,1,1,1,1,1,1,1,0,0,1,1,1,1,1,1,1,1,1,1,1,1,1,1,1,1,1,1,1,1,1,1,1,1,1,1,1,1,1,1,1,1,1,1,1,1,1,1,1,1,1,1,1,1,1,1,1,1,1,1,1,1,1,1,1,1,1,1,1,1,1,1,1,1,1,1,1,1,1,1,1,1,1,1,1,1,1,1,1,1,1,1,1,1,1,1,1,1,1,0,1,1,1,1,1,1,1,1,1,1,1,1,1,1,1,1,1,1,1,1,1,1,1,1,1,1,1,1,1,1,1,1,1,1,1,1,1,1,1,1,1,1,1,1,1,1,1,1,1,1,1,1,1,1,1,1,1,1,1,1,1,1,1,1,1,1,1,1,1,1,1,1,1,1,1,1,1,1,1,1,1,1,1,1,1,1,1,1,1,1,1,1,1,1,1,1,1,1,1,1,1,1,1,1,1,1,1,1,1,1,1,1,1,1,1,1,1,1,1,1,1,1,1,1,1,1,1,1,1,1,1,1,1,1,1,1,1,1,1,1,1,1,1,1,1,1,1,1,1,1,0,1,1,1,1,1,1,1,1,1,1,1,1,1,1,1,1,1,1,1,1,1,0,1,1,1,1,1,1,1,1,1,1,1,1,1,1,1,1,1,1,1,1,1,1,1,1,1,1,1,1,1,1,1,1,1,1,1,1,1,1,1,1,1,1,1,1,1,1,1,1,1,1,1,1,1,1,1,1,1,1,1,1,1,1,1,1,1,1,1,1,1,1,1,1,1,1,1,1,1,1,1,1,1,1,1,1,1,1,1,1,1,1,1,1,1,1,1,1,1,1,1,1,1,1,1,1,1,1,1,1,1,1,1,1,1,1,1,1,1,1,1,1,1,1,1,1,0,1,1,0,1,1,1,1,1,1,1,1,1,1,1,1,1,1,1,1,1,1,1,1,1,1,1,1,1,1,1,1,1,1,1,1,1,1,1,1,1,1,1,1,1,1,1,1,1,1,1,1,1,1,1,1,1,1,0,1,1,1,1,1,1,1,1,1,0,1,1,1,1,1,1,1,1,1,1,0,1,1,1,1,1,1,1,1,1,1,1,1,1,1,1,1,1,1,1,1,1,1,1,1,1,1,1,1,1,1,1,1,1,1,1,1,1,1,1,1,1,1,1,1,1,1,1,1,1,1,1,1,1,1,1,1,1,1,1,1,1,1,1,1,1,1,1,1,1,1,1,1,1,1,1,1,1,1,1,1,1,1,1,1,0,1,1,1,1,1,1,1,1,1,1,1,1,1,1,1,1,1,1,1,1,1,1,1,1,1,1,1,1,1,1,1,1,1,1,1,1,1,1,1,1,1,1,1,1,1,1,1,1,1,1,1,1,1,1,1,1,1,1,1,1,1,1,1,0,1,1,1,1,1,1,1,1,1,0,1,1,1,1,1,1,1,1,1,1,1,1,1,1,1,1,1,1,1,1,1,1,1,1,1,1,1,1,1,1,1,1,1,1,1,1,1,1,1,1,1,1,1,0,1,1,1,1,1,1,1,1,1,1,1,1,1,1,1,1,1,1,1,1,1,1,1,1,1,1,1,1,1,1,1,1,1,1,1,1,1,1,1,1,1,1,1,1,1,1,1,1,1,1,1,1,1,1,1,1,1,1,1,1,1,1,1,1,1,1,1,1,1,1,1,1,1,1,1,1,1,1,1,1,1,1,1,1,1,1,1,1,1,1,1,1,1,1,1,1,1,1,1,1,1,1,1,1,1,1,1,1,1,1,1,1,1,1,1,1,1,1,1,1,1,1,1,1,1,1,1,1,1,1,1,1,1,1,1,1,1,1,1,1,1,1,1,1,1,1,1,0,1,1,1,1,1,0,1,1,1,1,1,1,1,1,1,1,1,1,1,1,0,1,1,1,1,1,1,1,1,1,1,1,1,1,1,1,1,1,1,1,1,1,1,1,1,1,1,1,1,1,1,1,1,1,1,1,1,1,1,1,1,1,1,1,1,1,1,1,1,1,1,1,1,1,0,1,1,1,1,1,1,1,1,1,1,1,1,1,1,1,1,1,1,1,1,1,1,1,1,1,1,1,1,1,1,1,1,1,1,1,1,1,1,1,1,1,1,1,1,1,1,1,1,1,1,1,1,1,1,1,1,1,1,1,1,1,1,1,1,1,1,1,1,1,1,1,1,1,1,1,1,1,1,1,1,1,1,1,1,1,1,1,1,1,1,1,1,1,1,1,1,1,1,1,1,1,1,1,1,1,1,1,1,1,1,1,1,1,1,0,0,1,1,1,1,1,1,1,1,1,1,1,1,1,1,1,1,1,1,1,1,1,1,1,1,1,1,1,1,1,1,1,1,1,1,1,1,1,1,1,1,1,1,1,1,1,1,1,1,1,1,1,1,1,1,1,0,1,1,1,0,0,1,1,1,1,1,1,1,1,1,1,1,1,1,1,1,1,1,1,1,1,1,1,1,1,1,1,1,1,1,1,1,1,1,1,1,1,1,1,1,1,1,1,1,1,1,1,1,1,1,1,1,1,1,1,1,1,1,1,1,1,1,1,1,1,0,1,1,1,1,1,1,1,1,1,1,1,1,1,1,1,1,1,1,1,1,1,1,1,1,1,1,1,1,1,1,1,1,1,1,1,1,1,1,1,1,1,1,1,1,1,1,1,1,1,1,1,1,1,1,1,1,1,1,1,1,1,1,1,1,1,1,1,1,1,1,1,1,1,1,1,1,1,1,1,1,1,1,1,1,1,1,1,1,1,1,1,1,1,1,1,1,1,1,1,1,1,1,1,1,1,1,1,1,1,1,1,1,1,1,1,1,1,1,1,1,1,1,1,1,1,1,1,1,1,1,1,1,1,1,1,1,1,1,1,1,1,0,1,1,1,1,1,1,1,1,1,1,1,1,1,1,1,1,1,0,1,1,1,1,1,1,1,1,1,1,1,1,1,1,1,1,1,1,1,1,1,1,1,1,1,1,1,1,1,1,1,1,1,1,1,1,1,1,1,1,1,1,1,1,1,1,1,1,1,1,1,1,1,1,1,1,1,1,1,1,1,1,1,1,1,1,1,1,1,1,1,1,1,1,1,1,0,1,1,1,1,1,1,1,1,1,1,1,1,1,1,1,1,1,1,1,1,1,1,1,1,1,1,1,1,1,1,1,1,1,1,1,0,0,1,1,1,1,1,1,1,1,1,1,1,1,1,1,1,1,1,1,1,1,1,1,1,1,1,1,1,1,1,1,1,1,1,1,1,1,1,1,1,1,1,1,1,1,1,1,1,1,1,1,1,1,1,1,1,1,1,1,1,1,1,1,1,1,1,1,1,1,1,1,1,1,1,1,1,1,1,1,1,1,1,1,1,1,1,1,1,1,1,1,1,1,1,1,1,1,1,1,1,1,1,1,1,1,1,1,1,1,1,1,1,1,1,1,1,1,1,1,1,1,1,1,1,1,1,1,1,1,1,1,1,1,1,1,1,1,1,1,1,1,0,1,1,1,1,1,1,1,1,1,1,1,1,1,1,1,1,1,1,1,1,1,1,1,1,1,1,1,0,1,1,1,1,1,1,1,1,1,1,1,1,1,1,1,1,1,1,1,1,1,1,1,1,1,1,1,1,1,1,1,1,1,1,1,1,1,1,1,1,1,1,1,1,1,1,1,1,1,1,1,1,1,1,1,1,1,1,1,1,1,1,1,1,1,1,1,1,1,1,1,1,1,1,1,1,1,1,1,1,1,1,1,1,1,1,1,1,1,1,1,1,1,1,1,1,1,1,1,1,1,1,1,1,1,1,1,1,1,1,1,1,1,1,1,1,1,1,1,1,1,1,1,1,1,1,1,1,1,1,1,1,1,1,1,1,1,1,1,1,1,1,1,1,1,1,1,1,1,1,1,1,1,1,1,1,1,1,1,1,1,1,1,1,1,1,1,1,1,1,1,1,1,1,1,1,1,1,1,1,1,1,1,1,1,1,1,1,1,1,1,1,1,1,1,1,1,1,1,1,1,1,1,1,1,1,1,1,1,1,1,1,1,1,1,1,1,1,1,1,1,1,1,1,1,1,1,1,1,1,1,1,1,1,1,1,1,1,1,1,1,1,1,1,1,1,1,1,1,1,1,1,1,1,1,1,1,1,1,1,1,1,1,1,1,1,1,1,1,1,1,1,1,1,1,1,1,1,1,1,1,1,1,1,1,1,1,1,1,1,1,1,1,1,1,1,1,1,1,1,1,1,1,1,1,1,1,1,1,1,1,1,1,1,1,1,1,1,1,1,1,0,1,1,1,1,1,1,1,1,1,1,1,1,1,1,1,1,1,1,1,1,1,1,1,1,1,1,1,1,1,1,1,1,1,1,1,1,1,1,1,1,1,1,1,1,1,1,1,1,1,1,1,1,1,1,1,0,0,1,1,1,1,1,1,1,1,1,1,1,1,1,1,1,1,1,1,1,1,1,1,1,1,1,1,1,1,1,1,1,1,1,1,1,1,1,1,1,1,1,1,1,1,1,1,1,1,1,1,1,1,1,1,1,1,1,1,1,1,1,1,1,1,1,1,1,1,1,1,1,1,1,1,1,1,1,1,1,1,1,1,1,1,1,1,1,1,1,1,1,1,1,1,1,1,1,1,1,1,1,1,1,1,1,1,1,1,1,1,1,1,1,1,1,1,1,1,1,1,1,1,1,1,1,1,1,1,1,1,1,1,1,1,1,1,1,1,1,1,1,1,1,1,1,1,1,0,1,0,1,1,1,1,1,1,1,1,1,1,1,1,1,1,1,1,1,1,1,1,1,1,1,1,1,1,1,1,1,1,1,1,1,1,1,1,1,1,1,1,1,1,1,1,1,1,1,1,1,1,1,1,1,1,1,1,1,1,1,1,1,1,1,1,1,1,1,1,1,1,1,1,1,1,1,1,1,1,1,1,1,1,1,1,1,1,1,1,1,1,1,1,1,1,1,1,1,1,1,1,1,1,1,1,1,1,1,1,1,1,1,1,1,1,1,1,1,1,1,1,1,1,1,1,1,1,1,1,1,1,1,1,1,1,1,1,1,1,1,1,1,1,1,1,1,1,1,1,1,1,1,1,1,1,1,1,1,1,1,1,1,1,1,1,1,1,1,1,1,1,1,1,1,1,1,1,1,1,1,1,1,1,1,1,1,1,1,1,1,1,1,1,1,1,1,1,1,1,1,1,1,1,1,1,1,1,1,1,1,1,1,1,1,1,1,1,1,1,1,1,1,1,1,1,1,1,1,1,1,1,1,1,1,1,1,1,1,1,1,1,1,1,1,1,1,1,1,1,1,1,1,1,1,1,1,1,1,1,1,1,1,1,1,1,1,1,1,1,1,1,1,1,1,1,1,1,1,1,1,1,1,1,1,1,1,1,1,1,1,1,1,1,1,1,1,1,1,1,1,1,1,1,1,1,1,1,1,1,1,1,1,1,1,1,1,1,1,0,1,1,1,1,1,1,1,1,1,1,1,1,1,1,1,1,1,1,1,1,1,1,1,1,1,1,1,1,1,1,1,1,1,1,1,1,1,1,1,1,1,1,1,1,1,1,1,1,1,1,1,1,1,1,1,1,1,1,1,1,1,1,1,1,1,1,1,1,1,1,1,1,1,1,1,1,1,1,1,1,1,1,0,1,1,1,1,1,1,1,1,1,1,1,1,1,1,1,1,1,1,1,1,1,1,1,1,1,1,1,1,1,1,1,1,1,1,1,1,1,1,1,1,1,1,1,1,1,1,1,1,1,1,1,1,1,1,1,1,1,1,1,1,1,1,1,1,1,1,1,1,1,1,1,1,1,1,1,1,1,1,1,1,1,1,1,1,1,1,1,1,1,1,1,1,1,1,0,0,1,1,1,1,1,1,1,1,1,1,1,1,1,1,1,1,1,1,1,1,1,1,1,1,1,1,1,1,1,1,1,1,1,1,1,1,1,1,1,1,1,1,1,1,1,1,1,1,1,1,1,1,1,1,1,1,1,1,1,1,1,1,1,1,1,1,1,1,1,1,1,1,1,1,1,1,1,1,1,1,1,1,1,1,1,1,1,1,1,1,1,1,1,1,1,1,1,1,1,1,1,1,1,1,1,1,1,1,1,1,1,1,1,1,1,1,1,1,1,1,1,1,1,1,1,1,1,1,1,1,1,1,1,1,1,1,1,1,1,1,1,1,1,1,1,1,1,1,1,1,1,1,1,1,1,1,1,1,1,0,1,1,1,1,1,1,1,1,1,1,1,1,1,1,1,1,1,1,1,1,1,1,1,1,1,1,1,1,1,1,1,1,0,1,1,1,1,1,1,1,1,1,1,1,1,1,1,1,1,0,0,1,1,1,1,1,1,1,1,1,1,1,1,1,1,1,1,1,1,1,1,1,1,1,1,1,1,1,1,1,1,1,1,1,1,1,1,1,1,1,1,1,1,1,0,1,1,1,1,1,1,1,1,1,1,0,1,1,1,1,1,1,1,1,1,1,1,1,1,1,1,1,1,1,1,1,1,1,1,1,1,1,1,1,1,1,1,1,1,1,1,1,1,1,1,1,1,1,1,1,1,1,1,1,1,1,1,1,1,1,1,1,1,1,1,1,1,1,1,1,1,1,1,0,0,0,0,0,1,1,1,1,1,1,1,1,1,1,1,1,1,1,1,1,1,1,1,1,1,1,1,1,1,1,1,1,1,1,1,1,1,1,1,1,1,1,1,1,1,1,1,1,1,1,1,1,1,1,1,1,1,1,1,1,1,1,1,1,1,1,1,1,1,1,1,1,1,1,1,1,1,1,1,0,1,1,1,1,1,1,1,1,1,1,1,1,1,1,1,1,1,1,1,1,1,1,1,1,1,1,1,1,1,1,1,1,1,1,1,1,1,1,1,1,1,1,1,1,1,1,1,1,1,1,1,1,1,1,1,1,1,1,1,1,1,1,1,1,1,1,1,1,1,1,1,1,1,1,1,1,1,1,1,1,1,1,1,1,1,1,1,1,1,1,1,1,1,1,0,1,1,1,1,1,1,1,1,1,1,1,1,1,1,1,1,1,1,1,1,1,1,1,1,1,1,0,1,1,1,1,1,1,1,1,1,1,1,1,1,1,1,1,1,1,1,1,1,1,1,1,1,1,1,1,1,1,1,1,1,1,1,1,1,1,1,1,1,1,0,1,1,1,1,1,1,1,1,1,1,1,1,1,1,1,1,1,1,1,1,1,1,1,1,1,1,1,1,1,1,1,1,1,1,1,1,1,1,1,1,1,1,1,1,1,1,1,1,1,1,1,1,1,1,1,1,1,1,1,1,1,1,1,1,1,1,1,1,1,1,1,1,1,0,1,1,0,1,1,1,1,1,1,1,1,1,1,1,1,1,1,1,1,1,1,1,1,1,1,1,1,1,1,1,1,1,1,1,1,1,1,1,1,1,1,1,1,1,1,1,1,1,1,1,1,1,1,1,1,1,1,1,1,1,1,1,1,1,1,1,1,1,1,1,0,1,1,1,1,1,1,1,1,1,1,1,1,1,1,1,1,1,1,1,1,1,1,1,1,1,1,1,1,1,1,1,1,1,1,1,1,1,1,1,1,1,1,1,1,1,1,1,1,1,1,1,1,1,1,1,1,1,1,1,1,1,1,1,1,1,1,1,1,1,1,1,1,1,1,1,1,1,1,1,1,1,1,1,1,1,1,1,1,1,1,1,1,1,1,1,1,1,1,1,1,1,1,1,1,1,1,1,1,1,1,1,1,1,1,1,1,1,1,1,1,1,1,1,1,1,1,1,1,1,1,1,0,1,1,1,1,1,1,1,1,1,1,1,1,1,1,1,1,1,1,1,1,1,1,1,1,1,1,1,1,1,1,1,1,1,1,1,1,1,1,1,1,1,1,1,1,1,1,1,1,1,1,1,1,1,1,1,1,1,1,1,1,1,1,1,1,1,1,1,1,1,1,0,1,1,1,1,1,1,1,1,1,1,1,1,1,1,1,1,1,1,1,1,1,1,1,1,1,1,1,1,1,1,1,1,1,1,1,1,1,1,1,1,1,1,1,1,1,1,1,1,1,1,1,1,1,1,1,1,1,1,1,1,1,1,1,1,1,1,1,1,1,1,1,1,1,1,1,1,1,1,1,1,1,1,1,1,1,1,1,1,1,1,1,1,1,1,1,1,1,1,1,1,1,1,1,1,1,1,1,1,1,1,1,1,1,1,1,1,1,1,1,1,1,1,1,1,1,1,1,1,1,1,1,1,1,1,1,1,1,1,1,1,1,1,1,1,1,1,1,1,1,1,1,1,1,1,1,1,1,1,0,1,1,1,1,1,1,1,1,1,1,1,1,1,1,1,1,1,1,1,1,1,1,1,1,1,1,1,1,1,1,1,1,1,1,1,1,1,1,1,1,1,1,1,1,1,1,1,1,1,1,1,1,1,1,1,1,1,1,1,1,1,1,1,1,1,1,1,1,1,1,1,1,1,1,1,1,1,1,1,1,1,1,1,1,1,1,1,1,1,1,1,1,1,1,1,1,1,1,1,1,0,1,1,1,1,1,1,1,1,1,1,1,1,1,1,1,1,1,1,1,1,1,1,1,1,1,1,1,1,1,1,1,1,1,1,1,1,1,1,1,1,1,1,1,1,1,1,1,1,1,1,1,1,1,1,1,1,1,1,1,1,1,1,1,1,1,1,1,1,1,1,1,1,1,1,1,1,1,1,1,1,1,1,1,1,1,1,1,1,1,1,1,1,1,1,1,1,1,1,1,1,1,1,1,1,1,1,1,1,1,1,1,1,1,1,1,1,1,1,1,1,1,1,1,1,1,1,1,1,1,1,1,1,1,1,1,1,1,1,1,1,1,1,1,1,1,1,1,1,1,1,1,1,1,1,1,1,1,1,1,1,1,1,1,1,1,1,1,1,1,1,1,1,1,1,1,1,1,1,1,1,1,1,1,1,1,1,1,1,1,1,1,1,1,1,1,1,1,1,1,1,1,1,1,1,1,1,1,1,1,1,1,1,1,1,1,1,1,1,1,1,1,1,1,1,1,1,1,1,1,1,1,1,1,1,1,1,1,1,1,1,1,1,1,1,1,1,0,0,1,0,0,1,1,1,1,1,1,1,1,1,1,1,1,1,1,1,1,1,1,1,1,1,1,1,1,1,1,1,1,1,1,1,1,1,1,1,1,1,1,1,1,1,1,1,1,1,1,1,1,1,1,1,1,1,1,1,1,1,1,1,1,1,1,1,1,1,1,1,1,1,1,1,1,1,1,1,1,1,1,1,1,1,1,1,1,0,1,1,1,1,1,1,1,1,1,1,1,1,1,1,1,1,1,1,1,1,1,1,1,1,1,1,1,1,1,1,1,1,1,1,1,1,1,1,1,1,1,1,1,1,1,1,1,1,1,1,1,1,1,1,1,1,1,1,1,0,1,1,1,1,1,1,1,1,1,1,1,1,1,1,1,1,1,1,1,1,1,1,1,1,1,1,1,1,1,1,1,1,1,1,1,1,1,1,1,1,1,1,1,0,1,0,1,1,1,0,0,1,1,1,1,1,1,1,1,1,1,1,1,1,1,1,1,1,1,1,1,1,1,1,1,1,1,1,1,1,1,1,1,1,1,1,1,1,1,1,1,1,1,1,1,1,1,1,1,1,1,1,1,1,1,1,1,1,1,1,1,1,1,1,1,1,1,1,1,1,1,1,1,1,1,1,1,1,1,1,1,1,1,1,1,1,1,1,1,1,1,1,1,1,1,1,1,1,1,1,1,1,1,1,1,1,1,1,1,1,1,1,1,1,1,1,0,1,1,1,1,1,1,1,1,1,1,1,1,1,1,1,1,1,1,1,1,1,1,1,1,1,1,1,0,1,1,1,1,1,1,1,1,1,1,1,1,1,1,1,1,1,1,1,1,1,1,1,1,1,1,1,1,1,1,1,1,1,1,1,1,1,1,1,1,1,1,1,1,1,1,1,1,1,1,1,1,1,1,1,1,1,1,1,1,1,1,1,1,1,1,1,1,1,1,1,1,1,1,1,1,1,1,1,1,1,1,1,1,1,1,1,1,1,1,1,1,1,1,1,0,1,1,1,1,1,1,1,1,1,1,1,1,1,1,1,1,1,1,1,1,1,1,1,1,1,1,1,1,1,1,1,1,1,1,1,1,1,1,1,1,1,1,1,1,1,1,1,1,1,1,1,1,1,1,1,1,1,1,1,1,1,1,0,1,1,1,1,1,1,1,1,1,1,1,1,1,1,1,1,1,1,1,1,1,0,0,1,1,1,1,1,1,1,1,1,1,1,1,0,1,1,1,1,1,1,1,1,1,1,1,1,1,1,1,1,0,1,1,1,1,1,1,1,1,1,1,1,1,1,1,1,1,1,1,1,1,1,1,1,1,1,1,1,1,1,1,1,1,1,1,1,1,1,1,1,1,1,1,1,1,1,1,1,1,1,1,1,1,1,1,1,1,1,1,1,1,1,1,1,1,1,1,1,1,1,1,1,1,1,1,1,1,1,1,1,1,1,1,1,0,1,1,1,1,1,1,1,1,1,1,1,1,1,1,1,1,1,1,1,1,1,1,1,1,1,1,1,1,1,1,1,1,1,1,1,1,1,1,1,1,1,1,1,1,1,1,1,0,1,1,1,0,1,1,1,1,1,1,1,1,1,1,1,1,1,1,1,1,1,1,1,1,1,1,1,1,1,1,1,1,1,1,1,0,1,1,1,1,1,1,1,1,1,1,1,1,1,1,1,1,0,1,1,1,1,1,1,1,1,1,1,1,1,1,1,1,1,1,1,1,1,1,1,1,1,1,1,1,1,1,1,1,1,1,0,1,1,1,1,1,1,1,1,1,1,1,1,1,1,1,1,1,1,1,1,1,1,1,1,1,1,1,1,1,1,1,1,1,1,1,1,1,1,1,1,1,1,1,1,1,1,1,1,1,1,1,1,1,1,1,1,1,1,1,1,1,0,1,1,1,1,1,1,1,1,1,1,1,1,1,1,1,1,1,1,1,1,1,1,1,1,1,1,1,1,1,1,1,1,1,1,1,1,1,1,1,1,1,1,1,1,1,1,1,1,1,1,1,0,0,1,1,1,1,1,1,1,1,1,1,1,1,1,1,1,0,1,1,1,1,1,1,1,1,1,1,1,1,1,1,1,1,1,1,1,1,1,1,1,1,1,1,1,1,1,1,1,1,1,1,1,1,1,1,1,1,1,1,1,1,1,1,1,1,1,1,1,1,1,1,1,1,1,1,1,1,1,1,1,1,1,1,1,1,1,1,1,1,1,1,1,0,1,1,1,1,1,1,1,1,1,1,1,1,1,1,1,1,1,1,1,1,1,0,1,1,1,1,1,1,1,1,1,1,1,1,1,1,1,1,1,1,1,1,1,1,1,1,1,1,1,1,1,1,1,1,1,1,1,1,1,1,1,1,1,1,1,1,1,1,1,1,1,1,1,1,1,1,1,1,1,1,1,1,1,1,1,1,1,1,1,1,1,1,1,1,1,1,1,1,1,1,1,1,1,1,1,1,1,1,1,1,1,1,1,1,1,1,1,1,1,1,1,1,1,1,1,1,1,1,1,1,1,1,1,1,1,1,1,1,1,1,1,1,1,1,1,1,1,1,1,1,1,1,1,1,1,1,1,1,1,1,1,1,1,1,1,1,1,1,1,1,1,1,1,1,1,1,1,1,1,1,1,1,1,1,1,1,1,1,1,1,1,1,0,0,1,1,1,1,1,1,1,1,1,1,1,1,1,1,1,1,1,1,1,1,1,1,1,1,1,1,1,1,1,1,1,1,1,1,1,1,1,1,1,1,1,1,1,1,1,1,1,1,1,1,1,1,1,1,1,1,1,1,1,1,1,1,1,1,1,1,1,1,1,1,1,1,1,1,1,1,1,1,1,1,1,1,1,1,1,1,1,1,1,1,1,1,1,1,1,1,1,1,1,1,1,1,1,1,1,1,1,1,1,1,1,1,1,1,1,1,1,1,1,1,1,1,1,1,1,1,1,1,1,1,1,1,1,1,1,1,1,1,1,1,1,1,1,1,1,1,1,1,1,0,1,1,1,1,1,1,1,1,1,1,0,1,1,1,1,1,1,1,1,1,1,1,1,1,1,1,1,0,1,1,1,1,1,1,1,1,1,1,1,1,1,1,1,1,1,1,1,1,1,1,1,1,1,1,1,1,1,1,1,1,1,1,1,1,1,1,1,1,1,1,1,1,1,1,1,1,1,1,1,1,1,1,1,1,1,1,1,1,1,1,1,1,1,1,1,1,1,1,1,1,1,1,1,1,1,1,1,1,1,1,1,1,1,1,1,1,1,1,1,1,1,1,1,1,1,1,1,1,1,1,1,1,1,1,1,1,1,1,1,1,1,1,1,1,1,1,1,1,1,1,1,1,0,1,1,1,1,1,1,1,1,1,1,1,1,1,1,1,1,1,1,1,1,1,1,1,1,1,1,1,1,1,1,1,1,1,1,1,1,1,1,1,1,1,1,1,1,1,1,1,1,1,1,1,1,1,1,1,1,1,1,1,1,1,1,1,1,1,1,1,1,1,1,1,1,1,1,1,1,1,1,1,1,1,1,1,1,1,1,1,1,1,1,1,1,1,1,1,1,1,1,1,1,1,1,0,1,1,1,1,1,1,1,1,1,1,1,1,1,1,1,1,1,1,1,1,1,1,1,1,1,1,1,1,1,1,1,1,1,1,1,1,1,1,1,1,1,1,1,1,1,1,1,1,1,1,1,1,1,1,1,1,1,1,1,1,1,1,1,1,1,1,1,1,1,1,1,1,1,1,1,1,1,1,1,1,1,1,1,1,1,1,1,1,1,1,1,0,1,1,1,1,1,1,1,1,1,1,1,1,1,1,1,1,1,1,1,1,1,1,1,1,0,1,1,1,1,1,1,1,1,1,1,1,1,1,1,0,1,1,1,1,1,1,1,1,1,1,1,1,1,1,1,1,1,1,1,1,1,1,1,1,1,1,1,1,1,1,1,1,1,1,1,1,1,1,1,1,1,1,1,1,1,1,1,1,1,1,1,1,1,1,1,1,1,1,1,1,1,1,1,1,1,1,1,1,1,1,1,1,1,1,1,1,1,1,1,1,1,1,1,1,1,1,1,1,1,1,1,1,1,1,1,1,1,1,1,1,1,1,1,1,1,1,1,1,1,1,1,1,1,1,1,1,1,1,1,1,1,1,1,1,1,1,1,1,1,1,1,1,1,1,1,1,1,1,1,1,1,1,1,1,1,1,0,1,1,1,1,1,1,1,1,1,1,1,1,1,1,1,1,1,1,1,1,1,1,1,1,1,1,1,1,1,1,1,1,1,1,1,1,1,1,1,1,1,1,1,1,1,1,1,1,1,1,1,1,1,1,1,1,1,1,1,1,1,1,1,1,1,1,1,1,1,1,1,1,1,1,1,1,1,1,1,1,1,1,1,1,1,1,1,1,1,1,1,1,1,1,1,1,1,1,1,1,1,1,1,1,1,1,1,1,1,1,1,1,1,1,1,1,1,1,1,1,1,1,1,1,1,1,1,1,1,1,1,1,1,1,1,1,1,1,1,1,1,1,1,1,1,1,1,1,1,1,1,1,1,1,1,1,1,1,1,1,1,1,1,1,1,1,1,1,1,1,1,1,1,1,1,1,1,1,1,1,1,1,1,1,1,1,1,1,1,1,1,1,1,1,1,1,1,1,1,1,1,1,1,1,1,1,1,1,1,1,1,1,1,1,1,1,1,1,1,1,1,1,1,1,1,1,1,1,1,1,1,1,1,1,1,1,1,1,1,1,1,1,1,1,1,1,1,1,1,1,1,1,1,1,1,1,1,1,1,1,1,1,1,1,1,1,1,1,1,1,1,1,1,1,1,1,1,1,1,1,1,1,1,1,1,1,1,1,1,1,1,1,1,1,1,1,1,1,1,1,1,1,1,1,1,1,1,1,1,1,1,1,1,1,1,1,1,1,1,1,1,1,1,1,1,1,1,1,1,1,1,1,1,1,1,1,1,1,1,1,1,1,1,1,1,1,1,1,1,1,1,1,1,1,1,1,1,1,1,1,1,1,1,1,1,1,1,1,1,1,1,1,1,1,1,1,1,1,1,1,1,1,1,1,1,1,1,1,1,1,1,1,1,1,1,1,1,1,1,1,1,1,1,1,1,1,1,1,1,1,1,1,1,1,1,1,1,1,1,1,1,1,1,1,1,1,1,1,1,1,1,1,1,1,1,1,1,1,1,1,1,1,1,1,1,0,1,1,1,1,1,1,1,1,1,1,1,1,1,1,1,1,1,1,1,1,1,1,1,1,1,1,1,1,1,1,1,1,1,1,1,1,1,1,1,1,1,1,1,1,1,1,1,1,1,1,1,1,0,1,1,1,1,1,1,1,1,1,1,1,1,1,1,1,1,1,1,1,1,1,1,1,1,1,1,1,1,1,1,1,1,0,1,1,1,1,1,1,1,1,1,1,1,1,1,1,1,1,1,1,1,1,1,1,1,1,1,1,1,1,1,1,1,1,1,1,1,1,1,1,1,1,1,1,1,1,1,1,1,1,1,1,1,1,1,1,1,1,1,1,1,1,1,1,1,1,1,1,1,1,1,1,1,1,1,1,1,1,1,1,1,1,1,1,1,1,0,1,1,1,1,1,1,1,1,1,1,1,1,1,1,1,1,1,1,1,1,1,1,1,1,1,1,1,1,1,1,1,1,1,1,1,1,1,1,1,1,1,1,1,1,1,1,1,1,1,1,1,1,1,1,1,1,1,1,1,1,1,1,1,1,1,1,1,1,1,1,1,1,1,1,1,1,1,1,1,1,1,1,1,1,1,1,1,1,1,1,1,1,1,1,1,1,1,1,1,1,1,1,1,1,1,1,1,1,1,1,1,1,1,1,1,1,1,1,1,1,1,1,1,1,1,1,1,1,1,1,1,1,1,1,1,1,1,1,1,1,0,1,1,1,1,1,1,1,1,1,1,1,1,1,1,1,1,1,1,1,1,1,1,1,1,1,1,1,1,1,1,1,1,1,1,1,1,1,1,1,1,1,1,1,1,1,1,1,1,1,1,1,1,1,1,1,1,1,1,1,1,1,1,1,1,1,1,1,1,1,1,1,1,1,1,1,1,1,1,1,1,1,1,1,1,1,1,1,1,1,1,1,1,1,1,1,1,1,1,1,1,1,1,1,1,1,1,1,1,1,1,1,1,1,1,1,1,1,1,1,1,1,1,1,1,1,1,1,1,1,1,1,1,1,1,1,1,1,1,1,1,1,1,1,1,1,1,1,1,1,1,1,1,1,1,1,1,1,1,1,1,1,1,1,1,1,1,1,1,1,1,1,1,1,1,1,1,1,1,1,1,1,1,1,1,1,1,1,1,1,1,1,1,1,1,1,1,1,1,1,1,1,1,1,1,1,1,1,1,1,1,1,1,1,1,1,1,1,1,1,1,1,1,1,1,1,1,1,1,1,1,1,1,1,1,1,1,1,1,1,1,1,1,1,1,1,1,1,1,1,1,1,1,1,1,1,1,1,1,1,0,1,1,1,1,1,1,1,1,1,1,1,1,1,1,1,1,1,1,1,1,1,1,1,1,1,1,1,1,1,1,1,1,1,1,1,1,1,1,1,1,1,1,1,1,1,1,1,1,1,1,1,1,1,1,1,1,1,1,1,1,1,1,1,1,1,1,1,1,1,1,1,1,1,1,1,1,1,1,1,1,1,1,1,1,1,1,1,1,1,1,1,1,1,1,1,1,1,1,1,1,1,1,1,1,1,1,1,1,1,1,1,1,1,1,1,1,1,1,1,1,1,1,1,1,1,1,1,0,1,1,1,1,1,1,1,1,1,1,1,1,1,1,1,1,1,0,1,1,1,1,1,1,1,1,1,1,1,1,1,1,0,1,1,1,1,1,1,1,1,1,1,1,1,1,1,1,1,1,1,1,1,1,1,1,1,1,1,1,1,1,1,1,1,1,1,1,1,1,1,1,1,1,1,1,1,1,1,1,1,1,1,1,1,1,1,1,1,1,1,1,1,1,1,0,1,1,1,1,1,1,1,1,1,1,1,1,1,1,1,1,1,1,1,1,1,1,1,1,1,1,1,1,1,1,1,1,1,0,1,1,1,1,1,1,1,1,1,1,1,1,1,1,1,1,1,1,1,1,1,1,1,1,1,1,1,1,1,1,1,1,1,1,1,1,1,1,1,1,1,1,1,1,1,1,1,1,1,1,1,1,1,1,1,1,1,1,1,1,1,1,1,1,1,1,1,1,1,1,1,1,1,1,1,1,1,1,1,0,1,1,1,1,1,1,1,1,1,1,1,1,1,1,1,1,1,1,1,1,1,1,1,1,1,1,1,1,1,1,1,1,1,1,1,1,1,1,1,1,1,1,1,1,1,1,1,1,1,1,0,1,1,1,1,1,1,1,1,1,1,1,1,1,1,1,1,1,1,1,1,1,1,1,1,1,1,1,1,1,1,0,1,1,1,1,1,1,1,1,1,1,1,1,1,1,1,1,1,1,1,1,1,1,1,1,1,1,1,1,1,1,1,1,1,1,1,1,1,1,1,1,1,1,1,1,1,1,1,1,1,1,1,1,1,1,1,1,1,0,1,1,1,1,1,1,1,1,1,1,1,1,1,1,1,1,1,1,1,1,0,1,1,1,1,1,1,1,1,1,1,1,1,1,1,1,1,1,1,1,1,1,1,1,1,1,0,1,1,1,1,1,1,1,1,1,1,1,1,1,1,1,1,1,1,1,1,1,1,1,1,1,1,1,1,1,1,1,1,1,1,1,1,1,1,1,1,1,1,1,1,1,1,1,1,1,1,1,1,1,1,1,1,1,1,1,1,1,1,1,1,1,1,1,1,1,1,1,1,1,1,1,1,1,1,1,1,1,1,1,1,1,1,1,1,1,1,1,1,1,1,1,1,1,1,1,1,1,1,1,1,1,1,1,1,1,1,1,1,1,1,1,1,1,1,1,1,1,1,1,1,1,1,1,1,1,1,1,1,1,1,1,1,1,1,1,1,1,1,1,1,1,1,1,1,1,1,1,1,1,1,1,1,1,1,1,1,1,1,1,1,1,1,1,1,1,1,1,1,1,1,1,1,1,1,1,1,1,1,1,1,1,1,1,1,1,0,1,1,1,1,1,1,1,1,1,1,1,1,1,1,1,1,1,1,1,1,1,1,1,1,1,1,1,1,1,1,1,1,1,1,1,1,1,1,1,1,1,1,1,1,1,1,1,1,1,1,1,1,1,1,1,1,1,1,1,1,1,1,1,1,1,1,1,1,1,1,1,1,1,1,1,1,1,1,1,1,1,1,1,1,1,1,1,1,1,1,1,1,1,1,1,1,1,1,1,1,1,1,1,1,1,1,1,1,1,1,1,1,1,1,1,1,1,1,1,1,1,1,1,1,1,1,1,1,1,0,1,1,1,1,1,1,1,1,1,1,1,1,1,1,1,1,1,1,1,1,1,1,1,1,1,1,1,1,1,1,1,1,1,1,1,1,1,1,1,1,1,1,1,1,1,1,1,1,1,1,1,1,1,1,1,1,1,1,1,1,1,1,1,0,1,1,1,1,1,1,1,1,1,1,1,1,1,1,1,1,1,1,1,1,1,1,1,1,1,1,1,1,1,1,1,1,1,1,1,1,1,1,1,1,1,1,1,1,1,1,1,1,1,1,1,1,1,1,1,1,1,1,1,1,1,1,1,1,1,1,1,1,1,1,1,1,1,1,1,1,1,1,1,1,1,1,1,1,1,1,1,1,1,1,1,1,1,1,1,1,1,1,1,1,1,1,1,1,1,1,1,1,1,1,1,1,1,1,1,1,1,1,1,1,1,1,1,1,1,1,1,1,1,1,1,1,1,1,1,1,1,1,1,1,1,1,1,1,1,1,1,1,1,1,1,1,0,1,1,1,1,1,1,1,1,1,1,1,1,1,1,1,1,1,1,1,1,1,1,1,1,1,1,1,1,1,1,0,1,1,1,1,1,1,1,1,1,1,1,1,1,1,1,1,1,1,1,1,1,1,1,1,1,1,1,1,1,1,1,1,1,1,1,1,1,1,1,1,1,1,1,1,1,1,1,1,1,1,1,1,1,1,1,1,1,1,1,1,1,1,1,1,1,1,1,1,1,1,1,1,1,1,1,1,1,1,1,1,1,1,1,1,1,1,1,1,1,1,1,1,1,1,1,1,1,1,1,1,1,1,1,1,1,1,1,1,1,1,1,1,1,1,1,1,1,1,1,1,1,1,1,1,1,1,1,1,1,1,1,1,1,1,1,1,1,1,1,1,1,1,1,1,1,1,1,1,1,1,1,1,1,1,1,1,1,1,1,1,1,1,1,1,1,1,1,1,1,1,0,1,1,1,1,1,1,1,1,1,1,1,1,1,1,1,1,1,1,1,1,1,1,1,1,1,1,1,1,1,1,1,1,1,1,0,1,1,1,1,1,1,1,1,1,1,1,1,1,1,1,1,1,1,1,1,1,1,1,1,1,1,1,1,1,1,1,1,1,1,1,1,1,1,1,1,0,1,1,1,1,1,1,1,1,1,1,1,1,1,1,1,1,1,0,1,1,1,1,1,1,1,1,1,1,1,1,1,1,1,1,1,1,1,1,1,1,1,1,1,1,1,1,1,1,1,1,1,1,1,1,1,1,1,1,1,1,1,1,1,1,1,1,1,1,1,1,1,1,1,1,1,1,1,1,1,1,1,1,1,1,1,1,1,1,1,1,1,1,1,1,1,1,1,1,1,1,1,1,1,1,1,1,1,1,1,1,1,1,1,1,1,1,1,1,1,1,1,1,1,1,1,1,1,1,1,1,1,1,1,1,1,1,1,0,1,1,1,1,1,1,1,1,1,1,1,1,1,1],\"coloraxis\":\"coloraxis\",\"symbol\":\"circle\"},\"mode\":\"markers\",\"name\":\"\",\"showlegend\":false,\"x\":[58,52,52,52,61,46,48,48,29,51,27,27,27,30,56,56,56,56,43,43,43,43,43,43,43,43,43,44,45,34,34,34,34,34,34,34,34,55,46,42,42,42,42,42,42,42,42,42,42,42,42,42,42,42,42,42,42,42,42,42,42,42,42,42,42,42,42,42,42,42,37,42,42,42,28,28,28,48,48,48,48,48,48,48,43,43,43,61,61,61,57,57,57,57,57,45,45,45,27,51,42,42,42,42,42,54,39,28,28,51,51,51,51,51,39,39,48,48,48,30,24,20,61,28,28,28,28,28,28,28,38,27,27,56,40,34,37,37,36,35,35,35,35,41,41,24,43,43,43,43,43,43,59,59,59,59,26,26,50,43,43,43,53,53,53,53,53,53,53,53,53,35,35,50,50,50,50,50,50,48,48,48,48,48,48,57,57,57,57,57,57,57,33,33,33,33,40,40,40,40,40,40,40,29,29,52,52,52,38,38,27,27,27,27,27,43,39,39,39,28,28,28,28,40,40,40,40,41,41,41,41,41,41,41,41,41,41,57,57,44,44,44,44,60,60,60,55,55,55,55,55,55,55,55,57,57,44,51,29,29,29,29,57,57,53,53,40,40,40,40,40,40,63,63,30,25,30,30,30,30,34,34,34,34,34,56,56,28,38,38,38,38,52,52,52,52,52,53,22,54,54,23,23,40,54,64,64,25,25,25,37,39,39,47,47,47,47,47,47,53,53,53,53,53,53,53,36,36,33,26,26,26,44,44,32,32,32,32,32,32,32,44,44,44,46,46,46,34,32,32,37,37,37,37,37,42,42,42,42,51,51,51,51,51,51,51,51,51,51,55,55,41,41,41,41,41,41,41,41,41,46,46,58,58,58,32,32,39,39,23,47,47,47,47,47,36,35,35,33,33,33,33,33,33,33,47,52,52,52,52,52,52,27,27,27,58,58,58,58,23,23,40,40,51,51,51,51,51,51,51,27,27,27,27,52,52,52,43,43,59,59,59,59,59,59,59,59,59,63,63,63,57,57,57,57,57,31,31,31,30,25,25,25,25,52,52,27,27,27,27,36,36,52,52,52,40,40,40,33,33,37,37,37,37,37,37,37,37,37,24,24,24,38,38,38,38,38,38,38,60,60,60,60,60,42,42,42,42,42,32,32,32,32,32,32,32,32,32,32,40,40,40,40,40,43,43,43,43,28,28,28,28,28,34,43,43,33,27,27,28,28,28,28,28,39,39,39,39,42,42,26,59,59,36,36,32,60,30,30,52,52,52,52,52,52,52,52,34,34,34,34,54,54,54,54,54,54,54,54,29,29,29,29,23,34,34,34,34,63,44,45,45,45,56,56,56,56,56,56,56,56,56,56,56,40,40,46,38,38,33,33,33,33,33,33,63,63,29,29,35,35,35,35,29,29,56,56,56,60,59,59,59,59,59,59,59,59,50,50,50,46,46,45,45,45,50,30,45,45,45,34,57,57,57,57,57,57,22,28,28,37,37,37,61,61,60,60,58,58,42,22,38,38,38,35,35,35,35,35,35,63,63,63,63,63,34,34,34,50,50,60,60,60,60,50,50,50,24,50,50,46,46,46,46,42,63,63,49,63,27,27,27,27,37,37,51,51,51,48,48,48,48,48,48,48,48,59,59,45,45,45,45,55,55,55,55,55,54,40,40,55,55,55,55,55,27,27,27,40,40,40,40,55,55,64,64,64,41,41,41,41,26,26,26,62,62,62,62,62,62,62,62,62,62,62,54,22,29,36,39,39,40,33,33,26,26,26,26,26,65,65,65,65,65,65,65,65,65,65,38,38,38,59,59,59,36,36,36,36,42,42,42,42,42,42,30,30,58,58,58,58,58,58,58,62,62,62,62,36,36,51,51,51,51,51,51,34,34,35,35,37,37,37,54,37,37,37,27,27,27,38,47,47,37,37,37,37,37,27,55,55,58,38,38,38,38,38,38,49,49,49,49,49,49,43,43,43,43,43,27,27,27,27,31,31,31,38,56,46,46,46,46,46,62,62,62,62,29,32,32,32,32,32,54,54,50,58,58,58,60,60,60,53,53,53,34,34,34,34,34,34,34,34,52,52,32,32,24,24,24,30,36,36,36,36,36,47,47,47,47,47,42,42,42,57,28,28,28,28,28,56,56,33,33,33,33,38,38,38,38,38,43,37,37,37,58,58,58,58,58,58,58,32,32,60,58,58,58,61,38,30,30,30,42,38,38,39,39,39,64,46,46,30,30,30,38,38,42,42,42,42,42,42,37,37,37,37,37,37,37,41,41,35,35,35,35,35,35,35,51,51,59,59,30,61,32,32,32,61,48,48,48,45,45,45,45,45,56,56,56,56,56,56,27,65,65,65,65,65,65,65,62,62,62,28,28,55,55,37,37,37,37,61,34,34,46,46,46,46,46,46,62,37,37,37,40,40,40,40,40,31,31,30,30,37,36,36,49,41,41,60,60,30,30,30,54,54,54,54,54,54,29,29,29,29,29,29,32,45,45,45,45,45,45,45,47,47,55,55,55,62,62,50,50,51,51,51,34,34,46,46,46,55,55,55,50,60,60,60,55,55,55,55,55,55,55,55,52,52,52,49,61,61,61,61,61,61,51,51,51,51,57,57,57,27,27,27,35,35,35,37,37,34,34,34,34,34,27,27,27,27,27,27,29,29,34,34,62,62,62,50,62,62,62,62,50,52,31,39,39,39,39,39,38,38,38,38,38,38,38,38,42,60,60,60,32,32,32,41,41,41,46,46,46,46,46,46,46,46,46,46,46,46,46,46,46,46,46,48,48,48,48,48,40,38,31,31,54,54,36,36,36,54,54,54,50,50,50,50,60,60,60,60,60,30,30,30,30,59,59,59,59,54,54,54,54,54,54,54,54,54,60,46,46,26,26,26,26,36,36,36,58,57,57,57,52,52,31,31,31,31,31,31,32,32,22,22,22,55,55,28,32,32,32,32,32,32,28,29,29,29,29,29,43,43,41,57,57,57,49,49,49,49,49,52,60,35,62,62,25,25,25,57,57,57,57,57,57,57,39,32,49,27,27,27,27,41,34,34,26,26,26,26,35,35,35,53,53,53,52,52,52,52,52,52,52,58,58,58,46,41,60,60,60,32,32,32,32,58,58,58,58,36,62,34,34,34,36,36,36,37,37,37,37,37,37,37,37,51,51,51,51,51,51,36,36,34,34,34,50,50,50,41,41,36,39,39,46,46,46,36,57,57,28,28,28,30,30,46,46,34,39,39,39,39,39,39,39,39,39,39,39,41,41,41,41,33,33,33,33,33,30,50,31,31,31,31,31,31,47,42,36,36,36,36,32,32,32,32,55,55,55,55,24,27,27,27,27,30,27,49,49,49,49,49,49,49,49,49,26,26,37,46,46,46,46,46,46,57,57,57,57,57,57,28,28,28,28,28,28,62,59,59,35,55,60,60,60,60,60,25,25,48,48,48,48,32,32,32,32,32,32,32,32,32,35,35,35,55,25,25,25,25,25,25,51,51,55,55,55,27,27,27,27,27,27,27,27,27,27,27,27,27,27,27,27,40,40,62,62,27,27,27,27,27,32,40,40,35,35,35,40,40,40,40,31,53,53,53,53,53,52,52,52,52,43,43,43,43,60,60,60,60,60,60,48,48,49,49,49,49,49,26,26,53,53,53,53,53,53,27,27,27,59,36,36,36,36,56,56,53,53,53,36,36,32,32,32,32,32,32,32,59,32,36,54,54,54,41,41,41,41,41,41,41,54,54,52,52,52,38,38,38,38,33,52,52,52,64,64,64,64,42,42,42,42,42,39,39,39,39,39,41,41,41,41,41,41,41,43,64,64,64,64,64,64,64,64,57,48,29,41,31,41,41,41,41,41,41,41,41,52,52,52,52,52,29,29,52,34,31,31,31,58,58,58,58,58,26,26,26,44,64,56,56,56,56,56,56,56,56,62,30,56,59,59,59,59,59,59,59,59,59,59,59,59,59,59,59,59,59,29,52,52,45,45,45,58,58,58,58,58,31,31,49,29,43,43,43,43,43,43,48,23,23,23,23,38,35,35,35,35,46,46,46,46,64,64,64,42,42,56,56,56,56,64,64,64,51,51,29,36,36,32,32,32,32,32,32,30,30,30,35,35,35,35,35,35,40,59,59,59,23,48,48,48,48,48,48,48,48,36,36,36,36,36,36,23,27,27,27,27,27,32,32,33,33,33,33,33,55,55,55,55,55,55,32,32,32,32,49,37,40,27,27,27,27,39,63,63,39,53,53,39,39,39,43,43,29,29,56,38,38,38,38,38,38,64,64,64,64,64,64,64,41,41,58,58,58,26,29,29,29,29,26,26,31,37,37,37,37,37,37,37,62,62,62,35,35,35,35,33,32,32,32,32,32,32,32,32,32,21,21,23,23,23,23,23,47,47,47,47,47,47,47,47,34,34,34,34,34,51,51,51,53,45,45,37,38,38,38,38,38,38,38,38,38,38,38,38,44,44,44,44,44,36,36,36,52,29,29,43,43,43,33,33,33,33,33,33,58,58,25,34,34,34,31,38,38,38,38,38,38,38,38,22,22,50,50,50,50,41,50,52,52,51,51,51,66,66,66,65,65,63,63,63,63,63,63,37,37,65,65,46,57,57,58,51,51,51,41,41,41,48,48,57,57,57,57,57,63,29,29,29,58,58,58,30,46,46,37,64,64,64,64,64,34,34,34,34,59,59,23,23,32,46,46,46,46,46,59,59,59,59,57,41,41,41,27,27,66,51,51,51,34,34,34,34,34,33,33,57,57,57,57,57,57,57,57,31,31,37,37,37,59,59,64,64,41,48,48,48,58,58,58,47,47,47,47,47,47,60,60,60,60,60,43,43,43,53,39,39,39,39,39,45,45,45,67,47,30,30,30,30,30,30,35,35,35,35,53,53,53,55,55,55,55,58,58,58,58,24,42,42,63,63,68,68,62,45,45,45,42,42,42,42,30,30,32,32,32,28,28,28,28,28,28,28,52,37,37,33,33,33,66,66,66,66,66,46,46,46,48,48,29,29,29,29,29,29,29,59,24,46,46,58,58,58,57,37,37,59,59,59,59,54,59,59,59,59,45,45,45,45,45,45,45,63,62,56,56,56,57,57,57,57,57,57,57,57,57,57,57,56,56,43,49,56,56,56,31,31,31,46,46,46,46,54,54,43,43,43,43,43,43,43,43,43,42,42,42,56,56,56,56,56,38,38,38,43,43,43,43,43,59,59,59,33,48,48,48,48,48,58,58,61,61,63,63,63,63,39,39,39,39,39,39,63,47,47,47,55,55,55,55,54,34,48,48,48,48,29,29,37,37,37,36,36,36,36,33,33,40,40,40,40,40,40,40,28,28,28,28,38,38,44,44,44,44,44,44,44,32,56,30,30,56,56,56,41,41,41,41,33,33,48,48,48,48,48,48,48,48,60,60,64,64,25,51,51,51,51,51,51,31,31,31,31,62,60,60,60,60,60,60,67,35,48,48,38,46,61,35,35,31,33,53,54,54,39,40,47,37,33,39,49,49,51,51,51,51,62,62,62,58,58,58,46,33,33,50,50,50,50,26,26,62,62,62,62,62,62,62,62,44,44,44,44,44,47,32,32,40,40,40,40,40,40,24,24,40,40,40,40,40,45,45,45,45,60,60,60,64,64,64,64,64,63,63,63,41,41,41,41,41,41,41,41,41,57,30,58,29,29,29,29,29,29,29,29,29,29,29,57,57,57,37,64,64,64,40,40,40,40,42,42,42,32,35,35,35,35,35,35,35,35,35,40,39,39,39,26,26,43,43,55,55,55,55,39,39,39,51,51,51,51,51,32,32,32,32,32,32,27,27,55,55,55,60,60,60,60,60,60,42,42,42,42,42,42,42,42,23,23,23,31,31,31,31,31,46,47,47,26,26,26,54,60,60,60,60,42,42,42,42,42,34,37,37,44,44,44,44,44,44,54,54,58,58,58,58,58,31,31,62,38,54,54,35,35,28,34,31,31,31,43,58,58,46,46,46,42,42,42,42,42,30,30,30,31,58,47,47,48,48,48,48,48,22,22,28,35,35,35,54,54,54,54,54,54,57,64,64,64,64,64,64,47,47,47,47,36,28,28,57,57,47,56,56,56,33,33,33,60,54,64,55,27,34,34,34,34,34,36,36,36,36,36,36,36,29,23,41,41,41,41,41,50,40,40,29,29,29,47,47,47,47,47,65,65,65,65,57,54,54,54,34,34,34,34,34,34,57,57,57,57,27,27,27,27,27,27,27,33,33,33,33,33,55,59,28,28,28,28,28,38,38,38,64,64,64,64,64,64,40,40,40,57,57,63,63,63,63,63,38,38,38,38,38,38,38,38,38,38,47,32,32,32,32,32,62,62,28,28,28,28,28,28,28,33,33,24,24,24,24,23,54,44,44,63,63,63,63,63,31,31,31,31,31,31,54,54,54,27,27,27,27,27,27,27,27,50,32,32,46,46,34,34,34,39,39,39,39,39,39,39,41,41,41,41,41,39,39,42,42,42,42,42,42,42,42,42,52,52,52,52,27,27,27,36,36,36,60,60,60,54,62,62,62,35,37,37,63,49,49,33,49,49,49,38,38,38,44,44,44,44,44,44,44,44,44,39,39,39,39,39,40,23,23,31,31,31,31,31,65,65,65,65,65,65,65,65,65,65,32,32,43,43,43,42,42,42,61,61,61,61,61,54,54,54,33,33,33,33,33,35,34,34,38,38,38,38,38,38,31,31,31,31,31,42,42,51,51,50,60,34,60,62,29,31,27,27,38,62,38,43,63,44,41,37,59,56,23,43,50,40,42,40,37,52,34,33,42,63,34,46,42,42,24,51,47,29,33,44,36,61,35,40,43,24,60,35,33,30,39,39,41,49,51,31,49,27,56,38,38,38,34,49,54,40,52,34,42,36,37,37,36,27,58,57,57,46,54,54,51,51,52,41,25,45,44,63,27,40,41,63,63,33,32,32,32,51,31,63,51,68,28,41,43,43,67,26,24,64,26,36,41,45,31,40,62,43,43,32,50,40,55,62,46,37,37,37,60,47,65,30,49,34,34,34,33,42,49,42,49,49,49,49,41,50,67,44,57,27,27,36,34,45,61,63,45,23,48,59,62,61,24,33,35,54,53,57,34,45,44,54,27,29,23,59,63,31,51,39,56,29,62,42,49,51,40,49,48,48,49,32,32,32,63,63,32,46,34,30,39,39,37,32,32,65,50,58,58,28,50,57,59,59,64,50,37,63,32,28,28,56,56,58,58,27,57,44,44,44,44,44,44,44,35,65,47,37,37,45,45,66,52,49,49,51,63,66,66,41,38,43,37,37,37,34,53,52,33,33,45,45,22,45,47,35,43,66,66,28,51,61,54,56,63,37,49,47,47,60,54,54,33,44,44,38,38,52,52,44,49,49,49,38,38,38,38,38,31,44,44,32,32,47,47,47,34,34,34,34,32,32,32,32,32,32,32,32,32,32,54,38,54,54,54,54,32,32,37,37,37,62,62,62,49,53,53,53,35,35,37,37,37,37,37,48,48,48,48,34,53,53,53,53,49,49,41,54,54,54,26,26,31,31,31,31,31,31,38,38,38,40,40,40,40,40,40,40,40,40,40,40,40,40,48,48,48,22,22,53,53,42,42,42,42,42,42,49,49,49,55,55,55,55,39,39,39,45,28,28,33,59,59,59,23,23,44,25,25,25,39,27,27,27,38,38,38,38,54,54,54,55,55,55,55,55,42,42,42,42,42,63,63,34,34,34,34,42,42,42,42,42,42,42,42,42,42,42,42,42,42,60,60,60,60,60,60,60,59,59,31,31,31,31,36,36,39,39,29,29,29,29,25,25,39,38,38,38,38,30,64,64,30,48,48,64,41,41,59,26,26,26,26,26,26,29,29,50,50,29,29,29,29,37,54,54,54,54,54,36,25,41,41,34,34,34,34,34,34,34,34,34,34,34,34,34,39,39,23,23,24,28,28,28,28,42,42,42,55,32,32,32,32,63,63,22,22,43,43,43,62,62,62,34,34,34,34,34,34,34,34,53,43,43,61,61,33,33,33,33,33,33,33,47,50,50,50,40,40,40,40,33,33,35,35,37,37,37,37,37,33,45,45,45,51,51,59,59,59,59,52,52,52,52,52,52,52,52,27,27,27,27,27,27,27,53,47,47,47,47,47,47,47,47,47,47,47,47,47,47,47,25,41,47,47,57,57,57,54,54,61,61,61,59,59,59,59,59,59,59,59,52,52,52,27,42,64,64,33,33,33,33,33,33,46,46,37,37,37,37,37,37,50,46,46,42,32,33,24,53,53,53,63,63,63,63,63,63,63,63,26,58,58,54,54,54,54,27,27,27,27,27,60,46,25,25,25,25,61,31,31,36,36,58,40,40,40,40,40,40,45,45,45,45,45,28,28,28,38,34,34,34,55,55,62,48,49,34,40,40,56,36,58,48,53,41,56,46,48,27,61,48,36,32,42,52,49,59,34,51,60,60,60,60,60,59,59,58,58,58,58,53,53,53,53,53,63,63,63,57,57,58,41,38,38,38,38,36,36,36,36,36,36,36,36,28,25,25,25,48,41,41,41,64,64,64,64,56,56,56,56,56,38,38,42,42,42,45,45,59,42,42,41,41,42,49,49,61,36,36,32,52,55,29,29,29,29,39,39,36,36,36,36,37,37,37,37,37,47,47,56,57,57,57,57,57,34,50,50,27,52,52,52,47,47,47,30,30,30,30,30,30,30,30,30,44,44,44,44,44,47,47,47,47,47,47,47,47,47,47,47,47,47,28,28,28,28,28,28,28,55,55,55,55,44,40,57,57,57,57,57,57,33,33,33,33,33,33,62,62,62,49,51,51,51,51,52,51,59,28,28,35,35,35,54,39,39,55,55,65,65,65,65,65,36,36,36,46,46,46,43,43,43,43,41,41,41,41,51,62,62,59,59,59,59,30,41,41,41,41,41,43,43,43,43,43,43,62,22,22,22,55,48,48,48,39,39,39,39,33,33,33,33,43,38,38,24,34,33,33,50,50,50,50,50,36,36,36,56,56,56,54,54,54,54,54,54,54,49,49,49,34,34,34,34,34,34,30,30,30,26,26,26,26,51,22,63,63,63,63,59,59,28,28,49,49,58,58,58,58,58,58,58,58,58,58,58,58,58,58,58,58,58,50,50,31,31,31,31,31,34,34,34,34,34,34,34,53,53,53,53,53,42,38,26,53,45,54,28,41,27,42,42,42,42,26,35,32,41,41,29,52,29,49,36,38,46,33,41,41,41,37,37,32,32,31,57,25,32,36,41,39,33,47,27,43,48,42,36,27,56,38,42,43,55,51,52,45,64,64,30,61,51,51,60,60,27,25,28,46,43,51,65,47,44,44,42,39,39,31,41,31,40,48,48,37,47,43,43,43,47,47,35,31,31,46,40,48,52,52,51,39,39,59,43,43,65,51,23,63,39,31,32,37,64,34,59,59,60,45,32,32,56,27,27,27,63,47,37,26,62,52,57,43,35,25,43,33,29,29,56,63,52,36,48,63,63,63,47,45,60,36,30,40,37,37,50,31,44,66,37,62,62,49,34,32,52,67,48,42,27,60,58,66,57,42,54,51,51,53,53,58,58,58,29,50,43,61,43,39,57,61,46,30,53,44,31,34,36,43,37,65,54,41,63,57,37,52,54,40,44,34,39,51,56,37,35,47,39,57,34,47,40,38,32,36,27,48,48,58,29,54,24,30,56,56,52,54,54,30,28,59,58,61,61,60,50,27,33,55,36,35,35,59,34,27,29,29,56,40,28,49,33,30,61,51,51,54,37,42,42,37,46,46,49,30,30,30,28,28,35,53,59,62,60,47,43,37,37,45,33,38,39,57,38,47,47,46,46,36,49,52,33,60,57,45,64,64,49,48,45,54,54,24,46,46,46,46,46,60,55,57,57,57,57,58,58,58,58,48,48,48,53,53,67,29,29,28,42,58,44,29,52,29,41,41,41,35,42,45,45,59,34,34,65,55,56,56,56,52,56,56,42,28,56,56,56,54,49,46,59,49,46,46,39,37,37,37,37,37,37,37,37,37,60,55,55,31,62,62,51,35,61,31,27,27,55,55,68,68,43,57,27,30,54,44,44,39,50,50,49,33,43,39,45,32,41,26,56,55,28,30,56,28,56,56,27,66,66,62,54,30,55,33,53,35,61,61,29,28,28,51,40,26,43,32,56,56,37,41,46,28,47,48,29,39,36,23,66,66,57,35,33,51,39,53,62,62,41,45,30,52,52,36,33,43,32,47,41,41,41,61,41,38,26,61,43,43,43,43,28,34,31,31,60,58,54,42,65,24,64,56,56,29,34,34,49,49,61,24,60,49,30,30,36,36,61,50,27,46,56,42,32,46,43,43,27,27,27,64,64,51,41,36,36,57,29,56,41,41,37,54,54,39,41,61,55,41,41,43,27,33,35,57,57,40,46,48,43,34,46,64,64,52,45,45,54,54,57,39,31,29,52,49,49,45,37,51,38,32,62,38,38,36,59,48,44,44,48,50,36,54,39,39,59,53,65,65,55,48,44,61,42,35,51,51,53,53,34,39,25,25,26,51,51,47,42,65,32,63,27,32,34,57,61,32,52,52,48,50,50,48,48,44,33,59,49,68,52,60,51,39,39,39,32,64,59,27,27,29,67,67,46,30,37,37,37,59,59,33,33,57,61,52,52,56,56,51,36,56,56,39,56,29,53,53,59,50,59,59,42,33,61,55,50,48,48,44,44,44,36,53,42,59,43,65,65,50,50,50,41,59,62,55,37,58,51,50,44,57,57,50,35,63,33,31,51,51,46,65,65,40,43,39,62,38,39,39,59,67,60,47,40,40,40,57,34,60,64,23,26,24,27,37,34,56,28,46,30,26,32,54,54,47,47,49,49,31,31,41,41,65,57,33,32,51,45,23,41,31,32,41,35,32,48,61,48,42,63,63,63,33,33,35,35,56,41,41,48,28,28,52,52,30,33,62,62,35,32,32,32,32,32,32,32,32,32,60,43,58,58,58,26,43,56,56,56,25,25,25,25,25,25,40,40,40,40,40,54,54,54,54,66,66,66,66,66,66,31,31,52,46,46,46,46,49,28,28,28,30,30,33,33,33,33,66,66,66,66,54,54,54,54,57,57,57,57,57,57,36,36,36,36,36,46,64,48,28,28,28,28,28,28,28,28,28,28,28,29,29,29,29,29,55,55,48,48,58,46,47,47,47,35,35,60,60,60,60,26,26,26,42,42,42,42,42,42,27,38,38,38,38,64,64,64,43,38,38,38,38,38,38,38,38,37,37,37,37,37,37,37,37,37,37,53,53,53,53,53,33,33,37,37,37,37,62,62,62,62,62,62,62,34,34,34,34,37,37,37,53,53,53,53,53,53,60,60,60,24,60,50,50,50,50,50,50,50,46,46,46,46,46,67,67,67,67,67,39,39,39,39,39,34,34,34,34,45,50,62,62,62,62,62,62,30,30,30,30,30,30,28,57,57,57,39,39,57,57,57,60,46,46,46,46,47,47,55,29,29,49,51,51,51,58,58,58,58,58,63,63,63,63,46,46,46,46,46,46,46,46,46,46,46,28,28,63,63,55,55,55,55,39,39,33,33,51,29,29,60,54,54,54,63,63,63,63,63,63,63,29,29,29,46,46,46,61,56,56,56,56,66,66,68,63,63,50,50,50,50,50,50,50,56,56,56,56,56,56,56,56,56,56,63,63,63,51,51,63,63,63,56,56,56,56,56,33,33,34,40,40,27,27,66,40,40,40,40,28,46,46,35,35,41,41,41,41,41,41,41,37,23,23,23,29,29,56,36,36,36,36,36,60,60,60,60,60,60,60,60,60,60,60,60,55,55,55,42,42,42,42,42,42,42,31,24,39,39,39,39,39,39,35,35,35,35,35,35,35,35,35,35,35,57,36,36,36,36,52,52,52,52,29,29,29,26,26,26,32,32,35,35,35,35,35,35,35,35,52,52,52,52,52,52,52,52,31,33,33,33,33,33,33,42,27,27,27,27,42,42,42,42,42,45,45,45,38,38,38,38,32,54,31,31,31,31,31,31,31,58,58,58,28,28,38,38,33,33,33,33,36,36,30,47,47,36,36,36,34,34,34,34,34,34,34,34,54,41,41,56,56,56,49,41,41,34,57,57,27,27,27,43,43,43,44,44,44,44,40,40,40,47,47,47,47,47,47,47,47,47,47,47,62,47,47,47,47,47,47,47,60,60,60,60,60,54,54,43,43,53,60,60,40,40,32,27,27,43,43,43,43,43,43,52,50,50,50,50,27,27,62,62,62,62,33,33,33,28,28,28,28,28,31,31,55,55,55,55,55,36,36,36,30,30,30,40,40,40,40,40,40,40,40,40,40,40,28,44,44,44,58,58,28,28,28,28,28,58,58,58,31,31,31,38,35,35,35,63,63,63,52,45,43,43,43,43,43,43,43,43,43,43,43,43,53,53,53,53,53,53,39,39,39,39,39,45,45,45,45,45,45,45,45,48,48,38,38,38,38,38,38,38,38,28,28,28,44,30,53,53,53,52,52,52,52,34,34,53,53,53,53,53,53,53,53,28,28,28,28,28,28,28,28,52,32,32,46,46,46,46,35,35,35,41,41,41,41,41,41,41,41,41,44,44,44,44,44,44,44,44,44,44,26,46,35,35,24,65,65,65,66,31,23,30,44,29,29,29,29,48,41,41,41,41,41,41,49,49,39,39,39,53,53,23,23,38,38,38,38,28,28,28,28,28,28,28,30,30,30,45,66,36,39,66,66,66,43,43,33,28,57,27,58,61,61,61,28,28,27,56,37,42,42,24,24,52,52,52,52,38,38,54,54,49,49,43,43,43,43,43,59,47,55,55,55,55,59,32,44,44,32,32,32,22,28,33,64,64,64,57,57,33,33,26,31,31,31,31,31,31,43,42,42,30,49,49,49,49,37,57,59,59,37,42,48,60,45,45,26,48,48,29,59,59,58,58,47,47,47,47,35,35,56,56,56,30,30,43,43,43,43,31,31,31,31,36,61,61,61,66,53,53,53,53,53,53,36,28,39,39,39,39,64,23,47,64,52,52,52,52,52,52,39,41,22,37,37,37,61,61,61,61,61,61,61,61,61,61,56,36,34,34,48,40,40,31,31,31,31,31,31,31,25,58,58,60,60,60,60,60,60,29,29,29,29,29,29,29,29,40,40,40,49,49,49,49,49,49,49,51,51,51,44,44,44,44,41,41,41,41,41,41,41,42,42,42,42,32,32,42,42,39,39,39,28,39,39,39,39,39,39,39,39,39,58,58,40,40,40,40,40,40,65,65,65,23,39,39,39,34,34,34,34,34,37,37,37,37,37,37,37,37,37,37,37,29,29,29,44,44,44,28,28,28,28,45,45,45,34,34,29,29,29,60,60,60,60,60,28,28,25,36,40,40,40,40,54,54,54,54,25,25,25,25,25,64,28,28,36,36,25,25,25,48,58,58,42,61,61,61,61,61,61,61,61,61,37,37,37,45,45,45,45,45,45,39,57,34,34,34,34,34,34,34,34,26,26,26,45,45,45,45,26,26,26,26,57,57,57,57,63,63,63,63,63,63,63,63,23,33,46,46,46,46,46,46,65,65,65,65,41,41,41,41,41,41,36,36,36,36,36,36,36,36,36,52,42,42,42,24,24,24,24,24,24,24,24,32,32,57,57,57,57,57,47,47,47,41,41,41,26,26,26,26,41,41,41,30,30,30,30,32,32,32,32,32,32,32,32,32,46,46,58,58,58,50,50,50,48,48,48,48,48,48,48,62,62,62,35,35,62,62,62,62,62,62,62,38,38,38,38,38,57,57,57,64,64,64,64,58,37,37,37,37,34,34,34,34,34,55,55,55,55,55,27,42,42,42,65,48,48,48,44,30,30,30,52,52,52,52,52,52,61,61,61,61,61,39,54,55,55,31,31,31,31,31,40,40,55,47,47,47,60,33,62,62,62,62,62,62,62,62,62,62,28,28,28,52,52,50,36,36,57,57,57,57,57,57,57,57,57,49,49,49,60,60,60,60,29,29,29,44,44,44,30,66,66,66,57,57,57,46,46,46,46,63,32,32,59,59,59,45,45,63,42,42,42,42,42,56,56,36,65,27,28,28,28,28,28,28,28,44,44,44,41,59,59,59,60,60,60,60,53,53,53,53,53,53,53,58,58,58,58,58,58,58,66,66,66,66,66,59,59,59,39,39,39,39,39,39,39,58,58,58,29,29,29,29,29,29,38,38,58,58,58,45,45,44,44,44,44,64,54,27,27,30,30,29,23,23,23,59,59,40,40,40,53,53,53,53,53,53,36,36,36,36,41,41,53,53,55,55,55,55,35,35,35,35,41,41,41,41,49,49,49,49,47,47,38,38,38,58,58,48,48,30,40,40,40,40,40,51,51,51,23,38,38,38,38,38,38,38,38,38,24,24,24,24,52,52,59,59,25,25,32,32,40,40,48,48,48,48,39,48,48,48,39,59,59,59,59,59,59,23,23,27,27,35,43,43,43,55,64,64,39,54,55,40,40,40,32,32,28,28,28,28,28,28,33,33,38,38,46,46,39,39,39,39,39,28,28,28,28,28,28,28,28,28,28,28,28,59,59,59,59,59,59,59,34,34,34,34,34,34,34,39,37,51,50,50,50,50,50,31,31,31,54,54,54,35,35,35,48,48,48,48,48,38,38,38,38,45,45,37,37,25,25,46,46,33,33,33,33,33,33,33,33,33,26,26,58,58,54,54,54,54,54,53,53,53,53,54,54,54,38,38,38,38,35,35,35,35,35,35,35,35,35,35,35,35,35,35,30,30,30,30,30,30,30,60,44,44,46,46,46,46,46,58,58,58,61,41,41,40,40,40,39,39,39,39,28,33,33,33,33,33,64,64,64,64,64,49,49,49,49,49,49,49,27,29,64,64,64,64,30,30,30,30,27,27,27,27,27,64,64,64,64,64,59,59,33,33,33,33,25,25,25,49,51,51,51,33,33,33,33,33,33,33,33,36,36,36,36,36,43,27,27,27,27,27,52,52,52,52,59,59,59,59,59,30,30,55,59,59,59,59,59,59,50,50,50,26,26,26,24,24,24,24,53,53,53,53,53,45,45,60,60,60,60,60,60,60,60,60,60,29,49,49,49,49,49,45,45,45,45,54,54,54,54,54,67,58,46,46,46,46,46,25,25,25,25,25,61,61,61,28,25,25,25,25,25,35,35,35,35,35,34,34,34,34,34,32,32,47,47,47,47,33,33,33,33,33,33,33,33,43,43,27,27,63,63,43,40,40,40,40,40,40,61,59,59,59,59,59,53,53,53,53,53,41,41,41,41,41,41,37,37,37,37,37,37,37,37,37,37,37,37,37,37,37,65,65,35,35,35,35,35,35,35,39,39,51,51,51,51,51,51,51,51,51,51,51,51,34,34,34,34,34,34,53,53,53,53,53,53,53,53,63,63,52,28,28,45,45,45,45,45,45,45,45,45,45,45,45,45,45,45,45,60,60,60,52,42,42,42,42,42,42,34,34,34,34,34,50,50,50,50,50,50,37,39,39,46,27,27,40,40,35,35,48,43,43,37,37,28,28,28,28,24,24,24,36,40,40,40,40,40,40,55,42,42,42,31,31,43,23,23,23,28,49,49,40,40,40,40,40,40,40,26,33,33,33,33,33,26,26,26,35,23,23,23,32,32,39,39,56,56,56,25,25,25,25,54,54,54,25,49,49,39,39,39,30,30,30,30,26,26,59,52,28,28,28,58,35,35,35,35,36,36,36,36,36,42,42,30,30,48,28,28,62,62,62,40,41,24,25,25,25,25,35,35,35,51,51,40,40,40,40,35,35,35,35,37,26,26,44,44,23,39,39,39,45,33,33,33,33,33,33,40,40,27,52,59,59,59,59,59,59,43,43,43,43,59,41,41,29,29,29,29,28,28,28,28,42,42,42,42,42,29,24,24,24,24,24,61,61,61,61,61,61,61,61,61,61,65,32,32,66,46,46,46,46,46,46,46,32,32,32,32,32,30,60,28,62,62,65,65,65,65,65,65,34,34,34,34,24,24,42,42,43,43,29,29,29,29,29,29,37,37,37,37,26,26,37,37,62,62,61,61,51,51,35,35,35,51,33,33,27,27,49,35,35,52,37,37,37,37,37,37,39,42,55,59,35,35,35,35,63,63,63,63,63,63,63,63,63,63,63,63,49,49,49,42,42,42,60,60,60,60,51,51,51,56,56,56,56,56,35,51,51,51,51,51,37,50,50,50,43,43,43,43,50,50,64,22,56,56,56,56,56,56,56,56,28,28,28,28,28,28,28,43,43,43,43,43,43,43,42,42,42,52,52,52,60,31,31,28,28,58,58,33,33,34,34,34,34,34,34,52,52,59,59,29,29,29,46,46,46,45,37,42,28,28,28,66,66,62,62,45,45,28,28,59,59,32,32,32,59,59,45,45,45,45,36,36,36,36,36,36,43,34,34,34,34,34,34,52,52,52,52,52,52,52,22,22,22,47,39,39,39,39,39,29,29,29,29,29,29,54,54,54,43,43,43,43,43,43,43,38,38,38,38,38,38,38,38,38,38,56,56,62,49,49,49,49,49,49,58,66,66,44,44,47,23,23,23,23,38,38,38,38,38,38,37,37,37,37,59,59,59,59,58,58,58,65,65,47,47,66,66,66,66,66,66,27,27,27,41,45,45,45,45,45,41,56,56,56,62,38,45,45,52,52,52,52,52,52,52,60,60,60,40,66,56,56,56,60,60,60,60,60,33,33,33,22,56,56,56,56,56,60,60,60,60,32,32,57,57,57,51,51,51,51,51,51,51,51,51,37,37,37,37,57,67,67,67,67,39,39,62,65,65,65,65,37,37,37,31,31,31,31,31,31,31,31,31,33,46,46,33,44,44,65,65,65,65,65,65,65,65,65,45,45,45,45,66,66,66,66,66,66,66,66,50,54,54,54,32,42,42,42,42,42,42,25,25,25,65,65,55,55,55,55,35,56,56,65,54,54,50,47,39,39,39,39,39,39,39,39,39,39,22,52,52,52,51,51,51,51,46,46,46,64,64,25,25,25,57,57,59,42,42,42,42,32,32,32,32,55,55,55,55,45,44,55,63,65,65,65,37,37,37,45,36,48,49,49,50,50,55,55,55,55,56,56,56,56,56,30,30,30,38,38,56,56,35,35,44,44,44,44,44,60,60,56,22,52,52,24,24,24,54,54,54,54,54,62,62,62,42,42,42,42,40,40,40,58,25,25,25,25,44,44,44,62,62,62,62,46,46,46,46,50,50,50,50,50,56,56,56,50,50,50,50,50,50,60,39,39,39,59,59,59,59,39,39,40,40,40,40,55,55,55,55,55,55,40,24,31,31,31,57,57,57,28,28,28,28,28,28,28,33,33,33,33,33,33,33,33,33,33,33,37,37,37,37,37,57,57,57,56,56,56,56,56,56,56,56,56,56,56,59,59,59,40,40,60,60,55,55,55,55,55,55,55,37,37,37,63,63,63,29,29,29,33,33,33,33,33,33,33,33,33,44,44,47,47,27,48,48,48,37,37,45,45,35,35,40,40,40,40,40,40,40,40,40,40,40,40,48,48,48,44,44,44,44,33,27,27,27,27,27,27,27,40,40,40,40,40,40,36,36,53,53,53,45,45,45,45,41,41,41,41,63,22,39,39,39,39,29,29,29,29,29,51,51,51,51,51,51,49,49,49,49,49,49,49,49,49,49,49,49,30,30,30,30,30,30,36,36,36,43,43,31,31,31,27,27,43,43,43,43,39,39,39,39,39,39,39,39,39,39,39,39,39,39,29,39,39,39,39,39,39,39,39,39,39,50,50,50,50,50,50,59,48,48,48,57,57,57,57,56,56,56,29,37,37,37,37,36,36,36,36,36,36,31,26,26,26,26,26,43,43,43,43,33,33,33,33,33,33,44,54,54,54,54,54,58,58,58,58,58,58,54,54,54,54,54,54,54,54,54,54,54,48,48,39,39,39,39,31,31,31,31,31,31,31,31,44,44,44,44,44,44,44,44,28,28,28,46,46,46,46,46,35,24,24,24,24,24,32,32,32,32,32,58,58,28,28,28,28,55,55,33,44,44,44,28,28,28,28,36,36,36,36,36,47,47,54,54,54,54,53,38,38,38,30,30,30,30,30,47,33,33,33,33,33,33,31,31,31,31,31,31,31,31,25,30,30,30,30,30,30,30,30,39,39,39,39,39,40,40,32,31,32,29,57,57,57,57,28,28,28,28,47,31,27,27,27,27,27,27,54,54,54,39,39,39,47,34,34,34,34,34,34,38,38,38,38,38,38,38,27,27,27,27,55,55,55,55,55,25,61,61,44,62,56,56,56,56,56,56,33,35,35,35,60,60,60,60,29,29,29,56,56,56,56,56,56,50,50,50,57,38,38,38,37,37,37,35,35,35,35,35,35,35,55,55,55,32,32,53,53,53,53,53,53,53,49,22,22,51,51,51,51,28,28,28,34,34,34,43,43,43,43,43,43,43,43,43,33,33,22,22,22,22,43,62,62,62,22,22,22,33,27,27,27,27,45,45,37,43,43,43,43,43,43,44,44,44,65,64,64,64,63,63,50,50,50,40,40,40,40,61,50,50,50,42,42,42,42,59,59,31,57,57,57,57,57,57,57,57,57,48,30,60,60,41,41,41,41,41,42,42,37,37,53,53,53,53,53,66,51,51,59,59,59,59,59,63,63,23,63,63,27,27,27,27,27,27,27,27,27,27,27,27,27,27,27,41,41,41,41,45,45,45,41,56,39,50,50,50,50,50,50,50,50,32,32,31,51,51,51,68,30,37,48,48,48,48,48,48,48,48,48,48,48,48,48,55,43,43,43,43,43,43,43,43,25,25,25,25,58,58,43,32,38,66,66,66,50,59,56,50,44,37,51,29,29,23,55,47,43,49,49,49,45,31,41,41,59,56,51,36,64,31,38,38,67,67,53,35,41,33,59,31,31,62,56,56,39,39,39,39,39,48,66,66,48,48,35,55,47,47,47,47,64,64,64,41,41,41,49,49,49,49,49,59,59,59,59,27,27,27,26,26,26,26,26,26,38,27,27,27,54,54,54,59,59,59,59,29,29,29,29,29,29,29,34,34,34,34,34,34,35,35,35,35,35,35,35,35,35,23,23,23,48,48,48,48,48,48,48,48,48,48,48,48,48,53,53,53,53,40,40,40,40,40,40,40,40,44,44,44,44,44,44,48,48,63,63,63,63,63,61,61,27,27,56,47,47,47,29,59,59,59,58,58,56,54,54,54,54,54,54,67,67,67,67,67,67,67,27,27,27,63,58,55,47,47,47,31,31,31,49,49,25,57,57,57,57,41,52,58,58,58,51,51,51,51,51,35,35,35,35,29,29,38,38,38,38,39,39,57,38,47,47,47,47,34,34,34,34,34,34,27,27,27,27,56,56,56,56,56,56,41,41,41,41,41,62,62,62,62,62,62,62,62,23,23,53,59,58,58,58,58,58,58,64,64,64,64,64,43,43,54,27,63,63,63,60,60,60,60,60,60,42,53,40,40,40,40,40,29,29,29,55,55,25,41,41,26,26,35,35,43,43,43,43,54,54,54,54,54,54,36,36,36,36,36,36,36,36,36,52,52,38,38,38,58,58,58,58,58,58,58,58,58,52,34,34,34,34,34,34,34,34,30,30,30,31,31,31,31,31,31,31,31,63,51,51,57,57,57,57,57,57,46,46,46,46,46,46,46,46,59,59,59,59,59,59,59,59,59,25,25,25,25,25,25,25,25,25,25,25,25,25,25,25,25,30,30,30,45,45,45,39,50,50,50,50,38,38,38,38,38,38,38,38,38,38,63,63,63,63,63,63,63,63,42,42,42,42,42,42,42,42,42,42,52,52,52,52,52,52,52,52,41,41,41,41,41,57,57,36,36,66,66,66,66,66,66,66,54,59,59,59,50,50,50,35,35,35,35,57,57,57,25,25,25,25,25,46,46,46,46,46,54,54,54,54,37,37,57,57,57,57,57,64,64,64,64,44,44,44,35,35,35,62,62,39,39,39,39,46,46,46,40,44,44,44,44,44,44,37,67,65,65,65,65,36,36,36,36,58,58,58,58,58,58,49,49,49,49,49,49,49,49,49,49,49,49,32,29,29,29,29,30,30,30,30,30,30,30,26,26,26,43,43,43,43,43,43,43,43,43,43,43,58,58,58,58,58,58,58,58,51,51,51,51,51,51,51,51,51,51,65,65,65,38,38,38,38,38,38,38,38,66,66,66,66,66,66,66,66,66,41,41,41,51,51,51,51,51,51,51,51,51,50,50,50,50,62,62,62,62,62,51,51,51,51,53,53,53,53,67,67,31,31,31,31,31,31,31,31,31,25,25,25,61,61,61,61,61,61,61,61,59,59,59,59,59,59,59,59,59,24,24,24,24,24,24,24,46,46,62,62,62,62,62,62,62,62,62,62,62,62,58,58,58,58,58,58,58,32,32,32,32,32,32,32,32,32,32,32,24,24,24,24,24,53,36,36,36,36,48,48,48,48,48,48,48,48,48,48,66,66,66,66,66,66,66,66,66,66,66,66,66,66,65,65,65,65,65,65,65,65,65,65,65,65,65,65,63,30,30,30,30,30,60,60,60,60,57,57,57,57,57,57,57,38,38,38,38,38,55,55,55,55,29,29,29,57,57,57,57,57,57,57,57,57,57,57,57,57,22,22,22,22,22,22,22,61,61,61,61,61,44,30,30,30,30,30,58,53,53,53,53,53,53,53,34,36,55,55,24,24,24,24,30,28,28,50,50,50,50,30,30,30,30,30,30,30,30,30,51,51,51,51,51,51,51,51,51,51,46,46,46,46,46,46,46,46,46,46,46,46,46,62,62,65,65,65,65,65,65,65,65,56,56,56,56,56,56,56,56,56,42,42,42,42,63,63,63,63,37,37,33,33,33,33,33,43,43,43,43,43,43,24,24,24,62,62,62,62,62,62,36,36,36,36,36,36,36,36,36,36,36,36,36,36,36,36,36,36,24,24,24,24,24,24,24,24,39,39,39,59,59,59,59,31,31,31,31,31,56,56,56,56,56,45,45,26,26,26,26,26,55,55,55,55,55,55,40,40,51,51,51,51,51,51,51,51,49,35,35,35,35,63,63,67,34,34,34,48,58,36,36,28,28,28,28,28,28,38,27,27,27,27,52,52,52,52,52,52,52,52,52,32,32,32,46,46,46,46,46,53,53,53,53,53,53,39,39,39,29,29,29,60,60,35,35,34,34,31,31,31,31,31,34,34,39,39,39,36,36,36,55,55,55,55,55,55,66,66,66,66,66,66,66,66,42,42,42,42,42,42,39,39,39,39,39,39,39,39,39,39,47,47,47,47,47,47,47,47,47,47,47,36,36,36,36,36,36,36,43,33,33,33,33,30,30,30,53,53,53,53,53,53,53,53,53,53,53,53,53,53,53,53,53,53,41,57,57,57,57,57,54,54,54,54,32,32,32,32,65,52,52,52,22,22,22,22,22,22,30,48,48,48,48,48,55,55,55,48,48,48,48,48,48,48,54,54,54,54,54,54,54,54,54,54,54,54,45,45,45,45,45,45,45,57,57,43,43,43,43,43,24,24,24,41,41,41,41,23,23,23,57,57,57,48,48,48,36,32,57,57,57,57,28,28,28,28,28,28,28,28,28,53,53,37,37,37,37,37,37,37,37,37,23,39,39,39,39,39,29,29,29,29,29,29,66,66,66,66,66,66,66,66,66,66,38,38,38,38,56,56,56,62,31,31,31,31,31,31,31,54,54,54,54,54,54,42,42,42,42,37,37,37,37,37,37,37,45,45,45,45,45,50,67,67,67,42,42,42,42,42,35,35,35,37,25,25,25,25,25,25,25,25,40,40,24,24,24,24,24,24,24,38,44,37,37,37,37,37,37,37,37,37,37,37,37,37,37,35,35,35,35,35,35,35,35,35,35,35,33,66,66,66,66,61,61,61,61,61,45,45,45,45,45,45,57,27,27,58,58,24,24,24,24,24,59,59,50,50,50,50,50,50,50,50,50,29,31,31,31,31,31,31,51,51,51,35,35,35,37,37,37,37,37,37,37,37,37,37,40,40,40,40,40,40,40,53,53,39,61,55,55,55,55,55,55,55,55,39,39,39,39,39,39,39,39,39,39,42,46,46,46,26,26,41,41,41,41,41,36,36,31,31,31,42,42,42,42,34,36,48,53,26,50,50,50,50,61,41,41,40,40,40,58,58,58,58,28,28,28,28,28,28,45,45,28,28,45,45,45,44,44,44,44,44,44,44,64,62,63,63,34,34,42,57,57,48,48,48,43,43,43,43,64,64,64,40,48,36,36,36,36,36,36,47,46,46,46,36,52,44,26,37,37,55,55,27,34,34,52,50,50,34,34,34,34,34,34,34,34,34,34,53,53,45,26,26,32,35,35,35,47,47,47,57,57,67,67,67,31,37,37,36,49,49,30,30,30,30,30,38,38,38,38,38,38,38,56,56,56,57,57,64,64,44,44,44,44,22,41,41,41,41,58,58,58,58,58,46,25,25,45,44,44,44,28,40,40,40,59,59,39,52,52,52,52,55,36,31,31,31,31,45,45,45,49,47,47,47,47,47,28,27,66,43,43,43,43,43,43,43,43,43,58,65,65,65,45,60,60,60,60,60,43,43,43,43,43,54,54,46,46,46,53,40,40,39,39,39,39,25,57,57,57,47,47,47,47,47,35,35,35,35,35,65,61,62,66,66,66,43,43,43,32,52,52,22,39,43,57,46,46,46,46,46,54,54,54,56,56,45,45,45,45,45,45,45,45,45,45,45,49,49,49,49,49,49,34,34,34,34,34,53,53,35,35,35,35,35,44,44,44,44,47,47,30,30,30,55,55,55,44,44,44,44,44,60,45,45,45,45,45,26,26,37,62,33,33,33,33,33,33,28,28,28,48,48,48,48,48,54,54,54,54,54,49,49,49,49,64,64,64,64,48,48,48,22,22,56,56,56,32,32,32,32,32,32,32,33,33,40,40,58,58,50,50,51,51,51,51,51,51,31,31,31,58,58,58,58,52,30,30,30,30,30,30,30,40,44,44,44,44,44,44,45,45,45,45,45,45,45,35,35,35,41,41,26,26,67,67,67,49,49,46,54,54,62,62,62,62,62,62,62,51,51,51,58,58,58,41,41,41,53,51,51,39,39,39,27,27,41,41,42,42,42,42,42,42,42,45,45,45,45,45,45,45,45,45,45,45,45,45,59,59,59,59,59,47,47,47,44,44,46,59,59,27,27,27,37,37,37,37,37,37,37,37,37,39,39,39,39,39,39,57,37,40,40,40,31,31,30,30,30,30,30,39,39,39,63,63,63,63,63,63,63,63,63,63,63,68,68,58,48,48,48,48,48,48,48,48,48,48,56,56,49,49,58,58,30,30,51,55,27,46,46,46,37,37,23,54,54,54,51,60,60,45,45,47,29,42,42,42,51,51,51,51,51,51,50,48,33,33,33,37,37,37,40,40,40,40,60,60,45,45,45,53,64,64,64,64,64,64,53,53,53,53,64,64,64,28,28,28,28,38,38,38,38,58,58,32,32,32,32,32,32,57,57,57,57,57,57,57,57,57,31,31,31,31,31,32,32,32,62,62,26,26,26,26,33,33,33,57,57,57,57,57,57,57,54,54,54,54,54,54,54,54,54,37,37,37,37,37,37,36,36,36,36,36,54,54,54,54,54,54,54,54,54,50,50,50,29,27,27,61,61,61,61,61,61,44,44,62,62,46,46,46,46,46,52,52,37,37,37,37,37,37,37,45,45,45,45,45,45,45,26,40,40,39,39,39,39,64,44,44,44,44,44,25,25,25,25,25,25,25,25,25,25,25,25,25,25,25,25,59,47,47,47,47,50,50,50,50,50,50,50,50,50,50,50,32,32,63,63,63,63,63,49,49,49,49,56,56,56,56,56,56,60,60,60,60,60,60,60,62,62,62,62,62,51,35,35,35,35,31,31,31,31,31,31,31,31,31,31,62,29,29,29,29,29,35,35,35,23,59,59,59,59,49,49,49,49,49,49,61,35,35,51,51,51,51,51,37,60,60,60,58,58,58,58,58,58,64,64,64,64,27,27,51,51,62,41,26,26,26,25,25,25,25,35,35,35,51,51,51,51,51,23,49,49,49,49,49,49,49,40,40,40,40,60,60,53,42,42,42,54,54,31,31,31,45,45,45,45,45,45,45,45,48,48,56,62,62,62,54,54,56,23,23,48,51,51,51,51,51,24,24,63,59,48,48,48,48,48,48,48,21,27,27,34,34,34,34,34,34,34,34,34,34,28,28,28,28,28,28,25,25,60,60,55,55,55,63,63,63,63,63,63,63,63,63,27,42,42,42,42,42,42,42,34,25,25,25,25,25,53,53,53,46,51,36,36,36,48,48,48,48,48,48,58,58,58,58,58,58,58,40,40,40,32,32,63,46,46,39,51,51,51,51,51,51,51,51,48,48,48,48,48,48,48,48,48,48,48,48,48,46,46,46,46,46,46,46,46,46,46,58,58,58,58,58,58,58,58,58,36,36,36,36,36,36,36,36,36,62,62,62,62,46,46,46,46,46,46,46,46,46,46,46,46,46,49,49,60,60,60,60,60,60,60,60,60,60,60,43,43,43,43,43,43,43,43,54,54,54,47,33,33,33,33,53,53,53,63,63,63,63,63,42,42,31,31,31,48,48,48,48,48,48,47,47,47,44,44,44,54,54,54,50,50,62,62,62,62,62,62,62,38,59,53,53,53,29,29,29,29,29,29,58,46,46,46,46,50,50,56,56,56,56,56,56,56,53,53,46,46,46,46,35,30,30,30,36,36,36,59,51,27,49,49,44,44,44,44,44,61,61,61,61,61,61,61,61,37,38,38,43,30,30,30,30,30,54,36,36,52,52,52,34,34,30,30,30,42,53,53,26,26,26,26,36,26,26,26,26,62,62,62,62,50,50,50,44,44,44,44,44,27,27,27,27,57,57,49,49,49,49,39,38,38,38,32,32,53,53,53,33,33,33,34,34,34,23,38,38,38,38,58,58,58,58,48,60,60,27,27,27,34,34,34,33,33,33,33,52,52,52,52,57,30,30,28,60,60,51,51,51,51,37,27,27,27,27,41,41,41,59,59,59,59,59,59,31,23,50,50,50,50,50,43,43,43,43,43,43,43,43,43,43,43,33,33,33,33,22,22,22,22,22,22,57,54,54,54,54,54,53,53,53,53,48,48,48,33,53,27,50,50,50,50,50,43,43,44,44,37,37,37,37,37,37,37,37,37,41,41,25,43,43,43,41,27,46,44,58,58,58,58,58,58,58,58,61,61,61,31,31,31,31,52,52,52,52,52,52,52,25,25,25,42,42,42,42,42,32,32,32,32,32,32,32,32,40,40,40,36,36,36,36,36,42,42,28,28,40,40,40,40,27,27,36,36,36,24,24,24,24,63,63,36,36,48,48,48,48,48,48,49,44,44,44,44,50,50,36,36,36,50,50,50,30,32,32,32,32,32,32,39,39,39,39,39,41,41,36,57,57,62,62,62,54,54,54,56,56,56,29,39,39,39,27,56,56,56,28,31,31,31,31,51,64,64,64,64,64,55,55,32,42,42,42,42,40,37,37,37,37,37,37,37,55,55,25,25,25,25,25,25,41,48,48,61,26,26,60,60,41,41,47,47,47,29,29,29,29,40,40,40,38,38,38,38,38,44,44,44,44,50,41,29,29,29,29,29,59,59,55,55,55,55,55,55,55,55,56,45,45,45,23,23,23,23,34,34,59,59,59,59,59,59,59,48,48,48,48,48,48,48,48,48,48,48,48,48,48,26,51,51,51,51,51,38,38,38,38,64,31,31,31,49,49,49,49,28,22,22,49,56,56,56,63,63,64,64,30,36,42,42,42,42,42,42,42,42,42,42,52,52,52,52,52,52,52,52,28,28,28,48,23,54,54,54,37,37,40,40,40,43,37,37,37,46,46,46,55,55,55,55,30,30,30,47,47,47,47,28,28,28,32,40,57,57,59,37,37,37,37,37,46,46,35,35,35,51,46,46,59,44,44,44,44,26,26,40,40,42,41,57,57,57,57,42,33,33,24,55,55,55,60,60,25,25,25,25,25,25,25,25,25,32,32,32,62,62,54,32,32,32,32,45,45,45,35,35,35,35,35,50,50,50,50,50,23,23,23,23,23,26,51,51,51,51,51,51,51,26,26,46,46,46,46,46,46,46,46,46,23,23,23,44,44,44,44,49,43,43,43,41,41,23,23,23,23,33,33,33,33,27,27,37,37,37,37,46,46,39,39,39,39,39,39,26,40,39,39,39,29,29,29,59,59,59,40,40,40,55,55,52,36,27,47,31,46,46,31,31,37,37,37,37,60,60,56,56,56,55,60,64,62,36,36,40,40,40,42,42,54,54,54,39,37,54,54,54,54,54,51,51,51,51,24,28,28,28,28,28,39,39,40,40,40,40,40,35,47,55,55,55,28,28,28,28,52,52,52,52,56,53,53,38,38,38,36,36,36,36,30,30,30,32,58,58,58,58,58,46,46,46,46,40,40,40,37,37,37,37,55,55,43,39,67,67,60,55,28,28,28,28,44,32,32,32,32,43,29,60,61,61,33,33,64,64,64,64,64,32,32,32,32,32,32,32,32,32,32,32,38,59,59,59,59,59,59,36,36,37,37,37,37,26,58,58,58,57,39,39,41,41,24,24,24,61,61,61,61,61,61,61,61,61,36,36,66,53,36,27,61,61,58,57,41,40,40,40,40,40,40,33,33,42,42,42,35,60,30,30,30,34,34,34,34,34,64,64,48,47,47,47,33,33,33,46,46,46,46,46,46,46,43,32,32,41,40,41,37,37,37,37,40,40,40,48,48,37,37,37,35,35,60,60,60,60,37,26,26,27,27,27,27,27,27,27,27,27,27,53,54,47,47,50,47,47,47,47,56,67,22,61,61,61,61,38,38,30,53,29,39,39,39,40,40,40,31,26,46,46,34,34,34,42,42,47,30,30,27,27,27,27,27,27,27,27,62,44,43,43,58,42,25,25,25,36,53,34,34,34,34,34,34,44,63,63,63,63,52,33,33,33,33,53,37,37,37,37,37,37,37,37,57,57,48,48,48,48,48,48,55,55,55,50,57,57,57,57,59,59,56,56,56,44,44,53,35,41,41,41,41,46,40,40,40,40,53,53,53,53,36,36,36,36,36,38,38,38,38,38,31,31,31,52,52,52,49,49,46,46,38,38,38,22,53,53,53,53,36,59,59,59,32,32,31,31,38,53,53,53,53,53,23,55,55,55,55,55,38,49,49,49,49,49,49,26,26,26,49,49,49,49,47,51,42,42,42,40,40,40,40,40,46,61,27,27,56,56,56,56,56,56,56,56,30,49,49,26,54,54,54,29,33,33,33,33,33,51,51,51,57,57,55,37,37,37,34,34,45,45,59,59,59,59,59,59,58,58,58,58,58,46,47,47,38,38,38,38,43,43,43,43,56,56,56,56,56,32,32,60,34,27,27,27,27,40,40,40,40,40,43,58,41,34,41,50,60,60,67,39,39,39,39,64,58,45,50,50,38,38,38,38,32,32,43,43,53,53,66,66,60,60,33,54,54,54,38,31,46,36,42,55,66,66,44,49,49,59,59,59,59,28,28,28,28,59,59,51,51,51,59,27,27,27,45,55,55,47,47,47,47,56,44,35,66,38,61,61,61,60,60,48,62,41,51,40,56,56,59,59,59,63,35,65,50,53,53,53,53,53,53,35,35,46,25,54,65,65,45,45,45,51,60,60,37,28,40,31,61,32,32,28,28,28,31,31,56,56,56,56,56,56,26,26,26,42,42,42,42,42,46,46,46,46,46,46,52,52,52,52,52,52,52,27,27,34,34,34,35,31,48,48,63,63,61,61,50,50,50,50,28,28,28,32,32,57,48,48,48,48,34,40,40,40,40,40,40,40,40,40,40,40,40,53,53,53,53,42,42,42,43,43,32,32,32,47,47,60,60,34,34,34,34,34,34,34,36,36,46,46,46,46,46,46,46,36,36,36,30,30,30,30,30,50,50,50,50,50,50,50,50,38,38,38,62,40,54,54,54,54,54,43,34,34,34,34,52,52,52,42,38,38,38,38,38,38,38,38,42,42,42,60,60,55,55,34,34,51,36,36,36,36,36,36,36,36,53,63,63,63,63,63,63,58,58,58,58,36,36,36,36,48,48,48,48,38,38,38,63,63,63,48,53,53,53,53,53,53,53,29,29,29,51,51,51,51,51,51,51,51,51,51,51,51,37,37,37,37,37,54,54,50,50,50,50,50,50,50,50,50,50,47,47,39,39,39,31,31,31,31,29,30,30,46,46,46,46,56,56,28,60,60,60,60,60,60,60,60,60,60,32,61,61,61,61,61,61,54,54,54,54,55,55,57,57,57,51,51,51,51,51,51,51,59,59,65,31,51,51,59,59,59,59,38,38,38,38,40,39,39,39,39,23,36,35,35,35,44,54,54,54,24,24,24,24,30,35,35,35,35,35,35,35,35,50,50,50,50,50,50,35,35,35,35,35,31,31,31,31,31,30,30,30,30,30,30,30,30,30,31,31,31,29,29,38,32,32,32,32,41,41,41,43,43,43,43,43,43,43,44,44,44,44,44,44,44,44,44,29,29,29,29,29,35,44,44,44,44,44,44,44,44,44,44,44,44,40,26,35,35,35,35,27,27,27,40,56,56,42,42,42,63,40,40,32,32,32,54,54,54,54,54,54,54,54,54,48,60,65,65,52,52,52,52,52,48,48,48,48,48,48,48,37,37,37,37,37,22,22,29,29,29,29,29,29,29,29,29,29,39,39,39,39,39,39,39,39,39,43,59,59,59,59,59,59,59,59,59,59,59,59,33,33,33,33,34,30,30,62,62,62,62,62,62,62,62,62,62,62,62,62,62,45,45,45,45,45,45,45,64,64,43,57,57,57,59,59,59,59,52,52,52,52,29,46,46,64,64,64,64,55,36,36,36,36,36,36,36,60,60,60,60,60,60,60,60,60,39,54,52,52,54,39,39,39,39,39,51,34,34,34,34,34,34,25,25,25,25,25,25,25,60,60,65,65,65,65,65,65,65,65,65,65,65,65,65,65,27,27,40,40,33,33,27,27,27,27,27,27,35,35,44,58,37,37,37,37,43,58,50,50,50,50,50,50,50,50,50,50,50,50,50,56,43,49,49,45,55,32,33,41,44,31,35,28,26,46,44,44,58,53,57,50,43,38,33,60,42,53,37,55,37,38,36,35,52,50,27,29,40,38,39,49,30,34,38,34,51,29,64,53,53,40,50,50,56,64,46,63,53,33,64,54,59,27,59,29,31,59,25,45,33,40,29,29,48,57,31,28,33,29,30,32,60,62,61,61,63,51,40,40,40,33,55,33,49,49,54,29,58,42,32,32,35,44,55,42,42,43,29,56,49,67,60,38,62,63,59,45,59,65,46,27,38,48,40,54,53,52,52,59,32,42,32,31,26,57,33,57,41,36,48,48,31,65,58,42,51,46,32,63,48,32,37,64,59,39,41,41,39,40,54,28,54,54,59,42,55,47,41,32,51,64,50,53,59,54,51,55,36,52,32,56,51,43,57,45,45,45,34,55,54,33,59,28,28,44,44,54,31,53,56,56,32,58,58,41,49,66,33,44,29,43,43,26,53,48,57,34,34,54,54,57,43,37,39,37,60,39,53,40,58,31,26,47,48,63,32,54,62,41,57,33,61,50,43,28,43,35,35,41,54,34,46,46,42,47,60,29,39,52,37,34,31,60,41,58,58,35,54,54,56,33,64,52,57,40,56,57,41,41,58,29,28,31,31,46,40,48,59,59,38,36,35,39,34,24,34,35,31,44,29,55,37,63,63,33,33,35,35,40,60,65,22,34,35,34,34,46,41,37,53,51,61,33,54,37,42,42,57,60,47,34,38,34,34,50,32,41,62,59,33,41,38,38,50,62,62,58,46,46,58,35,58,36,49,48,60,42,52,40,59,59,59,57,31,56,52,48,46,46,65,54,48,38,51,39,39,39,39,43,32,29,34,60,61,53,33,36,31,60,36,30,54,42,64,64,40,54,60,47,33,38,61,38,38,55,34,36,36,36,36,55,40,54,61,39,58,48,53,53,51,51,37,50,52,34,40,40,40,40,37,37,37,37,37,37,47,47,47,47,47,47,30,39,39,39,38,38,38,64,64,64,60,23,38,44,44,44,26,26,26,54,54,42,42,42,44,38,38,31,31,45,36,36,36,36,36,36,40,29,29,53,53,67,67,67,67,67,67,67,67,67,67,67,40,40,51,51,51,51,51,61,30,27,34,43,43,43,43,29,29,29,37,37,37,26,26,65,65,65,65,30,30,30,30,30,30,30,30,30,30,30,30,30,40,40,61,61,55,47,52,52,29,30,30,45,44,44,44,44,44,44,37,37,37,37,54,46,46,46,46,46,46,64,64,64,64,35,35,35,35,32,37,40,67,67,41,41,41,41,41,41,41,41,30,30,30,30,30,30,41,40,40,40,40,40,30,30,30,30,30,39,39,60,60,60,60,60,60,60,60,42,42,34,34,42,42,42,35,33,33,33,33,33,33,48,48,48,48,48,48,44,44,44,44,44,44,44,44,44,36,45,45,45,45,45,45,38,38,42,42,42,42,42,42,42,34,34,34,39,39,37,64,63,46,46,46,46,46,31,27,27,27,27,27,27,27,66,66,66,39,66,66,51,51,51,51,51,62,62,62,62,40,40,40,40,40,34,34,34,34,43,37,37,47,47,42,42,42,42,42,42,42,33,33,33,33,33,33,54,54,40,40,40,40,40,40,40,60,56,56,56,56,56,33,33,33,33,33,33,33,27,27,27,50,61,61,61,61,61,50,25,25,25,44,51,25,32,32,32,53,53,53,53,53,53,53,49,49,52,52,52,29,29,29,29,29,46,46,46,46,46,46,46,63,63,63,63,63,44,44,41,41,41,41,41,41,33,33,33,33,33,26,26,26,26,26,38,38,38,38,38,38,38,38,38,38,38,38,38,42,40,40,40,40,40,40,40,40,54,54,30,34,34,34,34,34,41,41,41,41,47,47,47,53,53,29,29,35,35,26,26,41,41,41,41,41,41,41,51,60,60,29,43,57,57,23,23,23,30,30,30,51,51,40,40,40,40,40,40,64,64,64,62,54,54,32,32,32,32,32,32,29,29,27,34,34,33,54,54,54,43,43,50,50,50,50,50,50,50,43,43,43,43,25,27,27,27,27,52,23,54,55,55,55,28,28,43,30,30,65,42,42,54,45,49,59,59,59,28,28,51,51,51,51,42,42,42,42,52,52,51,51,39,39,39,39,39,41,41,41,59,59,59,59,49,49,49,53,53,53,53,62,62,62,62,54,54,54,54,54,54,54,54,43,43,36,36,36,36,36,36,36,36,36,36,36,40,41,32,32,67,31,31,31,31,31,67,43,28,28,28,28,60,60,60,60,36,36,36,48,48,41,41,41,41,41,41,47,47,40,38,38,45,45,45,45,45,26,60,46,59,59,59,59,59,59,44,44,44,48,30,30,28,28,28,51,36,36,57,57,57,57,64,55,55,30,30,30,30,64,64,64,57,57,57,57,57,32,32,32,24,58,58,58,58,58,31,31,31,39,39,39,39,39,39,39,56,56,56,56,56,60,60,54,54,47,47,47,47,47,35,35,48,48,48,48,48,48,48,42,42,42,42,42,42,62,62,62,60,60,60,60,60,60,60,51,51,51,51,51,51,51,51,33,33,33,68,68,68,52,52,52,52,52,52,52,52,52,52,52,52,59,59,50,50,50,50,63,56,45,63,63,64,64,64,64,35,35,33,33,33,66,30,30,30,60,60,60,60,27,27,59,59,59,59,42,31,38,48,48,48,48,33,33,33,33,54,54,54,54,54,54,54,54,61,61,25,25,25,25,25,44,44,44,58,58,41,41,41,41,41,43,41,41,41,41,39,59,59,58,58,34,34,32,32,32,32,42,42,42,42,42,42,48,48,32,32,32,32,34,64,64,64,64,64,41,41,41,50,58,58,54,54,38,38,53,53,53,53,53,53,53,53,38,33,33,33,33,33,33,33,33,28,57,57,24,59,59,59,59,59,59,59,59,29,29,29,36,39,29,29,29,22,35,35,35,35,35,62,42,42,42,28,28,28,28,28,28,62,62,57,61,61,61,61,61,61,61,61,61,63,37,37,37,37,37,37,37,37,37,37,37,59,59,59,39,39,39,58,58,58,58,58,58,58,38,38,38,38,37,37,37,37,37,37,37,37,37,41,43,43,43,50,50,50,50,54,54,54,54,43,43,43,43,43,43,43,26,26,27,27,27,27,42,42,39,39,39,39,39,39,57,57,57,28,28,28,28,28,28,28,30,30,33,33,33,33,33,33,33,33,33,33,33,33,33,33,62,62,62,62,55,55,55,55,55,55,65,65,65,65,33,33,24,24,28,28,37,32,32,44,44,44,44,44,44,44,44,44,24,24,31,31,31,31,31,51,51,51,33,33,33,38,27,27,27,27,27,29,29,36,46,46,46,34,34,42,42,35,35,35,35,35,35,35,33,33,33,32,56,56,56,56,39,63,63,63,31,44,31,31,31,50,26,24,24,24,30,30,23,23,28,28,30,30,38,28,26,26,30,30,30,25,25,29,29,29,25,25,60,29,29,62,62,62,62,62,62,40,40,40,40,40,40,40,40,40,40,57,57,57,57,57,57,57,56,25,25,25,25,25,30,30,30,35,35,39,60,60,60,39,39,39,39,39,24,24,24,51,51,51,51,51,51,51,51,51,45,45,45,45,45,45,34,34,34,29,29,29,50,50,42,42,40,33,38,38,38,56,56,56,56,56,56,56,56,56,56,41,41,41,41,41,50,50,50,50,50,33,33,33,43,43,43,43,42,42,42,42,28,28,28,56,56,56,56,56,56,56,56,56,56,56,56,47,47,44,41,41,41,41,41,41,44,44,44,44,44,44,44,44,44,44,44,44,44,44,44,44,44,44,34,34,38,42,42,53,53,27,27,27,27,27,27,27,27,27,27,27,27,27,27,41,41,41,41,41,48,48,48,48,48,40,40,31,31,55,55,55,55,32,32,39,39,39,39,39,40,40,40,40,40,40,40,40,44,44,49,49,29,29,29,61,29,29,29,29,29,29,49,32,32,32,41,43,43,43,43,50,28,28,28,27,27,27,27,53,53,53,53,53,53,23,42,42,42,42,42,42,40,40,40,42,42,42,42,59,59,43,43,38,38,38,38,35,35,36,36,48,48,48,53,46,46,46,46,46,46,46,46,56,56,38,38,34,26,42,42,42,42,42,42,64,60,49,49,49,49,38,50,47,47,47,25,25,25,25,25,55,55,38,38,38,38,38,26,26,63,63,63,28,28,64,64,32,32,49,49,49,49,49,49,33,34,40,40,40,32,32,56,38,38,38,46,46,46,46,46,46,46,46,31,31,31,43,43,52,52,52,52,52,34,34,34,34,34,34,34,34,34,34,46,27,27,27,27,63,43,43,43,43,35,35,35,35,49,49,44,44,44,44,44,44,38,56,36,54,54,40,40,40,40,40,40,40,40,40,40,40,40,40,40,40,40,54,54,63,63,63,63,63,63,31,31,31,31,37,37,37,37,37,37,37,37,26,26,39,39,33,28,28,28,27,27,27,38,38,30,30,30,30,47,47,47,60,39,39,39,39,39,39,39,39,58,58,61,61,61,61,61,55,55,55,44,44,29,29,29,29,39,39,39,39,39,39,39,46,46,40,40,40,40,40,40,40,46,27,39,39,59,59,59,59,59,59,59,66,66,66,66,66,55,55,33,36,36,55,55,55,55,52,52,52,30,30,48,48,48,48,48,48,48,48,46,46,35,61,61,61,61,61,61,61,61,61,61,49,49,49,49,49,49,49,49,30,30,41,41,40,45,43,43,43,26,24,47,44,49,49,62,32,39,36,36,32,46,46,39,36,34,35,44,57,38,35,54,50,32,25,31,62,60,53,57,30,54,58,45,49,26,33,49,58,33,24,43,32,56,27,35,54,33,28,31,27,23,29,29,51,37,37,33,33,28,42,47,35,35,27,42,42,55,53,23,36,36,54,54,33,54,37,53,66,51,44,44,60,33,46,52,53,53,64,32,38,36,27,45,40,47,57,57,40,55,36,40,40,40,49,52,42,42,45,35,53,53,45,31,31,35,40,60,60,54,64,52,64,34,34,40,64,29,28,32,35,41,52,63,61,30,30,30,38,38,38,38,38,38,38,38,38,38,55,55,31,29,29,29,51,51,51,51,51,51,29,27,27,27,27,27,27,27,27,27,27,27,27,27,27,62,40,40,40,40,41,41,41,41,41,41,41,41,38,38,38,38,38,33,33,31,31,31,31,60,60,60,60,60,60,60,60,60,60,32,32,60,32,47,47,40,40,40,40,40,49,49,49,49,44,44,27,27,59,59,59,59,59,28,28,28,31,31,31,31,37,37,37,55,55,29,29,27,27,27,27,27,27,46,53,53,53,53,41,41,41,40,40,40,40,30,30,56,56,56,56,56,56,56,56,56,59,59,59,27,27,27,27,55,41,41,36,36,36,36,36,35,35,48,41,28,28,28,52,52,48,37,42,42,40,40,35,62,32,36,46,30,39,39,56,46,30,42,32,27,46,46,55,41,41,41,41,28,56,56,37,32,32,53,61,44,52,29,39,29,42,52,37,58,60,29,30,48,64,28,41,48,42,55,55,60,32,31,32,32,47,38,55,55,48,43,48,42,42,43,39,39,63,54,54,42,32,40,55,42,35,54,37,63,63,42,54,29,50,63,54,28,68,47,47,56,37,37,39,44,41,44,48,52,59,40,47,47,59,59,50,35,35,34,27,27,34,66,44,65,67,42,66,50,41,53,53,39,62,56,50,65,39,53,30,30,38,51,68,57,33,55,55,34,38,46,37,42,42,42,42,35,35,27,46,36,37,28,48,66,27,27,29,29,29,27,27,27,32,39,44,51,34,54,29,41,35,28,63,30,58,58,62,36,41,66,66,33,46,49,27,48,48,36,30,36,32,39,32,32,58,58,53,46,62,29,44,40,40,47,60,44,32,40,28,42,37,37,27,28,60,40,34,50,47,26,32,32,32,28,33,33,33,33,33,33,33,26,62,59,59,59,59,56,56,56,29,29,29,48,48,48,43,43,51,51,51,51,51,51,51,30,30,27,27,46,57,57,57,45,40,40,40,37,37,59,59,59,59,59,59,59,48,48,48,48,24,53,53,53,53,53,53,53,59,59,59,59,59,59,59,39,49,46,46,46,46,46,46,46,46,46,46,48,48,48,51,31,31,31,31,31,34,34,41,41,41,34,34,62,62,62,62,32,32,32,31,48,37,37,37,37,37,37,48,48,48,48,48,48,48,48,57,33,33,29,29,29,29,29,29,28,28,28,28,51,51,51,29,29,29,29,29,29,29,29,27,27,27,27,27,39,39,39,51,51,51,51,49,36,36,57,57,44,44,44,28,28,28,28,28,28,28,28,28,47,47,47,59,43,43,43,43,43,27,23,41,41,41,47,47,47,64,32,62,62,32,35,38,38,40,40,40,40,37,37,37,37,37,37,28,28,28,29,29,29,44,44,44,44,44,44,51,29,29,28,28,28,28,57,33,32,32,55,45,45,45,33,33,33,33,33,60,60,39,39,39,39,39,39,39,39,44,44,44,31,31,66,28,28,28,51,51,51,39,49,29,29,29,31,31,45,45,45,60,60,26,29,29,35,35,35,27,27,34,34,34,34,50,50,50,50,50,50,50,50,50,39,39,39,39,39,39,39,28,35,27,27,27,27,27,27,27,36,36,46,33,33,33,33,33,57,57,57,55,59,59,59,59,59,59,26,26,43,43,43,67,25,25,25,29,29,29,37,36,36,36,36,27,27,27,27,27,27,47,47,55,27,27,27,27,31,31,31,25,25,25,25,25,50,54,54,46,46,46,63,63,63,37,37,37,37,32,29,29,29,29,29,29,27,30,30,30,30,30,30,66,37,33,33,58,31,31,31,36,36,36,36,36,36,57,57,57,57,48,48,48,48,48,48,48,41,41,37,28,28,28,65,38,56,56,25,25,39,33,33,33,33,33,33,37,37,37,37,37,37,37,24,59,59,59,37,37,37,40,43,43,43,43,43,44,44,30,30,30,30,30,30,30,30,24,24,30,53,53,53,53,53,53,54,54,55,55,55,55,55,55,60,60,32,27,27,27,48,48,48,48,62,62,62,62,58,58,58,28,28,28,28,28,28,44,44,56,56,31,31,31,31,41,41,41,33,33,51,51,51,51,28,28,28,28,28,28,28,34,34,34,58,58,39,39,39,30,30,55,55,30,30,43,43,43,43,43,43,43,43,26,26,26,26,40,40,39,30,30,43,43,43,27,27,27,27,27,27,41,41,41,41,41,36,36,36,36,62,24,24,32,38,38,57,57,57,32,61,61,61,61,61,38,53,53,41,41,41,41,41,41,49,33,33,33,33,33,33,30,30,30,30,30,30,30,30,30,30,54,54,54,35,35,35,58,58,58,58,58,58,59,43,43,47,47,28,28,28,28,28,28,28,28,51,51,36,36,36,36,64,64,64,44,57,57,57,57,57,50,50,37,39,39,39,39,39,39,47,47,56,56,56,56,56,56,56,57,48,48,48,35,35,35,29,29,33,33,33,35,61,61,61,48,48,48,48,30,30,30,31,31,31,42,42,40,40,41,41,38,38,38,38,38,41,41,41,53,45,39,29,29,29,29,29,36,36,58,29,29,30,30,30,30,30,35,51,51,47,47,47,47,47,26,26,61,61,61,61,61,61,61,61,61,61,61,61,61,51,51,51,51,28,28,28,37,37,37,37,37,35,35,35,35,35,35,35,35,44,44,44,44,44,44,44,44,44,45,45,45,45,45,33,33,33,33,54,54,54,54,54,54,54,54,54,58,58,58,58,58,58,58,58,58,58,58,58,58,58,47,47,47,47,47,47,47,25,59,59,59,59,59,40,40,40,51,51,51,51,51,51,51,50,50,50,50,50,50,50,50,50,50,50,50,50,50,50,34,34,34,34,30,30,30,30,30,30,30,30,30,30,30,30,30,30,30,63,63,63,63,63,63,63,63,56,56,43,30,30,30,45,45,45,45,45,45,53,53,53,53,40,40,40,40,40,40,40,40,27,31,31,36,41,32,43,55,33,59,52,36,33,64,51,39,27,30,33,37,45,23,57,57,50,45,35,32,45,60,48,37,64,54,61,30,53,41,60,38,37,62,34,35,50,38,38,58,39,56,52,29,53,63,31,23,37,46,60,50,57,66,46,36,29,34,36,36,41,49,43,39,55,64,49,61,47,52,26,62,31,56,43,65,64,33,27,38,53,24,59,31,33,46,36,55,43,40,59,47,37,61,58,40,55,40,41,34,45,27,50,55,33,38,50,50,40,32,32,35,46,53,57,53,36,40,41,41,60,46,36,56,41,42,42,45,45,54,54,54,42,42,28,28,48,65,37,37,35,35,52,59,59,36,36,57,46,59,32,47,47,36,33,27,35,57,31,31,53,41,34,48,48,53,37,35,30,26,32,32,55,48,37,37,37,59,27,63,25,32,34,51,41,41,49,29,29,45,45,45,45,45,45,38,38,32,32,32,32,32,32,32,46,61,61,40,40,26,31,31,31,31,31,31,31,26,26,42,42,42,42,42,42,53,53,53,53,53,61,61,61,61,61,61,57,57,40,40,31,31,31,31,30,24,24,50,50,50,50,39,39,39,39,39,25,25,25,25,25,25,51,51,51,51,51,52,52,52,52,48,48,48,48,23,23,23,23,28,28,28,28,33,34,34,34,22,51,51,51,51,58,51,51,51,51,51,55,44,44,44,49,49,49,34,64,64,64,29,29,29,38,38,38,48,48,48,30,30,44,26,26,26,26,26,26,27,27,39,39,39,39,39,47,47,47,47,47,47,47,47,47,51,42,57,57,57,57,57,57,40,40,65,65,41,41,41,41,41,41,41,53,53,53,53,26,26,26,26,39,39,48,32,32,32,32,32,32,30,48,48,48,53,53,53,34,34,34,34,34,41,53,53,53,63,21,33,33,65,65,65,65,65,65,52,52,52,52,52,52,52,52,52,52,45,45,45,33,33,33,33,41,41,59,59,59,35,39,39,49,49,49,49,44,44,44,44,53,42,42,42,42,24,28,39,39,39,39,39,39,39,53,30,37,41,41,55,55,37,37,37,35,35,35,35,35,35,35,35,32,45,45,45,45,24,24,55,55,55,55,55,32,23,24,24,24,24,24,24,24,54,41,41,41,28,28,28,28,28,44,44,44,44,44,44,44,37,37,37,52,52,52,52,52,52,52,52,52,52,52,52,52,52,52,64,64,64,64,64,43,43,43,63,47,47,47,47,47,47,63,63,35,35,37,35,46,46,37,37,23,23,23,23,45,45,32,32,32,32,32,32,32,32,32,33,53,53,36,36,36,36,36,36,36,36,36,36,36,36,36,36,22,22,26,26,26,26,26,34,34,34,40,40,40,40,40,40,40,40,40,40,40,40,40,40,40,40,40,51,47,47,49,49,49,49,39,39,39,39,39,41,41,30,30,36,44,44,44,44,44,44,44,36,36,36,36,36,36,65,42,42,42,46,65,65,65,65,65,31,31,31,31,57,57,57,57,57,57,57,56,56,56,56,56,41,41,41,27,27,27,27,25,39,42,42,53,53,22,22,46,46,46,46,46,38,38,38,38,38,38,38,38,38,38,38,38,32,32,32,32,32,50,50,51,51,51,51,51,45,45,45,45,45,35,35,31,31,31,31,31,34,34,34,54,54,54,24,24,24,24,52,52,52,52,33,33,33,28,28,28,50,50,50,26,38,27,27,27,27,27,27,27,27,27,26,26,26,26,26,26,26,26,26,26,46,46,46,46,26,26,26,28,28,28,37,37,37,41,41,51,51,51,51,51,51,51,52,52,52,31,31,31,31,31,31,31,32,32,32,32,32,25,65,65,47,47,47,43,43,43,32,32,32,32,32,59,59,32,62,62,62,62,27,27,63,63,57,57,57,57,27,27,27,27,27,27,27,27,27,27,60,60,60,60,60,60,60,60,60,60,60,48,48,29,29,29,29,29,29,46,46,46,46,46,46,41,41,41,29,29,29,29,50,29,29,29,29,29,62,47,47,47,47,47,47,47,36,36,52,52,52,53,53,53,53,53,53,54,54,54,54,54,29,29,29,30,37,37,52,52,52,52,22,22,22,46,46,46,61,61,61,41,40,40,40,30,46,59,59,59,59,31,31,31,34,34,34,34,34,34,47,47,47,47,47,47,62,53,53,36,50,48,48,48,48,48,48,48,25,25,25,25,25,57,57,57,57,57,57,57,57,57,66,66,46,46,60,44,44,44,44,44,44,44,44,44,44,44,29,35,35,35,35,39,39,39,59,59,58,58,52,52,40,40,40,35,40,40,37,45,45,45,45,45,45,45,45,32,32,32,32,45,30,30,30,23,23,43,39,39,39,39,37,56,56,56,29,27,27,27,27,27,27,62,62,62,62,40,40,40,40,25,25,25,25,56,56,56,40,40,40,43,43,43,60,55,36,36,61,61,61,42,42,42,42,42,49,49,49,49,49,49,29,29,29,29,29,29,30,30,58,58,24,66,54,54,54,31,35,35,59,59,28,28,28,28,39,39,39,39,39,56,56,56,29,40,40,40,39,39,39,39,39,39,39,39,39,39,39,29,29,31,31,31,33,33,46,46,59,59,42,42,42,42,42,42,42,42,42,42,42,42,58,29,29,67,67,67,22,22,47,47,47,62,62,62,62,52,52,40,40,40,40,32,32,32,36,42,42,38,45,45,45,31,31,31,31,25,25,25,27,27,43,43,43,43,26,42,42,42,42,48,40,40,40,40,31,31,31,31,31,31,22,36,36,36,36,36,36,36,36,36,36,36,49,49,49,49,49,49,49,49,49,56,56,56,56,56,56,56,39,39,39,44,44,38,38,52,40,36,41,48,48,48,48,49,50,50,50,50,50,50,50,50,50,50,30,30,34,57,57,57,43,43,43,43,43,58,40,40,41,41,41,30,30,30,27,27,42,42,42,42,38,38,38,49,49,42,27,64,64,64,64,64,64,64,64,64,64,64,64,29,29,29,58,58,58,47,35,35,35,35,35,35,35,37,61,61,61,35,68,68,49,49,49,43,43,43,34,34,61,61,61,61,61,61,55,38,38,61,58,58,58,52,52,52,52,52,45,45,45,45,45,45,45,62,62,62,62,62,47,55,55,55,55,28,34,34,38,38,38,56,56,56,33,57,57,57,32,32,32,32,32,51,32,53,53,53,27,27,25,25,25,33,33,30,30,30,30,30,48,48,48,48,48,44,57,33,33,33,33,33,33,47,47,47,47,27,27,27,22,22,39,40,40,40,49,49,49,47,47,47,47,47,29,49,49,47,43,43,43,33,33,33,46,46,46,41,41,35,35,35,58,58,32,24,24,24,24,24,43,43,43,43,43,38,38,38,38,38,38,58,53,50,50,50,50,50,58,58,58,58,29,29,29,29,45,45,45,45,45,29,29,29,29,29,30,30,56,56,56,49,45,42,42,42,42,42,42,62,62,62,46,46,46,46,46,46,32,32,37,37,37,37,37,28,28,28,28,28,62,61,61,61,61,61,56,43,43,54,55,55,55,55,41,41,41,41,41,41,41,41,45,45,39,39,39,58,58,46,46,46,51,32,32,51,51,51,49,27,36,61,61,61,61,52,52,52,52,26,26,33,33,33,33,67,67,67,67,67,22,53,42,42,42,42,24,24,24,24,44,39,39,46,66,60,60,60,36,36,36,36,36,29,29,53,53,53,53,53,53,53,30,30,44,44,44,44,50,50,45,45,45,33,33,33,32,32,51,33,33,33,33,27,27,27,41,49,50,50,26,26,26,64,47,53,40,32,32,57,37,30,47,47,32,53,51,32,32,63,28,27,52,41,41,41,49,49,47,31,50,50,50,28,28,28,32,45,49,49,42,42,39,65,28,53,53,28,28,25,44,27,52,47,47,47,46,29,38,38,38,38,41,41,37,37,44,47,55,40,39,39,39,44,55,55,59,28,39,32,32,48,25,32,30,30,63,34,28,44,35,33,59,28,28,29,62,39,63,44,48,48,34,39,56,59,39,33,61,46,31,35,35,47,47,48,27,27,27,27,27,27,32,32,32,51,38,65,65,65,65,65,65,65,45,58,36,36,36,28,28,28,28,28,30,37,44,44,44,44,48,30,24,44,44,44,44,44,63,63,54,56,56,38,58,58,58,37,37,37,41,41,44,30,30,30,30,30,30,30,44,44,50,50,37,37,37,37,37,22,22,22,37,35,35,35,35,35,35,61,61,61,61,61,61,45,45,45,46,54,38,38,38,38,38,38,38,38,56,58,58,58,58,35,35,49,49,35,45,47,47,47,47,33,33,33,41,41,41,41,26,26,62,62,62,62,49,49,32,32,32,32,32,50,34,34,34,34,34,32,48,48,48,48,48,41,41,26,26,26,26,45,45,45,61,37,44,44,44,44,44,53,53,53,53,42,42,50,46,35,35,54,54,54,32,32,32,32,38,31,31,31,35,38,38,38,38,38,52,52,51,45,45,45,45,45,45,45,45,45,28,28,28,28,33,33,33,33,28,28,39,39,39,39,39,39,39,60,42,42,42,42,42,40,40,40,40,40,40,35,35,35,35,35,62,42,42,42,42,61,61,28,32,32,32,32,32,52,52,52,49,49,49,49,49,36,36,46,46,46,46,46,46,58,38,38,38,38,38,38,38,38,58,58,58,58,58,58,40,40,42,26,26,26,26,26,66,51,33,29,29,29,30,30,30,30,30,30,30,30,37,57,64,64,64,31,31,31,48,48,64,64,64,64,63,63,63,63,64,29,29,29,29,62,62,55,55,55,55,55,55,55,32,32,32,32,32,45,51,51,51,51,51,51,27,27,27,38,38,38,38,38,43,43,43,43,43,43,54,54,54,54,39,39,39,39,39,39,39,39,39,54,54,26,26,26,26,26,26,26,26,26,40,40,62,62,59,59,31,57,56,56,56,47,47,47,44,44,64,64,64,54,53,53,53,53,62,28,28,28,29,29,68,68,47,47,47,47,58,25,50,37,37,50,50,50,50,50,50,23,23,31,61,65,65,65,65,65,59,59,59,59,59,59,59,59,56,56,56,48,48,39,39,34,34,58,58,58,58,58,61,64,64,64,40,40,28,28,28,28,48,48,67,67,67,67,33,27,27,27,31,62,62,62,62,37,37,26,26,27,27,58,37,37,52,52,42,61,32,62,62,62,66,66,50,24,50,50,50,27,34,34,34,26,26,26,26,26,38,37,37,37,37,55,32,32,32,32,32,33,65,65,28,28,28,41,41,41,59,59,53,53,53,53,64,35,68,68,37,56,48,48,48,48,42,42,42,42,42,42,57,63,63,63,63,63,63,56,22,22,22,25,34,25,25,37,37,37,37,37,34,30,30,30,30,31,31,31,41,41,63,37,44,44,44,44,44,44,35,35,35,35,35,39,33,33,33,36,36,35,37,37,52,52,44,44,44,44,44,44,27,27,27,27,27,27,27,27,27,35,35,35,35,27,27,27,41,57,57,57,57,53,30,30,30,52,52,37,37,37,37,37,52,38,38,38,38,38,30,30,30,53,53,58,58,58,58,58,58,58,46,46,46,46,36,36,36,36,36,36,36,36,36,49,49,36,36,51,27,27,50,27,55,55,39,26,26,26,26,26,39,41,41,41,41,41,41,41,41,41,41,41,41,34,31,29,29,29,29,29,29,29,29,29,29,28,28,28,28,56,56,56,56,56,56,56,56,56,56,56,56,56,56,31,31,31,31,31,31,31,33,33,54,54,54,33,33,33,33,33,33,33,29,50,50,50,50,42,42,56,56,56,56,35,44,44,27,27,27,27,27,27,27,34,34,27,41,49,49,49,49,49,49,27,47,47,47,29,29,29,37,37,37,37,40,40,31,31,51,51,37,37,37,37,37,37,37,36,60,60,60,34,34,34,60,43,43,43,49,50,50,50,50,50,43,50,50,46,46,46,46,29,29,29,37,51,51,51,51,31,31,31,35,35,33,33,33,33,44,44,24,24,46,45,31,31,31,31,27,27,27,34,52,52,43,43,30,30,40,40,40,40,29,62,27,27,44,44,28,28,28,28,59,59,59,59,59,44,47,47,47,47,47,62,63,43,33,41,32,32,32,32,32,32,32,32,32,36,41,41,27,47,31,31,42,57,48,48,48,48,48,50,50,50,50,50,50,26,26,63,49,49,37,37,37,37,37,37,37,43,42,42,64,64,35,35,35,35,35,35,35,35,41,41,41,42,24,31,34,34,34,34,34,44,44,44,38,38,46,46,46,57,57,57,57,57,57,27,57,57,57,57,57,27,27,35,35,35,35,35,35,47,47,61,61,61,22,35,33,59,59,59,59,59,59,60,60,60,27,27,27,49,49,27,27,25,25,41,31,31,41,44,44,44,60,60,35,35,35,45,45,45,45,45,45,29,50,50,50,50,50,50,35,35,56,56,50,56,56,56,56,35,35,35,35,43,43,36,57,57,57,40,40,40,40,40,40,37,37,37,37,37,37,64,64,64,50,50,52,39,39,36,36,36,25,25,25,25,42,42,42,42,26,28,28,28,28,28,28,30,48,48,48,61,61,61,61,61,31,31,31,31,23,46,46,42,54,54,54,49,49,49,49,49,49,51,51,51,51,51,51,51,50,42,42,42,42,42,33,33,47,47,62,62,46,44,44,44,50,50,50,50,50,50,50,50,36,36,36,49,49,49,49,38,38,38,38,38,38,27,27,27,27,29,44,44,44,44,44,44,44,44,60,60,62,62,35,30,30,30,28,28,28,56,54,54,54,37,34,34,49,35,35,43,45,45,64,64,64,64,64,64,64,42,46,46,46,46,50,50,39,39,39,39,39,30,30,30,31,31,31,31,31,50,32,32,32,32,49,49,41,41,39,24,24,24,56,56,56,23,31,31,31,31,31,31,31,32,32,50,50,50,50,52,36,36,31,31,31,31,31,31,31,25,32,32,32,45,33,27,27,28,28,28,39,39,39,39,39,44,44,44,40,40,40,40,40,40,55,42,33,33,34,34,34,30,30,60,60,60,36,36,36,55,55,55,55,55,40,40,40,40,40,24,31,31,31,47,47,47,47,47,27,27,27,52,52,38,38,38,38,38,38,38,38,24,50,50,34,38,34,34,30,30,30,40,40,40,40,51,51,51,57,57,57,57,57,57,28,57,57,57,57,56,33,44,44,44,44,41,41,41,41,41,41,41,43,43,43,43,43,43,43,43,43,43,43,43,62,62,43,43,39,39,56,56,34,34,34,34,36,40,40,47,47,47,58,58,58,56,56,56,56,31,31,31,31,31,31,54,54,54,64,64,64,64,46,54,54,54,54,54,54,54,49,49,49,49,34,34,34,34,26,26,26,46,46,58,58,58,58,36,32,57,57,57,57,57,57,57,43,43,54,54,54,26,26,26,35,35,35,21,50,50,48,48,48,48,48,48,46,46,46,46,46,46,46,43,43,29,29,29,29,41,41,33,33,33,33,33,33,33,33,54,37,37,37,37,37,28,28,28,28,28,28,28,28,28,58,58,58,58,58,58,58,58,58,58,37,37,37,60,60,60,60,60,36,36,46,60,60,60,60,60,60,60,51,53,38,38,46,46,39,29,48,48,42,42,47,47,43,53,53,53,53,53,25,50,57,38,52,52,52,52,52,52,29,56,56,56,56,56,33,33,33,28,28,28,28,28,28,28,34,34,36,36,36,36,26,26,46,46,46,46,40,40,37,37,56,56,56,56,56,37,37,27,27,27,27,27,27,22,55,55,62,62,62,62,57,49,49,49,62,51,51,51,51,51,62,52,52,47,47,47,25,30,30,30,30,30,30,30,47,47,47,47,47,51,51,51,54,54,54,54,54,54,59,59,59,28,60,60,59,55,55,55,55,55,31,31,31,31,37,37,37,45,45,45,57,57,57,57,52,45,45,24,24,24,30,30,41,41,41,41,41,41,49,49,49,49,49,56,56,30,30,27,27,29,29,29,29,32,32,32,32,32,60,60,31,54,54,54,32,32,32,27,55,55,34,34,34,57,59,26,43,43,43,43,58,44,33,33,33,37,53,53,53,53,53,53,53,53,46,37,56,58,50,50,50,50,50,50,50,53,46,30,28,28,53,36,36,36,36,36,36,36,36,40,68,47,28,35,35,30,35,35,35,27,27,54,54,54,54,34,34,46,63,63,68,43,56,56,32,38,34,34,34,24,50,30,30,62,32,47,30,30,34,34,34,32,40,28,28,35,35,42,63,63,40,44,55,55,39,41,55,55,55,55,55,55,55,53,42,42,42,42,42,28,28,61,61,61,61,61,61,61,57,27,27,27,28,28,28,28,28,62,38,38,38,35,44,27,27,27,27,27,27,27,46,39,39,36,54,54,54,54,54,54,54,54,27,27,27,29,29,29,29,28,28,28,28,28,28,49,49,49,27,27,27,33,33,33,40,40,40,40,40,40,40,47,47,47,57,57,37,37,56,37,31,31,31,31,31,31,31,31,39,38,25,40,29,26,48,48,32,35,35,31,31,31,31,31,36,50,50,24,52,52,52,44,44,44,46,46,41,41,41,41,42,42,43,43,31,31,63,63,63,63,63,52,52,51,51,45,41,41,39,46,46,46,46,30,30,30,64,50,50,50,48,48,48,65,65,43,43,37,37,37,37,29,43,30,30,30,30,57,57,57,61,61,61,61,51,38,38,38,38,32,32,32,32,32,32,32,32,24,24,24,35,35,35,35,35,58,37,38,42,40,40,65,65,65,65,65,41,31,31,26,26,53,53,53,53,53,53,53,53,53,53,53,53,53,51,51,58,58,58,58,58,58,58,44,44,44,44,44,44,44,44,54,33,33,56,34,34,34,34,34,40,32,32,32,52,52,52,52,39,66,34,34,34,34,34,34,34,56,56,56,56,30,30,62,62,43,43,60,60,55,55,32,56,56,27,27,42,29,41,41,41,41,41,65,31,31,31,31,63,63,63,63,57,40,40,60,60,60,60,60,60,60,60,35,58,58,64,64,44,44,44,44,44,44,53,53,53,29,29,27,40,40,30,65,65,65,65,65,63,63,63,63,63,41,41,29,40,40,40,40,28,28,28,49,50,50,50,65,65,35,35,35,35,56,56,56,56,35,35,35,35,57,42,42,27,27,27,34,34,34,34,33,33,41,41,41,41,50,50,50,50,50,50,39,54,59,59,59,32,32,32,32,49,49,49,49,54,39,39,25,55,55,55,55,55,55,62,62,66,66,66,66,66,32,48,48,48,32,32,32,32,32,32,32,32,32,38,39,39,39,39,28,28,28,33,33,33,50,50,50,59,59,59,35,35,35,56,62,62,62,62,62,21,21,21,21,32,32,32,32,32,40,40,40,40,40,40,40,40,55,55,55,47,47,47,47,47,47,47,47,47,55,55,55,41,32,31,31,31,31,31,31,58,42,42,42,27,27,27,50,50,50,50,50,50,50,50,50,50,35,29,29,29,29,29,38,38,38,38,38,28,47,47,47,50,50,50,50,50,28,28,28,28,28,28,28,31,43,43,35,35,35,41,41,41,37,37,37,37,37,37,37,25,25,25,36,36,36,61,61,61,61,61,27,27,27,28,29,27,43,43,33,47,47,47,47,47,47,47,47,39,39,39,32,32,32,32,32,32,63,63,63,63,29,29,29,29,29,29,47,47,47,47,47,55,55,55,55,64,64,64,64,30,30,30,40,40,40,40,40,40,33,33,33,33,25,25,25,37,37,27,27,35,51,51,51,48,48,48,42,42,42,37,37,37,37,37,37,37,37,32,32,32,32,32,32,30,30,53,34,34,34,59,27,27,27,27,30,56,56,40,40,40,40,40,40,40,51,51,51,51,55,27,27,27,27,27,27,66,66,62,62,62,62,62,25,25,25,55,24,37,51,51,51,51,50,50,50,50,50,50,41,60,28,28,28,28,43,43,43,43,43,43,60,60,39,39,39,39,38,59,59,58,58,58,63,63,63,63,26,26,26,26,40,40,44,44,44,44,44,44,44,38,38,38,38,38,38,38,38,38,38,59,59,59,40,40,40,40,40,40,58,58,58,64,64,37,37,37,37,37,40,40,40,40,29,64,64,64,64,32,32,32,32,32,64,64,64,64,59,59,28,28,28,28,38,38,38,43,43,43,43,65,65,65,65,53,40,40,56,56,57,26,26,26,26,45,64,64,64,64,64,64,61,61,61,61,61,38,38,38,36,33,43,43,43,43,43,43,43,43,28,28,52,52,54,50,50,50,50,39,39,39,39,39,39,39,39,33,33,33,41,41,41,41,41,41,54,54,54,54,54,54,32,32,32,32,32,28,28,28,28,33,33,33,33,38,38,38,30,25,25,51,48,31,31,31,31,31,31,63,56,29,51,51,51,41,41,41,41,48,48,48,27,27,27,45,45,45,45,56,56,56,56,56,55,55,55,55,24,45,45,63,50,50,50,50,50,50,50,50,44,44,23,34,34,32,32,58,26,26,26,41,27,27,54,54,54,62,29,29,29,29,29,29,24,24,24,28,28,28,40,40,49,37,36,36,48,48,64,64,46,46,46,46,46,46,38,38,31,31,31,31,31,31,31,31,35,35,35,30,30,42,26,26,50,50,25,30,30,30,30,30,48,52,52,34,34,43,26,26,26,26,51,51,51,57,57,57,57,44,44,44,44,44,53,53,54,54,49,49,53,53,53,49,49,49,49,42,42,42,42,42,42,42,22,60,60,60,60,60,33,33,41,42,22,27,27,47,47,47,51,51,51,45,27,27,27,27,24,24,34,34,34,34,34,34,34,32,36,36,36,64,57,44,44,44,44,44,44,44,26,26,44,47,23,23,23,23,47,61,61,61,61,61,53,64,64,64,64,64,64,64,64,64,62,62,34,34,34,34,34,60,60,60,60,60,45,45,45,34,29,29,29,29,29,53,51,36,36,36,36,46,46,46,35,35,30,30,30,30,33,33,33,33,43,43,43,43,43,42,42,42,42,42,42,42,40,40,47,47,39,39,64,64,33,33,33,33,46,46,40,40,53,53,24,49,49,49,37,37,43,43,43,43,43,50,55,55,50,49,49,49,49,54,64,64,56,56,24,24,24,24,24,24,24,34,34,48,48,39,39,39,55,55,55,55,34,34,28,28,28,40,40,40,43,43,43,43,33,33,49,49,49,49,49,49,27,29,29,40,42,42,42,42,42,61,61,61,56,56,56,56,36,36,41,41,29,38,38,38,61,61,61,61,51,51,51,39,31,31,42,42,42,56,56,56,56,56,56,56,37,37,33,33,33,30,30,30,30,30,30,48,48,48,48,48,48,48,48,48,32,42,42,42,27,27,34,34,34,38,38,38,65,51,51,51,30,30,37,50,50,50,50,50,50,50,50,50,50,50,31,31,31,28,28,48,48,40,40,40,40,40,40,46,46,33,25,25,30,30,30,30,30,30,38,38,38,38,38,38,57,57,55,55,55,55,55,55,27,54,25,25,25,25,25,41,41,41,41,41,41,24,24,61,61,61,61,61,34,34,34,34,34,34,34,34,34,58,58,58,57,57,57,57,57,57,57,57,57,57,22,22,33,33,29,29,29,29,29,29,29,29,29,23,23,23,30,30,30,28,28,28,28,26,27,27,27,33,33,33,33,51,51,51,51,51,51,51,51,51,39,39,39,32,32,32,32,32,32,32,36,36,36,36,52,27,27,27,28,28,28,28,43,43,43,43,43,38,38,38,38,38,27,27,26,26,26,26,26,26,26,26,26,39,39,38,38,38,38,57,57,50,35,31,27,27,52,24,24,24,24,24,24,56,56,41,41,41,41,38,38,38,38,26,37,37,28,55,55,55,55,25,25,25,25,28,28,28,28,37,37,37,47,47,47,47,47,47,47,47,47,47,47,35,35,35,35,35,33,33,33,33,27,40,32,32,32,32,32,47,60,60,27,27,53,53,53,37,37,37,56,56,56,56,56,56,56,56,56,56,56,56,56,56,58,58,58,58,58,58,58,58,58,58,26,45,45,45,45,45,58,58,58,30,57,33,56,56,56,52,54,54,54,54,50,50,35,35,35,35,35,35,23,37,28,28,28,62,62,62,62,62,62,62,62,65,65,65,65,50,50,50,50,29,29,29,29,29,29,29,29,29,52,52,52,52,61,61,61,47,29,29,29,29,24,24,24,64,64,64,64,64,62,62,62,62,62,62,62,62,62,66,66,66,32,32,32,32,32,31,31,63,63,63,63,63,63,63,63,63,63,32,32,32,32,32,32,32,32,32,32,32,32,42,42,63,63,63,63,63,54,54,61,45,45,45,45,45,45,50,50,50,50,30,30,30,51,34,34,34,24,24,24,24,24,24,24,24,40,58,58,58,58,58,31,31,31,31,31,31,29,29,66,24,24,24,63,63,63,63,43,43,41,41,41,41,50,50,50,44,44,59,63,25,25,25,25,25,63,35,35,35,35,35,32,39,45,28,28,43,43,38,25,25,25,25,56,56,56,55,65,27,27,42,42,42,42,42,42,42,42,42,46,58,43,43,57,36,36,63,50,27,42,54,54,28,28,44,60,47,62,39,25,53,53,53,53,53,53,59,48,48,48,48,48,60,44,44,44,44,38,38,38,38,38,38,57,57,57,57,57,57,57,57,60,60,60,60,60,60,60,60,55,55,55,57,57,57,57,57,57,41,41,41,41,41,41,39,39,39,39,39,39,39,43,43,43,43,42,42,42,42,63,63,63,63,53,53,53,53,61,22,22,22,61,61,61,61,61,61,27,27,27,25,34,67,54,54,54,61,30,30,30,30,46,46,46,50,50,50,50,50,50,50,50,36,39,39,39,39,53,53,53,61,61,61,61,61,61,52,34,34,38,38,38,38,38,38,38,49,49,49,49,49,49,49,49,49,49,55,56,56,56,55,42,42,31,27,27,27,27,27,50,46,59,50,50,28,28,28,28,28,28,50,50,50,50,46,46,29,29,28,28,28,22,22,22,22,63,63,63,63,63,63,63,34,61,29,29,29,29,29,29,45,45,44,44,44,44,44,44,44,60,49,46,46,61,61,61,61,27,27,40,40,63,63,63,44,44,44,44,44,25,25,25,25,25,25,31,32,43,43,43,44,44,31,56,56,56,53,53,53,53,53,53,53,27,27,27,27,27,63,24,24,24,24,24,24,28,28,28,28,36,39,39,39,39,27,42,42,42,42,42,42,42,27,27,27,27,27,27,27,38,38,38,38,51,51,51,51,25,25,25,25,25,25,25,24,24,24,48,43,43,43,43,43,43,43,43,43,43,41,41,41,43,43,45,45,48,48,48,48,48,41,41,41,61,61,61,44,44,44,44,44,44,44,44,44,41,41,40,40,40,40,40,46,46,46,46,23,23,23,23,30,30,30,30,30,30,54,54,52,52,52,52,52,52,31,64,46,46,53,53,53,53,45,45,45,57,57,62,62,59,59,59,30,43,43,43,43,64,64,64,39,53,28,28,64,64,49,49,49,63,63,63,63,63,52,52,52,52,52,57,42,42,30,30,30,30,39,39,39,39,39,39,39,50,62,62,44,44,62,32,32,56,62,62,62,62,35,35,31,31,42,42,42,42,42,42,30,30,34,34,34,54,54,28,28,51,51,51,51,51,51,60,60,60,56,56,32,32,32,32,32,62,62,26,43,43,62,62,62,39,36,36,36,36,36,36,36,36,36,36,36,36,36,27,27,42,42,22,51,51,51,31,31,31,42,42,42,49,49,49,28,28,28,28,28,28,47,47,34,45,25,25,47,47,47,47,25,25,25,52,52,52,47,47,61,61,61,61,61,54,54,54,54,54,39,39,39,39,39,30,30,38,38,57,35,35,35,35,35,35,35,43,43,43,30,30,45,45,27,59,59,59,42,42,50,50,50,50,50,44,44,44,44,60,60,60,24,24,25,25,59,59,32,40,40,40,40,40,40,40,44,44,44,44,44,46,47,47,33,43,43,43,43,32,48,48,48,48,48,48,48,49,49,49,49,49,35,32,48,42,42,43,47,47,47,47,47,47,47,35,35,62,62,47,47,47,47,54,54,54,40,41,41,41,41,43,43,52,56,56,40,40,40,40,40,40,40,28,38,44,44,44,44,40,40,40,40,60,60,57,57,57,34,34,34,34,34,27,27,27,27,51,51,51,51,51,63,63,34,30,30,30,30,30,30,30,30,30,30,58,58,27,49,49,49,25,25,25,22,51,49,49,49,49,41,41,41,41,34,34,34,34,34,63,63,63,63,63,63,63,63,32,32,25,25,25,25,33,33,33,33,33,38,38,53,40,40,40,47,31,60,60,60,60,60,60,53,53,42,42,42,42,42,42,42,42,39,39,39,39,39,39,39,39,39,49,50,52,51,51,51,51,51,51,51,51,51,51,51,51,53,53,53,53,53,46,46,46,46,46,46,46,56,56,56,39,39,33,33,33,34,58,58,58,58,58,58,51,51,51,45,45,45,45,23,23,23,37,37,37,37,37,37,37,37,37,29,50,59,59,59,59,53,53,53,53,36,35,33,33,33,33,33,33,33,42,42,42,42,42,42,42,30,30,30,30,30,30,30,30,31,31,31,33,33,33,46,46,46,46,46,46,47,47,45,45,51,51,51,51,22,34,34,34,34,34,34,34,34,34,34,34,34,34,34,37,39,39,39,39,39,39,46,46,46,46,46,46,46,40,40,31,31,33,33,33,33,33,48,48,48,48,48,28,28,28,28,28,33,33,33,23,23,28,28,28,28,28,28,28,38,38,38,38,38,61,61,61,61,61,32,32,32,32,46,38,38,38,38,38,27,27,33,31,31,31,31,31,31,31,28,28,28,28,28,28,28,28,52,31,42,42,42,42,39,36,36,36,36,36,36,36,36,36,35,44,44,44,44,44,44,31,30,30,30,24,24,27,27,27,27,27,27,27,33,33,54,54,54,54,54,51,51,51,47,47,47,47,47,33,33,33,33,33,33,52,44,44,40,40,40,40,25,26,26,26,39,35,35,35,37,37,49,49,49,49,51,51,26,43,43,28,48,48,42,42,42,43,43,43,43,43,43,60,60,39,39,39,39,39,39,39,39,39,59,46,46,46,46,46,31,31,31,31,47,47,47,47,47,47,39,39,39,39,39,39,39,39,39,39,39,39,35,35,35,35,23,23,23,23,49,49,49,49,24,24,46,46,28,28,28,30,30,31,31,24,50,50,29,29,34,36,48,48,48,42,48,50,50,50,50,50,45,33,33,64,57,57,57,57,66,66,55,55,55,26,32,32,42,42,42,27,27,39,39,36,36,36,52,52,52,27,53,53,53,53,53,31,49,55,55,57,57,26,26,26,26,26,26,33,33,33,33,33,25,31,31,41,41,41,41,41,41,41,41,54,54,44,44,44,44,44,39,39,39,39,60,60,60,60,60,60,60,60,60,60,27,44,38,38,38,38,38,38,48,29,29,29,29,34,29,29,29,29,53],\"xaxis\":\"x\",\"y\":[112500.0,270000.0,270000.0,270000.0,283500.0,270000.0,135000.0,135000.0,130500.0,180000.0,157500.0,157500.0,157500.0,112500.0,112500.0,112500.0,112500.0,112500.0,135000.0,135000.0,135000.0,135000.0,135000.0,135000.0,135000.0,135000.0,135000.0,211500.0,360000.0,126000.0,126000.0,126000.0,126000.0,126000.0,126000.0,126000.0,126000.0,315000.0,247500.0,297000.0,297000.0,297000.0,297000.0,297000.0,297000.0,297000.0,297000.0,297000.0,297000.0,297000.0,297000.0,297000.0,297000.0,297000.0,297000.0,297000.0,297000.0,297000.0,297000.0,297000.0,297000.0,297000.0,297000.0,297000.0,297000.0,297000.0,297000.0,297000.0,297000.0,297000.0,157500.0,135000.0,135000.0,135000.0,225000.0,225000.0,225000.0,135000.0,135000.0,135000.0,135000.0,135000.0,135000.0,135000.0,157500.0,157500.0,157500.0,112500.0,112500.0,112500.0,112500.0,112500.0,112500.0,112500.0,112500.0,270000.0,270000.0,270000.0,157500.0,166500.0,216000.0,216000.0,216000.0,216000.0,216000.0,270000.0,225000.0,315000.0,315000.0,255150.0,255150.0,255150.0,255150.0,255150.0,157500.0,157500.0,148500.0,148500.0,148500.0,202500.0,202500.0,112500.0,94500.0,315000.0,315000.0,315000.0,315000.0,315000.0,315000.0,270000.0,180000.0,112500.0,112500.0,90000.0,202500.0,247500.0,270000.0,270000.0,315000.0,157500.0,157500.0,157500.0,157500.0,360000.0,360000.0,112500.0,157500.0,157500.0,157500.0,157500.0,157500.0,157500.0,382500.0,382500.0,382500.0,382500.0,135000.0,135000.0,225000.0,315000.0,315000.0,315000.0,180000.0,180000.0,180000.0,180000.0,180000.0,180000.0,180000.0,180000.0,180000.0,157500.0,157500.0,229500.0,229500.0,229500.0,229500.0,229500.0,229500.0,270000.0,270000.0,270000.0,270000.0,270000.0,270000.0,292500.0,292500.0,292500.0,292500.0,292500.0,292500.0,292500.0,270000.0,270000.0,270000.0,270000.0,225000.0,225000.0,225000.0,225000.0,225000.0,225000.0,225000.0,157500.0,157500.0,74250.0,74250.0,74250.0,135000.0,135000.0,135000.0,135000.0,135000.0,135000.0,135000.0,144000.0,202500.0,202500.0,202500.0,337500.0,337500.0,337500.0,337500.0,180000.0,180000.0,180000.0,180000.0,130500.0,130500.0,130500.0,130500.0,130500.0,130500.0,130500.0,130500.0,130500.0,130500.0,144000.0,144000.0,193500.0,193500.0,193500.0,193500.0,112500.0,112500.0,112500.0,135000.0,135000.0,135000.0,135000.0,135000.0,135000.0,135000.0,135000.0,267750.0,267750.0,139500.0,67500.0,252000.0,252000.0,252000.0,252000.0,180000.0,180000.0,135000.0,135000.0,180000.0,180000.0,180000.0,180000.0,180000.0,180000.0,115290.0,115290.0,225000.0,135000.0,279000.0,279000.0,279000.0,279000.0,76500.0,76500.0,76500.0,76500.0,76500.0,202500.0,202500.0,67500.0,234000.0,234000.0,234000.0,234000.0,90000.0,90000.0,90000.0,90000.0,90000.0,81000.0,108000.0,99000.0,99000.0,198000.0,198000.0,360000.0,135000.0,76500.0,76500.0,90000.0,90000.0,90000.0,270000.0,81000.0,81000.0,202500.0,202500.0,202500.0,202500.0,202500.0,202500.0,157500.0,157500.0,157500.0,157500.0,157500.0,157500.0,157500.0,180000.0,180000.0,135000.0,135000.0,135000.0,135000.0,135000.0,135000.0,270000.0,270000.0,270000.0,270000.0,270000.0,270000.0,270000.0,202500.0,202500.0,202500.0,157500.0,157500.0,157500.0,180000.0,112500.0,112500.0,157500.0,157500.0,157500.0,157500.0,157500.0,216000.0,202500.0,202500.0,202500.0,198000.0,198000.0,198000.0,198000.0,198000.0,198000.0,198000.0,198000.0,198000.0,198000.0,157500.0,157500.0,180000.0,180000.0,180000.0,180000.0,180000.0,180000.0,180000.0,180000.0,180000.0,315000.0,315000.0,112500.0,112500.0,112500.0,90000.0,90000.0,45000.0,45000.0,225000.0,144000.0,144000.0,144000.0,144000.0,144000.0,315000.0,112500.0,112500.0,144000.0,144000.0,144000.0,144000.0,144000.0,144000.0,144000.0,225000.0,135000.0,135000.0,135000.0,135000.0,238500.0,238500.0,112500.0,144000.0,144000.0,90000.0,90000.0,90000.0,90000.0,202500.0,202500.0,117000.0,117000.0,135000.0,135000.0,135000.0,135000.0,135000.0,135000.0,135000.0,225000.0,225000.0,225000.0,225000.0,126000.0,126000.0,126000.0,135000.0,135000.0,90000.0,90000.0,90000.0,90000.0,90000.0,90000.0,90000.0,90000.0,90000.0,153000.0,153000.0,153000.0,139500.0,139500.0,139500.0,139500.0,139500.0,157500.0,157500.0,157500.0,135000.0,180000.0,180000.0,180000.0,180000.0,225000.0,225000.0,135000.0,135000.0,135000.0,135000.0,292500.0,292500.0,270000.0,270000.0,270000.0,99000.0,99000.0,99000.0,135000.0,135000.0,315000.0,315000.0,315000.0,315000.0,315000.0,315000.0,315000.0,315000.0,315000.0,270000.0,270000.0,270000.0,135000.0,135000.0,135000.0,135000.0,135000.0,135000.0,135000.0,198000.0,198000.0,198000.0,198000.0,198000.0,382500.0,382500.0,382500.0,382500.0,382500.0,202500.0,202500.0,202500.0,202500.0,202500.0,202500.0,202500.0,202500.0,202500.0,202500.0,99000.0,99000.0,99000.0,99000.0,99000.0,112500.0,112500.0,112500.0,112500.0,166500.0,166500.0,166500.0,166500.0,166500.0,202500.0,180000.0,180000.0,225000.0,99000.0,99000.0,360000.0,360000.0,360000.0,360000.0,360000.0,225000.0,225000.0,225000.0,225000.0,157500.0,157500.0,144000.0,157500.0,157500.0,270000.0,270000.0,157500.0,180000.0,90000.0,90000.0,202500.0,202500.0,202500.0,202500.0,202500.0,202500.0,202500.0,202500.0,99000.0,99000.0,99000.0,99000.0,360000.0,360000.0,360000.0,360000.0,360000.0,360000.0,360000.0,360000.0,157500.0,157500.0,157500.0,157500.0,135000.0,99000.0,90000.0,90000.0,90000.0,90000.0,112500.0,135000.0,135000.0,135000.0,180000.0,180000.0,180000.0,180000.0,180000.0,180000.0,180000.0,180000.0,180000.0,180000.0,180000.0,157500.0,157500.0,135000.0,360000.0,360000.0,157500.0,157500.0,157500.0,157500.0,157500.0,157500.0,157500.0,157500.0,112500.0,112500.0,112500.0,112500.0,112500.0,112500.0,99000.0,99000.0,135000.0,135000.0,135000.0,85500.0,292500.0,292500.0,292500.0,67500.0,67500.0,67500.0,67500.0,67500.0,90000.0,90000.0,90000.0,112500.0,112500.0,112500.0,112500.0,112500.0,360000.0,279000.0,157500.0,157500.0,157500.0,157500.0,135000.0,135000.0,135000.0,135000.0,135000.0,135000.0,112500.0,225000.0,225000.0,306000.0,306000.0,306000.0,166500.0,166500.0,135000.0,135000.0,202500.0,202500.0,67500.0,180000.0,315000.0,315000.0,315000.0,270000.0,270000.0,270000.0,270000.0,270000.0,270000.0,112500.0,112500.0,112500.0,112500.0,112500.0,157500.0,157500.0,157500.0,202500.0,202500.0,252000.0,252000.0,252000.0,252000.0,135000.0,135000.0,135000.0,90000.0,225000.0,225000.0,247500.0,247500.0,247500.0,247500.0,76500.0,126000.0,126000.0,360000.0,135000.0,135000.0,135000.0,135000.0,135000.0,135000.0,135000.0,202500.0,202500.0,202500.0,90000.0,90000.0,90000.0,90000.0,90000.0,90000.0,90000.0,90000.0,315000.0,315000.0,225000.0,225000.0,225000.0,225000.0,225000.0,225000.0,225000.0,225000.0,225000.0,247500.0,67500.0,67500.0,126000.0,126000.0,126000.0,126000.0,126000.0,99000.0,99000.0,99000.0,135000.0,135000.0,135000.0,135000.0,189000.0,189000.0,157500.0,157500.0,157500.0,112500.0,112500.0,112500.0,112500.0,135000.0,135000.0,135000.0,216000.0,216000.0,216000.0,216000.0,216000.0,216000.0,216000.0,216000.0,216000.0,216000.0,216000.0,328500.0,126000.0,180000.0,310500.0,126000.0,126000.0,67500.0,90000.0,90000.0,157500.0,157500.0,157500.0,157500.0,157500.0,270000.0,270000.0,270000.0,270000.0,270000.0,270000.0,270000.0,270000.0,270000.0,270000.0,225000.0,225000.0,225000.0,202500.0,202500.0,202500.0,270000.0,270000.0,270000.0,270000.0,67500.0,67500.0,67500.0,67500.0,67500.0,67500.0,180000.0,180000.0,90000.0,90000.0,90000.0,90000.0,90000.0,90000.0,90000.0,202500.0,202500.0,202500.0,202500.0,157500.0,157500.0,171000.0,171000.0,171000.0,171000.0,171000.0,171000.0,157500.0,157500.0,135000.0,135000.0,315000.0,315000.0,315000.0,112500.0,270000.0,270000.0,270000.0,202500.0,202500.0,202500.0,90000.0,135000.0,135000.0,157500.0,157500.0,157500.0,157500.0,157500.0,112500.0,76500.0,76500.0,90000.0,135000.0,135000.0,135000.0,135000.0,135000.0,135000.0,315000.0,315000.0,315000.0,315000.0,315000.0,315000.0,135000.0,135000.0,135000.0,135000.0,135000.0,121500.0,121500.0,121500.0,121500.0,247500.0,247500.0,247500.0,72000.0,135000.0,180000.0,180000.0,180000.0,180000.0,180000.0,112500.0,112500.0,112500.0,112500.0,247500.0,90000.0,90000.0,90000.0,90000.0,90000.0,65250.0,65250.0,184500.0,90000.0,90000.0,90000.0,103500.0,103500.0,103500.0,180000.0,180000.0,180000.0,180000.0,180000.0,180000.0,180000.0,180000.0,180000.0,180000.0,180000.0,180000.0,157500.0,67500.0,67500.0,112500.0,112500.0,112500.0,180000.0,270000.0,270000.0,270000.0,270000.0,270000.0,180000.0,180000.0,180000.0,180000.0,180000.0,157500.0,157500.0,157500.0,189000.0,292500.0,292500.0,292500.0,292500.0,292500.0,99000.0,99000.0,202500.0,202500.0,202500.0,202500.0,292500.0,292500.0,292500.0,292500.0,292500.0,202500.0,180000.0,180000.0,180000.0,135000.0,135000.0,135000.0,135000.0,135000.0,135000.0,135000.0,157500.0,157500.0,157500.0,67500.0,67500.0,67500.0,162000.0,112500.0,135000.0,135000.0,135000.0,360000.0,135000.0,135000.0,157500.0,157500.0,157500.0,165150.0,337500.0,337500.0,99000.0,99000.0,99000.0,45000.0,45000.0,270000.0,270000.0,270000.0,270000.0,270000.0,270000.0,135000.0,135000.0,135000.0,135000.0,135000.0,135000.0,135000.0,67500.0,67500.0,270000.0,270000.0,270000.0,270000.0,270000.0,270000.0,270000.0,90000.0,90000.0,180000.0,180000.0,180000.0,112500.0,157500.0,157500.0,157500.0,54000.0,90000.0,90000.0,90000.0,157500.0,157500.0,157500.0,157500.0,157500.0,45000.0,45000.0,45000.0,45000.0,45000.0,45000.0,270000.0,157500.0,157500.0,157500.0,157500.0,157500.0,157500.0,157500.0,112500.0,112500.0,112500.0,360000.0,360000.0,81000.0,81000.0,243000.0,243000.0,243000.0,243000.0,94500.0,270000.0,270000.0,135000.0,135000.0,135000.0,135000.0,135000.0,135000.0,157500.0,270000.0,270000.0,270000.0,337500.0,337500.0,337500.0,337500.0,337500.0,202500.0,202500.0,256500.0,256500.0,135000.0,67500.0,67500.0,225000.0,270000.0,270000.0,135000.0,135000.0,121500.0,121500.0,121500.0,90000.0,90000.0,90000.0,90000.0,90000.0,90000.0,157500.0,157500.0,157500.0,157500.0,157500.0,157500.0,135000.0,99000.0,99000.0,99000.0,99000.0,99000.0,292500.0,292500.0,135000.0,135000.0,315000.0,315000.0,315000.0,33300.0,33300.0,135000.0,135000.0,202500.0,202500.0,202500.0,135000.0,135000.0,112500.0,112500.0,112500.0,202500.0,202500.0,202500.0,198000.0,101250.0,101250.0,101250.0,166500.0,166500.0,166500.0,166500.0,166500.0,166500.0,166500.0,166500.0,292500.0,292500.0,292500.0,112500.0,90000.0,90000.0,90000.0,90000.0,90000.0,90000.0,90000.0,90000.0,90000.0,90000.0,58500.0,58500.0,58500.0,180000.0,180000.0,180000.0,225000.0,225000.0,225000.0,225000.0,225000.0,225000.0,225000.0,225000.0,225000.0,225000.0,310500.0,310500.0,310500.0,310500.0,310500.0,310500.0,112500.0,225000.0,67500.0,67500.0,135000.0,135000.0,135000.0,157500.0,135000.0,135000.0,135000.0,135000.0,157500.0,135000.0,135000.0,270000.0,270000.0,270000.0,270000.0,270000.0,110250.0,110250.0,110250.0,110250.0,110250.0,110250.0,110250.0,110250.0,157500.0,135000.0,135000.0,135000.0,180000.0,180000.0,180000.0,90000.0,90000.0,90000.0,270000.0,270000.0,270000.0,270000.0,270000.0,270000.0,270000.0,270000.0,270000.0,270000.0,270000.0,270000.0,270000.0,270000.0,270000.0,270000.0,270000.0,90000.0,90000.0,90000.0,90000.0,90000.0,112500.0,315000.0,67500.0,67500.0,225000.0,225000.0,67500.0,67500.0,67500.0,225000.0,225000.0,225000.0,270000.0,270000.0,270000.0,270000.0,247500.0,247500.0,247500.0,247500.0,247500.0,121500.0,121500.0,121500.0,121500.0,189000.0,189000.0,189000.0,189000.0,270000.0,270000.0,270000.0,270000.0,270000.0,270000.0,270000.0,270000.0,270000.0,225000.0,270000.0,270000.0,135000.0,135000.0,135000.0,135000.0,121500.0,121500.0,121500.0,196650.0,202500.0,202500.0,202500.0,81000.0,81000.0,225000.0,225000.0,225000.0,225000.0,225000.0,225000.0,166500.0,166500.0,90000.0,90000.0,90000.0,157500.0,157500.0,135000.0,135000.0,135000.0,135000.0,135000.0,135000.0,135000.0,135000.0,135000.0,135000.0,135000.0,135000.0,135000.0,157500.0,157500.0,157500.0,202500.0,202500.0,202500.0,144000.0,144000.0,144000.0,144000.0,144000.0,202500.0,112500.0,135000.0,67500.0,67500.0,306000.0,306000.0,306000.0,202500.0,202500.0,202500.0,202500.0,202500.0,202500.0,202500.0,202500.0,202500.0,135000.0,360000.0,360000.0,360000.0,360000.0,76500.0,126000.0,126000.0,270000.0,270000.0,270000.0,270000.0,40500.0,40500.0,40500.0,247500.0,247500.0,247500.0,306000.0,306000.0,225000.0,225000.0,225000.0,225000.0,225000.0,360000.0,360000.0,360000.0,189000.0,99000.0,225000.0,225000.0,225000.0,157500.0,157500.0,157500.0,157500.0,112500.0,112500.0,112500.0,112500.0,112500.0,144000.0,292500.0,292500.0,292500.0,270000.0,270000.0,270000.0,225000.0,225000.0,225000.0,225000.0,225000.0,225000.0,225000.0,225000.0,202500.0,202500.0,202500.0,202500.0,202500.0,202500.0,225000.0,225000.0,337500.0,337500.0,337500.0,180000.0,180000.0,180000.0,112500.0,112500.0,202500.0,243000.0,243000.0,180000.0,180000.0,180000.0,135000.0,189000.0,189000.0,112500.0,112500.0,112500.0,171000.0,171000.0,112500.0,112500.0,67500.0,292500.0,292500.0,292500.0,292500.0,292500.0,292500.0,292500.0,292500.0,292500.0,292500.0,292500.0,157500.0,157500.0,157500.0,157500.0,225000.0,225000.0,225000.0,225000.0,225000.0,157500.0,112500.0,67500.0,67500.0,67500.0,67500.0,67500.0,67500.0,162000.0,270000.0,166500.0,166500.0,166500.0,166500.0,157500.0,157500.0,157500.0,157500.0,157500.0,157500.0,157500.0,157500.0,90000.0,135000.0,135000.0,135000.0,135000.0,180000.0,135000.0,315000.0,315000.0,315000.0,315000.0,315000.0,315000.0,315000.0,315000.0,315000.0,171000.0,171000.0,135000.0,135000.0,135000.0,135000.0,135000.0,135000.0,135000.0,328500.0,328500.0,328500.0,328500.0,328500.0,328500.0,225000.0,225000.0,225000.0,225000.0,225000.0,225000.0,148500.0,76500.0,76500.0,135000.0,135000.0,67500.0,67500.0,67500.0,67500.0,67500.0,67500.0,67500.0,76500.0,76500.0,76500.0,76500.0,103500.0,103500.0,103500.0,103500.0,103500.0,103500.0,103500.0,103500.0,103500.0,180000.0,180000.0,180000.0,315000.0,135000.0,135000.0,135000.0,135000.0,135000.0,135000.0,90000.0,90000.0,157500.0,157500.0,157500.0,112500.0,112500.0,112500.0,112500.0,112500.0,112500.0,112500.0,112500.0,112500.0,112500.0,112500.0,112500.0,112500.0,112500.0,112500.0,112500.0,315000.0,315000.0,143100.0,143100.0,180000.0,180000.0,180000.0,180000.0,180000.0,225000.0,135000.0,135000.0,202500.0,202500.0,202500.0,58500.0,58500.0,58500.0,58500.0,216000.0,90000.0,90000.0,90000.0,90000.0,90000.0,90000.0,90000.0,90000.0,90000.0,202500.0,202500.0,202500.0,202500.0,76500.0,76500.0,76500.0,76500.0,76500.0,76500.0,94500.0,94500.0,112500.0,112500.0,112500.0,112500.0,112500.0,135000.0,135000.0,315000.0,315000.0,315000.0,315000.0,315000.0,315000.0,135000.0,135000.0,135000.0,135000.0,207000.0,207000.0,207000.0,207000.0,126000.0,126000.0,207000.0,207000.0,207000.0,180000.0,180000.0,180000.0,180000.0,180000.0,180000.0,180000.0,180000.0,180000.0,288000.0,112500.0,45000.0,135000.0,135000.0,135000.0,135000.0,135000.0,135000.0,135000.0,135000.0,135000.0,135000.0,94500.0,94500.0,112500.0,112500.0,112500.0,202500.0,202500.0,202500.0,202500.0,315000.0,180000.0,180000.0,180000.0,180000.0,180000.0,180000.0,180000.0,54000.0,54000.0,54000.0,54000.0,54000.0,180000.0,180000.0,180000.0,180000.0,180000.0,202500.0,202500.0,202500.0,202500.0,202500.0,202500.0,202500.0,157500.0,131400.0,131400.0,131400.0,131400.0,131400.0,131400.0,131400.0,131400.0,166500.0,202500.0,225000.0,157500.0,157500.0,157500.0,157500.0,157500.0,157500.0,157500.0,157500.0,157500.0,157500.0,90000.0,90000.0,90000.0,90000.0,90000.0,189000.0,189000.0,90000.0,112500.0,270000.0,270000.0,270000.0,256500.0,256500.0,256500.0,256500.0,256500.0,135000.0,135000.0,135000.0,202500.0,67500.0,234000.0,234000.0,234000.0,234000.0,234000.0,234000.0,234000.0,234000.0,54000.0,270000.0,234000.0,225000.0,225000.0,225000.0,225000.0,225000.0,153000.0,153000.0,153000.0,153000.0,153000.0,153000.0,153000.0,153000.0,153000.0,153000.0,153000.0,153000.0,157500.0,180000.0,180000.0,90000.0,90000.0,90000.0,67500.0,67500.0,67500.0,67500.0,67500.0,157500.0,157500.0,270000.0,225000.0,180000.0,180000.0,180000.0,180000.0,180000.0,180000.0,315000.0,144000.0,144000.0,144000.0,144000.0,135000.0,135000.0,135000.0,135000.0,135000.0,157500.0,157500.0,157500.0,157500.0,112500.0,112500.0,112500.0,135000.0,135000.0,225000.0,225000.0,225000.0,225000.0,121500.0,121500.0,121500.0,225000.0,225000.0,202500.0,202500.0,202500.0,247500.0,247500.0,247500.0,247500.0,247500.0,247500.0,112500.0,112500.0,112500.0,225000.0,225000.0,225000.0,225000.0,225000.0,225000.0,225000.0,202500.0,202500.0,202500.0,202500.0,202500.0,202500.0,202500.0,202500.0,202500.0,202500.0,202500.0,202500.0,144000.0,144000.0,144000.0,144000.0,337500.0,337500.0,112500.0,202500.0,202500.0,202500.0,202500.0,202500.0,202500.0,202500.0,247500.0,247500.0,247500.0,247500.0,247500.0,157500.0,157500.0,157500.0,157500.0,157500.0,157500.0,135000.0,135000.0,135000.0,135000.0,112500.0,247500.0,157500.0,157500.0,157500.0,157500.0,157500.0,315000.0,135000.0,135000.0,315000.0,315000.0,315000.0,157500.0,157500.0,157500.0,112500.0,112500.0,135000.0,135000.0,112500.0,315000.0,315000.0,315000.0,315000.0,315000.0,315000.0,157500.0,157500.0,157500.0,157500.0,157500.0,157500.0,157500.0,157500.0,157500.0,90000.0,90000.0,90000.0,180000.0,202500.0,202500.0,202500.0,202500.0,180000.0,180000.0,112500.0,90000.0,90000.0,90000.0,90000.0,90000.0,90000.0,90000.0,225000.0,225000.0,225000.0,216000.0,216000.0,216000.0,216000.0,112500.0,202500.0,202500.0,202500.0,202500.0,202500.0,202500.0,202500.0,180000.0,180000.0,135000.0,135000.0,261000.0,261000.0,261000.0,261000.0,261000.0,202500.0,202500.0,202500.0,202500.0,202500.0,202500.0,202500.0,202500.0,180000.0,180000.0,180000.0,180000.0,180000.0,202500.0,202500.0,202500.0,202500.0,180000.0,180000.0,67500.0,225000.0,225000.0,225000.0,225000.0,225000.0,225000.0,225000.0,225000.0,225000.0,225000.0,225000.0,225000.0,315000.0,315000.0,315000.0,315000.0,315000.0,315000.0,315000.0,315000.0,126000.0,135000.0,135000.0,189000.0,189000.0,189000.0,225000.0,225000.0,225000.0,225000.0,225000.0,225000.0,144000.0,144000.0,270000.0,315000.0,315000.0,315000.0,135000.0,202500.0,202500.0,202500.0,202500.0,202500.0,202500.0,202500.0,202500.0,135000.0,135000.0,112500.0,112500.0,112500.0,112500.0,99000.0,112500.0,135000.0,135000.0,225000.0,225000.0,225000.0,76500.0,76500.0,76500.0,76500.0,76500.0,180000.0,180000.0,180000.0,180000.0,180000.0,180000.0,157500.0,157500.0,99900.0,99900.0,144000.0,76500.0,76500.0,157500.0,148500.0,148500.0,148500.0,202500.0,202500.0,202500.0,112500.0,112500.0,90000.0,90000.0,90000.0,90000.0,90000.0,135000.0,67500.0,67500.0,67500.0,247500.0,247500.0,247500.0,112500.0,202500.0,202500.0,202500.0,38250.0,38250.0,38250.0,38250.0,38250.0,81000.0,81000.0,81000.0,81000.0,81000.0,81000.0,135000.0,135000.0,175500.0,202500.0,202500.0,202500.0,202500.0,180000.0,94500.0,94500.0,94500.0,94500.0,135000.0,67500.0,67500.0,67500.0,382500.0,382500.0,81000.0,81000.0,81000.0,81000.0,328500.0,328500.0,328500.0,328500.0,328500.0,180000.0,180000.0,112500.0,112500.0,112500.0,112500.0,112500.0,112500.0,112500.0,112500.0,315000.0,315000.0,126000.0,126000.0,126000.0,135000.0,135000.0,153000.0,153000.0,117000.0,337500.0,337500.0,337500.0,67500.0,67500.0,67500.0,135000.0,135000.0,135000.0,135000.0,135000.0,135000.0,49500.0,49500.0,49500.0,49500.0,49500.0,180000.0,180000.0,180000.0,135000.0,135000.0,135000.0,135000.0,135000.0,135000.0,225000.0,225000.0,225000.0,90000.0,270000.0,225000.0,225000.0,225000.0,225000.0,225000.0,225000.0,225000.0,225000.0,225000.0,225000.0,67500.0,67500.0,67500.0,112500.0,112500.0,112500.0,112500.0,180000.0,180000.0,180000.0,180000.0,135000.0,157500.0,157500.0,135000.0,135000.0,76500.0,76500.0,81000.0,180000.0,180000.0,180000.0,180000.0,180000.0,45000.0,45000.0,225000.0,225000.0,67500.0,67500.0,67500.0,225000.0,225000.0,225000.0,225000.0,225000.0,225000.0,225000.0,202500.0,135000.0,135000.0,135000.0,135000.0,135000.0,81000.0,81000.0,81000.0,81000.0,81000.0,135000.0,135000.0,135000.0,90000.0,90000.0,180000.0,180000.0,180000.0,180000.0,180000.0,180000.0,180000.0,67500.0,135000.0,157500.0,157500.0,81000.0,81000.0,81000.0,83250.0,157500.0,157500.0,99000.0,99000.0,99000.0,99000.0,135000.0,112500.0,112500.0,112500.0,112500.0,225000.0,225000.0,225000.0,225000.0,225000.0,225000.0,225000.0,108000.0,180000.0,180000.0,180000.0,180000.0,315000.0,315000.0,315000.0,315000.0,315000.0,315000.0,315000.0,315000.0,315000.0,315000.0,315000.0,135000.0,135000.0,119250.0,112500.0,83250.0,83250.0,83250.0,112500.0,112500.0,112500.0,63000.0,63000.0,63000.0,63000.0,207000.0,207000.0,112500.0,112500.0,112500.0,112500.0,112500.0,112500.0,112500.0,112500.0,112500.0,180000.0,180000.0,180000.0,274500.0,274500.0,274500.0,274500.0,274500.0,202500.0,202500.0,202500.0,90000.0,90000.0,90000.0,90000.0,90000.0,90900.0,90900.0,90900.0,202500.0,180000.0,180000.0,180000.0,202500.0,202500.0,180000.0,180000.0,202500.0,202500.0,180000.0,180000.0,180000.0,180000.0,202500.0,202500.0,202500.0,202500.0,202500.0,202500.0,135000.0,225000.0,225000.0,225000.0,135000.0,135000.0,135000.0,135000.0,360000.0,135000.0,202500.0,202500.0,202500.0,202500.0,157500.0,157500.0,180000.0,180000.0,180000.0,270000.0,270000.0,270000.0,270000.0,157500.0,157500.0,225000.0,225000.0,225000.0,225000.0,225000.0,225000.0,225000.0,225000.0,225000.0,225000.0,225000.0,99000.0,99000.0,90000.0,90000.0,90000.0,90000.0,90000.0,90000.0,90000.0,117000.0,225000.0,67500.0,67500.0,279000.0,279000.0,279000.0,135000.0,135000.0,135000.0,135000.0,117000.0,117000.0,180000.0,180000.0,180000.0,180000.0,180000.0,180000.0,180000.0,180000.0,175500.0,175500.0,112500.0,112500.0,90000.0,90000.0,90000.0,90000.0,90000.0,90000.0,90000.0,157500.0,157500.0,157500.0,157500.0,135000.0,90000.0,90000.0,90000.0,90000.0,211500.0,211500.0,99000.0,270000.0,157500.0,157500.0,202500.0,112500.0,180000.0,216000.0,247500.0,135000.0,112500.0,135000.0,112500.0,315000.0,220500.0,180000.0,90000.0,144000.0,49500.0,135000.0,112500.0,112500.0,180000.0,180000.0,180000.0,180000.0,360000.0,360000.0,360000.0,135000.0,135000.0,135000.0,189000.0,85500.0,85500.0,90000.0,90000.0,90000.0,90000.0,225000.0,225000.0,99000.0,99000.0,99000.0,99000.0,99000.0,99000.0,99000.0,99000.0,225000.0,225000.0,225000.0,225000.0,225000.0,225000.0,157500.0,157500.0,135000.0,135000.0,135000.0,135000.0,135000.0,135000.0,157500.0,157500.0,148500.0,148500.0,148500.0,148500.0,148500.0,292500.0,292500.0,292500.0,292500.0,202500.0,202500.0,202500.0,202500.0,202500.0,202500.0,202500.0,202500.0,189000.0,189000.0,189000.0,270000.0,270000.0,270000.0,270000.0,270000.0,270000.0,270000.0,270000.0,270000.0,360000.0,157500.0,112500.0,315000.0,315000.0,315000.0,315000.0,315000.0,315000.0,315000.0,315000.0,315000.0,315000.0,315000.0,112500.0,112500.0,112500.0,180000.0,135000.0,135000.0,135000.0,112500.0,112500.0,112500.0,112500.0,135000.0,135000.0,135000.0,135000.0,144000.0,144000.0,144000.0,144000.0,144000.0,108000.0,108000.0,108000.0,108000.0,108000.0,270000.0,270000.0,270000.0,292500.0,292500.0,180000.0,180000.0,157500.0,157500.0,157500.0,157500.0,112500.0,112500.0,112500.0,157500.0,157500.0,157500.0,157500.0,157500.0,126000.0,126000.0,126000.0,126000.0,126000.0,126000.0,90000.0,90000.0,180000.0,180000.0,180000.0,180000.0,180000.0,180000.0,180000.0,180000.0,180000.0,135000.0,135000.0,135000.0,135000.0,135000.0,135000.0,135000.0,135000.0,202500.0,202500.0,202500.0,180000.0,180000.0,180000.0,180000.0,180000.0,337500.0,112500.0,112500.0,202500.0,202500.0,202500.0,90000.0,202500.0,202500.0,202500.0,202500.0,81000.0,81000.0,81000.0,81000.0,81000.0,112500.0,270000.0,270000.0,202500.0,202500.0,202500.0,202500.0,202500.0,202500.0,270000.0,270000.0,47250.0,47250.0,47250.0,47250.0,47250.0,180000.0,180000.0,112500.0,135000.0,247500.0,247500.0,135000.0,135000.0,148500.0,121500.0,162000.0,162000.0,162000.0,202500.0,202500.0,202500.0,315000.0,315000.0,315000.0,315000.0,315000.0,315000.0,315000.0,315000.0,157500.0,157500.0,157500.0,112500.0,67500.0,202500.0,202500.0,99000.0,99000.0,99000.0,99000.0,99000.0,202500.0,202500.0,157500.0,90000.0,90000.0,90000.0,216000.0,216000.0,216000.0,216000.0,216000.0,216000.0,135000.0,121500.0,121500.0,121500.0,121500.0,121500.0,121500.0,225000.0,225000.0,225000.0,225000.0,180000.0,135000.0,135000.0,198000.0,198000.0,139500.0,270000.0,270000.0,270000.0,81000.0,81000.0,81000.0,67500.0,225000.0,112500.0,90000.0,112500.0,270000.0,270000.0,270000.0,270000.0,270000.0,117000.0,117000.0,117000.0,117000.0,117000.0,117000.0,117000.0,157500.0,76500.0,121500.0,121500.0,121500.0,121500.0,121500.0,270000.0,360000.0,360000.0,180000.0,180000.0,180000.0,180000.0,180000.0,180000.0,180000.0,180000.0,162000.0,162000.0,162000.0,162000.0,157500.0,202500.0,202500.0,202500.0,180000.0,180000.0,180000.0,180000.0,180000.0,180000.0,157500.0,157500.0,157500.0,139050.0,135000.0,135000.0,135000.0,135000.0,90000.0,90000.0,90000.0,202500.0,202500.0,162000.0,162000.0,162000.0,225000.0,171000.0,135000.0,135000.0,135000.0,135000.0,135000.0,135000.0,135000.0,135000.0,94500.0,94500.0,94500.0,94500.0,94500.0,94500.0,157500.0,157500.0,157500.0,270000.0,270000.0,157500.0,157500.0,180000.0,180000.0,180000.0,112500.0,112500.0,112500.0,112500.0,112500.0,112500.0,112500.0,112500.0,112500.0,112500.0,225000.0,270000.0,270000.0,270000.0,270000.0,270000.0,270000.0,270000.0,90000.0,90000.0,90000.0,90000.0,90000.0,90000.0,90000.0,315000.0,315000.0,157500.0,157500.0,157500.0,157500.0,135000.0,225000.0,225000.0,225000.0,180000.0,180000.0,180000.0,180000.0,180000.0,270000.0,270000.0,270000.0,270000.0,270000.0,270000.0,157500.0,157500.0,157500.0,180000.0,180000.0,180000.0,180000.0,180000.0,180000.0,180000.0,180000.0,337500.0,157500.0,157500.0,135000.0,135000.0,112500.0,112500.0,112500.0,157500.0,157500.0,157500.0,157500.0,157500.0,157500.0,157500.0,180000.0,180000.0,180000.0,180000.0,180000.0,135000.0,135000.0,135000.0,135000.0,135000.0,135000.0,135000.0,135000.0,135000.0,135000.0,135000.0,202500.0,202500.0,202500.0,202500.0,202500.0,202500.0,202500.0,225000.0,225000.0,225000.0,180000.0,180000.0,180000.0,90000.0,148500.0,180000.0,180000.0,112500.0,207000.0,207000.0,162000.0,202500.0,202500.0,193500.0,81000.0,81000.0,81000.0,225000.0,225000.0,225000.0,247500.0,247500.0,247500.0,247500.0,247500.0,247500.0,247500.0,247500.0,247500.0,337500.0,337500.0,337500.0,337500.0,337500.0,180000.0,202500.0,202500.0,135000.0,135000.0,135000.0,135000.0,135000.0,225000.0,225000.0,225000.0,225000.0,225000.0,225000.0,225000.0,225000.0,225000.0,225000.0,157500.0,157500.0,247500.0,247500.0,247500.0,112500.0,112500.0,112500.0,360000.0,360000.0,360000.0,360000.0,360000.0,72000.0,72000.0,72000.0,90000.0,90000.0,90000.0,90000.0,90000.0,112500.0,360000.0,360000.0,202500.0,202500.0,202500.0,202500.0,202500.0,202500.0,157500.0,157500.0,157500.0,157500.0,157500.0,211500.0,211500.0,63000.0,63000.0,211500.0,112500.0,270000.0,211500.0,360000.0,315000.0,117000.0,180000.0,180000.0,112500.0,38250.0,225000.0,180000.0,157500.0,292500.0,94500.0,135000.0,81000.0,225000.0,135000.0,292500.0,112500.0,225000.0,292500.0,180000.0,247500.0,33750.0,382500.0,126000.0,112500.0,67500.0,225000.0,360000.0,180000.0,180000.0,145350.0,135000.0,157500.0,112500.0,180000.0,103500.0,173250.0,49500.0,157500.0,202500.0,180000.0,180000.0,67500.0,135000.0,360000.0,382500.0,270000.0,270000.0,135000.0,157500.0,270000.0,81000.0,360000.0,135000.0,315000.0,112500.0,112500.0,112500.0,202500.0,157500.0,279000.0,157500.0,135000.0,112500.0,117000.0,180000.0,256500.0,256500.0,135000.0,135000.0,148500.0,90000.0,90000.0,112500.0,135000.0,135000.0,90000.0,90000.0,180000.0,202500.0,112500.0,135000.0,157500.0,157500.0,180000.0,202500.0,135000.0,112500.0,112500.0,157500.0,166500.0,166500.0,135000.0,360000.0,180000.0,157500.0,171000.0,112500.0,94500.0,225000.0,180000.0,180000.0,85500.0,94500.0,135000.0,63000.0,315000.0,315000.0,112500.0,180000.0,126000.0,130500.0,157500.0,270000.0,270000.0,180000.0,225000.0,180000.0,67500.0,112500.0,360000.0,112500.0,112500.0,112500.0,157500.0,180000.0,225000.0,292500.0,270000.0,225000.0,225000.0,225000.0,157500.0,112500.0,270000.0,135000.0,387000.0,387000.0,387000.0,387000.0,90000.0,103500.0,121500.0,90000.0,270000.0,202500.0,270000.0,225000.0,360000.0,112500.0,157500.0,180000.0,157500.0,112500.0,157500.0,157500.0,270000.0,90000.0,130500.0,315000.0,112500.0,81000.0,180000.0,166500.0,270000.0,225000.0,225000.0,247500.0,180000.0,144000.0,225000.0,225000.0,180000.0,184500.0,90000.0,283500.0,72000.0,202500.0,180000.0,99000.0,202500.0,90000.0,36000.0,81000.0,67500.0,67500.0,112500.0,270000.0,157500.0,157500.0,135000.0,135000.0,157500.0,135000.0,112500.0,180000.0,135000.0,135000.0,202500.0,216000.0,216000.0,112500.0,157500.0,202500.0,202500.0,270000.0,135000.0,112500.0,81000.0,81000.0,135000.0,157500.0,130500.0,112500.0,189000.0,315000.0,315000.0,67500.0,67500.0,112500.0,112500.0,90000.0,270000.0,225000.0,225000.0,225000.0,225000.0,225000.0,225000.0,225000.0,202500.0,180000.0,180000.0,202500.0,202500.0,157500.0,157500.0,225000.0,135000.0,270000.0,270000.0,112500.0,171000.0,225000.0,225000.0,225000.0,112500.0,135000.0,112500.0,112500.0,112500.0,135000.0,58500.0,108000.0,90000.0,90000.0,270000.0,270000.0,126000.0,225000.0,225000.0,112500.0,112500.0,135000.0,135000.0,180000.0,99000.0,81000.0,67500.0,270000.0,202500.0,67500.0,99000.0,270000.0,270000.0,81000.0,76500.0,76500.0,247500.0,180000.0,180000.0,112500.0,112500.0,216000.0,216000.0,292500.0,225000.0,225000.0,225000.0,130500.0,130500.0,130500.0,130500.0,130500.0,180000.0,112500.0,112500.0,202500.0,202500.0,270000.0,270000.0,270000.0,360000.0,360000.0,360000.0,360000.0,157500.0,157500.0,157500.0,157500.0,157500.0,157500.0,157500.0,157500.0,157500.0,157500.0,292500.0,135000.0,360000.0,360000.0,360000.0,360000.0,157500.0,157500.0,157500.0,157500.0,157500.0,270000.0,270000.0,270000.0,180000.0,76500.0,76500.0,76500.0,189000.0,189000.0,225000.0,225000.0,225000.0,225000.0,225000.0,157500.0,157500.0,157500.0,157500.0,337500.0,180000.0,180000.0,180000.0,180000.0,135000.0,135000.0,225000.0,180000.0,180000.0,180000.0,135000.0,135000.0,337500.0,337500.0,337500.0,337500.0,337500.0,337500.0,202500.0,202500.0,202500.0,247500.0,247500.0,247500.0,247500.0,247500.0,247500.0,247500.0,247500.0,247500.0,247500.0,247500.0,247500.0,247500.0,90000.0,90000.0,90000.0,225000.0,225000.0,180000.0,180000.0,315000.0,315000.0,315000.0,315000.0,315000.0,315000.0,162000.0,162000.0,162000.0,206100.0,206100.0,206100.0,206100.0,180000.0,180000.0,180000.0,157500.0,225000.0,225000.0,135000.0,220500.0,220500.0,220500.0,148500.0,148500.0,225000.0,180000.0,180000.0,180000.0,112500.0,265500.0,265500.0,265500.0,157500.0,157500.0,157500.0,157500.0,225000.0,225000.0,225000.0,180000.0,180000.0,180000.0,180000.0,180000.0,171000.0,171000.0,171000.0,171000.0,171000.0,121500.0,121500.0,292500.0,292500.0,292500.0,292500.0,315000.0,315000.0,315000.0,315000.0,315000.0,315000.0,315000.0,315000.0,315000.0,315000.0,315000.0,315000.0,315000.0,315000.0,112500.0,112500.0,112500.0,112500.0,112500.0,112500.0,112500.0,135000.0,135000.0,225000.0,225000.0,225000.0,225000.0,148500.0,148500.0,283500.0,283500.0,225000.0,225000.0,225000.0,225000.0,135000.0,135000.0,180000.0,135000.0,135000.0,135000.0,135000.0,157500.0,112500.0,112500.0,135000.0,157500.0,157500.0,180000.0,225000.0,225000.0,225000.0,157500.0,157500.0,157500.0,157500.0,157500.0,157500.0,360000.0,360000.0,180000.0,180000.0,270000.0,270000.0,270000.0,270000.0,112500.0,247500.0,247500.0,247500.0,247500.0,247500.0,135000.0,139500.0,225000.0,225000.0,360000.0,360000.0,360000.0,360000.0,360000.0,360000.0,360000.0,360000.0,360000.0,360000.0,360000.0,360000.0,360000.0,63000.0,63000.0,225000.0,225000.0,157500.0,337500.0,337500.0,337500.0,337500.0,67500.0,67500.0,67500.0,135000.0,135000.0,135000.0,135000.0,135000.0,247500.0,247500.0,108000.0,108000.0,135000.0,135000.0,135000.0,270000.0,270000.0,270000.0,112500.0,112500.0,112500.0,112500.0,112500.0,112500.0,112500.0,112500.0,225000.0,112500.0,112500.0,85500.0,85500.0,135000.0,135000.0,135000.0,135000.0,135000.0,135000.0,135000.0,135000.0,180000.0,180000.0,180000.0,202500.0,202500.0,202500.0,202500.0,135000.0,135000.0,135000.0,135000.0,157500.0,157500.0,157500.0,157500.0,157500.0,270000.0,202500.0,202500.0,202500.0,234000.0,234000.0,112500.0,112500.0,270000.0,270000.0,270000.0,270000.0,270000.0,270000.0,270000.0,270000.0,270000.0,270000.0,67500.0,67500.0,67500.0,67500.0,67500.0,67500.0,67500.0,126000.0,112500.0,112500.0,112500.0,112500.0,112500.0,112500.0,112500.0,112500.0,112500.0,112500.0,112500.0,225000.0,225000.0,225000.0,225000.0,90000.0,189000.0,90000.0,90000.0,103500.0,103500.0,103500.0,103500.0,103500.0,135000.0,135000.0,135000.0,135000.0,135000.0,135000.0,135000.0,135000.0,135000.0,135000.0,135000.0,193500.0,193500.0,193500.0,112500.0,81000.0,103500.0,103500.0,270000.0,270000.0,270000.0,270000.0,270000.0,270000.0,252000.0,252000.0,112500.0,112500.0,112500.0,112500.0,112500.0,112500.0,81000.0,292500.0,292500.0,135000.0,90000.0,67500.0,157500.0,157500.0,157500.0,157500.0,90000.0,90000.0,90000.0,90000.0,90000.0,90000.0,90000.0,90000.0,67500.0,112500.0,112500.0,202500.0,202500.0,202500.0,202500.0,135000.0,135000.0,135000.0,135000.0,135000.0,135000.0,202500.0,153000.0,153000.0,153000.0,153000.0,135000.0,135000.0,135000.0,315000.0,315000.0,99000.0,225000.0,225000.0,225000.0,225000.0,225000.0,225000.0,123750.0,123750.0,123750.0,123750.0,123750.0,337500.0,337500.0,337500.0,180000.0,360000.0,360000.0,360000.0,162000.0,207000.0,157500.0,90000.0,67500.0,202500.0,247500.0,247500.0,117000.0,225000.0,112500.0,202500.0,130500.0,202500.0,193500.0,157500.0,157500.0,202500.0,157500.0,193500.0,112500.0,202500.0,135000.0,225000.0,94500.0,225000.0,103500.0,90000.0,180000.0,180000.0,180000.0,180000.0,180000.0,126000.0,126000.0,108000.0,108000.0,108000.0,144000.0,180000.0,180000.0,180000.0,180000.0,180000.0,81000.0,81000.0,81000.0,247500.0,247500.0,135000.0,135000.0,157500.0,157500.0,157500.0,157500.0,225000.0,225000.0,225000.0,225000.0,225000.0,225000.0,225000.0,225000.0,112500.0,116653.5,116653.5,116653.5,112500.0,220500.0,220500.0,220500.0,202500.0,202500.0,202500.0,202500.0,265500.0,265500.0,265500.0,265500.0,265500.0,247500.0,247500.0,157500.0,157500.0,157500.0,180000.0,180000.0,112500.0,157500.0,157500.0,225000.0,225000.0,135000.0,40500.0,40500.0,112500.0,81000.0,81000.0,225000.0,81000.0,270000.0,270000.0,270000.0,270000.0,270000.0,270000.0,270000.0,360000.0,360000.0,360000.0,360000.0,157500.0,157500.0,157500.0,157500.0,157500.0,270000.0,270000.0,45000.0,180000.0,180000.0,180000.0,180000.0,180000.0,270000.0,252000.0,252000.0,135000.0,112500.0,112500.0,112500.0,90000.0,90000.0,90000.0,315000.0,315000.0,315000.0,315000.0,315000.0,315000.0,315000.0,315000.0,315000.0,135000.0,135000.0,135000.0,135000.0,135000.0,225000.0,225000.0,225000.0,225000.0,225000.0,225000.0,225000.0,225000.0,225000.0,225000.0,225000.0,225000.0,225000.0,112500.0,112500.0,112500.0,112500.0,112500.0,112500.0,112500.0,67500.0,67500.0,67500.0,67500.0,67500.0,180000.0,247500.0,247500.0,247500.0,247500.0,247500.0,247500.0,67500.0,67500.0,67500.0,67500.0,67500.0,67500.0,292500.0,292500.0,292500.0,112500.0,153000.0,153000.0,153000.0,153000.0,135000.0,225000.0,112500.0,81000.0,81000.0,112500.0,112500.0,112500.0,202500.0,133650.0,133650.0,135000.0,135000.0,103500.0,103500.0,103500.0,103500.0,103500.0,202500.0,202500.0,202500.0,270000.0,270000.0,270000.0,202500.0,202500.0,202500.0,202500.0,180000.0,180000.0,180000.0,180000.0,157500.0,112500.0,112500.0,139500.0,139500.0,139500.0,139500.0,270000.0,180000.0,180000.0,180000.0,180000.0,180000.0,135000.0,135000.0,135000.0,135000.0,135000.0,135000.0,225000.0,180000.0,180000.0,180000.0,135000.0,270000.0,270000.0,270000.0,135000.0,135000.0,135000.0,135000.0,270000.0,270000.0,270000.0,270000.0,135000.0,112500.0,112500.0,180000.0,225000.0,180000.0,180000.0,67500.0,67500.0,67500.0,67500.0,67500.0,112500.0,112500.0,112500.0,63000.0,63000.0,63000.0,270000.0,270000.0,270000.0,270000.0,270000.0,270000.0,270000.0,202500.0,202500.0,202500.0,90000.0,90000.0,90000.0,90000.0,90000.0,90000.0,265500.0,265500.0,265500.0,135000.0,135000.0,135000.0,135000.0,83250.0,202500.0,135000.0,135000.0,135000.0,135000.0,315000.0,315000.0,135000.0,135000.0,202500.0,202500.0,157500.0,157500.0,157500.0,112500.0,112500.0,112500.0,112500.0,112500.0,112500.0,112500.0,112500.0,112500.0,112500.0,112500.0,112500.0,112500.0,112500.0,225000.0,225000.0,238500.0,238500.0,238500.0,238500.0,238500.0,108000.0,108000.0,108000.0,108000.0,108000.0,108000.0,108000.0,157500.0,157500.0,157500.0,157500.0,157500.0,270000.0,157500.0,315000.0,144000.0,180000.0,247500.0,324000.0,225000.0,135000.0,315000.0,315000.0,315000.0,315000.0,315000.0,135000.0,270000.0,135000.0,135000.0,112500.0,112500.0,135000.0,126000.0,112500.0,202500.0,225000.0,157500.0,252000.0,252000.0,252000.0,180000.0,180000.0,247500.0,247500.0,270000.0,180000.0,90000.0,153000.0,225000.0,157500.0,189000.0,202500.0,225000.0,202500.0,112500.0,202500.0,270000.0,351000.0,72000.0,171000.0,90000.0,202500.0,135000.0,90000.0,112500.0,144000.0,135000.0,135000.0,157500.0,270000.0,135000.0,103500.0,103500.0,81000.0,81000.0,180000.0,112500.0,180000.0,157500.0,90000.0,382500.0,99000.0,315000.0,81000.0,81000.0,315000.0,202500.0,202500.0,157500.0,99000.0,270000.0,202500.0,292500.0,292500.0,90000.0,382500.0,180000.0,225000.0,180000.0,90000.0,90000.0,112500.0,270000.0,270000.0,90000.0,157500.0,157500.0,67500.0,67500.0,135000.0,225000.0,225000.0,117000.0,202500.0,202500.0,121500.0,315000.0,126000.0,135000.0,193500.0,90000.0,157500.0,112500.0,166500.0,202500.0,193500.0,193500.0,180000.0,135000.0,135000.0,135000.0,112500.0,216000.0,180000.0,180000.0,270000.0,157500.0,225000.0,135000.0,135000.0,225000.0,135000.0,112500.0,135000.0,135000.0,103500.0,225000.0,126000.0,337500.0,292500.0,157500.0,180000.0,90000.0,225000.0,65250.0,108000.0,108000.0,180000.0,135000.0,139500.0,135000.0,225000.0,90000.0,135000.0,135000.0,189000.0,225000.0,252000.0,135000.0,202500.0,135000.0,135000.0,180000.0,157500.0,202500.0,117000.0,90000.0,112500.0,112500.0,261000.0,180000.0,171000.0,90000.0,108000.0,72000.0,112500.0,261000.0,261000.0,225000.0,225000.0,121500.0,112500.0,112500.0,90000.0,112500.0,225000.0,117000.0,315000.0,117000.0,180000.0,382500.0,148500.0,225000.0,112500.0,180000.0,234000.0,157500.0,135000.0,292500.0,135000.0,202500.0,202500.0,234000.0,207000.0,112500.0,135000.0,135000.0,157500.0,112500.0,234000.0,81000.0,225000.0,202500.0,90000.0,157500.0,270000.0,178650.0,171000.0,180000.0,247500.0,157500.0,63000.0,360000.0,157500.0,157500.0,112500.0,202500.0,202500.0,202500.0,202500.0,90000.0,135000.0,135000.0,337500.0,337500.0,162000.0,274500.0,274500.0,135000.0,126000.0,247500.0,165600.0,99000.0,99000.0,270000.0,90000.0,135000.0,148500.0,225000.0,225000.0,180000.0,180000.0,247500.0,211500.0,157500.0,144000.0,144000.0,157500.0,315000.0,360000.0,180000.0,202500.0,180000.0,49500.0,247500.0,247500.0,157500.0,225000.0,292500.0,292500.0,144000.0,157500.0,270000.0,112500.0,256500.0,144000.0,144000.0,292500.0,292500.0,117000.0,180000.0,144000.0,72000.0,144000.0,135000.0,148500.0,135000.0,135000.0,135000.0,180000.0,292500.0,202500.0,292500.0,94500.0,180000.0,180000.0,225000.0,225000.0,225000.0,135000.0,202500.0,180000.0,67500.0,67500.0,72000.0,94500.0,94500.0,337500.0,90000.0,135000.0,112500.0,112500.0,90000.0,103500.0,103500.0,103500.0,103500.0,103500.0,90000.0,180000.0,46948.5,46948.5,46948.5,46948.5,270000.0,270000.0,270000.0,270000.0,99000.0,99000.0,157500.0,225000.0,225000.0,112500.0,270000.0,270000.0,157500.0,135000.0,112500.0,148500.0,112500.0,157500.0,135000.0,225000.0,225000.0,225000.0,67500.0,171000.0,85500.0,85500.0,135000.0,112500.0,112500.0,135000.0,135000.0,157500.0,157500.0,157500.0,270000.0,148500.0,148500.0,225000.0,306000.0,180000.0,180000.0,180000.0,144000.0,135000.0,117000.0,58500.0,112500.0,207000.0,207000.0,112500.0,112500.0,112500.0,112500.0,112500.0,112500.0,112500.0,112500.0,112500.0,112500.0,225000.0,83250.0,83250.0,81000.0,90000.0,90000.0,135000.0,157500.0,81000.0,180000.0,360000.0,360000.0,180000.0,112500.0,126000.0,126000.0,180000.0,157500.0,112500.0,112500.0,378000.0,135000.0,135000.0,270000.0,292500.0,292500.0,189000.0,157500.0,202500.0,225000.0,315000.0,112500.0,202500.0,270000.0,247500.0,126000.0,360000.0,180000.0,112500.0,180000.0,117000.0,117000.0,135000.0,225000.0,225000.0,202500.0,67500.0,216000.0,157500.0,117000.0,85500.0,180000.0,94500.0,94500.0,90000.0,202500.0,202500.0,67500.0,72000.0,157500.0,126000.0,112500.0,135000.0,135000.0,315000.0,225000.0,360000.0,112500.0,202500.0,85500.0,81000.0,157500.0,202500.0,166500.0,99000.0,99000.0,292500.0,135000.0,90000.0,157500.0,126000.0,382500.0,112500.0,112500.0,225000.0,279000.0,157500.0,135000.0,135000.0,81000.0,270000.0,135000.0,180000.0,157500.0,135000.0,135000.0,135000.0,42300.0,180000.0,121500.0,184500.0,135000.0,126000.0,126000.0,126000.0,126000.0,135000.0,202500.0,202500.0,202500.0,247500.0,99000.0,90000.0,81000.0,76500.0,74061.0,148500.0,175950.0,67500.0,225000.0,292500.0,180000.0,121500.0,121500.0,85500.0,103500.0,90000.0,270000.0,202500.0,202500.0,67500.0,67500.0,180000.0,180000.0,112500.0,112500.0,225000.0,180000.0,157500.0,180000.0,270000.0,270000.0,360000.0,360000.0,225000.0,225000.0,225000.0,121500.0,67500.0,117000.0,117000.0,94500.0,126000.0,112500.0,225000.0,225000.0,225000.0,90000.0,135000.0,225000.0,67500.0,157500.0,103500.0,175500.0,175500.0,135000.0,90000.0,153000.0,112500.0,112500.0,112500.0,157500.0,270000.0,168750.0,112500.0,225000.0,270000.0,225000.0,225000.0,215100.0,225000.0,225000.0,135000.0,135000.0,90000.0,157500.0,112500.0,112500.0,180000.0,175500.0,175500.0,180000.0,247500.0,202500.0,157500.0,144000.0,76500.0,315000.0,315000.0,135000.0,112500.0,256500.0,247500.0,247500.0,112500.0,121500.0,157500.0,67500.0,139500.0,139500.0,72000.0,135000.0,47250.0,47250.0,81000.0,256500.0,180000.0,225000.0,180000.0,180000.0,225000.0,225000.0,112500.0,112500.0,99000.0,90000.0,157500.0,157500.0,202500.0,112500.0,112500.0,270000.0,108000.0,54000.0,225000.0,225000.0,292500.0,157500.0,157500.0,225000.0,157500.0,292500.0,202500.0,202500.0,180000.0,270000.0,270000.0,157500.0,157500.0,202500.0,135000.0,157500.0,135000.0,162000.0,90000.0,270000.0,292500.0,135000.0,135000.0,135000.0,121500.0,157500.0,202500.0,135000.0,135000.0,202500.0,202500.0,202500.0,112500.0,202500.0,135000.0,135000.0,135000.0,121500.0,121500.0,135000.0,135000.0,90000.0,177012.0,135000.0,135000.0,90000.0,90000.0,270000.0,135000.0,67500.0,67500.0,135000.0,135000.0,157500.0,202500.0,202500.0,180000.0,94500.0,85500.0,85500.0,247500.0,166500.0,270000.0,90000.0,162000.0,180000.0,180000.0,135000.0,135000.0,135000.0,180000.0,112500.0,265500.0,135000.0,247500.0,180000.0,180000.0,112500.0,112500.0,112500.0,189000.0,135000.0,216000.0,135000.0,225000.0,81000.0,157500.0,126000.0,270000.0,193500.0,193500.0,202500.0,225000.0,180000.0,67500.0,180000.0,144000.0,144000.0,238500.0,117000.0,117000.0,112500.0,225000.0,360000.0,157500.0,270000.0,171000.0,171000.0,90000.0,135000.0,162000.0,180000.0,180000.0,180000.0,180000.0,157500.0,225000.0,90000.0,112500.0,99000.0,243000.0,112500.0,382500.0,135000.0,292500.0,225000.0,135000.0,166500.0,180000.0,270000.0,247500.0,157500.0,157500.0,364500.0,364500.0,76500.0,76500.0,153000.0,153000.0,225000.0,225000.0,121500.0,180000.0,112500.0,112500.0,121500.0,157500.0,166500.0,157500.0,135000.0,135000.0,135000.0,247500.0,225000.0,112500.0,90000.0,337500.0,180000.0,202500.0,103500.0,103500.0,202500.0,202500.0,270000.0,270000.0,112500.0,270000.0,270000.0,265500.0,180000.0,90000.0,135000.0,135000.0,270000.0,90000.0,162000.0,162000.0,216000.0,103500.0,103500.0,103500.0,103500.0,103500.0,103500.0,103500.0,103500.0,103500.0,135000.0,112500.0,135000.0,135000.0,135000.0,202500.0,112500.0,135000.0,135000.0,135000.0,225000.0,225000.0,225000.0,225000.0,225000.0,225000.0,180000.0,180000.0,180000.0,180000.0,112500.0,202500.0,202500.0,202500.0,202500.0,112500.0,112500.0,112500.0,112500.0,112500.0,112500.0,202500.0,202500.0,135000.0,54000.0,54000.0,54000.0,54000.0,180000.0,202500.0,202500.0,202500.0,180000.0,180000.0,112500.0,112500.0,112500.0,112500.0,103500.0,103500.0,103500.0,103500.0,202500.0,202500.0,202500.0,202500.0,135000.0,135000.0,135000.0,135000.0,135000.0,135000.0,135000.0,135000.0,135000.0,135000.0,135000.0,67500.0,54000.0,112500.0,225000.0,225000.0,225000.0,225000.0,225000.0,225000.0,225000.0,225000.0,225000.0,225000.0,225000.0,67500.0,67500.0,67500.0,67500.0,67500.0,180000.0,180000.0,240750.0,240750.0,135000.0,90000.0,247500.0,247500.0,247500.0,337500.0,337500.0,238500.0,238500.0,238500.0,238500.0,193500.0,193500.0,193500.0,270000.0,270000.0,270000.0,270000.0,270000.0,270000.0,225000.0,184500.0,184500.0,184500.0,184500.0,121500.0,121500.0,121500.0,135000.0,157500.0,157500.0,157500.0,157500.0,157500.0,157500.0,157500.0,157500.0,112500.0,112500.0,112500.0,112500.0,112500.0,112500.0,112500.0,112500.0,112500.0,112500.0,81000.0,81000.0,81000.0,81000.0,81000.0,94500.0,94500.0,157500.0,157500.0,157500.0,157500.0,157500.0,157500.0,157500.0,157500.0,157500.0,157500.0,157500.0,202500.0,202500.0,202500.0,202500.0,180000.0,180000.0,180000.0,247500.0,247500.0,247500.0,247500.0,247500.0,247500.0,225000.0,225000.0,225000.0,202500.0,135000.0,90000.0,90000.0,90000.0,90000.0,90000.0,90000.0,90000.0,103500.0,103500.0,103500.0,103500.0,103500.0,90000.0,90000.0,90000.0,90000.0,90000.0,270000.0,270000.0,270000.0,270000.0,270000.0,157500.0,157500.0,157500.0,157500.0,202500.0,112500.0,135000.0,135000.0,135000.0,135000.0,135000.0,135000.0,135000.0,135000.0,135000.0,135000.0,135000.0,135000.0,135000.0,54000.0,54000.0,54000.0,94500.0,94500.0,225000.0,225000.0,225000.0,225000.0,135000.0,135000.0,135000.0,135000.0,103500.0,103500.0,54000.0,112500.0,112500.0,67500.0,189000.0,189000.0,189000.0,202500.0,202500.0,202500.0,202500.0,202500.0,117000.0,117000.0,117000.0,117000.0,225000.0,225000.0,225000.0,225000.0,225000.0,225000.0,225000.0,225000.0,225000.0,225000.0,225000.0,157500.0,157500.0,90000.0,90000.0,121500.0,121500.0,121500.0,121500.0,157500.0,157500.0,108000.0,108000.0,225000.0,180000.0,180000.0,153000.0,382500.0,382500.0,382500.0,180000.0,180000.0,180000.0,180000.0,180000.0,180000.0,180000.0,270000.0,270000.0,270000.0,81000.0,81000.0,81000.0,94500.0,135000.0,135000.0,135000.0,135000.0,126000.0,126000.0,67500.0,157500.0,157500.0,99000.0,99000.0,99000.0,99000.0,99000.0,99000.0,99000.0,90000.0,90000.0,90000.0,90000.0,90000.0,90000.0,90000.0,90000.0,90000.0,90000.0,90000.0,90000.0,90000.0,157500.0,157500.0,202500.0,202500.0,202500.0,135000.0,135000.0,135000.0,135000.0,135000.0,112500.0,112500.0,180000.0,270000.0,270000.0,225000.0,225000.0,121500.0,315000.0,315000.0,315000.0,315000.0,180000.0,90000.0,90000.0,306000.0,306000.0,135000.0,135000.0,135000.0,135000.0,135000.0,135000.0,135000.0,99000.0,225000.0,225000.0,225000.0,135000.0,135000.0,211500.0,157500.0,157500.0,157500.0,157500.0,157500.0,202500.0,202500.0,202500.0,202500.0,202500.0,202500.0,202500.0,202500.0,202500.0,202500.0,202500.0,202500.0,337500.0,337500.0,337500.0,180000.0,180000.0,180000.0,180000.0,180000.0,180000.0,180000.0,135000.0,90000.0,126000.0,126000.0,126000.0,126000.0,126000.0,126000.0,90000.0,90000.0,90000.0,90000.0,90000.0,90000.0,292500.0,292500.0,292500.0,292500.0,292500.0,112500.0,135000.0,135000.0,135000.0,135000.0,135000.0,135000.0,135000.0,135000.0,90000.0,90000.0,90000.0,180000.0,180000.0,180000.0,247500.0,247500.0,180000.0,180000.0,180000.0,180000.0,180000.0,180000.0,180000.0,180000.0,202500.0,202500.0,202500.0,202500.0,202500.0,270000.0,270000.0,270000.0,67500.0,270000.0,270000.0,270000.0,270000.0,270000.0,270000.0,180000.0,292500.0,292500.0,292500.0,292500.0,234000.0,234000.0,234000.0,234000.0,234000.0,225000.0,225000.0,225000.0,270000.0,270000.0,270000.0,270000.0,135000.0,99000.0,333000.0,333000.0,333000.0,333000.0,333000.0,333000.0,333000.0,94500.0,94500.0,94500.0,315000.0,315000.0,135000.0,135000.0,342000.0,342000.0,342000.0,342000.0,315000.0,315000.0,202500.0,225000.0,225000.0,81000.0,81000.0,81000.0,157500.0,157500.0,157500.0,157500.0,157500.0,157500.0,157500.0,157500.0,270000.0,157500.0,157500.0,135000.0,135000.0,135000.0,315000.0,180000.0,180000.0,67500.0,99000.0,99000.0,225000.0,225000.0,225000.0,211500.0,211500.0,211500.0,90000.0,90000.0,90000.0,90000.0,112500.0,112500.0,112500.0,112500.0,112500.0,112500.0,112500.0,112500.0,112500.0,112500.0,112500.0,112500.0,112500.0,112500.0,72000.0,81000.0,81000.0,81000.0,81000.0,81000.0,81000.0,81000.0,112500.0,112500.0,112500.0,112500.0,112500.0,202500.0,202500.0,112500.0,112500.0,99000.0,67500.0,67500.0,112500.0,112500.0,180000.0,112500.0,112500.0,135000.0,135000.0,135000.0,135000.0,135000.0,135000.0,202500.0,67500.0,67500.0,67500.0,67500.0,99000.0,99000.0,135000.0,135000.0,135000.0,135000.0,157500.0,157500.0,157500.0,121500.0,121500.0,121500.0,121500.0,121500.0,157500.0,157500.0,157500.0,157500.0,157500.0,157500.0,157500.0,112500.0,112500.0,112500.0,157500.0,157500.0,157500.0,211500.0,211500.0,211500.0,211500.0,211500.0,211500.0,211500.0,211500.0,211500.0,211500.0,211500.0,81000.0,247500.0,247500.0,247500.0,90000.0,90000.0,315000.0,180000.0,180000.0,180000.0,180000.0,202500.0,202500.0,202500.0,90000.0,90000.0,90000.0,270000.0,202500.0,202500.0,202500.0,81000.0,81000.0,81000.0,157500.0,157500.0,270000.0,270000.0,270000.0,270000.0,270000.0,270000.0,270000.0,270000.0,270000.0,270000.0,270000.0,270000.0,315000.0,315000.0,315000.0,315000.0,315000.0,315000.0,108000.0,108000.0,108000.0,108000.0,108000.0,144000.0,144000.0,144000.0,144000.0,144000.0,144000.0,144000.0,144000.0,90000.0,90000.0,247500.0,247500.0,247500.0,247500.0,247500.0,247500.0,247500.0,247500.0,90000.0,90000.0,90000.0,360000.0,81000.0,180000.0,180000.0,180000.0,180000.0,180000.0,180000.0,180000.0,135000.0,135000.0,67500.0,67500.0,67500.0,67500.0,67500.0,67500.0,67500.0,67500.0,225000.0,225000.0,225000.0,225000.0,225000.0,225000.0,225000.0,225000.0,157500.0,315000.0,315000.0,162000.0,162000.0,162000.0,162000.0,112500.0,112500.0,112500.0,90000.0,90000.0,90000.0,90000.0,90000.0,90000.0,90000.0,90000.0,90000.0,270000.0,270000.0,270000.0,270000.0,270000.0,270000.0,270000.0,270000.0,270000.0,270000.0,247500.0,360000.0,270000.0,270000.0,112500.0,157500.0,157500.0,157500.0,108000.0,90000.0,139500.0,202500.0,135000.0,157500.0,157500.0,157500.0,157500.0,90000.0,202500.0,202500.0,202500.0,202500.0,202500.0,202500.0,225000.0,90000.0,157500.0,157500.0,157500.0,157500.0,157500.0,202500.0,202500.0,117000.0,117000.0,117000.0,117000.0,90000.0,90000.0,90000.0,90000.0,90000.0,90000.0,90000.0,202500.0,202500.0,202500.0,135000.0,45000.0,157500.0,202500.0,117000.0,117000.0,117000.0,270000.0,270000.0,112500.0,157500.0,135000.0,135000.0,81000.0,76500.0,76500.0,76500.0,90000.0,90000.0,171000.0,247500.0,121500.0,247500.0,247500.0,135000.0,135000.0,167400.0,167400.0,167400.0,167400.0,225000.0,225000.0,90000.0,90000.0,67500.0,67500.0,360000.0,360000.0,360000.0,360000.0,360000.0,50850.0,180000.0,141750.0,141750.0,141750.0,141750.0,157500.0,144000.0,121500.0,121500.0,202500.0,202500.0,202500.0,135000.0,112500.0,166500.0,157500.0,157500.0,157500.0,202500.0,202500.0,112500.0,112500.0,58500.0,126000.0,126000.0,126000.0,126000.0,126000.0,126000.0,180000.0,112500.0,112500.0,45000.0,99000.0,99000.0,99000.0,99000.0,270000.0,270000.0,90000.0,90000.0,180000.0,112500.0,67500.0,270000.0,157500.0,157500.0,176400.0,90000.0,90000.0,76500.0,157500.0,157500.0,360000.0,360000.0,135000.0,135000.0,135000.0,135000.0,166500.0,166500.0,225000.0,225000.0,225000.0,157500.0,157500.0,261000.0,261000.0,261000.0,261000.0,126000.0,337500.0,337500.0,337500.0,180000.0,72000.0,72000.0,72000.0,85500.0,135000.0,135000.0,135000.0,135000.0,135000.0,135000.0,135000.0,76500.0,135000.0,135000.0,135000.0,135000.0,180000.0,144000.0,112500.0,261000.0,247500.0,247500.0,247500.0,247500.0,247500.0,247500.0,180000.0,162000.0,180000.0,270000.0,315000.0,315000.0,202500.0,202500.0,202500.0,202500.0,202500.0,202500.0,202500.0,202500.0,202500.0,202500.0,90000.0,315000.0,72000.0,72000.0,360000.0,202500.0,202500.0,180000.0,180000.0,180000.0,180000.0,180000.0,180000.0,180000.0,180000.0,225000.0,225000.0,112500.0,112500.0,112500.0,112500.0,112500.0,112500.0,225000.0,225000.0,225000.0,225000.0,225000.0,225000.0,225000.0,225000.0,180000.0,180000.0,180000.0,157500.0,157500.0,157500.0,157500.0,157500.0,157500.0,157500.0,99000.0,99000.0,99000.0,135000.0,135000.0,135000.0,135000.0,153000.0,153000.0,153000.0,153000.0,153000.0,153000.0,153000.0,112500.0,112500.0,112500.0,112500.0,90000.0,90000.0,360000.0,360000.0,270000.0,270000.0,270000.0,157500.0,139500.0,139500.0,139500.0,139500.0,139500.0,139500.0,139500.0,139500.0,139500.0,67500.0,67500.0,157500.0,157500.0,157500.0,157500.0,157500.0,157500.0,30150.0,30150.0,30150.0,180000.0,180000.0,180000.0,180000.0,270000.0,270000.0,270000.0,270000.0,270000.0,270000.0,270000.0,270000.0,270000.0,247500.0,247500.0,247500.0,247500.0,247500.0,247500.0,247500.0,135000.0,135000.0,135000.0,126000.0,126000.0,126000.0,180000.0,180000.0,180000.0,180000.0,202500.0,202500.0,202500.0,225000.0,225000.0,216000.0,216000.0,216000.0,155250.0,155250.0,155250.0,155250.0,155250.0,292500.0,292500.0,225000.0,225000.0,202500.0,202500.0,202500.0,202500.0,270000.0,270000.0,270000.0,270000.0,180000.0,180000.0,180000.0,180000.0,180000.0,72000.0,292500.0,292500.0,225000.0,225000.0,202500.0,202500.0,202500.0,52650.0,157500.0,157500.0,135000.0,270000.0,270000.0,270000.0,270000.0,270000.0,270000.0,270000.0,270000.0,270000.0,67500.0,67500.0,67500.0,270000.0,270000.0,270000.0,270000.0,270000.0,270000.0,180000.0,193500.0,315000.0,315000.0,315000.0,315000.0,315000.0,315000.0,315000.0,315000.0,121500.0,121500.0,121500.0,315000.0,315000.0,315000.0,315000.0,157500.0,157500.0,157500.0,157500.0,67500.0,67500.0,67500.0,67500.0,225000.0,225000.0,225000.0,225000.0,225000.0,225000.0,225000.0,225000.0,90000.0,292500.0,315000.0,315000.0,315000.0,315000.0,315000.0,315000.0,40500.0,40500.0,40500.0,40500.0,247500.0,247500.0,247500.0,247500.0,247500.0,247500.0,387000.0,387000.0,387000.0,387000.0,387000.0,387000.0,387000.0,387000.0,387000.0,157500.0,270000.0,270000.0,270000.0,90000.0,90000.0,90000.0,90000.0,90000.0,90000.0,90000.0,90000.0,360000.0,360000.0,225000.0,225000.0,225000.0,225000.0,225000.0,117000.0,117000.0,117000.0,157500.0,157500.0,157500.0,180000.0,180000.0,180000.0,180000.0,225000.0,225000.0,225000.0,103500.0,103500.0,103500.0,103500.0,247500.0,247500.0,247500.0,247500.0,247500.0,247500.0,247500.0,247500.0,247500.0,90000.0,90000.0,99000.0,99000.0,99000.0,180000.0,180000.0,180000.0,139500.0,139500.0,139500.0,139500.0,139500.0,139500.0,139500.0,225000.0,225000.0,225000.0,202500.0,202500.0,135000.0,135000.0,135000.0,135000.0,135000.0,135000.0,135000.0,112500.0,112500.0,112500.0,112500.0,112500.0,99000.0,99000.0,99000.0,157500.0,157500.0,157500.0,157500.0,99000.0,202500.0,202500.0,202500.0,202500.0,126000.0,126000.0,126000.0,126000.0,126000.0,135000.0,135000.0,135000.0,135000.0,135000.0,76500.0,117000.0,117000.0,117000.0,81000.0,225000.0,225000.0,225000.0,126000.0,180000.0,180000.0,180000.0,90000.0,90000.0,90000.0,90000.0,90000.0,90000.0,45000.0,45000.0,45000.0,45000.0,45000.0,225000.0,180000.0,180000.0,180000.0,202500.0,202500.0,202500.0,202500.0,202500.0,115200.0,115200.0,103500.0,270000.0,270000.0,270000.0,90000.0,157500.0,112500.0,112500.0,112500.0,112500.0,112500.0,112500.0,112500.0,112500.0,112500.0,112500.0,112500.0,112500.0,112500.0,180000.0,180000.0,112500.0,292500.0,292500.0,112500.0,112500.0,112500.0,112500.0,112500.0,112500.0,112500.0,112500.0,112500.0,157500.0,157500.0,157500.0,333000.0,333000.0,333000.0,333000.0,157500.0,157500.0,157500.0,99000.0,99000.0,99000.0,90000.0,67050.0,67050.0,67050.0,90000.0,90000.0,90000.0,72000.0,72000.0,72000.0,72000.0,90000.0,157500.0,157500.0,315000.0,315000.0,315000.0,180000.0,180000.0,135000.0,157500.0,157500.0,157500.0,157500.0,157500.0,90000.0,90000.0,112500.0,112500.0,85500.0,180000.0,180000.0,180000.0,180000.0,180000.0,180000.0,180000.0,202500.0,202500.0,202500.0,139500.0,279000.0,279000.0,279000.0,120150.0,120150.0,120150.0,120150.0,180000.0,180000.0,180000.0,180000.0,180000.0,180000.0,180000.0,117000.0,117000.0,117000.0,117000.0,117000.0,117000.0,117000.0,157500.0,157500.0,157500.0,157500.0,157500.0,382500.0,382500.0,382500.0,270000.0,270000.0,270000.0,270000.0,270000.0,270000.0,270000.0,112500.0,112500.0,112500.0,225000.0,225000.0,225000.0,225000.0,225000.0,225000.0,157500.0,157500.0,112500.0,112500.0,112500.0,157500.0,157500.0,67500.0,67500.0,67500.0,67500.0,45000.0,216000.0,292500.0,292500.0,67500.0,67500.0,135000.0,112500.0,112500.0,112500.0,180000.0,180000.0,135000.0,135000.0,135000.0,256500.0,256500.0,256500.0,256500.0,256500.0,256500.0,157500.0,157500.0,157500.0,157500.0,81000.0,81000.0,67500.0,67500.0,202500.0,202500.0,202500.0,202500.0,373500.0,373500.0,373500.0,373500.0,148500.0,148500.0,148500.0,148500.0,90000.0,90000.0,90000.0,90000.0,360000.0,360000.0,256500.0,256500.0,256500.0,135000.0,135000.0,337500.0,337500.0,247500.0,162000.0,162000.0,162000.0,162000.0,162000.0,67500.0,67500.0,67500.0,90000.0,180000.0,180000.0,180000.0,180000.0,180000.0,180000.0,180000.0,180000.0,180000.0,135000.0,135000.0,135000.0,135000.0,99000.0,99000.0,157500.0,157500.0,202500.0,202500.0,112500.0,112500.0,157500.0,157500.0,76500.0,76500.0,76500.0,76500.0,85500.0,157500.0,157500.0,157500.0,112500.0,202500.0,202500.0,202500.0,202500.0,202500.0,202500.0,135000.0,135000.0,157500.0,157500.0,135000.0,135000.0,135000.0,135000.0,81000.0,157500.0,157500.0,157500.0,225000.0,135000.0,157500.0,157500.0,157500.0,225000.0,225000.0,225000.0,225000.0,225000.0,225000.0,225000.0,225000.0,112500.0,112500.0,90000.0,90000.0,135000.0,135000.0,103500.0,103500.0,103500.0,103500.0,103500.0,135000.0,135000.0,135000.0,135000.0,135000.0,135000.0,135000.0,135000.0,135000.0,135000.0,135000.0,135000.0,315000.0,315000.0,315000.0,315000.0,315000.0,315000.0,315000.0,292500.0,292500.0,292500.0,292500.0,292500.0,292500.0,292500.0,76500.0,225000.0,135000.0,202500.0,202500.0,202500.0,202500.0,202500.0,202500.0,202500.0,202500.0,135000.0,135000.0,135000.0,180000.0,180000.0,180000.0,202500.0,202500.0,202500.0,202500.0,202500.0,292500.0,292500.0,292500.0,292500.0,270000.0,270000.0,90000.0,90000.0,146250.0,146250.0,144000.0,144000.0,112500.0,112500.0,112500.0,112500.0,112500.0,112500.0,112500.0,112500.0,112500.0,157500.0,157500.0,180000.0,180000.0,180000.0,180000.0,180000.0,180000.0,180000.0,112500.0,112500.0,112500.0,112500.0,162000.0,162000.0,162000.0,247500.0,247500.0,247500.0,247500.0,180000.0,180000.0,180000.0,180000.0,180000.0,180000.0,180000.0,180000.0,180000.0,180000.0,180000.0,180000.0,180000.0,180000.0,121500.0,121500.0,121500.0,121500.0,121500.0,121500.0,121500.0,180000.0,292500.0,292500.0,193500.0,193500.0,193500.0,193500.0,193500.0,225000.0,225000.0,225000.0,81000.0,144000.0,144000.0,90000.0,90000.0,90000.0,157500.0,157500.0,157500.0,157500.0,225000.0,225000.0,225000.0,292500.0,292500.0,292500.0,112500.0,112500.0,112500.0,112500.0,112500.0,135000.0,135000.0,135000.0,135000.0,135000.0,135000.0,135000.0,135000.0,121500.0,121500.0,121500.0,121500.0,121500.0,148500.0,148500.0,148500.0,148500.0,247500.0,247500.0,247500.0,247500.0,247500.0,225000.0,225000.0,225000.0,225000.0,225000.0,135000.0,135000.0,270000.0,270000.0,270000.0,270000.0,90000.0,90000.0,90000.0,130500.0,90000.0,90000.0,90000.0,144000.0,144000.0,144000.0,144000.0,144000.0,144000.0,144000.0,144000.0,112500.0,112500.0,112500.0,112500.0,112500.0,225000.0,112500.0,112500.0,112500.0,112500.0,112500.0,270000.0,270000.0,270000.0,270000.0,180000.0,180000.0,180000.0,180000.0,180000.0,180000.0,180000.0,85500.0,90000.0,90000.0,90000.0,90000.0,90000.0,90000.0,270000.0,270000.0,270000.0,135000.0,135000.0,135000.0,225000.0,225000.0,225000.0,225000.0,157500.0,157500.0,157500.0,157500.0,157500.0,90000.0,90000.0,108000.0,108000.0,108000.0,108000.0,108000.0,108000.0,108000.0,108000.0,108000.0,108000.0,202500.0,360000.0,360000.0,360000.0,360000.0,360000.0,229500.0,229500.0,229500.0,229500.0,171000.0,171000.0,171000.0,171000.0,171000.0,90000.0,202500.0,135000.0,135000.0,135000.0,135000.0,135000.0,126000.0,126000.0,126000.0,126000.0,126000.0,112500.0,112500.0,112500.0,144000.0,225000.0,225000.0,225000.0,225000.0,225000.0,202500.0,202500.0,202500.0,202500.0,202500.0,213750.0,213750.0,213750.0,213750.0,213750.0,76500.0,76500.0,157500.0,157500.0,157500.0,157500.0,270000.0,270000.0,270000.0,270000.0,270000.0,270000.0,270000.0,270000.0,121900.5,121900.5,135000.0,135000.0,202500.0,202500.0,126000.0,135000.0,135000.0,135000.0,135000.0,135000.0,135000.0,112500.0,135000.0,135000.0,135000.0,135000.0,135000.0,247500.0,247500.0,247500.0,247500.0,247500.0,315000.0,315000.0,315000.0,315000.0,315000.0,315000.0,315000.0,315000.0,315000.0,315000.0,315000.0,315000.0,135000.0,135000.0,135000.0,135000.0,135000.0,135000.0,135000.0,135000.0,135000.0,157500.0,157500.0,157500.0,157500.0,157500.0,157500.0,157500.0,157500.0,157500.0,231750.0,231750.0,292500.0,292500.0,292500.0,292500.0,292500.0,292500.0,292500.0,292500.0,292500.0,292500.0,292500.0,90000.0,135000.0,135000.0,135000.0,135000.0,135000.0,135000.0,225000.0,225000.0,225000.0,225000.0,225000.0,225000.0,225000.0,225000.0,112500.0,112500.0,135000.0,180000.0,180000.0,225000.0,225000.0,225000.0,225000.0,225000.0,225000.0,225000.0,225000.0,225000.0,225000.0,225000.0,225000.0,225000.0,225000.0,225000.0,225000.0,247500.0,247500.0,247500.0,117000.0,126000.0,126000.0,126000.0,126000.0,126000.0,126000.0,121500.0,121500.0,121500.0,121500.0,121500.0,315000.0,315000.0,315000.0,157500.0,157500.0,157500.0,157500.0,76500.0,76500.0,90000.0,112500.0,112500.0,180000.0,180000.0,315000.0,315000.0,119250.0,270000.0,270000.0,225000.0,225000.0,225000.0,225000.0,225000.0,225000.0,346500.0,346500.0,346500.0,225000.0,112500.0,112500.0,112500.0,112500.0,112500.0,112500.0,191250.0,270000.0,99000.0,99000.0,171000.0,171000.0,180000.0,132372.0,132372.0,132372.0,180000.0,157500.0,157500.0,135000.0,135000.0,135000.0,135000.0,135000.0,135000.0,135000.0,225000.0,157500.0,157500.0,157500.0,157500.0,157500.0,157500.0,157500.0,157500.0,360000.0,135000.0,180000.0,180000.0,135000.0,135000.0,225000.0,225000.0,135000.0,135000.0,135000.0,159750.0,159750.0,159750.0,159750.0,135000.0,135000.0,135000.0,132750.0,225000.0,247500.0,180000.0,180000.0,180000.0,337500.0,337500.0,337500.0,337500.0,180000.0,180000.0,91530.0,81000.0,180000.0,180000.0,180000.0,315000.0,135000.0,135000.0,135000.0,135000.0,270000.0,270000.0,270000.0,270000.0,270000.0,157500.0,157500.0,90000.0,90000.0,103500.0,90000.0,90000.0,90000.0,90000.0,90000.0,157500.0,90000.0,97731.0,180000.0,180000.0,180000.0,180000.0,270000.0,270000.0,270000.0,292500.0,292500.0,270000.0,270000.0,270000.0,270000.0,225000.0,225000.0,225000.0,225000.0,180000.0,126000.0,126000.0,112500.0,112500.0,130500.0,180000.0,180000.0,180000.0,170302.5,135000.0,135000.0,135000.0,135000.0,135000.0,135000.0,270000.0,270000.0,180000.0,135000.0,157500.0,157500.0,157500.0,157500.0,157500.0,157500.0,112500.0,112500.0,112500.0,112500.0,54000.0,247500.0,247500.0,265581.0,306000.0,306000.0,306000.0,225000.0,225000.0,225000.0,225000.0,270000.0,270000.0,270000.0,270000.0,270000.0,382500.0,180000.0,180000.0,180000.0,180000.0,180000.0,135000.0,67500.0,67500.0,67500.0,67500.0,67500.0,67500.0,67500.0,67500.0,67500.0,49500.0,112500.0,112500.0,73575.0,270000.0,270000.0,270000.0,270000.0,270000.0,270000.0,270000.0,315000.0,315000.0,315000.0,247500.0,247500.0,360000.0,69750.0,112500.0,112500.0,112500.0,85500.0,85500.0,85500.0,85500.0,85500.0,85500.0,202500.0,202500.0,202500.0,202500.0,112500.0,112500.0,315000.0,180000.0,144000.0,144000.0,234000.0,234000.0,234000.0,234000.0,234000.0,234000.0,247500.0,247500.0,247500.0,247500.0,135000.0,135000.0,202500.0,202500.0,112500.0,112500.0,184135.5,184135.5,292500.0,292500.0,247500.0,247500.0,247500.0,202500.0,135000.0,135000.0,171000.0,171000.0,270000.0,225000.0,225000.0,90000.0,135000.0,135000.0,135000.0,135000.0,135000.0,135000.0,160200.0,191700.0,94500.0,225000.0,135000.0,135000.0,135000.0,135000.0,121500.0,121500.0,121500.0,121500.0,121500.0,121500.0,121500.0,121500.0,121500.0,121500.0,121500.0,121500.0,135000.0,135000.0,180000.0,135000.0,135000.0,135000.0,135000.0,135000.0,135000.0,135000.0,76500.0,76500.0,76500.0,112500.0,112500.0,112500.0,112500.0,112500.0,135000.0,202500.0,202500.0,202500.0,202500.0,202500.0,135000.0,180000.0,180000.0,180000.0,180000.0,180000.0,180000.0,180000.0,81000.0,81000.0,225000.0,112500.0,253800.0,253800.0,225000.0,225000.0,225000.0,225000.0,225000.0,225000.0,103500.0,103500.0,103500.0,103500.0,103500.0,103500.0,103500.0,247500.0,247500.0,247500.0,247500.0,247500.0,247500.0,247500.0,135000.0,135000.0,135000.0,67500.0,67500.0,67500.0,180000.0,90000.0,90000.0,180000.0,180000.0,135000.0,135000.0,270000.0,270000.0,90000.0,90000.0,90000.0,90000.0,90000.0,90000.0,180000.0,180000.0,126000.0,126000.0,180000.0,180000.0,180000.0,270000.0,270000.0,270000.0,270000.0,180000.0,180000.0,180000.0,180000.0,180000.0,54000.0,54000.0,135000.0,135000.0,252000.0,252000.0,225000.0,225000.0,126000.0,126000.0,225000.0,225000.0,225000.0,315000.0,315000.0,180000.0,180000.0,180000.0,180000.0,135000.0,135000.0,135000.0,135000.0,135000.0,135000.0,166500.0,112500.0,112500.0,112500.0,112500.0,112500.0,112500.0,81000.0,81000.0,81000.0,81000.0,81000.0,81000.0,81000.0,180000.0,180000.0,180000.0,117000.0,180000.0,180000.0,180000.0,90000.0,90000.0,112500.0,112500.0,112500.0,112500.0,112500.0,112500.0,225000.0,225000.0,225000.0,45000.0,45000.0,45000.0,45000.0,45000.0,45000.0,45000.0,270000.0,270000.0,270000.0,270000.0,270000.0,270000.0,270000.0,94500.0,94500.0,94500.0,337500.0,337500.0,157500.0,225000.0,225000.0,225000.0,225000.0,225000.0,225000.0,112500.0,112500.0,112500.0,382500.0,382500.0,180000.0,139500.0,139500.0,139500.0,139500.0,225000.0,225000.0,225000.0,225000.0,225000.0,225000.0,270000.0,270000.0,270000.0,270000.0,67500.0,67500.0,67500.0,67500.0,247500.0,247500.0,247500.0,54000.0,54000.0,270000.0,270000.0,157500.0,157500.0,157500.0,157500.0,157500.0,157500.0,135000.0,135000.0,135000.0,157500.0,360000.0,360000.0,360000.0,360000.0,360000.0,225000.0,56700.0,56700.0,56700.0,94500.0,90000.0,180000.0,180000.0,157500.0,157500.0,157500.0,157500.0,157500.0,157500.0,157500.0,202500.0,202500.0,202500.0,90000.0,112500.0,135000.0,135000.0,135000.0,45000.0,45000.0,45000.0,45000.0,45000.0,148500.0,148500.0,148500.0,157500.0,67500.0,67500.0,67500.0,67500.0,67500.0,193500.0,193500.0,193500.0,193500.0,270000.0,270000.0,135000.0,135000.0,135000.0,175500.0,175500.0,175500.0,175500.0,175500.0,175500.0,175500.0,175500.0,175500.0,180000.0,180000.0,180000.0,180000.0,144000.0,130500.0,130500.0,130500.0,130500.0,315000.0,315000.0,90000.0,99000.0,99000.0,99000.0,99000.0,270000.0,270000.0,270000.0,234000.0,234000.0,234000.0,234000.0,234000.0,234000.0,234000.0,234000.0,234000.0,126000.0,225000.0,225000.0,126000.0,90000.0,90000.0,157500.0,157500.0,157500.0,157500.0,157500.0,157500.0,157500.0,157500.0,157500.0,157500.0,157500.0,157500.0,157500.0,207000.0,207000.0,207000.0,207000.0,207000.0,207000.0,207000.0,207000.0,67500.0,135000.0,135000.0,135000.0,157500.0,315000.0,315000.0,315000.0,315000.0,315000.0,315000.0,112500.0,112500.0,112500.0,112500.0,112500.0,112500.0,112500.0,157500.0,157500.0,157500.0,112500.0,112500.0,90000.0,135000.0,135000.0,121500.0,121500.0,270000.0,270000.0,270000.0,270000.0,270000.0,270000.0,270000.0,270000.0,270000.0,270000.0,184500.0,126000.0,126000.0,126000.0,180000.0,180000.0,180000.0,180000.0,135000.0,135000.0,135000.0,67500.0,67500.0,157500.0,157500.0,157500.0,94500.0,94500.0,90000.0,202500.0,202500.0,202500.0,202500.0,148500.0,148500.0,148500.0,148500.0,76500.0,76500.0,76500.0,76500.0,157500.0,67500.0,135000.0,112500.0,135000.0,135000.0,135000.0,126000.0,126000.0,126000.0,180000.0,180000.0,135000.0,247500.0,247500.0,225000.0,225000.0,171000.0,171000.0,171000.0,171000.0,238500.0,238500.0,238500.0,238500.0,238500.0,135000.0,135000.0,135000.0,180000.0,180000.0,157500.0,157500.0,247500.0,247500.0,135000.0,135000.0,135000.0,135000.0,135000.0,157500.0,157500.0,180000.0,292500.0,157500.0,157500.0,81000.0,81000.0,81000.0,270000.0,270000.0,270000.0,270000.0,270000.0,112500.0,112500.0,112500.0,180000.0,180000.0,180000.0,180000.0,247500.0,247500.0,247500.0,270000.0,112500.0,112500.0,112500.0,112500.0,135000.0,135000.0,135000.0,135000.0,135000.0,135000.0,135000.0,369000.0,369000.0,369000.0,369000.0,112500.0,112500.0,112500.0,112500.0,112500.0,351000.0,351000.0,351000.0,157500.0,157500.0,157500.0,157500.0,157500.0,157500.0,90000.0,112500.0,112500.0,112500.0,292500.0,292500.0,292500.0,292500.0,225000.0,225000.0,112500.0,112500.0,112500.0,112500.0,216000.0,216000.0,216000.0,216000.0,216000.0,216000.0,157500.0,67500.0,252000.0,252000.0,252000.0,135000.0,135000.0,135000.0,193500.0,193500.0,193500.0,193500.0,193500.0,193500.0,193500.0,157500.0,157500.0,157500.0,157500.0,157500.0,157500.0,157500.0,157500.0,157500.0,157500.0,157500.0,225000.0,225000.0,225000.0,225000.0,225000.0,270000.0,270000.0,270000.0,112500.0,112500.0,112500.0,112500.0,112500.0,112500.0,112500.0,112500.0,112500.0,112500.0,112500.0,81000.0,81000.0,81000.0,112500.0,112500.0,225000.0,225000.0,360000.0,360000.0,360000.0,360000.0,360000.0,360000.0,360000.0,360000.0,360000.0,360000.0,270000.0,270000.0,270000.0,45000.0,45000.0,45000.0,225000.0,225000.0,225000.0,225000.0,225000.0,225000.0,225000.0,225000.0,225000.0,225000.0,225000.0,180000.0,180000.0,112500.0,193500.0,193500.0,193500.0,225000.0,225000.0,135000.0,135000.0,157500.0,157500.0,225000.0,225000.0,225000.0,225000.0,225000.0,225000.0,225000.0,225000.0,225000.0,225000.0,225000.0,225000.0,103500.0,103500.0,103500.0,360000.0,360000.0,360000.0,360000.0,135000.0,135000.0,135000.0,135000.0,135000.0,135000.0,135000.0,135000.0,360000.0,360000.0,360000.0,360000.0,360000.0,360000.0,135000.0,135000.0,157500.0,157500.0,157500.0,225000.0,225000.0,225000.0,225000.0,180000.0,180000.0,180000.0,180000.0,81000.0,90000.0,135000.0,135000.0,135000.0,135000.0,180000.0,180000.0,180000.0,180000.0,180000.0,112500.0,112500.0,112500.0,112500.0,112500.0,112500.0,184500.0,184500.0,184500.0,184500.0,184500.0,184500.0,184500.0,184500.0,184500.0,184500.0,184500.0,184500.0,121500.0,121500.0,121500.0,121500.0,121500.0,121500.0,157500.0,157500.0,157500.0,337500.0,337500.0,157500.0,157500.0,157500.0,112500.0,112500.0,157500.0,157500.0,157500.0,157500.0,90000.0,90000.0,90000.0,90000.0,90000.0,90000.0,90000.0,90000.0,90000.0,90000.0,90000.0,90000.0,90000.0,90000.0,157500.0,225000.0,225000.0,225000.0,225000.0,225000.0,225000.0,225000.0,202500.0,202500.0,202500.0,270000.0,270000.0,270000.0,270000.0,270000.0,270000.0,225000.0,292500.0,292500.0,292500.0,135000.0,135000.0,135000.0,135000.0,157500.0,157500.0,157500.0,135000.0,85500.0,85500.0,85500.0,85500.0,270000.0,270000.0,270000.0,270000.0,270000.0,270000.0,202500.0,337500.0,337500.0,337500.0,337500.0,337500.0,162000.0,162000.0,162000.0,162000.0,108000.0,108000.0,108000.0,108000.0,108000.0,108000.0,76500.0,90000.0,90000.0,90000.0,90000.0,90000.0,180000.0,180000.0,180000.0,180000.0,180000.0,180000.0,292500.0,292500.0,292500.0,292500.0,202500.0,202500.0,202500.0,202500.0,202500.0,202500.0,202500.0,180000.0,180000.0,81000.0,81000.0,81000.0,81000.0,112500.0,112500.0,112500.0,112500.0,112500.0,112500.0,112500.0,112500.0,157500.0,157500.0,157500.0,157500.0,157500.0,157500.0,157500.0,157500.0,270000.0,270000.0,270000.0,135000.0,135000.0,135000.0,135000.0,135000.0,166500.0,176175.0,176175.0,176175.0,176175.0,176175.0,202500.0,202500.0,202500.0,202500.0,202500.0,67500.0,67500.0,134419.5,134419.5,134419.5,134419.5,126000.0,126000.0,157500.0,112500.0,112500.0,112500.0,190399.5,190399.5,190399.5,190399.5,135000.0,135000.0,135000.0,135000.0,135000.0,67500.0,67500.0,67500.0,67500.0,67500.0,67500.0,72000.0,315000.0,315000.0,315000.0,67500.0,67500.0,67500.0,67500.0,67500.0,292500.0,135000.0,135000.0,135000.0,135000.0,135000.0,135000.0,135000.0,135000.0,135000.0,135000.0,135000.0,135000.0,135000.0,135000.0,135000.0,171000.0,171000.0,171000.0,171000.0,171000.0,171000.0,171000.0,171000.0,378000.0,378000.0,378000.0,378000.0,378000.0,180000.0,180000.0,90000.0,180000.0,135000.0,90000.0,135000.0,135000.0,135000.0,135000.0,135000.0,135000.0,135000.0,135000.0,157500.0,270000.0,202500.0,202500.0,202500.0,202500.0,202500.0,202500.0,90000.0,90000.0,90000.0,292500.0,292500.0,292500.0,112500.0,121500.0,121500.0,121500.0,121500.0,121500.0,121500.0,112500.0,112500.0,112500.0,112500.0,112500.0,112500.0,112500.0,135000.0,135000.0,135000.0,135000.0,112500.0,112500.0,112500.0,112500.0,112500.0,67500.0,63000.0,63000.0,135000.0,126000.0,225000.0,225000.0,225000.0,225000.0,225000.0,225000.0,103500.0,157500.0,157500.0,157500.0,99000.0,99000.0,99000.0,99000.0,135000.0,135000.0,135000.0,148500.0,148500.0,148500.0,148500.0,148500.0,148500.0,157500.0,157500.0,157500.0,31500.0,292500.0,292500.0,292500.0,90000.0,90000.0,90000.0,225000.0,225000.0,225000.0,225000.0,225000.0,225000.0,225000.0,157500.0,157500.0,157500.0,112500.0,112500.0,180000.0,180000.0,180000.0,180000.0,180000.0,180000.0,180000.0,315000.0,157500.0,157500.0,135000.0,135000.0,135000.0,135000.0,135000.0,135000.0,135000.0,225000.0,225000.0,225000.0,103500.0,103500.0,103500.0,103500.0,103500.0,103500.0,103500.0,103500.0,103500.0,225000.0,225000.0,225000.0,225000.0,225000.0,225000.0,135000.0,243000.0,243000.0,243000.0,78750.0,78750.0,78750.0,144000.0,135000.0,135000.0,135000.0,135000.0,180000.0,180000.0,90000.0,189000.0,189000.0,189000.0,189000.0,189000.0,189000.0,202500.0,202500.0,202500.0,180000.0,112500.0,112500.0,112500.0,135000.0,135000.0,135000.0,135000.0,135000.0,135000.0,135000.0,135000.0,135000.0,90000.0,382500.0,382500.0,382500.0,103500.0,103500.0,103500.0,103500.0,157500.0,157500.0,135000.0,292500.0,292500.0,292500.0,292500.0,292500.0,292500.0,292500.0,292500.0,292500.0,180000.0,166500.0,112500.0,112500.0,360000.0,360000.0,360000.0,360000.0,360000.0,180000.0,180000.0,180000.0,180000.0,157500.0,157500.0,157500.0,157500.0,157500.0,112500.0,135000.0,135000.0,202500.0,202500.0,202500.0,202500.0,202500.0,67500.0,67500.0,103500.0,135000.0,135000.0,225000.0,225000.0,225000.0,225000.0,225000.0,225000.0,225000.0,225000.0,225000.0,225000.0,225000.0,225000.0,225000.0,225000.0,225000.0,360000.0,360000.0,360000.0,360000.0,157500.0,157500.0,157500.0,135000.0,180000.0,58500.0,103500.0,103500.0,103500.0,103500.0,103500.0,103500.0,103500.0,103500.0,81000.0,81000.0,90000.0,112500.0,112500.0,112500.0,236250.0,157500.0,157500.0,247500.0,247500.0,247500.0,247500.0,247500.0,247500.0,247500.0,247500.0,247500.0,247500.0,247500.0,247500.0,247500.0,45000.0,202500.0,202500.0,202500.0,202500.0,202500.0,202500.0,202500.0,202500.0,180000.0,180000.0,180000.0,180000.0,225000.0,225000.0,180000.0,247500.0,202500.0,90000.0,90000.0,90000.0,202500.0,157500.0,157500.0,90000.0,121500.0,90000.0,103500.0,360000.0,360000.0,121500.0,112500.0,225000.0,90000.0,157500.0,157500.0,157500.0,225000.0,112500.0,126000.0,126000.0,121500.0,112500.0,135000.0,337500.0,112500.0,112500.0,157500.0,157500.0,157500.0,157500.0,202500.0,247500.0,144000.0,90000.0,261000.0,180000.0,180000.0,112500.0,117000.0,117000.0,99000.0,99000.0,99000.0,99000.0,99000.0,270000.0,67500.0,67500.0,117000.0,117000.0,135000.0,108000.0,202500.0,202500.0,202500.0,202500.0,157500.0,157500.0,157500.0,180000.0,180000.0,180000.0,216000.0,216000.0,216000.0,216000.0,216000.0,208350.0,208350.0,208350.0,208350.0,85500.0,85500.0,85500.0,202500.0,202500.0,202500.0,202500.0,202500.0,202500.0,157500.0,157500.0,157500.0,157500.0,144000.0,144000.0,144000.0,157500.0,157500.0,157500.0,157500.0,180000.0,180000.0,180000.0,180000.0,180000.0,180000.0,180000.0,40500.0,40500.0,40500.0,40500.0,40500.0,40500.0,90000.0,90000.0,90000.0,90000.0,90000.0,90000.0,90000.0,90000.0,90000.0,157500.0,157500.0,157500.0,225000.0,225000.0,225000.0,225000.0,225000.0,225000.0,225000.0,225000.0,225000.0,225000.0,225000.0,225000.0,225000.0,135000.0,135000.0,135000.0,135000.0,306000.0,306000.0,306000.0,306000.0,306000.0,306000.0,306000.0,306000.0,288000.0,288000.0,288000.0,288000.0,288000.0,288000.0,162000.0,162000.0,135000.0,135000.0,135000.0,135000.0,135000.0,103500.0,103500.0,202500.0,202500.0,135000.0,247500.0,247500.0,247500.0,180000.0,49500.0,49500.0,49500.0,99000.0,99000.0,67500.0,63000.0,63000.0,63000.0,63000.0,63000.0,63000.0,99000.0,99000.0,99000.0,99000.0,99000.0,99000.0,99000.0,135000.0,135000.0,135000.0,157500.0,108000.0,90000.0,117000.0,117000.0,117000.0,225000.0,225000.0,225000.0,121500.0,121500.0,112500.0,166500.0,166500.0,166500.0,166500.0,81000.0,112500.0,121500.0,121500.0,121500.0,54000.0,54000.0,54000.0,54000.0,54000.0,247500.0,247500.0,247500.0,247500.0,270000.0,270000.0,108000.0,108000.0,108000.0,108000.0,315000.0,315000.0,135000.0,85500.0,157500.0,157500.0,157500.0,157500.0,225000.0,225000.0,225000.0,225000.0,225000.0,225000.0,157500.0,157500.0,157500.0,157500.0,225000.0,225000.0,225000.0,225000.0,225000.0,225000.0,270000.0,270000.0,270000.0,270000.0,270000.0,148500.0,148500.0,148500.0,148500.0,148500.0,148500.0,148500.0,148500.0,180000.0,180000.0,81000.0,112500.0,90000.0,90000.0,90000.0,90000.0,90000.0,90000.0,135000.0,135000.0,135000.0,135000.0,135000.0,225000.0,225000.0,135000.0,135000.0,135000.0,135000.0,135000.0,256500.0,256500.0,256500.0,256500.0,256500.0,256500.0,90000.0,90000.0,157500.0,157500.0,157500.0,157500.0,157500.0,270000.0,270000.0,270000.0,157500.0,157500.0,139500.0,180000.0,180000.0,112500.0,112500.0,139500.0,139500.0,247500.0,247500.0,247500.0,247500.0,112500.0,112500.0,112500.0,112500.0,112500.0,112500.0,324000.0,324000.0,324000.0,324000.0,324000.0,324000.0,324000.0,324000.0,324000.0,135000.0,135000.0,58500.0,58500.0,58500.0,90000.0,90000.0,90000.0,90000.0,90000.0,90000.0,90000.0,90000.0,90000.0,225000.0,135000.0,135000.0,135000.0,135000.0,135000.0,135000.0,135000.0,135000.0,180000.0,180000.0,180000.0,135000.0,135000.0,135000.0,135000.0,135000.0,135000.0,135000.0,135000.0,49500.0,112500.0,112500.0,157500.0,157500.0,157500.0,157500.0,157500.0,157500.0,222750.0,222750.0,222750.0,222750.0,222750.0,222750.0,222750.0,222750.0,180000.0,180000.0,180000.0,180000.0,180000.0,180000.0,180000.0,180000.0,180000.0,112500.0,112500.0,112500.0,112500.0,112500.0,112500.0,112500.0,112500.0,112500.0,112500.0,112500.0,112500.0,112500.0,112500.0,112500.0,112500.0,225000.0,225000.0,225000.0,211500.0,211500.0,211500.0,45000.0,85500.0,85500.0,85500.0,85500.0,157500.0,157500.0,157500.0,157500.0,157500.0,157500.0,157500.0,157500.0,112500.0,112500.0,135000.0,135000.0,135000.0,135000.0,135000.0,135000.0,135000.0,135000.0,67500.0,67500.0,67500.0,67500.0,67500.0,67500.0,67500.0,67500.0,67500.0,67500.0,202500.0,202500.0,202500.0,202500.0,202500.0,202500.0,202500.0,202500.0,261000.0,261000.0,261000.0,261000.0,261000.0,315000.0,315000.0,135000.0,135000.0,94500.0,94500.0,94500.0,94500.0,94500.0,94500.0,94500.0,67500.0,76500.0,76500.0,76500.0,157500.0,157500.0,157500.0,225000.0,225000.0,225000.0,225000.0,65250.0,65250.0,65250.0,180000.0,180000.0,180000.0,180000.0,180000.0,135000.0,135000.0,135000.0,135000.0,135000.0,247500.0,247500.0,247500.0,247500.0,225000.0,225000.0,90000.0,90000.0,90000.0,90000.0,90000.0,72900.0,72900.0,72900.0,72900.0,153000.0,153000.0,153000.0,180000.0,180000.0,180000.0,135000.0,135000.0,162000.0,162000.0,162000.0,162000.0,157500.0,157500.0,157500.0,270000.0,202500.0,202500.0,202500.0,202500.0,202500.0,202500.0,225000.0,67500.0,56250.0,56250.0,56250.0,56250.0,292500.0,292500.0,292500.0,292500.0,112500.0,112500.0,112500.0,112500.0,112500.0,112500.0,270000.0,270000.0,270000.0,270000.0,270000.0,270000.0,270000.0,270000.0,270000.0,270000.0,270000.0,270000.0,90000.0,112500.0,112500.0,112500.0,112500.0,324000.0,324000.0,324000.0,324000.0,324000.0,324000.0,324000.0,225000.0,225000.0,225000.0,135000.0,135000.0,135000.0,135000.0,135000.0,135000.0,135000.0,135000.0,135000.0,135000.0,135000.0,202500.0,202500.0,202500.0,202500.0,202500.0,202500.0,202500.0,202500.0,180000.0,180000.0,180000.0,180000.0,180000.0,180000.0,180000.0,180000.0,180000.0,180000.0,247500.0,247500.0,247500.0,202500.0,202500.0,202500.0,202500.0,202500.0,202500.0,202500.0,202500.0,180000.0,180000.0,180000.0,180000.0,180000.0,180000.0,180000.0,180000.0,180000.0,202500.0,202500.0,202500.0,112500.0,112500.0,112500.0,112500.0,112500.0,112500.0,112500.0,112500.0,112500.0,189000.0,189000.0,189000.0,189000.0,135000.0,135000.0,135000.0,135000.0,135000.0,175500.0,175500.0,175500.0,175500.0,62653.5,62653.5,62653.5,62653.5,121500.0,121500.0,225000.0,225000.0,225000.0,225000.0,225000.0,225000.0,225000.0,225000.0,225000.0,112500.0,112500.0,112500.0,90000.0,90000.0,90000.0,90000.0,90000.0,90000.0,90000.0,90000.0,225000.0,225000.0,225000.0,225000.0,225000.0,225000.0,225000.0,225000.0,225000.0,157500.0,157500.0,157500.0,157500.0,157500.0,157500.0,157500.0,135000.0,135000.0,252000.0,252000.0,252000.0,252000.0,252000.0,252000.0,252000.0,252000.0,252000.0,252000.0,252000.0,252000.0,279000.0,279000.0,279000.0,279000.0,279000.0,279000.0,279000.0,270000.0,270000.0,270000.0,270000.0,270000.0,270000.0,270000.0,270000.0,270000.0,270000.0,270000.0,67500.0,67500.0,67500.0,67500.0,67500.0,112500.0,157500.0,157500.0,157500.0,157500.0,135000.0,135000.0,135000.0,135000.0,135000.0,135000.0,135000.0,135000.0,135000.0,135000.0,193500.0,193500.0,193500.0,193500.0,193500.0,193500.0,193500.0,193500.0,193500.0,193500.0,193500.0,193500.0,193500.0,193500.0,135000.0,135000.0,135000.0,135000.0,135000.0,135000.0,135000.0,135000.0,135000.0,135000.0,135000.0,135000.0,135000.0,135000.0,135000.0,135000.0,135000.0,135000.0,135000.0,135000.0,225000.0,225000.0,225000.0,225000.0,157500.0,157500.0,157500.0,157500.0,157500.0,157500.0,157500.0,135000.0,135000.0,135000.0,135000.0,135000.0,113400.0,113400.0,113400.0,113400.0,112500.0,112500.0,112500.0,225000.0,225000.0,225000.0,225000.0,225000.0,225000.0,225000.0,225000.0,225000.0,225000.0,225000.0,225000.0,225000.0,112500.0,112500.0,112500.0,112500.0,112500.0,112500.0,112500.0,112500.0,112500.0,112500.0,112500.0,112500.0,180000.0,225000.0,225000.0,225000.0,225000.0,225000.0,112500.0,157500.0,157500.0,157500.0,157500.0,157500.0,157500.0,157500.0,112500.0,135000.0,189000.0,189000.0,112500.0,112500.0,112500.0,112500.0,54000.0,180000.0,180000.0,225000.0,225000.0,225000.0,225000.0,157500.0,157500.0,157500.0,171000.0,171000.0,171000.0,171000.0,171000.0,171000.0,292500.0,292500.0,292500.0,292500.0,292500.0,292500.0,292500.0,292500.0,292500.0,292500.0,292500.0,292500.0,292500.0,292500.0,292500.0,292500.0,81000.0,81000.0,81000.0,81000.0,81000.0,81000.0,81000.0,54000.0,54000.0,63000.0,63000.0,63000.0,63000.0,63000.0,63000.0,63000.0,63000.0,202500.0,202500.0,202500.0,202500.0,202500.0,202500.0,202500.0,202500.0,202500.0,270000.0,270000.0,270000.0,270000.0,135000.0,135000.0,135000.0,135000.0,270000.0,270000.0,135000.0,135000.0,135000.0,135000.0,135000.0,90000.0,90000.0,90000.0,90000.0,90000.0,90000.0,162000.0,162000.0,162000.0,225000.0,225000.0,225000.0,225000.0,225000.0,225000.0,135000.0,135000.0,135000.0,135000.0,135000.0,135000.0,135000.0,135000.0,135000.0,135000.0,135000.0,135000.0,135000.0,135000.0,135000.0,135000.0,135000.0,135000.0,180000.0,180000.0,180000.0,180000.0,180000.0,180000.0,180000.0,180000.0,216000.0,216000.0,216000.0,180000.0,180000.0,180000.0,180000.0,180000.0,180000.0,180000.0,180000.0,180000.0,139500.0,139500.0,139500.0,139500.0,139500.0,157500.0,157500.0,225000.0,225000.0,225000.0,225000.0,225000.0,67500.0,67500.0,67500.0,67500.0,67500.0,67500.0,225000.0,225000.0,315000.0,315000.0,315000.0,315000.0,315000.0,315000.0,315000.0,315000.0,157500.0,112500.0,112500.0,112500.0,112500.0,92250.0,92250.0,108000.0,135000.0,135000.0,135000.0,135000.0,112500.0,315000.0,315000.0,112500.0,112500.0,112500.0,112500.0,112500.0,112500.0,234000.0,180000.0,180000.0,180000.0,180000.0,67500.0,135000.0,135000.0,135000.0,135000.0,135000.0,135000.0,135000.0,135000.0,139500.0,139500.0,139500.0,310500.0,310500.0,310500.0,310500.0,310500.0,157500.0,157500.0,157500.0,157500.0,157500.0,157500.0,67500.0,67500.0,67500.0,157500.0,157500.0,157500.0,90000.0,90000.0,180000.0,180000.0,112500.0,112500.0,135000.0,135000.0,135000.0,135000.0,135000.0,360000.0,360000.0,202500.0,202500.0,202500.0,157500.0,157500.0,157500.0,166500.0,166500.0,166500.0,166500.0,166500.0,166500.0,135000.0,135000.0,135000.0,135000.0,135000.0,135000.0,135000.0,135000.0,135000.0,135000.0,135000.0,135000.0,135000.0,135000.0,144000.0,144000.0,144000.0,144000.0,144000.0,144000.0,144000.0,144000.0,144000.0,144000.0,112500.0,112500.0,112500.0,112500.0,112500.0,112500.0,112500.0,112500.0,112500.0,112500.0,112500.0,153000.0,153000.0,153000.0,153000.0,153000.0,153000.0,153000.0,135000.0,180000.0,180000.0,180000.0,180000.0,157500.0,157500.0,157500.0,315000.0,315000.0,315000.0,315000.0,315000.0,315000.0,315000.0,315000.0,315000.0,315000.0,315000.0,315000.0,315000.0,315000.0,315000.0,315000.0,315000.0,315000.0,157500.0,135000.0,135000.0,135000.0,144000.0,144000.0,90000.0,90000.0,90000.0,90000.0,360000.0,360000.0,360000.0,360000.0,189000.0,157500.0,157500.0,157500.0,202500.0,202500.0,202500.0,202500.0,202500.0,202500.0,45000.0,225000.0,225000.0,225000.0,225000.0,225000.0,135000.0,135000.0,135000.0,121500.0,121500.0,121500.0,121500.0,121500.0,121500.0,121500.0,270000.0,270000.0,270000.0,270000.0,270000.0,270000.0,270000.0,270000.0,270000.0,270000.0,270000.0,270000.0,180000.0,180000.0,180000.0,180000.0,180000.0,180000.0,180000.0,81000.0,81000.0,270000.0,270000.0,270000.0,270000.0,270000.0,94500.0,94500.0,94500.0,202500.0,202500.0,202500.0,202500.0,112500.0,112500.0,112500.0,225000.0,225000.0,225000.0,90000.0,90000.0,90000.0,351000.0,135000.0,270000.0,270000.0,270000.0,270000.0,202500.0,202500.0,202500.0,202500.0,202500.0,202500.0,202500.0,202500.0,202500.0,121500.0,121500.0,189000.0,189000.0,189000.0,189000.0,189000.0,189000.0,189000.0,189000.0,189000.0,283500.0,180000.0,180000.0,180000.0,180000.0,180000.0,202500.0,202500.0,202500.0,202500.0,202500.0,202500.0,103500.0,103500.0,103500.0,103500.0,103500.0,103500.0,103500.0,103500.0,103500.0,103500.0,180000.0,180000.0,180000.0,180000.0,112500.0,112500.0,112500.0,54000.0,180000.0,180000.0,180000.0,180000.0,180000.0,180000.0,180000.0,67500.0,67500.0,67500.0,67500.0,67500.0,67500.0,81000.0,81000.0,81000.0,81000.0,270000.0,270000.0,270000.0,270000.0,270000.0,270000.0,270000.0,180000.0,180000.0,180000.0,180000.0,180000.0,112500.0,90000.0,90000.0,90000.0,157500.0,157500.0,157500.0,157500.0,157500.0,67500.0,67500.0,67500.0,180000.0,225000.0,225000.0,225000.0,225000.0,225000.0,225000.0,225000.0,225000.0,202500.0,202500.0,270000.0,270000.0,270000.0,270000.0,270000.0,270000.0,270000.0,184500.0,135000.0,112500.0,112500.0,112500.0,112500.0,112500.0,112500.0,112500.0,112500.0,112500.0,112500.0,112500.0,112500.0,112500.0,112500.0,135000.0,135000.0,135000.0,135000.0,135000.0,135000.0,135000.0,135000.0,135000.0,135000.0,135000.0,225000.0,180000.0,180000.0,180000.0,180000.0,135000.0,135000.0,135000.0,135000.0,135000.0,360000.0,360000.0,360000.0,360000.0,360000.0,360000.0,202500.0,180000.0,180000.0,180000.0,180000.0,135000.0,135000.0,135000.0,135000.0,135000.0,103500.0,103500.0,360000.0,360000.0,360000.0,360000.0,360000.0,360000.0,360000.0,360000.0,360000.0,135000.0,270000.0,270000.0,270000.0,270000.0,270000.0,270000.0,202500.0,202500.0,202500.0,202500.0,202500.0,202500.0,144000.0,144000.0,144000.0,144000.0,144000.0,144000.0,144000.0,144000.0,144000.0,144000.0,135000.0,135000.0,135000.0,135000.0,135000.0,135000.0,135000.0,180000.0,180000.0,225000.0,112500.0,247500.0,247500.0,247500.0,247500.0,247500.0,247500.0,247500.0,247500.0,157500.0,157500.0,157500.0,157500.0,157500.0,157500.0,157500.0,157500.0,157500.0,157500.0,360000.0,135000.0,135000.0,135000.0,270000.0,270000.0,157500.0,157500.0,157500.0,157500.0,157500.0,202500.0,202500.0,112500.0,112500.0,112500.0,157500.0,157500.0,157500.0,157500.0,315000.0,225000.0,171000.0,103500.0,202500.0,202500.0,202500.0,202500.0,202500.0,157500.0,202500.0,202500.0,135000.0,135000.0,135000.0,157500.0,157500.0,157500.0,157500.0,216000.0,216000.0,216000.0,216000.0,216000.0,216000.0,99000.0,99000.0,215550.0,215550.0,135000.0,135000.0,135000.0,270000.0,270000.0,270000.0,270000.0,270000.0,270000.0,270000.0,85500.0,360000.0,157500.0,157500.0,135000.0,135000.0,135000.0,94500.0,94500.0,225000.0,225000.0,225000.0,265500.0,265500.0,265500.0,265500.0,202500.0,202500.0,202500.0,225000.0,225000.0,270000.0,270000.0,270000.0,270000.0,270000.0,270000.0,135000.0,180000.0,180000.0,180000.0,180000.0,157500.0,211500.0,112500.0,148500.0,148500.0,247500.0,247500.0,189000.0,112500.0,112500.0,135000.0,270000.0,270000.0,135000.0,135000.0,135000.0,135000.0,135000.0,135000.0,135000.0,135000.0,135000.0,135000.0,315000.0,315000.0,112500.0,202500.0,202500.0,135000.0,207000.0,207000.0,207000.0,157500.0,157500.0,157500.0,180000.0,180000.0,180000.0,180000.0,180000.0,157500.0,135000.0,135000.0,225000.0,270000.0,270000.0,144000.0,144000.0,144000.0,144000.0,144000.0,90000.0,90000.0,90000.0,90000.0,90000.0,90000.0,90000.0,180000.0,180000.0,180000.0,157500.0,157500.0,270000.0,270000.0,202500.0,202500.0,202500.0,202500.0,157500.0,247500.0,247500.0,247500.0,247500.0,274500.0,274500.0,135000.0,135000.0,135000.0,90000.0,157500.0,157500.0,180000.0,225000.0,225000.0,225000.0,67500.0,202500.0,202500.0,202500.0,112500.0,112500.0,135000.0,180000.0,180000.0,180000.0,180000.0,157500.0,216000.0,135000.0,135000.0,135000.0,135000.0,270000.0,270000.0,270000.0,315000.0,225000.0,225000.0,225000.0,225000.0,225000.0,112500.0,157500.0,130500.0,202500.0,202500.0,202500.0,202500.0,202500.0,202500.0,202500.0,202500.0,202500.0,157500.0,112500.0,112500.0,112500.0,90000.0,225000.0,225000.0,225000.0,225000.0,225000.0,189000.0,189000.0,189000.0,189000.0,189000.0,225000.0,225000.0,157500.0,157500.0,157500.0,157500.0,90000.0,90000.0,189000.0,189000.0,189000.0,189000.0,90000.0,292500.0,292500.0,292500.0,157500.0,157500.0,157500.0,157500.0,157500.0,315000.0,315000.0,315000.0,315000.0,315000.0,67500.0,67500.0,44550.0,135000.0,135000.0,135000.0,76500.0,76500.0,76500.0,103500.0,112500.0,112500.0,72000.0,81000.0,157500.0,157500.0,157500.0,157500.0,157500.0,157500.0,157500.0,67500.0,67500.0,67500.0,135000.0,135000.0,121500.0,121500.0,121500.0,121500.0,121500.0,121500.0,121500.0,121500.0,121500.0,121500.0,121500.0,157500.0,157500.0,157500.0,157500.0,157500.0,157500.0,292500.0,292500.0,292500.0,292500.0,292500.0,45000.0,45000.0,225000.0,225000.0,225000.0,225000.0,225000.0,180000.0,180000.0,180000.0,180000.0,157500.0,157500.0,225000.0,225000.0,225000.0,315000.0,315000.0,315000.0,135000.0,135000.0,135000.0,135000.0,135000.0,360000.0,135000.0,135000.0,135000.0,135000.0,135000.0,180000.0,180000.0,166500.0,81000.0,112500.0,112500.0,112500.0,112500.0,112500.0,112500.0,225000.0,225000.0,225000.0,157500.0,157500.0,157500.0,157500.0,157500.0,144000.0,144000.0,144000.0,144000.0,144000.0,247500.0,247500.0,247500.0,247500.0,135000.0,135000.0,135000.0,135000.0,180000.0,180000.0,180000.0,180000.0,180000.0,216000.0,216000.0,216000.0,315000.0,315000.0,315000.0,315000.0,315000.0,315000.0,315000.0,76500.0,76500.0,360000.0,360000.0,85500.0,85500.0,247500.0,247500.0,139500.0,139500.0,139500.0,139500.0,139500.0,139500.0,157500.0,157500.0,157500.0,40500.0,40500.0,40500.0,40500.0,315000.0,90000.0,90000.0,90000.0,90000.0,90000.0,90000.0,90000.0,135000.0,324000.0,324000.0,324000.0,324000.0,324000.0,324000.0,81000.0,81000.0,81000.0,81000.0,81000.0,81000.0,81000.0,180000.0,180000.0,180000.0,180000.0,180000.0,180000.0,180000.0,247500.0,247500.0,247500.0,229500.0,229500.0,108000.0,161100.0,161100.0,216000.0,216000.0,216000.0,216000.0,216000.0,216000.0,216000.0,112500.0,112500.0,112500.0,90000.0,90000.0,90000.0,180000.0,180000.0,180000.0,225000.0,126000.0,126000.0,63000.0,63000.0,63000.0,225000.0,225000.0,180000.0,180000.0,157500.0,157500.0,157500.0,157500.0,157500.0,180000.0,180000.0,144000.0,144000.0,144000.0,144000.0,144000.0,360000.0,360000.0,360000.0,360000.0,360000.0,360000.0,360000.0,360000.0,157500.0,157500.0,157500.0,157500.0,157500.0,382500.0,382500.0,382500.0,112500.0,112500.0,135000.0,157500.0,157500.0,54000.0,54000.0,54000.0,270000.0,270000.0,270000.0,270000.0,270000.0,270000.0,270000.0,270000.0,270000.0,85500.0,85500.0,85500.0,85500.0,85500.0,85500.0,225000.0,157500.0,180000.0,180000.0,180000.0,180000.0,180000.0,180000.0,180000.0,180000.0,180000.0,180000.0,135000.0,135000.0,135000.0,90000.0,90000.0,90000.0,90000.0,90000.0,90000.0,90000.0,90000.0,90000.0,90000.0,90000.0,90000.0,90000.0,135000.0,119250.0,119250.0,119250.0,119250.0,119250.0,119250.0,119250.0,119250.0,119250.0,119250.0,180000.0,180000.0,180000.0,180000.0,225000.0,225000.0,225000.0,225000.0,202500.0,157500.0,225000.0,247500.0,247500.0,247500.0,135000.0,135000.0,270000.0,292500.0,292500.0,292500.0,225000.0,112500.0,112500.0,189000.0,189000.0,270000.0,72000.0,144000.0,144000.0,144000.0,171000.0,171000.0,171000.0,171000.0,171000.0,171000.0,148500.0,225000.0,180000.0,180000.0,180000.0,180000.0,180000.0,180000.0,202500.0,202500.0,202500.0,202500.0,121500.0,121500.0,180000.0,180000.0,180000.0,225000.0,180000.0,180000.0,180000.0,180000.0,180000.0,180000.0,180000.0,180000.0,180000.0,180000.0,112500.0,112500.0,112500.0,247500.0,247500.0,247500.0,247500.0,225000.0,225000.0,225000.0,225000.0,67500.0,67500.0,157500.0,157500.0,157500.0,157500.0,157500.0,157500.0,122400.0,122400.0,122400.0,122400.0,122400.0,122400.0,122400.0,122400.0,122400.0,112500.0,112500.0,112500.0,112500.0,112500.0,180000.0,180000.0,180000.0,103500.0,103500.0,202500.0,202500.0,202500.0,202500.0,166500.0,166500.0,166500.0,360000.0,360000.0,360000.0,360000.0,360000.0,360000.0,360000.0,270000.0,270000.0,270000.0,270000.0,270000.0,270000.0,270000.0,270000.0,270000.0,135000.0,135000.0,135000.0,135000.0,135000.0,135000.0,135000.0,135000.0,135000.0,135000.0,135000.0,90000.0,90000.0,90000.0,90000.0,90000.0,90000.0,90000.0,90000.0,90000.0,60376.5,60376.5,60376.5,67500.0,103500.0,103500.0,144000.0,144000.0,144000.0,144000.0,144000.0,144000.0,112500.0,112500.0,225000.0,225000.0,315000.0,315000.0,315000.0,315000.0,315000.0,180000.0,180000.0,202500.0,202500.0,202500.0,202500.0,202500.0,202500.0,202500.0,180000.0,180000.0,180000.0,180000.0,180000.0,180000.0,180000.0,90000.0,202500.0,202500.0,112500.0,112500.0,112500.0,112500.0,99000.0,180000.0,180000.0,180000.0,180000.0,180000.0,315000.0,315000.0,315000.0,315000.0,315000.0,315000.0,315000.0,315000.0,315000.0,315000.0,315000.0,315000.0,315000.0,315000.0,315000.0,315000.0,157500.0,254700.0,254700.0,254700.0,254700.0,157500.0,157500.0,157500.0,157500.0,157500.0,157500.0,157500.0,157500.0,157500.0,157500.0,157500.0,225000.0,225000.0,144000.0,144000.0,144000.0,144000.0,144000.0,193500.0,193500.0,193500.0,193500.0,112500.0,112500.0,112500.0,112500.0,112500.0,112500.0,112500.0,112500.0,112500.0,112500.0,112500.0,112500.0,112500.0,135000.0,135000.0,135000.0,135000.0,135000.0,90000.0,121500.0,121500.0,121500.0,121500.0,247500.0,247500.0,247500.0,247500.0,247500.0,247500.0,247500.0,247500.0,247500.0,247500.0,274500.0,360000.0,360000.0,360000.0,360000.0,360000.0,180000.0,180000.0,180000.0,112500.0,126000.0,126000.0,126000.0,126000.0,112500.0,112500.0,112500.0,112500.0,112500.0,112500.0,112500.0,180000.0,180000.0,225000.0,225000.0,225000.0,225000.0,225000.0,157500.0,90000.0,90000.0,90000.0,180000.0,180000.0,180000.0,180000.0,180000.0,180000.0,175500.0,175500.0,175500.0,175500.0,279000.0,279000.0,135000.0,135000.0,90000.0,225000.0,202500.0,202500.0,202500.0,157500.0,157500.0,157500.0,157500.0,180000.0,180000.0,180000.0,270000.0,270000.0,270000.0,270000.0,270000.0,67500.0,247500.0,247500.0,247500.0,247500.0,247500.0,247500.0,247500.0,135000.0,135000.0,135000.0,135000.0,207000.0,207000.0,139500.0,112500.0,112500.0,112500.0,270000.0,270000.0,225000.0,225000.0,225000.0,67500.0,67500.0,67500.0,67500.0,67500.0,67500.0,67500.0,67500.0,126000.0,126000.0,81000.0,157500.0,157500.0,157500.0,171000.0,171000.0,112500.0,112500.0,112500.0,225000.0,157500.0,157500.0,157500.0,157500.0,157500.0,225000.0,225000.0,171000.0,90000.0,110250.0,110250.0,110250.0,110250.0,110250.0,110250.0,110250.0,175500.0,112500.0,112500.0,337500.0,157500.0,157500.0,157500.0,157500.0,157500.0,337500.0,337500.0,337500.0,337500.0,135000.0,135000.0,135000.0,135000.0,135000.0,135000.0,135000.0,135000.0,135000.0,135000.0,315000.0,315000.0,315000.0,202500.0,202500.0,202500.0,202500.0,202500.0,202500.0,202500.0,202500.0,202500.0,112500.0,225000.0,225000.0,225000.0,225000.0,225000.0,225000.0,225000.0,225000.0,121500.0,121500.0,121500.0,121500.0,121500.0,135000.0,135000.0,135000.0,139500.0,157500.0,157500.0,157500.0,157500.0,180000.0,180000.0,180000.0,180000.0,180000.0,180000.0,315000.0,315000.0,315000.0,315000.0,315000.0,315000.0,315000.0,180000.0,180000.0,180000.0,90000.0,90000.0,112500.0,193500.0,193500.0,180000.0,144000.0,144000.0,144000.0,144000.0,144000.0,144000.0,144000.0,144000.0,315000.0,315000.0,315000.0,315000.0,315000.0,315000.0,315000.0,315000.0,315000.0,315000.0,315000.0,315000.0,315000.0,292500.0,292500.0,292500.0,292500.0,292500.0,292500.0,292500.0,292500.0,292500.0,292500.0,270000.0,270000.0,270000.0,270000.0,270000.0,270000.0,270000.0,270000.0,270000.0,135000.0,135000.0,135000.0,135000.0,135000.0,135000.0,135000.0,135000.0,135000.0,112500.0,112500.0,112500.0,112500.0,144000.0,144000.0,144000.0,144000.0,144000.0,144000.0,144000.0,144000.0,144000.0,144000.0,144000.0,144000.0,144000.0,157500.0,157500.0,360000.0,360000.0,360000.0,360000.0,360000.0,360000.0,360000.0,360000.0,360000.0,360000.0,360000.0,108000.0,108000.0,108000.0,108000.0,108000.0,108000.0,108000.0,108000.0,153000.0,153000.0,153000.0,135000.0,315000.0,315000.0,315000.0,315000.0,76500.0,76500.0,76500.0,135000.0,135000.0,135000.0,135000.0,135000.0,135000.0,135000.0,157500.0,157500.0,157500.0,135000.0,135000.0,135000.0,135000.0,135000.0,135000.0,112500.0,112500.0,112500.0,247500.0,247500.0,247500.0,180000.0,180000.0,180000.0,180000.0,180000.0,99000.0,99000.0,99000.0,99000.0,99000.0,99000.0,99000.0,157500.0,81000.0,220500.0,220500.0,220500.0,234000.0,234000.0,234000.0,234000.0,234000.0,234000.0,157500.0,180000.0,180000.0,180000.0,180000.0,180000.0,180000.0,157500.0,157500.0,157500.0,157500.0,157500.0,157500.0,157500.0,180000.0,180000.0,247500.0,247500.0,247500.0,247500.0,202500.0,310500.0,310500.0,310500.0,112500.0,112500.0,112500.0,56250.0,351000.0,135000.0,270000.0,270000.0,173250.0,173250.0,173250.0,180000.0,180000.0,166500.0,166500.0,166500.0,166500.0,166500.0,166500.0,166500.0,166500.0,144000.0,112500.0,112500.0,225000.0,247500.0,247500.0,247500.0,247500.0,247500.0,112500.0,225000.0,225000.0,90000.0,90000.0,90000.0,157500.0,157500.0,112500.0,112500.0,112500.0,292500.0,121500.0,121500.0,135000.0,135000.0,135000.0,135000.0,135000.0,198000.0,198000.0,198000.0,198000.0,189000.0,189000.0,189000.0,189000.0,171000.0,171000.0,171000.0,135000.0,135000.0,135000.0,135000.0,135000.0,112500.0,112500.0,112500.0,112500.0,157500.0,157500.0,135000.0,135000.0,135000.0,135000.0,180000.0,270000.0,270000.0,270000.0,135000.0,135000.0,180000.0,180000.0,180000.0,202500.0,202500.0,202500.0,126000.0,126000.0,126000.0,90000.0,270000.0,270000.0,270000.0,270000.0,202500.0,202500.0,202500.0,202500.0,225000.0,126000.0,126000.0,157500.0,157500.0,157500.0,135000.0,135000.0,135000.0,157500.0,157500.0,157500.0,157500.0,360000.0,360000.0,360000.0,360000.0,157500.0,202500.0,202500.0,112500.0,157500.0,157500.0,135000.0,135000.0,135000.0,135000.0,135000.0,90000.0,90000.0,90000.0,90000.0,108000.0,108000.0,108000.0,229500.0,229500.0,229500.0,229500.0,229500.0,229500.0,180000.0,180000.0,315000.0,315000.0,315000.0,315000.0,315000.0,135000.0,135000.0,135000.0,135000.0,135000.0,135000.0,135000.0,135000.0,135000.0,135000.0,135000.0,135000.0,135000.0,135000.0,135000.0,135000.0,135000.0,135000.0,135000.0,135000.0,135000.0,157500.0,337500.0,337500.0,337500.0,337500.0,337500.0,117000.0,117000.0,117000.0,117000.0,180000.0,180000.0,180000.0,202500.0,135000.0,225000.0,216000.0,216000.0,216000.0,216000.0,216000.0,67500.0,67500.0,121500.0,121500.0,157500.0,157500.0,157500.0,157500.0,157500.0,157500.0,157500.0,157500.0,157500.0,225000.0,225000.0,90000.0,360000.0,360000.0,360000.0,135000.0,135000.0,135000.0,270000.0,216000.0,216000.0,216000.0,216000.0,216000.0,216000.0,216000.0,216000.0,337500.0,337500.0,337500.0,135000.0,135000.0,135000.0,135000.0,360000.0,360000.0,360000.0,360000.0,360000.0,360000.0,360000.0,247500.0,247500.0,247500.0,198000.0,198000.0,198000.0,198000.0,198000.0,148500.0,148500.0,148500.0,148500.0,148500.0,148500.0,148500.0,148500.0,270000.0,270000.0,270000.0,90000.0,90000.0,90000.0,90000.0,90000.0,157500.0,157500.0,135000.0,135000.0,180000.0,180000.0,180000.0,180000.0,180000.0,180000.0,117000.0,117000.0,117000.0,202500.0,202500.0,202500.0,202500.0,202500.0,202500.0,157500.0,157500.0,135000.0,135000.0,135000.0,135000.0,135000.0,135000.0,369000.0,135000.0,135000.0,135000.0,135000.0,202500.0,202500.0,180000.0,180000.0,180000.0,193500.0,193500.0,193500.0,121500.0,112500.0,112500.0,112500.0,112500.0,112500.0,112500.0,315000.0,315000.0,315000.0,315000.0,315000.0,157500.0,157500.0,157500.0,225000.0,225000.0,135000.0,135000.0,135000.0,99000.0,99000.0,99000.0,157500.0,157500.0,157500.0,180000.0,135000.0,135000.0,135000.0,162000.0,337500.0,337500.0,337500.0,108000.0,112500.0,112500.0,112500.0,112500.0,202500.0,225000.0,225000.0,225000.0,225000.0,225000.0,126000.0,126000.0,225000.0,157500.0,157500.0,157500.0,157500.0,144000.0,112500.0,112500.0,112500.0,112500.0,112500.0,112500.0,112500.0,90000.0,90000.0,270000.0,270000.0,270000.0,270000.0,270000.0,270000.0,225000.0,157500.0,157500.0,135000.0,180000.0,180000.0,270000.0,270000.0,202500.0,202500.0,292500.0,292500.0,292500.0,153000.0,153000.0,153000.0,153000.0,112500.0,112500.0,112500.0,180000.0,180000.0,180000.0,180000.0,180000.0,279000.0,279000.0,279000.0,279000.0,225000.0,202500.0,337500.0,337500.0,337500.0,337500.0,337500.0,157500.0,157500.0,202500.0,202500.0,202500.0,202500.0,202500.0,202500.0,202500.0,202500.0,202500.0,157500.0,157500.0,157500.0,157500.0,157500.0,157500.0,157500.0,180000.0,180000.0,270000.0,270000.0,270000.0,270000.0,270000.0,270000.0,270000.0,225000.0,225000.0,225000.0,225000.0,225000.0,225000.0,225000.0,225000.0,225000.0,225000.0,225000.0,225000.0,225000.0,225000.0,202500.0,157500.0,157500.0,157500.0,157500.0,157500.0,202500.0,202500.0,202500.0,202500.0,225000.0,270000.0,270000.0,270000.0,135000.0,135000.0,135000.0,135000.0,135000.0,135000.0,135000.0,180000.0,180000.0,180000.0,180000.0,103500.0,103500.0,81000.0,81000.0,180000.0,247500.0,135000.0,135000.0,135000.0,135000.0,135000.0,135000.0,135000.0,135000.0,135000.0,135000.0,216000.0,216000.0,216000.0,216000.0,216000.0,216000.0,216000.0,216000.0,135000.0,135000.0,135000.0,193500.0,157500.0,90000.0,90000.0,90000.0,225000.0,225000.0,185400.0,185400.0,185400.0,135000.0,225000.0,225000.0,225000.0,238500.0,238500.0,238500.0,135000.0,135000.0,135000.0,135000.0,256500.0,256500.0,256500.0,247500.0,247500.0,247500.0,247500.0,67500.0,67500.0,67500.0,202500.0,225000.0,135000.0,135000.0,261000.0,180000.0,180000.0,180000.0,180000.0,180000.0,112500.0,112500.0,67500.0,67500.0,67500.0,157500.0,135000.0,135000.0,81000.0,315000.0,315000.0,315000.0,315000.0,225000.0,225000.0,270000.0,270000.0,180000.0,180000.0,225000.0,225000.0,225000.0,225000.0,157500.0,112500.0,112500.0,270000.0,157500.0,157500.0,157500.0,225000.0,225000.0,247500.0,247500.0,247500.0,247500.0,247500.0,247500.0,247500.0,247500.0,247500.0,225000.0,225000.0,225000.0,211500.0,211500.0,126000.0,337500.0,337500.0,337500.0,337500.0,337500.0,337500.0,337500.0,112500.0,112500.0,112500.0,112500.0,112500.0,270000.0,270000.0,270000.0,270000.0,270000.0,157500.0,157500.0,157500.0,157500.0,157500.0,157500.0,225000.0,225000.0,225000.0,225000.0,225000.0,225000.0,225000.0,157500.0,157500.0,202500.0,202500.0,202500.0,202500.0,202500.0,202500.0,202500.0,202500.0,202500.0,135000.0,135000.0,135000.0,76500.0,76500.0,76500.0,76500.0,270000.0,202500.0,202500.0,202500.0,135000.0,135000.0,315000.0,315000.0,315000.0,315000.0,166500.0,166500.0,166500.0,166500.0,112500.0,112500.0,225000.0,225000.0,225000.0,225000.0,157500.0,157500.0,157500.0,157500.0,157500.0,157500.0,157500.0,157500.0,180000.0,180000.0,225000.0,225000.0,225000.0,112500.0,112500.0,112500.0,135000.0,135000.0,135000.0,270000.0,270000.0,270000.0,162000.0,162000.0,202500.0,135000.0,90000.0,225000.0,135000.0,180000.0,180000.0,157500.0,157500.0,247500.0,247500.0,247500.0,247500.0,135000.0,135000.0,112500.0,112500.0,112500.0,180000.0,157500.0,112500.0,108000.0,225000.0,225000.0,180000.0,180000.0,180000.0,112500.0,112500.0,292500.0,292500.0,292500.0,157500.0,157500.0,274500.0,274500.0,274500.0,274500.0,274500.0,306000.0,306000.0,306000.0,306000.0,135000.0,315000.0,315000.0,315000.0,315000.0,315000.0,225000.0,225000.0,63000.0,63000.0,63000.0,63000.0,63000.0,135000.0,135000.0,225000.0,225000.0,225000.0,135000.0,135000.0,135000.0,135000.0,135000.0,135000.0,135000.0,135000.0,31950.0,99000.0,99000.0,360000.0,360000.0,360000.0,121500.0,121500.0,121500.0,121500.0,135000.0,135000.0,135000.0,225000.0,121500.0,121500.0,121500.0,121500.0,121500.0,148500.0,148500.0,148500.0,148500.0,99000.0,99000.0,99000.0,180000.0,180000.0,180000.0,180000.0,202500.0,202500.0,135000.0,202500.0,58500.0,58500.0,90000.0,157500.0,126000.0,126000.0,126000.0,126000.0,270000.0,180000.0,180000.0,180000.0,180000.0,112500.0,135000.0,157500.0,144000.0,144000.0,180000.0,180000.0,112500.0,112500.0,112500.0,112500.0,112500.0,157500.0,157500.0,157500.0,157500.0,157500.0,157500.0,157500.0,157500.0,157500.0,157500.0,157500.0,180000.0,247500.0,247500.0,247500.0,247500.0,247500.0,247500.0,292500.0,292500.0,129150.0,129150.0,129150.0,129150.0,112500.0,165600.0,165600.0,165600.0,202500.0,225000.0,225000.0,270000.0,270000.0,112500.0,112500.0,112500.0,135000.0,135000.0,135000.0,135000.0,135000.0,135000.0,135000.0,135000.0,135000.0,103500.0,103500.0,90000.0,67500.0,180000.0,270000.0,67500.0,67500.0,135000.0,337500.0,135000.0,121500.0,121500.0,121500.0,121500.0,121500.0,121500.0,225000.0,225000.0,216000.0,216000.0,216000.0,180000.0,135000.0,162000.0,162000.0,162000.0,112500.0,112500.0,112500.0,112500.0,112500.0,103500.0,103500.0,90000.0,202500.0,202500.0,202500.0,225000.0,225000.0,225000.0,202500.0,202500.0,202500.0,202500.0,202500.0,202500.0,225000.0,166500.0,270000.0,270000.0,99000.0,135000.0,99000.0,67500.0,67500.0,67500.0,67500.0,225000.0,225000.0,234000.0,67500.0,67500.0,202500.0,202500.0,202500.0,67500.0,67500.0,270000.0,270000.0,270000.0,270000.0,270000.0,135000.0,135000.0,112500.0,112500.0,112500.0,112500.0,112500.0,112500.0,112500.0,112500.0,112500.0,112500.0,67500.0,225000.0,315000.0,315000.0,202500.0,157500.0,157500.0,157500.0,157500.0,90000.0,90000.0,157500.0,99000.0,99000.0,99000.0,99000.0,135000.0,157500.0,202500.0,270000.0,121500.0,112500.0,112500.0,112500.0,315000.0,315000.0,315000.0,180000.0,180000.0,180000.0,225000.0,211500.0,211500.0,211500.0,162000.0,162000.0,135000.0,315000.0,315000.0,225000.0,225000.0,225000.0,225000.0,225000.0,225000.0,225000.0,225000.0,202500.0,90000.0,180000.0,180000.0,202500.0,216000.0,117000.0,117000.0,117000.0,243000.0,225000.0,202500.0,202500.0,202500.0,202500.0,202500.0,202500.0,202500.0,144000.0,144000.0,144000.0,144000.0,45000.0,90000.0,90000.0,90000.0,90000.0,126000.0,135000.0,135000.0,135000.0,135000.0,135000.0,135000.0,270000.0,270000.0,202500.0,202500.0,180000.0,180000.0,180000.0,180000.0,180000.0,180000.0,103500.0,103500.0,103500.0,337500.0,135000.0,135000.0,135000.0,135000.0,171000.0,171000.0,121500.0,121500.0,121500.0,90000.0,90000.0,126000.0,157500.0,135000.0,135000.0,135000.0,135000.0,225000.0,162000.0,162000.0,162000.0,162000.0,54000.0,157500.0,157500.0,157500.0,270000.0,270000.0,270000.0,270000.0,270000.0,202500.0,202500.0,202500.0,202500.0,202500.0,112500.0,112500.0,112500.0,90000.0,90000.0,90000.0,315000.0,315000.0,157500.0,157500.0,157500.0,157500.0,157500.0,126000.0,315000.0,315000.0,315000.0,315000.0,135000.0,351000.0,351000.0,351000.0,225000.0,225000.0,135000.0,135000.0,139500.0,135000.0,112500.0,112500.0,112500.0,112500.0,130500.0,157500.0,157500.0,157500.0,157500.0,157500.0,121500.0,135000.0,135000.0,135000.0,135000.0,135000.0,135000.0,135000.0,135000.0,135000.0,315000.0,315000.0,315000.0,315000.0,135000.0,315000.0,189000.0,189000.0,189000.0,112500.0,112500.0,112500.0,112500.0,112500.0,360000.0,225000.0,243000.0,243000.0,225000.0,225000.0,225000.0,225000.0,225000.0,225000.0,225000.0,225000.0,135000.0,112500.0,112500.0,112500.0,261000.0,261000.0,261000.0,90000.0,225000.0,225000.0,225000.0,225000.0,225000.0,180000.0,180000.0,180000.0,126000.0,126000.0,247500.0,306000.0,306000.0,306000.0,67500.0,67500.0,90000.0,90000.0,225000.0,225000.0,225000.0,225000.0,225000.0,225000.0,157500.0,157500.0,157500.0,157500.0,157500.0,112500.0,90000.0,90000.0,112500.0,112500.0,112500.0,112500.0,202500.0,202500.0,202500.0,202500.0,135000.0,135000.0,135000.0,135000.0,135000.0,202500.0,225000.0,157500.0,135000.0,180000.0,81000.0,81000.0,81000.0,126000.0,126000.0,126000.0,126000.0,126000.0,225000.0,135000.0,135000.0,157500.0,180000.0,144000.0,99000.0,99000.0,135000.0,225000.0,225000.0,90000.0,90000.0,76500.0,157500.0,225000.0,72000.0,72000.0,67500.0,67500.0,67500.0,67500.0,135000.0,135000.0,148500.0,148500.0,202500.0,202500.0,112500.0,112500.0,234000.0,234000.0,90000.0,72000.0,135000.0,135000.0,202500.0,360000.0,270000.0,180000.0,270000.0,135000.0,90000.0,90000.0,67500.0,112500.0,112500.0,153000.0,153000.0,153000.0,153000.0,112500.0,112500.0,112500.0,112500.0,135000.0,135000.0,225000.0,225000.0,225000.0,202500.0,180000.0,180000.0,180000.0,270000.0,67500.0,67500.0,225000.0,225000.0,225000.0,225000.0,207000.0,117000.0,270000.0,85500.0,112500.0,90000.0,90000.0,90000.0,90000.0,90000.0,225000.0,157500.0,225000.0,67500.0,180000.0,189000.0,189000.0,72000.0,72000.0,72000.0,103500.0,225000.0,58500.0,90000.0,63000.0,63000.0,63000.0,63000.0,63000.0,63000.0,180000.0,180000.0,256500.0,225000.0,184500.0,56250.0,56250.0,90000.0,90000.0,90000.0,112500.0,135000.0,135000.0,225000.0,135000.0,112500.0,126000.0,202500.0,292500.0,292500.0,171000.0,171000.0,171000.0,112500.0,112500.0,270000.0,270000.0,270000.0,270000.0,270000.0,270000.0,166500.0,166500.0,166500.0,292500.0,292500.0,292500.0,292500.0,292500.0,171000.0,171000.0,171000.0,171000.0,171000.0,171000.0,117000.0,117000.0,117000.0,117000.0,117000.0,117000.0,117000.0,112500.0,112500.0,157500.0,157500.0,157500.0,180000.0,360000.0,292500.0,292500.0,112500.0,112500.0,360000.0,360000.0,360000.0,360000.0,360000.0,360000.0,157500.0,157500.0,157500.0,67500.0,67500.0,135000.0,31500.0,31500.0,31500.0,31500.0,202500.0,171000.0,171000.0,171000.0,171000.0,171000.0,171000.0,171000.0,171000.0,171000.0,171000.0,171000.0,171000.0,99000.0,99000.0,99000.0,99000.0,202500.0,202500.0,202500.0,135000.0,135000.0,382500.0,382500.0,382500.0,171000.0,171000.0,117000.0,117000.0,225000.0,225000.0,225000.0,225000.0,225000.0,225000.0,225000.0,225000.0,225000.0,157500.0,157500.0,157500.0,157500.0,157500.0,157500.0,157500.0,225000.0,225000.0,225000.0,121500.0,121500.0,121500.0,121500.0,121500.0,135000.0,135000.0,135000.0,135000.0,135000.0,135000.0,135000.0,135000.0,180000.0,180000.0,180000.0,54000.0,103500.0,112500.0,112500.0,112500.0,112500.0,112500.0,90000.0,162000.0,162000.0,162000.0,162000.0,90000.0,90000.0,90000.0,90000.0,202500.0,202500.0,202500.0,202500.0,202500.0,202500.0,202500.0,202500.0,292500.0,292500.0,292500.0,112500.0,112500.0,225000.0,225000.0,148500.0,148500.0,90000.0,184500.0,184500.0,184500.0,184500.0,184500.0,184500.0,184500.0,184500.0,81000.0,135000.0,135000.0,135000.0,135000.0,135000.0,135000.0,94500.0,94500.0,94500.0,94500.0,135000.0,135000.0,135000.0,135000.0,189000.0,189000.0,189000.0,189000.0,171000.0,171000.0,171000.0,112500.0,112500.0,112500.0,180000.0,270000.0,270000.0,270000.0,270000.0,270000.0,270000.0,270000.0,225000.0,225000.0,225000.0,72000.0,72000.0,72000.0,72000.0,72000.0,72000.0,72000.0,72000.0,72000.0,72000.0,72000.0,72000.0,315000.0,315000.0,315000.0,315000.0,315000.0,108000.0,108000.0,67500.0,67500.0,67500.0,67500.0,67500.0,67500.0,67500.0,67500.0,67500.0,67500.0,193500.0,193500.0,54000.0,54000.0,54000.0,135000.0,135000.0,135000.0,135000.0,135000.0,72000.0,72000.0,247500.0,247500.0,247500.0,247500.0,112500.0,112500.0,112500.0,121500.0,121500.0,121500.0,121500.0,121500.0,121500.0,121500.0,121500.0,121500.0,121500.0,180000.0,202500.0,202500.0,202500.0,202500.0,202500.0,202500.0,90000.0,90000.0,90000.0,90000.0,126000.0,126000.0,112500.0,112500.0,112500.0,94500.0,94500.0,94500.0,94500.0,94500.0,94500.0,94500.0,112500.0,112500.0,171000.0,67500.0,157500.0,157500.0,103500.0,103500.0,103500.0,103500.0,67500.0,67500.0,67500.0,67500.0,67500.0,180000.0,180000.0,180000.0,180000.0,112500.0,36000.0,315000.0,315000.0,315000.0,180000.0,112500.0,112500.0,112500.0,225000.0,225000.0,225000.0,225000.0,126000.0,315000.0,315000.0,315000.0,315000.0,315000.0,315000.0,315000.0,315000.0,180000.0,180000.0,180000.0,180000.0,180000.0,180000.0,135000.0,135000.0,135000.0,135000.0,135000.0,157500.0,157500.0,157500.0,157500.0,157500.0,202500.0,202500.0,202500.0,202500.0,202500.0,202500.0,202500.0,202500.0,202500.0,112500.0,112500.0,112500.0,157500.0,157500.0,315000.0,112500.0,112500.0,112500.0,112500.0,112500.0,112500.0,112500.0,247500.0,247500.0,247500.0,247500.0,247500.0,247500.0,247500.0,315000.0,315000.0,315000.0,315000.0,315000.0,315000.0,315000.0,315000.0,315000.0,157500.0,157500.0,157500.0,157500.0,157500.0,306000.0,99000.0,99000.0,99000.0,99000.0,99000.0,99000.0,99000.0,99000.0,99000.0,99000.0,99000.0,99000.0,157500.0,180000.0,90000.0,90000.0,90000.0,90000.0,261000.0,261000.0,261000.0,144000.0,90000.0,90000.0,67500.0,67500.0,67500.0,135000.0,157500.0,157500.0,130500.0,130500.0,130500.0,144000.0,144000.0,144000.0,144000.0,144000.0,144000.0,144000.0,144000.0,144000.0,315000.0,234000.0,94500.0,94500.0,135000.0,135000.0,135000.0,135000.0,135000.0,99000.0,99000.0,99000.0,99000.0,99000.0,99000.0,99000.0,58500.0,58500.0,58500.0,58500.0,58500.0,180000.0,180000.0,225000.0,225000.0,225000.0,225000.0,225000.0,225000.0,225000.0,225000.0,225000.0,225000.0,247500.0,247500.0,247500.0,247500.0,247500.0,247500.0,247500.0,247500.0,247500.0,112500.0,126000.0,126000.0,126000.0,126000.0,126000.0,126000.0,126000.0,126000.0,126000.0,126000.0,126000.0,126000.0,202500.0,202500.0,202500.0,202500.0,270000.0,157500.0,157500.0,225000.0,225000.0,225000.0,225000.0,225000.0,225000.0,225000.0,225000.0,225000.0,225000.0,225000.0,225000.0,225000.0,225000.0,225000.0,225000.0,225000.0,225000.0,225000.0,225000.0,225000.0,202500.0,202500.0,108000.0,76500.0,76500.0,76500.0,180000.0,180000.0,180000.0,180000.0,144000.0,144000.0,144000.0,144000.0,157500.0,67500.0,67500.0,67500.0,67500.0,67500.0,67500.0,47790.0,225000.0,225000.0,225000.0,225000.0,225000.0,225000.0,225000.0,144000.0,144000.0,144000.0,144000.0,144000.0,144000.0,144000.0,144000.0,144000.0,99000.0,180000.0,157500.0,157500.0,157500.0,360000.0,360000.0,360000.0,360000.0,360000.0,202500.0,126000.0,126000.0,126000.0,126000.0,126000.0,126000.0,135000.0,135000.0,135000.0,135000.0,135000.0,135000.0,135000.0,90000.0,90000.0,180000.0,180000.0,180000.0,180000.0,180000.0,180000.0,180000.0,180000.0,180000.0,180000.0,180000.0,180000.0,180000.0,180000.0,148500.0,148500.0,225000.0,225000.0,225000.0,225000.0,126000.0,126000.0,126000.0,126000.0,126000.0,126000.0,157500.0,157500.0,157500.0,157500.0,225000.0,225000.0,225000.0,225000.0,69372.0,270000.0,112500.0,112500.0,112500.0,112500.0,112500.0,112500.0,112500.0,112500.0,112500.0,112500.0,112500.0,112500.0,112500.0,202500.0,157500.0,130500.0,130500.0,202500.0,180000.0,202500.0,225000.0,180000.0,135000.0,337500.0,134995.5,103500.0,256500.0,225000.0,179100.0,179100.0,211500.0,225000.0,252000.0,180000.0,90000.0,270000.0,315000.0,135000.0,180000.0,360000.0,270000.0,180000.0,292500.0,256500.0,67500.0,337500.0,135000.0,157500.0,135000.0,99000.0,103500.0,135000.0,135000.0,180000.0,225000.0,225000.0,360000.0,135000.0,112500.0,225000.0,148500.0,315000.0,333000.0,112500.0,378000.0,378000.0,360000.0,126000.0,202500.0,225000.0,99000.0,157500.0,193500.0,121500.0,54000.0,90000.0,135000.0,112500.0,157500.0,56250.0,119250.0,135000.0,238500.0,247500.0,135000.0,135000.0,202500.0,225000.0,112500.0,135000.0,90000.0,157500.0,135000.0,225000.0,135000.0,157500.0,58500.0,58500.0,135000.0,189000.0,315000.0,315000.0,315000.0,135000.0,180000.0,157500.0,225000.0,81000.0,135000.0,157500.0,202500.0,112500.0,157500.0,81000.0,193500.0,315000.0,315000.0,202500.0,202500.0,135000.0,90000.0,180000.0,180000.0,135000.0,162000.0,202500.0,99000.0,180000.0,180000.0,135000.0,81000.0,76500.0,157500.0,180000.0,135000.0,202500.0,85500.0,270000.0,67500.0,112500.0,112500.0,180000.0,225000.0,121500.0,135000.0,67500.0,135000.0,144000.0,67500.0,78750.0,157500.0,225000.0,270000.0,270000.0,112500.0,112500.0,171000.0,180000.0,162000.0,175500.0,180000.0,256500.0,76500.0,225000.0,112500.0,157500.0,225000.0,36000.0,382500.0,382500.0,315000.0,90000.0,90000.0,99000.0,216000.0,216000.0,112500.0,180000.0,121500.0,189000.0,238500.0,180000.0,252000.0,148500.0,225000.0,90000.0,112500.0,112500.0,90000.0,270000.0,180000.0,171000.0,139500.0,360000.0,180000.0,121500.0,121500.0,126000.0,126000.0,126000.0,135000.0,180000.0,180000.0,225000.0,180000.0,81000.0,81000.0,94500.0,94500.0,135000.0,225000.0,315000.0,148500.0,148500.0,225000.0,121500.0,135000.0,112500.0,112500.0,135000.0,315000.0,99000.0,225000.0,207000.0,207000.0,202500.0,225000.0,121500.0,157500.0,144000.0,144000.0,315000.0,315000.0,112500.0,90000.0,180000.0,288000.0,157500.0,108000.0,180000.0,171000.0,180000.0,135000.0,103500.0,85500.0,247500.0,112500.0,180000.0,270000.0,270000.0,90000.0,112500.0,360000.0,157500.0,180000.0,315000.0,157500.0,225000.0,135000.0,135000.0,225000.0,247500.0,54000.0,189000.0,112500.0,112500.0,202500.0,135000.0,130500.0,135000.0,202500.0,99000.0,202500.0,315000.0,382500.0,99000.0,157500.0,202500.0,360000.0,234000.0,180000.0,180000.0,202500.0,292500.0,63000.0,117000.0,247500.0,157500.0,202500.0,180000.0,135000.0,135000.0,252000.0,315000.0,162000.0,135000.0,135000.0,247500.0,346500.0,225000.0,112500.0,103500.0,67500.0,36000.0,315000.0,360000.0,126000.0,135000.0,360000.0,135000.0,112500.0,315000.0,247500.0,90000.0,225000.0,202500.0,202500.0,270000.0,270000.0,90000.0,90000.0,144000.0,234000.0,180000.0,180000.0,360000.0,135000.0,171000.0,171000.0,171000.0,67500.0,135000.0,135000.0,225000.0,360000.0,225000.0,135000.0,315000.0,148500.0,382500.0,90000.0,81000.0,90000.0,292500.0,164250.0,108000.0,108000.0,360000.0,202500.0,225000.0,157500.0,126000.0,202500.0,238500.0,247500.0,247500.0,157500.0,225000.0,225000.0,270000.0,135000.0,135000.0,202500.0,243000.0,148500.0,126000.0,225000.0,135000.0,63000.0,225000.0,135000.0,180000.0,144000.0,144000.0,144000.0,72000.0,112500.0,270000.0,144000.0,202500.0,180000.0,135000.0,94500.0,202500.0,202500.0,225000.0,135000.0,112500.0,112500.0,337500.0,337500.0,135000.0,382500.0,157500.0,157500.0,135000.0,99000.0,216000.0,225000.0,90000.0,81000.0,117000.0,225000.0,121500.0,112500.0,90000.0,67500.0,67500.0,360000.0,180000.0,202500.0,135000.0,225000.0,76500.0,180000.0,202500.0,202500.0,225000.0,148500.0,184500.0,184500.0,184500.0,184500.0,47790.0,225000.0,247500.0,135000.0,202500.0,94500.0,189000.0,270000.0,270000.0,72000.0,72000.0,315000.0,67500.0,360000.0,202500.0,112500.0,112500.0,112500.0,112500.0,180000.0,180000.0,180000.0,180000.0,180000.0,180000.0,157500.0,157500.0,157500.0,157500.0,157500.0,157500.0,90000.0,112500.0,112500.0,112500.0,157500.0,157500.0,157500.0,130500.0,130500.0,130500.0,81000.0,112500.0,112500.0,157500.0,157500.0,157500.0,360000.0,360000.0,360000.0,270000.0,270000.0,270000.0,270000.0,270000.0,157500.0,67500.0,67500.0,382500.0,382500.0,135000.0,202500.0,202500.0,202500.0,202500.0,202500.0,202500.0,112500.0,360000.0,360000.0,112500.0,112500.0,198000.0,198000.0,198000.0,198000.0,198000.0,198000.0,198000.0,198000.0,198000.0,198000.0,198000.0,292500.0,292500.0,112500.0,112500.0,112500.0,112500.0,112500.0,166500.0,225000.0,202500.0,180000.0,90000.0,90000.0,90000.0,90000.0,225000.0,225000.0,225000.0,256500.0,256500.0,256500.0,81000.0,81000.0,90000.0,90000.0,90000.0,90000.0,67500.0,67500.0,67500.0,67500.0,67500.0,67500.0,67500.0,67500.0,67500.0,67500.0,67500.0,67500.0,67500.0,135000.0,135000.0,135000.0,135000.0,157500.0,112500.0,360000.0,360000.0,67500.0,225000.0,225000.0,252000.0,112500.0,112500.0,112500.0,112500.0,112500.0,112500.0,135000.0,135000.0,135000.0,135000.0,202500.0,202500.0,202500.0,202500.0,202500.0,202500.0,202500.0,67500.0,67500.0,67500.0,67500.0,157500.0,157500.0,157500.0,157500.0,103500.0,202500.0,180000.0,184500.0,184500.0,112500.0,112500.0,112500.0,112500.0,112500.0,112500.0,112500.0,112500.0,270000.0,270000.0,270000.0,270000.0,270000.0,270000.0,90000.0,135000.0,135000.0,135000.0,135000.0,135000.0,135000.0,135000.0,135000.0,135000.0,135000.0,225000.0,225000.0,90000.0,90000.0,90000.0,90000.0,90000.0,90000.0,90000.0,90000.0,247500.0,247500.0,216000.0,216000.0,337500.0,337500.0,337500.0,81000.0,135000.0,135000.0,135000.0,135000.0,135000.0,135000.0,135000.0,135000.0,135000.0,135000.0,135000.0,135000.0,225000.0,225000.0,225000.0,225000.0,225000.0,225000.0,225000.0,225000.0,225000.0,112500.0,90000.0,90000.0,90000.0,90000.0,90000.0,90000.0,67500.0,67500.0,67500.0,67500.0,67500.0,67500.0,67500.0,67500.0,67500.0,112500.0,112500.0,112500.0,103500.0,103500.0,135000.0,112500.0,225000.0,135000.0,135000.0,135000.0,135000.0,135000.0,54000.0,157500.0,157500.0,157500.0,157500.0,157500.0,157500.0,157500.0,90000.0,90000.0,90000.0,135000.0,135000.0,135000.0,135000.0,135000.0,135000.0,135000.0,135000.0,157500.0,157500.0,157500.0,157500.0,148500.0,148500.0,225000.0,225000.0,225000.0,211500.0,211500.0,211500.0,211500.0,112500.0,90000.0,90000.0,157500.0,157500.0,135000.0,135000.0,135000.0,135000.0,135000.0,135000.0,135000.0,247500.0,247500.0,247500.0,247500.0,247500.0,247500.0,60750.0,60750.0,135000.0,135000.0,135000.0,135000.0,135000.0,135000.0,135000.0,112500.0,135000.0,135000.0,135000.0,135000.0,135000.0,225000.0,225000.0,225000.0,225000.0,225000.0,225000.0,225000.0,225000.0,225000.0,225000.0,252000.0,202500.0,202500.0,202500.0,202500.0,202500.0,135000.0,90000.0,90000.0,90000.0,270000.0,225000.0,180000.0,135000.0,135000.0,135000.0,202500.0,202500.0,202500.0,202500.0,202500.0,202500.0,202500.0,202500.0,202500.0,135000.0,135000.0,135000.0,252000.0,252000.0,252000.0,252000.0,252000.0,360000.0,360000.0,360000.0,360000.0,360000.0,360000.0,360000.0,112500.0,112500.0,112500.0,112500.0,112500.0,225000.0,225000.0,292500.0,292500.0,292500.0,292500.0,292500.0,67500.0,135000.0,135000.0,135000.0,135000.0,135000.0,157500.0,157500.0,157500.0,157500.0,157500.0,90000.0,90000.0,90000.0,90000.0,90000.0,90000.0,90000.0,90000.0,90000.0,90000.0,90000.0,90000.0,90000.0,135000.0,243000.0,243000.0,243000.0,243000.0,243000.0,243000.0,243000.0,243000.0,225000.0,225000.0,180000.0,135000.0,135000.0,135000.0,135000.0,135000.0,157500.0,157500.0,157500.0,157500.0,247500.0,247500.0,247500.0,225000.0,225000.0,112500.0,112500.0,180000.0,180000.0,360000.0,360000.0,135000.0,135000.0,135000.0,90000.0,90000.0,90000.0,90000.0,112500.0,90000.0,90000.0,360000.0,45000.0,171000.0,171000.0,112500.0,112500.0,112500.0,211500.0,211500.0,211500.0,157500.0,157500.0,270000.0,270000.0,270000.0,270000.0,270000.0,270000.0,157500.0,157500.0,157500.0,54000.0,112500.0,112500.0,202500.0,202500.0,202500.0,202500.0,202500.0,202500.0,157500.0,157500.0,117000.0,135000.0,135000.0,135000.0,247500.0,247500.0,247500.0,202500.0,202500.0,202500.0,202500.0,202500.0,202500.0,202500.0,202500.0,202500.0,360000.0,360000.0,360000.0,360000.0,180000.0,202500.0,202500.0,157500.0,157500.0,67500.0,139500.0,225000.0,157500.0,157500.0,157500.0,67500.0,67500.0,157500.0,180000.0,180000.0,67500.0,72000.0,72000.0,270000.0,108000.0,135000.0,135000.0,135000.0,135000.0,243000.0,243000.0,225000.0,225000.0,225000.0,225000.0,135000.0,135000.0,135000.0,135000.0,171000.0,171000.0,180000.0,180000.0,180000.0,180000.0,180000.0,180000.0,180000.0,171000.0,171000.0,171000.0,112500.0,112500.0,112500.0,112500.0,157500.0,157500.0,157500.0,243000.0,243000.0,243000.0,243000.0,49500.0,49500.0,49500.0,49500.0,112500.0,112500.0,112500.0,112500.0,112500.0,112500.0,112500.0,112500.0,247500.0,247500.0,135000.0,135000.0,135000.0,135000.0,135000.0,135000.0,135000.0,135000.0,135000.0,135000.0,135000.0,360000.0,202500.0,180000.0,180000.0,72000.0,135000.0,135000.0,135000.0,135000.0,135000.0,103500.0,180000.0,202500.0,202500.0,202500.0,202500.0,90000.0,90000.0,90000.0,90000.0,112500.0,112500.0,112500.0,202500.0,202500.0,207000.0,207000.0,207000.0,207000.0,207000.0,207000.0,247500.0,247500.0,67500.0,144000.0,144000.0,135000.0,135000.0,135000.0,135000.0,135000.0,270000.0,157500.0,180000.0,193500.0,193500.0,193500.0,193500.0,193500.0,193500.0,198000.0,198000.0,198000.0,292500.0,121500.0,121500.0,135000.0,135000.0,135000.0,292500.0,94500.0,94500.0,301500.0,301500.0,301500.0,301500.0,112500.0,45900.0,45900.0,315000.0,315000.0,315000.0,315000.0,63000.0,63000.0,63000.0,292500.0,292500.0,292500.0,292500.0,292500.0,180000.0,180000.0,180000.0,247500.0,144000.0,144000.0,144000.0,144000.0,144000.0,67500.0,67500.0,67500.0,225000.0,225000.0,225000.0,225000.0,225000.0,225000.0,225000.0,117000.0,117000.0,117000.0,117000.0,117000.0,103500.0,103500.0,90000.0,90000.0,112500.0,112500.0,112500.0,112500.0,112500.0,157500.0,157500.0,112500.0,112500.0,112500.0,112500.0,112500.0,112500.0,112500.0,360000.0,360000.0,360000.0,360000.0,360000.0,360000.0,360000.0,360000.0,360000.0,247500.0,247500.0,247500.0,247500.0,247500.0,247500.0,112500.0,270000.0,270000.0,270000.0,270000.0,270000.0,270000.0,270000.0,270000.0,202500.0,202500.0,202500.0,58500.0,58500.0,58500.0,112500.0,112500.0,112500.0,112500.0,112500.0,225000.0,225000.0,225000.0,225000.0,225000.0,225000.0,225000.0,121500.0,121500.0,90000.0,90000.0,90000.0,90000.0,90000.0,202500.0,135000.0,126000.0,126000.0,292500.0,292500.0,292500.0,292500.0,153000.0,153000.0,81000.0,81000.0,81000.0,135000.0,157500.0,157500.0,157500.0,180000.0,180000.0,180000.0,180000.0,112500.0,112500.0,144000.0,144000.0,144000.0,144000.0,180000.0,247500.0,225000.0,157500.0,157500.0,157500.0,157500.0,72000.0,72000.0,72000.0,72000.0,112500.0,112500.0,112500.0,112500.0,112500.0,112500.0,112500.0,112500.0,360000.0,360000.0,121500.0,121500.0,121500.0,121500.0,121500.0,247500.0,247500.0,247500.0,130500.0,130500.0,67500.0,67500.0,67500.0,67500.0,67500.0,171000.0,85500.0,85500.0,85500.0,85500.0,135000.0,90000.0,90000.0,157500.0,157500.0,90000.0,90000.0,247500.0,247500.0,247500.0,247500.0,157500.0,157500.0,225000.0,225000.0,225000.0,225000.0,157500.0,157500.0,292500.0,292500.0,292500.0,292500.0,126000.0,270000.0,270000.0,270000.0,270000.0,270000.0,81000.0,81000.0,81000.0,60750.0,90000.0,90000.0,67500.0,67500.0,180000.0,180000.0,202500.0,202500.0,202500.0,202500.0,202500.0,202500.0,202500.0,202500.0,90000.0,135000.0,135000.0,135000.0,135000.0,135000.0,135000.0,135000.0,135000.0,112500.0,135000.0,135000.0,45000.0,112500.0,112500.0,112500.0,112500.0,112500.0,112500.0,112500.0,112500.0,60750.0,60750.0,60750.0,225000.0,76500.0,180000.0,180000.0,180000.0,157500.0,225000.0,225000.0,225000.0,225000.0,225000.0,103500.0,202500.0,202500.0,202500.0,157500.0,157500.0,157500.0,157500.0,157500.0,157500.0,157500.0,157500.0,225000.0,135000.0,135000.0,135000.0,135000.0,135000.0,135000.0,135000.0,135000.0,135000.0,81000.0,202500.0,202500.0,202500.0,202500.0,202500.0,202500.0,202500.0,202500.0,202500.0,202500.0,202500.0,126000.0,126000.0,126000.0,67500.0,67500.0,67500.0,135000.0,135000.0,135000.0,135000.0,135000.0,135000.0,135000.0,157500.0,157500.0,157500.0,157500.0,315000.0,315000.0,315000.0,315000.0,252000.0,252000.0,252000.0,252000.0,252000.0,76500.0,112500.0,112500.0,112500.0,292500.0,292500.0,292500.0,292500.0,135000.0,135000.0,135000.0,135000.0,180000.0,180000.0,180000.0,180000.0,180000.0,180000.0,180000.0,90000.0,90000.0,180000.0,180000.0,180000.0,180000.0,135000.0,135000.0,112500.0,112500.0,112500.0,112500.0,112500.0,112500.0,189000.0,189000.0,189000.0,126000.0,126000.0,126000.0,126000.0,126000.0,126000.0,126000.0,229500.0,229500.0,225000.0,225000.0,225000.0,225000.0,225000.0,225000.0,225000.0,225000.0,225000.0,225000.0,225000.0,225000.0,225000.0,225000.0,315000.0,315000.0,315000.0,315000.0,135000.0,135000.0,135000.0,126000.0,126000.0,126000.0,225000.0,225000.0,225000.0,225000.0,180000.0,180000.0,157500.0,157500.0,270000.0,270000.0,202500.0,180000.0,180000.0,315000.0,315000.0,315000.0,315000.0,315000.0,315000.0,315000.0,315000.0,315000.0,270000.0,270000.0,112500.0,112500.0,90000.0,90000.0,90000.0,292500.0,292500.0,292500.0,99000.0,99000.0,99000.0,270000.0,202500.0,202500.0,202500.0,202500.0,202500.0,270000.0,270000.0,225000.0,360000.0,360000.0,360000.0,90000.0,90000.0,157500.0,157500.0,337500.0,337500.0,337500.0,337500.0,337500.0,337500.0,337500.0,157500.0,157500.0,157500.0,157500.0,297000.0,297000.0,297000.0,297000.0,360000.0,76500.0,76500.0,76500.0,225000.0,90000.0,49500.0,49500.0,112500.0,180000.0,360000.0,270000.0,270000.0,270000.0,135000.0,135000.0,67500.0,67500.0,202500.0,202500.0,135000.0,135000.0,81000.0,135000.0,171261.0,171261.0,180000.0,180000.0,180000.0,128542.5,128542.5,180000.0,180000.0,180000.0,157500.0,157500.0,90000.0,180000.0,180000.0,67500.0,67500.0,67500.0,67500.0,67500.0,67500.0,216000.0,216000.0,216000.0,216000.0,216000.0,216000.0,216000.0,216000.0,216000.0,216000.0,126000.0,126000.0,126000.0,126000.0,126000.0,126000.0,126000.0,130500.0,135000.0,135000.0,135000.0,135000.0,135000.0,178200.0,178200.0,178200.0,135000.0,135000.0,157500.0,90000.0,90000.0,90000.0,225000.0,225000.0,225000.0,225000.0,225000.0,139500.0,139500.0,139500.0,175500.0,175500.0,175500.0,175500.0,175500.0,175500.0,175500.0,175500.0,175500.0,135000.0,135000.0,135000.0,135000.0,135000.0,135000.0,252000.0,252000.0,252000.0,112500.0,112500.0,112500.0,45000.0,45000.0,225000.0,225000.0,225000.0,225000.0,216000.0,216000.0,216000.0,225000.0,225000.0,225000.0,225000.0,225000.0,225000.0,225000.0,225000.0,225000.0,225000.0,202500.0,202500.0,202500.0,202500.0,202500.0,157500.0,157500.0,157500.0,157500.0,157500.0,103500.0,103500.0,103500.0,112500.0,112500.0,112500.0,112500.0,135000.0,135000.0,135000.0,135000.0,90000.0,90000.0,90000.0,76500.0,76500.0,76500.0,76500.0,76500.0,76500.0,76500.0,76500.0,76500.0,76500.0,76500.0,76500.0,157500.0,157500.0,202500.0,193500.0,193500.0,193500.0,193500.0,193500.0,193500.0,135000.0,135000.0,135000.0,135000.0,135000.0,135000.0,135000.0,135000.0,135000.0,225000.0,225000.0,225000.0,225000.0,225000.0,225000.0,225000.0,225000.0,225000.0,180000.0,180000.0,121500.0,157500.0,157500.0,234000.0,234000.0,270000.0,270000.0,270000.0,270000.0,270000.0,270000.0,270000.0,270000.0,270000.0,270000.0,270000.0,270000.0,270000.0,270000.0,225000.0,225000.0,225000.0,135000.0,135000.0,202500.0,202500.0,202500.0,202500.0,202500.0,135000.0,135000.0,112500.0,112500.0,225000.0,225000.0,225000.0,225000.0,67500.0,67500.0,73350.0,73350.0,73350.0,73350.0,73350.0,180000.0,180000.0,180000.0,207000.0,207000.0,207000.0,207000.0,207000.0,234000.0,234000.0,67500.0,67500.0,135000.0,135000.0,135000.0,67500.0,112500.0,112500.0,112500.0,112500.0,112500.0,112500.0,292500.0,157500.0,157500.0,157500.0,225000.0,180000.0,180000.0,180000.0,180000.0,135000.0,180000.0,180000.0,180000.0,135000.0,135000.0,135000.0,135000.0,112500.0,112500.0,112500.0,112500.0,112500.0,112500.0,225000.0,270000.0,270000.0,270000.0,270000.0,270000.0,270000.0,153000.0,153000.0,153000.0,360000.0,360000.0,360000.0,360000.0,202500.0,202500.0,103500.0,103500.0,81000.0,81000.0,81000.0,81000.0,180000.0,270000.0,63000.0,63000.0,90000.0,90000.0,90000.0,117000.0,117000.0,117000.0,117000.0,117000.0,117000.0,117000.0,117000.0,117000.0,45000.0,45000.0,247500.0,247500.0,202500.0,90000.0,135000.0,135000.0,135000.0,135000.0,135000.0,135000.0,85500.0,265500.0,360000.0,360000.0,360000.0,360000.0,135000.0,112500.0,76500.0,76500.0,76500.0,112500.0,112500.0,112500.0,112500.0,112500.0,54000.0,54000.0,81000.0,81000.0,81000.0,81000.0,81000.0,270000.0,270000.0,162000.0,162000.0,162000.0,112500.0,112500.0,153000.0,153000.0,112500.0,112500.0,315000.0,315000.0,315000.0,315000.0,315000.0,315000.0,202500.0,148500.0,207000.0,207000.0,207000.0,243000.0,243000.0,112500.0,112500.0,90000.0,90000.0,76500.0,76500.0,76500.0,76500.0,76500.0,76500.0,76500.0,76500.0,270000.0,270000.0,270000.0,90000.0,90000.0,112500.0,112500.0,112500.0,112500.0,112500.0,144000.0,144000.0,144000.0,144000.0,144000.0,144000.0,144000.0,144000.0,144000.0,144000.0,202500.0,225000.0,225000.0,225000.0,225000.0,112500.0,103500.0,103500.0,103500.0,103500.0,103500.0,103500.0,103500.0,103500.0,135000.0,135000.0,189000.0,189000.0,189000.0,189000.0,189000.0,189000.0,135000.0,67500.0,225000.0,135000.0,135000.0,216000.0,216000.0,216000.0,216000.0,216000.0,216000.0,216000.0,216000.0,216000.0,216000.0,216000.0,216000.0,54000.0,54000.0,54000.0,54000.0,225000.0,225000.0,117000.0,117000.0,117000.0,117000.0,117000.0,117000.0,202500.0,202500.0,202500.0,202500.0,225000.0,225000.0,225000.0,225000.0,225000.0,225000.0,225000.0,225000.0,99000.0,99000.0,135000.0,135000.0,81000.0,270000.0,270000.0,270000.0,157500.0,157500.0,157500.0,90000.0,90000.0,135000.0,135000.0,135000.0,135000.0,211500.0,211500.0,211500.0,90000.0,135000.0,135000.0,135000.0,135000.0,135000.0,135000.0,135000.0,135000.0,90000.0,90000.0,135000.0,135000.0,135000.0,225000.0,225000.0,81000.0,81000.0,81000.0,166500.0,166500.0,135000.0,135000.0,135000.0,135000.0,225000.0,225000.0,225000.0,225000.0,225000.0,225000.0,225000.0,180000.0,180000.0,328500.0,328500.0,328500.0,328500.0,328500.0,328500.0,328500.0,202500.0,180000.0,211500.0,211500.0,171000.0,171000.0,171000.0,171000.0,171000.0,171000.0,171000.0,270000.0,270000.0,270000.0,270000.0,270000.0,67500.0,67500.0,162000.0,337500.0,337500.0,76500.0,76500.0,76500.0,76500.0,157500.0,157500.0,157500.0,157500.0,157500.0,315000.0,315000.0,315000.0,315000.0,315000.0,315000.0,315000.0,315000.0,270000.0,270000.0,112500.0,94500.0,94500.0,94500.0,94500.0,94500.0,94500.0,94500.0,94500.0,94500.0,94500.0,180000.0,180000.0,180000.0,180000.0,180000.0,180000.0,180000.0,180000.0,67500.0,67500.0,270000.0,270000.0,112500.0,121500.0,112500.0,112500.0,112500.0,90000.0,180000.0,112500.0,180000.0,270000.0,270000.0,67500.0,112500.0,270000.0,157500.0,157500.0,157500.0,157500.0,157500.0,225000.0,112500.0,90000.0,112500.0,135000.0,81000.0,135000.0,90000.0,180000.0,135000.0,225000.0,99000.0,148500.0,135000.0,90000.0,67500.0,112500.0,162000.0,202500.0,76500.0,225000.0,135000.0,180000.0,247500.0,135000.0,315000.0,225000.0,81000.0,135000.0,270000.0,85500.0,202500.0,157500.0,135000.0,360000.0,225000.0,90000.0,67500.0,139500.0,202500.0,135000.0,67500.0,198000.0,198000.0,315000.0,315000.0,189000.0,157500.0,153000.0,270000.0,270000.0,135000.0,337500.0,337500.0,67500.0,225000.0,225000.0,81000.0,81000.0,135000.0,135000.0,270000.0,270000.0,135000.0,225000.0,108000.0,121500.0,270000.0,270000.0,202500.0,157500.0,225000.0,337500.0,225000.0,225000.0,121500.0,135000.0,124200.0,178200.0,225000.0,81000.0,112500.0,81000.0,193500.0,193500.0,270000.0,157500.0,112500.0,211500.0,211500.0,211500.0,225000.0,135000.0,234000.0,234000.0,225000.0,202500.0,315000.0,315000.0,144000.0,157500.0,157500.0,121500.0,315000.0,166500.0,166500.0,225000.0,135000.0,157500.0,85500.0,202500.0,292500.0,180000.0,85500.0,90000.0,315000.0,247500.0,180000.0,135000.0,202500.0,171000.0,130500.0,157500.0,157500.0,157500.0,247500.0,247500.0,247500.0,247500.0,247500.0,247500.0,247500.0,247500.0,247500.0,247500.0,90000.0,90000.0,112500.0,171000.0,171000.0,171000.0,202500.0,202500.0,202500.0,202500.0,202500.0,202500.0,193500.0,135000.0,135000.0,135000.0,135000.0,135000.0,135000.0,135000.0,135000.0,135000.0,135000.0,135000.0,135000.0,135000.0,135000.0,135000.0,112500.0,112500.0,112500.0,112500.0,252000.0,252000.0,252000.0,252000.0,252000.0,252000.0,252000.0,252000.0,135000.0,135000.0,135000.0,135000.0,135000.0,82350.0,82350.0,337500.0,337500.0,337500.0,180000.0,72000.0,72000.0,72000.0,72000.0,72000.0,72000.0,72000.0,72000.0,72000.0,72000.0,157500.0,157500.0,58500.0,54000.0,202500.0,202500.0,112500.0,112500.0,112500.0,112500.0,112500.0,81000.0,81000.0,81000.0,81000.0,157500.0,157500.0,112500.0,112500.0,103500.0,103500.0,103500.0,103500.0,103500.0,112500.0,112500.0,112500.0,315000.0,315000.0,315000.0,315000.0,180000.0,180000.0,180000.0,157500.0,157500.0,112500.0,112500.0,126000.0,126000.0,126000.0,126000.0,126000.0,126000.0,202500.0,157500.0,157500.0,157500.0,157500.0,225000.0,225000.0,225000.0,185400.0,185400.0,185400.0,185400.0,225000.0,225000.0,112500.0,112500.0,112500.0,112500.0,112500.0,112500.0,112500.0,112500.0,112500.0,180000.0,180000.0,180000.0,180000.0,180000.0,180000.0,180000.0,112500.0,90000.0,90000.0,225000.0,225000.0,225000.0,225000.0,112500.0,157500.0,157500.0,202500.0,180000.0,118350.0,118350.0,90000.0,202500.0,202500.0,180000.0,45000.0,157500.0,112500.0,157500.0,157500.0,148500.0,112500.0,112500.0,135000.0,144000.0,360000.0,337500.0,337500.0,207000.0,301500.0,103500.0,270000.0,108000.0,225000.0,193500.0,193500.0,112500.0,81000.0,81000.0,81000.0,81000.0,180000.0,270000.0,270000.0,180000.0,270000.0,270000.0,292500.0,90000.0,157500.0,225000.0,112500.0,252000.0,90000.0,292500.0,112500.0,225000.0,90000.0,157500.0,76500.0,135000.0,81000.0,157500.0,135000.0,270000.0,180000.0,135000.0,112500.0,315000.0,54000.0,76500.0,184500.0,112500.0,112500.0,207000.0,270000.0,126000.0,121500.0,180000.0,121500.0,180000.0,157500.0,157500.0,306000.0,144000.0,144000.0,234000.0,175500.0,175500.0,144000.0,270000.0,270000.0,193500.0,76500.0,157500.0,112500.0,315000.0,171000.0,171000.0,135000.0,202500.0,135000.0,112500.0,90000.0,157500.0,292500.0,90000.0,157500.0,157500.0,90000.0,135000.0,135000.0,121500.0,85500.0,315000.0,180000.0,157500.0,247500.0,148500.0,202500.0,135000.0,135000.0,117000.0,117000.0,270000.0,382500.0,382500.0,90000.0,180000.0,180000.0,90000.0,54000.0,225000.0,126000.0,67500.0,225000.0,135000.0,270000.0,112500.0,135000.0,135000.0,225000.0,148500.0,90000.0,90000.0,81000.0,135000.0,180000.0,157500.0,270000.0,193500.0,270000.0,126000.0,38025.0,99000.0,292500.0,292500.0,315000.0,135000.0,90000.0,112500.0,139500.0,139500.0,139500.0,139500.0,270000.0,270000.0,112500.0,135000.0,112500.0,225000.0,180000.0,90000.0,90000.0,135000.0,135000.0,103500.0,103500.0,103500.0,90000.0,90000.0,90000.0,180000.0,112500.0,175500.0,225000.0,315000.0,72000.0,72000.0,112500.0,180000.0,202500.0,216000.0,112500.0,90000.0,90000.0,157500.0,112500.0,135000.0,121500.0,121500.0,315000.0,135000.0,67500.0,157500.0,135000.0,135000.0,180000.0,135000.0,135000.0,315000.0,135000.0,225000.0,225000.0,144000.0,144000.0,225000.0,135000.0,90000.0,202500.0,180000.0,90000.0,270000.0,225000.0,193500.0,112500.0,157500.0,315000.0,180000.0,135000.0,81000.0,81000.0,157500.0,189000.0,168750.0,270000.0,202500.0,157500.0,315000.0,112500.0,103500.0,103500.0,103500.0,117000.0,112500.0,112500.0,112500.0,112500.0,112500.0,112500.0,112500.0,270000.0,103500.0,157500.0,157500.0,157500.0,157500.0,387000.0,387000.0,387000.0,225000.0,225000.0,225000.0,315000.0,315000.0,315000.0,121500.0,121500.0,360450.0,360450.0,360450.0,360450.0,360450.0,360450.0,360450.0,121500.0,121500.0,166500.0,166500.0,90000.0,315000.0,315000.0,315000.0,67500.0,112500.0,112500.0,112500.0,225000.0,225000.0,180000.0,180000.0,180000.0,180000.0,180000.0,180000.0,180000.0,112500.0,112500.0,112500.0,112500.0,382500.0,225000.0,225000.0,225000.0,225000.0,225000.0,225000.0,225000.0,112500.0,112500.0,112500.0,112500.0,112500.0,112500.0,112500.0,112500.0,180000.0,216000.0,216000.0,216000.0,216000.0,216000.0,216000.0,216000.0,216000.0,216000.0,216000.0,247500.0,247500.0,247500.0,117000.0,225000.0,225000.0,225000.0,225000.0,225000.0,180000.0,180000.0,121500.0,121500.0,121500.0,135000.0,135000.0,225000.0,225000.0,225000.0,225000.0,225000.0,225000.0,225000.0,225000.0,112500.0,157500.0,157500.0,157500.0,157500.0,157500.0,90000.0,360000.0,360000.0,360000.0,360000.0,360000.0,360000.0,360000.0,360000.0,180000.0,121500.0,121500.0,135000.0,135000.0,135000.0,135000.0,135000.0,135000.0,135000.0,135000.0,135000.0,135000.0,135000.0,135000.0,135000.0,157500.0,157500.0,157500.0,157500.0,157500.0,157500.0,157500.0,157500.0,112500.0,112500.0,112500.0,112500.0,112500.0,90000.0,90000.0,90000.0,90000.0,90000.0,90000.0,90000.0,202500.0,112500.0,112500.0,189000.0,189000.0,180000.0,180000.0,180000.0,315000.0,315000.0,315000.0,315000.0,315000.0,315000.0,315000.0,315000.0,315000.0,180000.0,180000.0,180000.0,126000.0,157500.0,157500.0,157500.0,157500.0,157500.0,85500.0,135000.0,135000.0,135000.0,135000.0,135000.0,135000.0,135000.0,99000.0,157500.0,67500.0,67500.0,90000.0,180000.0,112500.0,112500.0,207000.0,207000.0,207000.0,207000.0,81000.0,81000.0,81000.0,81000.0,81000.0,81000.0,180000.0,180000.0,180000.0,81000.0,81000.0,81000.0,247500.0,247500.0,247500.0,247500.0,247500.0,247500.0,90000.0,225000.0,225000.0,112500.0,112500.0,112500.0,112500.0,157500.0,157500.0,90000.0,90000.0,189000.0,225000.0,225000.0,225000.0,202500.0,202500.0,202500.0,202500.0,202500.0,76500.0,76500.0,225000.0,225000.0,225000.0,225000.0,225000.0,225000.0,225000.0,225000.0,112500.0,112500.0,112500.0,90000.0,90000.0,90000.0,99000.0,99000.0,99000.0,153000.0,153000.0,153000.0,270000.0,360000.0,202500.0,202500.0,202500.0,324000.0,324000.0,112500.0,112500.0,112500.0,39600.0,39600.0,117000.0,135000.0,135000.0,112500.0,112500.0,112500.0,135000.0,135000.0,135000.0,135000.0,135000.0,135000.0,193500.0,193500.0,193500.0,193500.0,193500.0,193500.0,193500.0,193500.0,193500.0,112500.0,112500.0,112500.0,112500.0,112500.0,112500.0,112500.0,157500.0,270000.0,112500.0,112500.0,112500.0,112500.0,112500.0,112500.0,112500.0,90000.0,90000.0,175500.0,202500.0,202500.0,202500.0,202500.0,202500.0,112500.0,112500.0,112500.0,135000.0,243000.0,243000.0,243000.0,243000.0,243000.0,243000.0,180000.0,180000.0,112500.0,112500.0,112500.0,337500.0,202500.0,202500.0,202500.0,202500.0,202500.0,202500.0,270000.0,157500.0,157500.0,157500.0,157500.0,135000.0,135000.0,135000.0,135000.0,135000.0,135000.0,117000.0,117000.0,126000.0,202500.0,202500.0,202500.0,202500.0,112500.0,112500.0,112500.0,112500.0,112500.0,112500.0,112500.0,112500.0,135000.0,157500.0,157500.0,202500.0,202500.0,202500.0,135000.0,135000.0,135000.0,90000.0,90000.0,90000.0,90000.0,180000.0,378000.0,378000.0,378000.0,378000.0,378000.0,378000.0,171000.0,135000.0,135000.0,135000.0,135000.0,135000.0,135000.0,180000.0,144000.0,135000.0,135000.0,76500.0,382500.0,382500.0,382500.0,90000.0,90000.0,90000.0,90000.0,90000.0,90000.0,135000.0,135000.0,135000.0,135000.0,202500.0,202500.0,202500.0,202500.0,202500.0,202500.0,202500.0,202500.0,202500.0,225000.0,135000.0,135000.0,135000.0,67500.0,144000.0,90000.0,90000.0,180000.0,180000.0,180000.0,225000.0,225000.0,225000.0,225000.0,225000.0,225000.0,180000.0,180000.0,180000.0,180000.0,180000.0,180000.0,180000.0,90000.0,126000.0,126000.0,126000.0,270000.0,270000.0,270000.0,180000.0,112500.0,112500.0,112500.0,112500.0,112500.0,360000.0,360000.0,180000.0,180000.0,180000.0,180000.0,180000.0,171000.0,171000.0,171000.0,121500.0,121500.0,252000.0,112500.0,112500.0,112500.0,112500.0,112500.0,112500.0,103500.0,103500.0,202500.0,202500.0,202500.0,202500.0,202500.0,202500.0,45000.0,45000.0,202500.0,67500.0,67500.0,67500.0,202500.0,202500.0,202500.0,202500.0,67500.0,67500.0,67500.0,67500.0,135000.0,135000.0,135000.0,247500.0,247500.0,247500.0,247500.0,247500.0,247500.0,270000.0,270000.0,180000.0,180000.0,225000.0,225000.0,225000.0,225000.0,387000.0,387000.0,387000.0,67500.0,67500.0,306000.0,306000.0,306000.0,306000.0,112500.0,112500.0,112500.0,112500.0,112500.0,112500.0,112500.0,225000.0,225000.0,225000.0,225000.0,225000.0,112500.0,112500.0,112500.0,135000.0,135000.0,180000.0,180000.0,112500.0,112500.0,202500.0,202500.0,202500.0,202500.0,202500.0,202500.0,202500.0,202500.0,72000.0,72000.0,72000.0,72000.0,184500.0,184500.0,121500.0,112500.0,112500.0,63000.0,63000.0,63000.0,225000.0,225000.0,225000.0,225000.0,225000.0,225000.0,225000.0,225000.0,225000.0,225000.0,225000.0,90000.0,90000.0,90000.0,90000.0,67500.0,157500.0,157500.0,67500.0,103500.0,103500.0,76500.0,76500.0,76500.0,180000.0,211500.0,211500.0,211500.0,211500.0,211500.0,72000.0,306000.0,306000.0,270000.0,270000.0,270000.0,270000.0,270000.0,270000.0,157500.0,81000.0,81000.0,81000.0,81000.0,81000.0,81000.0,261000.0,261000.0,261000.0,261000.0,261000.0,261000.0,261000.0,261000.0,261000.0,261000.0,135000.0,135000.0,135000.0,135000.0,135000.0,135000.0,126000.0,126000.0,126000.0,126000.0,126000.0,126000.0,112500.0,225000.0,225000.0,135000.0,135000.0,211500.0,211500.0,211500.0,211500.0,211500.0,211500.0,211500.0,211500.0,180000.0,180000.0,135000.0,135000.0,135000.0,135000.0,81000.0,81000.0,81000.0,99000.0,202500.0,202500.0,202500.0,202500.0,202500.0,126000.0,126000.0,360000.0,135000.0,135000.0,135000.0,135000.0,135000.0,135000.0,270000.0,270000.0,373500.0,373500.0,373500.0,373500.0,373500.0,373500.0,373500.0,162000.0,76500.0,76500.0,76500.0,270000.0,270000.0,270000.0,112500.0,112500.0,67500.0,67500.0,67500.0,202500.0,351000.0,351000.0,351000.0,202500.0,202500.0,202500.0,202500.0,157500.0,157500.0,157500.0,315000.0,315000.0,315000.0,202500.0,202500.0,135000.0,135000.0,225000.0,225000.0,90000.0,90000.0,90000.0,90000.0,90000.0,180000.0,135000.0,135000.0,270000.0,225000.0,157500.0,81000.0,81000.0,81000.0,81000.0,81000.0,202500.0,202500.0,126000.0,225000.0,225000.0,54000.0,225000.0,225000.0,225000.0,225000.0,247500.0,216000.0,216000.0,180000.0,180000.0,180000.0,180000.0,180000.0,54000.0,54000.0,103500.0,103500.0,103500.0,103500.0,103500.0,103500.0,103500.0,103500.0,103500.0,103500.0,103500.0,103500.0,103500.0,135000.0,135000.0,135000.0,135000.0,180000.0,180000.0,180000.0,112500.0,112500.0,112500.0,112500.0,112500.0,157500.0,157500.0,157500.0,157500.0,157500.0,157500.0,157500.0,157500.0,67500.0,67500.0,67500.0,67500.0,67500.0,67500.0,67500.0,67500.0,67500.0,112500.0,112500.0,112500.0,112500.0,112500.0,135000.0,135000.0,135000.0,135000.0,148500.0,148500.0,148500.0,148500.0,148500.0,148500.0,148500.0,148500.0,148500.0,135000.0,135000.0,135000.0,135000.0,135000.0,135000.0,135000.0,135000.0,135000.0,135000.0,135000.0,135000.0,135000.0,135000.0,135000.0,135000.0,135000.0,135000.0,135000.0,135000.0,135000.0,157500.0,45000.0,45000.0,45000.0,45000.0,45000.0,90000.0,90000.0,90000.0,144000.0,144000.0,144000.0,144000.0,144000.0,144000.0,144000.0,315000.0,315000.0,315000.0,315000.0,315000.0,315000.0,315000.0,315000.0,315000.0,315000.0,315000.0,315000.0,315000.0,315000.0,315000.0,72000.0,72000.0,72000.0,72000.0,315000.0,315000.0,315000.0,315000.0,315000.0,315000.0,315000.0,315000.0,315000.0,315000.0,315000.0,315000.0,315000.0,315000.0,315000.0,135000.0,135000.0,135000.0,135000.0,135000.0,135000.0,135000.0,135000.0,90000.0,90000.0,76500.0,382500.0,382500.0,382500.0,292500.0,292500.0,292500.0,292500.0,292500.0,292500.0,202500.0,202500.0,202500.0,202500.0,121500.0,121500.0,121500.0,121500.0,121500.0,121500.0,121500.0,121500.0,90000.0,90000.0,90000.0,90000.0,157500.0,90000.0,202500.0,225000.0,135000.0,135000.0,247500.0,112500.0,180000.0,180000.0,180000.0,202500.0,279000.0,225000.0,270000.0,135000.0,157500.0,270000.0,360000.0,360000.0,143100.0,135000.0,157500.0,180000.0,247500.0,166500.0,135000.0,360000.0,292500.0,87750.0,67500.0,126000.0,135000.0,180000.0,225000.0,234000.0,202500.0,180000.0,292500.0,157500.0,292500.0,225000.0,135000.0,337500.0,202500.0,112500.0,315000.0,202500.0,270000.0,211500.0,135000.0,180000.0,270000.0,225000.0,180000.0,157500.0,225000.0,135000.0,270000.0,157500.0,382500.0,135000.0,67500.0,135000.0,315000.0,108000.0,360000.0,157500.0,202500.0,315000.0,202500.0,180000.0,157500.0,90000.0,90000.0,202500.0,247500.0,202500.0,180000.0,49500.0,135000.0,157500.0,270000.0,112500.0,112500.0,171000.0,180000.0,90000.0,148500.0,112500.0,270000.0,315000.0,211500.0,202500.0,283500.0,99000.0,90000.0,157500.0,225000.0,292500.0,112500.0,247500.0,153000.0,229500.0,202500.0,310500.0,157500.0,157500.0,225000.0,202500.0,112500.0,112500.0,135000.0,144000.0,225000.0,135000.0,157500.0,225000.0,121500.0,360000.0,112500.0,360000.0,112500.0,112500.0,90000.0,270000.0,225000.0,225000.0,225000.0,315000.0,315000.0,382500.0,382500.0,225000.0,225000.0,225000.0,202500.0,202500.0,112500.0,112500.0,202500.0,225000.0,112500.0,112500.0,315000.0,315000.0,360000.0,189000.0,189000.0,337500.0,337500.0,252000.0,270000.0,288000.0,112500.0,135000.0,135000.0,45000.0,315000.0,157500.0,225000.0,202500.0,67500.0,67500.0,315000.0,202500.0,292500.0,135000.0,135000.0,135000.0,76500.0,112500.0,270000.0,180000.0,81000.0,81000.0,180000.0,117000.0,180000.0,180000.0,180000.0,225000.0,103500.0,90000.0,67500.0,103500.0,180000.0,202500.0,202500.0,387000.0,315000.0,135000.0,135000.0,175500.0,175500.0,175500.0,175500.0,175500.0,175500.0,360000.0,360000.0,247500.0,247500.0,247500.0,247500.0,247500.0,247500.0,247500.0,112500.0,90000.0,90000.0,121500.0,121500.0,112500.0,121500.0,121500.0,121500.0,121500.0,121500.0,121500.0,121500.0,112500.0,112500.0,180000.0,180000.0,180000.0,180000.0,180000.0,180000.0,153000.0,153000.0,153000.0,171000.0,171000.0,180000.0,180000.0,180000.0,180000.0,180000.0,180000.0,81000.0,81000.0,126000.0,126000.0,135000.0,135000.0,135000.0,135000.0,247500.0,270000.0,270000.0,90000.0,90000.0,90000.0,90000.0,90000.0,90000.0,90000.0,90000.0,90000.0,148500.0,148500.0,148500.0,148500.0,148500.0,148500.0,180000.0,180000.0,180000.0,180000.0,180000.0,90000.0,90000.0,90000.0,90000.0,135000.0,135000.0,135000.0,135000.0,112500.0,112500.0,112500.0,112500.0,180000.0,180000.0,180000.0,180000.0,90000.0,157500.0,157500.0,157500.0,144000.0,270000.0,270000.0,270000.0,270000.0,135000.0,207000.0,207000.0,207000.0,207000.0,207000.0,180000.0,247500.0,247500.0,247500.0,126000.0,126000.0,126000.0,135000.0,99000.0,99000.0,99000.0,315000.0,315000.0,315000.0,360000.0,360000.0,360000.0,225000.0,225000.0,225000.0,135000.0,135000.0,157500.0,135000.0,135000.0,135000.0,135000.0,135000.0,135000.0,225000.0,225000.0,180000.0,180000.0,180000.0,180000.0,180000.0,180000.0,270000.0,270000.0,270000.0,270000.0,270000.0,270000.0,270000.0,270000.0,292500.0,180000.0,157500.0,157500.0,157500.0,157500.0,157500.0,157500.0,157500.0,157500.0,135000.0,135000.0,171000.0,171000.0,171000.0,171000.0,171000.0,171000.0,171000.0,126000.0,126000.0,126000.0,126000.0,135000.0,135000.0,135000.0,135000.0,180000.0,180000.0,135000.0,81000.0,81000.0,81000.0,81000.0,81000.0,81000.0,270000.0,283500.0,283500.0,283500.0,225000.0,225000.0,225000.0,270000.0,270000.0,270000.0,270000.0,270000.0,135000.0,135000.0,135000.0,135000.0,112500.0,247500.0,225000.0,225000.0,225000.0,225000.0,225000.0,225000.0,225000.0,225000.0,148500.0,148500.0,148500.0,148500.0,148500.0,148500.0,148500.0,148500.0,148500.0,148500.0,135000.0,135000.0,135000.0,292500.0,292500.0,292500.0,292500.0,247500.0,247500.0,144000.0,144000.0,144000.0,112500.0,135000.0,135000.0,171000.0,171000.0,171000.0,171000.0,135000.0,135000.0,135000.0,135000.0,90000.0,90000.0,90000.0,90000.0,90000.0,270000.0,225000.0,94500.0,94500.0,94500.0,157500.0,157500.0,157500.0,157500.0,202500.0,225000.0,360000.0,225000.0,225000.0,360000.0,360000.0,315000.0,315000.0,315000.0,337500.0,337500.0,337500.0,337500.0,337500.0,337500.0,337500.0,337500.0,112500.0,180000.0,180000.0,180000.0,180000.0,252000.0,252000.0,157500.0,157500.0,157500.0,157500.0,157500.0,360000.0,225000.0,135000.0,135000.0,135000.0,135000.0,135000.0,135000.0,135000.0,225000.0,202500.0,202500.0,202500.0,135000.0,135000.0,135000.0,135000.0,135000.0,90000.0,90000.0,90000.0,90000.0,90000.0,90000.0,382500.0,180000.0,180000.0,180000.0,162000.0,162000.0,162000.0,162000.0,162000.0,162000.0,225000.0,225000.0,225000.0,225000.0,225000.0,225000.0,225000.0,225000.0,225000.0,90000.0,90000.0,90000.0,90000.0,90000.0,202500.0,202500.0,202500.0,67500.0,45000.0,45000.0,45000.0,45000.0,45000.0,45000.0,135000.0,135000.0,112500.0,112500.0,153000.0,360000.0,67500.0,67500.0,135000.0,135000.0,247500.0,247500.0,247500.0,247500.0,360000.0,360000.0,270000.0,270000.0,270000.0,270000.0,270000.0,270000.0,270000.0,270000.0,270000.0,81000.0,247500.0,247500.0,202500.0,202500.0,202500.0,202500.0,202500.0,202500.0,202500.0,202500.0,202500.0,202500.0,202500.0,202500.0,202500.0,202500.0,225000.0,225000.0,180000.0,180000.0,180000.0,180000.0,180000.0,135000.0,135000.0,135000.0,99000.0,99000.0,99000.0,99000.0,99000.0,99000.0,99000.0,99000.0,99000.0,99000.0,99000.0,99000.0,99000.0,99000.0,99000.0,99000.0,99000.0,90000.0,112500.0,112500.0,193500.0,193500.0,193500.0,193500.0,180000.0,180000.0,180000.0,180000.0,180000.0,135000.0,135000.0,130500.0,130500.0,90000.0,90000.0,90000.0,90000.0,90000.0,90000.0,90000.0,90000.0,135000.0,135000.0,135000.0,135000.0,135000.0,135000.0,135000.0,225000.0,225000.0,225000.0,157500.0,126000.0,126000.0,126000.0,126000.0,126000.0,166500.0,166500.0,166500.0,166500.0,135000.0,135000.0,135000.0,135000.0,135000.0,135000.0,135000.0,76500.0,76500.0,76500.0,76500.0,76500.0,225000.0,225000.0,225000.0,135000.0,135000.0,135000.0,135000.0,247500.0,112500.0,171000.0,171000.0,108000.0,108000.0,135000.0,135000.0,112500.0,112500.0,112500.0,112500.0,112500.0,225000.0,225000.0,225000.0,225000.0,225000.0,225000.0,225000.0,225000.0,225000.0,225000.0,225000.0,225000.0,112500.0,112500.0,112500.0,112500.0,112500.0,247500.0,247500.0,225000.0,225000.0,225000.0,225000.0,225000.0,270000.0,270000.0,270000.0,270000.0,270000.0,315000.0,315000.0,130500.0,130500.0,130500.0,130500.0,130500.0,112500.0,112500.0,112500.0,144000.0,144000.0,144000.0,189000.0,189000.0,112500.0,112500.0,112500.0,112500.0,112500.0,112500.0,54000.0,54000.0,54000.0,99000.0,99000.0,99000.0,216000.0,216000.0,216000.0,103500.0,135000.0,135000.0,135000.0,135000.0,135000.0,135000.0,135000.0,135000.0,135000.0,135000.0,180000.0,180000.0,180000.0,180000.0,180000.0,180000.0,180000.0,180000.0,180000.0,180000.0,337500.0,337500.0,337500.0,337500.0,202500.0,202500.0,202500.0,202500.0,202500.0,202500.0,337500.0,337500.0,337500.0,180000.0,180000.0,90000.0,90000.0,90000.0,90000.0,90000.0,90000.0,90000.0,225000.0,225000.0,225000.0,157500.0,157500.0,157500.0,157500.0,157500.0,157500.0,135000.0,157500.0,157500.0,157500.0,157500.0,157500.0,90000.0,49500.0,49500.0,157500.0,157500.0,157500.0,121500.0,121500.0,121500.0,225000.0,225000.0,225000.0,225000.0,225000.0,56250.0,56250.0,180000.0,90000.0,90000.0,90000.0,90000.0,225000.0,225000.0,315000.0,315000.0,85500.0,85500.0,85500.0,85500.0,180000.0,180000.0,180000.0,180000.0,180000.0,180000.0,180000.0,180000.0,180000.0,180000.0,157500.0,157500.0,157500.0,157500.0,157500.0,157500.0,157500.0,157500.0,157500.0,157500.0,157500.0,126000.0,126000.0,166500.0,166500.0,166500.0,166500.0,166500.0,166500.0,135000.0,135000.0,135000.0,135000.0,135000.0,135000.0,157500.0,157500.0,157500.0,157500.0,157500.0,157500.0,157500.0,157500.0,202500.0,202500.0,202500.0,202500.0,202500.0,112500.0,180000.0,180000.0,180000.0,180000.0,180000.0,180000.0,180000.0,225000.0,225000.0,202500.0,202500.0,202500.0,126000.0,126000.0,126000.0,126000.0,126000.0,126000.0,81000.0,81000.0,81000.0,81000.0,81000.0,175500.0,175500.0,315000.0,135000.0,247500.0,247500.0,247500.0,247500.0,247500.0,247500.0,112500.0,112500.0,112500.0,180000.0,180000.0,180000.0,135000.0,135000.0,135000.0,135000.0,157500.0,157500.0,157500.0,225000.0,135000.0,135000.0,135000.0,135000.0,135000.0,157500.0,157500.0,157500.0,202500.0,202500.0,202500.0,202500.0,202500.0,202500.0,360000.0,360000.0,360000.0,360000.0,360000.0,360000.0,360000.0,382500.0,382500.0,157500.0,135000.0,270000.0,270000.0,270000.0,270000.0,270000.0,270000.0,270000.0,157500.0,157500.0,157500.0,157500.0,157500.0,112500.0,112500.0,112500.0,112500.0,112500.0,112500.0,112500.0,112500.0,112500.0,94500.0,94500.0,157500.0,157500.0,225000.0,225000.0,225000.0,225000.0,225000.0,225000.0,225000.0,225000.0,225000.0,225000.0,225000.0,225000.0,247500.0,81000.0,81000.0,81000.0,81000.0,166500.0,166500.0,166500.0,252000.0,252000.0,135000.0,135000.0,225000.0,225000.0,135000.0,135000.0,135000.0,135000.0,135000.0,135000.0,121500.0,126000.0,126000.0,126000.0,126000.0,126000.0,126000.0,126000.0,126000.0,112500.0,112500.0,112500.0,112500.0,166500.0,45000.0,45000.0,45000.0,67500.0,67500.0,225000.0,202500.0,202500.0,202500.0,202500.0,180000.0,67500.0,67500.0,67500.0,67500.0,180000.0,180000.0,180000.0,180000.0,180000.0,180000.0,202500.0,202500.0,202500.0,202500.0,382500.0,382500.0,382500.0,382500.0,112500.0,112500.0,112500.0,112500.0,157500.0,157500.0,157500.0,270000.0,270000.0,270000.0,225000.0,225000.0,225000.0,292500.0,90000.0,189000.0,189000.0,112500.0,112500.0,112500.0,180000.0,180000.0,180000.0,180000.0,180000.0,76500.0,76500.0,76500.0,76500.0,76500.0,76500.0,202500.0,202500.0,202500.0,202500.0,202500.0,202500.0,67500.0,67500.0,180000.0,180000.0,108000.0,121500.0,90000.0,90000.0,90000.0,112500.0,283500.0,283500.0,180000.0,180000.0,121500.0,121500.0,121500.0,121500.0,270000.0,270000.0,270000.0,270000.0,270000.0,135000.0,135000.0,135000.0,112500.0,270000.0,270000.0,270000.0,135000.0,135000.0,135000.0,135000.0,135000.0,135000.0,135000.0,135000.0,135000.0,135000.0,135000.0,202500.0,202500.0,90000.0,90000.0,90000.0,234000.0,234000.0,121500.0,121500.0,67500.0,67500.0,135000.0,135000.0,135000.0,135000.0,315000.0,315000.0,315000.0,315000.0,315000.0,315000.0,315000.0,315000.0,112500.0,135000.0,135000.0,54000.0,54000.0,54000.0,112500.0,112500.0,247500.0,247500.0,247500.0,90000.0,90000.0,90000.0,90000.0,135000.0,135000.0,157500.0,157500.0,157500.0,157500.0,157500.0,157500.0,157500.0,81000.0,360000.0,360000.0,157500.0,90000.0,90000.0,90000.0,103500.0,103500.0,103500.0,103500.0,180000.0,180000.0,180000.0,45000.0,45000.0,112500.0,112500.0,112500.0,112500.0,225000.0,180000.0,180000.0,180000.0,180000.0,225000.0,135000.0,135000.0,135000.0,135000.0,180000.0,180000.0,180000.0,180000.0,180000.0,180000.0,151200.0,180000.0,180000.0,180000.0,180000.0,180000.0,180000.0,180000.0,180000.0,180000.0,180000.0,180000.0,270000.0,270000.0,270000.0,90000.0,90000.0,90000.0,90000.0,90000.0,90000.0,135000.0,135000.0,135000.0,135000.0,135000.0,135000.0,135000.0,126000.0,126000.0,126000.0,225000.0,225000.0,225000.0,225000.0,225000.0,135000.0,144000.0,139500.0,135000.0,135000.0,135000.0,135000.0,225000.0,247500.0,247500.0,247500.0,247500.0,247500.0,247500.0,247500.0,247500.0,247500.0,247500.0,225000.0,225000.0,76500.0,112500.0,112500.0,112500.0,360000.0,360000.0,360000.0,360000.0,360000.0,112500.0,225000.0,225000.0,270000.0,270000.0,270000.0,180000.0,180000.0,180000.0,180000.0,180000.0,337500.0,337500.0,337500.0,337500.0,315000.0,315000.0,315000.0,135000.0,135000.0,180000.0,90000.0,202500.0,202500.0,202500.0,202500.0,202500.0,202500.0,202500.0,202500.0,202500.0,202500.0,202500.0,202500.0,225000.0,225000.0,225000.0,157500.0,157500.0,157500.0,315000.0,112500.0,112500.0,112500.0,112500.0,112500.0,112500.0,112500.0,112500.0,112500.0,112500.0,112500.0,135000.0,238500.0,238500.0,157500.0,157500.0,157500.0,126000.0,126000.0,126000.0,94500.0,94500.0,315000.0,315000.0,315000.0,315000.0,315000.0,315000.0,180000.0,292500.0,292500.0,139500.0,144000.0,144000.0,144000.0,112500.0,112500.0,112500.0,112500.0,112500.0,126000.0,126000.0,126000.0,126000.0,126000.0,126000.0,126000.0,180000.0,180000.0,180000.0,180000.0,180000.0,202500.0,135000.0,135000.0,135000.0,135000.0,225000.0,270000.0,270000.0,157500.0,157500.0,157500.0,54000.0,54000.0,54000.0,180000.0,162000.0,162000.0,162000.0,225000.0,225000.0,225000.0,225000.0,225000.0,157500.0,157500.0,112500.0,112500.0,112500.0,90000.0,90000.0,120150.0,120150.0,120150.0,292500.0,292500.0,193500.0,193500.0,193500.0,193500.0,193500.0,180000.0,180000.0,180000.0,180000.0,180000.0,157500.0,179100.0,180000.0,180000.0,180000.0,180000.0,180000.0,180000.0,81000.0,81000.0,81000.0,81000.0,126000.0,112500.0,112500.0,112500.0,112500.0,135000.0,202500.0,202500.0,202500.0,99000.0,99000.0,99000.0,67500.0,67500.0,67500.0,67500.0,67500.0,202500.0,135000.0,135000.0,202500.0,168750.0,168750.0,168750.0,225000.0,225000.0,225000.0,270000.0,270000.0,270000.0,94500.0,94500.0,90000.0,90000.0,90000.0,90000.0,90000.0,225000.0,225000.0,225000.0,225000.0,225000.0,225000.0,202500.0,202500.0,202500.0,202500.0,202500.0,157500.0,157500.0,157500.0,157500.0,157500.0,157500.0,90000.0,180000.0,135000.0,135000.0,135000.0,135000.0,135000.0,135000.0,135000.0,135000.0,135000.0,180000.0,180000.0,180000.0,180000.0,135000.0,135000.0,135000.0,135000.0,135000.0,180000.0,180000.0,180000.0,180000.0,180000.0,157500.0,157500.0,112500.0,112500.0,112500.0,157500.0,85500.0,157500.0,157500.0,157500.0,157500.0,157500.0,157500.0,144000.0,144000.0,144000.0,202500.0,202500.0,180000.0,180000.0,180000.0,180000.0,225000.0,225000.0,157500.0,157500.0,157500.0,157500.0,157500.0,157500.0,157500.0,157500.0,157500.0,157500.0,90000.0,135000.0,135000.0,135000.0,135000.0,135000.0,112500.0,202500.0,202500.0,261000.0,135000.0,135000.0,135000.0,135000.0,180000.0,180000.0,180000.0,180000.0,180000.0,180000.0,180000.0,180000.0,157500.0,157500.0,76500.0,76500.0,76500.0,89100.0,89100.0,112500.0,112500.0,112500.0,180000.0,157500.0,157500.0,270000.0,270000.0,270000.0,225000.0,112500.0,157500.0,112500.0,112500.0,112500.0,112500.0,135000.0,135000.0,135000.0,135000.0,139500.0,139500.0,202500.0,202500.0,202500.0,202500.0,180000.0,180000.0,180000.0,180000.0,180000.0,135000.0,81000.0,157500.0,157500.0,157500.0,157500.0,238500.0,238500.0,238500.0,238500.0,216000.0,135000.0,135000.0,189000.0,90000.0,121500.0,121500.0,121500.0,211500.0,211500.0,211500.0,211500.0,211500.0,90000.0,90000.0,81000.0,81000.0,81000.0,81000.0,81000.0,81000.0,81000.0,180000.0,180000.0,225000.0,225000.0,292500.0,292500.0,112500.0,112500.0,85500.0,85500.0,85500.0,90000.0,90000.0,90000.0,265500.0,265500.0,112500.0,225000.0,225000.0,225000.0,225000.0,126000.0,126000.0,126000.0,225000.0,193500.0,112500.0,112500.0,135000.0,135000.0,135000.0,135000.0,99000.0,306000.0,139500.0,180000.0,180000.0,157500.0,225000.0,112500.0,157500.0,157500.0,144000.0,306000.0,117000.0,180000.0,180000.0,180000.0,49500.0,148500.0,90000.0,211500.0,211500.0,211500.0,112500.0,112500.0,225000.0,265500.0,193500.0,193500.0,193500.0,211500.0,211500.0,211500.0,90000.0,225000.0,247500.0,247500.0,247500.0,247500.0,112500.0,67500.0,292500.0,157500.0,157500.0,202500.0,202500.0,180000.0,99000.0,189000.0,247500.0,112500.0,112500.0,112500.0,90000.0,225000.0,112500.0,112500.0,112500.0,112500.0,157500.0,157500.0,270000.0,270000.0,112500.0,225000.0,112500.0,180000.0,135000.0,135000.0,135000.0,207000.0,67500.0,67500.0,112500.0,225000.0,225000.0,360000.0,360000.0,180000.0,112500.0,157500.0,157500.0,157500.0,135000.0,225000.0,180000.0,270000.0,225000.0,135000.0,126000.0,225000.0,225000.0,90000.0,135000.0,202500.0,54000.0,180000.0,112500.0,112500.0,90000.0,135000.0,135000.0,157500.0,121500.0,180000.0,112500.0,135000.0,202500.0,121500.0,315000.0,135000.0,135000.0,270000.0,180000.0,180000.0,180000.0,180000.0,180000.0,180000.0,225000.0,225000.0,225000.0,225000.0,360000.0,126000.0,126000.0,126000.0,126000.0,126000.0,126000.0,126000.0,225000.0,76500.0,202500.0,247500.0,247500.0,270000.0,270000.0,270000.0,270000.0,270000.0,135000.0,270000.0,360000.0,360000.0,360000.0,360000.0,171000.0,270000.0,144000.0,135000.0,135000.0,135000.0,135000.0,135000.0,252000.0,252000.0,135000.0,112500.0,112500.0,270000.0,135000.0,135000.0,135000.0,135000.0,135000.0,135000.0,81000.0,81000.0,135000.0,202500.0,202500.0,202500.0,202500.0,202500.0,202500.0,202500.0,315000.0,315000.0,36900.0,36900.0,135000.0,135000.0,135000.0,135000.0,135000.0,364500.0,364500.0,364500.0,135000.0,112500.0,112500.0,112500.0,112500.0,112500.0,112500.0,207000.0,207000.0,207000.0,112500.0,112500.0,112500.0,225000.0,225000.0,225000.0,202500.0,135000.0,180000.0,180000.0,180000.0,180000.0,180000.0,180000.0,180000.0,180000.0,225000.0,112500.0,112500.0,112500.0,112500.0,112500.0,112500.0,202500.0,202500.0,157500.0,292500.0,315000.0,315000.0,315000.0,315000.0,382500.0,382500.0,382500.0,270000.0,270000.0,270000.0,270000.0,225000.0,225000.0,135000.0,135000.0,135000.0,135000.0,193500.0,193500.0,180000.0,180000.0,180000.0,180000.0,180000.0,135000.0,135000.0,135000.0,135000.0,135000.0,135000.0,67500.0,135000.0,135000.0,135000.0,135000.0,135000.0,292500.0,292500.0,180000.0,180000.0,180000.0,180000.0,94500.0,94500.0,94500.0,81000.0,112500.0,112500.0,112500.0,112500.0,112500.0,112500.0,157500.0,157500.0,157500.0,157500.0,270000.0,270000.0,135000.0,180000.0,166500.0,166500.0,180000.0,180000.0,180000.0,90000.0,90000.0,90000.0,90000.0,121500.0,148500.0,148500.0,148500.0,202500.0,292500.0,292500.0,292500.0,292500.0,292500.0,135000.0,135000.0,108000.0,90000.0,90000.0,90000.0,90000.0,90000.0,90000.0,90000.0,90000.0,90000.0,247500.0,247500.0,247500.0,247500.0,180000.0,180000.0,180000.0,180000.0,90000.0,90000.0,144000.0,144000.0,144000.0,144000.0,144000.0,144000.0,144000.0,112500.0,76500.0,135000.0,135000.0,135000.0,135000.0,157500.0,157500.0,157500.0,157500.0,157500.0,157500.0,148500.0,148500.0,148500.0,148500.0,148500.0,112500.0,135000.0,135000.0,135000.0,135000.0,337500.0,337500.0,247500.0,112500.0,112500.0,112500.0,112500.0,112500.0,180000.0,180000.0,180000.0,135000.0,135000.0,135000.0,135000.0,135000.0,135000.0,135000.0,144000.0,144000.0,144000.0,144000.0,144000.0,144000.0,112500.0,157500.0,157500.0,157500.0,157500.0,157500.0,157500.0,157500.0,157500.0,166500.0,166500.0,166500.0,166500.0,166500.0,166500.0,112500.0,112500.0,202500.0,157500.0,157500.0,157500.0,157500.0,157500.0,90000.0,112500.0,90000.0,180000.0,180000.0,180000.0,135000.0,135000.0,135000.0,135000.0,135000.0,135000.0,135000.0,135000.0,180000.0,69750.0,162000.0,162000.0,162000.0,112500.0,112500.0,112500.0,81000.0,81000.0,157500.0,157500.0,157500.0,157500.0,72000.0,72000.0,72000.0,72000.0,261000.0,99000.0,99000.0,99000.0,99000.0,265500.0,265500.0,315000.0,315000.0,315000.0,315000.0,315000.0,315000.0,315000.0,76500.0,76500.0,76500.0,76500.0,76500.0,315000.0,247500.0,247500.0,247500.0,247500.0,247500.0,247500.0,112500.0,112500.0,112500.0,225000.0,225000.0,225000.0,225000.0,225000.0,306000.0,306000.0,306000.0,306000.0,306000.0,306000.0,74250.0,74250.0,74250.0,74250.0,144000.0,144000.0,144000.0,144000.0,144000.0,144000.0,144000.0,144000.0,144000.0,112500.0,112500.0,162000.0,162000.0,162000.0,162000.0,162000.0,162000.0,162000.0,162000.0,162000.0,225000.0,225000.0,112500.0,112500.0,67500.0,67500.0,90000.0,168750.0,126000.0,126000.0,126000.0,274500.0,274500.0,274500.0,202500.0,202500.0,94500.0,94500.0,94500.0,157500.0,162000.0,162000.0,162000.0,162000.0,135000.0,292500.0,292500.0,292500.0,135000.0,135000.0,90000.0,90000.0,157500.0,157500.0,157500.0,157500.0,112500.0,157500.0,135000.0,58500.0,58500.0,292500.0,292500.0,292500.0,292500.0,292500.0,292500.0,187650.0,187650.0,90000.0,112500.0,76500.0,76500.0,76500.0,76500.0,76500.0,117000.0,117000.0,117000.0,117000.0,117000.0,117000.0,117000.0,117000.0,202500.0,202500.0,202500.0,67500.0,67500.0,90000.0,90000.0,90000.0,90000.0,112500.0,112500.0,112500.0,112500.0,112500.0,67500.0,207000.0,207000.0,207000.0,135000.0,135000.0,180000.0,180000.0,180000.0,180000.0,222750.0,222750.0,67500.0,67500.0,67500.0,67500.0,216000.0,135000.0,135000.0,135000.0,135000.0,135000.0,135000.0,135000.0,135000.0,135000.0,135000.0,144000.0,144000.0,225000.0,225000.0,121500.0,135000.0,135000.0,32400.0,32400.0,225000.0,67500.0,360000.0,108000.0,108000.0,108000.0,135000.0,135000.0,135000.0,67500.0,90000.0,90000.0,90000.0,90000.0,225000.0,225000.0,225000.0,157500.0,157500.0,157500.0,157500.0,157500.0,247500.0,315000.0,315000.0,315000.0,315000.0,157500.0,121500.0,121500.0,121500.0,121500.0,121500.0,216000.0,81000.0,81000.0,76500.0,76500.0,76500.0,180000.0,180000.0,180000.0,157500.0,157500.0,112500.0,112500.0,112500.0,112500.0,112500.0,180000.0,126000.0,126000.0,247500.0,225000.0,135000.0,135000.0,135000.0,135000.0,144000.0,144000.0,144000.0,144000.0,144000.0,144000.0,38025.0,180000.0,180000.0,180000.0,180000.0,180000.0,180000.0,112500.0,90000.0,90000.0,90000.0,72000.0,153000.0,72000.0,72000.0,270000.0,270000.0,270000.0,270000.0,270000.0,247500.0,180000.0,180000.0,180000.0,180000.0,135000.0,135000.0,135000.0,180000.0,180000.0,225000.0,225000.0,202500.0,202500.0,202500.0,202500.0,202500.0,202500.0,225000.0,225000.0,225000.0,225000.0,225000.0,180000.0,78750.0,78750.0,78750.0,202500.0,202500.0,135000.0,45000.0,45000.0,180000.0,180000.0,171000.0,171000.0,171000.0,171000.0,171000.0,171000.0,90000.0,90000.0,90000.0,90000.0,90000.0,90000.0,90000.0,90000.0,90000.0,76500.0,76500.0,76500.0,76500.0,112500.0,112500.0,112500.0,270000.0,225000.0,225000.0,225000.0,225000.0,166500.0,315000.0,315000.0,315000.0,202500.0,202500.0,157500.0,157500.0,157500.0,157500.0,157500.0,202500.0,202500.0,202500.0,202500.0,202500.0,202500.0,360000.0,360000.0,360000.0,99000.0,99000.0,112500.0,112500.0,112500.0,112500.0,112500.0,112500.0,112500.0,360000.0,360000.0,360000.0,360000.0,139500.0,139500.0,139500.0,139500.0,139500.0,139500.0,139500.0,139500.0,139500.0,67500.0,67500.0,270000.0,270000.0,148500.0,112500.0,112500.0,135000.0,112500.0,112500.0,112500.0,144000.0,180000.0,180000.0,180000.0,180000.0,180000.0,202500.0,81000.0,81000.0,81000.0,81000.0,81000.0,81000.0,81000.0,81000.0,81000.0,81000.0,81000.0,81000.0,162000.0,157500.0,135000.0,135000.0,135000.0,135000.0,135000.0,135000.0,135000.0,135000.0,135000.0,135000.0,180000.0,180000.0,180000.0,180000.0,90000.0,90000.0,90000.0,90000.0,90000.0,90000.0,270000.0,270000.0,270000.0,270000.0,270000.0,270000.0,270000.0,270000.0,135000.0,135000.0,135000.0,135000.0,135000.0,135000.0,292500.0,67500.0,67500.0,180000.0,180000.0,180000.0,112500.0,225000.0,225000.0,225000.0,225000.0,225000.0,225000.0,90000.0,157500.0,157500.0,157500.0,157500.0,292500.0,292500.0,171000.0,171000.0,171000.0,171000.0,90000.0,108000.0,108000.0,76500.0,76500.0,76500.0,76500.0,76500.0,76500.0,76500.0,112500.0,112500.0,135000.0,270000.0,270000.0,270000.0,270000.0,270000.0,270000.0,270000.0,180000.0,180000.0,180000.0,180000.0,135000.0,135000.0,135000.0,157500.0,157500.0,157500.0,157500.0,135000.0,135000.0,337500.0,337500.0,67500.0,193500.0,315000.0,315000.0,315000.0,315000.0,315000.0,315000.0,315000.0,337500.0,180000.0,180000.0,180000.0,135000.0,135000.0,135000.0,225000.0,81000.0,81000.0,81000.0,72000.0,130500.0,270000.0,270000.0,270000.0,270000.0,157500.0,135000.0,135000.0,126000.0,126000.0,126000.0,126000.0,180000.0,180000.0,180000.0,147150.0,157500.0,157500.0,157500.0,157500.0,247500.0,247500.0,247500.0,180000.0,180000.0,247500.0,247500.0,247500.0,247500.0,225000.0,225000.0,81000.0,81000.0,315000.0,315000.0,135000.0,135000.0,135000.0,135000.0,202500.0,202500.0,202500.0,99000.0,247500.0,247500.0,270000.0,270000.0,225000.0,225000.0,180000.0,180000.0,180000.0,67500.0,135000.0,117000.0,112500.0,112500.0,202500.0,202500.0,270000.0,270000.0,270000.0,270000.0,103500.0,103500.0,103500.0,103500.0,103500.0,112500.0,315000.0,220500.0,220500.0,220500.0,220500.0,202500.0,72000.0,360000.0,180000.0,225000.0,234000.0,234000.0,234000.0,234000.0,234000.0,234000.0,234000.0,234000.0,234000.0,135000.0,157500.0,157500.0,157500.0,90000.0,112500.0,112500.0,225000.0,139500.0,112500.0,112500.0,112500.0,112500.0,112500.0,202500.0,202500.0,202500.0,202500.0,202500.0,202500.0,135000.0,135000.0,135000.0,90000.0,90000.0,157500.0,157500.0,157500.0,157500.0,157500.0,157500.0,157500.0,166500.0,157500.0,157500.0,180000.0,180000.0,225000.0,225000.0,225000.0,225000.0,225000.0,337500.0,337500.0,337500.0,225000.0,225000.0,225000.0,157500.0,103500.0,157500.0,360000.0,360000.0,360000.0,360000.0,360000.0,90000.0,90000.0,90000.0,202500.0,202500.0,126000.0,126000.0,126000.0,148500.0,148500.0,148500.0,148500.0,148500.0,148500.0,180000.0,292500.0,292500.0,292500.0,292500.0,292500.0,135000.0,135000.0,337500.0,337500.0,337500.0,337500.0,337500.0,337500.0,157500.0,157500.0,247500.0,247500.0,247500.0,157500.0,180000.0,135000.0,202500.0,202500.0,202500.0,202500.0,202500.0,202500.0,360000.0,360000.0,360000.0,135000.0,135000.0,135000.0,292500.0,292500.0,112500.0,112500.0,81000.0,81000.0,135000.0,130500.0,130500.0,247500.0,189000.0,189000.0,189000.0,315000.0,315000.0,162000.0,162000.0,162000.0,337500.0,337500.0,337500.0,337500.0,337500.0,337500.0,112500.0,112500.0,112500.0,112500.0,112500.0,112500.0,112500.0,207000.0,207000.0,202500.0,202500.0,180000.0,58500.0,58500.0,58500.0,58500.0,135000.0,135000.0,135000.0,135000.0,315000.0,315000.0,112500.0,121500.0,121500.0,121500.0,202500.0,202500.0,202500.0,202500.0,202500.0,202500.0,171000.0,171000.0,171000.0,171000.0,171000.0,171000.0,58500.0,58500.0,58500.0,49500.0,49500.0,225000.0,180000.0,180000.0,180000.0,180000.0,180000.0,225000.0,225000.0,225000.0,225000.0,94500.0,94500.0,94500.0,94500.0,225000.0,148500.0,148500.0,148500.0,148500.0,148500.0,148500.0,90000.0,315000.0,315000.0,315000.0,121500.0,121500.0,121500.0,121500.0,121500.0,157500.0,157500.0,157500.0,157500.0,90000.0,243000.0,243000.0,202500.0,247500.0,247500.0,247500.0,126000.0,126000.0,126000.0,126000.0,126000.0,126000.0,112500.0,112500.0,112500.0,112500.0,112500.0,112500.0,112500.0,225000.0,292500.0,292500.0,292500.0,292500.0,292500.0,157500.0,157500.0,112500.0,112500.0,117000.0,117000.0,175500.0,247500.0,247500.0,247500.0,45000.0,45000.0,45000.0,45000.0,45000.0,45000.0,45000.0,45000.0,292500.0,292500.0,292500.0,337500.0,337500.0,337500.0,337500.0,225000.0,225000.0,225000.0,225000.0,225000.0,225000.0,135000.0,135000.0,135000.0,135000.0,207000.0,135000.0,135000.0,135000.0,135000.0,135000.0,135000.0,135000.0,135000.0,112500.0,112500.0,202500.0,202500.0,119700.0,81000.0,81000.0,81000.0,144000.0,144000.0,144000.0,292500.0,99000.0,99000.0,99000.0,292500.0,225000.0,225000.0,270000.0,135000.0,135000.0,112500.0,180000.0,180000.0,112500.0,112500.0,112500.0,112500.0,112500.0,112500.0,112500.0,157500.0,157500.0,157500.0,157500.0,157500.0,270000.0,270000.0,225000.0,225000.0,225000.0,225000.0,225000.0,157500.0,157500.0,157500.0,360000.0,360000.0,270000.0,270000.0,270000.0,270000.0,382500.0,382500.0,382500.0,382500.0,234000.0,234000.0,382500.0,382500.0,112500.0,117000.0,117000.0,117000.0,315000.0,315000.0,315000.0,157500.0,180000.0,180000.0,180000.0,180000.0,180000.0,180000.0,180000.0,135000.0,135000.0,112500.0,112500.0,112500.0,112500.0,103500.0,135000.0,135000.0,157500.0,157500.0,157500.0,157500.0,157500.0,157500.0,157500.0,166500.0,135000.0,135000.0,135000.0,360000.0,157500.0,135000.0,135000.0,112500.0,112500.0,112500.0,135000.0,135000.0,135000.0,135000.0,135000.0,166500.0,166500.0,166500.0,202500.0,202500.0,202500.0,202500.0,202500.0,202500.0,54000.0,247500.0,148500.0,148500.0,135000.0,135000.0,135000.0,225000.0,225000.0,180000.0,180000.0,180000.0,171000.0,171000.0,171000.0,270000.0,270000.0,270000.0,270000.0,270000.0,112500.0,112500.0,112500.0,112500.0,112500.0,90000.0,306000.0,306000.0,306000.0,108000.0,108000.0,108000.0,108000.0,108000.0,112500.0,112500.0,112500.0,121500.0,121500.0,67500.0,67500.0,67500.0,67500.0,67500.0,67500.0,67500.0,67500.0,360000.0,94500.0,94500.0,135000.0,157500.0,225000.0,225000.0,112500.0,112500.0,112500.0,112500.0,112500.0,112500.0,112500.0,360000.0,360000.0,360000.0,157500.0,157500.0,157500.0,157500.0,157500.0,157500.0,157500.0,112500.0,112500.0,112500.0,112500.0,112500.0,90000.0,180000.0,180000.0,360000.0,360000.0,72000.0,72000.0,72000.0,72000.0,72000.0,72000.0,72000.0,202500.0,202500.0,202500.0,202500.0,202500.0,202500.0,202500.0,202500.0,202500.0,202500.0,202500.0,202500.0,67500.0,67500.0,135000.0,135000.0,180000.0,180000.0,144000.0,144000.0,112500.0,112500.0,112500.0,112500.0,121500.0,27000.0,27000.0,270000.0,270000.0,270000.0,94500.0,94500.0,94500.0,270000.0,270000.0,270000.0,270000.0,270000.0,270000.0,270000.0,270000.0,270000.0,270000.0,162000.0,162000.0,162000.0,180000.0,180000.0,180000.0,180000.0,135000.0,216000.0,216000.0,216000.0,216000.0,216000.0,216000.0,216000.0,112500.0,112500.0,112500.0,112500.0,72000.0,72000.0,72000.0,72000.0,157500.0,157500.0,157500.0,67500.0,67500.0,162000.0,162000.0,162000.0,162000.0,135000.0,121500.0,225000.0,225000.0,225000.0,225000.0,225000.0,225000.0,225000.0,112500.0,112500.0,270000.0,270000.0,270000.0,121500.0,121500.0,121500.0,112500.0,112500.0,112500.0,180000.0,270000.0,270000.0,270000.0,270000.0,270000.0,270000.0,270000.0,270000.0,157500.0,157500.0,157500.0,157500.0,157500.0,157500.0,157500.0,225000.0,225000.0,216000.0,216000.0,216000.0,216000.0,135000.0,135000.0,157500.0,157500.0,157500.0,157500.0,157500.0,157500.0,157500.0,157500.0,180000.0,135000.0,135000.0,135000.0,135000.0,135000.0,180000.0,180000.0,180000.0,180000.0,180000.0,180000.0,180000.0,180000.0,180000.0,157500.0,157500.0,157500.0,157500.0,157500.0,157500.0,157500.0,157500.0,157500.0,157500.0,162000.0,162000.0,162000.0,90000.0,90000.0,90000.0,90000.0,90000.0,180000.0,180000.0,180000.0,112500.0,112500.0,112500.0,112500.0,112500.0,112500.0,112500.0,112500.0,126000.0,315000.0,315000.0,94500.0,94500.0,135000.0,157500.0,112500.0,112500.0,157500.0,157500.0,76500.0,76500.0,270000.0,76500.0,76500.0,76500.0,76500.0,76500.0,202500.0,67500.0,171000.0,270000.0,112500.0,112500.0,112500.0,112500.0,112500.0,112500.0,90000.0,157500.0,157500.0,157500.0,157500.0,157500.0,225000.0,225000.0,225000.0,112500.0,112500.0,112500.0,112500.0,112500.0,112500.0,112500.0,225000.0,225000.0,135000.0,135000.0,135000.0,135000.0,157500.0,157500.0,270000.0,270000.0,270000.0,270000.0,202500.0,202500.0,202500.0,202500.0,121500.0,135000.0,135000.0,135000.0,135000.0,112500.0,112500.0,157500.0,157500.0,157500.0,157500.0,157500.0,157500.0,247500.0,180000.0,180000.0,81000.0,81000.0,81000.0,81000.0,47250.0,67500.0,67500.0,67500.0,90000.0,270000.0,270000.0,270000.0,270000.0,270000.0,225000.0,270000.0,270000.0,270000.0,270000.0,270000.0,166500.0,112500.0,112500.0,112500.0,112500.0,112500.0,112500.0,112500.0,351000.0,351000.0,351000.0,351000.0,351000.0,157500.0,157500.0,157500.0,90000.0,90000.0,90000.0,90000.0,90000.0,90000.0,61875.0,61875.0,61875.0,292500.0,54000.0,54000.0,90000.0,112500.0,112500.0,112500.0,112500.0,112500.0,157500.0,157500.0,157500.0,157500.0,112500.0,112500.0,112500.0,229500.0,229500.0,229500.0,67500.0,67500.0,67500.0,67500.0,135000.0,135000.0,135000.0,292500.0,292500.0,292500.0,225000.0,225000.0,355500.0,355500.0,355500.0,355500.0,355500.0,355500.0,112500.0,112500.0,112500.0,112500.0,112500.0,184500.0,184500.0,144000.0,144000.0,157500.0,157500.0,157500.0,157500.0,157500.0,157500.0,157500.0,157500.0,157500.0,157500.0,157500.0,153000.0,153000.0,90000.0,135000.0,135000.0,157500.0,157500.0,157500.0,157500.0,117000.0,135000.0,135000.0,270000.0,270000.0,270000.0,135000.0,103500.0,180000.0,144000.0,144000.0,144000.0,144000.0,247500.0,79650.0,184500.0,184500.0,184500.0,90000.0,33300.0,33300.0,33300.0,33300.0,33300.0,33300.0,33300.0,33300.0,180000.0,135000.0,175500.0,112500.0,292500.0,292500.0,292500.0,292500.0,292500.0,292500.0,292500.0,135000.0,315000.0,135000.0,135000.0,135000.0,180000.0,144000.0,144000.0,144000.0,144000.0,144000.0,144000.0,144000.0,144000.0,112500.0,90000.0,121500.0,292500.0,202500.0,180000.0,135000.0,54000.0,54000.0,54000.0,225000.0,225000.0,67500.0,67500.0,67500.0,67500.0,157500.0,157500.0,157500.0,135000.0,135000.0,315000.0,81000.0,292500.0,292500.0,225000.0,202500.0,135000.0,135000.0,135000.0,112500.0,157500.0,225000.0,225000.0,220500.0,126000.0,112500.0,157500.0,157500.0,157500.0,157500.0,157500.0,67500.0,112500.0,225000.0,225000.0,144000.0,144000.0,162000.0,216000.0,216000.0,225000.0,225000.0,112500.0,112500.0,112500.0,112500.0,387000.0,387000.0,387000.0,387000.0,387000.0,387000.0,387000.0,157500.0,126000.0,126000.0,126000.0,126000.0,126000.0,162000.0,162000.0,225000.0,225000.0,225000.0,225000.0,225000.0,225000.0,225000.0,130500.0,121500.0,121500.0,121500.0,234000.0,234000.0,234000.0,234000.0,234000.0,67500.0,315000.0,315000.0,315000.0,225000.0,135000.0,225000.0,225000.0,225000.0,225000.0,225000.0,225000.0,225000.0,225000.0,180000.0,180000.0,162000.0,180000.0,180000.0,180000.0,180000.0,180000.0,180000.0,180000.0,180000.0,121500.0,121500.0,121500.0,135000.0,135000.0,135000.0,135000.0,225000.0,225000.0,225000.0,225000.0,225000.0,225000.0,202500.0,202500.0,202500.0,112500.0,112500.0,112500.0,252000.0,252000.0,252000.0,202500.0,202500.0,202500.0,202500.0,202500.0,202500.0,202500.0,157500.0,157500.0,157500.0,99000.0,99000.0,225000.0,225000.0,225000.0,180000.0,135000.0,135000.0,135000.0,135000.0,135000.0,135000.0,135000.0,135000.0,180000.0,180000.0,121500.0,337500.0,140850.0,202500.0,225000.0,225000.0,180000.0,112500.0,112500.0,265500.0,265500.0,265500.0,265500.0,265500.0,126000.0,126000.0,126000.0,135000.0,157500.0,157500.0,157500.0,270000.0,270000.0,270000.0,112500.0,112500.0,90000.0,90000.0,90000.0,90000.0,225000.0,225000.0,112500.0,112500.0,157500.0,157500.0,220500.0,220500.0,220500.0,220500.0,220500.0,180000.0,180000.0,195750.0,195750.0,180000.0,112500.0,112500.0,360000.0,270000.0,270000.0,270000.0,270000.0,225000.0,225000.0,225000.0,180000.0,99000.0,99000.0,99000.0,216000.0,216000.0,216000.0,56250.0,56250.0,184500.0,184500.0,292500.0,292500.0,292500.0,292500.0,225000.0,180000.0,135000.0,135000.0,135000.0,135000.0,225000.0,225000.0,225000.0,67500.0,67500.0,67500.0,67500.0,135000.0,112500.0,112500.0,112500.0,112500.0,112500.0,112500.0,112500.0,112500.0,112500.0,112500.0,112500.0,112500.0,117000.0,117000.0,117000.0,225000.0,225000.0,225000.0,225000.0,225000.0,135000.0,180000.0,108000.0,135000.0,157500.0,157500.0,126000.0,126000.0,126000.0,126000.0,126000.0,90000.0,90000.0,90000.0,90000.0,90000.0,90000.0,90000.0,90000.0,90000.0,90000.0,90000.0,90000.0,90000.0,90000.0,90000.0,90000.0,90000.0,90000.0,180000.0,180000.0,90000.0,90000.0,90000.0,90000.0,90000.0,90000.0,90000.0,180000.0,180000.0,180000.0,180000.0,180000.0,180000.0,180000.0,180000.0,135000.0,67500.0,67500.0,270000.0,162000.0,162000.0,162000.0,162000.0,162000.0,99000.0,99000.0,99000.0,99000.0,90000.0,90000.0,90000.0,90000.0,216000.0,49500.0,90000.0,90000.0,90000.0,90000.0,90000.0,90000.0,90000.0,171000.0,171000.0,171000.0,171000.0,135000.0,135000.0,157500.0,157500.0,90000.0,90000.0,157500.0,157500.0,29250.0,29250.0,180000.0,76500.0,76500.0,101250.0,101250.0,315000.0,112500.0,270000.0,270000.0,270000.0,135000.0,135000.0,67500.0,157500.0,157500.0,157500.0,157500.0,112500.0,112500.0,112500.0,112500.0,202500.0,265500.0,265500.0,135000.0,135000.0,135000.0,135000.0,135000.0,135000.0,135000.0,135000.0,112500.0,216000.0,216000.0,67500.0,67500.0,351000.0,351000.0,351000.0,351000.0,351000.0,351000.0,112500.0,112500.0,112500.0,225000.0,225000.0,360000.0,315000.0,315000.0,179271.0,135000.0,135000.0,135000.0,135000.0,135000.0,90000.0,90000.0,90000.0,90000.0,90000.0,360000.0,360000.0,234000.0,180000.0,180000.0,180000.0,180000.0,270000.0,270000.0,270000.0,166500.0,247500.0,247500.0,247500.0,157500.0,157500.0,202500.0,202500.0,202500.0,202500.0,180000.0,180000.0,180000.0,180000.0,225000.0,225000.0,225000.0,225000.0,135000.0,153000.0,153000.0,135000.0,135000.0,135000.0,306000.0,306000.0,306000.0,306000.0,247500.0,247500.0,225000.0,225000.0,225000.0,225000.0,139500.0,139500.0,139500.0,139500.0,139500.0,139500.0,247500.0,90000.0,225000.0,225000.0,225000.0,180000.0,180000.0,180000.0,180000.0,180000.0,180000.0,180000.0,180000.0,180000.0,112500.0,112500.0,81000.0,103500.0,103500.0,103500.0,103500.0,103500.0,103500.0,54000.0,54000.0,99000.0,99000.0,99000.0,99000.0,99000.0,87448.5,216000.0,216000.0,216000.0,315000.0,315000.0,315000.0,315000.0,315000.0,315000.0,315000.0,315000.0,315000.0,247500.0,180000.0,180000.0,180000.0,180000.0,90000.0,90000.0,90000.0,180000.0,180000.0,180000.0,360000.0,360000.0,360000.0,135000.0,135000.0,135000.0,337500.0,337500.0,337500.0,81000.0,58500.0,58500.0,58500.0,157500.0,157500.0,90000.0,90000.0,90000.0,90000.0,326250.0,326250.0,326250.0,326250.0,326250.0,292500.0,292500.0,292500.0,292500.0,292500.0,292500.0,292500.0,292500.0,225000.0,225000.0,225000.0,211500.0,211500.0,211500.0,211500.0,211500.0,211500.0,211500.0,211500.0,211500.0,225000.0,225000.0,225000.0,135000.0,153000.0,67500.0,67500.0,67500.0,67500.0,67500.0,67500.0,45000.0,90000.0,90000.0,90000.0,90000.0,90000.0,90000.0,90000.0,90000.0,90000.0,90000.0,90000.0,90000.0,90000.0,90000.0,90000.0,90000.0,135000.0,180000.0,180000.0,180000.0,180000.0,180000.0,180000.0,180000.0,180000.0,180000.0,180000.0,225000.0,90000.0,90000.0,90000.0,135000.0,135000.0,135000.0,135000.0,135000.0,166500.0,166500.0,166500.0,166500.0,166500.0,166500.0,166500.0,135000.0,135000.0,135000.0,234000.0,234000.0,234000.0,225000.0,225000.0,225000.0,157500.0,157500.0,157500.0,157500.0,157500.0,157500.0,157500.0,135000.0,135000.0,135000.0,135000.0,135000.0,135000.0,36900.0,36900.0,36900.0,36900.0,36900.0,157500.0,157500.0,157500.0,225000.0,315000.0,126000.0,81000.0,81000.0,72000.0,135000.0,135000.0,135000.0,135000.0,135000.0,135000.0,135000.0,135000.0,337500.0,337500.0,337500.0,202500.0,202500.0,202500.0,202500.0,202500.0,202500.0,112500.0,112500.0,112500.0,112500.0,180000.0,180000.0,180000.0,180000.0,180000.0,180000.0,157500.0,157500.0,157500.0,157500.0,157500.0,225000.0,225000.0,225000.0,225000.0,103500.0,103500.0,103500.0,103500.0,157500.0,157500.0,157500.0,135000.0,135000.0,135000.0,135000.0,135000.0,135000.0,157500.0,157500.0,157500.0,157500.0,225000.0,225000.0,225000.0,315000.0,315000.0,180000.0,180000.0,292500.0,135000.0,135000.0,135000.0,180000.0,180000.0,180000.0,135000.0,135000.0,135000.0,157500.0,157500.0,157500.0,157500.0,157500.0,157500.0,157500.0,157500.0,360000.0,360000.0,360000.0,360000.0,360000.0,360000.0,135000.0,135000.0,216000.0,225000.0,225000.0,225000.0,180000.0,135000.0,135000.0,135000.0,135000.0,67500.0,126000.0,126000.0,135000.0,135000.0,135000.0,135000.0,135000.0,135000.0,135000.0,157500.0,157500.0,157500.0,157500.0,108000.0,180000.0,180000.0,180000.0,180000.0,180000.0,180000.0,121500.0,121500.0,157500.0,157500.0,157500.0,157500.0,157500.0,67500.0,67500.0,67500.0,103500.0,112500.0,247500.0,202500.0,202500.0,202500.0,202500.0,121500.0,121500.0,121500.0,121500.0,121500.0,121500.0,135000.0,31531.5,117000.0,117000.0,117000.0,117000.0,247500.0,247500.0,247500.0,247500.0,247500.0,247500.0,112500.0,112500.0,135000.0,135000.0,135000.0,135000.0,94500.0,135000.0,135000.0,112500.0,112500.0,112500.0,180000.0,180000.0,180000.0,180000.0,135000.0,135000.0,135000.0,135000.0,166500.0,166500.0,225000.0,225000.0,225000.0,225000.0,225000.0,225000.0,225000.0,270000.0,270000.0,270000.0,270000.0,270000.0,270000.0,270000.0,270000.0,270000.0,270000.0,99000.0,99000.0,99000.0,135000.0,135000.0,135000.0,135000.0,135000.0,135000.0,49500.0,49500.0,49500.0,225000.0,225000.0,157500.0,157500.0,157500.0,157500.0,157500.0,225000.0,225000.0,225000.0,225000.0,225000.0,180000.0,180000.0,180000.0,180000.0,121500.0,121500.0,121500.0,121500.0,121500.0,157500.0,157500.0,157500.0,157500.0,202500.0,202500.0,99000.0,99000.0,99000.0,99000.0,166500.0,166500.0,166500.0,247500.0,247500.0,247500.0,247500.0,180000.0,180000.0,180000.0,180000.0,126000.0,90000.0,90000.0,135000.0,135000.0,157500.0,202500.0,202500.0,202500.0,202500.0,105750.0,337500.0,337500.0,337500.0,337500.0,337500.0,337500.0,180000.0,180000.0,180000.0,180000.0,180000.0,157500.0,157500.0,157500.0,112500.0,90000.0,108000.0,108000.0,108000.0,108000.0,108000.0,108000.0,108000.0,108000.0,202500.0,202500.0,157500.0,157500.0,189000.0,112500.0,112500.0,112500.0,112500.0,166500.0,166500.0,166500.0,166500.0,166500.0,166500.0,166500.0,166500.0,112500.0,112500.0,112500.0,189000.0,189000.0,189000.0,189000.0,189000.0,189000.0,121500.0,121500.0,121500.0,121500.0,121500.0,121500.0,135000.0,135000.0,135000.0,135000.0,135000.0,157500.0,157500.0,157500.0,157500.0,67500.0,67500.0,67500.0,67500.0,225000.0,225000.0,225000.0,166500.0,135000.0,135000.0,121500.0,238500.0,180000.0,180000.0,180000.0,180000.0,180000.0,180000.0,90000.0,90000.0,157500.0,225000.0,225000.0,225000.0,90000.0,90000.0,90000.0,90000.0,180000.0,180000.0,180000.0,135000.0,135000.0,135000.0,225000.0,225000.0,225000.0,225000.0,135000.0,135000.0,135000.0,135000.0,135000.0,360000.0,360000.0,360000.0,360000.0,193500.0,81000.0,81000.0,247500.0,126000.0,126000.0,126000.0,126000.0,126000.0,126000.0,126000.0,126000.0,225000.0,225000.0,135000.0,166500.0,166500.0,270000.0,270000.0,112500.0,99000.0,99000.0,99000.0,67500.0,157500.0,157500.0,112500.0,112500.0,112500.0,157500.0,315000.0,315000.0,315000.0,315000.0,315000.0,315000.0,112500.0,112500.0,112500.0,180000.0,180000.0,180000.0,225000.0,225000.0,225000.0,157500.0,180000.0,180000.0,283500.0,283500.0,360000.0,360000.0,144000.0,144000.0,144000.0,144000.0,144000.0,144000.0,90000.0,90000.0,360000.0,360000.0,360000.0,360000.0,360000.0,360000.0,360000.0,360000.0,315000.0,315000.0,315000.0,247500.0,247500.0,67500.0,337500.0,337500.0,180000.0,180000.0,225000.0,90000.0,90000.0,90000.0,90000.0,90000.0,360000.0,112500.0,112500.0,202500.0,202500.0,157500.0,112500.0,112500.0,112500.0,112500.0,202500.0,202500.0,202500.0,112500.0,112500.0,112500.0,112500.0,270000.0,270000.0,270000.0,270000.0,270000.0,180000.0,180000.0,225000.0,225000.0,270000.0,270000.0,171000.0,171000.0,171000.0,180000.0,180000.0,180000.0,180000.0,99000.0,99000.0,99000.0,99000.0,99000.0,99000.0,99000.0,189000.0,97650.0,97650.0,97650.0,97650.0,97650.0,360000.0,360000.0,162000.0,135000.0,261000.0,81000.0,81000.0,360000.0,360000.0,360000.0,135000.0,135000.0,135000.0,225000.0,157500.0,157500.0,157500.0,157500.0,202500.0,202500.0,180000.0,180000.0,180000.0,180000.0,180000.0,180000.0,180000.0,202500.0,202500.0,202500.0,202500.0,202500.0,144000.0,112500.0,112500.0,112500.0,112500.0,112500.0,112500.0,112500.0,180000.0,180000.0,157500.0,135000.0,112500.0,112500.0,112500.0,112500.0,225000.0,135000.0,135000.0,135000.0,135000.0,135000.0,90000.0,185400.0,185400.0,185400.0,185400.0,185400.0,185400.0,185400.0,185400.0,185400.0,135000.0,135000.0,270000.0,270000.0,270000.0,270000.0,270000.0,157500.0,157500.0,157500.0,157500.0,157500.0,225000.0,225000.0,225000.0,315000.0,315000.0,315000.0,315000.0,315000.0,315000.0,90000.0,67500.0,157500.0,157500.0,157500.0,157500.0,117000.0,117000.0,117000.0,112500.0,112500.0,76500.0,76500.0,76500.0,76500.0,166500.0,166500.0,166500.0,166500.0,135000.0,135000.0,135000.0,135000.0,135000.0,135000.0,135000.0,135000.0,135000.0,135000.0,135000.0,135000.0,157500.0,157500.0,135000.0,135000.0,189000.0,189000.0,76500.0,76500.0,202500.0,202500.0,45000.0,45000.0,157500.0,157500.0,67500.0,67500.0,90000.0,90000.0,225000.0,157500.0,157500.0,157500.0,90000.0,90000.0,157500.0,157500.0,157500.0,157500.0,157500.0,216000.0,114750.0,114750.0,225000.0,225000.0,225000.0,225000.0,225000.0,126000.0,135000.0,135000.0,234000.0,234000.0,301500.0,301500.0,301500.0,301500.0,301500.0,301500.0,301500.0,180000.0,180000.0,315000.0,315000.0,76500.0,76500.0,76500.0,81000.0,81000.0,81000.0,81000.0,216000.0,216000.0,180000.0,180000.0,180000.0,270000.0,270000.0,270000.0,225000.0,225000.0,225000.0,225000.0,180000.0,180000.0,180000.0,180000.0,180000.0,180000.0,180000.0,180000.0,90000.0,225000.0,225000.0,180000.0,117000.0,117000.0,117000.0,90000.0,90000.0,126000.0,126000.0,126000.0,90000.0,90000.0,90000.0,90000.0,157500.0,157500.0,157500.0,157500.0,207000.0,135000.0,135000.0,135000.0,112500.0,112500.0,112500.0,112500.0,95850.0,95850.0,95850.0,121500.0,207000.0,207000.0,121500.0,121500.0,121500.0,202500.0,202500.0,202500.0,202500.0,202500.0,202500.0,202500.0,135000.0,135000.0,144000.0,144000.0,144000.0,360000.0,360000.0,360000.0,360000.0,360000.0,360000.0,81000.0,81000.0,81000.0,81000.0,81000.0,81000.0,81000.0,81000.0,81000.0,67500.0,337500.0,337500.0,337500.0,117000.0,117000.0,184500.0,184500.0,184500.0,157500.0,157500.0,157500.0,72000.0,189000.0,189000.0,189000.0,90000.0,90000.0,202500.0,180000.0,180000.0,180000.0,180000.0,180000.0,180000.0,180000.0,180000.0,180000.0,180000.0,180000.0,202500.0,202500.0,202500.0,126000.0,126000.0,315000.0,315000.0,180000.0,180000.0,180000.0,180000.0,180000.0,180000.0,157500.0,157500.0,121500.0,225000.0,225000.0,180000.0,180000.0,180000.0,180000.0,180000.0,180000.0,135000.0,135000.0,135000.0,135000.0,135000.0,135000.0,135000.0,135000.0,58500.0,58500.0,58500.0,58500.0,58500.0,58500.0,247500.0,198000.0,81000.0,81000.0,81000.0,81000.0,81000.0,247500.0,247500.0,247500.0,247500.0,247500.0,247500.0,112500.0,112500.0,72000.0,72000.0,72000.0,72000.0,72000.0,292500.0,292500.0,292500.0,292500.0,292500.0,292500.0,292500.0,292500.0,292500.0,56250.0,56250.0,56250.0,49500.0,49500.0,49500.0,49500.0,49500.0,49500.0,49500.0,49500.0,49500.0,49500.0,202500.0,202500.0,225000.0,225000.0,180000.0,180000.0,180000.0,180000.0,180000.0,180000.0,180000.0,180000.0,180000.0,67500.0,67500.0,67500.0,261000.0,261000.0,261000.0,135000.0,135000.0,135000.0,135000.0,76500.0,180000.0,180000.0,180000.0,166500.0,166500.0,166500.0,166500.0,99000.0,99000.0,99000.0,99000.0,99000.0,99000.0,99000.0,99000.0,99000.0,180000.0,180000.0,180000.0,270000.0,270000.0,270000.0,270000.0,270000.0,270000.0,270000.0,225000.0,225000.0,225000.0,225000.0,225000.0,270000.0,270000.0,270000.0,135000.0,135000.0,135000.0,135000.0,360000.0,360000.0,360000.0,360000.0,360000.0,180000.0,180000.0,180000.0,180000.0,180000.0,135000.0,135000.0,157500.0,157500.0,157500.0,157500.0,157500.0,157500.0,157500.0,157500.0,157500.0,90000.0,90000.0,225000.0,225000.0,225000.0,225000.0,135000.0,135000.0,225000.0,180000.0,47250.0,112500.0,112500.0,135000.0,135000.0,135000.0,135000.0,135000.0,135000.0,135000.0,202500.0,202500.0,112500.0,112500.0,112500.0,112500.0,112500.0,112500.0,112500.0,112500.0,135000.0,135000.0,135000.0,180000.0,112500.0,112500.0,112500.0,112500.0,360000.0,360000.0,360000.0,360000.0,90000.0,90000.0,90000.0,90000.0,180000.0,180000.0,180000.0,225000.0,225000.0,225000.0,225000.0,225000.0,225000.0,225000.0,225000.0,225000.0,225000.0,225000.0,157500.0,157500.0,157500.0,157500.0,157500.0,202500.0,202500.0,202500.0,202500.0,157500.0,166500.0,157500.0,157500.0,157500.0,157500.0,157500.0,247500.0,67500.0,67500.0,180000.0,180000.0,135000.0,135000.0,135000.0,108000.0,108000.0,108000.0,157500.0,157500.0,157500.0,157500.0,157500.0,157500.0,157500.0,157500.0,157500.0,157500.0,157500.0,157500.0,157500.0,157500.0,135000.0,135000.0,135000.0,135000.0,135000.0,135000.0,135000.0,135000.0,135000.0,135000.0,247500.0,382500.0,382500.0,382500.0,382500.0,382500.0,114750.0,114750.0,114750.0,67500.0,112500.0,225000.0,135000.0,135000.0,135000.0,27000.0,157500.0,157500.0,157500.0,157500.0,198000.0,198000.0,216000.0,216000.0,216000.0,216000.0,216000.0,216000.0,54000.0,153000.0,135000.0,135000.0,135000.0,126000.0,126000.0,126000.0,126000.0,126000.0,126000.0,126000.0,126000.0,112500.0,112500.0,112500.0,112500.0,103500.0,103500.0,103500.0,103500.0,153000.0,153000.0,153000.0,153000.0,153000.0,153000.0,153000.0,153000.0,153000.0,144000.0,144000.0,144000.0,144000.0,74700.0,74700.0,74700.0,162000.0,135000.0,135000.0,135000.0,135000.0,315000.0,315000.0,315000.0,180000.0,180000.0,180000.0,180000.0,180000.0,117000.0,117000.0,117000.0,117000.0,117000.0,117000.0,117000.0,117000.0,117000.0,180000.0,180000.0,180000.0,247500.0,247500.0,247500.0,247500.0,247500.0,202500.0,202500.0,90000.0,90000.0,90000.0,90000.0,90000.0,90000.0,90000.0,90000.0,90000.0,90000.0,157500.0,157500.0,157500.0,157500.0,157500.0,121500.0,121500.0,121500.0,121500.0,121500.0,121500.0,121500.0,112500.0,112500.0,247500.0,247500.0,247500.0,247500.0,247500.0,81000.0,81000.0,112500.0,270000.0,270000.0,270000.0,270000.0,270000.0,270000.0,112500.0,112500.0,112500.0,112500.0,202500.0,202500.0,202500.0,270000.0,112500.0,112500.0,112500.0,157500.0,157500.0,157500.0,157500.0,157500.0,157500.0,157500.0,157500.0,234000.0,180000.0,180000.0,180000.0,180000.0,180000.0,90000.0,90000.0,90000.0,90000.0,90000.0,90000.0,270000.0,270000.0,148500.0,157500.0,157500.0,157500.0,202500.0,202500.0,202500.0,202500.0,135000.0,135000.0,247500.0,247500.0,247500.0,247500.0,81000.0,81000.0,81000.0,144000.0,144000.0,306000.0,67500.0,225000.0,225000.0,225000.0,225000.0,225000.0,62100.0,135000.0,135000.0,135000.0,135000.0,135000.0,90000.0,202500.0,247500.0,315000.0,315000.0,202500.0,202500.0,157500.0,292500.0,292500.0,292500.0,292500.0,270000.0,270000.0,270000.0,58500.0,81000.0,157500.0,157500.0,135000.0,135000.0,135000.0,135000.0,135000.0,135000.0,135000.0,135000.0,135000.0,315000.0,180000.0,180000.0,180000.0,85500.0,315000.0,315000.0,315000.0,180000.0,180000.0,202500.0,180000.0,180000.0,157500.0,157500.0,225000.0,90000.0,247500.0,117000.0,202500.0,135000.0,67500.0,67500.0,67500.0,67500.0,67500.0,67500.0,112500.0,256500.0,256500.0,256500.0,256500.0,256500.0,112500.0,180000.0,180000.0,180000.0,180000.0,180000.0,180000.0,180000.0,180000.0,180000.0,180000.0,225000.0,225000.0,225000.0,225000.0,225000.0,225000.0,225000.0,225000.0,72000.0,72000.0,72000.0,72000.0,72000.0,72000.0,72000.0,72000.0,90000.0,90000.0,90000.0,193500.0,193500.0,193500.0,193500.0,193500.0,193500.0,180000.0,180000.0,180000.0,180000.0,180000.0,180000.0,337500.0,337500.0,337500.0,337500.0,337500.0,337500.0,337500.0,157500.0,157500.0,157500.0,157500.0,130500.0,130500.0,130500.0,130500.0,112500.0,112500.0,112500.0,112500.0,112500.0,112500.0,112500.0,112500.0,225000.0,112500.0,112500.0,112500.0,157500.0,157500.0,157500.0,157500.0,157500.0,157500.0,225000.0,225000.0,225000.0,180000.0,202500.0,67500.0,180000.0,180000.0,180000.0,112500.0,360000.0,360000.0,360000.0,360000.0,157500.0,157500.0,157500.0,360000.0,360000.0,360000.0,360000.0,360000.0,360000.0,360000.0,360000.0,90000.0,225000.0,225000.0,225000.0,225000.0,157500.0,157500.0,157500.0,180000.0,180000.0,180000.0,180000.0,180000.0,180000.0,180000.0,108000.0,108000.0,148500.0,148500.0,148500.0,148500.0,148500.0,148500.0,148500.0,175500.0,175500.0,175500.0,175500.0,175500.0,175500.0,175500.0,175500.0,175500.0,175500.0,211500.0,157500.0,157500.0,157500.0,54000.0,180000.0,180000.0,157500.0,135000.0,135000.0,135000.0,135000.0,135000.0,135000.0,216000.0,247500.0,162000.0,162000.0,180000.0,180000.0,180000.0,180000.0,180000.0,180000.0,202500.0,202500.0,202500.0,202500.0,270000.0,270000.0,382500.0,382500.0,202500.0,202500.0,202500.0,157500.0,157500.0,157500.0,157500.0,238500.0,238500.0,238500.0,238500.0,238500.0,238500.0,238500.0,90000.0,211500.0,135000.0,135000.0,135000.0,135000.0,135000.0,135000.0,180000.0,180000.0,180000.0,180000.0,180000.0,180000.0,180000.0,180000.0,180000.0,81000.0,67500.0,270000.0,270000.0,157500.0,157500.0,157500.0,157500.0,180000.0,180000.0,135000.0,135000.0,67500.0,67500.0,67500.0,202500.0,202500.0,202500.0,202500.0,202500.0,135000.0,135000.0,135000.0,135000.0,135000.0,135000.0,225000.0,180000.0,270000.0,270000.0,270000.0,157500.0,157500.0,225000.0,198000.0,198000.0,198000.0,112500.0,112500.0,112500.0,112500.0,112500.0,112500.0,112500.0,211500.0,211500.0,211500.0,211500.0,211500.0,112500.0,261000.0,261000.0,261000.0,261000.0,261000.0,261000.0,90000.0,90000.0,90000.0,90000.0,135000.0,135000.0,135000.0,135000.0,135000.0,180000.0,135000.0,135000.0,135000.0,135000.0,135000.0,135000.0,135000.0,360000.0,360000.0,360000.0,360000.0,360000.0,360000.0,360000.0,180000.0,180000.0,180000.0,180000.0,90000.0,90000.0,90000.0,90000.0,157500.0,157500.0,157500.0,157500.0,157500.0,157500.0,157500.0,225000.0,225000.0,225000.0,112500.0,225000.0,225000.0,225000.0,225000.0,225000.0,225000.0,225000.0,225000.0,225000.0,225000.0,67500.0,67500.0,67500.0,144000.0,144000.0,135000.0,135000.0,180000.0,180000.0,180000.0,180000.0,180000.0,157500.0,157500.0,157500.0,31500.0,31500.0,31500.0,135000.0,135000.0,135000.0,135000.0,135000.0,135000.0,135000.0,135000.0,135000.0,67500.0,67500.0,180000.0,180000.0,180000.0,180000.0,180000.0,135000.0,135000.0,135000.0,135000.0,202500.0,202500.0,202500.0,202500.0,225000.0,225000.0,225000.0,225000.0,225000.0,225000.0,180000.0,180000.0,135000.0,135000.0,135000.0,135000.0,135000.0,135000.0,135000.0,76500.0,157500.0,157500.0,180000.0,180000.0,180000.0,180000.0,180000.0,180000.0,180000.0,225000.0,225000.0,306000.0,306000.0,180000.0,180000.0,180000.0,67500.0,270000.0,270000.0,270000.0,270000.0,180000.0,180000.0,180000.0,112500.0,81000.0,157500.0,157500.0,76500.0,76500.0,157500.0,157500.0,157500.0,247500.0,247500.0,247500.0,247500.0,247500.0,112500.0,112500.0,112500.0,112500.0,112500.0,81000.0,157500.0,157500.0,180000.0,180000.0,180000.0,180000.0,180000.0,180000.0,180000.0,180000.0,180000.0,180000.0,180000.0,360000.0,225000.0,225000.0,315000.0,315000.0,135000.0,261000.0,261000.0,94500.0,99000.0,99000.0,99000.0,99000.0,225000.0,225000.0,220500.0,220500.0,202500.0,202500.0,202500.0,202500.0,202500.0,202500.0,67500.0,67500.0,180000.0,180000.0,180000.0,67500.0,67500.0,63000.0,63000.0,121500.0,121500.0,121500.0,121500.0,135000.0,135000.0,81000.0,81000.0,81000.0,180000.0,180000.0,202500.0,202500.0,202500.0,202500.0,202500.0,126000.0,126000.0,180000.0,112500.0,112500.0,225000.0,225000.0,225000.0,123750.0,180000.0,180000.0,180000.0,180000.0,157500.0,157500.0,157500.0,157500.0,157500.0,157500.0,157500.0,157500.0,157500.0,121500.0,121500.0,58500.0,58500.0,112500.0,157500.0,157500.0,157500.0,135000.0,135000.0,135000.0,180000.0,180000.0,180000.0,112500.0,112500.0,112500.0,144000.0,144000.0,144000.0,144000.0,144000.0,144000.0,225000.0,225000.0,90000.0,139500.0,135000.0,135000.0,202500.0,202500.0,202500.0,202500.0,135000.0,135000.0,135000.0,225000.0,225000.0,225000.0,135000.0,135000.0,112500.0,112500.0,112500.0,112500.0,112500.0,135000.0,135000.0,135000.0,135000.0,135000.0,225000.0,225000.0,225000.0,225000.0,225000.0,135000.0,135000.0,112500.0,112500.0,99000.0,135000.0,135000.0,135000.0,135000.0,135000.0,135000.0,135000.0,261000.0,261000.0,261000.0,112500.0,112500.0,90000.0,90000.0,135000.0,126000.0,126000.0,126000.0,135000.0,135000.0,202500.0,202500.0,202500.0,202500.0,202500.0,108000.0,108000.0,108000.0,108000.0,90900.0,90900.0,90900.0,225000.0,225000.0,139500.0,139500.0,135000.0,135000.0,76500.0,225000.0,225000.0,225000.0,225000.0,225000.0,225000.0,225000.0,157500.0,157500.0,157500.0,157500.0,157500.0,211500.0,108000.0,108000.0,225000.0,112500.0,112500.0,112500.0,112500.0,270000.0,90000.0,90000.0,90000.0,90000.0,90000.0,90000.0,90000.0,94500.0,94500.0,94500.0,94500.0,94500.0,135000.0,112500.0,99000.0,202500.0,202500.0,270000.0,225000.0,225000.0,225000.0,225000.0,225000.0,225000.0,225000.0,270000.0,270000.0,162000.0,162000.0,180000.0,180000.0,180000.0,180000.0,180000.0,180000.0,180000.0,135000.0,135000.0,135000.0,135000.0,135000.0,112500.0,112500.0,180000.0,67500.0,67500.0,225000.0,225000.0,225000.0,225000.0,225000.0,225000.0,225000.0,63000.0,202500.0,76500.0,76500.0,76500.0,76500.0,202500.0,202500.0,202500.0,202500.0,99000.0,99000.0,67500.0,67500.0,67500.0,270000.0,270000.0,270000.0,270000.0,270000.0,90000.0,90000.0,90000.0,90000.0,360000.0,360000.0,360000.0,360000.0,360000.0,99000.0,99000.0,180000.0,247500.0,247500.0,247500.0,247500.0,247500.0,247500.0,247500.0,247500.0,247500.0,247500.0,202500.0,202500.0,171000.0,315000.0,315000.0,315000.0,180000.0,180000.0,180000.0,157500.0,135000.0,180000.0,180000.0,180000.0,180000.0,225000.0,225000.0,112500.0,112500.0,180000.0,180000.0,180000.0,180000.0,180000.0,247500.0,247500.0,247500.0,247500.0,247500.0,247500.0,247500.0,247500.0,135000.0,135000.0,225000.0,225000.0,225000.0,225000.0,135000.0,135000.0,135000.0,135000.0,135000.0,180000.0,180000.0,157500.0,157500.0,157500.0,157500.0,189000.0,72000.0,270000.0,270000.0,270000.0,270000.0,270000.0,270000.0,81000.0,81000.0,225000.0,225000.0,225000.0,225000.0,225000.0,225000.0,225000.0,225000.0,247500.0,247500.0,247500.0,247500.0,247500.0,247500.0,247500.0,247500.0,247500.0,103500.0,180000.0,157500.0,180000.0,180000.0,180000.0,180000.0,180000.0,180000.0,180000.0,180000.0,180000.0,180000.0,180000.0,180000.0,155250.0,155250.0,155250.0,155250.0,155250.0,292500.0,292500.0,292500.0,292500.0,292500.0,292500.0,292500.0,126000.0,126000.0,126000.0,180000.0,180000.0,225000.0,225000.0,225000.0,306000.0,180000.0,180000.0,180000.0,180000.0,180000.0,180000.0,157500.0,157500.0,157500.0,360000.0,360000.0,360000.0,360000.0,247500.0,247500.0,247500.0,135000.0,135000.0,135000.0,135000.0,135000.0,135000.0,135000.0,135000.0,135000.0,315000.0,112500.0,202500.0,202500.0,202500.0,202500.0,112500.0,112500.0,112500.0,112500.0,315000.0,225000.0,238500.0,238500.0,238500.0,238500.0,238500.0,238500.0,238500.0,193500.0,193500.0,193500.0,193500.0,193500.0,193500.0,193500.0,135000.0,135000.0,135000.0,135000.0,135000.0,135000.0,135000.0,135000.0,90000.0,90000.0,90000.0,360000.0,360000.0,360000.0,157500.0,157500.0,157500.0,157500.0,157500.0,157500.0,249750.0,249750.0,90000.0,90000.0,112500.0,112500.0,112500.0,112500.0,126000.0,130500.0,130500.0,130500.0,130500.0,130500.0,130500.0,130500.0,130500.0,130500.0,130500.0,130500.0,130500.0,130500.0,130500.0,135000.0,247500.0,247500.0,247500.0,247500.0,247500.0,247500.0,135000.0,135000.0,135000.0,135000.0,135000.0,135000.0,135000.0,126000.0,126000.0,90000.0,90000.0,157500.0,157500.0,157500.0,157500.0,157500.0,225000.0,225000.0,225000.0,225000.0,225000.0,157500.0,157500.0,157500.0,157500.0,157500.0,180000.0,180000.0,180000.0,112500.0,112500.0,382500.0,382500.0,382500.0,382500.0,382500.0,382500.0,382500.0,157500.0,157500.0,157500.0,157500.0,157500.0,292500.0,292500.0,292500.0,292500.0,292500.0,180000.0,180000.0,180000.0,180000.0,157500.0,157500.0,157500.0,157500.0,157500.0,157500.0,171000.0,171000.0,112500.0,90000.0,90000.0,90000.0,90000.0,90000.0,90000.0,90000.0,180000.0,180000.0,180000.0,180000.0,180000.0,180000.0,180000.0,180000.0,90000.0,135000.0,238500.0,238500.0,238500.0,238500.0,360000.0,180000.0,180000.0,180000.0,180000.0,180000.0,180000.0,180000.0,180000.0,180000.0,99000.0,130500.0,130500.0,130500.0,130500.0,130500.0,130500.0,99000.0,157500.0,157500.0,157500.0,247500.0,247500.0,135000.0,135000.0,135000.0,135000.0,135000.0,135000.0,135000.0,202500.0,202500.0,180000.0,180000.0,180000.0,180000.0,180000.0,103500.0,103500.0,103500.0,315000.0,315000.0,315000.0,315000.0,315000.0,157500.0,157500.0,157500.0,157500.0,157500.0,157500.0,225000.0,360000.0,360000.0,225000.0,225000.0,225000.0,225000.0,270000.0,112500.0,112500.0,112500.0,121500.0,90000.0,90000.0,90000.0,157500.0,157500.0,117000.0,117000.0,117000.0,117000.0,171000.0,171000.0,90000.0,202500.0,202500.0,265500.0,126000.0,126000.0,112500.0,112500.0,112500.0,252000.0,252000.0,252000.0,252000.0,252000.0,252000.0,180000.0,180000.0,180000.0,180000.0,180000.0,180000.0,180000.0,180000.0,180000.0,180000.0,180000.0,247500.0,315000.0,315000.0,315000.0,315000.0,315000.0,220500.0,220500.0,220500.0,220500.0,225000.0,225000.0,225000.0,225000.0,225000.0,225000.0,180000.0,180000.0,180000.0,180000.0,180000.0,180000.0,180000.0,180000.0,180000.0,180000.0,180000.0,180000.0,180000.0,180000.0,180000.0,180000.0,54000.0,54000.0,54000.0,54000.0,283500.0,283500.0,283500.0,283500.0,180000.0,180000.0,63000.0,63000.0,225000.0,225000.0,225000.0,225000.0,225000.0,112500.0,112500.0,67500.0,279000.0,279000.0,360000.0,360000.0,292500.0,63000.0,90000.0,90000.0,90000.0,225000.0,157500.0,90000.0,90000.0,90000.0,90000.0,90000.0,117000.0,112500.0,112500.0,135000.0,252000.0,252000.0,252000.0,252000.0,150750.0,150750.0,112500.0,112500.0,112500.0,225000.0,135000.0,135000.0,81000.0,81000.0,81000.0,116100.0,116100.0,139500.0,139500.0,202500.0,202500.0,202500.0,90000.0,90000.0,90000.0,180000.0,112500.0,112500.0,112500.0,112500.0,112500.0,99000.0,81000.0,132750.0,132750.0,76500.0,76500.0,225000.0,225000.0,225000.0,225000.0,225000.0,225000.0,153000.0,153000.0,153000.0,153000.0,153000.0,112500.0,180000.0,180000.0,175500.0,175500.0,175500.0,175500.0,175500.0,175500.0,175500.0,175500.0,90000.0,90000.0,315000.0,315000.0,315000.0,315000.0,315000.0,157500.0,157500.0,157500.0,157500.0,67500.0,67500.0,67500.0,67500.0,67500.0,67500.0,67500.0,67500.0,67500.0,67500.0,112500.0,135000.0,112500.0,112500.0,112500.0,112500.0,112500.0,112500.0,180000.0,202500.0,202500.0,202500.0,202500.0,90000.0,157500.0,157500.0,157500.0,157500.0,202500.0],\"yaxis\":\"y\",\"type\":\"scattergl\"}],                        {\"template\":{\"data\":{\"bar\":[{\"error_x\":{\"color\":\"#2a3f5f\"},\"error_y\":{\"color\":\"#2a3f5f\"},\"marker\":{\"line\":{\"color\":\"#E5ECF6\",\"width\":0.5},\"pattern\":{\"fillmode\":\"overlay\",\"size\":10,\"solidity\":0.2}},\"type\":\"bar\"}],\"barpolar\":[{\"marker\":{\"line\":{\"color\":\"#E5ECF6\",\"width\":0.5},\"pattern\":{\"fillmode\":\"overlay\",\"size\":10,\"solidity\":0.2}},\"type\":\"barpolar\"}],\"carpet\":[{\"aaxis\":{\"endlinecolor\":\"#2a3f5f\",\"gridcolor\":\"white\",\"linecolor\":\"white\",\"minorgridcolor\":\"white\",\"startlinecolor\":\"#2a3f5f\"},\"baxis\":{\"endlinecolor\":\"#2a3f5f\",\"gridcolor\":\"white\",\"linecolor\":\"white\",\"minorgridcolor\":\"white\",\"startlinecolor\":\"#2a3f5f\"},\"type\":\"carpet\"}],\"choropleth\":[{\"colorbar\":{\"outlinewidth\":0,\"ticks\":\"\"},\"type\":\"choropleth\"}],\"contour\":[{\"colorbar\":{\"outlinewidth\":0,\"ticks\":\"\"},\"colorscale\":[[0.0,\"#0d0887\"],[0.1111111111111111,\"#46039f\"],[0.2222222222222222,\"#7201a8\"],[0.3333333333333333,\"#9c179e\"],[0.4444444444444444,\"#bd3786\"],[0.5555555555555556,\"#d8576b\"],[0.6666666666666666,\"#ed7953\"],[0.7777777777777778,\"#fb9f3a\"],[0.8888888888888888,\"#fdca26\"],[1.0,\"#f0f921\"]],\"type\":\"contour\"}],\"contourcarpet\":[{\"colorbar\":{\"outlinewidth\":0,\"ticks\":\"\"},\"type\":\"contourcarpet\"}],\"heatmap\":[{\"colorbar\":{\"outlinewidth\":0,\"ticks\":\"\"},\"colorscale\":[[0.0,\"#0d0887\"],[0.1111111111111111,\"#46039f\"],[0.2222222222222222,\"#7201a8\"],[0.3333333333333333,\"#9c179e\"],[0.4444444444444444,\"#bd3786\"],[0.5555555555555556,\"#d8576b\"],[0.6666666666666666,\"#ed7953\"],[0.7777777777777778,\"#fb9f3a\"],[0.8888888888888888,\"#fdca26\"],[1.0,\"#f0f921\"]],\"type\":\"heatmap\"}],\"heatmapgl\":[{\"colorbar\":{\"outlinewidth\":0,\"ticks\":\"\"},\"colorscale\":[[0.0,\"#0d0887\"],[0.1111111111111111,\"#46039f\"],[0.2222222222222222,\"#7201a8\"],[0.3333333333333333,\"#9c179e\"],[0.4444444444444444,\"#bd3786\"],[0.5555555555555556,\"#d8576b\"],[0.6666666666666666,\"#ed7953\"],[0.7777777777777778,\"#fb9f3a\"],[0.8888888888888888,\"#fdca26\"],[1.0,\"#f0f921\"]],\"type\":\"heatmapgl\"}],\"histogram\":[{\"marker\":{\"pattern\":{\"fillmode\":\"overlay\",\"size\":10,\"solidity\":0.2}},\"type\":\"histogram\"}],\"histogram2d\":[{\"colorbar\":{\"outlinewidth\":0,\"ticks\":\"\"},\"colorscale\":[[0.0,\"#0d0887\"],[0.1111111111111111,\"#46039f\"],[0.2222222222222222,\"#7201a8\"],[0.3333333333333333,\"#9c179e\"],[0.4444444444444444,\"#bd3786\"],[0.5555555555555556,\"#d8576b\"],[0.6666666666666666,\"#ed7953\"],[0.7777777777777778,\"#fb9f3a\"],[0.8888888888888888,\"#fdca26\"],[1.0,\"#f0f921\"]],\"type\":\"histogram2d\"}],\"histogram2dcontour\":[{\"colorbar\":{\"outlinewidth\":0,\"ticks\":\"\"},\"colorscale\":[[0.0,\"#0d0887\"],[0.1111111111111111,\"#46039f\"],[0.2222222222222222,\"#7201a8\"],[0.3333333333333333,\"#9c179e\"],[0.4444444444444444,\"#bd3786\"],[0.5555555555555556,\"#d8576b\"],[0.6666666666666666,\"#ed7953\"],[0.7777777777777778,\"#fb9f3a\"],[0.8888888888888888,\"#fdca26\"],[1.0,\"#f0f921\"]],\"type\":\"histogram2dcontour\"}],\"mesh3d\":[{\"colorbar\":{\"outlinewidth\":0,\"ticks\":\"\"},\"type\":\"mesh3d\"}],\"parcoords\":[{\"line\":{\"colorbar\":{\"outlinewidth\":0,\"ticks\":\"\"}},\"type\":\"parcoords\"}],\"pie\":[{\"automargin\":true,\"type\":\"pie\"}],\"scatter\":[{\"marker\":{\"colorbar\":{\"outlinewidth\":0,\"ticks\":\"\"}},\"type\":\"scatter\"}],\"scatter3d\":[{\"line\":{\"colorbar\":{\"outlinewidth\":0,\"ticks\":\"\"}},\"marker\":{\"colorbar\":{\"outlinewidth\":0,\"ticks\":\"\"}},\"type\":\"scatter3d\"}],\"scattercarpet\":[{\"marker\":{\"colorbar\":{\"outlinewidth\":0,\"ticks\":\"\"}},\"type\":\"scattercarpet\"}],\"scattergeo\":[{\"marker\":{\"colorbar\":{\"outlinewidth\":0,\"ticks\":\"\"}},\"type\":\"scattergeo\"}],\"scattergl\":[{\"marker\":{\"colorbar\":{\"outlinewidth\":0,\"ticks\":\"\"}},\"type\":\"scattergl\"}],\"scattermapbox\":[{\"marker\":{\"colorbar\":{\"outlinewidth\":0,\"ticks\":\"\"}},\"type\":\"scattermapbox\"}],\"scatterpolar\":[{\"marker\":{\"colorbar\":{\"outlinewidth\":0,\"ticks\":\"\"}},\"type\":\"scatterpolar\"}],\"scatterpolargl\":[{\"marker\":{\"colorbar\":{\"outlinewidth\":0,\"ticks\":\"\"}},\"type\":\"scatterpolargl\"}],\"scatterternary\":[{\"marker\":{\"colorbar\":{\"outlinewidth\":0,\"ticks\":\"\"}},\"type\":\"scatterternary\"}],\"surface\":[{\"colorbar\":{\"outlinewidth\":0,\"ticks\":\"\"},\"colorscale\":[[0.0,\"#0d0887\"],[0.1111111111111111,\"#46039f\"],[0.2222222222222222,\"#7201a8\"],[0.3333333333333333,\"#9c179e\"],[0.4444444444444444,\"#bd3786\"],[0.5555555555555556,\"#d8576b\"],[0.6666666666666666,\"#ed7953\"],[0.7777777777777778,\"#fb9f3a\"],[0.8888888888888888,\"#fdca26\"],[1.0,\"#f0f921\"]],\"type\":\"surface\"}],\"table\":[{\"cells\":{\"fill\":{\"color\":\"#EBF0F8\"},\"line\":{\"color\":\"white\"}},\"header\":{\"fill\":{\"color\":\"#C8D4E3\"},\"line\":{\"color\":\"white\"}},\"type\":\"table\"}]},\"layout\":{\"annotationdefaults\":{\"arrowcolor\":\"#2a3f5f\",\"arrowhead\":0,\"arrowwidth\":1},\"autotypenumbers\":\"strict\",\"coloraxis\":{\"colorbar\":{\"outlinewidth\":0,\"ticks\":\"\"}},\"colorscale\":{\"diverging\":[[0,\"#8e0152\"],[0.1,\"#c51b7d\"],[0.2,\"#de77ae\"],[0.3,\"#f1b6da\"],[0.4,\"#fde0ef\"],[0.5,\"#f7f7f7\"],[0.6,\"#e6f5d0\"],[0.7,\"#b8e186\"],[0.8,\"#7fbc41\"],[0.9,\"#4d9221\"],[1,\"#276419\"]],\"sequential\":[[0.0,\"#0d0887\"],[0.1111111111111111,\"#46039f\"],[0.2222222222222222,\"#7201a8\"],[0.3333333333333333,\"#9c179e\"],[0.4444444444444444,\"#bd3786\"],[0.5555555555555556,\"#d8576b\"],[0.6666666666666666,\"#ed7953\"],[0.7777777777777778,\"#fb9f3a\"],[0.8888888888888888,\"#fdca26\"],[1.0,\"#f0f921\"]],\"sequentialminus\":[[0.0,\"#0d0887\"],[0.1111111111111111,\"#46039f\"],[0.2222222222222222,\"#7201a8\"],[0.3333333333333333,\"#9c179e\"],[0.4444444444444444,\"#bd3786\"],[0.5555555555555556,\"#d8576b\"],[0.6666666666666666,\"#ed7953\"],[0.7777777777777778,\"#fb9f3a\"],[0.8888888888888888,\"#fdca26\"],[1.0,\"#f0f921\"]]},\"colorway\":[\"#636efa\",\"#EF553B\",\"#00cc96\",\"#ab63fa\",\"#FFA15A\",\"#19d3f3\",\"#FF6692\",\"#B6E880\",\"#FF97FF\",\"#FECB52\"],\"font\":{\"color\":\"#2a3f5f\"},\"geo\":{\"bgcolor\":\"white\",\"lakecolor\":\"white\",\"landcolor\":\"#E5ECF6\",\"showlakes\":true,\"showland\":true,\"subunitcolor\":\"white\"},\"hoverlabel\":{\"align\":\"left\"},\"hovermode\":\"closest\",\"mapbox\":{\"style\":\"light\"},\"paper_bgcolor\":\"white\",\"plot_bgcolor\":\"#E5ECF6\",\"polar\":{\"angularaxis\":{\"gridcolor\":\"white\",\"linecolor\":\"white\",\"ticks\":\"\"},\"bgcolor\":\"#E5ECF6\",\"radialaxis\":{\"gridcolor\":\"white\",\"linecolor\":\"white\",\"ticks\":\"\"}},\"scene\":{\"xaxis\":{\"backgroundcolor\":\"#E5ECF6\",\"gridcolor\":\"white\",\"gridwidth\":2,\"linecolor\":\"white\",\"showbackground\":true,\"ticks\":\"\",\"zerolinecolor\":\"white\"},\"yaxis\":{\"backgroundcolor\":\"#E5ECF6\",\"gridcolor\":\"white\",\"gridwidth\":2,\"linecolor\":\"white\",\"showbackground\":true,\"ticks\":\"\",\"zerolinecolor\":\"white\"},\"zaxis\":{\"backgroundcolor\":\"#E5ECF6\",\"gridcolor\":\"white\",\"gridwidth\":2,\"linecolor\":\"white\",\"showbackground\":true,\"ticks\":\"\",\"zerolinecolor\":\"white\"}},\"shapedefaults\":{\"line\":{\"color\":\"#2a3f5f\"}},\"ternary\":{\"aaxis\":{\"gridcolor\":\"white\",\"linecolor\":\"white\",\"ticks\":\"\"},\"baxis\":{\"gridcolor\":\"white\",\"linecolor\":\"white\",\"ticks\":\"\"},\"bgcolor\":\"#E5ECF6\",\"caxis\":{\"gridcolor\":\"white\",\"linecolor\":\"white\",\"ticks\":\"\"}},\"title\":{\"x\":0.05},\"xaxis\":{\"automargin\":true,\"gridcolor\":\"white\",\"linecolor\":\"white\",\"ticks\":\"\",\"title\":{\"standoff\":15},\"zerolinecolor\":\"white\",\"zerolinewidth\":2},\"yaxis\":{\"automargin\":true,\"gridcolor\":\"white\",\"linecolor\":\"white\",\"ticks\":\"\",\"title\":{\"standoff\":15},\"zerolinecolor\":\"white\",\"zerolinewidth\":2}}},\"xaxis\":{\"anchor\":\"y\",\"domain\":[0.0,1.0],\"title\":{\"text\":\"Edad\"}},\"yaxis\":{\"anchor\":\"x\",\"domain\":[0.0,1.0],\"title\":{\"text\":\"AMT_INCOME_TOTAL\"}},\"coloraxis\":{\"colorbar\":{\"title\":{\"text\":\"Target\"}},\"colorscale\":[[0.0,\"#0d0887\"],[0.1111111111111111,\"#46039f\"],[0.2222222222222222,\"#7201a8\"],[0.3333333333333333,\"#9c179e\"],[0.4444444444444444,\"#bd3786\"],[0.5555555555555556,\"#d8576b\"],[0.6666666666666666,\"#ed7953\"],[0.7777777777777778,\"#fb9f3a\"],[0.8888888888888888,\"#fdca26\"],[1.0,\"#f0f921\"]]},\"legend\":{\"tracegroupgap\":0},\"margin\":{\"t\":60}},                        {\"responsive\": true}                    ).then(function(){\n                            \nvar gd = document.getElementById('0c3d6f3a-41a5-425e-98cc-1a1e740b5465');\nvar x = new MutationObserver(function (mutations, observer) {{\n        var display = window.getComputedStyle(gd).display;\n        if (!display || display === 'none') {{\n            console.log([gd, 'removed!']);\n            Plotly.purge(gd);\n            observer.disconnect();\n        }}\n}});\n\n// Listen for the removal of the full notebook cells\nvar notebookContainer = gd.closest('#notebook-container');\nif (notebookContainer) {{\n    x.observe(notebookContainer, {childList: true});\n}}\n\n// Listen for the clearing of the current output cell\nvar outputEl = gd.closest('.output');\nif (outputEl) {{\n    x.observe(outputEl, {childList: true});\n}}\n\n                        })                };                            </script>        </div>\n</body>\n</html>"
     },
     "metadata": {},
     "output_type": "display_data"
    }
   ],
   "execution_count": null
  },
  {
   "cell_type": "markdown",
   "source": "Como podemos ver, no hay una edad ni un salario que parezca abarcar los clientes malos de nuestro target, esta bastante bien distribuido. Sin embargo, como pudimos notar al ver la distribucion en números de los clientes buenos y malos, los malos son muy poquitos en comparación a los buenos. (En la gráfica se ve claramente como casi todos los puntos son amarillos [buenos clientes] y solo unos pocos azules [clientes malos])",
   "metadata": {
    "datalore": {
     "type": "MD",
     "hide_input_from_viewers": false,
     "hide_output_from_viewers": false
    },
    "cell_id": "00041-7d15d369-3c89-4776-9f7a-76b59eee5f99",
    "deepnote_app_coordinates": {
     "x": 0,
     "y": 342,
     "w": 12,
     "h": 5
    },
    "deepnote_cell_type": "markdown",
    "deepnote_cell_height": 119.19999694824219
   }
  },
  {
   "cell_type": "markdown",
   "source": "# Creación del modelo",
   "metadata": {
    "datalore": {
     "type": "MD",
     "hide_input_from_viewers": false,
     "hide_output_from_viewers": false
    },
    "cell_id": "00071-97df6acc-d7b6-42f4-be04-94e38061a1c9",
    "deepnote_app_coordinates": {
     "x": 0,
     "y": 348,
     "w": 12,
     "h": 5
    },
    "deepnote_cell_type": "markdown",
    "deepnote_cell_height": 81.60000610351562
   }
  },
  {
   "cell_type": "markdown",
   "source": "### Árbol de Decisión de Clasificación",
   "metadata": {
    "datalore": {
     "type": "MD",
     "hide_input_from_viewers": false,
     "hide_output_from_viewers": false
    },
    "cell_id": "00072-0a1bba1e-28aa-4299-b874-f23cd95abc12",
    "deepnote_app_coordinates": {
     "x": 0,
     "y": 354,
     "w": 12,
     "h": 5
    },
    "deepnote_cell_type": "markdown",
    "deepnote_cell_height": 61.600006103515625
   }
  },
  {
   "cell_type": "markdown",
   "source": "Veamos nuestra data a utilizar",
   "metadata": {
    "cell_id": "7daec69a-8f59-4c97-8e89-33e098c09e1e",
    "tags": [],
    "deepnote_app_coordinates": {
     "x": 0,
     "y": 840,
     "w": 12,
     "h": 5
    },
    "deepnote_cell_type": "markdown",
    "deepnote_cell_height": 52
   }
  },
  {
   "cell_type": "code",
   "metadata": {
    "cell_id": "c5c7cc30-958c-4efc-87e9-9687bfd7604d",
    "tags": [],
    "deepnote_to_be_reexecuted": false,
    "source_hash": "ed2f22bf",
    "execution_start": 1647917708695,
    "execution_millis": 70,
    "deepnote_app_coordinates": {
     "x": 0,
     "y": 834,
     "w": 12,
     "h": 5
    },
    "deepnote_cell_type": "code",
    "deepnote_cell_height": 614
   },
   "source": "data_limpia",
   "outputs": [
    {
     "output_type": "execute_result",
     "execution_count": 30,
     "data": {
      "application/vnd.deepnote.dataframe.v3+json": {
       "column_count": 8,
       "row_count": 23409,
       "columns": [
        {
         "name": "FLAG_OWN_CAR",
         "dtype": "int64",
         "stats": {
          "unique_count": 2,
          "nan_count": 0,
          "min": "0",
          "max": "1",
          "histogram": [
           {
            "bin_start": 0,
            "bin_end": 0.1,
            "count": 14773
           },
           {
            "bin_start": 0.1,
            "bin_end": 0.2,
            "count": 0
           },
           {
            "bin_start": 0.2,
            "bin_end": 0.30000000000000004,
            "count": 0
           },
           {
            "bin_start": 0.30000000000000004,
            "bin_end": 0.4,
            "count": 0
           },
           {
            "bin_start": 0.4,
            "bin_end": 0.5,
            "count": 0
           },
           {
            "bin_start": 0.5,
            "bin_end": 0.6000000000000001,
            "count": 0
           },
           {
            "bin_start": 0.6000000000000001,
            "bin_end": 0.7000000000000001,
            "count": 0
           },
           {
            "bin_start": 0.7000000000000001,
            "bin_end": 0.8,
            "count": 0
           },
           {
            "bin_start": 0.8,
            "bin_end": 0.9,
            "count": 0
           },
           {
            "bin_start": 0.9,
            "bin_end": 1,
            "count": 8636
           }
          ]
         }
        },
        {
         "name": "FLAG_OWN_REALTY",
         "dtype": "int64",
         "stats": {
          "unique_count": 2,
          "nan_count": 0,
          "min": "0",
          "max": "1",
          "histogram": [
           {
            "bin_start": 0,
            "bin_end": 0.1,
            "count": 8028
           },
           {
            "bin_start": 0.1,
            "bin_end": 0.2,
            "count": 0
           },
           {
            "bin_start": 0.2,
            "bin_end": 0.30000000000000004,
            "count": 0
           },
           {
            "bin_start": 0.30000000000000004,
            "bin_end": 0.4,
            "count": 0
           },
           {
            "bin_start": 0.4,
            "bin_end": 0.5,
            "count": 0
           },
           {
            "bin_start": 0.5,
            "bin_end": 0.6000000000000001,
            "count": 0
           },
           {
            "bin_start": 0.6000000000000001,
            "bin_end": 0.7000000000000001,
            "count": 0
           },
           {
            "bin_start": 0.7000000000000001,
            "bin_end": 0.8,
            "count": 0
           },
           {
            "bin_start": 0.8,
            "bin_end": 0.9,
            "count": 0
           },
           {
            "bin_start": 0.9,
            "bin_end": 1,
            "count": 15381
           }
          ]
         }
        },
        {
         "name": "CNT_CHILDREN",
         "dtype": "int64",
         "stats": {
          "unique_count": 3,
          "nan_count": 0,
          "min": "0",
          "max": "2",
          "histogram": [
           {
            "bin_start": 0,
            "bin_end": 0.2,
            "count": 16721
           },
           {
            "bin_start": 0.2,
            "bin_end": 0.4,
            "count": 0
           },
           {
            "bin_start": 0.4,
            "bin_end": 0.6000000000000001,
            "count": 0
           },
           {
            "bin_start": 0.6000000000000001,
            "bin_end": 0.8,
            "count": 0
           },
           {
            "bin_start": 0.8,
            "bin_end": 1,
            "count": 0
           },
           {
            "bin_start": 1,
            "bin_end": 1.2000000000000002,
            "count": 4625
           },
           {
            "bin_start": 1.2000000000000002,
            "bin_end": 1.4000000000000001,
            "count": 0
           },
           {
            "bin_start": 1.4000000000000001,
            "bin_end": 1.6,
            "count": 0
           },
           {
            "bin_start": 1.6,
            "bin_end": 1.8,
            "count": 0
           },
           {
            "bin_start": 1.8,
            "bin_end": 2,
            "count": 2063
           }
          ]
         }
        },
        {
         "name": "AMT_INCOME_TOTAL",
         "dtype": "float64",
         "stats": {
          "unique_count": 209,
          "nan_count": 0,
          "min": "27000.0",
          "max": "387000.0",
          "histogram": [
           {
            "bin_start": 27000,
            "bin_end": 63000,
            "count": 376
           },
           {
            "bin_start": 63000,
            "bin_end": 99000,
            "count": 2758
           },
           {
            "bin_start": 99000,
            "bin_end": 135000,
            "count": 3641
           },
           {
            "bin_start": 135000,
            "bin_end": 171000,
            "count": 5830
           },
           {
            "bin_start": 171000,
            "bin_end": 207000,
            "count": 4133
           },
           {
            "bin_start": 207000,
            "bin_end": 243000,
            "count": 2476
           },
           {
            "bin_start": 243000,
            "bin_end": 279000,
            "count": 2037
           },
           {
            "bin_start": 279000,
            "bin_end": 315000,
            "count": 546
           },
           {
            "bin_start": 315000,
            "bin_end": 351000,
            "count": 967
           },
           {
            "bin_start": 351000,
            "bin_end": 387000,
            "count": 645
           }
          ]
         }
        },
        {
         "name": "CNT_FAM_MEMBERS",
         "dtype": "float64"
        },
        {
         "name": "Edad",
         "dtype": "int64"
        },
        {
         "name": "Empleo",
         "dtype": "int64"
        },
        {
         "name": "Target",
         "dtype": "int64"
        },
        {
         "name": "_deepnote_index_column",
         "dtype": "int64"
        }
       ],
       "rows": [
        {
         "FLAG_OWN_CAR": 1,
         "FLAG_OWN_REALTY": 1,
         "CNT_CHILDREN": 0,
         "AMT_INCOME_TOTAL": 112500,
         "CNT_FAM_MEMBERS": 2,
         "Edad": 58,
         "Empleo": 1,
         "Target": 1,
         "_deepnote_index_column": 5008806
        },
        {
         "FLAG_OWN_CAR": 0,
         "FLAG_OWN_REALTY": 1,
         "CNT_CHILDREN": 0,
         "AMT_INCOME_TOTAL": 270000,
         "CNT_FAM_MEMBERS": 1,
         "Edad": 52,
         "Empleo": 1,
         "Target": 1,
         "_deepnote_index_column": 5008808
        },
        {
         "FLAG_OWN_CAR": 0,
         "FLAG_OWN_REALTY": 1,
         "CNT_CHILDREN": 0,
         "AMT_INCOME_TOTAL": 270000,
         "CNT_FAM_MEMBERS": 1,
         "Edad": 52,
         "Empleo": 1,
         "Target": 1,
         "_deepnote_index_column": 5008810
        },
        {
         "FLAG_OWN_CAR": 0,
         "FLAG_OWN_REALTY": 1,
         "CNT_CHILDREN": 0,
         "AMT_INCOME_TOTAL": 270000,
         "CNT_FAM_MEMBERS": 1,
         "Edad": 52,
         "Empleo": 1,
         "Target": 1,
         "_deepnote_index_column": 5008811
        },
        {
         "FLAG_OWN_CAR": 0,
         "FLAG_OWN_REALTY": 1,
         "CNT_CHILDREN": 0,
         "AMT_INCOME_TOTAL": 283500,
         "CNT_FAM_MEMBERS": 1,
         "Edad": 61,
         "Empleo": 0,
         "Target": 1,
         "_deepnote_index_column": 5008813
        },
        {
         "FLAG_OWN_CAR": 1,
         "FLAG_OWN_REALTY": 1,
         "CNT_CHILDREN": 0,
         "AMT_INCOME_TOTAL": 270000,
         "CNT_FAM_MEMBERS": 2,
         "Edad": 46,
         "Empleo": 1,
         "Target": 1,
         "_deepnote_index_column": 5008815
        },
        {
         "FLAG_OWN_CAR": 1,
         "FLAG_OWN_REALTY": 1,
         "CNT_CHILDREN": 0,
         "AMT_INCOME_TOTAL": 135000,
         "CNT_FAM_MEMBERS": 2,
         "Edad": 48,
         "Empleo": 1,
         "Target": 1,
         "_deepnote_index_column": 5008821
        },
        {
         "FLAG_OWN_CAR": 1,
         "FLAG_OWN_REALTY": 1,
         "CNT_CHILDREN": 0,
         "AMT_INCOME_TOTAL": 135000,
         "CNT_FAM_MEMBERS": 2,
         "Edad": 48,
         "Empleo": 1,
         "Target": 1,
         "_deepnote_index_column": 5008824
        },
        {
         "FLAG_OWN_CAR": 1,
         "FLAG_OWN_REALTY": 0,
         "CNT_CHILDREN": 0,
         "AMT_INCOME_TOTAL": 130500,
         "CNT_FAM_MEMBERS": 2,
         "Edad": 29,
         "Empleo": 1,
         "Target": 1,
         "_deepnote_index_column": 5008825
        },
        {
         "FLAG_OWN_CAR": 1,
         "FLAG_OWN_REALTY": 1,
         "CNT_CHILDREN": 0,
         "AMT_INCOME_TOTAL": 180000,
         "CNT_FAM_MEMBERS": 2,
         "Edad": 51,
         "Empleo": 0,
         "Target": 1,
         "_deepnote_index_column": 5008827
        }
       ]
      },
      "text/plain": "         FLAG_OWN_CAR  FLAG_OWN_REALTY  CNT_CHILDREN  AMT_INCOME_TOTAL  \\\nID                                                                       \n5008806             1                1             0          112500.0   \n5008808             0                1             0          270000.0   \n5008810             0                1             0          270000.0   \n5008811             0                1             0          270000.0   \n5008813             0                1             0          283500.0   \n...               ...              ...           ...               ...   \n5150481             1                1             1          157500.0   \n5150483             1                1             1          157500.0   \n5150484             1                1             1          157500.0   \n5150485             1                1             1          157500.0   \n5150487             1                0             0          202500.0   \n\n         CNT_FAM_MEMBERS  Edad  Empleo  Target  \nID                                              \n5008806              2.0    58       1       1  \n5008808              1.0    52       1       1  \n5008810              1.0    52       1       1  \n5008811              1.0    52       1       1  \n5008813              1.0    61       0       1  \n...                  ...   ...     ...     ...  \n5150481              3.0    29       1       1  \n5150483              3.0    29       1       1  \n5150484              3.0    29       1       1  \n5150485              3.0    29       1       1  \n5150487              2.0    53       1       1  \n\n[23409 rows x 8 columns]",
      "text/html": "<div>\n<style scoped>\n    .dataframe tbody tr th:only-of-type {\n        vertical-align: middle;\n    }\n\n    .dataframe tbody tr th {\n        vertical-align: top;\n    }\n\n    .dataframe thead th {\n        text-align: right;\n    }\n</style>\n<table border=\"1\" class=\"dataframe\">\n  <thead>\n    <tr style=\"text-align: right;\">\n      <th></th>\n      <th>FLAG_OWN_CAR</th>\n      <th>FLAG_OWN_REALTY</th>\n      <th>CNT_CHILDREN</th>\n      <th>AMT_INCOME_TOTAL</th>\n      <th>CNT_FAM_MEMBERS</th>\n      <th>Edad</th>\n      <th>Empleo</th>\n      <th>Target</th>\n    </tr>\n    <tr>\n      <th>ID</th>\n      <th></th>\n      <th></th>\n      <th></th>\n      <th></th>\n      <th></th>\n      <th></th>\n      <th></th>\n      <th></th>\n    </tr>\n  </thead>\n  <tbody>\n    <tr>\n      <th>5008806</th>\n      <td>1</td>\n      <td>1</td>\n      <td>0</td>\n      <td>112500.0</td>\n      <td>2.0</td>\n      <td>58</td>\n      <td>1</td>\n      <td>1</td>\n    </tr>\n    <tr>\n      <th>5008808</th>\n      <td>0</td>\n      <td>1</td>\n      <td>0</td>\n      <td>270000.0</td>\n      <td>1.0</td>\n      <td>52</td>\n      <td>1</td>\n      <td>1</td>\n    </tr>\n    <tr>\n      <th>5008810</th>\n      <td>0</td>\n      <td>1</td>\n      <td>0</td>\n      <td>270000.0</td>\n      <td>1.0</td>\n      <td>52</td>\n      <td>1</td>\n      <td>1</td>\n    </tr>\n    <tr>\n      <th>5008811</th>\n      <td>0</td>\n      <td>1</td>\n      <td>0</td>\n      <td>270000.0</td>\n      <td>1.0</td>\n      <td>52</td>\n      <td>1</td>\n      <td>1</td>\n    </tr>\n    <tr>\n      <th>5008813</th>\n      <td>0</td>\n      <td>1</td>\n      <td>0</td>\n      <td>283500.0</td>\n      <td>1.0</td>\n      <td>61</td>\n      <td>0</td>\n      <td>1</td>\n    </tr>\n    <tr>\n      <th>...</th>\n      <td>...</td>\n      <td>...</td>\n      <td>...</td>\n      <td>...</td>\n      <td>...</td>\n      <td>...</td>\n      <td>...</td>\n      <td>...</td>\n    </tr>\n    <tr>\n      <th>5150481</th>\n      <td>1</td>\n      <td>1</td>\n      <td>1</td>\n      <td>157500.0</td>\n      <td>3.0</td>\n      <td>29</td>\n      <td>1</td>\n      <td>1</td>\n    </tr>\n    <tr>\n      <th>5150483</th>\n      <td>1</td>\n      <td>1</td>\n      <td>1</td>\n      <td>157500.0</td>\n      <td>3.0</td>\n      <td>29</td>\n      <td>1</td>\n      <td>1</td>\n    </tr>\n    <tr>\n      <th>5150484</th>\n      <td>1</td>\n      <td>1</td>\n      <td>1</td>\n      <td>157500.0</td>\n      <td>3.0</td>\n      <td>29</td>\n      <td>1</td>\n      <td>1</td>\n    </tr>\n    <tr>\n      <th>5150485</th>\n      <td>1</td>\n      <td>1</td>\n      <td>1</td>\n      <td>157500.0</td>\n      <td>3.0</td>\n      <td>29</td>\n      <td>1</td>\n      <td>1</td>\n    </tr>\n    <tr>\n      <th>5150487</th>\n      <td>1</td>\n      <td>0</td>\n      <td>0</td>\n      <td>202500.0</td>\n      <td>2.0</td>\n      <td>53</td>\n      <td>1</td>\n      <td>1</td>\n    </tr>\n  </tbody>\n</table>\n<p>23409 rows × 8 columns</p>\n</div>"
     },
     "metadata": {}
    }
   ],
   "execution_count": null
  },
  {
   "cell_type": "code",
   "metadata": {
    "datalore": {
     "type": "CODE",
     "hide_input_from_viewers": false,
     "hide_output_from_viewers": false
    },
    "cell_id": "00073-068d4b81-e77b-492d-a5c5-f4342e36f152",
    "deepnote_to_be_reexecuted": false,
    "source_hash": "29151439",
    "execution_start": 1647917708770,
    "execution_millis": 3,
    "deepnote_app_coordinates": {
     "x": 0,
     "y": 360,
     "w": 12,
     "h": 5
    },
    "deepnote_cell_type": "code",
    "deepnote_cell_height": 134.60000610351562
   },
   "source": "# Convertimos nuestra variable Target a número para poder hacer la regresión logistica y las demás métricas\ndata_limpia.Target = data_limpia.Target.replace({\"Bueno\": 1, \"Malo\": 0})\nX = data_limpia.drop(\"Target\", axis=1) #Elimino de mi dataset la variable a predecir\ny = data_limpia.Target #Defino el Target",
   "outputs": [],
   "execution_count": null
  },
  {
   "cell_type": "markdown",
   "source": "Como comentamos antes, nuestro dataset esta desbalanceado entre los clientes buenos y malos. Si implementamos un modelo con esta situación nos dara una exactitud muy alta debido a que los casos malo a indentificar son muy pocos (1.33% de los casos totales). Esto significaria que el modelo tendria muy poca información de los malos y puesto en producción podria identificar a clientes malos como buenos con mucha frecuencia dejando obsoleto toda el objetivo de este proyecto.",
   "metadata": {
    "datalore": {
     "type": "MD",
     "hide_input_from_viewers": false,
     "hide_output_from_viewers": false
    },
    "cell_id": "00074-4a3aa324-afbf-4b72-9354-5616ae30fbe7",
    "deepnote_app_coordinates": {
     "x": 0,
     "y": 366,
     "w": 12,
     "h": 5
    },
    "deepnote_cell_type": "markdown",
    "deepnote_cell_height": 119.19999694824219
   }
  },
  {
   "cell_type": "markdown",
   "source": "Para balancear nuestros datos, haremos un sobre-muestreo de nuestra clase minoritaria (clientes malos), crearemos información sintentica basandonos en esos datos para asi tener una proporción balanceada en ambas clases",
   "metadata": {
    "datalore": {
     "type": "MD",
     "hide_input_from_viewers": false,
     "hide_output_from_viewers": false
    },
    "cell_id": "00075-432ed577-e2d0-497b-bd5b-15219f582d27",
    "deepnote_app_coordinates": {
     "x": 0,
     "y": 372,
     "w": 12,
     "h": 5
    },
    "deepnote_cell_type": "markdown",
    "deepnote_cell_height": 74.39999389648438
   }
  },
  {
   "cell_type": "code",
   "metadata": {
    "datalore": {
     "type": "CODE",
     "hide_input_from_viewers": false,
     "hide_output_from_viewers": false
    },
    "cell_id": "00076-d88378e6-1c32-4a8b-ba03-9ed98c1c9811",
    "deepnote_to_be_reexecuted": false,
    "source_hash": "b02523d3",
    "execution_start": 1647917708820,
    "execution_millis": 4881,
    "deepnote_app_coordinates": {
     "x": 0,
     "y": 378,
     "w": 12,
     "h": 5
    },
    "deepnote_cell_type": "code",
    "deepnote_cell_height": 406.20001220703125
   },
   "source": "# (Si no esta instalada la libreria)\n!pip install imblearn",
   "outputs": [
    {
     "name": "stdout",
     "text": "Collecting imblearn\n  Downloading imblearn-0.0-py2.py3-none-any.whl (1.9 kB)\nCollecting imbalanced-learn\n  Downloading imbalanced_learn-0.9.0-py3-none-any.whl (199 kB)\n\u001b[K     |████████████████████████████████| 199 kB 18.1 MB/s \n\u001b[?25hRequirement already satisfied: joblib>=0.11 in /shared-libs/python3.9/py/lib/python3.9/site-packages (from imbalanced-learn->imblearn) (1.1.0)\nRequirement already satisfied: threadpoolctl>=2.0.0 in /shared-libs/python3.9/py/lib/python3.9/site-packages (from imbalanced-learn->imblearn) (3.1.0)\nRequirement already satisfied: scipy>=1.1.0 in /shared-libs/python3.9/py/lib/python3.9/site-packages (from imbalanced-learn->imblearn) (1.8.0)\nRequirement already satisfied: scikit-learn>=1.0.1 in /shared-libs/python3.9/py/lib/python3.9/site-packages (from imbalanced-learn->imblearn) (1.0.2)\nRequirement already satisfied: numpy>=1.14.6 in /shared-libs/python3.9/py-core/lib/python3.9/site-packages (from imbalanced-learn->imblearn) (1.22.3)\nInstalling collected packages: imbalanced-learn, imblearn\nSuccessfully installed imbalanced-learn-0.9.0 imblearn-0.0\n\u001b[33mWARNING: You are using pip version 21.2.3; however, version 22.0.4 is available.\nYou should consider upgrading via the '/root/venv/bin/python -m pip install --upgrade pip' command.\u001b[0m\n",
     "output_type": "stream"
    }
   ],
   "execution_count": null
  },
  {
   "cell_type": "code",
   "metadata": {
    "datalore": {
     "type": "CODE",
     "hide_input_from_viewers": false,
     "hide_output_from_viewers": false
    },
    "cell_id": "00077-7a2a5607-1f84-47b5-b445-e47e6c7d6e3a",
    "deepnote_to_be_reexecuted": false,
    "source_hash": "a81f48f8",
    "execution_start": 1647917713708,
    "execution_millis": 833,
    "deepnote_app_coordinates": {
     "x": 0,
     "y": 384,
     "w": 12,
     "h": 5
    },
    "deepnote_cell_type": "code",
    "deepnote_cell_height": 116.60000610351562
   },
   "source": "# importamos SMOTE para el balanceo de los datos\nfrom imblearn.over_sampling import SMOTE\nsm = SMOTE(random_state = 2)",
   "outputs": [],
   "execution_count": null
  },
  {
   "cell_type": "code",
   "metadata": {
    "datalore": {
     "type": "CODE",
     "hide_input_from_viewers": false,
     "hide_output_from_viewers": false
    },
    "cell_id": "00078-483b1465-a177-4ce8-8941-4f9eb044c5d5",
    "deepnote_to_be_reexecuted": false,
    "source_hash": "33bd4404",
    "execution_start": 1647917714551,
    "execution_millis": 448,
    "deepnote_app_coordinates": {
     "x": 0,
     "y": 390,
     "w": 12,
     "h": 5
    },
    "deepnote_cell_type": "code",
    "deepnote_cell_height": 210.39999389648438,
    "deepnote_output_heights": [
     60
    ]
   },
   "source": "# Balanceamos la información\nX, y= sm.fit_resample(X, y)\n# Vemos como esta la proporción de los buenos con los malos\ny.value_counts()",
   "outputs": [
    {
     "output_type": "execute_result",
     "execution_count": 34,
     "data": {
      "text/plain": "1    23107\n0    23107\nName: Target, dtype: int64"
     },
     "metadata": {}
    }
   ],
   "execution_count": null
  },
  {
   "cell_type": "markdown",
   "source": "Como pudimos ver en la anterior celda, pasamos a tener los mismos números tanto en clientes buenos como en malos. Gracias a esto ya no tenemos que preocuparnos por el desbalanceo de datos",
   "metadata": {
    "cell_id": "39e1b895-da9a-4b56-b13c-321cedfc4584",
    "tags": [],
    "deepnote_app_coordinates": {
     "x": 0,
     "y": 828,
     "w": 12,
     "h": 5
    },
    "deepnote_cell_type": "markdown",
    "deepnote_cell_height": 74.39999389648438
   }
  },
  {
   "cell_type": "code",
   "metadata": {
    "datalore": {
     "type": "CODE",
     "hide_input_from_viewers": false,
     "hide_output_from_viewers": false
    },
    "cell_id": "00079-b72b8661-021f-4306-849d-cd7d3865577a",
    "deepnote_to_be_reexecuted": false,
    "source_hash": "add58d58",
    "execution_start": 1647917714603,
    "execution_millis": 1,
    "deepnote_app_coordinates": {
     "x": 0,
     "y": 396,
     "w": 12,
     "h": 5
    },
    "deepnote_cell_type": "code",
    "deepnote_cell_height": 134.60000610351562
   },
   "source": "from sklearn.model_selection import train_test_split #Importamos la libreria para separar en train y test\n\n#Me quedo con 30% para test y 70% para train\nX_train, X_test, y_train, y_test = train_test_split(X, y, test_size=0.30, random_state=42)",
   "outputs": [],
   "execution_count": null
  },
  {
   "cell_type": "code",
   "metadata": {
    "datalore": {
     "type": "CODE",
     "hide_input_from_viewers": false,
     "hide_output_from_viewers": false
    },
    "cell_id": "00080-a49ac99c-1e54-4fd5-b22e-bf75437c779e",
    "deepnote_to_be_reexecuted": false,
    "source_hash": "1c9de480",
    "execution_start": 1647917714621,
    "execution_millis": 2,
    "deepnote_app_coordinates": {
     "x": 0,
     "y": 402,
     "w": 12,
     "h": 5
    },
    "deepnote_cell_type": "code",
    "deepnote_cell_height": 98.60000610351562
   },
   "source": "from sklearn.tree import DecisionTreeClassifier #Importamos el modelo\narbol_de_decision = DecisionTreeClassifier(max_depth=2, random_state = 42) #Creamos el modelo",
   "outputs": [],
   "execution_count": null
  },
  {
   "cell_type": "code",
   "metadata": {
    "datalore": {
     "type": "CODE",
     "hide_input_from_viewers": false,
     "hide_output_from_viewers": false
    },
    "cell_id": "00081-bbd4a9ea-574d-4515-9792-66d123395305",
    "deepnote_to_be_reexecuted": false,
    "source_hash": "37b4099f",
    "execution_start": 1647917714640,
    "execution_millis": 376,
    "deepnote_app_coordinates": {
     "x": 0,
     "y": 408,
     "w": 12,
     "h": 5
    },
    "deepnote_cell_type": "code",
    "deepnote_cell_height": 117.39999389648438,
    "deepnote_output_heights": [
     21
    ]
   },
   "source": "arbol_de_decision.fit(X_train, y_train)",
   "outputs": [
    {
     "output_type": "execute_result",
     "execution_count": 37,
     "data": {
      "text/plain": "DecisionTreeClassifier(max_depth=2, random_state=42)"
     },
     "metadata": {}
    }
   ],
   "execution_count": null
  },
  {
   "cell_type": "code",
   "metadata": {
    "datalore": {
     "type": "CODE",
     "hide_input_from_viewers": false,
     "hide_output_from_viewers": false
    },
    "cell_id": "00082-a09e8c06-d2b6-4b83-b2bb-3d540b3e16a0",
    "deepnote_to_be_reexecuted": false,
    "source_hash": "833958c7",
    "execution_start": 1647917714692,
    "execution_millis": 1,
    "deepnote_app_coordinates": {
     "x": 0,
     "y": 414,
     "w": 12,
     "h": 5
    },
    "deepnote_cell_type": "code",
    "deepnote_cell_height": 98.60000610351562
   },
   "source": "y_train_pred = arbol_de_decision.predict(X_train) #Prediccion en Train\ny_test_pred = arbol_de_decision.predict(X_test) #Prediccion en Test",
   "outputs": [],
   "execution_count": null
  },
  {
   "cell_type": "code",
   "metadata": {
    "datalore": {
     "type": "CODE",
     "hide_input_from_viewers": false,
     "hide_output_from_viewers": false
    },
    "cell_id": "00083-69ee3e8a-7732-468d-9919-ab8a08e62799",
    "deepnote_to_be_reexecuted": false,
    "source_hash": "bccba6ed",
    "execution_start": 1647917714695,
    "execution_millis": 322,
    "deepnote_app_coordinates": {
     "x": 0,
     "y": 420,
     "w": 12,
     "h": 5
    },
    "deepnote_cell_type": "code",
    "deepnote_cell_height": 293.3999938964844
   },
   "source": "from sklearn.metrics import accuracy_score\n\n#Calculo el accuracy en Train\ntrain_accuracy = accuracy_score(y_train, y_train_pred)\n\n#Calculo el accuracy en Test\ntest_accuracy_decisionTree = accuracy_score(y_test, y_test_pred)\n\nprint('% de aciertos sobre el set de entrenamiento:', train_accuracy)\nprint('% de aciertos sobre el set de evaluación:',test_accuracy_decisionTree)",
   "outputs": [
    {
     "name": "stdout",
     "text": "% de aciertos sobre el set de entrenamiento: 0.6411326470679155\n% de aciertos sobre el set de evaluación: 0.6436350522899387\n",
     "output_type": "stream"
    }
   ],
   "execution_count": null
  },
  {
   "cell_type": "code",
   "metadata": {
    "datalore": {
     "type": "CODE",
     "hide_input_from_viewers": false,
     "hide_output_from_viewers": false
    },
    "cell_id": "00084-16b746b7-6e85-44b7-aa0c-8b77d5bb6549",
    "deepnote_to_be_reexecuted": false,
    "source_hash": "7e116926",
    "execution_start": 1647917714722,
    "execution_millis": 301,
    "deepnote_app_coordinates": {
     "x": 0,
     "y": 426,
     "w": 12,
     "h": 5
    },
    "deepnote_cell_type": "code",
    "deepnote_cell_height": 486.3999938964844,
    "deepnote_output_heights": [
     264
    ]
   },
   "source": "from sklearn.metrics import confusion_matrix\nfrom sklearn.metrics import ConfusionMatrixDisplay\n\ncm = confusion_matrix(y_test, y_test_pred, labels= arbol_de_decision.classes_)\ndisp = ConfusionMatrixDisplay(confusion_matrix=cm,\n                              display_labels=arbol_de_decision.classes_)\ndisp.plot()\nplt.show()",
   "outputs": [
    {
     "data": {
      "text/plain": "<Figure size 432x288 with 2 Axes>",
      "image/png": "[encoded data removed]"
     },
     "metadata": {
      "needs_background": "light",
      "image/png": {
       "width": 319,
       "height": 262
      }
     },
     "output_type": "display_data"
    }
   ],
   "execution_count": null
  },
  {
   "cell_type": "markdown",
   "source": "El primer modelo a utilizar fue el de Árbol de Decisión y logro un accuracy del 64% en nuestro set de evaluación, es un buen accuracy para nuestro primer algoritmo, sin embargo aun nos falta otros 2 algoritmos",
   "metadata": {
    "datalore": {
     "type": "MD",
     "hide_input_from_viewers": false,
     "hide_output_from_viewers": false
    },
    "cell_id": "00088-a200ba1e-6fee-47f5-83a3-12085e717598",
    "deepnote_app_coordinates": {
     "x": 0,
     "y": 432,
     "w": 12,
     "h": 5
    },
    "deepnote_cell_type": "markdown",
    "deepnote_cell_height": 74.39999389648438
   }
  },
  {
   "cell_type": "markdown",
   "source": "### Random Forest",
   "metadata": {
    "datalore": {
     "type": "MD",
     "hide_input_from_viewers": false,
     "hide_output_from_viewers": false
    },
    "cell_id": "00089-13c5a15e-3216-40e8-859c-b1ed84519e6d",
    "deepnote_app_coordinates": {
     "x": 0,
     "y": 438,
     "w": 12,
     "h": 5
    },
    "deepnote_cell_type": "markdown",
    "deepnote_cell_height": 61.600006103515625
   }
  },
  {
   "cell_type": "code",
   "metadata": {
    "datalore": {
     "type": "CODE",
     "hide_input_from_viewers": false,
     "hide_output_from_viewers": false
    },
    "cell_id": "00090-e5a607df-f3bd-4c61-931d-50adcaf982dc",
    "deepnote_to_be_reexecuted": false,
    "source_hash": "94cad395",
    "execution_start": 1647917714976,
    "execution_millis": 35733023,
    "deepnote_app_coordinates": {
     "x": 0,
     "y": 444,
     "w": 12,
     "h": 5
    },
    "deepnote_cell_type": "code",
    "deepnote_cell_height": 98.60000610351562
   },
   "source": "X = data_limpia.drop(\"Target\", axis=1) #Elimino de mi dataset la variable a predecir\ny = data_limpia.Target #Defino el Target",
   "outputs": [],
   "execution_count": null
  },
  {
   "cell_type": "code",
   "metadata": {
    "datalore": {
     "type": "CODE",
     "hide_input_from_viewers": false,
     "hide_output_from_viewers": false
    },
    "cell_id": "00091-2bb89fee-00fe-470d-8c6f-3675ccff0b3f",
    "deepnote_to_be_reexecuted": false,
    "source_hash": "33bd4404",
    "execution_start": 1647917714981,
    "execution_millis": 42,
    "deepnote_app_coordinates": {
     "x": 0,
     "y": 450,
     "w": 12,
     "h": 5
    },
    "deepnote_cell_type": "code",
    "deepnote_cell_height": 210.39999389648438,
    "deepnote_output_heights": [
     60
    ]
   },
   "source": "# Balanceamos la información\nX, y= sm.fit_resample(X, y)\n# Vemos como esta la proporción de los buenos con los malos\ny.value_counts()",
   "outputs": [
    {
     "output_type": "execute_result",
     "execution_count": 42,
     "data": {
      "text/plain": "1    23107\n0    23107\nName: Target, dtype: int64"
     },
     "metadata": {}
    }
   ],
   "execution_count": null
  },
  {
   "cell_type": "code",
   "metadata": {
    "datalore": {
     "type": "CODE",
     "hide_input_from_viewers": false,
     "hide_output_from_viewers": false
    },
    "cell_id": "00092-747bf479-4ab7-4ba5-ad5c-562113912f68",
    "deepnote_to_be_reexecuted": false,
    "source_hash": "e5c86232",
    "execution_start": 1647917715002,
    "execution_millis": 22,
    "deepnote_app_coordinates": {
     "x": 0,
     "y": 456,
     "w": 12,
     "h": 5
    },
    "deepnote_cell_type": "code",
    "deepnote_cell_height": 188.60000610351562
   },
   "source": "#Separamos en train y test!\n(X_train, X_test,\ny_train, y_test) = train_test_split(X,\n                                    y,\n                                    stratify=y,\n                                    test_size=0.30,\n                                    random_state=10)",
   "outputs": [],
   "execution_count": null
  },
  {
   "cell_type": "code",
   "metadata": {
    "datalore": {
     "type": "CODE",
     "hide_input_from_viewers": false,
     "hide_output_from_viewers": false
    },
    "cell_id": "00093-65df3a4f-1372-40a2-aba9-979d404afa3c",
    "deepnote_to_be_reexecuted": false,
    "source_hash": "3526eabf",
    "execution_start": 1647917715032,
    "execution_millis": 2490,
    "deepnote_app_coordinates": {
     "x": 0,
     "y": 462,
     "w": 12,
     "h": 5
    },
    "deepnote_cell_type": "code",
    "deepnote_cell_height": 189.39999389648438,
    "deepnote_output_heights": [
     21
    ]
   },
   "source": "# Importamos el modelo\nfrom sklearn.ensemble import RandomForestClassifier\n#Creamos un random forest!\nmodel = RandomForestClassifier(random_state=10, max_features=\"log2\")\nmodel.fit(X_train, y_train)",
   "outputs": [
    {
     "output_type": "execute_result",
     "execution_count": 44,
     "data": {
      "text/plain": "RandomForestClassifier(max_features='log2', random_state=10)"
     },
     "metadata": {}
    }
   ],
   "execution_count": null
  },
  {
   "cell_type": "code",
   "metadata": {
    "datalore": {
     "type": "CODE",
     "hide_input_from_viewers": false,
     "hide_output_from_viewers": false
    },
    "cell_id": "00094-b7b03555-9168-4dca-ba25-7f1b5cdb45cd",
    "deepnote_to_be_reexecuted": false,
    "source_hash": "43cafc5a",
    "execution_start": 1647917717230,
    "execution_millis": 917,
    "deepnote_app_coordinates": {
     "x": 0,
     "y": 468,
     "w": 12,
     "h": 5
    },
    "deepnote_cell_type": "code",
    "deepnote_cell_height": 98.60000610351562
   },
   "source": "y_train_pred = model.predict(X_train) #Prediccion en Train\ny_test_pred = model.predict(X_test) #Prediccion en Test",
   "outputs": [],
   "execution_count": null
  },
  {
   "cell_type": "code",
   "metadata": {
    "datalore": {
     "type": "CODE",
     "hide_input_from_viewers": false,
     "hide_output_from_viewers": false
    },
    "cell_id": "00095-53197f9e-4809-45c5-993a-dbc62c5bd282",
    "deepnote_to_be_reexecuted": false,
    "source_hash": "2af4d61f",
    "execution_start": 1647917718153,
    "execution_millis": 26,
    "deepnote_app_coordinates": {
     "x": 0,
     "y": 474,
     "w": 12,
     "h": 5
    },
    "deepnote_cell_type": "code",
    "deepnote_cell_height": 239.39999389648438
   },
   "source": "#Calculo el accuracy en Train\ntrain_accuracy = accuracy_score(y_train, y_train_pred)\n#Calculo el accuracy en Test\ntest_accuracy_randomForest = accuracy_score(y_test, y_test_pred)\n\nprint('% de aciertos sobre el set de entrenamiento:', train_accuracy)\nprint('% de aciertos sobre el set de evaluación:',test_accuracy_randomForest)",
   "outputs": [
    {
     "name": "stdout",
     "text": "% de aciertos sobre el set de entrenamiento: 0.96343009057467\n% de aciertos sobre el set de evaluación: 0.9542733501622791\n",
     "output_type": "stream"
    }
   ],
   "execution_count": null
  },
  {
   "cell_type": "code",
   "metadata": {
    "datalore": {
     "type": "CODE",
     "hide_input_from_viewers": false,
     "hide_output_from_viewers": false
    },
    "cell_id": "00096-48482ac6-259f-45e7-897a-673a26b26085",
    "deepnote_to_be_reexecuted": false,
    "source_hash": "63c7dd35",
    "execution_start": 1647917718200,
    "execution_millis": 259,
    "deepnote_app_coordinates": {
     "x": 0,
     "y": 480,
     "w": 12,
     "h": 5
    },
    "deepnote_cell_type": "code",
    "deepnote_cell_height": 466.20001220703125,
    "deepnote_output_heights": [
     21,
     264
    ]
   },
   "source": "cm = confusion_matrix(y_test, y_test_pred, labels= model.classes_)\ndisp = ConfusionMatrixDisplay(confusion_matrix=cm,\n                              display_labels=model.classes_)\ndisp.plot()",
   "outputs": [
    {
     "output_type": "execute_result",
     "execution_count": 47,
     "data": {
      "text/plain": "<sklearn.metrics._plot.confusion_matrix.ConfusionMatrixDisplay at 0x7f3fae194880>"
     },
     "metadata": {}
    },
    {
     "data": {
      "text/plain": "<Figure size 432x288 with 2 Axes>",
      "image/png": "[encoded data removed]"
     },
     "metadata": {
      "needs_background": "light",
      "image/png": {
       "width": 318,
       "height": 262
      }
     },
     "output_type": "display_data"
    }
   ],
   "execution_count": null
  },
  {
   "cell_type": "code",
   "metadata": {
    "datalore": {
     "type": "CODE",
     "hide_input_from_viewers": false,
     "hide_output_from_viewers": false
    },
    "cell_id": "00097-6e258522-7994-42b8-9fe8-dae8dae7c39d",
    "deepnote_to_be_reexecuted": false,
    "source_hash": "3c3240de",
    "execution_start": 1647917718468,
    "execution_millis": 75,
    "deepnote_app_coordinates": {
     "x": 0,
     "y": 486,
     "w": 12,
     "h": 5
    },
    "deepnote_cell_type": "code",
    "deepnote_cell_height": 901.4000244140625
   },
   "source": "from sklearn.metrics import precision_score\nfrom sklearn.metrics import recall_score\nfrom sklearn.metrics import f1_score\n\nprint(\"Recall:\")\n\n# Calculo de recall en Train\ntrain_recall = recall_score(y_train, y_train_pred)\n\n# Calculo de recall en Test\ntest_recall = recall_score(y_test, y_test_pred)\n\nprint('% de recall sobre el set de entrenamiento:', train_recall)\nprint('% de recall sobre el set de evaluación:', test_recall)\n\nprint(\"Precisión:\")\n\n# Calculo de precisión en Train\ntrain_precision = precision_score(y_train, y_train_pred)\n\n# Calculo de precisión en Test\ntest_precision = precision_score(y_test, y_test_pred)\n\nprint('% de precisión sobre el set de entrenamiento:', train_precision)\nprint('% de precisión sobre el set de evaluación:', test_precision)\n\nprint(\"F1 Score:\")\n\n# Calculo de f1 score en Train\ntrain_f1_score = f1_score(y_train, y_train_pred)\n\n# Calculo de f1 score en Test\ntest_f1_score = f1_score(y_test, y_test_pred)\n\nprint('% de f1 score sobre el set de entrenamiento:', train_f1_score)\nprint('% de f1_score sobre el set de evaluación:', test_f1_score)",
   "outputs": [
    {
     "name": "stdout",
     "text": "Recall:\n% de recall sobre el set de entrenamiento: 0.9488685544701373\n% de recall sobre el set de evaluación: 0.939564402134718\nPrecisión:\n% de precisión sobre el set de entrenamiento: 0.9773291727695345\n% de precisión sobre el set de evaluación: 0.9680487442413435\nF1 Score:\n% de f1 score sobre el set de entrenamiento: 0.9628886030680428\n% de f1_score sobre el set de evaluación: 0.9535939101156492\n",
     "output_type": "stream"
    }
   ],
   "execution_count": null
  },
  {
   "cell_type": "markdown",
   "source": "El segundo modelo a utilizar fue el de Random Forest y logro un accuracy del 95% en nuestro set de evaluación, es un accuaracy muy superior a nuestro primero algoritmo (Árbol de Decisión Simple) y uno muy excelente para nuestro objetivo",
   "metadata": {
    "datalore": {
     "type": "MD",
     "hide_input_from_viewers": false,
     "hide_output_from_viewers": false
    },
    "cell_id": "00098-69cbf737-ea82-4f14-a963-3c0370be1242",
    "deepnote_app_coordinates": {
     "x": 0,
     "y": 492,
     "w": 12,
     "h": 5
    },
    "deepnote_cell_type": "markdown",
    "deepnote_cell_height": 74.39999389648438
   }
  },
  {
   "cell_type": "markdown",
   "source": "### Regresión Logistica",
   "metadata": {
    "datalore": {
     "type": "MD",
     "hide_input_from_viewers": false,
     "hide_output_from_viewers": false
    },
    "cell_id": "00099-2ea83ed9-589f-4046-b4f0-f35fd8e04f9e",
    "deepnote_app_coordinates": {
     "x": 0,
     "y": 498,
     "w": 12,
     "h": 5
    },
    "deepnote_cell_type": "markdown",
    "deepnote_cell_height": 61.600006103515625
   }
  },
  {
   "cell_type": "code",
   "metadata": {
    "datalore": {
     "type": "CODE",
     "hide_input_from_viewers": false,
     "hide_output_from_viewers": false
    },
    "cell_id": "00100-5c7e221a-702f-4440-ac87-acbb72145b2f",
    "deepnote_to_be_reexecuted": false,
    "source_hash": "3fb233a7",
    "execution_start": 1647917718553,
    "execution_millis": 43,
    "deepnote_app_coordinates": {
     "x": 0,
     "y": 504,
     "w": 12,
     "h": 5
    },
    "deepnote_cell_type": "code",
    "deepnote_cell_height": 116.60000610351562
   },
   "source": "## Separamos las data\nX = data_limpia.drop(\"Target\", axis=1) #Elimino de mi dataset la variable a predecir\ny = data_limpia.Target #Defino el Target",
   "outputs": [],
   "execution_count": null
  },
  {
   "cell_type": "code",
   "metadata": {
    "datalore": {
     "type": "CODE",
     "hide_input_from_viewers": false,
     "hide_output_from_viewers": false
    },
    "cell_id": "00101-5151f337-c2c1-4604-872a-a81961d4f098",
    "deepnote_to_be_reexecuted": false,
    "source_hash": "c06e0bf8",
    "execution_start": 1647917718597,
    "execution_millis": 2,
    "deepnote_app_coordinates": {
     "x": 0,
     "y": 510,
     "w": 12,
     "h": 5
    },
    "deepnote_cell_type": "code",
    "deepnote_cell_height": 192.39999389648438,
    "deepnote_output_heights": [
     60
    ]
   },
   "source": "X, y= sm.fit_resample(X, y)\n# Vemos como esta la proporción de los buenos con los malos\ny.value_counts()",
   "outputs": [
    {
     "output_type": "execute_result",
     "execution_count": 50,
     "data": {
      "text/plain": "1    23107\n0    23107\nName: Target, dtype: int64"
     },
     "metadata": {}
    }
   ],
   "execution_count": null
  },
  {
   "cell_type": "code",
   "metadata": {
    "datalore": {
     "type": "CODE",
     "hide_input_from_viewers": false,
     "hide_output_from_viewers": false
    },
    "cell_id": "00102-b0ef2766-7034-40d4-b231-f4c1fc974bab",
    "deepnote_to_be_reexecuted": false,
    "source_hash": "d84786a1",
    "execution_start": 1647917718598,
    "execution_millis": 16,
    "deepnote_app_coordinates": {
     "x": 0,
     "y": 516,
     "w": 12,
     "h": 5
    },
    "deepnote_cell_type": "code",
    "deepnote_cell_height": 188.60000610351562
   },
   "source": "#Separamos en train y test!\n(X_train, X_test,\ny_train, y_test) = train_test_split(X,\n                                    y,\n                                    stratify=y,\n                                    test_size=0.30,\n                                    random_state=11)",
   "outputs": [],
   "execution_count": null
  },
  {
   "cell_type": "code",
   "metadata": {
    "datalore": {
     "type": "CODE",
     "hide_input_from_viewers": false,
     "hide_output_from_viewers": false
    },
    "cell_id": "00103-8c3692c2-4f7f-4591-bfb9-ec321be082e6",
    "deepnote_to_be_reexecuted": false,
    "source_hash": "eb6fd822",
    "execution_start": 1647917718664,
    "execution_millis": 97,
    "deepnote_app_coordinates": {
     "x": 0,
     "y": 522,
     "w": 12,
     "h": 5
    },
    "deepnote_cell_type": "code",
    "deepnote_cell_height": 243.39999389648438,
    "deepnote_output_heights": [
     21
    ]
   },
   "source": "# Importamos la libreria del modelo\nfrom sklearn.linear_model import LogisticRegression\n\n# Creamos una instancia de la Regresión Logística\nregresion_logistica = LogisticRegression()\n\n# Entrenamos la regresión logística con los datos de entrenamiento\nregresion_logistica.fit(X_train,y_train)",
   "outputs": [
    {
     "output_type": "execute_result",
     "execution_count": 52,
     "data": {
      "text/plain": "LogisticRegression()"
     },
     "metadata": {}
    }
   ],
   "execution_count": null
  },
  {
   "cell_type": "code",
   "metadata": {
    "datalore": {
     "type": "CODE",
     "hide_input_from_viewers": false,
     "hide_output_from_viewers": false
    },
    "cell_id": "00104-c27ac5a7-009a-46d2-beae-70b99156c98c",
    "deepnote_to_be_reexecuted": false,
    "source_hash": "c77276ae",
    "execution_start": 1647917718769,
    "execution_millis": 8,
    "deepnote_app_coordinates": {
     "x": 0,
     "y": 528,
     "w": 12,
     "h": 5
    },
    "deepnote_cell_type": "code",
    "deepnote_cell_height": 98.60000610351562
   },
   "source": "y_train_pred = regresion_logistica.predict(X_train) #Prediccion en Train\ny_test_pred = regresion_logistica.predict(X_test) #Prediccion en Test",
   "outputs": [],
   "execution_count": null
  },
  {
   "cell_type": "code",
   "metadata": {
    "datalore": {
     "type": "CODE",
     "hide_input_from_viewers": false,
     "hide_output_from_viewers": false
    },
    "cell_id": "00105-8cba3f91-c04f-442c-8f4f-287f80db591f",
    "deepnote_to_be_reexecuted": false,
    "source_hash": "9a0c209b",
    "execution_start": 1647917718832,
    "execution_millis": 2,
    "deepnote_app_coordinates": {
     "x": 0,
     "y": 534,
     "w": 12,
     "h": 5
    },
    "deepnote_cell_type": "code",
    "deepnote_cell_height": 257.3999938964844
   },
   "source": "#Calculo el accuracy en Train\ntrain_accuracy = accuracy_score(y_train, y_train_pred)\n\n#Calculo el accuracy en Test\ntest_accuracy_regresion = accuracy_score(y_test, y_test_pred)\n\nprint('% de aciertos sobre el set de entrenamiento:', train_accuracy)\nprint('% de aciertos sobre el set de evaluación:',test_accuracy_regresion)",
   "outputs": [
    {
     "name": "stdout",
     "text": "% de aciertos sobre el set de entrenamiento: 0.5015920121178398\n% de aciertos sobre el set de evaluación: 0.4980887125856473\n",
     "output_type": "stream"
    }
   ],
   "execution_count": null
  },
  {
   "cell_type": "code",
   "metadata": {
    "datalore": {
     "type": "CODE",
     "hide_input_from_viewers": false,
     "hide_output_from_viewers": false
    },
    "cell_id": "00106-a9897517-f39b-4a0d-a076-3c12a0b12781",
    "deepnote_to_be_reexecuted": false,
    "source_hash": "ec656970",
    "execution_start": 1647917718833,
    "execution_millis": 82,
    "deepnote_app_coordinates": {
     "x": 0,
     "y": 540,
     "w": 12,
     "h": 5
    },
    "deepnote_cell_type": "code",
    "deepnote_cell_height": 829.4000244140625
   },
   "source": "print(\"Recall:\")\n\n# Calculo de recall en Train\ntrain_recall = recall_score(y_train, y_train_pred)\n\n# Calculo de recall en Test\ntest_recall = recall_score(y_test, y_test_pred)\n\nprint('% de recall sobre el set de entrenamiento:', train_recall)\nprint('% de recall sobre el set de evaluación:', test_recall)\n\nprint(\"Precisión:\")\n\n# Calculo de precisión en Train\ntrain_precision = precision_score(y_train, y_train_pred)\n\n# Calculo de precisión en Test\ntest_precision = precision_score(y_test, y_test_pred)\n\nprint('% de precisión sobre el set de entrenamiento:', train_precision)\nprint('% de precisión sobre el set de evaluación:', test_precision)\n\nprint(\"F1 Score:\")\n\n# Calculo de f1 score en Train\ntrain_f1_score = f1_score(y_train, y_train_pred)\n\n# Calculo de f1 score en Test\ntest_f1_score = f1_score(y_test, y_test_pred)\n\nprint('% de f1 score sobre el set de entrenamiento:', train_f1_score)\nprint('% de f1_score sobre el set de evaluación:', test_f1_score)",
   "outputs": [
    {
     "name": "stdout",
     "text": "Recall:\n% de recall sobre el set de entrenamiento: 0.6349078768393718\n% de recall sobre el set de evaluación: 0.630318765325256\nPrecisión:\n% de precisión sobre el set de entrenamiento: 0.5012446917557476\n% de precisión sobre el set de evaluación: 0.4985169974903034\nF1 Score:\n% de f1 score sobre el set de entrenamiento: 0.5602138512315539\n% de f1_score sobre el set de evaluación: 0.55672335817568\n",
     "output_type": "stream"
    }
   ],
   "execution_count": null
  },
  {
   "cell_type": "markdown",
   "source": "### Comparación de modelos",
   "metadata": {
    "cell_id": "1abea03a-5ec2-48d3-aa17-3d30090a8740",
    "tags": [],
    "deepnote_app_coordinates": {
     "x": 0,
     "y": 846,
     "w": 12,
     "h": 5
    },
    "deepnote_cell_type": "markdown",
    "deepnote_cell_height": 61.600006103515625
   }
  },
  {
   "cell_type": "code",
   "metadata": {
    "datalore": {
     "type": "CODE",
     "hide_input_from_viewers": false,
     "hide_output_from_viewers": false
    },
    "cell_id": "00107-0e339aa8-8652-46eb-bbaf-eb82513b0061",
    "deepnote_to_be_reexecuted": false,
    "source_hash": "3a2f5d36",
    "execution_start": 1647917718967,
    "execution_millis": 3,
    "deepnote_app_coordinates": {
     "x": 0,
     "y": 546,
     "w": 12,
     "h": 5
    },
    "deepnote_cell_type": "code",
    "deepnote_cell_height": 205.39999389648438
   },
   "source": "# Desplegamos los valores de cada modelo para compararlos\nprint('% de aciertos sobre el set de evaluación del Árbol de decisión:',test_accuracy_decisionTree)\nprint('% de aciertos sobre el set de evaluación del Random Forest:',test_accuracy_randomForest)\nprint('% de aciertos sobre el set de evaluación de la Regresión Logistica:',test_accuracy_regresion)",
   "outputs": [
    {
     "name": "stdout",
     "text": "% de aciertos sobre el set de evaluación del Árbol de decisión: 0.6436350522899387\n% de aciertos sobre el set de evaluación del Random Forest: 0.9542733501622791\n% de aciertos sobre el set de evaluación de la Regresión Logistica: 0.4980887125856473\n",
     "output_type": "stream"
    }
   ],
   "execution_count": null
  },
  {
   "cell_type": "markdown",
   "source": "Finalmente, con nuestro modelo de Regresión Logistica se logro un accuracy de 49% el cual queda muy por debajo de nuestros primeros algoritmos. Los 3 algoritmos presentan un accuaracy muy diferente, sin embargo el algoritmo de Random Forest fue el que tuvo mejor rendimiento por lo que es nuestra mejor opción para el proyecto.",
   "metadata": {
    "datalore": {
     "type": "MD",
     "hide_input_from_viewers": false,
     "hide_output_from_viewers": false
    },
    "cell_id": "00108-27548ab3-a01d-45d5-9feb-cf8b16e71a63",
    "deepnote_app_coordinates": {
     "x": 0,
     "y": 552,
     "w": 12,
     "h": 5
    },
    "deepnote_cell_type": "markdown",
    "deepnote_cell_height": 96.80000305175781
   }
  },
  {
   "cell_type": "markdown",
   "source": "Sin embargo, ocuparemos dos metodos para ver si podemos mejorar el rendimiento de nuestro algoritmo de Random Forest(LOOCV y RandomSearchCV). El primero de estos entrenara y testeara nuestro modelo con cada una de nuestras filas reduciendo considerablemente la variabilidad, mientras que el segundo nos ayudara a encontrar el mejor conjunto de hyperparametros para nuestro modelo.",
   "metadata": {
    "datalore": {
     "type": "MD",
     "hide_input_from_viewers": false,
     "hide_output_from_viewers": false
    },
    "cell_id": "00109-a81af3fd-f108-4afb-b31b-8ea5caa230c7",
    "deepnote_app_coordinates": {
     "x": 0,
     "y": 558,
     "w": 12,
     "h": 5
    },
    "deepnote_cell_type": "markdown",
    "deepnote_cell_height": 96.80000305175781
   }
  },
  {
   "cell_type": "markdown",
   "source": "### LOOCV",
   "metadata": {
    "datalore": {
     "type": "MD",
     "hide_input_from_viewers": false,
     "hide_output_from_viewers": false
    },
    "cell_id": "00110-36270b7a-8014-4030-b9ae-03554adfeaa5",
    "deepnote_app_coordinates": {
     "x": 0,
     "y": 564,
     "w": 12,
     "h": 5
    },
    "deepnote_cell_type": "markdown",
    "deepnote_cell_height": 61.600006103515625
   }
  },
  {
   "cell_type": "code",
   "metadata": {
    "datalore": {
     "type": "CODE",
     "hide_input_from_viewers": false,
     "hide_output_from_viewers": false
    },
    "cell_id": "00111-976c2828-523d-4b11-b412-144ede12dbdf",
    "deepnote_to_be_reexecuted": false,
    "source_hash": "b597f3e8",
    "execution_start": 1647917718967,
    "execution_millis": 1,
    "deepnote_app_coordinates": {
     "x": 0,
     "y": 570,
     "w": 12,
     "h": 5
    },
    "deepnote_cell_type": "code",
    "deepnote_cell_height": 134.60000610351562
   },
   "source": "from sklearn.model_selection import LeaveOneOut\nfrom sklearn.model_selection import cross_val_score\nfrom numpy import mean\nfrom numpy import std",
   "outputs": [],
   "execution_count": null
  },
  {
   "cell_type": "code",
   "metadata": {
    "datalore": {
     "type": "CODE",
     "hide_input_from_viewers": false,
     "hide_output_from_viewers": false
    },
    "cell_id": "00112-e274dba8-1d02-480e-a6c5-fc21987ea3c2",
    "deepnote_to_be_reexecuted": false,
    "source_hash": "94cad395",
    "execution_start": 1647917718968,
    "execution_millis": 0,
    "deepnote_app_coordinates": {
     "x": 0,
     "y": 576,
     "w": 12,
     "h": 5
    },
    "deepnote_cell_type": "code",
    "deepnote_cell_height": 98.60000610351562
   },
   "source": "X = data_limpia.drop(\"Target\", axis=1) #Elimino de mi dataset la variable a predecir\ny = data_limpia.Target #Defino el Target",
   "outputs": [],
   "execution_count": null
  },
  {
   "cell_type": "code",
   "metadata": {
    "datalore": {
     "type": "CODE",
     "hide_input_from_viewers": false,
     "hide_output_from_viewers": false
    },
    "cell_id": "00113-b3cdae93-4a06-45f8-9d83-4ca00a1524ea",
    "deepnote_to_be_reexecuted": false,
    "source_hash": "3ef5be1a",
    "execution_start": 1647917718969,
    "execution_millis": 19,
    "deepnote_app_coordinates": {
     "x": 0,
     "y": 582,
     "w": 12,
     "h": 5
    },
    "deepnote_cell_type": "code",
    "deepnote_cell_height": 210.39999389648438,
    "deepnote_output_heights": [
     60
    ]
   },
   "source": "# Balanceo los datos\nX, y= sm.fit_resample(X, y)\n# Vemos como esta la proporción de los buenos con los malos\ny.value_counts()",
   "outputs": [
    {
     "output_type": "execute_result",
     "execution_count": 59,
     "data": {
      "text/plain": "1    23107\n0    23107\nName: Target, dtype: int64"
     },
     "metadata": {}
    }
   ],
   "execution_count": null
  },
  {
   "cell_type": "code",
   "metadata": {
    "datalore": {
     "type": "CODE",
     "hide_input_from_viewers": false,
     "hide_output_from_viewers": false
    },
    "cell_id": "00114-3a0d6af7-55a6-4ee7-84d3-b4136e9de45c",
    "deepnote_to_be_reexecuted": false,
    "source_hash": "97d7a340",
    "execution_start": 1647917718994,
    "execution_millis": 3,
    "deepnote_app_coordinates": {
     "x": 0,
     "y": 588,
     "w": 12,
     "h": 5
    },
    "deepnote_cell_type": "code",
    "deepnote_cell_height": 98.60000610351562
   },
   "source": "#Creamos el modelo \ncv = LeaveOneOut()",
   "outputs": [],
   "execution_count": null
  },
  {
   "cell_type": "code",
   "metadata": {
    "datalore": {
     "type": "CODE",
     "hide_input_from_viewers": false,
     "hide_output_from_viewers": false
    },
    "cell_id": "00115-415054b2-6a81-4c2f-9ed1-e7a5679161f6",
    "deepnote_to_be_reexecuted": false,
    "source_hash": "e6547f0d",
    "execution_start": 1647917719033,
    "execution_millis": 33289179,
    "deepnote_app_coordinates": {
     "x": 0,
     "y": 594,
     "w": 12,
     "h": 5
    },
    "deepnote_cell_type": "code",
    "deepnote_cell_height": 98.60000610351562
   },
   "source": "# Decision Tree\nmodel = RandomForestClassifier(random_state=10, max_features=\"log2\")",
   "outputs": [],
   "execution_count": null
  },
  {
   "cell_type": "code",
   "metadata": {
    "datalore": {
     "type": "CODE",
     "hide_input_from_viewers": false,
     "hide_output_from_viewers": false
    },
    "cell_id": "00116-17cd6c5b-2c1c-42d7-84d4-16adb1cbb28a",
    "deepnote_app_coordinates": {
     "x": 0,
     "y": 600,
     "w": 12,
     "h": 5
    },
    "deepnote_to_be_reexecuted": false,
    "source_hash": "fac06566",
    "execution_start": 1647917719034,
    "execution_millis": 48852,
    "deepnote_cell_type": "code",
    "deepnote_cell_height": 98.60000610351562
   },
   "source": "# Evaluacion del Modelo\n# scores = cross_val_score(model, X, y, scoring='accuracy', cv=cv, n_jobs=-1)",
   "outputs": [],
   "execution_count": null
  },
  {
   "cell_type": "code",
   "metadata": {
    "datalore": {
     "type": "CODE",
     "hide_input_from_viewers": false,
     "hide_output_from_viewers": false
    },
    "cell_id": "00117-9525c4fa-07d3-485b-9845-726fb6c7f078",
    "deepnote_app_coordinates": {
     "x": 0,
     "y": 606,
     "w": 12,
     "h": 5
    },
    "deepnote_to_be_reexecuted": false,
    "source_hash": "d9e6fd4b",
    "execution_start": 1647917719035,
    "execution_millis": 35785167,
    "deepnote_cell_type": "code",
    "deepnote_cell_height": 80.60000610351562
   },
   "source": "# print('Accuracy: %.3f (%.3f)' % (mean(scores), std(scores)))",
   "outputs": [],
   "execution_count": null
  },
  {
   "cell_type": "markdown",
   "source": "### Random Search CV",
   "metadata": {
    "datalore": {
     "type": "MD",
     "hide_input_from_viewers": false,
     "hide_output_from_viewers": false
    },
    "cell_id": "00118-9103e75c-bb3f-42a5-8c79-788d13100486",
    "deepnote_app_coordinates": {
     "x": 0,
     "y": 612,
     "w": 12,
     "h": 5
    },
    "deepnote_cell_type": "markdown",
    "deepnote_cell_height": 61.600006103515625
   }
  },
  {
   "cell_type": "code",
   "metadata": {
    "datalore": {
     "type": "CODE",
     "hide_input_from_viewers": false,
     "hide_output_from_viewers": false
    },
    "cell_id": "00119-7f73f2a2-21b2-401f-8a6c-176e39a9fe61",
    "deepnote_to_be_reexecuted": false,
    "source_hash": "7ab6c1de",
    "execution_start": 1647917719038,
    "execution_millis": 34424626,
    "deepnote_app_coordinates": {
     "x": 0,
     "y": 618,
     "w": 12,
     "h": 5
    },
    "deepnote_cell_type": "code",
    "deepnote_cell_height": 152.60000610351562
   },
   "source": "import scipy as sp\n\nfrom sklearn.model_selection import RandomizedSearchCV\nfrom sklearn.metrics import confusion_matrix, accuracy_score\nfrom sklearn.metrics import classification_report",
   "outputs": [],
   "execution_count": null
  },
  {
   "cell_type": "code",
   "metadata": {
    "datalore": {
     "type": "CODE",
     "hide_input_from_viewers": false,
     "hide_output_from_viewers": false
    },
    "cell_id": "00120-4773485f-6959-4afa-b189-140c7f60ff02",
    "deepnote_to_be_reexecuted": false,
    "source_hash": "94cad395",
    "execution_start": 1647917719097,
    "execution_millis": 34424625,
    "deepnote_app_coordinates": {
     "x": 0,
     "y": 624,
     "w": 12,
     "h": 5
    },
    "deepnote_cell_type": "code",
    "deepnote_cell_height": 98.60000610351562
   },
   "source": "X = data_limpia.drop(\"Target\", axis=1) #Elimino de mi dataset la variable a predecir\ny = data_limpia.Target #Defino el Target",
   "outputs": [],
   "execution_count": null
  },
  {
   "cell_type": "code",
   "metadata": {
    "datalore": {
     "type": "CODE",
     "hide_input_from_viewers": false,
     "hide_output_from_viewers": false
    },
    "cell_id": "00121-933cc10e-3ab1-453b-b3a0-2d4d3e171d71",
    "deepnote_to_be_reexecuted": false,
    "source_hash": "63b85e94",
    "execution_start": 1647917719097,
    "execution_millis": 3,
    "deepnote_app_coordinates": {
     "x": 0,
     "y": 630,
     "w": 12,
     "h": 5
    },
    "deepnote_cell_type": "code",
    "deepnote_cell_height": 210.39999389648438,
    "deepnote_output_heights": [
     60
    ]
   },
   "source": "# Balanceamos la data\nX, y= sm.fit_resample(X, y)\n# Vemos como esta la proporción de los buenos con los malos\ny.value_counts()",
   "outputs": [
    {
     "output_type": "execute_result",
     "execution_count": 66,
     "data": {
      "text/plain": "1    23107\n0    23107\nName: Target, dtype: int64"
     },
     "metadata": {}
    }
   ],
   "execution_count": null
  },
  {
   "cell_type": "code",
   "metadata": {
    "datalore": {
     "type": "CODE",
     "hide_input_from_viewers": false,
     "hide_output_from_viewers": false
    },
    "cell_id": "00122-950455d1-e47d-4750-a7f4-b09135fef885",
    "deepnote_to_be_reexecuted": false,
    "source_hash": "e5c86232",
    "execution_start": 1647917719098,
    "execution_millis": 6,
    "deepnote_app_coordinates": {
     "x": 0,
     "y": 636,
     "w": 12,
     "h": 5
    },
    "deepnote_cell_type": "code",
    "deepnote_cell_height": 188.60000610351562
   },
   "source": "#Separamos en train y test!\n(X_train, X_test,\ny_train, y_test) = train_test_split(X,\n                                    y,\n                                    stratify=y,\n                                    test_size=0.30,\n                                    random_state=10)",
   "outputs": [],
   "execution_count": null
  },
  {
   "cell_type": "code",
   "metadata": {
    "datalore": {
     "type": "CODE",
     "hide_input_from_viewers": false,
     "hide_output_from_viewers": false
    },
    "cell_id": "00123-a7bdd480-72ee-4e36-8f5c-7bc57fe46808",
    "deepnote_to_be_reexecuted": false,
    "source_hash": "1f9e7bbf",
    "execution_start": 1647917719157,
    "execution_millis": 0,
    "deepnote_app_coordinates": {
     "x": 0,
     "y": 642,
     "w": 12,
     "h": 5
    },
    "deepnote_cell_type": "code",
    "deepnote_cell_height": 98.60000610351562,
    "deepnote_output_heights": [
     21
    ]
   },
   "source": "#Creamos nuestro objeto Decision Tree\nrandom_forest = RandomForestClassifier()",
   "outputs": [],
   "execution_count": null
  },
  {
   "cell_type": "code",
   "metadata": {
    "datalore": {
     "type": "CODE",
     "hide_input_from_viewers": false,
     "hide_output_from_viewers": false
    },
    "cell_id": "00124-86edc1fe-3dce-44d6-9c14-930bdf156c4f",
    "deepnote_to_be_reexecuted": false,
    "source_hash": "b079196f",
    "execution_start": 1647917719158,
    "execution_millis": 34424674,
    "deepnote_app_coordinates": {
     "x": 0,
     "y": 648,
     "w": 12,
     "h": 5
    },
    "deepnote_cell_type": "code",
    "deepnote_cell_height": 242.60000610351562
   },
   "source": "# Grilla para Random Search\nparam_dist = {'criterion': ['gini', 'entropy'],\n              'max_depth': sp.stats.randint(1, 20),\n              'min_samples_split': sp.stats.randint(1, 20),\n              'random_state': sp.stats.randint(1, 20),\n              'min_samples_leaf': sp.stats.randint(1, 20),\n              'max_features': ['auto', 'sqrt', 'log2']}\n\n#Aplicamos la grilla al modelo\nmodel = RandomizedSearchCV(random_forest, param_dist, n_iter=100, random_state=0, cv=5)",
   "outputs": [],
   "execution_count": null
  },
  {
   "cell_type": "code",
   "metadata": {
    "datalore": {
     "type": "CODE",
     "hide_input_from_viewers": false,
     "hide_output_from_viewers": false
    },
    "cell_id": "00125-0b03fabe-342c-4da4-afeb-3396bda49902",
    "deepnote_to_be_reexecuted": false,
    "source_hash": "f59c9070",
    "execution_start": 1647917719159,
    "execution_millis": 749359,
    "deepnote_app_coordinates": {
     "x": 0,
     "y": 654,
     "w": 12,
     "h": 5
    },
    "deepnote_cell_type": "code",
    "deepnote_cell_height": 941.2000122070312,
    "deepnote_output_heights": [
     null,
     192
    ]
   },
   "source": "#Entrenamos DecisionTree con la grilla definida arriba y CV con tamaño de Fold=5\nmodel.fit(X_train, y_train)",
   "outputs": [
    {
     "name": "stderr",
     "text": "/shared-libs/python3.9/py/lib/python3.9/site-packages/sklearn/model_selection/_validation.py:372: FitFailedWarning:\n\n\n30 fits failed out of a total of 500.\nThe score on these train-test partitions for these parameters will be set to nan.\nIf these failures are not expected, you can try to debug them by setting error_score='raise'.\n\nBelow are more details about the failures:\n--------------------------------------------------------------------------------\n30 fits failed with the following error:\nTraceback (most recent call last):\n  File \"/shared-libs/python3.9/py/lib/python3.9/site-packages/sklearn/model_selection/_validation.py\", line 680, in _fit_and_score\n    estimator.fit(X_train, y_train, **fit_params)\n  File \"/shared-libs/python3.9/py/lib/python3.9/site-packages/sklearn/ensemble/_forest.py\", line 450, in fit\n    trees = Parallel(\n  File \"/shared-libs/python3.9/py/lib/python3.9/site-packages/joblib/parallel.py\", line 1043, in __call__\n    if self.dispatch_one_batch(iterator):\n  File \"/shared-libs/python3.9/py/lib/python3.9/site-packages/joblib/parallel.py\", line 861, in dispatch_one_batch\n    self._dispatch(tasks)\n  File \"/shared-libs/python3.9/py/lib/python3.9/site-packages/joblib/parallel.py\", line 779, in _dispatch\n    job = self._backend.apply_async(batch, callback=cb)\n  File \"/shared-libs/python3.9/py/lib/python3.9/site-packages/joblib/_parallel_backends.py\", line 208, in apply_async\n    result = ImmediateResult(func)\n  File \"/shared-libs/python3.9/py/lib/python3.9/site-packages/joblib/_parallel_backends.py\", line 572, in __init__\n    self.results = batch()\n  File \"/shared-libs/python3.9/py/lib/python3.9/site-packages/joblib/parallel.py\", line 262, in __call__\n    return [func(*args, **kwargs)\n  File \"/shared-libs/python3.9/py/lib/python3.9/site-packages/joblib/parallel.py\", line 262, in <listcomp>\n    return [func(*args, **kwargs)\n  File \"/shared-libs/python3.9/py/lib/python3.9/site-packages/sklearn/utils/fixes.py\", line 216, in __call__\n    return self.function(*args, **kwargs)\n  File \"/shared-libs/python3.9/py/lib/python3.9/site-packages/sklearn/ensemble/_forest.py\", line 185, in _parallel_build_trees\n    tree.fit(X, y, sample_weight=curr_sample_weight, check_input=False)\n  File \"/shared-libs/python3.9/py/lib/python3.9/site-packages/sklearn/tree/_classes.py\", line 937, in fit\n    super().fit(\n  File \"/shared-libs/python3.9/py/lib/python3.9/site-packages/sklearn/tree/_classes.py\", line 250, in fit\n    raise ValueError(\nValueError: min_samples_split must be an integer greater than 1 or a float in (0.0, 1.0]; got the integer 1\n\n\n/shared-libs/python3.9/py/lib/python3.9/site-packages/sklearn/model_selection/_search.py:969: UserWarning:\n\nOne or more of the test scores are non-finite: [0.94151292 0.86339601 0.91805017 0.89838946 0.86293226 0.64323466\n        nan 0.76568062 0.66329739 0.92636557 0.84181858 0.9156388\n 0.87718321 0.93347565 0.85764626 0.92988965 0.811277   0.73866325\n        nan 0.90481937 0.76849368 0.93492847 0.89090855 0.66329739\n 0.72741025 0.86188127 0.9266748  0.89829667 0.90182076 0.78413541\n 0.90092432 0.82330179 0.91495881 0.80630016 0.88506593 0.92639657\n 0.87600841 0.75551013 0.68308085 0.86491054 0.92451084 0.76342373\n 0.75931246 0.94352217 0.91464964 0.88228384 0.89208328 0.92642741\n 0.64416213        nan        nan 0.78694838 0.94240934 0.92315077\n 0.89359794 0.93007523 0.72920314 0.68657391 0.76153829 0.91789551\n 0.91427871 0.85356557 0.90475758 0.91718443 0.83931474 0.77684001\n 0.77449071 0.90689052 0.90132609 0.70119613 0.84209724 0.77201757\n 0.63739221 0.84231339        nan 0.88930104 0.8680948  0.88985749\n 0.81925244 0.78447524 0.89786391 0.78781394 0.71000667 0.82008723\n 0.88549881 0.92308888 0.65532137 0.76966831 0.8987914         nan\n 0.72586538 0.82135438 0.82614607 0.8957     0.85359642 0.93041519\n 0.87641037 0.80614546 0.75643748 0.7876597 ]\n\n",
     "output_type": "stream"
    },
    {
     "output_type": "execute_result",
     "execution_count": 70,
     "data": {
      "text/plain": "RandomizedSearchCV(cv=5, estimator=RandomForestClassifier(), n_iter=100,\n                   param_distributions={'criterion': ['gini', 'entropy'],\n                                        'max_depth': <scipy.stats._distn_infrastructure.rv_frozen object at 0x7f3fae164730>,\n                                        'max_features': ['auto', 'sqrt',\n                                                         'log2'],\n                                        'min_samples_leaf': <scipy.stats._distn_infrastructure.rv_frozen object at 0x7f3fbc308c10>,\n                                        'min_samples_split': <scipy.stats._distn_infrastructure.rv_frozen object at 0x7f3fc753caf0>,\n                                        'random_state': <scipy.stats._distn_infrastructure.rv_frozen object at 0x7f3fcd311df0>},\n                   random_state=0)"
     },
     "metadata": {}
    }
   ],
   "execution_count": null
  },
  {
   "cell_type": "code",
   "metadata": {
    "datalore": {
     "type": "CODE",
     "hide_input_from_viewers": false,
     "hide_output_from_viewers": false
    },
    "cell_id": "00126-ab481b75-ac7f-4e5d-aea4-d9045f5d7c05",
    "deepnote_to_be_reexecuted": false,
    "source_hash": "c6469a3",
    "execution_start": 1647918468525,
    "execution_millis": 5,
    "deepnote_app_coordinates": {
     "x": 0,
     "y": 660,
     "w": 12,
     "h": 5
    },
    "deepnote_cell_type": "code",
    "deepnote_cell_height": 186.1999969482422
   },
   "source": "print(\"Mejores parametros: \"+str(model.best_params_))\nprint(\"Mejor Score: \"+str(model.best_score_)+'\\n')",
   "outputs": [
    {
     "name": "stdout",
     "text": "Mejores parametros: {'criterion': 'entropy', 'max_depth': 19, 'max_features': 'sqrt', 'min_samples_leaf': 3, 'min_samples_split': 6, 'random_state': 6}\nMejor Score: 0.9435221743552594\n\n",
     "output_type": "stream"
    }
   ],
   "execution_count": null
  },
  {
   "cell_type": "code",
   "metadata": {
    "datalore": {
     "type": "CODE",
     "hide_input_from_viewers": false,
     "hide_output_from_viewers": false
    },
    "cell_id": "00127-83dd462d-ca91-48d3-b658-6a69816151e7",
    "deepnote_to_be_reexecuted": false,
    "source_hash": "c8759ba2",
    "execution_start": 1647918468538,
    "execution_millis": 1002,
    "deepnote_app_coordinates": {
     "x": 0,
     "y": 666,
     "w": 12,
     "h": 5
    },
    "deepnote_cell_type": "code",
    "deepnote_cell_height": 650
   },
   "source": "#Analizamos qué obtuvimos\nscores = pd.DataFrame(model.cv_results_)\nscores",
   "outputs": [
    {
     "output_type": "execute_result",
     "execution_count": 72,
     "data": {
      "application/vnd.deepnote.dataframe.v3+json": {
       "column_count": 19,
       "row_count": 100,
       "columns": [
        {
         "name": "mean_fit_time",
         "dtype": "float64",
         "stats": {
          "unique_count": 100,
          "nan_count": 0,
          "min": "0.06512484550476075",
          "max": "2.744015407562256",
          "histogram": [
           {
            "bin_start": 0.06512484550476075,
            "bin_end": 0.33301390171051026,
            "count": 6
           },
           {
            "bin_start": 0.33301390171051026,
            "bin_end": 0.6009029579162598,
            "count": 1
           },
           {
            "bin_start": 0.6009029579162598,
            "bin_end": 0.8687920141220093,
            "count": 7
           },
           {
            "bin_start": 0.8687920141220093,
            "bin_end": 1.136681070327759,
            "count": 18
           },
           {
            "bin_start": 1.136681070327759,
            "bin_end": 1.4045701265335087,
            "count": 14
           },
           {
            "bin_start": 1.4045701265335087,
            "bin_end": 1.672459182739258,
            "count": 25
           },
           {
            "bin_start": 1.672459182739258,
            "bin_end": 1.9403482389450075,
            "count": 14
           },
           {
            "bin_start": 1.9403482389450075,
            "bin_end": 2.208237295150757,
            "count": 5
           },
           {
            "bin_start": 2.208237295150757,
            "bin_end": 2.476126351356507,
            "count": 6
           },
           {
            "bin_start": 2.476126351356507,
            "bin_end": 2.744015407562256,
            "count": 4
           }
          ]
         }
        },
        {
         "name": "std_fit_time",
         "dtype": "float64",
         "stats": {
          "unique_count": 100,
          "nan_count": 0,
          "min": "0.0027582693767645365",
          "max": "0.4861242494309885",
          "histogram": [
           {
            "bin_start": 0.0027582693767645365,
            "bin_end": 0.05109486738218693,
            "count": 71
           },
           {
            "bin_start": 0.05109486738218693,
            "bin_end": 0.09943146538760932,
            "count": 12
           },
           {
            "bin_start": 0.09943146538760932,
            "bin_end": 0.14776806339303172,
            "count": 7
           },
           {
            "bin_start": 0.14776806339303172,
            "bin_end": 0.19610466139845412,
            "count": 5
           },
           {
            "bin_start": 0.19610466139845412,
            "bin_end": 0.2444412594038765,
            "count": 1
           },
           {
            "bin_start": 0.2444412594038765,
            "bin_end": 0.2927778574092989,
            "count": 1
           },
           {
            "bin_start": 0.2927778574092989,
            "bin_end": 0.3411144554147213,
            "count": 0
           },
           {
            "bin_start": 0.3411144554147213,
            "bin_end": 0.3894510534201437,
            "count": 1
           },
           {
            "bin_start": 0.3894510534201437,
            "bin_end": 0.4377876514255661,
            "count": 1
           },
           {
            "bin_start": 0.4377876514255661,
            "bin_end": 0.4861242494309885,
            "count": 1
           }
          ]
         }
        },
        {
         "name": "mean_score_time",
         "dtype": "float64",
         "stats": {
          "unique_count": 95,
          "nan_count": 0,
          "min": "0.0",
          "max": "0.1807086944580078",
          "histogram": [
           {
            "bin_start": 0,
            "bin_end": 0.01807086944580078,
            "count": 6
           },
           {
            "bin_start": 0.01807086944580078,
            "bin_end": 0.03614173889160156,
            "count": 0
           },
           {
            "bin_start": 0.03614173889160156,
            "bin_end": 0.054212608337402345,
            "count": 4
           },
           {
            "bin_start": 0.054212608337402345,
            "bin_end": 0.07228347778320313,
            "count": 19
           },
           {
            "bin_start": 0.07228347778320313,
            "bin_end": 0.0903543472290039,
            "count": 15
           },
           {
            "bin_start": 0.0903543472290039,
            "bin_end": 0.10842521667480469,
            "count": 21
           },
           {
            "bin_start": 0.10842521667480469,
            "bin_end": 0.12649608612060548,
            "count": 20
           },
           {
            "bin_start": 0.12649608612060548,
            "bin_end": 0.14456695556640625,
            "count": 3
           },
           {
            "bin_start": 0.14456695556640625,
            "bin_end": 0.16263782501220703,
            "count": 3
           },
           {
            "bin_start": 0.16263782501220703,
            "bin_end": 0.1807086944580078,
            "count": 9
           }
          ]
         }
        },
        {
         "name": "std_score_time",
         "dtype": "float64",
         "stats": {
          "unique_count": 95,
          "nan_count": 0,
          "min": "0.0",
          "max": "0.0352843639808764",
          "histogram": [
           {
            "bin_start": 0,
            "bin_end": 0.00352843639808764,
            "count": 27
           },
           {
            "bin_start": 0.00352843639808764,
            "bin_end": 0.00705687279617528,
            "count": 31
           },
           {
            "bin_start": 0.00705687279617528,
            "bin_end": 0.01058530919426292,
            "count": 13
           },
           {
            "bin_start": 0.01058530919426292,
            "bin_end": 0.01411374559235056,
            "count": 13
           },
           {
            "bin_start": 0.01411374559235056,
            "bin_end": 0.0176421819904382,
            "count": 3
           },
           {
            "bin_start": 0.0176421819904382,
            "bin_end": 0.02117061838852584,
            "count": 4
           },
           {
            "bin_start": 0.02117061838852584,
            "bin_end": 0.02469905478661348,
            "count": 3
           },
           {
            "bin_start": 0.02469905478661348,
            "bin_end": 0.02822749118470112,
            "count": 2
           },
           {
            "bin_start": 0.02822749118470112,
            "bin_end": 0.03175592758278876,
            "count": 2
           },
           {
            "bin_start": 0.03175592758278876,
            "bin_end": 0.0352843639808764,
            "count": 2
           }
          ]
         }
        },
        {
         "name": "param_criterion",
         "dtype": "object",
         "stats": {
          "unique_count": 2,
          "nan_count": 0,
          "categories": [
           {
            "name": "gini",
            "count": 54
           },
           {
            "name": "entropy",
            "count": 46
           }
          ]
         }
        },
        {
         "name": "param_max_depth",
         "dtype": "object",
         "stats": {
          "unique_count": 19,
          "nan_count": 0,
          "categories": [
           {
            "name": "4",
            "count": 9
           },
           {
            "name": "14",
            "count": 8
           },
           {
            "name": "17 others",
            "count": 83
           }
          ]
         }
        },
        {
         "name": "param_max_features",
         "dtype": "object",
         "stats": {
          "unique_count": 3,
          "nan_count": 0,
          "categories": [
           {
            "name": "sqrt",
            "count": 40
           },
           {
            "name": "auto",
            "count": 33
           },
           {
            "name": "log2",
            "count": 27
           }
          ]
         }
        },
        {
         "name": "param_min_samples_leaf",
         "dtype": "object",
         "stats": {
          "unique_count": 19,
          "nan_count": 0,
          "categories": [
           {
            "name": "4",
            "count": 10
           },
           {
            "name": "18",
            "count": 8
           },
           {
            "name": "17 others",
            "count": 82
           }
          ]
         }
        },
        {
         "name": "param_min_samples_split",
         "dtype": "object",
         "stats": {
          "unique_count": 19,
          "nan_count": 0,
          "categories": [
           {
            "name": "4",
            "count": 11
           },
           {
            "name": "7",
            "count": 9
           },
           {
            "name": "17 others",
            "count": 80
           }
          ]
         }
        },
        {
         "name": "param_random_state",
         "dtype": "object",
         "stats": {
          "unique_count": 19,
          "nan_count": 0,
          "categories": [
           {
            "name": "8",
            "count": 8
           },
           {
            "name": "14",
            "count": 8
           },
           {
            "name": "17 others",
            "count": 84
           }
          ]
         }
        },
        {
         "name": "params",
         "dtype": "object",
         "stats": {
          "unique_count": 100,
          "nan_count": 0,
          "categories": [
           {
            "name": "{'criterion': 'gini', 'max_depth': 16, 'max_features': 'sqrt', 'min_samples_leaf': 1, 'min_samples_split': 4, 'random_state': 4}",
            "count": 1
           },
           {
            "name": "{'criterion': 'entropy', 'max_depth': 10, 'max_features': 'sqrt', 'min_samples_leaf': 19, 'min_samples_split': 5, 'random_state': 7}",
            "count": 1
           },
           {
            "name": "98 others",
            "count": 98
           }
          ]
         }
        },
        {
         "name": "split0_test_score",
         "dtype": "float64",
         "stats": {
          "unique_count": 89,
          "nan_count": 6,
          "min": "0.6471406491499228",
          "max": "0.9425038639876352",
          "histogram": [
           {
            "bin_start": 0.6471406491499228,
            "bin_end": 0.676676970633694,
            "count": 6
           },
           {
            "bin_start": 0.676676970633694,
            "bin_end": 0.7062132921174652,
            "count": 2
           },
           {
            "bin_start": 0.7062132921174652,
            "bin_end": 0.7357496136012365,
            "count": 3
           },
           {
            "bin_start": 0.7357496136012365,
            "bin_end": 0.7652859350850078,
            "count": 8
           },
           {
            "bin_start": 0.7652859350850078,
            "bin_end": 0.794822256568779,
            "count": 10
           },
           {
            "bin_start": 0.794822256568779,
            "bin_end": 0.8243585780525502,
            "count": 5
           },
           {
            "bin_start": 0.8243585780525502,
            "bin_end": 0.8538948995363215,
            "count": 8
           },
           {
            "bin_start": 0.8538948995363215,
            "bin_end": 0.8834312210200927,
            "count": 12
           },
           {
            "bin_start": 0.8834312210200927,
            "bin_end": 0.9129675425038639,
            "count": 19
           },
           {
            "bin_start": 0.9129675425038639,
            "bin_end": 0.9425038639876352,
            "count": 21
           }
          ]
         }
        },
        {
         "name": "split1_test_score",
         "dtype": "float64",
         "stats": {
          "unique_count": 91,
          "nan_count": 6,
          "min": "0.6275115919629057",
          "max": "0.9434312210200927",
          "histogram": [
           {
            "bin_start": 0.6275115919629057,
            "bin_end": 0.6591035548686244,
            "count": 6
           },
           {
            "bin_start": 0.6591035548686244,
            "bin_end": 0.6906955177743431,
            "count": 2
           },
           {
            "bin_start": 0.6906955177743431,
            "bin_end": 0.7222874806800619,
            "count": 4
           },
           {
            "bin_start": 0.7222874806800619,
            "bin_end": 0.7538794435857805,
            "count": 3
           },
           {
            "bin_start": 0.7538794435857805,
            "bin_end": 0.7854714064914992,
            "count": 10
           },
           {
            "bin_start": 0.7854714064914992,
            "bin_end": 0.8170633693972179,
            "count": 8
           },
           {
            "bin_start": 0.8170633693972179,
            "bin_end": 0.8486553323029367,
            "count": 8
           },
           {
            "bin_start": 0.8486553323029367,
            "bin_end": 0.8802472952086553,
            "count": 12
           },
           {
            "bin_start": 0.8802472952086553,
            "bin_end": 0.9118392581143739,
            "count": 19
           },
           {
            "bin_start": 0.9118392581143739,
            "bin_end": 0.9434312210200927,
            "count": 22
           }
          ]
         }
        },
        {
         "name": "split2_test_score",
         "dtype": "float64",
         "stats": {
          "unique_count": 91,
          "nan_count": 6,
          "min": "0.6403400309119011",
          "max": "0.9426584234930449",
          "histogram": [
           {
            "bin_start": 0.6403400309119011,
            "bin_end": 0.6705718701700154,
            "count": 4
           },
           {
            "bin_start": 0.6705718701700154,
            "bin_end": 0.7008037094281299,
            "count": 4
           },
           {
            "bin_start": 0.7008037094281299,
            "bin_end": 0.7310355486862442,
            "count": 4
           },
           {
            "bin_start": 0.7310355486862442,
            "bin_end": 0.7612673879443586,
            "count": 2
           },
           {
            "bin_start": 0.7612673879443586,
            "bin_end": 0.791499227202473,
            "count": 14
           },
           {
            "bin_start": 0.791499227202473,
            "bin_end": 0.8217310664605874,
            "count": 5
           },
           {
            "bin_start": 0.8217310664605874,
            "bin_end": 0.8519629057187017,
            "count": 7
           },
           {
            "bin_start": 0.8519629057187017,
            "bin_end": 0.8821947449768162,
            "count": 12
           },
           {
            "bin_start": 0.8821947449768162,
            "bin_end": 0.9124265842349305,
            "count": 20
           },
           {
            "bin_start": 0.9124265842349305,
            "bin_end": 0.9426584234930449,
            "count": 22
           }
          ]
         }
        },
        {
         "name": "split3_test_score",
         "dtype": "float64",
         "stats": {
          "unique_count": 90,
          "nan_count": 6,
          "min": "0.6340030911901082",
          "max": "0.9469860896445131",
          "histogram": [
           {
            "bin_start": 0.6340030911901082,
            "bin_end": 0.6653013910355488,
            "count": 4
           },
           {
            "bin_start": 0.6653013910355488,
            "bin_end": 0.6965996908809892,
            "count": 6
           },
           {
            "bin_start": 0.6965996908809892,
            "bin_end": 0.7278979907264297,
            "count": 4
           },
           {
            "bin_start": 0.7278979907264297,
            "bin_end": 0.7591962905718702,
            "count": 7
           },
           {
            "bin_start": 0.7591962905718702,
            "bin_end": 0.7904945904173106,
            "count": 10
           },
           {
            "bin_start": 0.7904945904173106,
            "bin_end": 0.8217928902627512,
            "count": 7
           },
           {
            "bin_start": 0.8217928902627512,
            "bin_end": 0.8530911901081917,
            "count": 7
           },
           {
            "bin_start": 0.8530911901081917,
            "bin_end": 0.8843894899536322,
            "count": 13
           },
           {
            "bin_start": 0.8843894899536322,
            "bin_end": 0.9156877897990726,
            "count": 19
           },
           {
            "bin_start": 0.9156877897990726,
            "bin_end": 0.9469860896445131,
            "count": 17
           }
          ]
         }
        },
        {
         "name": "split4_test_score",
         "dtype": "float64",
         "stats": {
          "unique_count": 89,
          "nan_count": 6,
          "min": "0.6379656824857011",
          "max": "0.9428041428350595",
          "histogram": [
           {
            "bin_start": 0.6379656824857011,
            "bin_end": 0.6684495285206369,
            "count": 6
           },
           {
            "bin_start": 0.6684495285206369,
            "bin_end": 0.6989333745555728,
            "count": 3
           },
           {
            "bin_start": 0.6989333745555728,
            "bin_end": 0.7294172205905086,
            "count": 3
           },
           {
            "bin_start": 0.7294172205905086,
            "bin_end": 0.7599010666254444,
            "count": 6
           },
           {
            "bin_start": 0.7599010666254444,
            "bin_end": 0.7903849126603804,
            "count": 11
           },
           {
            "bin_start": 0.7903849126603804,
            "bin_end": 0.8208687586953162,
            "count": 7
           },
           {
            "bin_start": 0.8208687586953162,
            "bin_end": 0.851352604730252,
            "count": 8
           },
           {
            "bin_start": 0.851352604730252,
            "bin_end": 0.8818364507651879,
            "count": 9
           },
           {
            "bin_start": 0.8818364507651879,
            "bin_end": 0.9123202968001237,
            "count": 19
           },
           {
            "bin_start": 0.9123202968001237,
            "bin_end": 0.9428041428350595,
            "count": 22
           }
          ]
         }
        },
        {
         "name": "mean_test_score",
         "dtype": "float64",
         "stats": {
          "unique_count": 93,
          "nan_count": 6,
          "min": "0.6373922091401079",
          "max": "0.9435221743552594",
          "histogram": [
           {
            "bin_start": 0.6373922091401079,
            "bin_end": 0.668005205661623,
            "count": 6
           },
           {
            "bin_start": 0.668005205661623,
            "bin_end": 0.6986182021831382,
            "count": 2
           },
           {
            "bin_start": 0.6986182021831382,
            "bin_end": 0.7292311987046534,
            "count": 5
           },
           {
            "bin_start": 0.7292311987046534,
            "bin_end": 0.7598441952261685,
            "count": 4
           },
           {
            "bin_start": 0.7598441952261685,
            "bin_end": 0.7904571917476837,
            "count": 13
           },
           {
            "bin_start": 0.7904571917476837,
            "bin_end": 0.8210701882691989,
            "count": 5
           },
           {
            "bin_start": 0.8210701882691989,
            "bin_end": 0.8516831847907139,
            "count": 7
           },
           {
            "bin_start": 0.8516831847907139,
            "bin_end": 0.8822961813122291,
            "count": 12
           },
           {
            "bin_start": 0.8822961813122291,
            "bin_end": 0.9129091778337443,
            "count": 18
           },
           {
            "bin_start": 0.9129091778337443,
            "bin_end": 0.9435221743552594,
            "count": 22
           }
          ]
         }
        },
        {
         "name": "std_test_score",
         "dtype": "float64",
         "stats": {
          "unique_count": 93,
          "nan_count": 6,
          "min": "0.0005598063681523733",
          "max": "0.016948814124677174",
          "histogram": [
           {
            "bin_start": 0.0005598063681523733,
            "bin_end": 0.0021987071438048537,
            "count": 20
           },
           {
            "bin_start": 0.0021987071438048537,
            "bin_end": 0.003837607919457334,
            "count": 19
           },
           {
            "bin_start": 0.003837607919457334,
            "bin_end": 0.005476508695109814,
            "count": 10
           },
           {
            "bin_start": 0.005476508695109814,
            "bin_end": 0.007115409470762294,
            "count": 17
           },
           {
            "bin_start": 0.007115409470762294,
            "bin_end": 0.008754310246414774,
            "count": 11
           },
           {
            "bin_start": 0.008754310246414774,
            "bin_end": 0.010393211022067254,
            "count": 5
           },
           {
            "bin_start": 0.010393211022067254,
            "bin_end": 0.012032111797719734,
            "count": 5
           },
           {
            "bin_start": 0.012032111797719734,
            "bin_end": 0.013671012573372214,
            "count": 3
           },
           {
            "bin_start": 0.013671012573372214,
            "bin_end": 0.015309913349024694,
            "count": 2
           },
           {
            "bin_start": 0.015309913349024694,
            "bin_end": 0.016948814124677174,
            "count": 2
           }
          ]
         }
        },
        {
         "name": "rank_test_score",
         "dtype": "int32",
         "stats": {
          "unique_count": 99,
          "nan_count": 0,
          "min": "1",
          "max": "100",
          "histogram": [
           {
            "bin_start": 1,
            "bin_end": 10.9,
            "count": 10
           },
           {
            "bin_start": 10.9,
            "bin_end": 20.8,
            "count": 10
           },
           {
            "bin_start": 20.8,
            "bin_end": 30.700000000000003,
            "count": 10
           },
           {
            "bin_start": 30.700000000000003,
            "bin_end": 40.6,
            "count": 10
           },
           {
            "bin_start": 40.6,
            "bin_end": 50.5,
            "count": 10
           },
           {
            "bin_start": 50.5,
            "bin_end": 60.400000000000006,
            "count": 10
           },
           {
            "bin_start": 60.400000000000006,
            "bin_end": 70.3,
            "count": 10
           },
           {
            "bin_start": 70.3,
            "bin_end": 80.2,
            "count": 10
           },
           {
            "bin_start": 80.2,
            "bin_end": 90.10000000000001,
            "count": 10
           },
           {
            "bin_start": 90.10000000000001,
            "bin_end": 100,
            "count": 10
           }
          ]
         }
        },
        {
         "name": "_deepnote_index_column",
         "dtype": "int64"
        }
       ],
       "rows": [
        {
         "mean_fit_time": 1.741157627105713,
         "std_fit_time": 0.04761143870842222,
         "mean_score_time": 0.12623558044433594,
         "std_score_time": 0.001822891183313187,
         "param_criterion": "gini",
         "param_max_depth": "16",
         "param_max_features": "sqrt",
         "param_min_samples_leaf": "1",
         "param_min_samples_split": "4",
         "param_random_state": "4",
         "params": "{'criterion': 'gini', 'max_depth': 16, 'max_features': 'sqrt', 'min_samples_leaf': 1, 'min_samples_…",
         "split0_test_score": 0.9412673879443586,
         "split1_test_score": 0.9409582689335394,
         "split2_test_score": 0.9423493044822256,
         "split3_test_score": 0.9401854714064914,
         "split4_test_score": 0.9428041428350595,
         "mean_test_score": 0.9415129151203349,
         "std_test_score": 0.0009483500383349173,
         "rank_test_score": 3,
         "_deepnote_index_column": 0
        },
        {
         "mean_fit_time": 1.5700050830841064,
         "std_fit_time": 0.03744789726577894,
         "mean_score_time": 0.10549674034118653,
         "std_score_time": 0.018308841471055586,
         "param_criterion": "entropy",
         "param_max_depth": "10",
         "param_max_features": "sqrt",
         "param_min_samples_leaf": "19",
         "param_min_samples_split": "5",
         "param_random_state": "7",
         "params": "{'criterion': 'entropy', 'max_depth': 10, 'max_features': 'sqrt', 'min_samples_leaf': 19, 'min_samp…",
         "split0_test_score": 0.8632148377125193,
         "split1_test_score": 0.866306027820711,
         "split2_test_score": 0.8678516228748068,
         "split3_test_score": 0.8585780525502318,
         "split4_test_score": 0.8610295254289689,
         "mean_test_score": 0.8633960132774476,
         "std_test_score": 0.0033813156142957655,
         "rank_test_score": 47,
         "_deepnote_index_column": 1
        },
        {
         "mean_fit_time": 1.5785960674285888,
         "std_fit_time": 0.05041297752687228,
         "mean_score_time": 0.12013454437255859,
         "std_score_time": 0.012664712655887506,
         "param_criterion": "gini",
         "param_max_depth": "13",
         "param_max_features": "log2",
         "param_min_samples_leaf": "2",
         "param_min_samples_split": "7",
         "param_random_state": "8",
         "params": "{'criterion': 'gini', 'max_depth': 13, 'max_features': 'log2', 'min_samples_leaf': 2, 'min_samples_…",
         "split0_test_score": 0.9157650695517774,
         "split1_test_score": 0.919629057187017,
         "split2_test_score": 0.9173106646058733,
         "split3_test_score": 0.9146831530139103,
         "split4_test_score": 0.9228628845262019,
         "mean_test_score": 0.918050165776956,
         "std_test_score": 0.002924396058367547,
         "rank_test_score": 16,
         "_deepnote_index_column": 2
        },
        {
         "mean_fit_time": 1.7655380725860597,
         "std_fit_time": 0.0682682421824199,
         "mean_score_time": 0.10704803466796875,
         "std_score_time": 0.0037782227661251966,
         "param_criterion": "entropy",
         "param_max_depth": "15",
         "param_max_features": "auto",
         "param_min_samples_leaf": "18",
         "param_min_samples_split": "6",
         "param_random_state": "14",
         "params": "{'criterion': 'entropy', 'max_depth': 15, 'max_features': 'auto', 'min_samples_leaf': 18, 'min_samp…",
         "split0_test_score": 0.898145285935085,
         "split1_test_score": 0.9020092735703246,
         "split2_test_score": 0.9004636785162288,
         "split3_test_score": 0.8922720247295208,
         "split4_test_score": 0.8990570412737672,
         "mean_test_score": 0.8983894608049854,
         "std_test_score": 0.003326671993345097,
         "rank_test_score": 30,
         "_deepnote_index_column": 3
        },
        {
         "mean_fit_time": 1.3567119598388673,
         "std_fit_time": 0.017476604970750136,
         "mean_score_time": 0.10127887725830079,
         "std_score_time": 0.01081538159603968,
         "param_criterion": "gini",
         "param_max_depth": "10",
         "param_max_features": "auto",
         "param_min_samples_leaf": "17",
         "param_min_samples_split": "6",
         "param_random_state": "16",
         "params": "{'criterion': 'gini', 'max_depth': 10, 'max_features': 'auto', 'min_samples_leaf': 17, 'min_samples…",
         "split0_test_score": 0.862596599690881,
         "split1_test_score": 0.8646058732612055,
         "split2_test_score": 0.8724884080370943,
         "split3_test_score": 0.8562596599690881,
         "split4_test_score": 0.8587107744628227,
         "mean_test_score": 0.8629322630842184,
         "std_test_score": 0.005596036915731266,
         "rank_test_score": 48,
         "_deepnote_index_column": 4
        },
        {
         "mean_fit_time": 0.6017141342163086,
         "std_fit_time": 0.011891568254095583,
         "mean_score_time": 0.047699594497680665,
         "std_score_time": 0.002840346572394502,
         "param_criterion": "entropy",
         "param_max_depth": "1",
         "param_max_features": "log2",
         "param_min_samples_leaf": "4",
         "param_min_samples_split": "18",
         "param_random_state": "15",
         "params": "{'criterion': 'entropy', 'max_depth': 1, 'max_features': 'log2', 'min_samples_leaf': 4, 'min_sample…",
         "split0_test_score": 0.6544049459041731,
         "split1_test_score": 0.6319938176197836,
         "split2_test_score": 0.6457496136012365,
         "split3_test_score": 0.6428129829984544,
         "split4_test_score": 0.6412119338383058,
         "mean_test_score": 0.6432346587923906,
         "std_test_score": 0.007234998947243015,
         "rank_test_score": 93,
         "_deepnote_index_column": 5
        },
        {
         "mean_fit_time": 0.06520042419433594,
         "std_fit_time": 0.0027582693767645365,
         "mean_score_time": 0,
         "std_score_time": 0,
         "param_criterion": "entropy",
         "param_max_depth": "1",
         "param_max_features": "sqrt",
         "param_min_samples_leaf": "10",
         "param_min_samples_split": "1",
         "param_random_state": "11",
         "params": "{'criterion': 'entropy', 'max_depth': 1, 'max_features': 'sqrt', 'min_samples_leaf': 10, 'min_sampl…",
         "split0_test_score": "nan",
         "split1_test_score": "nan",
         "split2_test_score": "nan",
         "split3_test_score": "nan",
         "split4_test_score": "nan",
         "mean_test_score": "nan",
         "std_test_score": "nan",
         "rank_test_score": 99,
         "_deepnote_index_column": 6
        },
        {
         "mean_fit_time": 0.9292065620422363,
         "std_fit_time": 0.03977192700215048,
         "mean_score_time": 0.06329269409179687,
         "std_score_time": 0.003660858883915212,
         "param_criterion": "gini",
         "param_max_depth": "4",
         "param_max_features": "log2",
         "param_min_samples_leaf": "12",
         "param_min_samples_split": "19",
         "param_random_state": "3",
         "params": "{'criterion': 'gini', 'max_depth': 4, 'max_features': 'log2', 'min_samples_leaf': 12, 'min_samples_…",
         "split0_test_score": 0.7723338485316847,
         "split1_test_score": 0.7621329211746523,
         "split2_test_score": 0.7707882534775888,
         "split3_test_score": 0.7550231839258115,
         "split4_test_score": 0.7681249033853764,
         "mean_test_score": 0.7656806220990228,
         "std_test_score": 0.006363882486894366,
         "rank_test_score": 75,
         "_deepnote_index_column": 7
        },
        {
         "mean_fit_time": 0.5702732086181641,
         "std_fit_time": 0.01169563288975514,
         "mean_score_time": 0.05115947723388672,
         "std_score_time": 0.004899939001490295,
         "param_criterion": "gini",
         "param_max_depth": "1",
         "param_max_features": "auto",
         "param_min_samples_leaf": "6",
         "param_min_samples_split": "7",
         "param_random_state": "9",
         "params": "{'criterion': 'gini', 'max_depth': 1, 'max_features': 'auto', 'min_samples_leaf': 6, 'min_samples_s…",
         "split0_test_score": 0.6638330757341576,
         "split1_test_score": 0.641885625965997,
         "split2_test_score": 0.6724884080370943,
         "split3_test_score": 0.6678516228748068,
         "split4_test_score": 0.6704281960117483,
         "mean_test_score": 0.6632973857247608,
         "std_test_score": 0.011088866869674866,
         "rank_test_score": 89,
         "_deepnote_index_column": 8
        },
        {
         "mean_fit_time": 1.6168137550354005,
         "std_fit_time": 0.07309009583667234,
         "mean_score_time": 0.12228279113769532,
         "std_score_time": 0.009497799986479899,
         "param_criterion": "gini",
         "param_max_depth": "18",
         "param_max_features": "auto",
         "param_min_samples_leaf": "10",
         "param_min_samples_split": "11",
         "param_random_state": "2",
         "params": "{'criterion': 'gini', 'max_depth': 18, 'max_features': 'auto', 'min_samples_leaf': 10, 'min_samples…",
         "split0_test_score": 0.9270479134466769,
         "split1_test_score": 0.9216383307573416,
         "split2_test_score": 0.9262751159196291,
         "split3_test_score": 0.9307573415765069,
         "split4_test_score": 0.9261091358788066,
         "mean_test_score": 0.9263655675157922,
         "std_test_score": 0.0029042720745792324,
         "rank_test_score": 12,
         "_deepnote_index_column": 9
        }
       ]
      },
      "text/plain": "    mean_fit_time  std_fit_time  mean_score_time  std_score_time  \\\n0        1.741158      0.047611         0.126236        0.001823   \n1        1.570005      0.037448         0.105497        0.018309   \n2        1.578596      0.050413         0.120135        0.012665   \n3        1.765538      0.068268         0.107048        0.003778   \n4        1.356712      0.017477         0.101279        0.010815   \n..            ...           ...              ...             ...   \n95       1.931059      0.053546         0.124601        0.010277   \n96       1.430756      0.018628         0.099347        0.002077   \n97       1.222304      0.012381         0.076636        0.005143   \n98       1.025434      0.028490         0.065588        0.005372   \n99       1.010878      0.010905         0.069715        0.002442   \n\n   param_criterion param_max_depth param_max_features param_min_samples_leaf  \\\n0             gini              16               sqrt                      1   \n1          entropy              10               sqrt                     19   \n2             gini              13               log2                      2   \n3          entropy              15               auto                     18   \n4             gini              10               auto                     17   \n..             ...             ...                ...                    ...   \n95         entropy              15               sqrt                      2   \n96            gini              11               log2                     15   \n97         entropy               6               log2                      4   \n98         entropy               4               sqrt                     15   \n99            gini               5               sqrt                      6   \n\n   param_min_samples_split param_random_state  \\\n0                        4                  4   \n1                        5                  7   \n2                        7                  8   \n3                        6                 14   \n4                        6                 16   \n..                     ...                ...   \n95                       6                  7   \n96                       9                  8   \n97                      11                 19   \n98                      19                  6   \n99                       4                  6   \n\n                                               params  split0_test_score  \\\n0   {'criterion': 'gini', 'max_depth': 16, 'max_fe...           0.941267   \n1   {'criterion': 'entropy', 'max_depth': 10, 'max...           0.863215   \n2   {'criterion': 'gini', 'max_depth': 13, 'max_fe...           0.915765   \n3   {'criterion': 'entropy', 'max_depth': 15, 'max...           0.898145   \n4   {'criterion': 'gini', 'max_depth': 10, 'max_fe...           0.862597   \n..                                                ...                ...   \n95  {'criterion': 'entropy', 'max_depth': 15, 'max...           0.930139   \n96  {'criterion': 'gini', 'max_depth': 11, 'max_fe...           0.876043   \n97  {'criterion': 'entropy', 'max_depth': 6, 'max_...           0.811283   \n98  {'criterion': 'entropy', 'max_depth': 4, 'max_...           0.761824   \n99  {'criterion': 'gini', 'max_depth': 5, 'max_fea...           0.781762   \n\n    split1_test_score  split2_test_score  split3_test_score  \\\n0            0.940958           0.942349           0.940185   \n1            0.866306           0.867852           0.858578   \n2            0.919629           0.917311           0.914683   \n3            0.902009           0.900464           0.892272   \n4            0.864606           0.872488           0.856260   \n..                ...                ...                ...   \n95           0.928284           0.929675           0.932612   \n96           0.879753           0.884235           0.866615   \n97           0.811283           0.806955           0.795518   \n98           0.757651           0.766151           0.744049   \n99           0.800464           0.794127           0.770634   \n\n    split4_test_score  mean_test_score  std_test_score  rank_test_score  \n0            0.942804         0.941513        0.000948                3  \n1            0.861030         0.863396        0.003381               47  \n2            0.922863         0.918050        0.002924               16  \n3            0.899057         0.898389        0.003327               30  \n4            0.858711         0.862932        0.005596               48  \n..                ...              ...             ...              ...  \n95           0.931365         0.930415        0.001476                6  \n96           0.875406         0.876410        0.005822               43  \n97           0.805689         0.806145        0.005772               64  \n98           0.752512         0.756437        0.007664               79  \n99           0.791312         0.787660        0.010429               66  \n\n[100 rows x 19 columns]",
      "text/html": "<div>\n<style scoped>\n    .dataframe tbody tr th:only-of-type {\n        vertical-align: middle;\n    }\n\n    .dataframe tbody tr th {\n        vertical-align: top;\n    }\n\n    .dataframe thead th {\n        text-align: right;\n    }\n</style>\n<table border=\"1\" class=\"dataframe\">\n  <thead>\n    <tr style=\"text-align: right;\">\n      <th></th>\n      <th>mean_fit_time</th>\n      <th>std_fit_time</th>\n      <th>mean_score_time</th>\n      <th>std_score_time</th>\n      <th>param_criterion</th>\n      <th>param_max_depth</th>\n      <th>param_max_features</th>\n      <th>param_min_samples_leaf</th>\n      <th>param_min_samples_split</th>\n      <th>param_random_state</th>\n      <th>params</th>\n      <th>split0_test_score</th>\n      <th>split1_test_score</th>\n      <th>split2_test_score</th>\n      <th>split3_test_score</th>\n      <th>split4_test_score</th>\n      <th>mean_test_score</th>\n      <th>std_test_score</th>\n      <th>rank_test_score</th>\n    </tr>\n  </thead>\n  <tbody>\n    <tr>\n      <th>0</th>\n      <td>1.741158</td>\n      <td>0.047611</td>\n      <td>0.126236</td>\n      <td>0.001823</td>\n      <td>gini</td>\n      <td>16</td>\n      <td>sqrt</td>\n      <td>1</td>\n      <td>4</td>\n      <td>4</td>\n      <td>{'criterion': 'gini', 'max_depth': 16, 'max_fe...</td>\n      <td>0.941267</td>\n      <td>0.940958</td>\n      <td>0.942349</td>\n      <td>0.940185</td>\n      <td>0.942804</td>\n      <td>0.941513</td>\n      <td>0.000948</td>\n      <td>3</td>\n    </tr>\n    <tr>\n      <th>1</th>\n      <td>1.570005</td>\n      <td>0.037448</td>\n      <td>0.105497</td>\n      <td>0.018309</td>\n      <td>entropy</td>\n      <td>10</td>\n      <td>sqrt</td>\n      <td>19</td>\n      <td>5</td>\n      <td>7</td>\n      <td>{'criterion': 'entropy', 'max_depth': 10, 'max...</td>\n      <td>0.863215</td>\n      <td>0.866306</td>\n      <td>0.867852</td>\n      <td>0.858578</td>\n      <td>0.861030</td>\n      <td>0.863396</td>\n      <td>0.003381</td>\n      <td>47</td>\n    </tr>\n    <tr>\n      <th>2</th>\n      <td>1.578596</td>\n      <td>0.050413</td>\n      <td>0.120135</td>\n      <td>0.012665</td>\n      <td>gini</td>\n      <td>13</td>\n      <td>log2</td>\n      <td>2</td>\n      <td>7</td>\n      <td>8</td>\n      <td>{'criterion': 'gini', 'max_depth': 13, 'max_fe...</td>\n      <td>0.915765</td>\n      <td>0.919629</td>\n      <td>0.917311</td>\n      <td>0.914683</td>\n      <td>0.922863</td>\n      <td>0.918050</td>\n      <td>0.002924</td>\n      <td>16</td>\n    </tr>\n    <tr>\n      <th>3</th>\n      <td>1.765538</td>\n      <td>0.068268</td>\n      <td>0.107048</td>\n      <td>0.003778</td>\n      <td>entropy</td>\n      <td>15</td>\n      <td>auto</td>\n      <td>18</td>\n      <td>6</td>\n      <td>14</td>\n      <td>{'criterion': 'entropy', 'max_depth': 15, 'max...</td>\n      <td>0.898145</td>\n      <td>0.902009</td>\n      <td>0.900464</td>\n      <td>0.892272</td>\n      <td>0.899057</td>\n      <td>0.898389</td>\n      <td>0.003327</td>\n      <td>30</td>\n    </tr>\n    <tr>\n      <th>4</th>\n      <td>1.356712</td>\n      <td>0.017477</td>\n      <td>0.101279</td>\n      <td>0.010815</td>\n      <td>gini</td>\n      <td>10</td>\n      <td>auto</td>\n      <td>17</td>\n      <td>6</td>\n      <td>16</td>\n      <td>{'criterion': 'gini', 'max_depth': 10, 'max_fe...</td>\n      <td>0.862597</td>\n      <td>0.864606</td>\n      <td>0.872488</td>\n      <td>0.856260</td>\n      <td>0.858711</td>\n      <td>0.862932</td>\n      <td>0.005596</td>\n      <td>48</td>\n    </tr>\n    <tr>\n      <th>...</th>\n      <td>...</td>\n      <td>...</td>\n      <td>...</td>\n      <td>...</td>\n      <td>...</td>\n      <td>...</td>\n      <td>...</td>\n      <td>...</td>\n      <td>...</td>\n      <td>...</td>\n      <td>...</td>\n      <td>...</td>\n      <td>...</td>\n      <td>...</td>\n      <td>...</td>\n      <td>...</td>\n      <td>...</td>\n      <td>...</td>\n      <td>...</td>\n    </tr>\n    <tr>\n      <th>95</th>\n      <td>1.931059</td>\n      <td>0.053546</td>\n      <td>0.124601</td>\n      <td>0.010277</td>\n      <td>entropy</td>\n      <td>15</td>\n      <td>sqrt</td>\n      <td>2</td>\n      <td>6</td>\n      <td>7</td>\n      <td>{'criterion': 'entropy', 'max_depth': 15, 'max...</td>\n      <td>0.930139</td>\n      <td>0.928284</td>\n      <td>0.929675</td>\n      <td>0.932612</td>\n      <td>0.931365</td>\n      <td>0.930415</td>\n      <td>0.001476</td>\n      <td>6</td>\n    </tr>\n    <tr>\n      <th>96</th>\n      <td>1.430756</td>\n      <td>0.018628</td>\n      <td>0.099347</td>\n      <td>0.002077</td>\n      <td>gini</td>\n      <td>11</td>\n      <td>log2</td>\n      <td>15</td>\n      <td>9</td>\n      <td>8</td>\n      <td>{'criterion': 'gini', 'max_depth': 11, 'max_fe...</td>\n      <td>0.876043</td>\n      <td>0.879753</td>\n      <td>0.884235</td>\n      <td>0.866615</td>\n      <td>0.875406</td>\n      <td>0.876410</td>\n      <td>0.005822</td>\n      <td>43</td>\n    </tr>\n    <tr>\n      <th>97</th>\n      <td>1.222304</td>\n      <td>0.012381</td>\n      <td>0.076636</td>\n      <td>0.005143</td>\n      <td>entropy</td>\n      <td>6</td>\n      <td>log2</td>\n      <td>4</td>\n      <td>11</td>\n      <td>19</td>\n      <td>{'criterion': 'entropy', 'max_depth': 6, 'max_...</td>\n      <td>0.811283</td>\n      <td>0.811283</td>\n      <td>0.806955</td>\n      <td>0.795518</td>\n      <td>0.805689</td>\n      <td>0.806145</td>\n      <td>0.005772</td>\n      <td>64</td>\n    </tr>\n    <tr>\n      <th>98</th>\n      <td>1.025434</td>\n      <td>0.028490</td>\n      <td>0.065588</td>\n      <td>0.005372</td>\n      <td>entropy</td>\n      <td>4</td>\n      <td>sqrt</td>\n      <td>15</td>\n      <td>19</td>\n      <td>6</td>\n      <td>{'criterion': 'entropy', 'max_depth': 4, 'max_...</td>\n      <td>0.761824</td>\n      <td>0.757651</td>\n      <td>0.766151</td>\n      <td>0.744049</td>\n      <td>0.752512</td>\n      <td>0.756437</td>\n      <td>0.007664</td>\n      <td>79</td>\n    </tr>\n    <tr>\n      <th>99</th>\n      <td>1.010878</td>\n      <td>0.010905</td>\n      <td>0.069715</td>\n      <td>0.002442</td>\n      <td>gini</td>\n      <td>5</td>\n      <td>sqrt</td>\n      <td>6</td>\n      <td>4</td>\n      <td>6</td>\n      <td>{'criterion': 'gini', 'max_depth': 5, 'max_fea...</td>\n      <td>0.781762</td>\n      <td>0.800464</td>\n      <td>0.794127</td>\n      <td>0.770634</td>\n      <td>0.791312</td>\n      <td>0.787660</td>\n      <td>0.010429</td>\n      <td>66</td>\n    </tr>\n  </tbody>\n</table>\n<p>100 rows × 19 columns</p>\n</div>"
     },
     "metadata": {}
    }
   ],
   "execution_count": null
  },
  {
   "cell_type": "code",
   "metadata": {
    "datalore": {
     "type": "CODE",
     "hide_input_from_viewers": false,
     "hide_output_from_viewers": false
    },
    "cell_id": "00128-990fc73e-5b78-4836-97e0-4fff92156074",
    "deepnote_to_be_reexecuted": false,
    "source_hash": "5c755975",
    "execution_start": 1647918469539,
    "execution_millis": 279,
    "deepnote_app_coordinates": {
     "x": 0,
     "y": 672,
     "w": 12,
     "h": 5
    },
    "deepnote_cell_type": "code",
    "deepnote_cell_height": 98.60000610351562
   },
   "source": "#Prediccion\nprediction = model.predict(X_test)",
   "outputs": [],
   "execution_count": null
  },
  {
   "cell_type": "code",
   "metadata": {
    "datalore": {
     "type": "CODE",
     "hide_input_from_viewers": false,
     "hide_output_from_viewers": false
    },
    "cell_id": "00129-6dff5c97-c99a-4178-ab7a-1a37ebdc15fd",
    "deepnote_to_be_reexecuted": false,
    "source_hash": "b2677b45",
    "execution_start": 1647918469824,
    "execution_millis": 415,
    "deepnote_app_coordinates": {
     "x": 0,
     "y": 678,
     "w": 12,
     "h": 5
    },
    "deepnote_cell_type": "code",
    "deepnote_cell_height": 129.39999389648438
   },
   "source": "#Accuracy\nprint('Exactitud:', accuracy_score(y_test, prediction))",
   "outputs": [
    {
     "name": "stdout",
     "text": "Exactitud: 0.9509556437071763\n",
     "output_type": "stream"
    }
   ],
   "execution_count": null
  },
  {
   "cell_type": "markdown",
   "source": "Como pudimos notar, la exactitud de nuestro modelo es igual a la que obtuvimos al inicio. Eso nos refleja que al menor por hyperparametros, nuestro modelo esta 100% optimizado.",
   "metadata": {
    "datalore": {
     "type": "MD",
     "hide_input_from_viewers": false,
     "hide_output_from_viewers": false
    },
    "cell_id": "00130-5176b68b-9bcf-498c-896c-b687e9040f8a",
    "deepnote_app_coordinates": {
     "x": 0,
     "y": 684,
     "w": 12,
     "h": 5
    },
    "deepnote_cell_type": "markdown",
    "deepnote_cell_height": 74.39999389648438
   }
  },
  {
   "cell_type": "markdown",
   "source": "## Modelos de Boosting",
   "metadata": {
    "datalore": {
     "type": "MD",
     "hide_input_from_viewers": false,
     "hide_output_from_viewers": false
    },
    "cell_id": "00131-5945d5c0-6381-4acd-8e1b-2e9bde52e4b5",
    "deepnote_app_coordinates": {
     "x": 0,
     "y": 690,
     "w": 12,
     "h": 5
    },
    "deepnote_cell_type": "markdown",
    "deepnote_cell_height": 69.60000610351562
   }
  },
  {
   "cell_type": "markdown",
   "source": "### Adaboost",
   "metadata": {
    "datalore": {
     "type": "MD",
     "hide_input_from_viewers": false,
     "hide_output_from_viewers": false
    },
    "cell_id": "00132-a297bf7b-47ee-4cba-8b4a-67085dd9783d",
    "deepnote_app_coordinates": {
     "x": 0,
     "y": 696,
     "w": 12,
     "h": 5
    },
    "deepnote_cell_type": "markdown",
    "deepnote_cell_height": 61.600006103515625
   }
  },
  {
   "cell_type": "markdown",
   "source": "El primer algoritmo que ocuparemos sera el de Adaboost, este entrena de forma secuencial los datos a traves de diferentes instancias (aprendices) y los va marcando dependiendo de los errores que comenten en la clasificación",
   "metadata": {
    "datalore": {
     "type": "MD",
     "hide_input_from_viewers": false,
     "hide_output_from_viewers": false
    },
    "cell_id": "00133-94b91887-99f9-4ff3-aaaf-c6af2220c6c1",
    "deepnote_app_coordinates": {
     "x": 0,
     "y": 702,
     "w": 12,
     "h": 5
    },
    "deepnote_cell_type": "markdown",
    "deepnote_cell_height": 74.39999389648438
   }
  },
  {
   "cell_type": "code",
   "metadata": {
    "datalore": {
     "type": "CODE",
     "hide_input_from_viewers": false,
     "hide_output_from_viewers": false
    },
    "cell_id": "00134-7666eefd-a83a-4bc5-8f53-c764479c32d0",
    "deepnote_to_be_reexecuted": false,
    "source_hash": "d653d969",
    "execution_start": 1647918469837,
    "execution_millis": 6,
    "deepnote_app_coordinates": {
     "x": 0,
     "y": 708,
     "w": 12,
     "h": 5
    },
    "deepnote_cell_type": "code",
    "deepnote_cell_height": 152.60000610351562
   },
   "source": "# Importamos la libreria del modelo\nfrom sklearn.ensemble import AdaBoostClassifier\n\nX = data_limpia.drop(\"Target\", axis=1) #Elimino de mi dataset la variable a predecir\ny = data_limpia.Target #Defino el Target",
   "outputs": [],
   "execution_count": null
  },
  {
   "cell_type": "code",
   "metadata": {
    "datalore": {
     "type": "CODE",
     "hide_input_from_viewers": false,
     "hide_output_from_viewers": false
    },
    "cell_id": "00135-9a394d51-6ba0-47a5-8d53-773d78286939",
    "deepnote_to_be_reexecuted": false,
    "source_hash": "63b85e94",
    "execution_start": 1647918469849,
    "execution_millis": 393,
    "deepnote_app_coordinates": {
     "x": 0,
     "y": 714,
     "w": 12,
     "h": 5
    },
    "deepnote_cell_type": "code",
    "deepnote_cell_height": 210.39999389648438,
    "deepnote_output_heights": [
     60
    ]
   },
   "source": "# Balanceamos la data\nX, y= sm.fit_resample(X, y)\n# Vemos como esta la proporción de los buenos con los malos\ny.value_counts()",
   "outputs": [
    {
     "output_type": "execute_result",
     "execution_count": 76,
     "data": {
      "text/plain": "1    23107\n0    23107\nName: Target, dtype: int64"
     },
     "metadata": {}
    }
   ],
   "execution_count": null
  },
  {
   "cell_type": "code",
   "metadata": {
    "datalore": {
     "type": "CODE",
     "hide_input_from_viewers": false,
     "hide_output_from_viewers": false
    },
    "cell_id": "00136-5560a8f1-6430-47ca-97f8-42bd1e417d2b",
    "deepnote_to_be_reexecuted": false,
    "source_hash": "e4a87c49",
    "execution_start": 1647918469924,
    "execution_millis": 1,
    "deepnote_app_coordinates": {
     "x": 0,
     "y": 720,
     "w": 12,
     "h": 5
    },
    "deepnote_cell_type": "code",
    "deepnote_cell_height": 98.60000610351562
   },
   "source": "# Separación en Train y Test\nX_train, X_test, y_train, y_test = train_test_split(X, y, test_size=0.3) # 70% training y 30% test",
   "outputs": [],
   "execution_count": null
  },
  {
   "cell_type": "code",
   "metadata": {
    "datalore": {
     "type": "CODE",
     "hide_input_from_viewers": false,
     "hide_output_from_viewers": false
    },
    "cell_id": "00137-57253fc6-0c34-48ae-a9e3-8194a56b6ad7",
    "deepnote_to_be_reexecuted": false,
    "source_hash": "172a30cc",
    "execution_start": 1647918469925,
    "execution_millis": 974,
    "deepnote_app_coordinates": {
     "x": 0,
     "y": 726,
     "w": 12,
     "h": 5
    },
    "deepnote_cell_type": "code",
    "deepnote_cell_height": 171.39999389648438,
    "deepnote_output_heights": [
     21
    ]
   },
   "source": "# Creamos el modelo AdaBoostClassifier\nada = AdaBoostClassifier(n_estimators=50, learning_rate=1)\n# Se fitea el modelo\nada.fit(X_train, y_train)",
   "outputs": [
    {
     "output_type": "execute_result",
     "execution_count": 78,
     "data": {
      "text/plain": "AdaBoostClassifier(learning_rate=1)"
     },
     "metadata": {}
    }
   ],
   "execution_count": null
  },
  {
   "cell_type": "code",
   "metadata": {
    "datalore": {
     "type": "CODE",
     "hide_input_from_viewers": false,
     "hide_output_from_viewers": false
    },
    "cell_id": "00138-cd6f2540-454d-4ec3-90a6-a5adf3567ada",
    "deepnote_to_be_reexecuted": false,
    "source_hash": "60b65bd6",
    "execution_start": 1647918470902,
    "execution_millis": 363,
    "deepnote_app_coordinates": {
     "x": 0,
     "y": 732,
     "w": 12,
     "h": 5
    },
    "deepnote_cell_type": "code",
    "deepnote_cell_height": 134.60000610351562
   },
   "source": "# Predicción en Train\ny_train_pred = ada.predict(X_train)\n# Predicción en Test\ny_test_pred = ada.predict(X_test)",
   "outputs": [],
   "execution_count": null
  },
  {
   "cell_type": "code",
   "metadata": {
    "datalore": {
     "type": "CODE",
     "hide_input_from_viewers": false,
     "hide_output_from_viewers": false
    },
    "cell_id": "00139-ad82874d-6661-4793-be70-9497d4d73d7c",
    "deepnote_to_be_reexecuted": false,
    "source_hash": "26aa6008",
    "execution_start": 1647918471276,
    "execution_millis": 20,
    "deepnote_app_coordinates": {
     "x": 0,
     "y": 738,
     "w": 12,
     "h": 5
    },
    "deepnote_cell_type": "code",
    "deepnote_cell_height": 257.3999938964844
   },
   "source": "# Calculo de accuracy en Train\ntrain_accuracy = accuracy_score(y_train, y_train_pred)\n\n# Calculo de accuracy en Test\ntest_accuracy = accuracy_score(y_test, y_test_pred)\n\nprint('% de aciertos sobre el set de entrenamiento:', train_accuracy)\nprint('% de aciertos sobre el set de evaluación:', test_accuracy)",
   "outputs": [
    {
     "name": "stdout",
     "text": "% de aciertos sobre el set de entrenamiento: 0.7924510804043402\n% de aciertos sobre el set de evaluación: 0.7886043995672557\n",
     "output_type": "stream"
    }
   ],
   "execution_count": null
  },
  {
   "cell_type": "code",
   "metadata": {
    "datalore": {
     "type": "CODE",
     "hide_input_from_viewers": false,
     "hide_output_from_viewers": false
    },
    "cell_id": "00140-3a274db7-164b-4709-a11b-b1dad35fbf2e",
    "deepnote_to_be_reexecuted": false,
    "source_hash": "97349509",
    "execution_start": 1647918471306,
    "execution_millis": 241,
    "deepnote_app_coordinates": {
     "x": 0,
     "y": 744,
     "w": 12,
     "h": 5
    },
    "deepnote_cell_type": "code",
    "deepnote_cell_height": 432.3999938964844,
    "deepnote_output_heights": [
     264
    ]
   },
   "source": "cm = confusion_matrix(y_test, y_test_pred, labels= ada.classes_)\ndisp = ConfusionMatrixDisplay(confusion_matrix=cm,\n                              display_labels=ada.classes_)\ndisp.plot()\nplt.show()",
   "outputs": [
    {
     "data": {
      "text/plain": "<Figure size 432x288 with 2 Axes>",
      "image/png": "[encoded data removed]"
     },
     "metadata": {
      "needs_background": "light",
      "image/png": {
       "width": 318,
       "height": 262
      }
     },
     "output_type": "display_data"
    }
   ],
   "execution_count": null
  },
  {
   "cell_type": "code",
   "metadata": {
    "datalore": {
     "type": "CODE",
     "hide_input_from_viewers": false,
     "hide_output_from_viewers": false
    },
    "cell_id": "00141-1dce1904-a2fe-451e-b696-9899b777d5bd",
    "deepnote_to_be_reexecuted": false,
    "source_hash": "ec656970",
    "execution_start": 1647918471556,
    "execution_millis": 81,
    "deepnote_app_coordinates": {
     "x": 0,
     "y": 750,
     "w": 12,
     "h": 5
    },
    "deepnote_cell_type": "code",
    "deepnote_cell_height": 829.4000244140625
   },
   "source": "print(\"Recall:\")\n\n# Calculo de recall en Train\ntrain_recall = recall_score(y_train, y_train_pred)\n\n# Calculo de recall en Test\ntest_recall = recall_score(y_test, y_test_pred)\n\nprint('% de recall sobre el set de entrenamiento:', train_recall)\nprint('% de recall sobre el set de evaluación:', test_recall)\n\nprint(\"Precisión:\")\n\n# Calculo de precisión en Train\ntrain_precision = precision_score(y_train, y_train_pred)\n\n# Calculo de precisión en Test\ntest_precision = precision_score(y_test, y_test_pred)\n\nprint('% de precisión sobre el set de entrenamiento:', train_precision)\nprint('% de precisión sobre el set de evaluación:', test_precision)\n\nprint(\"F1 Score:\")\n\n# Calculo de f1 score en Train\ntrain_f1_score = f1_score(y_train, y_train_pred)\n\n# Calculo de f1 score en Test\ntest_f1_score = f1_score(y_test, y_test_pred)\n\nprint('% de f1 score sobre el set de entrenamiento:', train_f1_score)\nprint('% de f1_score sobre el set de evaluación:', test_f1_score)",
   "outputs": [
    {
     "name": "stdout",
     "text": "Recall:\n% de recall sobre el set de entrenamiento: 0.8537569026493764\n% de recall sobre el set de evaluación: 0.8509298998569385\nPrecisión:\n% de precisión sobre el set de entrenamiento: 0.7595076447535464\n% de precisión sobre el set de evaluación: 0.7589638892433329\nF1 Score:\n% de f1 score sobre el set de entrenamiento: 0.8038791844365251\n% de f1_score sobre el set de evaluación: 0.8023200917245565\n",
     "output_type": "stream"
    }
   ],
   "execution_count": null
  },
  {
   "cell_type": "markdown",
   "source": "### Xgboost",
   "metadata": {
    "datalore": {
     "type": "MD",
     "hide_input_from_viewers": false,
     "hide_output_from_viewers": false
    },
    "cell_id": "00142-616f7dc0-08dd-4a3d-84b7-10b1aac74662",
    "deepnote_app_coordinates": {
     "x": 0,
     "y": 756,
     "w": 12,
     "h": 5
    },
    "deepnote_cell_type": "markdown",
    "deepnote_cell_height": 61.600006103515625
   }
  },
  {
   "cell_type": "markdown",
   "source": "El segundo algoritmo que ocuparemos sera el de XGBoosting el cual genera modelos de predicción \"débiles\" secuencialmente y cada uno de ellos toma los resultados del modelo anterior para generar un modelo más fuerte con mejor predicción y estabilidad",
   "metadata": {
    "datalore": {
     "type": "MD",
     "hide_input_from_viewers": false,
     "hide_output_from_viewers": false
    },
    "cell_id": "00143-70198170-0718-40d9-bce1-997b4fd01572",
    "deepnote_app_coordinates": {
     "x": 0,
     "y": 762,
     "w": 12,
     "h": 5
    },
    "deepnote_cell_type": "markdown",
    "deepnote_cell_height": 74.39999389648438
   }
  },
  {
   "cell_type": "code",
   "metadata": {
    "cell_id": "58fa780a-1e7b-45b3-b714-d30834954d22",
    "tags": [],
    "deepnote_to_be_reexecuted": false,
    "source_hash": "204207d2",
    "execution_start": 1647918471655,
    "execution_millis": 14073,
    "deepnote_app_coordinates": {
     "x": 0,
     "y": 852,
     "w": 12,
     "h": 5
    },
    "deepnote_cell_type": "code",
    "deepnote_cell_height": 289.3999938964844
   },
   "source": "# Instalamos la libreria si no la tenemos\n!pip install xgboost",
   "outputs": [
    {
     "name": "stdout",
     "text": "Collecting xgboost\n  Downloading xgboost-1.5.2-py3-none-manylinux2014_x86_64.whl (173.6 MB)\n\u001b[K     |████████████████████████████████| 173.6 MB 43.5 MB/s \n\u001b[?25hRequirement already satisfied: scipy in /shared-libs/python3.9/py/lib/python3.9/site-packages (from xgboost) (1.8.0)\nRequirement already satisfied: numpy in /shared-libs/python3.9/py-core/lib/python3.9/site-packages (from xgboost) (1.22.3)\nInstalling collected packages: xgboost\nSuccessfully installed xgboost-1.5.2\n\u001b[33mWARNING: You are using pip version 21.2.3; however, version 22.0.4 is available.\nYou should consider upgrading via the '/root/venv/bin/python -m pip install --upgrade pip' command.\u001b[0m\n",
     "output_type": "stream"
    }
   ],
   "execution_count": null
  },
  {
   "cell_type": "code",
   "metadata": {
    "datalore": {
     "type": "CODE",
     "hide_input_from_viewers": false,
     "hide_output_from_viewers": false
    },
    "cell_id": "00144-b24062f8-cd69-4582-ac2d-4cafdcda5fd6",
    "deepnote_to_be_reexecuted": false,
    "source_hash": "3e8a2ee8",
    "execution_start": 1647918485363,
    "execution_millis": 907,
    "deepnote_app_coordinates": {
     "x": 0,
     "y": 768,
     "w": 12,
     "h": 5
    },
    "deepnote_cell_type": "code",
    "deepnote_cell_height": 243.39999389648438
   },
   "source": "# Importamos la libreria del modelo\nimport xgboost as xgb\n\nX = data_limpia.drop(\"Target\", axis=1) #Elimino de mi dataset la variable a predecir\ny = data_limpia.Target #Defino el Target",
   "outputs": [
    {
     "name": "stderr",
     "text": "/root/venv/lib/python3.9/site-packages/xgboost/compat.py:36: FutureWarning:\n\npandas.Int64Index is deprecated and will be removed from pandas in a future version. Use pandas.Index with the appropriate dtype instead.\n\n",
     "output_type": "stream"
    }
   ],
   "execution_count": null
  },
  {
   "cell_type": "code",
   "metadata": {
    "datalore": {
     "type": "CODE",
     "hide_input_from_viewers": false,
     "hide_output_from_viewers": false
    },
    "cell_id": "00145-1b3e1ff4-7f21-488e-b6f7-4b8f5ebb3e4f",
    "deepnote_to_be_reexecuted": false,
    "source_hash": "63b85e94",
    "execution_start": 1647918486282,
    "execution_millis": 24,
    "deepnote_app_coordinates": {
     "x": 0,
     "y": 774,
     "w": 12,
     "h": 5
    },
    "deepnote_cell_type": "code",
    "deepnote_cell_height": 210.39999389648438,
    "deepnote_output_heights": [
     60
    ]
   },
   "source": "# Balanceamos la data\nX, y= sm.fit_resample(X, y)\n# Vemos como esta la proporción de los buenos con los malos\ny.value_counts()",
   "outputs": [
    {
     "output_type": "execute_result",
     "execution_count": 85,
     "data": {
      "text/plain": "1    23107\n0    23107\nName: Target, dtype: int64"
     },
     "metadata": {}
    }
   ],
   "execution_count": null
  },
  {
   "cell_type": "code",
   "metadata": {
    "datalore": {
     "type": "CODE",
     "hide_input_from_viewers": false,
     "hide_output_from_viewers": false
    },
    "cell_id": "00146-ad27d7fc-2ec8-45b0-862e-108ca27b4104",
    "deepnote_to_be_reexecuted": false,
    "source_hash": "e4a87c49",
    "execution_start": 1647918486315,
    "execution_millis": 10,
    "deepnote_app_coordinates": {
     "x": 0,
     "y": 780,
     "w": 12,
     "h": 5
    },
    "deepnote_cell_type": "code",
    "deepnote_cell_height": 98.60000610351562
   },
   "source": "# Separación en Train y Test\nX_train, X_test, y_train, y_test = train_test_split(X, y, test_size=0.3) # 70% training y 30% test",
   "outputs": [],
   "execution_count": null
  },
  {
   "cell_type": "code",
   "metadata": {
    "datalore": {
     "type": "CODE",
     "hide_input_from_viewers": false,
     "hide_output_from_viewers": false
    },
    "cell_id": "00147-502d3f50-549d-4846-aa29-02776844616b",
    "deepnote_to_be_reexecuted": false,
    "source_hash": "ccba1c60",
    "execution_start": 1647918486337,
    "execution_millis": 5,
    "deepnote_app_coordinates": {
     "x": 0,
     "y": 786,
     "w": 12,
     "h": 5
    },
    "deepnote_cell_type": "code",
    "deepnote_cell_height": 80.60000610351562
   },
   "source": "clf_xgb = xgb.XGBClassifier(objective='binary:logistic', n_estimators=40, seed=123)",
   "outputs": [],
   "execution_count": null
  },
  {
   "cell_type": "code",
   "metadata": {
    "datalore": {
     "type": "CODE",
     "hide_input_from_viewers": false,
     "hide_output_from_viewers": false
    },
    "cell_id": "00148-98e0f048-d79c-41af-9e3a-85d36b5a8b9e",
    "deepnote_to_be_reexecuted": false,
    "source_hash": "2f7f142f",
    "execution_start": 1647918486346,
    "execution_millis": 1177,
    "deepnote_app_coordinates": {
     "x": 0,
     "y": 792,
     "w": 12,
     "h": 5
    },
    "deepnote_cell_type": "code",
    "deepnote_cell_height": 513,
    "deepnote_output_heights": [
     null,
     194
    ]
   },
   "source": "clf_xgb.fit(X_train, y_train)",
   "outputs": [
    {
     "name": "stderr",
     "text": "/root/venv/lib/python3.9/site-packages/xgboost/sklearn.py:1224: UserWarning:\n\nThe use of label encoder in XGBClassifier is deprecated and will be removed in a future release. To remove this warning, do the following: 1) Pass option use_label_encoder=False when constructing XGBClassifier object; and 2) Encode your labels (y) as integers starting with 0, i.e. 0, 1, 2, ..., [num_class - 1].\n\n/root/venv/lib/python3.9/site-packages/xgboost/data.py:262: FutureWarning:\n\npandas.Int64Index is deprecated and will be removed from pandas in a future version. Use pandas.Index with the appropriate dtype instead.\n\n[03:08:06] WARNING: ../src/learner.cc:1115: Starting in XGBoost 1.3.0, the default evaluation metric used with the objective 'binary:logistic' was changed from 'error' to 'logloss'. Explicitly set eval_metric if you'd like to restore the old behavior.\n",
     "output_type": "stream"
    },
    {
     "output_type": "execute_result",
     "execution_count": 88,
     "data": {
      "text/plain": "XGBClassifier(base_score=0.5, booster='gbtree', colsample_bylevel=1,\n              colsample_bynode=1, colsample_bytree=1, enable_categorical=False,\n              gamma=0, gpu_id=-1, importance_type=None,\n              interaction_constraints='', learning_rate=0.300000012,\n              max_delta_step=0, max_depth=6, min_child_weight=1, missing=nan,\n              monotone_constraints='()', n_estimators=40, n_jobs=2,\n              num_parallel_tree=1, predictor='auto', random_state=123,\n              reg_alpha=0, reg_lambda=1, scale_pos_weight=1, seed=123,\n              subsample=1, tree_method='exact', validate_parameters=1,\n              verbosity=None)"
     },
     "metadata": {}
    }
   ],
   "execution_count": null
  },
  {
   "cell_type": "code",
   "metadata": {
    "datalore": {
     "type": "CODE",
     "hide_input_from_viewers": false,
     "hide_output_from_viewers": false
    },
    "cell_id": "00149-b281968d-c5e4-4dcd-9668-68bd04ad88ee",
    "deepnote_to_be_reexecuted": false,
    "source_hash": "9974ddb8",
    "execution_start": 1647918487523,
    "execution_millis": 81,
    "deepnote_app_coordinates": {
     "x": 0,
     "y": 798,
     "w": 12,
     "h": 5
    },
    "deepnote_cell_type": "code",
    "deepnote_cell_height": 134.60000610351562
   },
   "source": "# Predicción en Train\ny_train_pred = clf_xgb.predict(X_train)\n# Predicción en Test\ny_test_pred = clf_xgb.predict(X_test)",
   "outputs": [],
   "execution_count": null
  },
  {
   "cell_type": "code",
   "metadata": {
    "datalore": {
     "type": "CODE",
     "hide_input_from_viewers": false,
     "hide_output_from_viewers": false
    },
    "cell_id": "00150-f30a25d5-5cf3-4733-a16d-34199bea2b5f",
    "deepnote_to_be_reexecuted": false,
    "source_hash": "26aa6008",
    "execution_start": 1647918487605,
    "execution_millis": 20,
    "deepnote_app_coordinates": {
     "x": 0,
     "y": 804,
     "w": 12,
     "h": 5
    },
    "deepnote_cell_type": "code",
    "deepnote_cell_height": 257.3999938964844
   },
   "source": "# Calculo de accuracy en Train\ntrain_accuracy = accuracy_score(y_train, y_train_pred)\n\n# Calculo de accuracy en Test\ntest_accuracy = accuracy_score(y_test, y_test_pred)\n\nprint('% de aciertos sobre el set de entrenamiento:', train_accuracy)\nprint('% de aciertos sobre el set de evaluación:', test_accuracy)",
   "outputs": [
    {
     "name": "stdout",
     "text": "% de aciertos sobre el set de entrenamiento: 0.9264583140127979\n% de aciertos sobre el set de evaluación: 0.9191489361702128\n",
     "output_type": "stream"
    }
   ],
   "execution_count": null
  },
  {
   "cell_type": "code",
   "metadata": {
    "datalore": {
     "type": "CODE",
     "hide_input_from_viewers": false,
     "hide_output_from_viewers": false
    },
    "cell_id": "00151-5f03f1c8-5e8c-4f1a-a223-02bc7357ca41",
    "deepnote_to_be_reexecuted": false,
    "source_hash": "19ddaabc",
    "execution_start": 1647918487628,
    "execution_millis": 345,
    "deepnote_app_coordinates": {
     "x": 0,
     "y": 810,
     "w": 12,
     "h": 5
    },
    "deepnote_cell_type": "code",
    "deepnote_cell_height": 432.3999938964844,
    "deepnote_output_heights": [
     264
    ]
   },
   "source": "cm = confusion_matrix(y_test, y_test_pred, labels= clf_xgb.classes_)\ndisp = ConfusionMatrixDisplay(confusion_matrix=cm,\n                              display_labels=clf_xgb.classes_)\ndisp.plot()\nplt.show()",
   "outputs": [
    {
     "data": {
      "text/plain": "<Figure size 432x288 with 2 Axes>",
      "image/png": "[encoded data removed]"
     },
     "metadata": {
      "needs_background": "light",
      "image/png": {
       "width": 318,
       "height": 262
      }
     },
     "output_type": "display_data"
    }
   ],
   "execution_count": null
  },
  {
   "cell_type": "code",
   "metadata": {
    "datalore": {
     "type": "CODE",
     "hide_input_from_viewers": false,
     "hide_output_from_viewers": false
    },
    "cell_id": "00152-6cc7141b-9e43-4414-ad40-b210dfb66850",
    "deepnote_to_be_reexecuted": false,
    "source_hash": "ec656970",
    "execution_start": 1647918487988,
    "execution_millis": 67,
    "deepnote_app_coordinates": {
     "x": 0,
     "y": 816,
     "w": 12,
     "h": 5
    },
    "deepnote_cell_type": "code",
    "deepnote_cell_height": 829.4000244140625
   },
   "source": "print(\"Recall:\")\n\n# Calculo de recall en Train\ntrain_recall = recall_score(y_train, y_train_pred)\n\n# Calculo de recall en Test\ntest_recall = recall_score(y_test, y_test_pred)\n\nprint('% de recall sobre el set de entrenamiento:', train_recall)\nprint('% de recall sobre el set de evaluación:', test_recall)\n\nprint(\"Precisión:\")\n\n# Calculo de precisión en Train\ntrain_precision = precision_score(y_train, y_train_pred)\n\n# Calculo de precisión en Test\ntest_precision = precision_score(y_test, y_test_pred)\n\nprint('% de precisión sobre el set de entrenamiento:', train_precision)\nprint('% de precisión sobre el set de evaluación:', test_precision)\n\nprint(\"F1 Score:\")\n\n# Calculo de f1 score en Train\ntrain_f1_score = f1_score(y_train, y_train_pred)\n\n# Calculo de f1 score en Test\ntest_f1_score = f1_score(y_test, y_test_pred)\n\nprint('% de f1 score sobre el set de entrenamiento:', train_f1_score)\nprint('% de f1_score sobre el set de evaluación:', test_f1_score)",
   "outputs": [
    {
     "name": "stdout",
     "text": "Recall:\n% de recall sobre el set de entrenamiento: 0.9371944805395706\n% de recall sobre el set de evaluación: 0.9297437374028218\nPrecisión:\n% de precisión sobre el set de entrenamiento: 0.9173834039975772\n% de precisión sobre el set de evaluación: 0.9107319136934142\nF1 Score:\n% de f1 score sobre el set de entrenamiento: 0.9271831287686326\n% de f1_score sobre el set de evaluación: 0.9201396309752796\n",
     "output_type": "stream"
    }
   ],
   "execution_count": null
  },
  {
   "cell_type": "markdown",
   "source": "Al implementar los algoritmos de boosting nos dieron mejores resultados que nuestros primeros algoritmos sin embargo, nuestro algoritmo de Random Forest sigue siendo el que mejor exactitud nos esta entregando con un 95%. Nuestro 2do mejor algoritmo seria el de XgBoost con un 91% de exactitud.",
   "metadata": {
    "datalore": {
     "type": "MD",
     "hide_input_from_viewers": false,
     "hide_output_from_viewers": false
    },
    "cell_id": "00153-6141441e-d902-4ff1-b6e0-f922bf4ba5d1",
    "deepnote_app_coordinates": {
     "x": 0,
     "y": 822,
     "w": 12,
     "h": 5
    },
    "deepnote_cell_type": "markdown",
    "deepnote_cell_height": 96.80000305175781
   }
  },
  {
   "cell_type": "markdown",
   "source": "<a style='text-decoration:none;line-height:16px;display:flex;color:#5B5B62;padding:10px;justify-content:end;' href='https://deepnote.com?utm_source=created-in-deepnote-cell&projectId=3c48f1ed-6b3b-4722-9414-fbe15b9fd114' target=\"_blank\">\n<img alt='Created in deepnote.com' style='display:inline;max-height:16px;margin:0px;margin-right:7.5px;' src='data:image/svg+xml;base64,PD94bWwgdmVyc2lvbj0iMS4wIiBlbmNvZGluZz0iVVRGLTgiPz4KPHN2ZyB3aWR0aD0iODBweCIgaGVpZ2h0PSI4MHB4IiB2aWV3Qm94PSIwIDAgODAgODAiIHZlcnNpb249IjEuMSIgeG1sbnM9Imh0dHA6Ly93d3cudzMub3JnLzIwMDAvc3ZnIiB4bWxuczp4bGluaz0iaHR0cDovL3d3dy53My5vcmcvMTk5OS94bGluayI+CiAgICA8IS0tIEdlbmVyYXRvcjogU2tldGNoIDU0LjEgKDc2NDkwKSAtIGh0dHBzOi8vc2tldGNoYXBwLmNvbSAtLT4KICAgIDx0aXRsZT5Hcm91cCAzPC90aXRsZT4KICAgIDxkZXNjPkNyZWF0ZWQgd2l0aCBTa2V0Y2guPC9kZXNjPgogICAgPGcgaWQ9IkxhbmRpbmciIHN0cm9rZT0ibm9uZSIgc3Ryb2tlLXdpZHRoPSIxIiBmaWxsPSJub25lIiBmaWxsLXJ1bGU9ImV2ZW5vZGQiPgogICAgICAgIDxnIGlkPSJBcnRib2FyZCIgdHJhbnNmb3JtPSJ0cmFuc2xhdGUoLTEyMzUuMDAwMDAwLCAtNzkuMDAwMDAwKSI+CiAgICAgICAgICAgIDxnIGlkPSJHcm91cC0zIiB0cmFuc2Zvcm09InRyYW5zbGF0ZSgxMjM1LjAwMDAwMCwgNzkuMDAwMDAwKSI+CiAgICAgICAgICAgICAgICA8cG9seWdvbiBpZD0iUGF0aC0yMCIgZmlsbD0iIzAyNjVCNCIgcG9pbnRzPSIyLjM3NjIzNzYyIDgwIDM4LjA0NzY2NjcgODAgNTcuODIxNzgyMiA3My44MDU3NTkyIDU3LjgyMTc4MjIgMzIuNzU5MjczOSAzOS4xNDAyMjc4IDMxLjY4MzE2ODMiPjwvcG9seWdvbj4KICAgICAgICAgICAgICAgIDxwYXRoIGQ9Ik0zNS4wMDc3MTgsODAgQzQyLjkwNjIwMDcsNzYuNDU0OTM1OCA0Ny41NjQ5MTY3LDcxLjU0MjI2NzEgNDguOTgzODY2LDY1LjI2MTk5MzkgQzUxLjExMjI4OTksNTUuODQxNTg0MiA0MS42NzcxNzk1LDQ5LjIxMjIyODQgMjUuNjIzOTg0Niw0OS4yMTIyMjg0IEMyNS40ODQ5Mjg5LDQ5LjEyNjg0NDggMjkuODI2MTI5Niw0My4yODM4MjQ4IDM4LjY0NzU4NjksMzEuNjgzMTY4MyBMNzIuODcxMjg3MSwzMi41NTQ0MjUgTDY1LjI4MDk3Myw2Ny42NzYzNDIxIEw1MS4xMTIyODk5LDc3LjM3NjE0NCBMMzUuMDA3NzE4LDgwIFoiIGlkPSJQYXRoLTIyIiBmaWxsPSIjMDAyODY4Ij48L3BhdGg+CiAgICAgICAgICAgICAgICA8cGF0aCBkPSJNMCwzNy43MzA0NDA1IEwyNy4xMTQ1MzcsMC4yNTcxMTE0MzYgQzYyLjM3MTUxMjMsLTEuOTkwNzE3MDEgODAsMTAuNTAwMzkyNyA4MCwzNy43MzA0NDA1IEM4MCw2NC45NjA0ODgyIDY0Ljc3NjUwMzgsNzkuMDUwMzQxNCAzNC4zMjk1MTEzLDgwIEM0Ny4wNTUzNDg5LDc3LjU2NzA4MDggNTMuNDE4MjY3Nyw3MC4zMTM2MTAzIDUzLjQxODI2NzcsNTguMjM5NTg4NSBDNTMuNDE4MjY3Nyw0MC4xMjg1NTU3IDM2LjMwMzk1NDQsMzcuNzMwNDQwNSAyNS4yMjc0MTcsMzcuNzMwNDQwNSBDMTcuODQzMDU4NiwzNy43MzA0NDA1IDkuNDMzOTE5NjYsMzcuNzMwNDQwNSAwLDM3LjczMDQ0MDUgWiIgaWQ9IlBhdGgtMTkiIGZpbGw9IiMzNzkzRUYiPjwvcGF0aD4KICAgICAgICAgICAgPC9nPgogICAgICAgIDwvZz4KICAgIDwvZz4KPC9zdmc+' > </img>\nCreated in <span style='font-weight:600;margin-left:4px;'>Deepnote</span></a>",
   "metadata": {
    "tags": [],
    "created_in_deepnote_cell": true,
    "deepnote_cell_type": "markdown"
   }
  }
 ],
 "nbformat": 4,
 "nbformat_minor": 4,
 "metadata": {
  "datalore": {
   "version": 1,
   "computation_mode": "JUPYTER",
   "package_manager": "pip",
   "base_environment": "default",
   "packages": []
  },
  "deepnote_notebook_id": "dc0805b6-345c-43d3-bc3a-53deca0aee90",
  "deepnote": {},
  "deepnote_execution_queue": [],
  "deepnote_app_layout": "article"
 }
}